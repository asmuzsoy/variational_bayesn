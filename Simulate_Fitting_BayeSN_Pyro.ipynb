{
  "cells": [
    {
      "cell_type": "code",
      "execution_count": 1,
      "metadata": {
        "colab": {
          "base_uri": "https://localhost:8080/"
        },
        "id": "uX96bEWTmND0",
        "outputId": "d6dc4534-21ec-4d92-ff2e-adf9b442f549"
      },
      "outputs": [
        {
          "output_type": "stream",
          "name": "stdout",
          "text": [
            "Looking in indexes: https://pypi.org/simple, https://us-python.pkg.dev/colab-wheels/public/simple/\n",
            "Collecting pyro-ppl\n",
            "  Downloading pyro_ppl-1.8.1-py3-none-any.whl (718 kB)\n",
            "\u001b[K     |████████████████████████████████| 718 kB 3.9 MB/s \n",
            "\u001b[?25hRequirement already satisfied: tqdm>=4.36 in /usr/local/lib/python3.7/dist-packages (from pyro-ppl) (4.64.0)\n",
            "Requirement already satisfied: numpy>=1.7 in /usr/local/lib/python3.7/dist-packages (from pyro-ppl) (1.21.6)\n",
            "Collecting pyro-api>=0.1.1\n",
            "  Downloading pyro_api-0.1.2-py3-none-any.whl (11 kB)\n",
            "Requirement already satisfied: opt-einsum>=2.3.2 in /usr/local/lib/python3.7/dist-packages (from pyro-ppl) (3.3.0)\n",
            "Requirement already satisfied: torch>=1.11.0 in /usr/local/lib/python3.7/dist-packages (from pyro-ppl) (1.12.1+cu113)\n",
            "Requirement already satisfied: typing-extensions in /usr/local/lib/python3.7/dist-packages (from torch>=1.11.0->pyro-ppl) (4.1.1)\n",
            "Installing collected packages: pyro-api, pyro-ppl\n",
            "Successfully installed pyro-api-0.1.2 pyro-ppl-1.8.1\n"
          ]
        }
      ],
      "source": [
        "!pip3 install pyro-ppl "
      ]
    },
    {
      "cell_type": "code",
      "execution_count": 2,
      "metadata": {
        "colab": {
          "base_uri": "https://localhost:8080/"
        },
        "id": "TLPeho_PRgNP",
        "outputId": "ca7c4267-ed00-49be-e849-927b060d63e6"
      },
      "outputs": [
        {
          "output_type": "stream",
          "name": "stdout",
          "text": [
            "Looking in indexes: https://pypi.org/simple, https://us-python.pkg.dev/colab-wheels/public/simple/\n",
            "Collecting extinction\n",
            "  Downloading extinction-0.4.6-cp37-cp37m-manylinux_2_5_x86_64.manylinux1_x86_64.manylinux_2_12_x86_64.manylinux2010_x86_64.whl (418 kB)\n",
            "\u001b[K     |████████████████████████████████| 418 kB 4.2 MB/s \n",
            "\u001b[?25hRequirement already satisfied: numpy>=1.13.3 in /usr/local/lib/python3.7/dist-packages (from extinction) (1.21.6)\n",
            "Installing collected packages: extinction\n",
            "Successfully installed extinction-0.4.6\n"
          ]
        }
      ],
      "source": [
        "!pip install extinction"
      ]
    },
    {
      "cell_type": "code",
      "execution_count": 1,
      "metadata": {
        "colab": {
          "base_uri": "https://localhost:8080/"
        },
        "id": "CEoYgJc5EOdo",
        "outputId": "eac00e78-2038-439b-ba55-9e8e4c264561"
      },
      "outputs": [
        {
          "output_type": "stream",
          "name": "stdout",
          "text": [
            "Looking in indexes: https://pypi.org/simple, https://us-python.pkg.dev/colab-wheels/public/simple/\n",
            "Collecting corner\n",
            "  Downloading corner-2.2.1-py3-none-any.whl (15 kB)\n",
            "Requirement already satisfied: matplotlib>=2.1 in /usr/local/lib/python3.7/dist-packages (from corner) (3.2.2)\n",
            "Requirement already satisfied: cycler>=0.10 in /usr/local/lib/python3.7/dist-packages (from matplotlib>=2.1->corner) (0.11.0)\n",
            "Requirement already satisfied: pyparsing!=2.0.4,!=2.1.2,!=2.1.6,>=2.0.1 in /usr/local/lib/python3.7/dist-packages (from matplotlib>=2.1->corner) (3.0.9)\n",
            "Requirement already satisfied: numpy>=1.11 in /usr/local/lib/python3.7/dist-packages (from matplotlib>=2.1->corner) (1.21.6)\n",
            "Requirement already satisfied: kiwisolver>=1.0.1 in /usr/local/lib/python3.7/dist-packages (from matplotlib>=2.1->corner) (1.4.4)\n",
            "Requirement already satisfied: python-dateutil>=2.1 in /usr/local/lib/python3.7/dist-packages (from matplotlib>=2.1->corner) (2.8.2)\n",
            "Requirement already satisfied: typing-extensions in /usr/local/lib/python3.7/dist-packages (from kiwisolver>=1.0.1->matplotlib>=2.1->corner) (4.1.1)\n",
            "Requirement already satisfied: six>=1.5 in /usr/local/lib/python3.7/dist-packages (from python-dateutil>=2.1->matplotlib>=2.1->corner) (1.15.0)\n",
            "Installing collected packages: corner\n",
            "Successfully installed corner-2.2.1\n"
          ]
        }
      ],
      "source": [
        "!pip install corner"
      ]
    },
    {
      "cell_type": "code",
      "execution_count": 4,
      "metadata": {
        "id": "KBzYw-1Tsgfe"
      },
      "outputs": [],
      "source": [
        "# !gdown https://drive.google.com/uc?id=1Yr5XqzWiCrHPW-u8B0wSXXxpx8jWIaCW"
      ]
    },
    {
      "cell_type": "code",
      "execution_count": 2,
      "metadata": {
        "id": "9xkM4Rl_RQdX",
        "colab": {
          "base_uri": "https://localhost:8080/",
          "height": 391
        },
        "outputId": "92a59398-c094-42d4-ec54-268e05ab0fc4"
      },
      "outputs": [
        {
          "output_type": "error",
          "ename": "ModuleNotFoundError",
          "evalue": "ignored",
          "traceback": [
            "\u001b[0;31m---------------------------------------------------------------------------\u001b[0m",
            "\u001b[0;31mModuleNotFoundError\u001b[0m                       Traceback (most recent call last)",
            "\u001b[0;32m<ipython-input-2-ad77a980cd4f>\u001b[0m in \u001b[0;36m<module>\u001b[0;34m\u001b[0m\n\u001b[1;32m     12\u001b[0m \u001b[0;32mimport\u001b[0m \u001b[0mtime\u001b[0m\u001b[0;34m\u001b[0m\u001b[0;34m\u001b[0m\u001b[0m\n\u001b[1;32m     13\u001b[0m \u001b[0;34m\u001b[0m\u001b[0m\n\u001b[0;32m---> 14\u001b[0;31m \u001b[0;32mimport\u001b[0m \u001b[0mpyro\u001b[0m\u001b[0;34m\u001b[0m\u001b[0;34m\u001b[0m\u001b[0m\n\u001b[0m\u001b[1;32m     15\u001b[0m \u001b[0;34m\u001b[0m\u001b[0m\n\u001b[1;32m     16\u001b[0m \u001b[0;32mimport\u001b[0m \u001b[0mpyro\u001b[0m\u001b[0;34m.\u001b[0m\u001b[0mdistributions\u001b[0m \u001b[0;32mas\u001b[0m \u001b[0mdist\u001b[0m\u001b[0;34m\u001b[0m\u001b[0;34m\u001b[0m\u001b[0m\n",
            "\u001b[0;31mModuleNotFoundError\u001b[0m: No module named 'pyro'",
            "",
            "\u001b[0;31m---------------------------------------------------------------------------\u001b[0;32m\nNOTE: If your import is failing due to a missing package, you can\nmanually install dependencies using either !pip or !apt.\n\nTo view examples of installing some common dependencies, click the\n\"Open Examples\" button below.\n\u001b[0;31m---------------------------------------------------------------------------\u001b[0m\n"
          ],
          "errorDetails": {
            "actions": [
              {
                "action": "open_url",
                "actionText": "Open Examples",
                "url": "/notebooks/snippets/importing_libraries.ipynb"
              }
            ]
          }
        }
      ],
      "source": [
        "import logging\n",
        "import os\n",
        "\n",
        "import torch\n",
        "import numpy as np\n",
        "import pandas as pd\n",
        "import seaborn as sns\n",
        "import matplotlib.pyplot as plt\n",
        "import matplotlib.lines as mlines\n",
        "import matplotlib.colors as colors\n",
        "import corner\n",
        "import time\n",
        "\n",
        "import pyro\n",
        "\n",
        "import pyro.distributions as dist\n",
        "import pyro.distributions.constraints as constraints\n",
        "from pyro.infer import SVI, Trace_ELBO, MCMC, NUTS, Predictive\n",
        "from pyro.optim import Adam\n",
        "\n",
        "from scipy.interpolate import interp1d\n",
        "import h5py\n",
        "import extinction\n",
        "\n",
        "from astropy.cosmology import FlatLambdaCDM\n",
        "\n",
        "from spline_hsiao_fns import *"
      ]
    },
    {
      "cell_type": "markdown",
      "metadata": {
        "id": "syqWBFKbDk8B"
      },
      "source": [
        "##Get constants from files"
      ]
    },
    {
      "cell_type": "code",
      "execution_count": 5,
      "metadata": {
        "id": "AlhMMde4mIBy"
      },
      "outputs": [],
      "source": [
        "W0 = np.loadtxt(\"W0_T21.txt\")\n",
        "W1 = np.loadtxt(\"W1_T21.txt\")\n",
        "time_knots = np.loadtxt(\"tau_knots_T21.txt\")\n",
        "wavelength_knots = np.loadtxt(\"l_knots_T21.txt\")\n",
        "L_sigma_epsilon = np.loadtxt(\"L_Sigma_epsilon_T21.txt\")\n",
        "M0, sigma0, rv, tauA = np.loadtxt(\"M0_sigma0_RV_tauA_T21.txt\")"
      ]
    },
    {
      "cell_type": "code",
      "execution_count": 6,
      "metadata": {
        "id": "vdSkGKgr4S5R"
      },
      "outputs": [],
      "source": [
        "g_wavelengths, _, g_norm_throughput = np.loadtxt(\"g_PS1.txt\", skiprows = 2, unpack = True)\n",
        "r_wavelengths, _, r_norm_throughput = np.loadtxt(\"r_PS1.txt\", skiprows = 2, unpack = True)\n",
        "i_wavelengths, _, i_norm_throughput = np.loadtxt(\"i_PS1.txt\", skiprows = 2, unpack = True)\n",
        "z_wavelengths, _, z_norm_throughput = np.loadtxt(\"z_PS1.txt\", skiprows = 2, unpack = True)"
      ]
    },
    {
      "cell_type": "code",
      "execution_count": 7,
      "metadata": {
        "id": "9FafFqGYWwV2"
      },
      "outputs": [],
      "source": [
        "cosmo = FlatLambdaCDM(H0 = 73.24, Om0 = 0.28)\n",
        "z = pyro.sample(\"z\", dist.Uniform(0.015, 0.08)).numpy()\n",
        "true_mu_s = cosmo.distmod(z).value\n",
        "\n",
        "EBV_MW = 0.\n",
        "\n",
        "ZPT = 27.5\n",
        "# M0 = -19.5\n",
        "gamma = np.log(10) / 2.5\n",
        "\n",
        "Av_obs = EBV_MW * 3.1"
      ]
    },
    {
      "cell_type": "code",
      "execution_count": 8,
      "metadata": {
        "colab": {
          "base_uri": "https://localhost:8080/"
        },
        "id": "tWI__JeZDYTq",
        "outputId": "05394956-b854-4ace-9c0c-846daa855876"
      },
      "outputs": [
        {
          "output_type": "execute_result",
          "data": {
            "text/plain": [
              "36.716721556111054"
            ]
          },
          "metadata": {},
          "execution_count": 8
        }
      ],
      "source": [
        "cosmo.distmod(z).value"
      ]
    },
    {
      "cell_type": "code",
      "execution_count": 9,
      "metadata": {
        "colab": {
          "base_uri": "https://localhost:8080/"
        },
        "id": "iahR4Y-uDWbt",
        "outputId": "1e83edd7-e73a-4850-afce-c00e7ab874b7"
      },
      "outputs": [
        {
          "output_type": "execute_result",
          "data": {
            "text/plain": [
              "tensor(36.7167, dtype=torch.float64)"
            ]
          },
          "metadata": {},
          "execution_count": 9
        }
      ],
      "source": [
        "torch.as_tensor(cosmo.distmod(z))"
      ]
    },
    {
      "cell_type": "code",
      "execution_count": 11,
      "metadata": {
        "id": "n12k2TIBGxd0",
        "colab": {
          "base_uri": "https://localhost:8080/"
        },
        "outputId": "afa94f57-129f-48a7-b66c-6ec1235c588e"
      },
      "outputs": [
        {
          "output_type": "stream",
          "name": "stdout",
          "text": [
            "0.022964673\n"
          ]
        }
      ],
      "source": [
        "dMs = 0.\n",
        "# true_theta = pyro.sample(\"theta\", dist.Uniform(-1.49,2.77)).numpy() #for W22\n",
        "true_theta = pyro.sample(\"theta\", dist.Uniform(-1.33,2.78)).numpy() # for T21\n",
        "\n",
        "true_Av = pyro.sample(\"Av\", dist.Exponential(1 / tauA)).numpy()\n",
        "print(true_Av)\n",
        "# Rv = 2.659\n",
        "\n",
        "eps_cov = torch.as_tensor(np.matmul(L_sigma_epsilon, L_sigma_epsilon.T), dtype = torch.float)\n",
        "# epsilon_interior = pyro.sample(\"eps_int\", dist.MultivariateNormal(torch.zeros(len(eps_cov)), covariance_matrix = eps_cov))\n",
        "\n",
        "true_nu = pyro.sample(\"nu\", dist.MultivariateNormal(torch.zeros(len(eps_cov)), covariance_matrix = torch.eye(len(eps_cov))))\n",
        "# true_nu = torch.zeros(54)\n",
        "true_epsilon_interior = np.matmul(L_sigma_epsilon, true_nu.numpy().T)\n",
        "\n",
        "tmax = pyro.sample(\"tmax\", dist.Uniform(57100,57800)).numpy()\n",
        "tfirst = pyro.sample(\"tfirst\", dist.Uniform(float(tmax) - 10, float(tmax) - 5)).numpy()\n",
        "times_MJD = np.array([tfirst + 6*i for i in range(6)])\n",
        "times = (times_MJD - tmax) / (1 + z)"
      ]
    },
    {
      "cell_type": "code",
      "execution_count": 12,
      "metadata": {
        "colab": {
          "base_uri": "https://localhost:8080/"
        },
        "id": "zJLqcguwhkQK",
        "outputId": "290d34c3-6f4d-4b84-f0b1-e0362f61b662"
      },
      "outputs": [
        {
          "output_type": "execute_result",
          "data": {
            "text/plain": [
              "(24, 24)"
            ]
          },
          "metadata": {},
          "execution_count": 12
        }
      ],
      "source": [
        "L_sigma_epsilon.shape"
      ]
    },
    {
      "cell_type": "code",
      "execution_count": 13,
      "metadata": {
        "colab": {
          "base_uri": "https://localhost:8080/"
        },
        "id": "3o6cSvXLJ6Yi",
        "outputId": "e3d5eada-78fa-4388-b97a-6d11f242c8ab"
      },
      "outputs": [
        {
          "output_type": "execute_result",
          "data": {
            "text/plain": [
              "array([-6.37684471, -0.67222417,  5.03239638, 10.73701693, 16.44163748,\n",
              "       22.14625803])"
            ]
          },
          "metadata": {},
          "execution_count": 13
        }
      ],
      "source": [
        "times"
      ]
    },
    {
      "cell_type": "code",
      "execution_count": 14,
      "metadata": {
        "id": "3O3U1dd3wlGW"
      },
      "outputs": [],
      "source": [
        "hsiao_phase, hsiao_wave, hsiao_flux = read_model_grid()"
      ]
    },
    {
      "cell_type": "markdown",
      "metadata": {
        "id": "TqpkG4FUH6jF"
      },
      "source": [
        "Things we can pre-calculate\n",
        "---\n",
        "\n"
      ]
    },
    {
      "cell_type": "code",
      "execution_count": 15,
      "metadata": {
        "id": "d3FwBBvNNMUe"
      },
      "outputs": [],
      "source": [
        "def get_lambda_int_for_band(band_wavelengths, z = z):\n",
        "  source_wavelengths = band_wavelengths / (1 + z)\n",
        "  return np.linspace(min(source_wavelengths), max(source_wavelengths), 75)"
      ]
    },
    {
      "cell_type": "code",
      "execution_count": 16,
      "metadata": {
        "id": "RfUeX01sH3Cs"
      },
      "outputs": [],
      "source": [
        "# times_to_interpolate = np.linspace(-10, 40)\n",
        "times_to_interpolate = times\n",
        "wavelengths_to_interpolate = get_lambda_int_for_band(z_wavelengths)"
      ]
    },
    {
      "cell_type": "code",
      "execution_count": 17,
      "metadata": {
        "id": "2YhpMi-cIBLe"
      },
      "outputs": [],
      "source": [
        "Jt = spline_coeffs_irr(times_to_interpolate, time_knots, invKD_irr(time_knots))\n",
        "Jl = spline_coeffs_irr(wavelengths_to_interpolate, wavelength_knots, invKD_irr(wavelength_knots))"
      ]
    },
    {
      "cell_type": "code",
      "execution_count": 18,
      "metadata": {
        "colab": {
          "base_uri": "https://localhost:8080/"
        },
        "id": "mC0ECO3UISkT",
        "outputId": "cbe31d23-3177-40ed-84f9-aab8c90c83df"
      },
      "outputs": [
        {
          "output_type": "execute_result",
          "data": {
            "text/plain": [
              "(75, 6)"
            ]
          },
          "metadata": {},
          "execution_count": 18
        }
      ],
      "source": [
        "xis = extinction.fitzpatrick99(wavelengths_to_interpolate, 1, rv)\n",
        "xis_matrix = np.tile(xis, (len(times_to_interpolate),1)).T\n",
        "xis_matrix.shape"
      ]
    },
    {
      "cell_type": "code",
      "execution_count": 19,
      "metadata": {
        "id": "6Xg0FtqVODJf"
      },
      "outputs": [],
      "source": [
        "## interpolate Hsiao coefficient at desired time and wavelength points\n",
        "S0 = np.zeros((len(wavelengths_to_interpolate), len(times_to_interpolate)))\n",
        "for i, wavelength in enumerate(wavelengths_to_interpolate):\n",
        "  for j, time_point in enumerate(times_to_interpolate):\n",
        "    S0[i][j] = interpolate_hsiao(time_point, wavelength, hsiao_phase, hsiao_wave, hsiao_flux)"
      ]
    },
    {
      "cell_type": "code",
      "execution_count": 20,
      "metadata": {
        "colab": {
          "base_uri": "https://localhost:8080/"
        },
        "id": "Jg3xJNWXcli7",
        "outputId": "fa021256-04e7-45b4-a17a-a22903db3f6e"
      },
      "outputs": [
        {
          "output_type": "execute_result",
          "data": {
            "text/plain": [
              "(7940.157995219609, 9440.39335807811)"
            ]
          },
          "metadata": {},
          "execution_count": 20
        }
      ],
      "source": [
        "min(wavelengths_to_interpolate * (1 + z)), max(wavelengths_to_interpolate * (1 + z))"
      ]
    },
    {
      "cell_type": "code",
      "execution_count": 21,
      "metadata": {
        "colab": {
          "base_uri": "https://localhost:8080/"
        },
        "id": "KyWe3PR_cr_s",
        "outputId": "575bea8c-e395-43d7-afbf-94bdccda7032"
      },
      "outputs": [
        {
          "output_type": "execute_result",
          "data": {
            "text/plain": [
              "(7940.157995219609, 9440.39335807811)"
            ]
          },
          "metadata": {},
          "execution_count": 21
        }
      ],
      "source": [
        "min(z_wavelengths), max(z_wavelengths)"
      ]
    },
    {
      "cell_type": "code",
      "execution_count": 22,
      "metadata": {
        "colab": {
          "base_uri": "https://localhost:8080/"
        },
        "id": "BXSGedSqKkDv",
        "outputId": "2a76edf2-a3f7-4d86-b32a-3e6c7a9c2c97"
      },
      "outputs": [
        {
          "output_type": "execute_result",
          "data": {
            "text/plain": [
              "(75,)"
            ]
          },
          "metadata": {},
          "execution_count": 22
        }
      ],
      "source": [
        "throughput_interpolator = interp1d(z_wavelengths, z_norm_throughput)\n",
        "## I was getting a floating point problem so I fixed it by removing the last value of wavelengths_to_interpolate (1 + z) and replacing it with the max value\n",
        "## z_wavelengths, which it should be anyways.\n",
        "b = throughput_interpolator([z_wavelengths[0]] + list(wavelengths_to_interpolate[1:-1] * (1 + z)) + [z_wavelengths[-1]])\n",
        "\n",
        "\n",
        "xis_obs = extinction.fitzpatrick99(wavelengths_to_interpolate*(1 + z), Av_obs, 3.1)\n",
        "dLambda = wavelengths_to_interpolate[1] - wavelengths_to_interpolate[0]\n",
        "h = (1 + z) * dLambda * b * wavelengths_to_interpolate * np.exp(-gamma * xis_obs)\n",
        "h.shape"
      ]
    },
    {
      "cell_type": "markdown",
      "metadata": {
        "id": "xSsgOlheES3S"
      },
      "source": [
        "## Simulating a curve"
      ]
    },
    {
      "cell_type": "code",
      "execution_count": 23,
      "metadata": {
        "id": "6TZOsN8zUYJX"
      },
      "outputs": [],
      "source": [
        "def get_flux_from_params(epsilon_interior, theta, mu_s, dMs, Av, W0 = W0, W1 = W1, xis_matrix = xis_matrix, S0 = S0, h = h, Jl = Jl, Jt = Jt, uncertainty = True):\n",
        "\n",
        "  epsilon = np.zeros_like(W0)   ## populate epsilon matrix\n",
        "  epsilon[1:-1] = epsilon_interior.numpy().reshape((4,6), order = 'F') # should be (9,6) for W22\n",
        "\n",
        "  W = W0 + theta.numpy()*W1 + epsilon\n",
        "\n",
        "  JlWJt = np.matmul(Jl, np.matmul(W, Jt.T))\n",
        "\n",
        "  Stilde = S0 * np.exp(-gamma * (JlWJt + Av.numpy() * xis_matrix))\n",
        "\n",
        "  # f = (10**(0.4 * (ZPT - mu_s.numpy() - M0 - dMs.numpy())) * np.matmul(h,Stilde))\n",
        "  # return f\n",
        "\n",
        "  if uncertainty:\n",
        "    f = torch.as_tensor(10**(0.4 * (ZPT - mu_s.numpy() - M0 - dMs.numpy())) * np.matmul(h,Stilde))\n",
        "\n",
        "    f_obs = pyro.sample(\"f_obs\", dist.Normal(f, 0.02 * f)).numpy()\n",
        "    return f_obs\n",
        "  else:\n",
        "    f = (10**(0.4 * (ZPT - mu_s.numpy() - M0 - dMs.numpy())) * np.matmul(h,Stilde))\n",
        "    return f\n"
      ]
    },
    {
      "cell_type": "code",
      "execution_count": 24,
      "metadata": {
        "id": "D0UoXMMkEVTx"
      },
      "outputs": [],
      "source": [
        "flux = get_flux_from_params(torch.as_tensor(true_epsilon_interior), torch.as_tensor(true_theta), torch.as_tensor(true_mu_s), torch.as_tensor(dMs), torch.as_tensor(true_Av))"
      ]
    },
    {
      "cell_type": "code",
      "execution_count": 25,
      "metadata": {
        "colab": {
          "base_uri": "https://localhost:8080/",
          "height": 283
        },
        "id": "TqcXJ6yoLsMZ",
        "outputId": "52054470-c43e-4885-fe61-1c61e3829a17"
      },
      "outputs": [
        {
          "output_type": "execute_result",
          "data": {
            "text/plain": [
              "[<matplotlib.lines.Line2D at 0x7f3d8a477dd0>]"
            ]
          },
          "metadata": {},
          "execution_count": 25
        },
        {
          "output_type": "display_data",
          "data": {
            "text/plain": [
              "<Figure size 432x288 with 1 Axes>"
            ],
            "image/png": "[encoded data removed]"
          },
          "metadata": {
            "needs_background": "light"
          }
        }
      ],
      "source": [
        "plt.plot(times, flux, 'o')"
      ]
    },
    {
      "cell_type": "markdown",
      "metadata": {
        "id": "a5pfrZXMXlbi"
      },
      "source": [
        "Simulate for all bands at once"
      ]
    },
    {
      "cell_type": "code",
      "execution_count": 26,
      "metadata": {
        "id": "it6gBu9ZXk4L"
      },
      "outputs": [],
      "source": [
        "times_to_interpolate = times\n",
        "Jt = spline_coeffs_irr(times_to_interpolate, time_knots, invKD_irr(time_knots))\n",
        "\n",
        "wavelengths_dict = {'g':g_wavelengths, 'r':r_wavelengths, 'i':i_wavelengths, 'z':z_wavelengths}\n",
        "norm_throughput_dict = {'g':g_norm_throughput, 'r':r_norm_throughput, 'i':i_norm_throughput, 'z':z_norm_throughput}\n",
        "\n",
        "bands = ['g', 'r', 'i', 'z']\n",
        "all_band_fluxes = []\n",
        "\n",
        "band_Jl = {}\n",
        "band_xis_matrix = {}\n",
        "band_S0 = {}\n",
        "band_h = {}\n",
        "\n",
        "for band in bands:\n",
        "  band_wavelengths = wavelengths_dict[band]\n",
        "  band_norm_throughput = norm_throughput_dict[band]\n",
        "\n",
        "  wavelengths_to_interpolate = get_lambda_int_for_band(band_wavelengths)\n",
        "  \n",
        "  Jl = spline_coeffs_irr(wavelengths_to_interpolate, wavelength_knots, invKD_irr(wavelength_knots))\n",
        "  band_Jl[band] = Jl\n",
        "  xis = extinction.fitzpatrick99(wavelengths_to_interpolate, 1, rv)\n",
        "  xis_matrix = np.tile(xis, (len(times_to_interpolate),1)).T\n",
        "  band_xis_matrix[band] = xis_matrix\n",
        "\n",
        "  S0 = np.zeros((len(wavelengths_to_interpolate), len(times_to_interpolate)))\n",
        "  for i, wavelength in enumerate(wavelengths_to_interpolate):\n",
        "    for j, time_point in enumerate(times_to_interpolate):\n",
        "      S0[i][j] = interpolate_hsiao(time_point, wavelength, hsiao_phase, hsiao_wave, hsiao_flux)\n",
        "\n",
        "  band_S0[band] = S0\n",
        "\n",
        "  throughput_interpolator = interp1d(band_wavelengths, band_norm_throughput)\n",
        "  b = throughput_interpolator([band_wavelengths[0]] + list(wavelengths_to_interpolate[1:-1] * (1 + z)) + [band_wavelengths[-1]])\n",
        "\n",
        "  xis_obs = extinction.fitzpatrick99(wavelengths_to_interpolate*(1 + z), Av_obs, 3.1)\n",
        "  dLambda = wavelengths_to_interpolate[1] - wavelengths_to_interpolate[0]\n",
        "  h = (1 + z) * dLambda * b * wavelengths_to_interpolate * np.exp(-gamma * xis_obs)\n",
        "\n",
        "  band_h[band] = h\n",
        "\n",
        "  band_flux = get_flux_from_params(torch.as_tensor(true_epsilon_interior), torch.as_tensor(true_theta), \n",
        "                              torch.as_tensor(true_mu_s), torch.as_tensor(dMs), torch.as_tensor(true_Av),\n",
        "                              xis_matrix = xis_matrix, S0 = S0, h = h, Jt = Jt, Jl = Jl)\n",
        "  \n",
        "  all_band_fluxes.append(band_flux)\n",
        "\n",
        "all_band_fluxes = np.array(all_band_fluxes)"
      ]
    },
    {
      "cell_type": "code",
      "source": [
        "def get_flux_from_params2(epsilon_interior, theta, mu_s, dMs, Av, W0 = W0, W1 = W1, xis_matrix = xis_matrix, S0 = S0, h = h, Jl = Jl, Jt = Jt, uncertainty = True):\n",
        "\n",
        "  epsilon = np.zeros_like(W0)   ## populate epsilon matrix\n",
        "  epsilon[1:-1] = epsilon_interior.numpy().reshape((4,6), order = 'F') # should be (9,6) for W22\n",
        "\n",
        "  W = W0 + theta.numpy()*W1 + epsilon\n",
        "\n",
        "  JlWJt = np.matmul(Jl, np.matmul(W, Jt.T))\n",
        "\n",
        "  Stilde = S0 * np.exp(-gamma * (JlWJt.numpy() + Av.numpy() * xis_matrix))\n",
        "\n",
        "  # f = 10**(0.4 * (ZPT - mu_s.numpy() - M0 - dMs.numpy())) * np.matmul(h,Stilde)\n",
        "\n",
        "  # return f\n",
        "\n",
        "  if uncertainty:\n",
        "    f = torch.as_tensor(10**(0.4 * (ZPT - mu_s.numpy() - M0 - dMs.numpy())) * np.matmul(h,Stilde))\n",
        "\n",
        "    f_obs = pyro.sample(\"f_obs\", dist.Normal(f, 0.02 * f)).numpy()\n",
        "    return f_obs\n",
        "  else:\n",
        "    f = 10**(0.4 * (ZPT - mu_s.numpy() - M0 - dMs.numpy())) * np.matmul(h,Stilde)\n",
        "    return f\n",
        "\n"
      ],
      "metadata": {
        "id": "hQNwSqjWSb22"
      },
      "execution_count": 27,
      "outputs": []
    },
    {
      "cell_type": "code",
      "execution_count": 28,
      "metadata": {
        "id": "a-VmGdjyRf5-"
      },
      "outputs": [],
      "source": [
        "def get_band_specific_stuff(times, z, true_epsilon_interior, true_theta, true_mu_s, true_Av, dMs = 0, rv = rv):\n",
        "  times_to_interpolate = times\n",
        "  Jt = torch.as_tensor(spline_coeffs_irr(times_to_interpolate, time_knots, invKD_irr(time_knots)))\n",
        "\n",
        "  wavelengths_dict = {'g':g_wavelengths, 'r':r_wavelengths, 'i':i_wavelengths, 'z':z_wavelengths}\n",
        "  norm_throughput_dict = {'g':g_norm_throughput, 'r':r_norm_throughput, 'i':i_norm_throughput, 'z':z_norm_throughput}\n",
        "\n",
        "  bands = ['g', 'r', 'i', 'z']\n",
        "  all_band_fluxes = []\n",
        "\n",
        "  band_Jl = {}\n",
        "  band_xis_matrix = {}\n",
        "  band_S0 = {}\n",
        "  band_h = {}\n",
        "\n",
        "  for band in bands:\n",
        "    band_wavelengths = wavelengths_dict[band]\n",
        "    band_norm_throughput = norm_throughput_dict[band]\n",
        "\n",
        "    wavelengths_to_interpolate = get_lambda_int_for_band(band_wavelengths, z)\n",
        "    \n",
        "    Jl = spline_coeffs_irr(wavelengths_to_interpolate, wavelength_knots, invKD_irr(wavelength_knots))\n",
        "    band_Jl[band] = torch.as_tensor(Jl)\n",
        "    xis = extinction.fitzpatrick99(wavelengths_to_interpolate, 1, rv)\n",
        "    xis_matrix = np.tile(xis, (len(times_to_interpolate),1)).T\n",
        "    band_xis_matrix[band] = torch.as_tensor(xis_matrix)\n",
        "\n",
        "    S0 = np.zeros((len(wavelengths_to_interpolate), len(times_to_interpolate)))\n",
        "    for i, wavelength in enumerate(wavelengths_to_interpolate):\n",
        "      for j, time_point in enumerate(times_to_interpolate):\n",
        "        S0[i][j] = interpolate_hsiao(time_point, wavelength, hsiao_phase, hsiao_wave, hsiao_flux)\n",
        "\n",
        "    band_S0[band] = torch.as_tensor(S0)\n",
        "\n",
        "    throughput_interpolator = interp1d(band_wavelengths, band_norm_throughput)\n",
        "    b = throughput_interpolator([band_wavelengths[0]] + list(wavelengths_to_interpolate[1:-1] * (1 + z)) + [band_wavelengths[-1]])\n",
        "\n",
        "    xis_obs = extinction.fitzpatrick99(wavelengths_to_interpolate*(1 + z), Av_obs, 3.1)\n",
        "    dLambda = wavelengths_to_interpolate[1] - wavelengths_to_interpolate[0]\n",
        "    h = (1 + z) * dLambda * b * wavelengths_to_interpolate * np.exp(-gamma * xis_obs)\n",
        "\n",
        "    band_h[band] = torch.as_tensor(h)\n",
        "\n",
        "    band_flux = get_flux_from_params2(torch.as_tensor(true_epsilon_interior), torch.as_tensor(true_theta), \n",
        "                                torch.as_tensor(true_mu_s), torch.as_tensor(dMs), torch.as_tensor(true_Av),\n",
        "                                xis_matrix = xis_matrix, S0 = S0, h = h, Jt = Jt, Jl = Jl)\n",
        "    \n",
        "    all_band_fluxes.append(band_flux)\n",
        "\n",
        "  all_band_fluxes = np.array(all_band_fluxes)\n",
        "\n",
        "  return Jt, band_Jl, band_xis_matrix, band_S0, band_h, torch.as_tensor(all_band_fluxes)"
      ]
    },
    {
      "cell_type": "code",
      "execution_count": 29,
      "metadata": {
        "colab": {
          "base_uri": "https://localhost:8080/"
        },
        "id": "i7bvIJGfYQOa",
        "outputId": "0689ff9e-8092-4c1e-a7f0-bd3b816ccaef"
      },
      "outputs": [
        {
          "output_type": "execute_result",
          "data": {
            "text/plain": [
              "array([[11704.63747702, 12578.41191397, 12221.79839223,  9237.05648068,\n",
              "         5477.93276194,  3401.54818535],\n",
              "       [ 8953.60097736, 11284.48325694, 11083.6425211 , 10051.23081166,\n",
              "         7022.9648008 ,  6132.57489858],\n",
              "       [ 7440.52476831,  5411.01384338,  5753.22551535,  4991.68558442,\n",
              "         3871.31080806,  3656.58999963],\n",
              "       [ 5893.68648184,  5734.26774646,  5050.00710688,  4561.1164243 ,\n",
              "         3686.64800835,  3462.78517569]])"
            ]
          },
          "metadata": {},
          "execution_count": 29
        }
      ],
      "source": [
        "all_band_fluxes"
      ]
    },
    {
      "cell_type": "markdown",
      "metadata": {
        "id": "cRfrnIM4KBQ1"
      },
      "source": [
        "Now let's actually make the model\n",
        "---"
      ]
    },
    {
      "cell_type": "code",
      "execution_count": 30,
      "metadata": {
        "colab": {
          "base_uri": "https://localhost:8080/"
        },
        "id": "958SGvQ6LjO_",
        "outputId": "462744cc-4bf4-475f-c499-2331e2aaf2c1"
      },
      "outputs": [
        {
          "output_type": "execute_result",
          "data": {
            "text/plain": [
              "(array(-1.2701544, dtype=float32),\n",
              " 36.716721556111054,\n",
              " array(0.02296467, dtype=float32))"
            ]
          },
          "metadata": {},
          "execution_count": 30
        }
      ],
      "source": [
        "true_theta, true_mu_s, true_Av"
      ]
    },
    {
      "cell_type": "code",
      "execution_count": 31,
      "metadata": {
        "colab": {
          "base_uri": "https://localhost:8080/"
        },
        "id": "F3sJTuiCWVjl",
        "outputId": "cee56a17-41c8-4b15-aa19-3e9194abbfb2"
      },
      "outputs": [
        {
          "output_type": "execute_result",
          "data": {
            "text/plain": [
              "tensor([-0.9242,  0.1269, -3.1389,  0.8554,  1.2690, -0.0299,  1.5995, -0.6322,\n",
              "         0.1864, -1.4354, -1.0126, -1.4540, -1.3798, -1.2141, -1.2266, -1.0707,\n",
              "        -1.3048,  0.4199,  1.4040, -1.5989, -1.8998,  1.0125, -0.4312, -1.5360])"
            ]
          },
          "metadata": {},
          "execution_count": 31
        }
      ],
      "source": [
        "true_nu"
      ]
    },
    {
      "cell_type": "code",
      "execution_count": 32,
      "metadata": {
        "id": "UjTx4CPiGlwn"
      },
      "outputs": [],
      "source": [
        "observed_z = pyro.sample(\"observed_z\", dist.Normal(torch.as_tensor(z), 1.e-4))\n",
        "mu_mean = torch.as_tensor(cosmo.distmod(observed_z.numpy()).value)"
      ]
    },
    {
      "cell_type": "code",
      "execution_count": 33,
      "metadata": {
        "id": "ZJgVfDp0MTaT"
      },
      "outputs": [],
      "source": [
        "def model_vi(obs):\n",
        "  # epsilon_interior = pyro.sample(\"eps_int\", dist.MultivariateNormal(torch.zeros(len(eps_cov)), covariance_matrix = eps_cov))\n",
        "\n",
        "  nu = pyro.sample(\"nu\", dist.MultivariateNormal(torch.zeros(len(eps_cov)), covariance_matrix = torch.eye(len(eps_cov))))\n",
        "  # nu = torch.zeros(54)\n",
        "  epsilon_interior = torch.matmul(torch.as_tensor(L_sigma_epsilon, dtype = torch.float), nu.float())\n",
        "  # print(epsilon_interior)\n",
        "\n",
        "  # theta = pyro.sample(\"theta\", dist.Uniform(low=-1.49, high=2.77))\n",
        "  theta = pyro.sample(\"theta\", dist.Normal(0., 1.0))\n",
        "  # theta = torch.as_tensor(0.03430605)\n",
        "\n",
        "  # theta = torch.as_tensor(-0.9835187)\n",
        "  mu_s = pyro.sample(\"mu_s\", dist.Normal(mu_mean, 10.)) ## fix this later\n",
        "  # mu_s = torch.as_tensor(37.248927127193724)\n",
        "\n",
        "  # dMs = pyro.sample(\"Ms\", dist.Normal(torch.tensor(0.), torch.tensor(sigma0)))\n",
        "  dMs = torch.tensor(0.)\n",
        "  Av = pyro.sample(\"Av\", dist.Exponential(1 / tauA))\n",
        "  # Av = torch.tensor(7.2387767)\n",
        "  # Av = pyro.sample(\"Av\", dist.Normal(0.27, 1.))\n",
        "\n",
        "  epsilon = torch.zeros(W0.shape)   ## populate epsilon matrix\n",
        "  epsilon[1:-1] = torch.transpose(torch.reshape(epsilon_interior, (6,4)), 0, 1)\n",
        "\n",
        "  W = torch.as_tensor(W0) + theta*torch.as_tensor(W1) + epsilon\n",
        "\n",
        "  generated_fluxes = []\n",
        "\n",
        "  for band in bands:\n",
        "    Jl = band_Jl[band]\n",
        "    S0 = band_S0[band]\n",
        "    xis_matrix = band_xis_matrix[band]\n",
        "    h = band_h[band]\n",
        "\n",
        "    JlWJt = torch.matmul(torch.as_tensor(Jl), torch.matmul(W, torch.as_tensor(Jt.T)))\n",
        "\n",
        "    Stilde = torch.as_tensor(S0) * torch.exp(-gamma * (JlWJt + Av * torch.as_tensor(xis_matrix)))\n",
        "\n",
        "    f = 10**(0.4 * (torch.as_tensor(ZPT) - mu_s - torch.as_tensor(M0) - dMs)) * torch.matmul(torch.as_tensor(h), torch.as_tensor(Stilde))\n",
        "    generated_fluxes.append(f)\n",
        "\n",
        "  generated_fluxes = torch.stack(generated_fluxes)\n",
        "  # print(generated_fluxes)\n",
        "\n",
        "  with pyro.plate(\"bands\"):\n",
        "    with pyro.plate(\"observations\"):\n",
        "      pyro.sample(\"flux\", dist.Normal(generated_fluxes, 0.02 * generated_fluxes), obs = obs)"
      ]
    },
    {
      "cell_type": "code",
      "execution_count": 34,
      "metadata": {
        "colab": {
          "base_uri": "https://localhost:8080/"
        },
        "id": "_slDjBDd7dra",
        "outputId": "0fa9ec1a-9174-41aa-bc60-28b86aa4dfb4"
      },
      "outputs": [
        {
          "output_type": "execute_result",
          "data": {
            "text/plain": [
              "tensor([[11704.6375, 12578.4119, 12221.7984,  9237.0565,  5477.9328,  3401.5482],\n",
              "        [ 8953.6010, 11284.4833, 11083.6425, 10051.2308,  7022.9648,  6132.5749],\n",
              "        [ 7440.5248,  5411.0138,  5753.2255,  4991.6856,  3871.3108,  3656.5900],\n",
              "        [ 5893.6865,  5734.2677,  5050.0071,  4561.1164,  3686.6480,  3462.7852]],\n",
              "       dtype=torch.float64)"
            ]
          },
          "metadata": {},
          "execution_count": 34
        }
      ],
      "source": [
        "torch.as_tensor(all_band_fluxes)"
      ]
    },
    {
      "cell_type": "code",
      "execution_count": 35,
      "metadata": {
        "id": "3FnAMHSoifAJ"
      },
      "outputs": [],
      "source": [
        "model_vi(torch.as_tensor(all_band_fluxes))"
      ]
    },
    {
      "cell_type": "code",
      "execution_count": 39,
      "metadata": {
        "colab": {
          "base_uri": "https://localhost:8080/",
          "height": 333
        },
        "id": "IdO1srk3C_kR",
        "outputId": "13d86d18-0d56-48f4-a64f-98181ab99f31"
      },
      "outputs": [
        {
          "output_type": "execute_result",
          "data": {
            "text/plain": [
              "<graphviz.dot.Digraph at 0x7fe770029910>"
            ],
            "image/svg+xml": "<?xml version=\"1.0\" encoding=\"UTF-8\" standalone=\"no\"?>\n<!DOCTYPE svg PUBLIC \"-//W3C//DTD SVG 1.1//EN\"\n \"http://www.w3.org/Graphics/SVG/1.1/DTD/svg11.dtd\">\n<!-- Generated by graphviz version 2.40.1 (20161225.0304)\n -->\n<!-- Title: %3 Pages: 1 -->\n<svg width=\"467pt\" height=\"233pt\"\n viewBox=\"0.00 0.00 466.50 233.00\" xmlns=\"http://www.w3.org/2000/svg\" xmlns:xlink=\"http://www.w3.org/1999/xlink\">\n<g id=\"graph0\" class=\"graph\" transform=\"scale(1 1) rotate(0) translate(4 229)\">\n<title>%3</title>\n<polygon fill=\"#ffffff\" stroke=\"transparent\" points=\"-4,4 -4,-229 462.5,-229 462.5,4 -4,4\"/>\n<g id=\"clust1\" class=\"cluster\">\n<title>cluster_bands</title>\n<polygon fill=\"none\" stroke=\"#000000\" points=\"127,-8 127,-122 232,-122 232,-8 127,-8\"/>\n<text text-anchor=\"middle\" x=\"207\" y=\"-15.8\" font-family=\"Times,serif\" font-size=\"14.00\" fill=\"#000000\">bands</text>\n</g>\n<g id=\"clust2\" class=\"cluster\">\n<title>cluster_observations</title>\n<polygon fill=\"none\" stroke=\"#000000\" points=\"135,-39 135,-114 224,-114 224,-39 135,-39\"/>\n<text text-anchor=\"middle\" x=\"179.5\" y=\"-46.8\" font-family=\"Times,serif\" font-size=\"14.00\" fill=\"#000000\">observations</text>\n</g>\n<!-- nu -->\n<g id=\"node1\" class=\"node\">\n<title>nu</title>\n<ellipse fill=\"#ffffff\" stroke=\"#000000\" cx=\"27\" cy=\"-183.5\" rx=\"27\" ry=\"18\"/>\n<text text-anchor=\"middle\" x=\"27\" y=\"-179.8\" font-family=\"Times,serif\" font-size=\"14.00\" fill=\"#000000\">nu</text>\n</g>\n<!-- theta -->\n<g id=\"node2\" class=\"node\">\n<title>theta</title>\n<ellipse fill=\"#ffffff\" stroke=\"#000000\" cx=\"101\" cy=\"-183.5\" rx=\"28.6953\" ry=\"18\"/>\n<text text-anchor=\"middle\" x=\"101\" y=\"-179.8\" font-family=\"Times,serif\" font-size=\"14.00\" fill=\"#000000\">theta</text>\n</g>\n<!-- flux -->\n<g id=\"node5\" class=\"node\">\n<title>flux</title>\n<ellipse fill=\"#c0c0c0\" stroke=\"#000000\" cx=\"179\" cy=\"-88\" rx=\"27\" ry=\"18\"/>\n<text text-anchor=\"middle\" x=\"179\" y=\"-84.3\" font-family=\"Times,serif\" font-size=\"14.00\" fill=\"#000000\">flux</text>\n</g>\n<!-- theta&#45;&gt;flux -->\n<g id=\"edge3\" class=\"edge\">\n<title>theta&#45;&gt;flux</title>\n<path fill=\"none\" stroke=\"#000000\" d=\"M114.2316,-167.2997C126.6326,-152.1165 145.3251,-129.2302 159.4463,-111.9407\"/>\n<polygon fill=\"#000000\" stroke=\"#000000\" points=\"162.3487,-113.9201 165.9638,-103.961 156.9272,-109.492 162.3487,-113.9201\"/>\n</g>\n<!-- mu_s -->\n<g id=\"node3\" class=\"node\">\n<title>mu_s</title>\n<ellipse fill=\"#ffffff\" stroke=\"#000000\" cx=\"179\" cy=\"-183.5\" rx=\"31.3957\" ry=\"18\"/>\n<text text-anchor=\"middle\" x=\"179\" y=\"-179.8\" font-family=\"Times,serif\" font-size=\"14.00\" fill=\"#000000\">mu_s</text>\n</g>\n<!-- mu_s&#45;&gt;flux -->\n<g id=\"edge2\" class=\"edge\">\n<title>mu_s&#45;&gt;flux</title>\n<path fill=\"none\" stroke=\"#000000\" d=\"M179,-165.0866C179,-151.2585 179,-132.0711 179,-116.2988\"/>\n<polygon fill=\"#000000\" stroke=\"#000000\" points=\"182.5001,-116.0329 179,-106.033 175.5001,-116.033 182.5001,-116.0329\"/>\n</g>\n<!-- Av -->\n<g id=\"node4\" class=\"node\">\n<title>Av</title>\n<ellipse fill=\"#ffffff\" stroke=\"#000000\" cx=\"255\" cy=\"-183.5\" rx=\"27\" ry=\"18\"/>\n<text text-anchor=\"middle\" x=\"255\" y=\"-179.8\" font-family=\"Times,serif\" font-size=\"14.00\" fill=\"#000000\">Av</text>\n</g>\n<!-- Av&#45;&gt;flux -->\n<g id=\"edge1\" class=\"edge\">\n<title>Av&#45;&gt;flux</title>\n<path fill=\"none\" stroke=\"#000000\" d=\"M242.1076,-167.2997C230.0247,-152.1165 211.8115,-129.2302 198.0523,-111.9407\"/>\n<polygon fill=\"#000000\" stroke=\"#000000\" points=\"200.6676,-109.6062 191.702,-103.961 195.1903,-113.9651 200.6676,-109.6062\"/>\n</g>\n<!-- distribution_description_node -->\n<g id=\"node6\" class=\"node\">\n<title>distribution_description_node</title>\n<text text-anchor=\"start\" x=\"307.5\" y=\"-209.8\" font-family=\"Times,serif\" font-size=\"14.00\" fill=\"#000000\">nu ~ MultivariateNormal</text>\n<text text-anchor=\"start\" x=\"307.5\" y=\"-194.8\" font-family=\"Times,serif\" font-size=\"14.00\" fill=\"#000000\">theta ~ Normal</text>\n<text text-anchor=\"start\" x=\"307.5\" y=\"-179.8\" font-family=\"Times,serif\" font-size=\"14.00\" fill=\"#000000\">mu_s ~ Normal</text>\n<text text-anchor=\"start\" x=\"307.5\" y=\"-164.8\" font-family=\"Times,serif\" font-size=\"14.00\" fill=\"#000000\">Av ~ Exponential</text>\n<text text-anchor=\"start\" x=\"307.5\" y=\"-149.8\" font-family=\"Times,serif\" font-size=\"14.00\" fill=\"#000000\">flux ~ Normal</text>\n</g>\n</g>\n</svg>\n"
          },
          "metadata": {},
          "execution_count": 39
        }
      ],
      "source": [
        "pyro.render_model(model_vi, model_args = (torch.as_tensor(all_band_fluxes),), render_distributions=True, render_params = True)"
      ]
    },
    {
      "cell_type": "code",
      "execution_count": 37,
      "metadata": {
        "id": "Vwv7uQr6DGEa"
      },
      "outputs": [],
      "source": [
        "digraph = pyro.render_model(model_vi, model_args = (torch.as_tensor(all_band_fluxes),), render_distributions=False, render_params = True)\n",
        "digraph.node(\"theta\", label = \"θ\")\n",
        "digraph.node(\"nu\", label = '\\N{GREEK SMALL LETTER NU}')\n",
        "digraph.node(\"mu_s\", label = '\\u03BC')\n",
        "digraph.node(\"Av\", label = 'A' + '\\N{LATIN SUBSCRIPT SMALL LETTER V}')\n",
        "digraph.edge(\"nu\", \"flux\")"
      ]
    },
    {
      "cell_type": "code",
      "execution_count": 38,
      "metadata": {
        "colab": {
          "base_uri": "https://localhost:8080/",
          "height": 36
        },
        "id": "YW0PzAit1Cui",
        "outputId": "92f5d6c2-b087-4c03-d9d6-b78316abe804"
      },
      "outputs": [
        {
          "output_type": "execute_result",
          "data": {
            "text/plain": [
              "'ᵥ'"
            ],
            "application/vnd.google.colaboratory.intrinsic+json": {
              "type": "string"
            }
          },
          "metadata": {},
          "execution_count": 38
        }
      ],
      "source": [
        "'\\N{LATIN SUBSCRIPT SMALL LETTER V}'"
      ]
    },
    {
      "cell_type": "code",
      "execution_count": 39,
      "metadata": {
        "colab": {
          "base_uri": "https://localhost:8080/",
          "height": 270
        },
        "id": "jOHhmg9-DOl0",
        "outputId": "e6a32bd1-9adb-4602-8e25-27b3421cb51d"
      },
      "outputs": [
        {
          "output_type": "execute_result",
          "data": {
            "text/plain": [
              "<graphviz.dot.Digraph at 0x7fc825294610>"
            ],
            "image/svg+xml": "<?xml version=\"1.0\" encoding=\"UTF-8\" standalone=\"no\"?>\n<!DOCTYPE svg PUBLIC \"-//W3C//DTD SVG 1.1//EN\"\n \"http://www.w3.org/Graphics/SVG/1.1/DTD/svg11.dtd\">\n<!-- Generated by graphviz version 2.40.1 (20161225.0304)\n -->\n<!-- Title: %3 Pages: 1 -->\n<svg width=\"278pt\" height=\"186pt\"\n viewBox=\"0.00 0.00 278.00 186.00\" xmlns=\"http://www.w3.org/2000/svg\" xmlns:xlink=\"http://www.w3.org/1999/xlink\">\n<g id=\"graph0\" class=\"graph\" transform=\"scale(1 1) rotate(0) translate(4 182)\">\n<title>%3</title>\n<polygon fill=\"#ffffff\" stroke=\"transparent\" points=\"-4,4 -4,-182 274,-182 274,4 -4,4\"/>\n<g id=\"clust1\" class=\"cluster\">\n<title>cluster_bands</title>\n<polygon fill=\"none\" stroke=\"#000000\" points=\"83,-8 83,-122 188,-122 188,-8 83,-8\"/>\n<text text-anchor=\"middle\" x=\"163\" y=\"-15.8\" font-family=\"Times,serif\" font-size=\"14.00\" fill=\"#000000\">bands</text>\n</g>\n<g id=\"clust2\" class=\"cluster\">\n<title>cluster_observations</title>\n<polygon fill=\"none\" stroke=\"#000000\" points=\"91,-39 91,-114 180,-114 180,-39 91,-39\"/>\n<text text-anchor=\"middle\" x=\"135.5\" y=\"-46.8\" font-family=\"Times,serif\" font-size=\"14.00\" fill=\"#000000\">observations</text>\n</g>\n<!-- nu -->\n<g id=\"node1\" class=\"node\">\n<title>nu</title>\n<ellipse fill=\"#ffffff\" stroke=\"#000000\" cx=\"27\" cy=\"-160\" rx=\"27\" ry=\"18\"/>\n<text text-anchor=\"middle\" x=\"27\" y=\"-156.3\" font-family=\"Times,serif\" font-size=\"14.00\" fill=\"#000000\">ν</text>\n</g>\n<!-- flux -->\n<g id=\"node5\" class=\"node\">\n<title>flux</title>\n<ellipse fill=\"#c0c0c0\" stroke=\"#000000\" cx=\"135\" cy=\"-88\" rx=\"27\" ry=\"18\"/>\n<text text-anchor=\"middle\" x=\"135\" y=\"-84.3\" font-family=\"Times,serif\" font-size=\"14.00\" fill=\"#000000\">flux</text>\n</g>\n<!-- nu&#45;&gt;flux -->\n<g id=\"edge4\" class=\"edge\">\n<title>nu&#45;&gt;flux</title>\n<path fill=\"none\" stroke=\"#000000\" d=\"M46.3082,-147.1278C63.3555,-135.763 88.4019,-119.0654 107.5344,-106.3104\"/>\n<polygon fill=\"#000000\" stroke=\"#000000\" points=\"109.4799,-109.2199 115.8589,-100.7607 105.5969,-103.3956 109.4799,-109.2199\"/>\n</g>\n<!-- theta -->\n<g id=\"node2\" class=\"node\">\n<title>theta</title>\n<ellipse fill=\"#ffffff\" stroke=\"#000000\" cx=\"99\" cy=\"-160\" rx=\"27\" ry=\"18\"/>\n<text text-anchor=\"middle\" x=\"99\" y=\"-156.3\" font-family=\"Times,serif\" font-size=\"14.00\" fill=\"#000000\">θ</text>\n</g>\n<!-- theta&#45;&gt;flux -->\n<g id=\"edge3\" class=\"edge\">\n<title>theta&#45;&gt;flux</title>\n<path fill=\"none\" stroke=\"#000000\" d=\"M107.7146,-142.5708C111.9597,-134.0807 117.1536,-123.6929 121.8663,-114.2674\"/>\n<polygon fill=\"#000000\" stroke=\"#000000\" points=\"125.024,-115.7782 126.3657,-105.2687 118.763,-112.6477 125.024,-115.7782\"/>\n</g>\n<!-- mu_s -->\n<g id=\"node3\" class=\"node\">\n<title>mu_s</title>\n<ellipse fill=\"#ffffff\" stroke=\"#000000\" cx=\"171\" cy=\"-160\" rx=\"27\" ry=\"18\"/>\n<text text-anchor=\"middle\" x=\"171\" y=\"-156.3\" font-family=\"Times,serif\" font-size=\"14.00\" fill=\"#000000\">μ</text>\n</g>\n<!-- mu_s&#45;&gt;flux -->\n<g id=\"edge2\" class=\"edge\">\n<title>mu_s&#45;&gt;flux</title>\n<path fill=\"none\" stroke=\"#000000\" d=\"M162.2854,-142.5708C158.0403,-134.0807 152.8464,-123.6929 148.1337,-114.2674\"/>\n<polygon fill=\"#000000\" stroke=\"#000000\" points=\"151.237,-112.6477 143.6343,-105.2687 144.976,-115.7782 151.237,-112.6477\"/>\n</g>\n<!-- Av -->\n<g id=\"node4\" class=\"node\">\n<title>Av</title>\n<ellipse fill=\"#ffffff\" stroke=\"#000000\" cx=\"243\" cy=\"-160\" rx=\"27\" ry=\"18\"/>\n<text text-anchor=\"middle\" x=\"243\" y=\"-156.3\" font-family=\"Times,serif\" font-size=\"14.00\" fill=\"#000000\">Aᵥ</text>\n</g>\n<!-- Av&#45;&gt;flux -->\n<g id=\"edge1\" class=\"edge\">\n<title>Av&#45;&gt;flux</title>\n<path fill=\"none\" stroke=\"#000000\" d=\"M223.6918,-147.1278C206.6445,-135.763 181.5981,-119.0654 162.4656,-106.3104\"/>\n<polygon fill=\"#000000\" stroke=\"#000000\" points=\"164.4031,-103.3956 154.1411,-100.7607 160.5201,-109.2199 164.4031,-103.3956\"/>\n</g>\n</g>\n</svg>\n"
          },
          "metadata": {},
          "execution_count": 39
        }
      ],
      "source": [
        "digraph"
      ]
    },
    {
      "cell_type": "code",
      "execution_count": 40,
      "metadata": {
        "colab": {
          "base_uri": "https://localhost:8080/",
          "height": 54
        },
        "id": "2iE1mfgGF1AD",
        "outputId": "c04cfc29-65dc-4ae4-9f52-3918a89564f2"
      },
      "outputs": [
        {
          "output_type": "stream",
          "name": "stderr",
          "text": [
            "Warning: UTF-8 input uses non-Latin1 characters which cannot be handled by this PostScript driver\n"
          ]
        },
        {
          "output_type": "execute_result",
          "data": {
            "text/plain": [
              "'Single_Supernova_PGM_072522.eps'"
            ],
            "application/vnd.google.colaboratory.intrinsic+json": {
              "type": "string"
            }
          },
          "metadata": {},
          "execution_count": 40
        }
      ],
      "source": [
        "digraph.save()\n",
        "digraph.render(filename = \"Single_Supernova_PGM_072522\", format='eps', view = 1, cleanup = 1)"
      ]
    },
    {
      "cell_type": "code",
      "execution_count": 41,
      "metadata": {
        "id": "Paf6nwlaQWU_"
      },
      "outputs": [],
      "source": [
        "# autoguide_vi = pyro.infer.autoguide.AutoDiagonalNormal(model_vi)\n",
        "autoguide_vi = pyro.infer.autoguide.AutoMultivariateNormal(model_vi, init_scale = 0.8)"
      ]
    },
    {
      "cell_type": "code",
      "execution_count": 41,
      "metadata": {
        "id": "c3hVr3W-SdZm"
      },
      "outputs": [],
      "source": [
        "# class CustomMultivariateNormal(pyro.infer.autoguide.AutoMultivariateNormal):\n",
        "#   def __init__(self, model, diag_eps = True, no_eps_other_params = True):\n",
        "#         self.diag_eps = diag_eps\n",
        "#         self.no_eps_other_params = no_eps_other_params\n",
        "#         super().__init__(model)\n",
        "\n",
        "#   def get_posterior(self, *args, **kwargs):\n",
        "#     \"\"\"\n",
        "#     Returns a MultivariateNormal posterior distribution.\n",
        "#     \"\"\"\n",
        "#     scale_tril = self.scale[..., None] * self.scale_tril\n",
        "    \n",
        "#     # # cov = torch.mm(scale_tril, scale_tril.T)\n",
        "#     # # corner = cov[54:57,54:57]\n",
        "#     # # chol_corner = torch.linalg.cholesky(corner)\n",
        "#     # print(scale_tril.detach().numpy())\n",
        "#     # plt.matshow(scale_tril.detach().numpy())\n",
        "#     # plt.colorbar(norm=colors.LogNorm())\n",
        "\n",
        "#     if self.diag_eps:\n",
        "#       for i in range(54):\n",
        "#         for j in range(i):\n",
        "#           scale_tril[i][j] = 0\n",
        "#           scale_tril[j][i] = 0\n",
        "#     if self.no_eps_other_params:\n",
        "#       for i in range(54, 57):\n",
        "#         for j in range(54):\n",
        "#           scale_tril[i][j] = 0\n",
        "#           scale_tril[j][i] = 0\n",
        "#     # plt.matshow(scale_tril.detach().numpy())\n",
        "#     # plt.matshow(torch.mm(scale_tril, scale_tril.T).detach().numpy())\n",
        "#     return dist.MultivariateNormal(self.loc, scale_tril = scale_tril)"
      ]
    },
    {
      "cell_type": "code",
      "execution_count": 42,
      "metadata": {
        "id": "3NK3RzAYbJ88"
      },
      "outputs": [],
      "source": [
        "pyro.get_param_store().clear()\n",
        "adam = pyro.optim.Adam({\"lr\": 0.01, \"betas\": (0.90, 0.999)}, {\"clip_norm\": 10.0})\n",
        "# adam = pyro.optim.SGD({\"lr\": 0.1})\n",
        "\n",
        "\n",
        "svi = SVI(model_vi, autoguide_vi, adam, loss=Trace_ELBO().differentiable_loss)\n",
        "# svi = SVI(model_vi, custom_guide, adam, loss=Trace_ELBO().differentiable_loss)\n",
        "\n",
        "for i in range(10):\n",
        "  svi.step(torch.as_tensor(all_band_fluxes))"
      ]
    },
    {
      "cell_type": "code",
      "execution_count": 43,
      "metadata": {
        "id": "lr74nihwNo-N"
      },
      "outputs": [],
      "source": [
        "# latent_dim = 57\n",
        "# pyro.param(\"auto_scale_tril\", torch.tril(torch.rand(latent_dim, latent_dim)),\n",
        "#                    constraint=constraints.lower_cholesky)"
      ]
    },
    {
      "cell_type": "markdown",
      "metadata": {
        "id": "sC7-smloN2v5"
      },
      "source": [
        "## Train the model"
      ]
    },
    {
      "cell_type": "code",
      "execution_count": 36,
      "metadata": {
        "id": "JABvOkWTa68Q"
      },
      "outputs": [],
      "source": [
        "def train(model, guide, lr=0.01, n_steps=5000, verbose = True):\n",
        "    pyro.get_param_store().clear()\n",
        "    adam_params = {\"lr\": lr, \"betas\": (0.95, 0.999)}\n",
        "    # adam = pyro.optim.Adam({\"lr\": 0.05}, {\"clip_norm\": 10.0})\n",
        "    adam = pyro.optim.ClippedAdam(adam_params)\n",
        "    svi = SVI(model, guide, adam, loss=Trace_ELBO())\n",
        "    losses = []\n",
        "    losses_every_500 = []\n",
        "\n",
        "    for step in range(n_steps):\n",
        "        loss = svi.step(torch.as_tensor(all_band_fluxes))\n",
        "        losses.append(loss)\n",
        "        if verbose and step % 500 == 0:\n",
        "            print('[iter {}]  loss: {:.4f}'.format(step, loss))\n",
        "            losses_every_500.append(loss)\n",
        "            ## if it hasn't decreased in 3 steps, end fitting\n",
        "            # if step > 2000:\n",
        "            #  if losses_every_500[-1] >= losses_every_500[-2] and losses_every_500[-2] >= losses_every_500[-3]:\n",
        "            #   break\n",
        "    return losses"
      ]
    },
    {
      "cell_type": "code",
      "execution_count": 46,
      "metadata": {
        "colab": {
          "base_uri": "https://localhost:8080/"
        },
        "id": "XpUjDOukUqdV",
        "outputId": "8b732423-f4d4-4474-de04-7e81354606a4"
      },
      "outputs": [
        {
          "output_type": "stream",
          "name": "stdout",
          "text": [
            "[iter 0]  loss: 8757.8040\n",
            "[iter 500]  loss: 1181.4008\n",
            "[iter 1000]  loss: 3866.5714\n",
            "[iter 1500]  loss: 4015.2269\n",
            "[iter 2000]  loss: 637.8718\n",
            "[iter 2500]  loss: 802.2190\n",
            "[iter 3000]  loss: 2444.6801\n",
            "[iter 3500]  loss: 615.7147\n",
            "[iter 4000]  loss: 3155.9736\n",
            "[iter 4500]  loss: 997.8434\n",
            "[iter 5000]  loss: 462.6881\n",
            "[iter 5500]  loss: 681.8843\n",
            "[iter 6000]  loss: 1084.9215\n",
            "[iter 6500]  loss: 621.0112\n",
            "[iter 7000]  loss: 328.5807\n",
            "[iter 7500]  loss: 328.3044\n",
            "[iter 8000]  loss: 372.2747\n",
            "[iter 8500]  loss: 501.2855\n",
            "[iter 9000]  loss: 349.6792\n",
            "[iter 9500]  loss: 380.9517\n",
            "[iter 10000]  loss: 335.5627\n",
            "[iter 10500]  loss: 258.4451\n",
            "[iter 11000]  loss: 214.2653\n",
            "[iter 11500]  loss: 239.4851\n",
            "[iter 12000]  loss: 224.1755\n",
            "[iter 12500]  loss: 208.1211\n",
            "[iter 13000]  loss: 263.7601\n",
            "[iter 13500]  loss: 234.6848\n",
            "[iter 14000]  loss: 233.8820\n",
            "[iter 14500]  loss: 278.1137\n",
            "[iter 15000]  loss: 207.2706\n",
            "[iter 15500]  loss: 206.6891\n",
            "[iter 16000]  loss: 207.3220\n",
            "[iter 16500]  loss: 195.7456\n",
            "[iter 17000]  loss: 196.1295\n",
            "[iter 17500]  loss: 206.3674\n",
            "[iter 18000]  loss: 196.0144\n",
            "[iter 18500]  loss: 192.4186\n",
            "[iter 19000]  loss: 188.0330\n",
            "[iter 19500]  loss: 193.0291\n",
            "Time: 170.5251007080078 seconds\n"
          ]
        }
      ],
      "source": [
        "start_time = time.time()\n",
        "losses = train(model_vi, autoguide_vi, lr = 0.001, n_steps = 20000)\n",
        "end_time = time.time()\n",
        "print(\"Time:\", end_time - start_time, \"seconds\")"
      ]
    },
    {
      "cell_type": "code",
      "execution_count": 47,
      "metadata": {
        "colab": {
          "base_uri": "https://localhost:8080/",
          "height": 294
        },
        "id": "DJOUXytNUr2E",
        "outputId": "093d1fb0-32c8-4230-b0c0-1c5b1ba0214b"
      },
      "outputs": [
        {
          "output_type": "execute_result",
          "data": {
            "text/plain": [
              "[<matplotlib.lines.Line2D at 0x7f06288bb2d0>]"
            ]
          },
          "metadata": {},
          "execution_count": 47
        },
        {
          "output_type": "display_data",
          "data": {
            "text/plain": [
              "<Figure size 432x288 with 1 Axes>"
            ],
            "image/png": "[encoded data removed]"
          },
          "metadata": {
            "needs_background": "light"
          }
        }
      ],
      "source": [
        "plt.plot(losses)"
      ]
    },
    {
      "cell_type": "code",
      "execution_count": null,
      "metadata": {
        "colab": {
          "base_uri": "https://localhost:8080/",
          "height": 276
        },
        "id": "PjqK4vGPUGay",
        "outputId": "088f1d19-24bf-4dcb-a4f6-2f8ce5a6a19a"
      },
      "outputs": [
        {
          "data": {
            "text/plain": [
              "<matplotlib.colorbar.Colorbar at 0x7fdb86d86890>"
            ]
          },
          "execution_count": 39,
          "metadata": {},
          "output_type": "execute_result"
        },
        {
          "data": {
            "image/png": "[encoded data removed]",
            "text/plain": [
              "<Figure size 288x288 with 2 Axes>"
            ]
          },
          "metadata": {},
          "output_type": "display_data"
        }
      ],
      "source": [
        "cov = np.ones((57, 57))\n",
        "for i in range(54):\n",
        "  for j in range(i):\n",
        "    cov[i][j] = 0.0001\n",
        "    cov[j][i] = 0.0001\n",
        "for i in range(54, 57):\n",
        "  for j in range(54):\n",
        "    cov[i][j] = 0.0001\n",
        "    cov[j][i] = 0.0001\n",
        "plt.matshow(cov)\n",
        "plt.colorbar()"
      ]
    },
    {
      "cell_type": "code",
      "execution_count": null,
      "metadata": {
        "colab": {
          "base_uri": "https://localhost:8080/",
          "height": 282
        },
        "id": "GNby4JKVZR8w",
        "outputId": "0e4877b0-f2dc-4576-a8b1-7a54b2ca11da"
      },
      "outputs": [
        {
          "data": {
            "text/plain": [
              "<matplotlib.colorbar.Colorbar at 0x7fdb873d14d0>"
            ]
          },
          "execution_count": 40,
          "metadata": {},
          "output_type": "execute_result"
        },
        {
          "data": {
            "image/png": "[encoded data removed]",
            "text/plain": [
              "<Figure size 288x288 with 2 Axes>"
            ]
          },
          "metadata": {},
          "output_type": "display_data"
        }
      ],
      "source": [
        "plt.matshow(np.linalg.cholesky(cov))\n",
        "plt.colorbar()"
      ]
    },
    {
      "cell_type": "code",
      "execution_count": null,
      "metadata": {
        "colab": {
          "base_uri": "https://localhost:8080/",
          "height": 276
        },
        "id": "6iEYMD-8wnxE",
        "outputId": "eedaed3a-b911-42dd-ffd5-a7b0974b8fca"
      },
      "outputs": [
        {
          "data": {
            "text/plain": [
              "<matplotlib.colorbar.Colorbar at 0x7fdb86c28bd0>"
            ]
          },
          "execution_count": 41,
          "metadata": {},
          "output_type": "execute_result"
        },
        {
          "data": {
            "image/png": "[encoded data removed]",
            "text/plain": [
              "<Figure size 288x288 with 2 Axes>"
            ]
          },
          "metadata": {},
          "output_type": "display_data"
        }
      ],
      "source": [
        "cov = np.ones((57, 57))\n",
        "# for i in range(54):\n",
        "#   for j in range(i):\n",
        "#     cov[i][j] = 0.0001\n",
        "#     cov[j][i] = 0.0001\n",
        "for i in range(54, 57):\n",
        "  for j in range(54):\n",
        "    cov[i][j] = 0.0001\n",
        "    cov[j][i] = 0.0001\n",
        "plt.matshow(cov)\n",
        "plt.colorbar()"
      ]
    },
    {
      "cell_type": "code",
      "execution_count": 48,
      "metadata": {
        "colab": {
          "base_uri": "https://localhost:8080/"
        },
        "id": "kURN_Tgoki_1",
        "outputId": "5bdb3ab9-2fd0-4e29-c2ae-10908c894c39"
      },
      "outputs": [
        {
          "output_type": "execute_result",
          "data": {
            "text/plain": [
              "(tensor(1.2296, dtype=torch.float64), array(2.0747294, dtype=float32))"
            ]
          },
          "metadata": {},
          "execution_count": 48
        }
      ],
      "source": [
        "autoguide_vi.median()['theta'], true_theta"
      ]
    },
    {
      "cell_type": "code",
      "execution_count": 49,
      "metadata": {
        "colab": {
          "base_uri": "https://localhost:8080/"
        },
        "id": "z2ZYBBM4uyfA",
        "outputId": "d2619a62-05c6-4444-85a7-5767ee22171a"
      },
      "outputs": [
        {
          "output_type": "execute_result",
          "data": {
            "text/plain": [
              "(tensor(0.1681, dtype=torch.float64), array(0.06604716, dtype=float32))"
            ]
          },
          "metadata": {},
          "execution_count": 49
        }
      ],
      "source": [
        "autoguide_vi.median()['Av'], true_Av"
      ]
    },
    {
      "cell_type": "code",
      "execution_count": 50,
      "metadata": {
        "colab": {
          "base_uri": "https://localhost:8080/"
        },
        "id": "aAaKb6Pdu0fJ",
        "outputId": "496df532-cfe4-4a68-ac0b-d686300275b8"
      },
      "outputs": [
        {
          "output_type": "execute_result",
          "data": {
            "text/plain": [
              "(tensor(36.2130, dtype=torch.float64), 36.141832534046145)"
            ]
          },
          "metadata": {},
          "execution_count": 50
        }
      ],
      "source": [
        "autoguide_vi.median()['mu_s'], true_mu_s"
      ]
    },
    {
      "cell_type": "code",
      "execution_count": 51,
      "metadata": {
        "colab": {
          "base_uri": "https://localhost:8080/"
        },
        "id": "1JeyRGK6ozBg",
        "outputId": "39b29b98-f2f3-4d8d-aa3d-c4722c7d5502"
      },
      "outputs": [
        {
          "output_type": "execute_result",
          "data": {
            "text/plain": [
              "(tensor([ 1.2668, -0.0941, -0.0901,  0.0860, -1.5639, -0.6774,  0.5410,  0.0499,\n",
              "         -0.4868, -0.4272, -0.1606,  0.6301,  2.9911, -0.4342, -2.2128, -0.6354,\n",
              "          0.1755,  1.7046,  1.4885,  0.6113, -0.2555, -0.5874, -0.1821, -0.0842],\n",
              "        dtype=torch.float64),\n",
              " tensor([ 0.9153, -0.0954,  0.3576, -0.8151,  0.1601, -0.6801,  0.5586, -0.2743,\n",
              "         -0.6108, -0.4534,  0.9397,  0.7151,  1.6146, -0.2880, -1.3730, -1.0795,\n",
              "         -0.4448,  1.9247, -0.4035, -0.6877, -0.6920,  0.9704,  1.2709, -1.6746]))"
            ]
          },
          "metadata": {},
          "execution_count": 51
        }
      ],
      "source": [
        "autoguide_vi.median()['nu'], true_nu"
      ]
    },
    {
      "cell_type": "code",
      "source": [
        "def model_vi_softplus(obs):\n",
        "  # epsilon_interior = pyro.sample(\"eps_int\", dist.MultivariateNormal(torch.zeros(len(eps_cov)), covariance_matrix = eps_cov))\n",
        "\n",
        "  nu = pyro.sample(\"nu\", dist.MultivariateNormal(torch.zeros(len(eps_cov)), covariance_matrix = torch.eye(len(eps_cov))))\n",
        "  # nu = torch.zeros(54)\n",
        "  epsilon_interior = torch.matmul(torch.as_tensor(L_sigma_epsilon, dtype = torch.float), nu.float())\n",
        "  # print(epsilon_interior)\n",
        "\n",
        "  # theta = pyro.sample(\"theta\", dist.Uniform(low=-1.49, high=2.77))\n",
        "  theta = pyro.sample(\"theta\", dist.Normal(0., 1.0))\n",
        "  # theta = torch.as_tensor(0.03430605)\n",
        "\n",
        "  # theta = torch.as_tensor(-0.9835187)\n",
        "  mu_s = pyro.sample(\"mu_s\", dist.Normal(mu_mean, 10.)) ## fix this later\n",
        "  # mu_s = torch.as_tensor(37.248927127193724)\n",
        "\n",
        "  # dMs = pyro.sample(\"Ms\", dist.Normal(torch.tensor(0.), torch.tensor(sigma0)))\n",
        "  dMs = torch.tensor(0.)\n",
        "  \n",
        "  x = pyro.sample(\"x\", SoftplusExp(k = 25, tau = tauA))\n",
        "  k = torch.as_tensor(25.)\n",
        "  Av = torch.log(1 + torch.exp(k * x)) / k\n",
        "  # x = pyro.sample(\"x\", dist.Normal(0,1))\n",
        "  # k = torch.as_tensor(10.)\n",
        "  # Av = torch.log(1 + torch.exp(k * x)) / k\n",
        "  # Av = pyro.sample(\"Av\", dist.Exponential(1 / tauA))\n",
        "  # Av = torch.tensor(7.2387767)\n",
        "  # Av = pyro.sample(\"Av\", dist.Normal(0.27, 1.))\n",
        "\n",
        "  epsilon = torch.zeros(W0.shape)   ## populate epsilon matrix\n",
        "  epsilon[1:-1] = torch.transpose(torch.reshape(epsilon_interior, (6,4)), 0, 1)\n",
        "\n",
        "  W = torch.as_tensor(W0) + theta*torch.as_tensor(W1) + epsilon\n",
        "\n",
        "  generated_fluxes = []\n",
        "\n",
        "  for band in bands:\n",
        "    Jl = band_Jl[band]\n",
        "    S0 = band_S0[band]\n",
        "    xis_matrix = band_xis_matrix[band]\n",
        "    h = band_h[band]\n",
        "\n",
        "    JlWJt = torch.matmul(torch.as_tensor(Jl), torch.matmul(W, torch.as_tensor(Jt.T)))\n",
        "\n",
        "    Stilde = torch.as_tensor(S0) * torch.exp(-gamma * (JlWJt + Av * torch.as_tensor(xis_matrix)))\n",
        "\n",
        "    f = 10**(0.4 * (torch.as_tensor(ZPT) - mu_s - torch.as_tensor(M0) - dMs)) * torch.matmul(torch.as_tensor(h), torch.as_tensor(Stilde))\n",
        "    generated_fluxes.append(f)\n",
        "\n",
        "  generated_fluxes = torch.stack(generated_fluxes)\n",
        "  # print(generated_fluxes)\n",
        "\n",
        "  with pyro.plate(\"bands\"):\n",
        "    with pyro.plate(\"observations\"):\n",
        "      pyro.sample(\"flux\", dist.Normal(generated_fluxes, 0.02 * generated_fluxes), obs = obs)"
      ],
      "metadata": {
        "id": "PhSvu1-LAv-L"
      },
      "execution_count": 41,
      "outputs": []
    },
    {
      "cell_type": "code",
      "source": [
        "autoguide_vi_softplus_laplace = pyro.infer.autoguide.AutoLaplaceApproximation(model_vi_softplus)\n",
        "losses = train(model_vi_softplus, autoguide_vi_softplus_laplace, lr = 0.005, n_steps = 10000)\n",
        "softplus_new_laplace_approx_guide = autoguide_vi_softplus_laplace.laplace_approximation(torch.as_tensor(all_band_fluxes))\n",
        "losses = train(model_vi_softplus, softplus_new_laplace_approx_guide, n_steps = 10000)"
      ],
      "metadata": {
        "colab": {
          "base_uri": "https://localhost:8080/"
        },
        "id": "n9Xa5HirA9Ab",
        "outputId": "c95abe5b-4a55-47e4-a350-af6c121bd0d2"
      },
      "execution_count": 42,
      "outputs": [
        {
          "output_type": "stream",
          "name": "stdout",
          "text": [
            "[iter 0]  loss: 620.6549\n",
            "[iter 500]  loss: 187.3586\n",
            "[iter 1000]  loss: 185.1274\n",
            "[iter 1500]  loss: 184.9778\n",
            "[iter 2000]  loss: 184.9146\n",
            "[iter 2500]  loss: 184.8909\n",
            "[iter 3000]  loss: 184.8872\n",
            "[iter 3500]  loss: 184.8800\n",
            "[iter 4000]  loss: 184.8777\n",
            "[iter 4500]  loss: 184.8823\n",
            "[iter 5000]  loss: 184.8785\n",
            "[iter 5500]  loss: 184.8775\n",
            "[iter 6000]  loss: 184.8824\n",
            "[iter 6500]  loss: 184.8786\n",
            "[iter 7000]  loss: 184.8775\n",
            "[iter 7500]  loss: 184.8826\n",
            "[iter 8000]  loss: 184.8786\n",
            "[iter 8500]  loss: 184.8775\n",
            "[iter 9000]  loss: 184.8827\n",
            "[iter 9500]  loss: 184.8786\n",
            "[iter 0]  loss: 186.5500\n",
            "[iter 500]  loss: 190.4399\n",
            "[iter 1000]  loss: 189.2891\n",
            "[iter 1500]  loss: 185.6575\n",
            "[iter 2000]  loss: 186.4145\n",
            "[iter 2500]  loss: 188.2124\n",
            "[iter 3000]  loss: 203.4391\n",
            "[iter 3500]  loss: 186.6996\n",
            "[iter 4000]  loss: 188.3771\n",
            "[iter 4500]  loss: 316.4900\n",
            "[iter 5000]  loss: 189.9670\n",
            "[iter 5500]  loss: 187.6487\n",
            "[iter 6000]  loss: 186.9646\n",
            "[iter 6500]  loss: 197.1283\n",
            "[iter 7000]  loss: 219.1792\n",
            "[iter 7500]  loss: 186.6459\n",
            "[iter 8000]  loss: 190.7915\n",
            "[iter 8500]  loss: 185.8376\n",
            "[iter 9000]  loss: 188.3161\n",
            "[iter 9500]  loss: 187.4501\n"
          ]
        }
      ]
    },
    {
      "cell_type": "code",
      "source": [
        "tauA"
      ],
      "metadata": {
        "colab": {
          "base_uri": "https://localhost:8080/"
        },
        "id": "64L19Sk4zW2M",
        "outputId": "a023ca0b-c438-467b-f1d9-f7f11c2520fa"
      },
      "execution_count": 65,
      "outputs": [
        {
          "output_type": "execute_result",
          "data": {
            "text/plain": [
              "0.194"
            ]
          },
          "metadata": {},
          "execution_count": 65
        }
      ]
    },
    {
      "cell_type": "code",
      "source": [
        "_, bins, _  = plt.hist(dist.AsymmetricLaplace(0, tauA / 4, 0.25).sample((10000,)).numpy(), bins = 100, alpha = 0.2)\n",
        "plt.hist(dist.Exponential(1/tauA).sample((10000,)).numpy(), bins = bins, alpha = 0.2)\n",
        "plt.show()"
      ],
      "metadata": {
        "colab": {
          "base_uri": "https://localhost:8080/",
          "height": 265
        },
        "id": "eIu5iBCqzX52",
        "outputId": "bdc3d6d8-86eb-44ad-8e6d-d236f60f86b7"
      },
      "execution_count": 74,
      "outputs": [
        {
          "output_type": "display_data",
          "data": {
            "text/plain": [
              "<Figure size 432x288 with 1 Axes>"
            ],
            "image/png": "[encoded data removed]"
          },
          "metadata": {
            "needs_background": "light"
          }
        }
      ]
    },
    {
      "cell_type": "code",
      "source": [
        "def model_vi_asym_laplace(obs):\n",
        "  # epsilon_interior = pyro.sample(\"eps_int\", dist.MultivariateNormal(torch.zeros(len(eps_cov)), covariance_matrix = eps_cov))\n",
        "\n",
        "  nu = pyro.sample(\"nu\", dist.MultivariateNormal(torch.zeros(len(eps_cov)), covariance_matrix = torch.eye(len(eps_cov))))\n",
        "  # nu = torch.zeros(54)\n",
        "  epsilon_interior = torch.matmul(torch.as_tensor(L_sigma_epsilon, dtype = torch.float), nu.float())\n",
        "\n",
        "  theta = pyro.sample(\"theta\", dist.Normal(0., 1.0))\n",
        "\n",
        "  mu_s = pyro.sample(\"mu_s\", dist.Normal(mu_mean, 10.)) ## fix this later\n",
        "\n",
        "  dMs = torch.tensor(0.)\n",
        "  \n",
        "\n",
        "  Av = pyro.sample(\"Av\", dist.AsymmetricLaplace(0, tauA / 4, 0.25))\n",
        "  # Av = pyro.sample(\"Av\", dist.Exponential(1 / tauA))\n",
        "\n",
        "\n",
        "  epsilon = torch.zeros(W0.shape)   ## populate epsilon matrix\n",
        "  epsilon[1:-1] = torch.transpose(torch.reshape(epsilon_interior, (6,4)), 0, 1)\n",
        "\n",
        "  W = torch.as_tensor(W0) + theta*torch.as_tensor(W1) + epsilon\n",
        "\n",
        "  generated_fluxes = []\n",
        "\n",
        "  for band in bands:\n",
        "    Jl = band_Jl[band]\n",
        "    S0 = band_S0[band]\n",
        "    xis_matrix = band_xis_matrix[band]\n",
        "    h = band_h[band]\n",
        "\n",
        "    JlWJt = torch.matmul(torch.as_tensor(Jl), torch.matmul(W, torch.as_tensor(Jt.T)))\n",
        "\n",
        "    Stilde = torch.as_tensor(S0) * torch.exp(-gamma * (JlWJt + Av * torch.as_tensor(xis_matrix)))\n",
        "\n",
        "    f = 10**(0.4 * (torch.as_tensor(ZPT) - mu_s - torch.as_tensor(M0) - dMs)) * torch.matmul(torch.as_tensor(h), torch.as_tensor(Stilde))\n",
        "    generated_fluxes.append(f)\n",
        "\n",
        "  generated_fluxes = torch.stack(generated_fluxes)\n",
        "  # print(generated_fluxes)\n",
        "\n",
        "  with pyro.plate(\"bands\"):\n",
        "    with pyro.plate(\"observations\"):\n",
        "      pyro.sample(\"flux\", dist.Normal(generated_fluxes, 0.02 * generated_fluxes), obs = obs)"
      ],
      "metadata": {
        "id": "n_cT9JA5zITr"
      },
      "execution_count": 43,
      "outputs": []
    },
    {
      "cell_type": "code",
      "source": [
        "autoguide_vi_asym_laplace = pyro.infer.autoguide.AutoLaplaceApproximation(model_vi_asym_laplace)\n",
        "losses = train(model_vi_asym_laplace, autoguide_vi_asym_laplace, lr = 0.005, n_steps = 10000)\n",
        "asym_new_laplace_approx_guide = autoguide_vi_asym_laplace.laplace_approximation(torch.as_tensor(all_band_fluxes))\n",
        "losses = train(model_vi_asym_laplace, asym_new_laplace_approx_guide, n_steps = 10000)"
      ],
      "metadata": {
        "colab": {
          "base_uri": "https://localhost:8080/"
        },
        "id": "kr4sl8MH0UuU",
        "outputId": "72f34382-27dc-48d4-f3ed-0071523ef7f6"
      },
      "execution_count": 44,
      "outputs": [
        {
          "output_type": "stream",
          "name": "stdout",
          "text": [
            "[iter 0]  loss: 10372.0863\n",
            "[iter 500]  loss: 186.8886\n",
            "[iter 1000]  loss: 184.7389\n",
            "[iter 1500]  loss: 184.6518\n",
            "[iter 2000]  loss: 184.6192\n",
            "[iter 2500]  loss: 184.6143\n",
            "[iter 3000]  loss: 184.6110\n",
            "[iter 3500]  loss: 184.6111\n",
            "[iter 4000]  loss: 184.6096\n",
            "[iter 4500]  loss: 184.6105\n",
            "[iter 5000]  loss: 184.6094\n",
            "[iter 5500]  loss: 184.6106\n",
            "[iter 6000]  loss: 184.6096\n",
            "[iter 6500]  loss: 184.6108\n",
            "[iter 7000]  loss: 184.6099\n",
            "[iter 7500]  loss: 184.6110\n",
            "[iter 8000]  loss: 184.6100\n",
            "[iter 8500]  loss: 184.6112\n",
            "[iter 9000]  loss: 184.6101\n",
            "[iter 9500]  loss: 184.6112\n",
            "[iter 0]  loss: 186.1352\n",
            "[iter 500]  loss: 186.5436\n",
            "[iter 1000]  loss: 192.3105\n",
            "[iter 1500]  loss: 186.2731\n",
            "[iter 2000]  loss: 186.2045\n",
            "[iter 2500]  loss: 186.2450\n",
            "[iter 3000]  loss: 186.3844\n",
            "[iter 3500]  loss: 186.4924\n",
            "[iter 4000]  loss: 186.4243\n",
            "[iter 4500]  loss: 186.4515\n",
            "[iter 5000]  loss: 186.6007\n",
            "[iter 5500]  loss: 186.5794\n",
            "[iter 6000]  loss: 186.5070\n",
            "[iter 6500]  loss: 186.4759\n",
            "[iter 7000]  loss: 185.9146\n",
            "[iter 7500]  loss: 186.3137\n",
            "[iter 8000]  loss: 186.1752\n",
            "[iter 8500]  loss: 186.1145\n",
            "[iter 9000]  loss: 186.0946\n",
            "[iter 9500]  loss: 186.4558\n"
          ]
        }
      ]
    },
    {
      "cell_type": "code",
      "execution_count": null,
      "metadata": {
        "colab": {
          "base_uri": "https://localhost:8080/",
          "height": 433
        },
        "id": "QSyel4rkrYn4",
        "outputId": "2269da2a-b027-4b2d-a902-a6db56a7a4e4"
      },
      "outputs": [
        {
          "name": "stdout",
          "output_type": "stream",
          "text": [
            "[iter 0]  loss: 24147.4069\n"
          ]
        },
        {
          "ename": "KeyboardInterrupt",
          "evalue": "ignored",
          "output_type": "error",
          "traceback": [
            "\u001b[0;31m---------------------------------------------------------------------------\u001b[0m",
            "\u001b[0;31mKeyboardInterrupt\u001b[0m                         Traceback (most recent call last)",
            "\u001b[0;32m<ipython-input-46-e360b5930bbd>\u001b[0m in \u001b[0;36m<module>\u001b[0;34m()\u001b[0m\n\u001b[1;32m      1\u001b[0m \u001b[0mcustom_guide\u001b[0m \u001b[0;34m=\u001b[0m \u001b[0mCustomMultivariateNormal\u001b[0m\u001b[0;34m(\u001b[0m\u001b[0mmodel_vi\u001b[0m\u001b[0;34m)\u001b[0m\u001b[0;34m\u001b[0m\u001b[0;34m\u001b[0m\u001b[0m\n\u001b[1;32m      2\u001b[0m \u001b[0mstart_time\u001b[0m \u001b[0;34m=\u001b[0m \u001b[0mtime\u001b[0m\u001b[0;34m.\u001b[0m\u001b[0mtime\u001b[0m\u001b[0;34m(\u001b[0m\u001b[0;34m)\u001b[0m\u001b[0;34m\u001b[0m\u001b[0;34m\u001b[0m\u001b[0m\n\u001b[0;32m----> 3\u001b[0;31m \u001b[0mlosses\u001b[0m \u001b[0;34m=\u001b[0m \u001b[0mtrain\u001b[0m\u001b[0;34m(\u001b[0m\u001b[0mmodel_vi\u001b[0m\u001b[0;34m,\u001b[0m \u001b[0mcustom_guide\u001b[0m\u001b[0;34m,\u001b[0m \u001b[0mn_steps\u001b[0m \u001b[0;34m=\u001b[0m \u001b[0;36m10000\u001b[0m\u001b[0;34m)\u001b[0m\u001b[0;34m\u001b[0m\u001b[0;34m\u001b[0m\u001b[0m\n\u001b[0m\u001b[1;32m      4\u001b[0m \u001b[0mend_time\u001b[0m \u001b[0;34m=\u001b[0m \u001b[0mtime\u001b[0m\u001b[0;34m.\u001b[0m\u001b[0mtime\u001b[0m\u001b[0;34m(\u001b[0m\u001b[0;34m)\u001b[0m\u001b[0;34m\u001b[0m\u001b[0;34m\u001b[0m\u001b[0m\n\u001b[1;32m      5\u001b[0m \u001b[0mprint\u001b[0m\u001b[0;34m(\u001b[0m\u001b[0;34m\"Time:\"\u001b[0m\u001b[0;34m,\u001b[0m \u001b[0mend_time\u001b[0m \u001b[0;34m-\u001b[0m \u001b[0mstart_time\u001b[0m\u001b[0;34m,\u001b[0m \u001b[0;34m\"seconds\"\u001b[0m\u001b[0;34m)\u001b[0m\u001b[0;34m\u001b[0m\u001b[0;34m\u001b[0m\u001b[0m\n",
            "\u001b[0;32m<ipython-input-36-0abdfed92073>\u001b[0m in \u001b[0;36mtrain\u001b[0;34m(model, guide, lr, n_steps, verbose)\u001b[0m\n\u001b[1;32m      9\u001b[0m \u001b[0;34m\u001b[0m\u001b[0m\n\u001b[1;32m     10\u001b[0m     \u001b[0;32mfor\u001b[0m \u001b[0mstep\u001b[0m \u001b[0;32min\u001b[0m \u001b[0mrange\u001b[0m\u001b[0;34m(\u001b[0m\u001b[0mn_steps\u001b[0m\u001b[0;34m)\u001b[0m\u001b[0;34m:\u001b[0m\u001b[0;34m\u001b[0m\u001b[0;34m\u001b[0m\u001b[0m\n\u001b[0;32m---> 11\u001b[0;31m         \u001b[0mloss\u001b[0m \u001b[0;34m=\u001b[0m \u001b[0msvi\u001b[0m\u001b[0;34m.\u001b[0m\u001b[0mstep\u001b[0m\u001b[0;34m(\u001b[0m\u001b[0mtorch\u001b[0m\u001b[0;34m.\u001b[0m\u001b[0mas_tensor\u001b[0m\u001b[0;34m(\u001b[0m\u001b[0mall_band_fluxes\u001b[0m\u001b[0;34m)\u001b[0m\u001b[0;34m)\u001b[0m\u001b[0;34m\u001b[0m\u001b[0;34m\u001b[0m\u001b[0m\n\u001b[0m\u001b[1;32m     12\u001b[0m         \u001b[0mlosses\u001b[0m\u001b[0;34m.\u001b[0m\u001b[0mappend\u001b[0m\u001b[0;34m(\u001b[0m\u001b[0mloss\u001b[0m\u001b[0;34m)\u001b[0m\u001b[0;34m\u001b[0m\u001b[0;34m\u001b[0m\u001b[0m\n\u001b[1;32m     13\u001b[0m         \u001b[0;32mif\u001b[0m \u001b[0mverbose\u001b[0m \u001b[0;32mand\u001b[0m \u001b[0mstep\u001b[0m \u001b[0;34m%\u001b[0m \u001b[0;36m500\u001b[0m \u001b[0;34m==\u001b[0m \u001b[0;36m0\u001b[0m\u001b[0;34m:\u001b[0m\u001b[0;34m\u001b[0m\u001b[0;34m\u001b[0m\u001b[0m\n",
            "\u001b[0;32m/usr/local/lib/python3.7/dist-packages/pyro/infer/svi.py\u001b[0m in \u001b[0;36mstep\u001b[0;34m(self, *args, **kwargs)\u001b[0m\n\u001b[1;32m    143\u001b[0m         \u001b[0;31m# get loss and compute gradients\u001b[0m\u001b[0;34m\u001b[0m\u001b[0;34m\u001b[0m\u001b[0;34m\u001b[0m\u001b[0m\n\u001b[1;32m    144\u001b[0m         \u001b[0;32mwith\u001b[0m \u001b[0mpoutine\u001b[0m\u001b[0;34m.\u001b[0m\u001b[0mtrace\u001b[0m\u001b[0;34m(\u001b[0m\u001b[0mparam_only\u001b[0m\u001b[0;34m=\u001b[0m\u001b[0;32mTrue\u001b[0m\u001b[0;34m)\u001b[0m \u001b[0;32mas\u001b[0m \u001b[0mparam_capture\u001b[0m\u001b[0;34m:\u001b[0m\u001b[0;34m\u001b[0m\u001b[0;34m\u001b[0m\u001b[0m\n\u001b[0;32m--> 145\u001b[0;31m             \u001b[0mloss\u001b[0m \u001b[0;34m=\u001b[0m \u001b[0mself\u001b[0m\u001b[0;34m.\u001b[0m\u001b[0mloss_and_grads\u001b[0m\u001b[0;34m(\u001b[0m\u001b[0mself\u001b[0m\u001b[0;34m.\u001b[0m\u001b[0mmodel\u001b[0m\u001b[0;34m,\u001b[0m \u001b[0mself\u001b[0m\u001b[0;34m.\u001b[0m\u001b[0mguide\u001b[0m\u001b[0;34m,\u001b[0m \u001b[0;34m*\u001b[0m\u001b[0margs\u001b[0m\u001b[0;34m,\u001b[0m \u001b[0;34m**\u001b[0m\u001b[0mkwargs\u001b[0m\u001b[0;34m)\u001b[0m\u001b[0;34m\u001b[0m\u001b[0;34m\u001b[0m\u001b[0m\n\u001b[0m\u001b[1;32m    146\u001b[0m \u001b[0;34m\u001b[0m\u001b[0m\n\u001b[1;32m    147\u001b[0m         params = set(\n",
            "\u001b[0;32m/usr/local/lib/python3.7/dist-packages/pyro/infer/trace_elbo.py\u001b[0m in \u001b[0;36mloss_and_grads\u001b[0;34m(self, model, guide, *args, **kwargs)\u001b[0m\n\u001b[1;32m    155\u001b[0m             ):\n\u001b[1;32m    156\u001b[0m                 \u001b[0msurrogate_loss_particle\u001b[0m \u001b[0;34m=\u001b[0m \u001b[0msurrogate_loss_particle\u001b[0m \u001b[0;34m/\u001b[0m \u001b[0mself\u001b[0m\u001b[0;34m.\u001b[0m\u001b[0mnum_particles\u001b[0m\u001b[0;34m\u001b[0m\u001b[0;34m\u001b[0m\u001b[0m\n\u001b[0;32m--> 157\u001b[0;31m                 \u001b[0msurrogate_loss_particle\u001b[0m\u001b[0;34m.\u001b[0m\u001b[0mbackward\u001b[0m\u001b[0;34m(\u001b[0m\u001b[0mretain_graph\u001b[0m\u001b[0;34m=\u001b[0m\u001b[0mself\u001b[0m\u001b[0;34m.\u001b[0m\u001b[0mretain_graph\u001b[0m\u001b[0;34m)\u001b[0m\u001b[0;34m\u001b[0m\u001b[0;34m\u001b[0m\u001b[0m\n\u001b[0m\u001b[1;32m    158\u001b[0m         \u001b[0mwarn_if_nan\u001b[0m\u001b[0;34m(\u001b[0m\u001b[0mloss\u001b[0m\u001b[0;34m,\u001b[0m \u001b[0;34m\"loss\"\u001b[0m\u001b[0;34m)\u001b[0m\u001b[0;34m\u001b[0m\u001b[0;34m\u001b[0m\u001b[0m\n\u001b[1;32m    159\u001b[0m         \u001b[0;32mreturn\u001b[0m \u001b[0mloss\u001b[0m\u001b[0;34m\u001b[0m\u001b[0;34m\u001b[0m\u001b[0m\n",
            "\u001b[0;32m/usr/local/lib/python3.7/dist-packages/torch/_tensor.py\u001b[0m in \u001b[0;36mbackward\u001b[0;34m(self, gradient, retain_graph, create_graph, inputs)\u001b[0m\n\u001b[1;32m    394\u001b[0m                 \u001b[0mcreate_graph\u001b[0m\u001b[0;34m=\u001b[0m\u001b[0mcreate_graph\u001b[0m\u001b[0;34m,\u001b[0m\u001b[0;34m\u001b[0m\u001b[0;34m\u001b[0m\u001b[0m\n\u001b[1;32m    395\u001b[0m                 inputs=inputs)\n\u001b[0;32m--> 396\u001b[0;31m         \u001b[0mtorch\u001b[0m\u001b[0;34m.\u001b[0m\u001b[0mautograd\u001b[0m\u001b[0;34m.\u001b[0m\u001b[0mbackward\u001b[0m\u001b[0;34m(\u001b[0m\u001b[0mself\u001b[0m\u001b[0;34m,\u001b[0m \u001b[0mgradient\u001b[0m\u001b[0;34m,\u001b[0m \u001b[0mretain_graph\u001b[0m\u001b[0;34m,\u001b[0m \u001b[0mcreate_graph\u001b[0m\u001b[0;34m,\u001b[0m \u001b[0minputs\u001b[0m\u001b[0;34m=\u001b[0m\u001b[0minputs\u001b[0m\u001b[0;34m)\u001b[0m\u001b[0;34m\u001b[0m\u001b[0;34m\u001b[0m\u001b[0m\n\u001b[0m\u001b[1;32m    397\u001b[0m \u001b[0;34m\u001b[0m\u001b[0m\n\u001b[1;32m    398\u001b[0m     \u001b[0;32mdef\u001b[0m \u001b[0mregister_hook\u001b[0m\u001b[0;34m(\u001b[0m\u001b[0mself\u001b[0m\u001b[0;34m,\u001b[0m \u001b[0mhook\u001b[0m\u001b[0;34m)\u001b[0m\u001b[0;34m:\u001b[0m\u001b[0;34m\u001b[0m\u001b[0;34m\u001b[0m\u001b[0m\n",
            "\u001b[0;32m/usr/local/lib/python3.7/dist-packages/torch/autograd/__init__.py\u001b[0m in \u001b[0;36mbackward\u001b[0;34m(tensors, grad_tensors, retain_graph, create_graph, grad_variables, inputs)\u001b[0m\n\u001b[1;32m    173\u001b[0m     Variable._execution_engine.run_backward(  # Calls into the C++ engine to run the backward pass\n\u001b[1;32m    174\u001b[0m         \u001b[0mtensors\u001b[0m\u001b[0;34m,\u001b[0m \u001b[0mgrad_tensors_\u001b[0m\u001b[0;34m,\u001b[0m \u001b[0mretain_graph\u001b[0m\u001b[0;34m,\u001b[0m \u001b[0mcreate_graph\u001b[0m\u001b[0;34m,\u001b[0m \u001b[0minputs\u001b[0m\u001b[0;34m,\u001b[0m\u001b[0;34m\u001b[0m\u001b[0;34m\u001b[0m\u001b[0m\n\u001b[0;32m--> 175\u001b[0;31m         allow_unreachable=True, accumulate_grad=True)  # Calls into the C++ engine to run the backward pass\n\u001b[0m\u001b[1;32m    176\u001b[0m \u001b[0;34m\u001b[0m\u001b[0m\n\u001b[1;32m    177\u001b[0m def grad(\n",
            "\u001b[0;31mKeyboardInterrupt\u001b[0m: "
          ]
        }
      ],
      "source": [
        "# custom_guide = CustomMultivariateNormal(model_vi)\n",
        "# start_time = time.time()\n",
        "# losses = train(model_vi, custom_guide, n_steps = 10000)\n",
        "# end_time = time.time()\n",
        "# print(\"Time:\", end_time - start_time, \"seconds\")"
      ]
    },
    {
      "cell_type": "code",
      "execution_count": null,
      "metadata": {
        "id": "RXImce-PxAsE"
      },
      "outputs": [],
      "source": [
        "custom_guide_full_eps = CustomMultivariateNormal(model_vi, diag_eps = False)\n",
        "start_time = time.time()\n",
        "losses = train(model_vi, custom_guide_full_eps, n_steps = 10000)\n",
        "end_time = time.time()\n",
        "print(\"Time:\", end_time - start_time, \"seconds\")"
      ]
    },
    {
      "cell_type": "code",
      "execution_count": 45,
      "metadata": {
        "colab": {
          "base_uri": "https://localhost:8080/"
        },
        "id": "BvWPVK5x0LH4",
        "outputId": "05c8a579-8f3e-4b62-fb08-8af21098c168"
      },
      "outputs": [
        {
          "output_type": "stream",
          "name": "stdout",
          "text": [
            "[iter 0]  loss: 552290737.8188\n",
            "[iter 500]  loss: 1237449.0020\n",
            "[iter 1000]  loss: 863.9994\n",
            "[iter 1500]  loss: 294.5637\n",
            "[iter 2000]  loss: 222.9045\n",
            "[iter 2500]  loss: 200.4992\n",
            "[iter 3000]  loss: 191.9577\n",
            "[iter 3500]  loss: 188.5263\n",
            "[iter 4000]  loss: 187.4741\n",
            "[iter 4500]  loss: 187.2592\n",
            "[iter 5000]  loss: 187.2321\n",
            "[iter 5500]  loss: 187.2240\n",
            "[iter 6000]  loss: 187.2222\n",
            "[iter 6500]  loss: 187.2256\n",
            "[iter 7000]  loss: 187.2222\n",
            "[iter 7500]  loss: 187.2217\n",
            "[iter 8000]  loss: 187.2254\n",
            "[iter 8500]  loss: 187.2222\n",
            "[iter 9000]  loss: 187.2217\n",
            "[iter 9500]  loss: 187.2255\n",
            "Time: 48.623016595840454 seconds\n"
          ]
        }
      ],
      "source": [
        "autoguide_laplace = pyro.infer.autoguide.AutoLaplaceApproximation(model_vi)\n",
        "start_time = time.time()\n",
        "losses = train(model_vi, autoguide_laplace, lr = 0.005, n_steps = 10000)\n",
        "end_time = time.time()\n",
        "print(\"Time:\", end_time - start_time, \"seconds\")"
      ]
    },
    {
      "cell_type": "code",
      "execution_count": 46,
      "metadata": {
        "colab": {
          "base_uri": "https://localhost:8080/"
        },
        "id": "wAUWlQl1RmEe",
        "outputId": "e7102a2e-715a-423a-ef98-ed2462ad4f08"
      },
      "outputs": [
        {
          "output_type": "stream",
          "name": "stdout",
          "text": [
            "[iter 0]  loss: 186.7092\n",
            "[iter 500]  loss: 189.0906\n",
            "[iter 1000]  loss: 185.5870\n",
            "[iter 1500]  loss: 188.2771\n",
            "[iter 2000]  loss: 186.9329\n",
            "[iter 2500]  loss: 186.4762\n",
            "[iter 3000]  loss: 186.4512\n",
            "[iter 3500]  loss: 186.3890\n",
            "[iter 4000]  loss: 186.5722\n",
            "[iter 4500]  loss: 189.2831\n",
            "[iter 5000]  loss: 194.3542\n",
            "[iter 5500]  loss: 186.4564\n",
            "[iter 6000]  loss: 376.7536\n",
            "[iter 6500]  loss: 186.4949\n",
            "[iter 7000]  loss: 186.4513\n",
            "[iter 7500]  loss: 197.3562\n",
            "[iter 8000]  loss: 231.9784\n",
            "[iter 8500]  loss: 258.5679\n",
            "[iter 9000]  loss: 187.1320\n",
            "[iter 9500]  loss: 214.6540\n"
          ]
        }
      ],
      "source": [
        "new_laplace_approx_guide = autoguide_laplace.laplace_approximation(torch.as_tensor(all_band_fluxes))\n",
        "losses = train(model_vi, new_laplace_approx_guide, n_steps = 10000)"
      ]
    },
    {
      "cell_type": "code",
      "execution_count": 73,
      "metadata": {
        "id": "aLEXdqNslk3d"
      },
      "outputs": [],
      "source": [
        "def calculate_all_fluxes_from_params(nu, theta, mu_s, dMs, Av):\n",
        "  times_to_interpolate = np.linspace(-10, 30, 100)\n",
        "  Jt = spline_coeffs_irr(times_to_interpolate, time_knots, invKD_irr(time_knots))\n",
        "\n",
        "  epsilon_interior = np.matmul(L_sigma_epsilon, nu.numpy().T)\n",
        "\n",
        "  epsilon = np.zeros_like(W0)   ## populate epsilon matrix\n",
        "  epsilon[1:-1] = epsilon_interior.reshape((4,6), order = 'F')\n",
        "\n",
        "  W = W0 + theta.numpy()*W1 + epsilon\n",
        "\n",
        "  generated_fluxes_from_params = []\n",
        "\n",
        "  for band in bands:\n",
        "    band_wavelengths = wavelengths_dict[band]\n",
        "    band_norm_throughput = norm_throughput_dict[band]\n",
        "\n",
        "    Jl = band_Jl[band]\n",
        "    # xis_matrix = band_xis_matrix[band]\n",
        "    # h = band_h[band]\n",
        "\n",
        "    wavelengths_to_interpolate = get_lambda_int_for_band(band_wavelengths)\n",
        "    \n",
        "    # Jl = spline_coeffs_irr(wavelengths_to_interpolate, wavelength_knots, invKD_irr(wavelength_knots))\n",
        "    xis = extinction.fitzpatrick99(wavelengths_to_interpolate, 1, rv)\n",
        "    xis_matrix = np.tile(xis, (len(times_to_interpolate),1)).T\n",
        "\n",
        "    S0 = np.zeros((len(wavelengths_to_interpolate), len(times_to_interpolate)))\n",
        "    for i, wavelength in enumerate(wavelengths_to_interpolate):\n",
        "      for j, time in enumerate(times_to_interpolate):\n",
        "        S0[i][j] = interpolate_hsiao(time, wavelength, hsiao_phase, hsiao_wave, hsiao_flux)\n",
        "\n",
        "    throughput_interpolator = interp1d(band_wavelengths, band_norm_throughput)\n",
        "    b = throughput_interpolator([band_wavelengths[0]] + list(wavelengths_to_interpolate[1:-1] * (1 + z)) + [band_wavelengths[-1]])\n",
        "\n",
        "    xis_obs = extinction.fitzpatrick99(wavelengths_to_interpolate*(1 + z), Av_obs, 3.1)\n",
        "    dLambda = wavelengths_to_interpolate[1] - wavelengths_to_interpolate[0]\n",
        "    h = (1 + z) * dLambda * b * wavelengths_to_interpolate * np.exp(-gamma * xis_obs)\n",
        "\n",
        "    band_flux = get_flux_from_params(torch.as_tensor(epsilon_interior), torch.as_tensor(theta), \n",
        "                                torch.as_tensor(mu_s), torch.as_tensor(dMs), torch.as_tensor(Av),\n",
        "                                xis_matrix = xis_matrix, S0 = S0, h = h, Jt = Jt, Jl = Jl,\n",
        "                                uncertainty = False)\n",
        "    \n",
        "    generated_fluxes_from_params.append(band_flux)\n",
        "  \n",
        "  return np.array(generated_fluxes_from_params)"
      ]
    },
    {
      "cell_type": "code",
      "execution_count": 74,
      "metadata": {
        "id": "nOzVNNXRmCfE"
      },
      "outputs": [],
      "source": [
        "# median_fluxes = calculate_all_fluxes_from_params(autoguide_vi.median()['nu'], autoguide_vi.median()['theta'], autoguide_vi.median()['mu_s'], torch.as_tensor(0.), autoguide_vi.median()['Av'])\n",
        "median_fluxes = calculate_all_fluxes_from_params(new_laplace_approx_guide.median()['nu'], new_laplace_approx_guide.median()['theta'], new_laplace_approx_guide.median()['mu_s'], torch.as_tensor(0.), new_laplace_approx_guide.median()['Av'])"
      ]
    },
    {
      "cell_type": "code",
      "execution_count": 75,
      "metadata": {
        "colab": {
          "base_uri": "https://localhost:8080/",
          "height": 283
        },
        "id": "Cy4vWRYvmZwm",
        "outputId": "cb71ce5a-906e-4218-94b6-8aacd400c72a"
      },
      "outputs": [
        {
          "output_type": "execute_result",
          "data": {
            "text/plain": [
              "<matplotlib.legend.Legend at 0x7f0627507a50>"
            ]
          },
          "metadata": {},
          "execution_count": 75
        },
        {
          "output_type": "display_data",
          "data": {
            "text/plain": [
              "<Figure size 432x288 with 1 Axes>"
            ],
            "image/png": "[encoded data removed]"
          },
          "metadata": {
            "needs_background": "light"
          }
        }
      ],
      "source": [
        "colors  = ['g', 'r', 'c', 'k']\n",
        "for i, band_flux in enumerate(median_fluxes):\n",
        "  plt.plot(np.linspace(-10, 30, 100), band_flux, label = bands[i], color = colors[i])\n",
        "for i, band_flux in enumerate(all_band_fluxes):\n",
        "  plt.plot(times, band_flux, 'o',color = colors[i])\n",
        "plt.legend()"
      ]
    },
    {
      "cell_type": "code",
      "execution_count": 76,
      "metadata": {
        "id": "cspgEnRzgzmI"
      },
      "outputs": [],
      "source": [
        "lower_quartile = autoguide_vi.quantiles([0.5 - 0.341])\n",
        "upper_quartile = autoguide_vi.quantiles([0.5 + 0.341])\n",
        "median = autoguide_vi.quantiles([0.5])"
      ]
    },
    {
      "cell_type": "code",
      "execution_count": 77,
      "metadata": {
        "id": "fqqwH6DUR48h"
      },
      "outputs": [],
      "source": [
        "upper_bound = calculate_all_fluxes_from_params(upper_quartile['nu'], upper_quartile['theta'], upper_quartile['mu_s'], torch.as_tensor(0.), upper_quartile['Av'])\n",
        "lower_bound = calculate_all_fluxes_from_params(lower_quartile['nu'], lower_quartile['theta'], lower_quartile['mu_s'], torch.as_tensor(0.), lower_quartile['Av'])\n",
        "median_flux = calculate_all_fluxes_from_params(median['nu'], median['theta'], median['mu_s'], torch.as_tensor(0.), median['Av'])"
      ]
    },
    {
      "cell_type": "code",
      "execution_count": 79,
      "metadata": {
        "colab": {
          "base_uri": "https://localhost:8080/",
          "height": 283
        },
        "id": "kfMJ0A7ISC4z",
        "outputId": "cf48029f-71e7-4de5-ff6d-be2e2e0b07a5"
      },
      "outputs": [
        {
          "output_type": "execute_result",
          "data": {
            "text/plain": [
              "<matplotlib.legend.Legend at 0x7f06271f63d0>"
            ]
          },
          "metadata": {},
          "execution_count": 79
        },
        {
          "output_type": "display_data",
          "data": {
            "text/plain": [
              "<Figure size 432x288 with 1 Axes>"
            ],
            "image/png": "[encoded data removed]"
          },
          "metadata": {
            "needs_background": "light"
          }
        }
      ],
      "source": [
        "colors  = ['g', 'r', 'c', 'k']\n",
        "for i, band_flux in enumerate(median_flux):\n",
        "  plt.plot(np.linspace(-10, 30, 100), band_flux, label = bands[i], color = colors[i])\n",
        "  plt.fill_between(np.linspace(-10, 30, 100), upper_bound[i], lower_bound[i], color = colors[i], alpha = 0.2)\n",
        "for i, band_flux in enumerate(all_band_fluxes):\n",
        "  plt.plot(times, band_flux, 'o',color = colors[i])\n",
        "plt.legend()"
      ]
    },
    {
      "cell_type": "markdown",
      "metadata": {
        "id": "3aX4MxMmEZ03"
      },
      "source": [
        "## Compare with MCMC"
      ]
    },
    {
      "cell_type": "code",
      "execution_count": 47,
      "metadata": {
        "id": "mPEIX9XI5oN8"
      },
      "outputs": [],
      "source": [
        "def model_mcmc(obs = torch.as_tensor(all_band_fluxes)):\n",
        "  # epsilon_interior = pyro.sample(\"eps_int\", dist.MultivariateNormal(torch.zeros(len(eps_cov)), covariance_matrix = eps_cov))\n",
        "\n",
        "  nu = pyro.sample(\"nu\", dist.MultivariateNormal(torch.zeros(len(eps_cov)), covariance_matrix = torch.eye(len(eps_cov))))\n",
        "  # nu = torch.zeros(54)\n",
        "  nu = torch.as_tensor(torch.squeeze(nu), dtype = torch.double)\n",
        "  # print(nu.type())\n",
        "  epsilon_interior = torch.matmul(torch.as_tensor(L_sigma_epsilon, dtype = torch.double), nu)\n",
        "  # print(epsilon_interior)\n",
        "\n",
        "  # theta = pyro.sample(\"theta\", dist.Uniform(low=-1.49, high=2.77))\n",
        "  theta = pyro.sample(\"theta\", dist.Normal(0., 1.0))\n",
        "  # theta = torch.as_tensor(0.03430605)\n",
        "\n",
        "  # theta = torch.as_tensor(-0.9835187)\n",
        "  mu_s = pyro.sample(\"mu_s\", dist.Normal(mu_mean, 10.)) ## fix this later\n",
        "  # mu_s = torch.as_tensor(37.248927127193724)\n",
        "\n",
        "  # dMs = pyro.sample(\"Ms\", dist.Normal(torch.tensor(0.), torch.tensor(sigma0)))\n",
        "  dMs = torch.tensor(0.)\n",
        "  Av = pyro.sample(\"Av\", dist.Exponential(1 / tauA))\n",
        "  # Av = torch.tensor(7.2387767)\n",
        "  # Av = pyro.sample(\"Av\", dist.Normal(0.27, 1.))\n",
        "\n",
        "  epsilon = torch.zeros(W0.shape)   ## populate epsilon matrix\n",
        "  epsilon[1:-1] = torch.transpose(torch.reshape(epsilon_interior, (6,4)), 0, 1)\n",
        "\n",
        "  W = torch.as_tensor(W0) + theta*torch.as_tensor(W1) + epsilon\n",
        "\n",
        "  generated_fluxes = []\n",
        "\n",
        "  for band in bands:\n",
        "    Jl = band_Jl[band]\n",
        "    S0 = band_S0[band]\n",
        "    xis_matrix = band_xis_matrix[band]\n",
        "    h = band_h[band]\n",
        "\n",
        "    JlWJt = torch.matmul(torch.as_tensor(Jl), torch.matmul(W, torch.as_tensor(Jt.T)))\n",
        "\n",
        "    Stilde = torch.as_tensor(S0) * torch.exp(-gamma * (JlWJt + Av * torch.as_tensor(xis_matrix)))\n",
        "\n",
        "    f = 10**(0.4 * (torch.as_tensor(ZPT) - mu_s - torch.as_tensor(M0) - dMs)) * torch.matmul(torch.as_tensor(h), torch.as_tensor(Stilde))\n",
        "    generated_fluxes.append(f)\n",
        "\n",
        "  generated_fluxes = torch.stack(generated_fluxes)\n",
        "  # print(generated_fluxes)\n",
        "\n",
        "  with pyro.plate(\"bands\"):\n",
        "    with pyro.plate(\"observations\"):\n",
        "      pyro.sample(\"flux\", dist.Normal(generated_fluxes, 0.02 * generated_fluxes), obs = obs)"
      ]
    },
    {
      "cell_type": "code",
      "execution_count": 48,
      "metadata": {
        "id": "Ig9CGTGsjgii"
      },
      "outputs": [],
      "source": [
        "num_chains = 1\n",
        "\n",
        "initial_params = {'mu_s':torch.tensor([pyro.sample(\"mu_s\", dist.Normal(mu_mean, 0.5)) for i in range(num_chains)]),\n",
        "                  'theta': torch.tensor([pyro.sample(\"theta\", dist.Normal(0., 1.0)) for i in range(num_chains)]),\n",
        "                  'Av': torch.tensor([pyro.sample(\"Av\", dist.Exponential(1 / tauA)) for i in range(num_chains)]),\n",
        "                  'nu': torch.stack([pyro.sample(\"nu\", dist.MultivariateNormal(torch.zeros(len(eps_cov)), covariance_matrix = torch.eye(len(eps_cov)))) for i in range(num_chains)])}"
      ]
    },
    {
      "cell_type": "code",
      "execution_count": 79,
      "metadata": {
        "colab": {
          "base_uri": "https://localhost:8080/"
        },
        "id": "VyGEMebnXeEP",
        "outputId": "b7516e0d-11ac-4011-9b6c-85b6ca433f4d"
      },
      "outputs": [
        {
          "output_type": "stream",
          "name": "stdout",
          "text": [
            "Total: 578.0379931926727 seconds\n"
          ]
        }
      ],
      "source": [
        "nuts_kernel = pyro.infer.NUTS(model_mcmc, adapt_step_size=True)\n",
        "\n",
        "mcmc = pyro.infer.MCMC(nuts_kernel, initial_params = initial_params, num_samples=1000, warmup_steps=250, num_chains = num_chains, disable_progbar = True)\n",
        "\n",
        "start_time = time.time()\n",
        "mcmc.run(torch.as_tensor(all_band_fluxes))\n",
        "end_time = time.time()\n",
        "print(\"Total:\", end_time - start_time, \"seconds\")"
      ]
    },
    {
      "cell_type": "code",
      "execution_count": 50,
      "metadata": {
        "colab": {
          "base_uri": "https://localhost:8080/"
        },
        "id": "Ubfv--Sr1m_w",
        "outputId": "c7db6f93-aba0-47c9-a914-a29f5b4032fc"
      },
      "outputs": [
        {
          "output_type": "stream",
          "name": "stdout",
          "text": [
            "\n",
            "                mean       std    median      5.0%     95.0%     n_eff     r_hat\n",
            "     Av[0]      0.07      0.04      0.06      0.00      0.13    204.39      1.00\n",
            "   mu_s[0]     36.66      0.04     36.67     36.59     36.73    208.78      1.00\n",
            "   nu[0,0]     -1.01      0.42     -1.00     -1.69     -0.35    277.65      1.00\n",
            "   nu[0,1]     -0.14      0.36     -0.14     -0.75      0.38    275.48      1.00\n",
            "   nu[0,2]     -2.43      0.39     -2.44     -3.06     -1.83    554.71      1.00\n",
            "   nu[0,3]      1.11      0.51      1.09      0.22      1.87    558.26      1.00\n",
            "   nu[0,4]      1.15      0.61      1.14      0.21      2.19    234.73      1.00\n",
            "   nu[0,5]      0.28      0.62      0.26     -0.73      1.26    428.80      1.00\n",
            "   nu[0,6]      2.58      0.57      2.57      1.66      3.49    247.57      1.00\n",
            "   nu[0,7]     -0.82      0.50     -0.82     -1.64     -0.02    296.05      1.00\n",
            "   nu[0,8]     -0.25      0.54     -0.25     -1.09      0.62    308.20      1.00\n",
            "   nu[0,9]     -1.28      0.55     -1.27     -2.23     -0.39    230.14      1.00\n",
            "  nu[0,10]     -0.15      0.54     -0.18     -1.01      0.76    321.40      1.00\n",
            "  nu[0,11]     -1.09      0.51     -1.10     -2.02     -0.33    524.90      1.00\n",
            "  nu[0,12]     -0.37      0.57     -0.36     -1.29      0.57    307.06      1.01\n",
            "  nu[0,13]     -0.74      0.56     -0.72     -1.58      0.22    256.42      1.00\n",
            "  nu[0,14]     -0.98      0.49     -0.94     -1.88     -0.24    322.59      1.00\n",
            "  nu[0,15]     -1.00      0.67     -0.99     -2.20     -0.05    424.24      1.00\n",
            "  nu[0,16]     -1.42      0.78     -1.47     -2.78     -0.14    863.77      1.00\n",
            "  nu[0,17]      0.54      0.92      0.52     -0.79      2.18    593.20      1.00\n",
            "  nu[0,18]      0.94      0.92      0.97     -0.47      2.62    502.03      1.00\n",
            "  nu[0,19]      0.15      0.95      0.16     -1.52      1.56    413.97      1.00\n",
            "  nu[0,20]      0.11      0.97      0.05     -1.61      1.60    477.15      1.00\n",
            "  nu[0,21]     -0.25      1.02     -0.20     -1.85      1.48    955.81      1.00\n",
            "  nu[0,22]     -0.14      0.99     -0.13     -1.83      1.50    630.79      1.00\n",
            "  nu[0,23]     -0.03      0.96      0.01     -1.62      1.34    555.25      1.00\n",
            "  theta[0]     -1.31      0.18     -1.29     -1.60     -1.03    243.81      1.00\n",
            "\n",
            "Number of divergences: 0\n"
          ]
        }
      ],
      "source": [
        "mcmc.summary()"
      ]
    },
    {
      "cell_type": "code",
      "execution_count": null,
      "metadata": {
        "colab": {
          "base_uri": "https://localhost:8080/"
        },
        "id": "HN_MQDmh5TP3",
        "outputId": "351164c7-5e66-4f5e-c62c-09cc9520b23d"
      },
      "outputs": [
        {
          "data": {
            "text/plain": [
              "(tensor(1.1690, dtype=torch.float64),\n",
              " tensor(0.5466, dtype=torch.float64),\n",
              " tensor(34.0621, dtype=torch.float64))"
            ]
          },
          "execution_count": 294,
          "metadata": {},
          "output_type": "execute_result"
        }
      ],
      "source": [
        "mcmc.get_samples(num_samples = 100)['theta'].median(), mcmc.get_samples(num_samples = 100)['Av'].median(), mcmc.get_samples(num_samples = 100)['mu_s'].median()"
      ]
    },
    {
      "cell_type": "code",
      "execution_count": null,
      "metadata": {
        "colab": {
          "base_uri": "https://localhost:8080/",
          "height": 171
        },
        "id": "H5K0O56WSkHU",
        "outputId": "dcc13409-0634-49c8-a11c-1a8377cd991b"
      },
      "outputs": [
        {
          "ename": "NameError",
          "evalue": "ignored",
          "output_type": "error",
          "traceback": [
            "\u001b[0;31m---------------------------------------------------------------------------\u001b[0m",
            "\u001b[0;31mNameError\u001b[0m                                 Traceback (most recent call last)",
            "\u001b[0;32m<ipython-input-295-2e8ef98be2fe>\u001b[0m in \u001b[0;36m<module>\u001b[0;34m()\u001b[0m\n\u001b[0;32m----> 1\u001b[0;31m \u001b[0mmedian\u001b[0m\u001b[0;34m[\u001b[0m\u001b[0;34m'theta'\u001b[0m\u001b[0;34m]\u001b[0m\u001b[0;34m,\u001b[0m \u001b[0mmedian\u001b[0m\u001b[0;34m[\u001b[0m\u001b[0;34m'Av'\u001b[0m\u001b[0;34m]\u001b[0m\u001b[0;34m,\u001b[0m \u001b[0mmedian\u001b[0m\u001b[0;34m[\u001b[0m\u001b[0;34m'mu_s'\u001b[0m\u001b[0;34m]\u001b[0m\u001b[0;34m\u001b[0m\u001b[0;34m\u001b[0m\u001b[0m\n\u001b[0m",
            "\u001b[0;31mNameError\u001b[0m: name 'median' is not defined"
          ]
        }
      ],
      "source": [
        "median['theta'], median['Av'], median['mu_s']"
      ]
    },
    {
      "cell_type": "code",
      "execution_count": null,
      "metadata": {
        "colab": {
          "base_uri": "https://localhost:8080/"
        },
        "id": "AwhA3_vySLRe",
        "outputId": "397cf4d7-ed49-44ce-f2ca-7c60842ebe92"
      },
      "outputs": [
        {
          "data": {
            "text/plain": [
              "(array(-1.4260887, dtype=float32),\n",
              " array(0.3082045, dtype=float32),\n",
              " 37.064628077409765)"
            ]
          },
          "execution_count": 135,
          "metadata": {},
          "output_type": "execute_result"
        }
      ],
      "source": [
        "true_theta, true_Av, true_mu_s"
      ]
    },
    {
      "cell_type": "code",
      "execution_count": null,
      "metadata": {
        "id": "fuzxec0s13kO"
      },
      "outputs": [],
      "source": [
        "mcmc_median_vals = {}\n",
        "for param in ['theta', 'Av', 'mu_s', 'nu']:\n",
        "  if param == 'nu':\n",
        "    mcmc_median_vals[param] = mcmc.get_samples(num_samples = 100)[param].median(dim = 0).values.float()\n",
        "  else:\n",
        "    mcmc_median_vals[param] = mcmc.get_samples(num_samples = 100)[param].median().float()"
      ]
    },
    {
      "cell_type": "code",
      "execution_count": null,
      "metadata": {
        "id": "dLX34Na02DsZ"
      },
      "outputs": [],
      "source": [
        "mcmc_median_vals"
      ]
    },
    {
      "cell_type": "code",
      "execution_count": null,
      "metadata": {
        "id": "P40Dh2PMSVTH"
      },
      "outputs": [],
      "source": [
        "mcmc.get_samples(num_samples = 100)['Av']"
      ]
    },
    {
      "cell_type": "code",
      "execution_count": null,
      "metadata": {
        "id": "X3AbKxOrSqb8"
      },
      "outputs": [],
      "source": [
        "mcmc_posterior_samples = Predictive(model_mcmc, num_samples = 100)(None,)\n",
        "# mcmc_posterior_samples"
      ]
    },
    {
      "cell_type": "code",
      "execution_count": null,
      "metadata": {
        "colab": {
          "base_uri": "https://localhost:8080/"
        },
        "id": "8dSYrHSrdhbt",
        "outputId": "11aed48c-94e4-46b3-c700-69c41b39ea7f"
      },
      "outputs": [
        {
          "data": {
            "text/plain": [
              "torch.Size([100])"
            ]
          },
          "execution_count": 300,
          "metadata": {},
          "output_type": "execute_result"
        }
      ],
      "source": [
        "posterior_samples = Predictive(model_vi, guide = autoguide_vi, num_samples = 100)(None,)\n",
        "posterior_samples['Av'][:,0,0].shape"
      ]
    },
    {
      "cell_type": "code",
      "execution_count": null,
      "metadata": {
        "id": "MJbRSxw8tXfI"
      },
      "outputs": [],
      "source": [
        "custom_guide_samples = Predictive(model_vi, guide = custom_guide, num_samples = 100)(None,)\n",
        "custom_guide_samples['Av'][:,0,0].shape"
      ]
    },
    {
      "cell_type": "code",
      "execution_count": null,
      "metadata": {
        "id": "UNiWDteSxvlL"
      },
      "outputs": [],
      "source": [
        "custom_guide_full_eps\n",
        "custom_guide_full_eps_samples = Predictive(model_vi, guide = custom_guide_full_eps, num_samples = 100)(None,)\n",
        "custom_guide_full_eps_samples['Av'][:,0,0].shape"
      ]
    },
    {
      "cell_type": "code",
      "execution_count": null,
      "metadata": {
        "id": "PMeZGo9Wtd_c"
      },
      "outputs": [],
      "source": [
        "custom_guide_smooth_curves = []\n",
        "for nu, theta, mu_s, Av in zip(custom_guide_samples['nu'][:,0,0], custom_guide_samples['theta'][:,0,0], custom_guide_samples['mu_s'][:,0,0], custom_guide_samples['Av'][:,0,0]):\n",
        "  # print(nu, theta, mu_s, Av)\n",
        "  custom_guide_smooth_curves.append(calculate_all_fluxes_from_params(nu, theta, mu_s, torch.as_tensor(0.), Av))"
      ]
    },
    {
      "cell_type": "code",
      "execution_count": null,
      "metadata": {
        "id": "0sJZvrd28XmE"
      },
      "outputs": [],
      "source": [
        "posterior_smooth_curves = []\n",
        "for nu, theta, mu_s, Av in zip(posterior_samples['nu'][:,0,0], posterior_samples['theta'][:,0,0], posterior_samples['mu_s'][:,0,0], posterior_samples['Av'][:,0,0]):\n",
        "  # print(nu, theta, mu_s, Av)\n",
        "  posterior_smooth_curves.append(calculate_all_fluxes_from_params(nu, theta, mu_s, torch.as_tensor(0.), Av))"
      ]
    },
    {
      "cell_type": "code",
      "execution_count": null,
      "metadata": {
        "id": "Ir9Yo_Mz0DX9"
      },
      "outputs": [],
      "source": [
        "# posterior_smooth_curves = []\n",
        "# for this_theta, this_mu_s, this_Av in zip(posterior_samples['theta'][:,0,0], posterior_samples['mu_s'][:,0,0], posterior_samples['Av'][:,0,0]):\n",
        "#   # print(nu, theta, mu_s, Av)\n",
        "#   posterior_smooth_curves.append(calculate_all_fluxes_from_params(true_nu, this_theta, this_mu_s, torch.as_tensor(0.), this_Av))"
      ]
    },
    {
      "cell_type": "code",
      "execution_count": null,
      "metadata": {
        "id": "nFLj6S6z_OH2"
      },
      "outputs": [],
      "source": [
        "posterior_smooth_curves = np.array(posterior_smooth_curves)"
      ]
    },
    {
      "cell_type": "code",
      "execution_count": null,
      "metadata": {
        "id": "3Z9TqsWD_arw"
      },
      "outputs": [],
      "source": [
        "median_posterior_fit = np.median(posterior_smooth_curves, axis = 0)\n",
        "upper_posterior_fit = np.percentile(posterior_smooth_curves, 50 + 34.1, axis = 0)\n",
        "lower_posterior_fit = np.percentile(posterior_smooth_curves, 50 - 34.1, axis = 0)"
      ]
    },
    {
      "cell_type": "code",
      "execution_count": null,
      "metadata": {
        "colab": {
          "base_uri": "https://localhost:8080/",
          "height": 279
        },
        "id": "03LsldOvlhvR",
        "outputId": "823c9e53-3a25-4482-bf73-c2c1c3fd4a46"
      },
      "outputs": [
        {
          "data": {
            "image/png": "[encoded data removed]",
            "text/plain": [
              "<Figure size 432x288 with 1 Axes>"
            ]
          },
          "metadata": {},
          "output_type": "display_data"
        }
      ],
      "source": [
        "f = plt.figure()\n",
        "colors  = ['g', 'r', 'c', 'k']\n",
        "for i, band_flux in enumerate(median_posterior_fit):\n",
        "    plt.plot(np.linspace(-10, 30), band_flux, color = colors[i])\n",
        "    plt.fill_between(np.linspace(-10, 30), upper_posterior_fit[i], lower_posterior_fit[i], color = colors[i], alpha = 0.2)\n",
        "for i, band_flux in enumerate(all_band_fluxes):\n",
        "  plt.plot(times, band_flux, 'o',color = colors[i], label = bands[i])\n",
        "plt.legend()\n",
        "plt.xlabel(\"Time (days)\")\n",
        "plt.ylabel(\"Flux\")\n",
        "f.savefig(\"SimulatedLightCurve_072722.pdf\")\n",
        "# plt.title(\"Posterior samples from VI\")"
      ]
    },
    {
      "cell_type": "code",
      "execution_count": null,
      "metadata": {
        "id": "-8s8m9FxKkfA"
      },
      "outputs": [],
      "source": [
        "# mcmc_posterior_samples"
      ]
    },
    {
      "cell_type": "code",
      "execution_count": null,
      "metadata": {
        "colab": {
          "base_uri": "https://localhost:8080/",
          "height": 378
        },
        "id": "cNpTnksvAhZP",
        "outputId": "86ea4af1-f4f9-4174-d399-0de9d93c7d17"
      },
      "outputs": [
        {
          "ename": "KeyboardInterrupt",
          "evalue": "ignored",
          "output_type": "error",
          "traceback": [
            "\u001b[0;31m---------------------------------------------------------------------------\u001b[0m",
            "\u001b[0;31mKeyboardInterrupt\u001b[0m                         Traceback (most recent call last)",
            "\u001b[0;32m<ipython-input-136-20e23c168ba4>\u001b[0m in \u001b[0;36m<module>\u001b[0;34m()\u001b[0m\n\u001b[1;32m      5\u001b[0m \u001b[0;32mfor\u001b[0m \u001b[0mnu\u001b[0m\u001b[0;34m,\u001b[0m \u001b[0mtheta\u001b[0m\u001b[0;34m,\u001b[0m \u001b[0mmu_s\u001b[0m\u001b[0;34m,\u001b[0m \u001b[0mAv\u001b[0m \u001b[0;32min\u001b[0m \u001b[0mzip\u001b[0m\u001b[0;34m(\u001b[0m\u001b[0mmcmc_posterior_samples\u001b[0m\u001b[0;34m[\u001b[0m\u001b[0;34m'nu'\u001b[0m\u001b[0;34m]\u001b[0m\u001b[0;34m,\u001b[0m \u001b[0mmcmc_posterior_samples\u001b[0m\u001b[0;34m[\u001b[0m\u001b[0;34m'theta'\u001b[0m\u001b[0;34m]\u001b[0m\u001b[0;34m,\u001b[0m \u001b[0mmcmc_posterior_samples\u001b[0m\u001b[0;34m[\u001b[0m\u001b[0;34m'mu_s'\u001b[0m\u001b[0;34m]\u001b[0m\u001b[0;34m,\u001b[0m \u001b[0mmcmc_posterior_samples\u001b[0m\u001b[0;34m[\u001b[0m\u001b[0;34m'Av'\u001b[0m\u001b[0;34m]\u001b[0m\u001b[0;34m)\u001b[0m\u001b[0;34m:\u001b[0m\u001b[0;34m\u001b[0m\u001b[0;34m\u001b[0m\u001b[0m\n\u001b[1;32m      6\u001b[0m   \u001b[0;31m# print(nu, theta, mu_s, Av)\u001b[0m\u001b[0;34m\u001b[0m\u001b[0;34m\u001b[0m\u001b[0;34m\u001b[0m\u001b[0m\n\u001b[0;32m----> 7\u001b[0;31m   \u001b[0mmcmc_smooth_curves\u001b[0m\u001b[0;34m.\u001b[0m\u001b[0mappend\u001b[0m\u001b[0;34m(\u001b[0m\u001b[0mcalculate_all_fluxes_from_params\u001b[0m\u001b[0;34m(\u001b[0m\u001b[0mnu\u001b[0m\u001b[0;34m,\u001b[0m \u001b[0mtheta\u001b[0m\u001b[0;34m,\u001b[0m \u001b[0mmu_s\u001b[0m\u001b[0;34m,\u001b[0m \u001b[0mtorch\u001b[0m\u001b[0;34m.\u001b[0m\u001b[0mas_tensor\u001b[0m\u001b[0;34m(\u001b[0m\u001b[0;36m0.\u001b[0m\u001b[0;34m)\u001b[0m\u001b[0;34m,\u001b[0m \u001b[0mAv\u001b[0m\u001b[0;34m)\u001b[0m\u001b[0;34m)\u001b[0m\u001b[0;34m\u001b[0m\u001b[0;34m\u001b[0m\u001b[0m\n\u001b[0m",
            "\u001b[0;32m<ipython-input-47-4b6424f44f16>\u001b[0m in \u001b[0;36mcalculate_all_fluxes_from_params\u001b[0;34m(nu, theta, mu_s, dMs, Av)\u001b[0m\n\u001b[1;32m     29\u001b[0m     \u001b[0;32mfor\u001b[0m \u001b[0mi\u001b[0m\u001b[0;34m,\u001b[0m \u001b[0mwavelength\u001b[0m \u001b[0;32min\u001b[0m \u001b[0menumerate\u001b[0m\u001b[0;34m(\u001b[0m\u001b[0mwavelengths_to_interpolate\u001b[0m\u001b[0;34m)\u001b[0m\u001b[0;34m:\u001b[0m\u001b[0;34m\u001b[0m\u001b[0;34m\u001b[0m\u001b[0m\n\u001b[1;32m     30\u001b[0m       \u001b[0;32mfor\u001b[0m \u001b[0mj\u001b[0m\u001b[0;34m,\u001b[0m \u001b[0mtime\u001b[0m \u001b[0;32min\u001b[0m \u001b[0menumerate\u001b[0m\u001b[0;34m(\u001b[0m\u001b[0mtimes_to_interpolate\u001b[0m\u001b[0;34m)\u001b[0m\u001b[0;34m:\u001b[0m\u001b[0;34m\u001b[0m\u001b[0;34m\u001b[0m\u001b[0m\n\u001b[0;32m---> 31\u001b[0;31m         \u001b[0mS0\u001b[0m\u001b[0;34m[\u001b[0m\u001b[0mi\u001b[0m\u001b[0;34m]\u001b[0m\u001b[0;34m[\u001b[0m\u001b[0mj\u001b[0m\u001b[0;34m]\u001b[0m \u001b[0;34m=\u001b[0m \u001b[0minterpolate_hsiao\u001b[0m\u001b[0;34m(\u001b[0m\u001b[0mtime\u001b[0m\u001b[0;34m,\u001b[0m \u001b[0mwavelength\u001b[0m\u001b[0;34m,\u001b[0m \u001b[0mhsiao_phase\u001b[0m\u001b[0;34m,\u001b[0m \u001b[0mhsiao_wave\u001b[0m\u001b[0;34m,\u001b[0m \u001b[0mhsiao_flux\u001b[0m\u001b[0;34m)\u001b[0m\u001b[0;34m\u001b[0m\u001b[0;34m\u001b[0m\u001b[0m\n\u001b[0m\u001b[1;32m     32\u001b[0m \u001b[0;34m\u001b[0m\u001b[0m\n\u001b[1;32m     33\u001b[0m     \u001b[0mthroughput_interpolator\u001b[0m \u001b[0;34m=\u001b[0m \u001b[0minterp1d\u001b[0m\u001b[0;34m(\u001b[0m\u001b[0mband_wavelengths\u001b[0m\u001b[0;34m,\u001b[0m \u001b[0mband_norm_throughput\u001b[0m\u001b[0;34m)\u001b[0m\u001b[0;34m\u001b[0m\u001b[0;34m\u001b[0m\u001b[0m\n",
            "\u001b[0;32m/content/spline_hsiao_fns.py\u001b[0m in \u001b[0;36minterpolate_hsiao\u001b[0;34m(t_int, l_int, t_hsiao, l_hsiao, f_hsiao)\u001b[0m\n\u001b[1;32m    195\u001b[0m \t\"\"\"\n\u001b[1;32m    196\u001b[0m         \u001b[0mdt\u001b[0m \u001b[0;34m=\u001b[0m \u001b[0mt_hsiao\u001b[0m\u001b[0;34m[\u001b[0m\u001b[0;36m1\u001b[0m\u001b[0;34m]\u001b[0m \u001b[0;34m-\u001b[0m \u001b[0mt_hsiao\u001b[0m\u001b[0;34m[\u001b[0m\u001b[0;36m0\u001b[0m\u001b[0;34m]\u001b[0m\u001b[0;34m\u001b[0m\u001b[0;34m\u001b[0m\u001b[0m\n\u001b[0;32m--> 197\u001b[0;31m         \u001b[0mmask0\u001b[0m \u001b[0;34m=\u001b[0m \u001b[0;34m(\u001b[0m\u001b[0mt_hsiao\u001b[0m \u001b[0;34m<=\u001b[0m \u001b[0mt_int\u001b[0m\u001b[0;34m)\u001b[0m\u001b[0;34m*\u001b[0m\u001b[0;34m(\u001b[0m\u001b[0mt_hsiao\u001b[0m \u001b[0;34m>\u001b[0m \u001b[0mt_int\u001b[0m \u001b[0;34m-\u001b[0m \u001b[0mdt\u001b[0m\u001b[0;34m)\u001b[0m\u001b[0;34m\u001b[0m\u001b[0;34m\u001b[0m\u001b[0m\n\u001b[0m\u001b[1;32m    198\u001b[0m         \u001b[0mmask1\u001b[0m \u001b[0;34m=\u001b[0m \u001b[0;34m(\u001b[0m\u001b[0mt_hsiao\u001b[0m \u001b[0;34m>\u001b[0m \u001b[0mt_int\u001b[0m\u001b[0;34m)\u001b[0m\u001b[0;34m*\u001b[0m\u001b[0;34m(\u001b[0m\u001b[0mt_hsiao\u001b[0m \u001b[0;34m<=\u001b[0m \u001b[0mt_int\u001b[0m \u001b[0;34m+\u001b[0m \u001b[0mdt\u001b[0m\u001b[0;34m)\u001b[0m\u001b[0;34m\u001b[0m\u001b[0;34m\u001b[0m\u001b[0m\n\u001b[1;32m    199\u001b[0m         \u001b[0mt0\u001b[0m \u001b[0;34m=\u001b[0m \u001b[0mt_hsiao\u001b[0m\u001b[0;34m[\u001b[0m\u001b[0mmask0\u001b[0m\u001b[0;34m]\u001b[0m\u001b[0;34m\u001b[0m\u001b[0;34m\u001b[0m\u001b[0m\n",
            "\u001b[0;31mKeyboardInterrupt\u001b[0m: "
          ]
        }
      ],
      "source": [
        "mcmc_smooth_curves = []\n",
        "\n",
        "mcmc_posterior_samples = mcmc.get_samples(num_samples = 100)\n",
        "# print(mcmc_posterior_samples)\n",
        "for nu, theta, mu_s, Av in zip(mcmc_posterior_samples['nu'], mcmc_posterior_samples['theta'], mcmc_posterior_samples['mu_s'], mcmc_posterior_samples['Av']):\n",
        "  # print(nu, theta, mu_s, Av)\n",
        "  mcmc_smooth_curves.append(calculate_all_fluxes_from_params(nu, theta, mu_s, torch.as_tensor(0.), Av))"
      ]
    },
    {
      "cell_type": "code",
      "execution_count": null,
      "metadata": {
        "id": "XT_2HYCX0kWX"
      },
      "outputs": [],
      "source": [
        "# mcmc_smooth_curves = []\n",
        "\n",
        "# mcmc_posterior_samples = mcmc.get_samples(num_samples = 100)\n",
        "# # print(mcmc_posterior_samples)\n",
        "# for this_theta, this_mu_s, this_Av in zip(mcmc_posterior_samples['theta'], mcmc_posterior_samples['mu_s'], mcmc_posterior_samples['Av']):\n",
        "#   # print(nu, theta, mu_s, Av)\n",
        "#   mcmc_smooth_curves.append(calculate_all_fluxes_from_params(true_nu, this_theta, this_mu_s, torch.as_tensor(0.), this_Av))"
      ]
    },
    {
      "cell_type": "code",
      "execution_count": null,
      "metadata": {
        "id": "r0ThxsEzCt8I"
      },
      "outputs": [],
      "source": [
        "median_mcmc_fit = np.median(mcmc_smooth_curves, axis = 0)\n",
        "upper_mcmc_fit = np.percentile(mcmc_smooth_curves, 50 + 34.1, axis = 0)\n",
        "lower_mcmc_fit = np.percentile(mcmc_smooth_curves, 50 - 34.1, axis = 0)"
      ]
    },
    {
      "cell_type": "code",
      "execution_count": null,
      "metadata": {
        "id": "SLaP_cW6r_QT"
      },
      "outputs": [],
      "source": [
        "colors  = ['g', 'r', 'c', 'k']\n",
        "for i, band_flux in enumerate(median_mcmc_fit):\n",
        "    plt.plot(np.linspace(-10, 30), band_flux, color = colors[i])\n",
        "    plt.fill_between(np.linspace(-10, 30), upper_mcmc_fit[i], lower_mcmc_fit[i], color = colors[i], alpha = 0.2)\n",
        "for i, band_flux in enumerate(all_band_fluxes):\n",
        "  plt.plot(times, band_flux, 'o',color = colors[i], label = bands[i])\n",
        "plt.legend()\n",
        "plt.title(\"Posterior samples from MCMC\")"
      ]
    },
    {
      "cell_type": "code",
      "execution_count": 80,
      "metadata": {
        "id": "crFoY7ULwjux"
      },
      "outputs": [],
      "source": [
        "num_corner_samples = 1000\n",
        "mcmc_corner_samples = mcmc.get_samples(num_samples = num_corner_samples)"
      ]
    },
    {
      "cell_type": "code",
      "execution_count": null,
      "metadata": {
        "id": "gKP469muYteN"
      },
      "outputs": [],
      "source": [
        "vi_corner_samples = Predictive(model_vi, guide = autoguide_vi, num_samples = num_corner_samples)(None,)"
      ]
    },
    {
      "cell_type": "code",
      "execution_count": 52,
      "metadata": {
        "id": "syz3X30NYriR"
      },
      "outputs": [],
      "source": [
        "# custom_vi_corner_samples = Predictive(model_vi, guide = custom_guide, num_samples = num_corner_samples)(None,)"
      ]
    },
    {
      "cell_type": "code",
      "execution_count": null,
      "metadata": {
        "id": "KGXR1jLdx2Og"
      },
      "outputs": [],
      "source": [
        "custom_vi_full_eps_corner_samples = Predictive(model_vi, guide = custom_guide_full_eps, num_samples = num_corner_samples)(None,)"
      ]
    },
    {
      "cell_type": "code",
      "execution_count": null,
      "metadata": {
        "id": "steaRchCCS2S"
      },
      "outputs": [],
      "source": [
        "laplace_guide = autoguide_laplace.laplace_approximation(torch.as_tensor(all_band_fluxes))"
      ]
    },
    {
      "cell_type": "code",
      "execution_count": null,
      "metadata": {
        "colab": {
          "base_uri": "https://localhost:8080/",
          "height": 343
        },
        "id": "Onf-3e1O0g6l",
        "outputId": "418af812-bd8e-43d2-f33c-44772420e6ee"
      },
      "outputs": [
        {
          "ename": "KeyboardInterrupt",
          "evalue": "ignored",
          "output_type": "error",
          "traceback": [
            "\u001b[0;31m---------------------------------------------------------------------------\u001b[0m",
            "\u001b[0;31mKeyboardInterrupt\u001b[0m                         Traceback (most recent call last)",
            "\u001b[0;32m<ipython-input-308-bc9a2b30c6f0>\u001b[0m in \u001b[0;36m<module>\u001b[0;34m()\u001b[0m\n\u001b[0;32m----> 1\u001b[0;31m \u001b[0mlaplace_corner_samples\u001b[0m \u001b[0;34m=\u001b[0m \u001b[0mPredictive\u001b[0m\u001b[0;34m(\u001b[0m\u001b[0mmodel_vi\u001b[0m\u001b[0;34m,\u001b[0m \u001b[0mguide\u001b[0m \u001b[0;34m=\u001b[0m \u001b[0mlaplace_guide\u001b[0m\u001b[0;34m,\u001b[0m \u001b[0mnum_samples\u001b[0m \u001b[0;34m=\u001b[0m \u001b[0mnum_corner_samples\u001b[0m\u001b[0;34m)\u001b[0m\u001b[0;34m(\u001b[0m\u001b[0;32mNone\u001b[0m\u001b[0;34m,\u001b[0m\u001b[0;34m)\u001b[0m\u001b[0;34m\u001b[0m\u001b[0;34m\u001b[0m\u001b[0m\n\u001b[0m",
            "\u001b[0;32m/usr/local/lib/python3.7/dist-packages/torch/nn/modules/module.py\u001b[0m in \u001b[0;36m_call_impl\u001b[0;34m(self, *input, **kwargs)\u001b[0m\n\u001b[1;32m   1128\u001b[0m         if not (self._backward_hooks or self._forward_hooks or self._forward_pre_hooks or _global_backward_hooks\n\u001b[1;32m   1129\u001b[0m                 or _global_forward_hooks or _global_forward_pre_hooks):\n\u001b[0;32m-> 1130\u001b[0;31m             \u001b[0;32mreturn\u001b[0m \u001b[0mforward_call\u001b[0m\u001b[0;34m(\u001b[0m\u001b[0;34m*\u001b[0m\u001b[0minput\u001b[0m\u001b[0;34m,\u001b[0m \u001b[0;34m**\u001b[0m\u001b[0mkwargs\u001b[0m\u001b[0;34m)\u001b[0m\u001b[0;34m\u001b[0m\u001b[0;34m\u001b[0m\u001b[0m\n\u001b[0m\u001b[1;32m   1131\u001b[0m         \u001b[0;31m# Do not call functions when jit is used\u001b[0m\u001b[0;34m\u001b[0m\u001b[0;34m\u001b[0m\u001b[0;34m\u001b[0m\u001b[0m\n\u001b[1;32m   1132\u001b[0m         \u001b[0mfull_backward_hooks\u001b[0m\u001b[0;34m,\u001b[0m \u001b[0mnon_full_backward_hooks\u001b[0m \u001b[0;34m=\u001b[0m \u001b[0;34m[\u001b[0m\u001b[0;34m]\u001b[0m\u001b[0;34m,\u001b[0m \u001b[0;34m[\u001b[0m\u001b[0;34m]\u001b[0m\u001b[0;34m\u001b[0m\u001b[0;34m\u001b[0m\u001b[0m\n",
            "\u001b[0;32m/usr/local/lib/python3.7/dist-packages/pyro/infer/predictive.py\u001b[0m in \u001b[0;36mforward\u001b[0;34m(self, *args, **kwargs)\u001b[0m\n\u001b[1;32m    269\u001b[0m                 \u001b[0mparallel\u001b[0m\u001b[0;34m=\u001b[0m\u001b[0mself\u001b[0m\u001b[0;34m.\u001b[0m\u001b[0mparallel\u001b[0m\u001b[0;34m,\u001b[0m\u001b[0;34m\u001b[0m\u001b[0;34m\u001b[0m\u001b[0m\n\u001b[1;32m    270\u001b[0m                 \u001b[0mmodel_args\u001b[0m\u001b[0;34m=\u001b[0m\u001b[0margs\u001b[0m\u001b[0;34m,\u001b[0m\u001b[0;34m\u001b[0m\u001b[0;34m\u001b[0m\u001b[0m\n\u001b[0;32m--> 271\u001b[0;31m                 \u001b[0mmodel_kwargs\u001b[0m\u001b[0;34m=\u001b[0m\u001b[0mkwargs\u001b[0m\u001b[0;34m,\u001b[0m\u001b[0;34m\u001b[0m\u001b[0;34m\u001b[0m\u001b[0m\n\u001b[0m\u001b[1;32m    272\u001b[0m             )\n\u001b[1;32m    273\u001b[0m         return _predictive(\n",
            "\u001b[0;32m/usr/local/lib/python3.7/dist-packages/pyro/infer/predictive.py\u001b[0m in \u001b[0;36m_predictive\u001b[0;34m(model, posterior_samples, num_samples, return_sites, return_trace, parallel, model_args, model_kwargs)\u001b[0m\n\u001b[1;32m    132\u001b[0m             \u001b[0mnum_samples\u001b[0m\u001b[0;34m,\u001b[0m\u001b[0;34m\u001b[0m\u001b[0;34m\u001b[0m\u001b[0m\n\u001b[1;32m    133\u001b[0m             \u001b[0mreturn_site_shapes\u001b[0m\u001b[0;34m,\u001b[0m\u001b[0;34m\u001b[0m\u001b[0;34m\u001b[0m\u001b[0m\n\u001b[0;32m--> 134\u001b[0;31m             \u001b[0mreturn_trace\u001b[0m\u001b[0;34m=\u001b[0m\u001b[0;32mFalse\u001b[0m\u001b[0;34m,\u001b[0m\u001b[0;34m\u001b[0m\u001b[0;34m\u001b[0m\u001b[0m\n\u001b[0m\u001b[1;32m    135\u001b[0m         )\n\u001b[1;32m    136\u001b[0m \u001b[0;34m\u001b[0m\u001b[0m\n",
            "\u001b[0;32m/usr/local/lib/python3.7/dist-packages/pyro/infer/predictive.py\u001b[0m in \u001b[0;36m_predictive_sequential\u001b[0;34m(model, posterior_samples, model_args, model_kwargs, num_samples, return_site_shapes, return_trace)\u001b[0m\n\u001b[1;32m     47\u001b[0m     \u001b[0;32mfor\u001b[0m \u001b[0mi\u001b[0m \u001b[0;32min\u001b[0m \u001b[0mrange\u001b[0m\u001b[0;34m(\u001b[0m\u001b[0mnum_samples\u001b[0m\u001b[0;34m)\u001b[0m\u001b[0;34m:\u001b[0m\u001b[0;34m\u001b[0m\u001b[0;34m\u001b[0m\u001b[0m\n\u001b[1;32m     48\u001b[0m         trace = poutine.trace(poutine.condition(model, samples[i])).get_trace(\n\u001b[0;32m---> 49\u001b[0;31m             \u001b[0;34m*\u001b[0m\u001b[0mmodel_args\u001b[0m\u001b[0;34m,\u001b[0m \u001b[0;34m**\u001b[0m\u001b[0mmodel_kwargs\u001b[0m\u001b[0;34m\u001b[0m\u001b[0;34m\u001b[0m\u001b[0m\n\u001b[0m\u001b[1;32m     50\u001b[0m         )\n\u001b[1;32m     51\u001b[0m         \u001b[0;32mif\u001b[0m \u001b[0mreturn_trace\u001b[0m\u001b[0;34m:\u001b[0m\u001b[0;34m\u001b[0m\u001b[0;34m\u001b[0m\u001b[0m\n",
            "\u001b[0;32m/usr/local/lib/python3.7/dist-packages/pyro/poutine/trace_messenger.py\u001b[0m in \u001b[0;36mget_trace\u001b[0;34m(self, *args, **kwargs)\u001b[0m\n\u001b[1;32m    196\u001b[0m         \u001b[0mCalls\u001b[0m \u001b[0mthis\u001b[0m \u001b[0mpoutine\u001b[0m \u001b[0;32mand\u001b[0m \u001b[0mreturns\u001b[0m \u001b[0mits\u001b[0m \u001b[0mtrace\u001b[0m \u001b[0minstead\u001b[0m \u001b[0mof\u001b[0m \u001b[0mthe\u001b[0m \u001b[0mfunction\u001b[0m\u001b[0;31m'\u001b[0m\u001b[0ms\u001b[0m \u001b[0;32mreturn\u001b[0m \u001b[0mvalue\u001b[0m\u001b[0;34m.\u001b[0m\u001b[0;34m\u001b[0m\u001b[0;34m\u001b[0m\u001b[0m\n\u001b[1;32m    197\u001b[0m         \"\"\"\n\u001b[0;32m--> 198\u001b[0;31m         \u001b[0mself\u001b[0m\u001b[0;34m(\u001b[0m\u001b[0;34m*\u001b[0m\u001b[0margs\u001b[0m\u001b[0;34m,\u001b[0m \u001b[0;34m**\u001b[0m\u001b[0mkwargs\u001b[0m\u001b[0;34m)\u001b[0m\u001b[0;34m\u001b[0m\u001b[0;34m\u001b[0m\u001b[0m\n\u001b[0m\u001b[1;32m    199\u001b[0m         \u001b[0;32mreturn\u001b[0m \u001b[0mself\u001b[0m\u001b[0;34m.\u001b[0m\u001b[0mmsngr\u001b[0m\u001b[0;34m.\u001b[0m\u001b[0mget_trace\u001b[0m\u001b[0;34m(\u001b[0m\u001b[0;34m)\u001b[0m\u001b[0;34m\u001b[0m\u001b[0;34m\u001b[0m\u001b[0m\n",
            "\u001b[0;32m/usr/local/lib/python3.7/dist-packages/pyro/poutine/trace_messenger.py\u001b[0m in \u001b[0;36m__call__\u001b[0;34m(self, *args, **kwargs)\u001b[0m\n\u001b[1;32m    172\u001b[0m             )\n\u001b[1;32m    173\u001b[0m             \u001b[0;32mtry\u001b[0m\u001b[0;34m:\u001b[0m\u001b[0;34m\u001b[0m\u001b[0;34m\u001b[0m\u001b[0m\n\u001b[0;32m--> 174\u001b[0;31m                 \u001b[0mret\u001b[0m \u001b[0;34m=\u001b[0m \u001b[0mself\u001b[0m\u001b[0;34m.\u001b[0m\u001b[0mfn\u001b[0m\u001b[0;34m(\u001b[0m\u001b[0;34m*\u001b[0m\u001b[0margs\u001b[0m\u001b[0;34m,\u001b[0m \u001b[0;34m**\u001b[0m\u001b[0mkwargs\u001b[0m\u001b[0;34m)\u001b[0m\u001b[0;34m\u001b[0m\u001b[0;34m\u001b[0m\u001b[0m\n\u001b[0m\u001b[1;32m    175\u001b[0m             \u001b[0;32mexcept\u001b[0m \u001b[0;34m(\u001b[0m\u001b[0mValueError\u001b[0m\u001b[0;34m,\u001b[0m \u001b[0mRuntimeError\u001b[0m\u001b[0;34m)\u001b[0m \u001b[0;32mas\u001b[0m \u001b[0me\u001b[0m\u001b[0;34m:\u001b[0m\u001b[0;34m\u001b[0m\u001b[0;34m\u001b[0m\u001b[0m\n\u001b[1;32m    176\u001b[0m                 \u001b[0mexc_type\u001b[0m\u001b[0;34m,\u001b[0m \u001b[0mexc_value\u001b[0m\u001b[0;34m,\u001b[0m \u001b[0mtraceback\u001b[0m \u001b[0;34m=\u001b[0m \u001b[0msys\u001b[0m\u001b[0;34m.\u001b[0m\u001b[0mexc_info\u001b[0m\u001b[0;34m(\u001b[0m\u001b[0;34m)\u001b[0m\u001b[0;34m\u001b[0m\u001b[0;34m\u001b[0m\u001b[0m\n",
            "\u001b[0;32m/usr/local/lib/python3.7/dist-packages/pyro/poutine/messenger.py\u001b[0m in \u001b[0;36m_context_wrap\u001b[0;34m(context, fn, *args, **kwargs)\u001b[0m\n\u001b[1;32m     10\u001b[0m \u001b[0;32mdef\u001b[0m \u001b[0m_context_wrap\u001b[0m\u001b[0;34m(\u001b[0m\u001b[0mcontext\u001b[0m\u001b[0;34m,\u001b[0m \u001b[0mfn\u001b[0m\u001b[0;34m,\u001b[0m \u001b[0;34m*\u001b[0m\u001b[0margs\u001b[0m\u001b[0;34m,\u001b[0m \u001b[0;34m**\u001b[0m\u001b[0mkwargs\u001b[0m\u001b[0;34m)\u001b[0m\u001b[0;34m:\u001b[0m\u001b[0;34m\u001b[0m\u001b[0;34m\u001b[0m\u001b[0m\n\u001b[1;32m     11\u001b[0m     \u001b[0;32mwith\u001b[0m \u001b[0mcontext\u001b[0m\u001b[0;34m:\u001b[0m\u001b[0;34m\u001b[0m\u001b[0;34m\u001b[0m\u001b[0m\n\u001b[0;32m---> 12\u001b[0;31m         \u001b[0;32mreturn\u001b[0m \u001b[0mfn\u001b[0m\u001b[0;34m(\u001b[0m\u001b[0;34m*\u001b[0m\u001b[0margs\u001b[0m\u001b[0;34m,\u001b[0m \u001b[0;34m**\u001b[0m\u001b[0mkwargs\u001b[0m\u001b[0;34m)\u001b[0m\u001b[0;34m\u001b[0m\u001b[0;34m\u001b[0m\u001b[0m\n\u001b[0m\u001b[1;32m     13\u001b[0m \u001b[0;34m\u001b[0m\u001b[0m\n\u001b[1;32m     14\u001b[0m \u001b[0;34m\u001b[0m\u001b[0m\n",
            "\u001b[0;32m/usr/local/lib/python3.7/dist-packages/torch/autograd/grad_mode.py\u001b[0m in \u001b[0;36mdecorate_context\u001b[0;34m(*args, **kwargs)\u001b[0m\n\u001b[1;32m     25\u001b[0m         \u001b[0;32mdef\u001b[0m \u001b[0mdecorate_context\u001b[0m\u001b[0;34m(\u001b[0m\u001b[0;34m*\u001b[0m\u001b[0margs\u001b[0m\u001b[0;34m,\u001b[0m \u001b[0;34m**\u001b[0m\u001b[0mkwargs\u001b[0m\u001b[0;34m)\u001b[0m\u001b[0;34m:\u001b[0m\u001b[0;34m\u001b[0m\u001b[0;34m\u001b[0m\u001b[0m\n\u001b[1;32m     26\u001b[0m             \u001b[0;32mwith\u001b[0m \u001b[0mself\u001b[0m\u001b[0;34m.\u001b[0m\u001b[0mclone\u001b[0m\u001b[0;34m(\u001b[0m\u001b[0;34m)\u001b[0m\u001b[0;34m:\u001b[0m\u001b[0;34m\u001b[0m\u001b[0;34m\u001b[0m\u001b[0m\n\u001b[0;32m---> 27\u001b[0;31m                 \u001b[0;32mreturn\u001b[0m \u001b[0mfunc\u001b[0m\u001b[0;34m(\u001b[0m\u001b[0;34m*\u001b[0m\u001b[0margs\u001b[0m\u001b[0;34m,\u001b[0m \u001b[0;34m**\u001b[0m\u001b[0mkwargs\u001b[0m\u001b[0;34m)\u001b[0m\u001b[0;34m\u001b[0m\u001b[0;34m\u001b[0m\u001b[0m\n\u001b[0m\u001b[1;32m     28\u001b[0m         \u001b[0;32mreturn\u001b[0m \u001b[0mcast\u001b[0m\u001b[0;34m(\u001b[0m\u001b[0mF\u001b[0m\u001b[0;34m,\u001b[0m \u001b[0mdecorate_context\u001b[0m\u001b[0;34m)\u001b[0m\u001b[0;34m\u001b[0m\u001b[0;34m\u001b[0m\u001b[0m\n\u001b[1;32m     29\u001b[0m \u001b[0;34m\u001b[0m\u001b[0m\n",
            "\u001b[0;32m/usr/local/lib/python3.7/dist-packages/pyro/poutine/messenger.py\u001b[0m in \u001b[0;36m_context_wrap\u001b[0;34m(context, fn, *args, **kwargs)\u001b[0m\n\u001b[1;32m     10\u001b[0m \u001b[0;32mdef\u001b[0m \u001b[0m_context_wrap\u001b[0m\u001b[0;34m(\u001b[0m\u001b[0mcontext\u001b[0m\u001b[0;34m,\u001b[0m \u001b[0mfn\u001b[0m\u001b[0;34m,\u001b[0m \u001b[0;34m*\u001b[0m\u001b[0margs\u001b[0m\u001b[0;34m,\u001b[0m \u001b[0;34m**\u001b[0m\u001b[0mkwargs\u001b[0m\u001b[0;34m)\u001b[0m\u001b[0;34m:\u001b[0m\u001b[0;34m\u001b[0m\u001b[0;34m\u001b[0m\u001b[0m\n\u001b[1;32m     11\u001b[0m     \u001b[0;32mwith\u001b[0m \u001b[0mcontext\u001b[0m\u001b[0;34m:\u001b[0m\u001b[0;34m\u001b[0m\u001b[0;34m\u001b[0m\u001b[0m\n\u001b[0;32m---> 12\u001b[0;31m         \u001b[0;32mreturn\u001b[0m \u001b[0mfn\u001b[0m\u001b[0;34m(\u001b[0m\u001b[0;34m*\u001b[0m\u001b[0margs\u001b[0m\u001b[0;34m,\u001b[0m \u001b[0;34m**\u001b[0m\u001b[0mkwargs\u001b[0m\u001b[0;34m)\u001b[0m\u001b[0;34m\u001b[0m\u001b[0;34m\u001b[0m\u001b[0m\n\u001b[0m\u001b[1;32m     13\u001b[0m \u001b[0;34m\u001b[0m\u001b[0m\n\u001b[1;32m     14\u001b[0m \u001b[0;34m\u001b[0m\u001b[0m\n",
            "\u001b[0;32m/usr/local/lib/python3.7/dist-packages/pyro/nn/module.py\u001b[0m in \u001b[0;36m__call__\u001b[0;34m(self, *args, **kwargs)\u001b[0m\n\u001b[1;32m    425\u001b[0m     \u001b[0;32mdef\u001b[0m \u001b[0m__call__\u001b[0m\u001b[0;34m(\u001b[0m\u001b[0mself\u001b[0m\u001b[0;34m,\u001b[0m \u001b[0;34m*\u001b[0m\u001b[0margs\u001b[0m\u001b[0;34m,\u001b[0m \u001b[0;34m**\u001b[0m\u001b[0mkwargs\u001b[0m\u001b[0;34m)\u001b[0m\u001b[0;34m:\u001b[0m\u001b[0;34m\u001b[0m\u001b[0;34m\u001b[0m\u001b[0m\n\u001b[1;32m    426\u001b[0m         \u001b[0;32mwith\u001b[0m \u001b[0mself\u001b[0m\u001b[0;34m.\u001b[0m\u001b[0m_pyro_context\u001b[0m\u001b[0;34m:\u001b[0m\u001b[0;34m\u001b[0m\u001b[0;34m\u001b[0m\u001b[0m\n\u001b[0;32m--> 427\u001b[0;31m             \u001b[0;32mreturn\u001b[0m \u001b[0msuper\u001b[0m\u001b[0;34m(\u001b[0m\u001b[0;34m)\u001b[0m\u001b[0;34m.\u001b[0m\u001b[0m__call__\u001b[0m\u001b[0;34m(\u001b[0m\u001b[0;34m*\u001b[0m\u001b[0margs\u001b[0m\u001b[0;34m,\u001b[0m \u001b[0;34m**\u001b[0m\u001b[0mkwargs\u001b[0m\u001b[0;34m)\u001b[0m\u001b[0;34m\u001b[0m\u001b[0;34m\u001b[0m\u001b[0m\n\u001b[0m\u001b[1;32m    428\u001b[0m \u001b[0;34m\u001b[0m\u001b[0m\n\u001b[1;32m    429\u001b[0m     \u001b[0;32mdef\u001b[0m \u001b[0m__getattr__\u001b[0m\u001b[0;34m(\u001b[0m\u001b[0mself\u001b[0m\u001b[0;34m,\u001b[0m \u001b[0mname\u001b[0m\u001b[0;34m)\u001b[0m\u001b[0;34m:\u001b[0m\u001b[0;34m\u001b[0m\u001b[0;34m\u001b[0m\u001b[0m\n",
            "\u001b[0;32m/usr/local/lib/python3.7/dist-packages/torch/nn/modules/module.py\u001b[0m in \u001b[0;36m_call_impl\u001b[0;34m(self, *input, **kwargs)\u001b[0m\n\u001b[1;32m   1128\u001b[0m         if not (self._backward_hooks or self._forward_hooks or self._forward_pre_hooks or _global_backward_hooks\n\u001b[1;32m   1129\u001b[0m                 or _global_forward_hooks or _global_forward_pre_hooks):\n\u001b[0;32m-> 1130\u001b[0;31m             \u001b[0;32mreturn\u001b[0m \u001b[0mforward_call\u001b[0m\u001b[0;34m(\u001b[0m\u001b[0;34m*\u001b[0m\u001b[0minput\u001b[0m\u001b[0;34m,\u001b[0m \u001b[0;34m**\u001b[0m\u001b[0mkwargs\u001b[0m\u001b[0;34m)\u001b[0m\u001b[0;34m\u001b[0m\u001b[0;34m\u001b[0m\u001b[0m\n\u001b[0m\u001b[1;32m   1131\u001b[0m         \u001b[0;31m# Do not call functions when jit is used\u001b[0m\u001b[0;34m\u001b[0m\u001b[0;34m\u001b[0m\u001b[0;34m\u001b[0m\u001b[0m\n\u001b[1;32m   1132\u001b[0m         \u001b[0mfull_backward_hooks\u001b[0m\u001b[0;34m,\u001b[0m \u001b[0mnon_full_backward_hooks\u001b[0m \u001b[0;34m=\u001b[0m \u001b[0;34m[\u001b[0m\u001b[0;34m]\u001b[0m\u001b[0;34m,\u001b[0m \u001b[0;34m[\u001b[0m\u001b[0;34m]\u001b[0m\u001b[0;34m\u001b[0m\u001b[0;34m\u001b[0m\u001b[0m\n",
            "\u001b[0;32m/usr/local/lib/python3.7/dist-packages/pyro/infer/autoguide/guides.py\u001b[0m in \u001b[0;36mforward\u001b[0;34m(self, *args, **kwargs)\u001b[0m\n\u001b[1;32m    759\u001b[0m             \u001b[0mself\u001b[0m\u001b[0;34m.\u001b[0m\u001b[0m_setup_prototype\u001b[0m\u001b[0;34m(\u001b[0m\u001b[0;34m*\u001b[0m\u001b[0margs\u001b[0m\u001b[0;34m,\u001b[0m \u001b[0;34m**\u001b[0m\u001b[0mkwargs\u001b[0m\u001b[0;34m)\u001b[0m\u001b[0;34m\u001b[0m\u001b[0;34m\u001b[0m\u001b[0m\n\u001b[1;32m    760\u001b[0m \u001b[0;34m\u001b[0m\u001b[0m\n\u001b[0;32m--> 761\u001b[0;31m         \u001b[0mlatent\u001b[0m \u001b[0;34m=\u001b[0m \u001b[0mself\u001b[0m\u001b[0;34m.\u001b[0m\u001b[0msample_latent\u001b[0m\u001b[0;34m(\u001b[0m\u001b[0;34m*\u001b[0m\u001b[0margs\u001b[0m\u001b[0;34m,\u001b[0m \u001b[0;34m**\u001b[0m\u001b[0mkwargs\u001b[0m\u001b[0;34m)\u001b[0m\u001b[0;34m\u001b[0m\u001b[0;34m\u001b[0m\u001b[0m\n\u001b[0m\u001b[1;32m    762\u001b[0m         \u001b[0mplates\u001b[0m \u001b[0;34m=\u001b[0m \u001b[0mself\u001b[0m\u001b[0;34m.\u001b[0m\u001b[0m_create_plates\u001b[0m\u001b[0;34m(\u001b[0m\u001b[0;34m*\u001b[0m\u001b[0margs\u001b[0m\u001b[0;34m,\u001b[0m \u001b[0;34m**\u001b[0m\u001b[0mkwargs\u001b[0m\u001b[0;34m)\u001b[0m\u001b[0;34m\u001b[0m\u001b[0;34m\u001b[0m\u001b[0m\n\u001b[1;32m    763\u001b[0m \u001b[0;34m\u001b[0m\u001b[0m\n",
            "\u001b[0;32m/usr/local/lib/python3.7/dist-packages/pyro/infer/autoguide/guides.py\u001b[0m in \u001b[0;36msample_latent\u001b[0;34m(self, *args, **kwargs)\u001b[0m\n\u001b[1;32m    712\u001b[0m         \u001b[0mbase\u001b[0m\u001b[0;31m \u001b[0m\u001b[0;31m`\u001b[0m\u001b[0;31m`\u001b[0m\u001b[0mmodel\u001b[0m\u001b[0;31m`\u001b[0m\u001b[0;31m`\u001b[0m\u001b[0;34m.\u001b[0m\u001b[0;34m\u001b[0m\u001b[0;34m\u001b[0m\u001b[0m\n\u001b[1;32m    713\u001b[0m         \"\"\"\n\u001b[0;32m--> 714\u001b[0;31m         \u001b[0mpos_dist\u001b[0m \u001b[0;34m=\u001b[0m \u001b[0mself\u001b[0m\u001b[0;34m.\u001b[0m\u001b[0mget_posterior\u001b[0m\u001b[0;34m(\u001b[0m\u001b[0;34m*\u001b[0m\u001b[0margs\u001b[0m\u001b[0;34m,\u001b[0m \u001b[0;34m**\u001b[0m\u001b[0mkwargs\u001b[0m\u001b[0;34m)\u001b[0m\u001b[0;34m\u001b[0m\u001b[0;34m\u001b[0m\u001b[0m\n\u001b[0m\u001b[1;32m    715\u001b[0m         return pyro.sample(\n\u001b[1;32m    716\u001b[0m             \u001b[0;34m\"_{}_latent\"\u001b[0m\u001b[0;34m.\u001b[0m\u001b[0mformat\u001b[0m\u001b[0;34m(\u001b[0m\u001b[0mself\u001b[0m\u001b[0;34m.\u001b[0m\u001b[0m_pyro_name\u001b[0m\u001b[0;34m)\u001b[0m\u001b[0;34m,\u001b[0m \u001b[0mpos_dist\u001b[0m\u001b[0;34m,\u001b[0m \u001b[0minfer\u001b[0m\u001b[0;34m=\u001b[0m\u001b[0;34m{\u001b[0m\u001b[0;34m\"is_auxiliary\"\u001b[0m\u001b[0;34m:\u001b[0m \u001b[0;32mTrue\u001b[0m\u001b[0;34m}\u001b[0m\u001b[0;34m\u001b[0m\u001b[0;34m\u001b[0m\u001b[0m\n",
            "\u001b[0;32m/usr/local/lib/python3.7/dist-packages/pyro/infer/autoguide/guides.py\u001b[0m in \u001b[0;36mget_posterior\u001b[0;34m(self, *args, **kwargs)\u001b[0m\n\u001b[1;32m    897\u001b[0m         \"\"\"\n\u001b[1;32m    898\u001b[0m         \u001b[0mscale_tril\u001b[0m \u001b[0;34m=\u001b[0m \u001b[0mself\u001b[0m\u001b[0;34m.\u001b[0m\u001b[0mscale\u001b[0m\u001b[0;34m[\u001b[0m\u001b[0;34m...\u001b[0m\u001b[0;34m,\u001b[0m \u001b[0;32mNone\u001b[0m\u001b[0;34m]\u001b[0m \u001b[0;34m*\u001b[0m \u001b[0mself\u001b[0m\u001b[0;34m.\u001b[0m\u001b[0mscale_tril\u001b[0m\u001b[0;34m\u001b[0m\u001b[0;34m\u001b[0m\u001b[0m\n\u001b[0;32m--> 899\u001b[0;31m         \u001b[0;32mreturn\u001b[0m \u001b[0mdist\u001b[0m\u001b[0;34m.\u001b[0m\u001b[0mMultivariateNormal\u001b[0m\u001b[0;34m(\u001b[0m\u001b[0mself\u001b[0m\u001b[0;34m.\u001b[0m\u001b[0mloc\u001b[0m\u001b[0;34m,\u001b[0m \u001b[0mscale_tril\u001b[0m\u001b[0;34m=\u001b[0m\u001b[0mscale_tril\u001b[0m\u001b[0;34m)\u001b[0m\u001b[0;34m\u001b[0m\u001b[0;34m\u001b[0m\u001b[0m\n\u001b[0m\u001b[1;32m    900\u001b[0m \u001b[0;34m\u001b[0m\u001b[0m\n\u001b[1;32m    901\u001b[0m     \u001b[0;32mdef\u001b[0m \u001b[0m_loc_scale\u001b[0m\u001b[0;34m(\u001b[0m\u001b[0mself\u001b[0m\u001b[0;34m,\u001b[0m \u001b[0;34m*\u001b[0m\u001b[0margs\u001b[0m\u001b[0;34m,\u001b[0m \u001b[0;34m**\u001b[0m\u001b[0mkwargs\u001b[0m\u001b[0;34m)\u001b[0m\u001b[0;34m:\u001b[0m\u001b[0;34m\u001b[0m\u001b[0;34m\u001b[0m\u001b[0m\n",
            "\u001b[0;32m/usr/local/lib/python3.7/dist-packages/pyro/distributions/distribution.py\u001b[0m in \u001b[0;36m__call__\u001b[0;34m(cls, *args, **kwargs)\u001b[0m\n\u001b[1;32m     16\u001b[0m             \u001b[0;32mif\u001b[0m \u001b[0mresult\u001b[0m \u001b[0;32mis\u001b[0m \u001b[0;32mnot\u001b[0m \u001b[0;32mNone\u001b[0m\u001b[0;34m:\u001b[0m\u001b[0;34m\u001b[0m\u001b[0;34m\u001b[0m\u001b[0m\n\u001b[1;32m     17\u001b[0m                 \u001b[0;32mreturn\u001b[0m \u001b[0mresult\u001b[0m\u001b[0;34m\u001b[0m\u001b[0;34m\u001b[0m\u001b[0m\n\u001b[0;32m---> 18\u001b[0;31m         \u001b[0;32mreturn\u001b[0m \u001b[0msuper\u001b[0m\u001b[0;34m(\u001b[0m\u001b[0;34m)\u001b[0m\u001b[0;34m.\u001b[0m\u001b[0m__call__\u001b[0m\u001b[0;34m(\u001b[0m\u001b[0;34m*\u001b[0m\u001b[0margs\u001b[0m\u001b[0;34m,\u001b[0m \u001b[0;34m**\u001b[0m\u001b[0mkwargs\u001b[0m\u001b[0;34m)\u001b[0m\u001b[0;34m\u001b[0m\u001b[0;34m\u001b[0m\u001b[0m\n\u001b[0m\u001b[1;32m     19\u001b[0m \u001b[0;34m\u001b[0m\u001b[0m\n\u001b[1;32m     20\u001b[0m     \u001b[0;34m@\u001b[0m\u001b[0mproperty\u001b[0m\u001b[0;34m\u001b[0m\u001b[0;34m\u001b[0m\u001b[0m\n",
            "\u001b[0;32m/usr/local/lib/python3.7/dist-packages/torch/distributions/multivariate_normal.py\u001b[0m in \u001b[0;36m__init__\u001b[0;34m(self, loc, covariance_matrix, precision_matrix, scale_tril, validate_args)\u001b[0m\n\u001b[1;32m    144\u001b[0m \u001b[0;34m\u001b[0m\u001b[0m\n\u001b[1;32m    145\u001b[0m         \u001b[0mevent_shape\u001b[0m \u001b[0;34m=\u001b[0m \u001b[0mself\u001b[0m\u001b[0;34m.\u001b[0m\u001b[0mloc\u001b[0m\u001b[0;34m.\u001b[0m\u001b[0mshape\u001b[0m\u001b[0;34m[\u001b[0m\u001b[0;34m-\u001b[0m\u001b[0;36m1\u001b[0m\u001b[0;34m:\u001b[0m\u001b[0;34m]\u001b[0m\u001b[0;34m\u001b[0m\u001b[0;34m\u001b[0m\u001b[0m\n\u001b[0;32m--> 146\u001b[0;31m         \u001b[0msuper\u001b[0m\u001b[0;34m(\u001b[0m\u001b[0mMultivariateNormal\u001b[0m\u001b[0;34m,\u001b[0m \u001b[0mself\u001b[0m\u001b[0;34m)\u001b[0m\u001b[0;34m.\u001b[0m\u001b[0m__init__\u001b[0m\u001b[0;34m(\u001b[0m\u001b[0mbatch_shape\u001b[0m\u001b[0;34m,\u001b[0m \u001b[0mevent_shape\u001b[0m\u001b[0;34m,\u001b[0m \u001b[0mvalidate_args\u001b[0m\u001b[0;34m=\u001b[0m\u001b[0mvalidate_args\u001b[0m\u001b[0;34m)\u001b[0m\u001b[0;34m\u001b[0m\u001b[0;34m\u001b[0m\u001b[0m\n\u001b[0m\u001b[1;32m    147\u001b[0m \u001b[0;34m\u001b[0m\u001b[0m\n\u001b[1;32m    148\u001b[0m         \u001b[0;32mif\u001b[0m \u001b[0mscale_tril\u001b[0m \u001b[0;32mis\u001b[0m \u001b[0;32mnot\u001b[0m \u001b[0;32mNone\u001b[0m\u001b[0;34m:\u001b[0m\u001b[0;34m\u001b[0m\u001b[0;34m\u001b[0m\u001b[0m\n",
            "\u001b[0;32m/usr/local/lib/python3.7/dist-packages/torch/distributions/distribution.py\u001b[0m in \u001b[0;36m__init__\u001b[0;34m(self, batch_shape, event_shape, validate_args)\u001b[0m\n\u001b[1;32m     51\u001b[0m                     \u001b[0;32mcontinue\u001b[0m  \u001b[0;31m# skip checking lazily-constructed args\u001b[0m\u001b[0;34m\u001b[0m\u001b[0;34m\u001b[0m\u001b[0m\n\u001b[1;32m     52\u001b[0m                 \u001b[0mvalue\u001b[0m \u001b[0;34m=\u001b[0m \u001b[0mgetattr\u001b[0m\u001b[0;34m(\u001b[0m\u001b[0mself\u001b[0m\u001b[0;34m,\u001b[0m \u001b[0mparam\u001b[0m\u001b[0;34m)\u001b[0m\u001b[0;34m\u001b[0m\u001b[0;34m\u001b[0m\u001b[0m\n\u001b[0;32m---> 53\u001b[0;31m                 \u001b[0mvalid\u001b[0m \u001b[0;34m=\u001b[0m \u001b[0mconstraint\u001b[0m\u001b[0;34m.\u001b[0m\u001b[0mcheck\u001b[0m\u001b[0;34m(\u001b[0m\u001b[0mvalue\u001b[0m\u001b[0;34m)\u001b[0m\u001b[0;34m\u001b[0m\u001b[0;34m\u001b[0m\u001b[0m\n\u001b[0m\u001b[1;32m     54\u001b[0m                 \u001b[0;32mif\u001b[0m \u001b[0;32mnot\u001b[0m \u001b[0mvalid\u001b[0m\u001b[0;34m.\u001b[0m\u001b[0mall\u001b[0m\u001b[0;34m(\u001b[0m\u001b[0;34m)\u001b[0m\u001b[0;34m:\u001b[0m\u001b[0;34m\u001b[0m\u001b[0;34m\u001b[0m\u001b[0m\n\u001b[1;32m     55\u001b[0m                     raise ValueError(\n",
            "\u001b[0;32m/usr/local/lib/python3.7/dist-packages/torch/distributions/constraints.py\u001b[0m in \u001b[0;36mcheck\u001b[0;34m(self, value)\u001b[0m\n\u001b[1;32m    207\u001b[0m \u001b[0;34m\u001b[0m\u001b[0m\n\u001b[1;32m    208\u001b[0m     \u001b[0;32mdef\u001b[0m \u001b[0mcheck\u001b[0m\u001b[0;34m(\u001b[0m\u001b[0mself\u001b[0m\u001b[0;34m,\u001b[0m \u001b[0mvalue\u001b[0m\u001b[0;34m)\u001b[0m\u001b[0;34m:\u001b[0m\u001b[0;34m\u001b[0m\u001b[0;34m\u001b[0m\u001b[0m\n\u001b[0;32m--> 209\u001b[0;31m         \u001b[0mresult\u001b[0m \u001b[0;34m=\u001b[0m \u001b[0mself\u001b[0m\u001b[0;34m.\u001b[0m\u001b[0mbase_constraint\u001b[0m\u001b[0;34m.\u001b[0m\u001b[0mcheck\u001b[0m\u001b[0;34m(\u001b[0m\u001b[0mvalue\u001b[0m\u001b[0;34m)\u001b[0m\u001b[0;34m\u001b[0m\u001b[0;34m\u001b[0m\u001b[0m\n\u001b[0m\u001b[1;32m    210\u001b[0m         \u001b[0;32mif\u001b[0m \u001b[0mresult\u001b[0m\u001b[0;34m.\u001b[0m\u001b[0mdim\u001b[0m\u001b[0;34m(\u001b[0m\u001b[0;34m)\u001b[0m \u001b[0;34m<\u001b[0m \u001b[0mself\u001b[0m\u001b[0;34m.\u001b[0m\u001b[0mreinterpreted_batch_ndims\u001b[0m\u001b[0;34m:\u001b[0m\u001b[0;34m\u001b[0m\u001b[0;34m\u001b[0m\u001b[0m\n\u001b[1;32m    211\u001b[0m             \u001b[0mexpected\u001b[0m \u001b[0;34m=\u001b[0m \u001b[0mself\u001b[0m\u001b[0;34m.\u001b[0m\u001b[0mbase_constraint\u001b[0m\u001b[0;34m.\u001b[0m\u001b[0mevent_dim\u001b[0m \u001b[0;34m+\u001b[0m \u001b[0mself\u001b[0m\u001b[0;34m.\u001b[0m\u001b[0mreinterpreted_batch_ndims\u001b[0m\u001b[0;34m\u001b[0m\u001b[0;34m\u001b[0m\u001b[0m\n",
            "\u001b[0;32m/usr/local/lib/python3.7/dist-packages/torch/distributions/constraints.py\u001b[0m in \u001b[0;36mcheck\u001b[0;34m(self, value)\u001b[0m\n\u001b[1;32m    306\u001b[0m     \"\"\"\n\u001b[1;32m    307\u001b[0m     \u001b[0;32mdef\u001b[0m \u001b[0mcheck\u001b[0m\u001b[0;34m(\u001b[0m\u001b[0mself\u001b[0m\u001b[0;34m,\u001b[0m \u001b[0mvalue\u001b[0m\u001b[0;34m)\u001b[0m\u001b[0;34m:\u001b[0m\u001b[0;34m\u001b[0m\u001b[0;34m\u001b[0m\u001b[0m\n\u001b[0;32m--> 308\u001b[0;31m         \u001b[0;32mreturn\u001b[0m \u001b[0mvalue\u001b[0m \u001b[0;34m==\u001b[0m \u001b[0mvalue\u001b[0m  \u001b[0;31m# False for NANs.\u001b[0m\u001b[0;34m\u001b[0m\u001b[0;34m\u001b[0m\u001b[0m\n\u001b[0m\u001b[1;32m    309\u001b[0m \u001b[0;34m\u001b[0m\u001b[0m\n\u001b[1;32m    310\u001b[0m \u001b[0;34m\u001b[0m\u001b[0m\n",
            "\u001b[0;31mKeyboardInterrupt\u001b[0m: "
          ]
        }
      ],
      "source": [
        "laplace_corner_samples = Predictive(model_vi, guide = laplace_guide, num_samples = num_corner_samples)(None,)"
      ]
    },
    {
      "cell_type": "code",
      "execution_count": 81,
      "metadata": {
        "id": "MFSXaSMzSrPP"
      },
      "outputs": [],
      "source": [
        "vi_trained_laplace_samples = Predictive(model_vi, guide = new_laplace_approx_guide, num_samples = num_corner_samples)(None,)"
      ]
    },
    {
      "cell_type": "code",
      "source": [
        "softplus_samples = Predictive(model_vi_softplus, guide = softplus_new_laplace_approx_guide, num_samples = num_corner_samples)(None,)"
      ],
      "metadata": {
        "id": "qYlQbjrfEcrL"
      },
      "execution_count": 82,
      "outputs": []
    },
    {
      "cell_type": "code",
      "source": [
        "asym_laplace_samples = Predictive(model_vi_asym_laplace, guide = asym_new_laplace_approx_guide, num_samples = num_corner_samples)(None,)"
      ],
      "metadata": {
        "id": "bH-gRj3o6RN9"
      },
      "execution_count": 83,
      "outputs": []
    },
    {
      "cell_type": "code",
      "execution_count": null,
      "metadata": {
        "colab": {
          "base_uri": "https://localhost:8080/"
        },
        "id": "dYLylFb71V0p",
        "outputId": "c9190a23-def5-488d-a7ad-5dc933ae5163"
      },
      "outputs": [
        {
          "data": {
            "text/plain": [
              "torch.Size([10000, 1])"
            ]
          },
          "execution_count": 310,
          "metadata": {},
          "output_type": "execute_result"
        }
      ],
      "source": [
        "mcmc_corner_samples['Av'].shape"
      ]
    },
    {
      "cell_type": "code",
      "execution_count": null,
      "metadata": {
        "id": "W5FDY_M-vVOC"
      },
      "outputs": [],
      "source": [
        "laplace_corner_samples['mu_s'][:,0,0].numpy()"
      ]
    },
    {
      "cell_type": "code",
      "execution_count": null,
      "metadata": {
        "id": "6Z6Ar1dM1_KF"
      },
      "outputs": [],
      "source": [
        "laplace_approx = [laplace_corner_samples['mu_s'][:,0,0].detach().numpy()[0], laplace_corner_samples['theta'][:,0,0].detach().numpy()[0], laplace_corner_samples['Av'][:,0,0].detach().numpy()[0]]"
      ]
    },
    {
      "cell_type": "code",
      "execution_count": null,
      "metadata": {
        "id": "qwc6CzDXBft7"
      },
      "outputs": [],
      "source": [
        "laplace_approx"
      ]
    },
    {
      "cell_type": "code",
      "execution_count": null,
      "metadata": {
        "id": "IWxOyzEN327j"
      },
      "outputs": [],
      "source": [
        "autoguide_from_mcmc = pyro.infer.autoguide.AutoMultivariateNormal(model_vi, init_loc_fn = pyro.infer.autoguide.initialization.init_to_value(values=mcmc_median_vals), init_scale = 0.8)\n",
        "losses = train(model_vi, autoguide_from_mcmc, lr = 0.005, n_steps = 20000)"
      ]
    },
    {
      "cell_type": "code",
      "execution_count": null,
      "metadata": {
        "colab": {
          "base_uri": "https://localhost:8080/"
        },
        "id": "8VFENbDKU3HM",
        "outputId": "79796079-40de-4f09-ee91-15ba093ca61b"
      },
      "outputs": [
        {
          "data": {
            "text/plain": [
              "array([37.16406433, 37.15493694, 37.13819202, ..., 37.23243493,\n",
              "       37.17469096, 37.12076178])"
            ]
          },
          "execution_count": 151,
          "metadata": {},
          "output_type": "execute_result"
        }
      ],
      "source": [
        "mcmc_corner_samples['mu_s'][:,0].numpy()"
      ]
    },
    {
      "cell_type": "code",
      "execution_count": null,
      "metadata": {
        "id": "djUM0sTk43DS"
      },
      "outputs": [],
      "source": [
        "vi_from_mcmc_corner_samples = Predictive(model_vi, guide = autoguide_from_mcmc, num_samples = num_corner_samples)(None,)"
      ]
    },
    {
      "cell_type": "code",
      "source": [
        "def transform_x_samples(x_samples, k = 25):\n",
        "  #   k = torch.as_tensor(10.)\n",
        "  # Av = torch.log(1 + torch.exp(k * x)) / k\n",
        "  return np.log(1 + np.exp(k * x_samples)) / k"
      ],
      "metadata": {
        "id": "ezTifN8uFbht"
      },
      "execution_count": 56,
      "outputs": []
    },
    {
      "cell_type": "code",
      "source": [
        "f = plt.figure()\n",
        "_, bins, _ = plt.hist([transform_x_samples(softplus_samples['x'][:,0,0].numpy()),mcmc_corner_samples['Av'][:,0].numpy(), vi_trained_laplace_samples['Av'][:,0,0].numpy()], \n",
        "                      histtype=u'step', label = ['VI InvSoftplus', 'MCMC', 'VI Log'], bins = 35,range = (0, 0.4))\n",
        "# _, bins, _ = plt.hist(transform_x_samples(softplus_samples['x'][:,0,0].numpy()), histtype=u'step', label = 'VI InvSoftplus', bins = 30)\n",
        "# plt.hist(mcmc_corner_samples['Av'][:,0].numpy(), bins = bins, histtype=u'step',  label = 'MCMC')\n",
        "# plt.hist(vi_trained_laplace_samples['Av'][:,0,0].numpy(), bins = bins, histtype=u'step', label = 'VI Log')\n",
        "plt.axvline(true_Av, color = 'k', linestyle = 'dashed', label = \"True value\")\n",
        "plt.axvline(np.mean(transform_x_samples(softplus_samples['x'][:,0,0].numpy())), color = 'tab:blue', linestyle = 'dashed')\n",
        "plt.axvline(np.mean(mcmc_corner_samples['Av'][:,0].numpy()), color = 'tab:orange', linestyle = 'dashed')\n",
        "plt.axvline(np.mean(vi_trained_laplace_samples['Av'][:,0,0].numpy()), color = 'tab:green', linestyle = 'dashed')\n",
        "plt.legend(fontsize = 12)\n",
        "plt.xlabel(\"$A_V$\", fontsize = 14)\n",
        "plt.ylabel(\"Frequency\", fontsize = 14)\n",
        "plt.xticks(fontsize = 12)\n",
        "plt.yticks(fontsize = 12)\n",
        "plt.show()\n",
        "f.savefig(\"softplus_histogram.pdf\", bbox_inches = 'tight')"
      ],
      "metadata": {
        "colab": {
          "base_uri": "https://localhost:8080/",
          "height": 289
        },
        "id": "MrlXB_YLI-EA",
        "outputId": "23df115f-4791-4674-dfd5-8139ac134995"
      },
      "execution_count": 105,
      "outputs": [
        {
          "output_type": "display_data",
          "data": {
            "text/plain": [
              "<Figure size 432x288 with 1 Axes>"
            ],
            "image/png": "[encoded data removed]"
          },
          "metadata": {
            "needs_background": "light"
          }
        }
      ]
    },
    {
      "cell_type": "code",
      "source": [
        "np.save(\"sofplus_histogram_data_081722\", [transform_x_samples(softplus_samples['x'][:,0,0].numpy()), mcmc_corner_samples['Av'][:,0].numpy(), vi_trained_laplace_samples['Av'][:,0,0].numpy()])"
      ],
      "metadata": {
        "id": "aNWE3ld2oZMG"
      },
      "execution_count": 91,
      "outputs": []
    },
    {
      "cell_type": "code",
      "source": [
        "f = plt.figure()\n",
        "_, bins, _ = plt.hist([asym_laplace_samples['Av'][:,0,0].numpy(),mcmc_corner_samples['Av'][:,0].numpy(), vi_trained_laplace_samples['Av'][:,0,0].numpy()], \n",
        "                      histtype=u'step', label = ['VI AsymLaplace', 'MCMC', 'VI Exp'], bins = 35,range = (-0.15, 0.4))\n",
        "# plt.hist(mcmc_corner_samples['Av'][:,0].numpy(), bins = bins, histtype=u'step',  label = 'MCMC')\n",
        "# plt.hist(vi_trained_laplace_samples['Av'][:,0,0].numpy(), bins = bins, histtype=u'step', label = 'VI Exp')\n",
        "plt.axvline(true_Av, color = 'k', linestyle = 'dashed', label = \"True value\")\n",
        "plt.axvline(np.mean(asym_laplace_samples['Av'][:,0,0].numpy()), color = 'tab:blue', linestyle = 'dashed')\n",
        "plt.axvline(np.mean(mcmc_corner_samples['Av'][:,0].numpy()), color = 'tab:orange', linestyle = 'dashed')\n",
        "plt.axvline(np.mean(vi_trained_laplace_samples['Av'][:,0,0].numpy()), color = 'tab:green', linestyle = 'dashed')\n",
        "plt.legend(fontsize = 12)\n",
        "plt.xlabel(\"$A_V$\", fontsize = 14)\n",
        "plt.ylabel(\"Frequency\", fontsize = 14)\n",
        "plt.xticks(fontsize = 12)\n",
        "plt.yticks(fontsize = 12)\n",
        "# plt.xlim(0, 0.3)\n",
        "plt.show()\n",
        "f.savefig(\"asym_laplace_histogram.pdf\", bbox_inches = 'tight')"
      ],
      "metadata": {
        "colab": {
          "base_uri": "https://localhost:8080/",
          "height": 289
        },
        "id": "OI2qvxHU6lTD",
        "outputId": "77a771b3-2093-4968-f1e5-b7ceeb149c26"
      },
      "execution_count": 102,
      "outputs": [
        {
          "output_type": "display_data",
          "data": {
            "text/plain": [
              "<Figure size 432x288 with 1 Axes>"
            ],
            "image/png": "[encoded data removed]"
          },
          "metadata": {
            "needs_background": "light"
          }
        }
      ]
    },
    {
      "cell_type": "code",
      "source": [
        "np.save(\"asym_laplace_histogram_data_081722\", [asym_laplace_samples['Av'][:,0,0].numpy(), mcmc_corner_samples['Av'][:,0].numpy(), vi_trained_laplace_samples['Av'][:,0,0].numpy()])"
      ],
      "metadata": {
        "id": "ItBHR2zy7XvX"
      },
      "execution_count": 103,
      "outputs": []
    },
    {
      "cell_type": "code",
      "source": [
        "true_Av"
      ],
      "metadata": {
        "colab": {
          "base_uri": "https://localhost:8080/"
        },
        "id": "YRjknqvxQvGt",
        "outputId": "327e2c2a-8dbe-493e-c787-a4463a7b5233"
      },
      "execution_count": 60,
      "outputs": [
        {
          "output_type": "execute_result",
          "data": {
            "text/plain": [
              "array(0.0264258, dtype=float32)"
            ]
          },
          "metadata": {},
          "execution_count": 60
        }
      ]
    },
    {
      "cell_type": "code",
      "execution_count": 57,
      "metadata": {
        "colab": {
          "base_uri": "https://localhost:8080/",
          "height": 534
        },
        "id": "lPoUyruwuNO-",
        "outputId": "31d76f8f-dd7d-4258-e38d-fe6521a9c926"
      },
      "outputs": [
        {
          "output_type": "display_data",
          "data": {
            "text/plain": [
              "<Figure size 547.2x547.2 with 9 Axes>"
            ],
            "image/png": "[encoded data removed]"
          },
          "metadata": {
            "needs_background": "light"
          }
        }
      ],
      "source": [
        "figure = corner.corner(np.vstack((softplus_samples['mu_s'][:,0,0].numpy(),softplus_samples['theta'][:,0,0].numpy(), \n",
        "                                  transform_x_samples(softplus_samples['x'][:,0,0].numpy()))).T, \n",
        "                       labels = [r\"VI $\\mu_s$\", r\"VI $\\theta$\", r\"VI $A_av$\"])\n",
        "# figure = corner.corner(np.vstack((vi_corner_samples['mu_s'][:,0,0].numpy(),vi_corner_samples['theta'][:,0,0].numpy(), \n",
        "#                                   vi_corner_samples['Av'][:,0,0].numpy())).T, \n",
        "#                        labels = [r\"VI $\\mu_s$\", r\"VI $\\theta$\", r\"VI $A_v$\"])\n",
        "# corner.corner(np.vstack((custom_vi_corner_samples['mu_s'][:,0,0].numpy(),custom_vi_corner_samples['theta'][:,0,0].numpy(), \n",
        "#                                  custom_vi_corner_samples['Av'][:,0,0].numpy())).T, \n",
        "#                        labels = [r\"$\\mu_s$\", r\"$\\theta$\", r\"$A_v$\"], fig = figure, color ='b')\n",
        "# corner.corner(np.vstack((custom_vi_full_eps_corner_samples['mu_s'][:,0,0].numpy(),custom_vi_full_eps_corner_samples['theta'][:,0,0].numpy(), \n",
        "#                                  custom_vi_full_eps_corner_samples['Av'][:,0,0].numpy())).T, \n",
        "#                        labels = [r\"$\\mu_s$\", r\"$\\theta$\", r\"$A_v$\"], fig = figure, color ='c')\n",
        "# corner.corner(np.vstack((laplace_corner_samples['mu_s'][:,0,0].numpy(),laplace_corner_samples['theta'][:,0,0].numpy(), \n",
        "#                                  laplace_corner_samples['Av'][:,0,0].numpy())).T, \n",
        "#                        labels = [r\"$\\mu_s$\", r\"$\\theta$\", r\"$A_v$\"], fig = figure, color ='b')\n",
        "corner.corner(np.vstack((mcmc_corner_samples['mu_s'][:,0].numpy(),mcmc_corner_samples['theta'][:,0].numpy(),mcmc_corner_samples['Av'][:,0].numpy())).T, \n",
        "                       labels = [r\"$\\mu_s$\", r\"$\\theta$\", r\"$A_v$\"], fig = figure, color ='r')\n",
        "# corner.corner(np.vstack((vi_from_mcmc_corner_samples['mu_s'][:,0,0].numpy(),vi_from_mcmc_corner_samples['theta'][:,0,0].numpy(), \n",
        "#                                  vi_from_mcmc_corner_samples['Av'][:,0,0].numpy())).T, \n",
        "#                        labels = [r\"$\\mu_s$\", r\"$\\theta$\", r\"$A_v$\"], fig = figure, color ='c')\n",
        " \n",
        "corner.corner(np.vstack((vi_trained_laplace_samples['mu_s'][:,0,0].numpy(),vi_trained_laplace_samples['theta'][:,0,0].numpy(), \n",
        "                                 vi_trained_laplace_samples['Av'][:,0,0].numpy())).T, \n",
        "                       labels = [r\"$\\mu_s$\", r\"$\\theta$\", r\"$A_v$\"], fig = figure, color ='b')\n",
        "# corner.corner(np.vstack((mcmc_corner_samples['mu_s'][7500:10000],mcmc_corner_samples['theta'][7500:10000],mcmc_corner_samples['Av'][7500:10000])).T, \n",
        "#                        labels = [r\"$\\mu_s$\", r\"$\\theta$\", r\"$A_v$\"], fig = figure, color  = 'r')\n",
        "# corner.corner(np.vstack((mcmc_corner_samples['mu_s'][2500:5000],mcmc_corner_samples['theta'][2500:5000],mcmc_corner_samples['Av'][2500:5000])).T, \n",
        "#                        labels = [r\"$\\mu_s$\", r\"$\\theta$\", r\"$A_v$\"], fig = figure, color  = 'b')\n",
        "corner.overplot_lines(figure, [true_mu_s, true_theta, true_Av], color = 'g')\n",
        "# corner.overplot_lines(figure, laplace_approx, color = 'tab:purple')\n",
        "\n",
        "# colors = ['k','b','c', 'r', 'g', 'tab:purple']\n",
        "# labels = ['VI (Full Matrix)', 'VI (Custom Matrix)', 'VI (Custom Matrix - Full eps)', 'MCMC', 'True Values', 'Laplace Approx']\n",
        "colors = ['k','b' ,'r', 'g']\n",
        "\n",
        "labels = ['VI with Softplus' ,'VI with Exponential', 'MCMC with Exponential', 'True Values' ]\n",
        "\n",
        "plt.legend(\n",
        "    handles=[\n",
        "        mlines.Line2D([], [], color=colors[i], label=labels[i])\n",
        "        for i in range(len(labels))\n",
        "    ],\n",
        "    fontsize=16, frameon=False,\n",
        "    bbox_to_anchor=(1, 3), loc=\"upper right\"\n",
        ")\n",
        "\n",
        "figure.savefig(\"Simulated_Light_Curve_Corner_Plot_072722.pdf\")"
      ]
    },
    {
      "cell_type": "markdown",
      "metadata": {
        "id": "4h_tM7nySqRr"
      },
      "source": [
        "## Generating 100 simulated supernovae and fitting them"
      ]
    },
    {
      "cell_type": "code",
      "source": [
        "import math\n",
        "\n",
        "from numbers import Number\n",
        "from torch.distributions import constraints\n",
        "from torch.distributions.utils import broadcast_all, lazy_property\n",
        "\n",
        "from pyro.distributions.torch_distribution import TorchDistribution\n",
        "\n",
        "class SoftplusExp(TorchDistribution):\n",
        "\n",
        "    arg_constraints = {\n",
        "        \"k\": constraints.real,\n",
        "        \"tau\": constraints.positive,\n",
        "    }\n",
        "    support = constraints.real\n",
        "    has_rsample = True\n",
        "\n",
        "    def __init__(self, k, tau, *, validate_args=None):\n",
        "        self.k, self.tau = broadcast_all(k, tau)\n",
        "        batch_shape = torch.Size() if isinstance(k, Number) else self.k.size()\n",
        "        super().__init__(batch_shape, validate_args=validate_args)\n",
        "\n",
        "\n",
        "    ## https://github.com/pytorch/pytorch/issues/72759\n",
        "    def rsample(self, sample_shape=torch.Size()):\n",
        "        shape = self._extended_shape(sample_shape)\n",
        "        av = self.tau.new(shape).exponential_() * self.tau\n",
        "        return ((av * self.k) + (1 - (av * self.k).neg().exp()).log()) / self.k\n",
        "\n",
        "    def log_prob(self, value):\n",
        "        if self._validate_args:\n",
        "            self._validate_sample(value)\n",
        "        with torch.no_grad():\n",
        "          Av = torch.log(torch.exp(self.k * value) + 1) / self.k\n",
        "          prob = (1 / self.tau) * np.exp(-Av/self.tau) / (1 + np.exp(-self.k*value))\n",
        "          return torch.log(prob)\n"
      ],
      "metadata": {
        "id": "ejq1djHSRjk6"
      },
      "execution_count": 40,
      "outputs": []
    },
    {
      "cell_type": "code",
      "source": [
        "x = pyro.sample(\"x\", SoftplusExp(k = 25, tau = tauA))\n",
        "print(x)\n",
        "k = torch.as_tensor(25.)\n",
        "Av = torch.log(1 + torch.exp(k * x)) / k\n",
        "print(Av)"
      ],
      "metadata": {
        "colab": {
          "base_uri": "https://localhost:8080/"
        },
        "id": "p8Uc3YsySZ8f",
        "outputId": "62c84d08-0df2-4d33-a0b7-af85d24721f0"
      },
      "execution_count": 47,
      "outputs": [
        {
          "output_type": "stream",
          "name": "stdout",
          "text": [
            "tensor(-0.0420)\n",
            "tensor(0.0120)\n"
          ]
        }
      ]
    },
    {
      "cell_type": "code",
      "execution_count": 43,
      "metadata": {
        "id": "-_dAHXRpSwD_"
      },
      "outputs": [],
      "source": [
        "def model_vi_w_params(obs, mu_mean, Jt, band_Jl, band_xis_matrix, band_S0, band_h):\n",
        "  # epsilon_interior = pyro.sample(\"eps_int\", dist.MultivariateNormal(torch.zeros(len(eps_cov)), covariance_matrix = eps_cov))\n",
        "\n",
        "  nu = pyro.sample(\"nu\", dist.MultivariateNormal(torch.zeros(len(eps_cov)), covariance_matrix = torch.eye(len(eps_cov))))\n",
        "  # nu = torch.zeros(54)\n",
        "  epsilon_interior = torch.matmul(torch.as_tensor(L_sigma_epsilon, dtype = torch.float), nu.float())\n",
        "  # print(epsilon_interior)\n",
        "\n",
        "  # theta = pyro.sample(\"theta\", dist.Uniform(low=-1.49, high=2.77))\n",
        "  theta = pyro.sample(\"theta\", dist.Normal(0., 1.0))\n",
        "  # theta = torch.as_tensor(0.03430605)\n",
        "\n",
        "  # theta = torch.as_tensor(-0.9835187)\n",
        "  mu_s = pyro.sample(\"mu_s\", dist.Normal(mu_mean, 10.)) ## fix this later\n",
        "  # mu_s = torch.as_tensor(37.248927127193724)\n",
        "\n",
        "  # dMs = pyro.sample(\"Ms\", dist.Normal(torch.tensor(0.), torch.tensor(sigma0)))\n",
        "  dMs = torch.tensor(0.)\n",
        "\n",
        "  # x = pyro.sample(\"x\", SoftplusExp(k = 25, tau = tauA))\n",
        "  # k = torch.as_tensor(25.)\n",
        "  # Av = torch.log(1 + torch.exp(k * x)) / k\n",
        "\n",
        "  # Av = pyro.sample(\"Av\", dist.Exponential(1 / tauA))\n",
        "  Av = pyro.sample(\"Av\", dist.AsymmetricLaplace(0, tauA / 4, 0.25))\n",
        "\n",
        "\n",
        "  epsilon = torch.zeros(W0.shape)   ## populate epsilon matrix\n",
        "  epsilon[1:-1] = torch.transpose(torch.reshape(epsilon_interior, (6,4)), 0, 1)\n",
        "\n",
        "  W = torch.as_tensor(W0) + theta*torch.as_tensor(W1) + epsilon\n",
        "\n",
        "  generated_fluxes = []\n",
        "\n",
        "  for band in bands:\n",
        "    Jl = band_Jl[band]\n",
        "    S0 = band_S0[band]\n",
        "    xis_matrix = band_xis_matrix[band]\n",
        "    h = band_h[band]\n",
        "\n",
        "    JlWJt = torch.matmul(Jl, torch.matmul(W, torch.t(Jt)))\n",
        "\n",
        "    Stilde = S0 * torch.exp((-gamma * (JlWJt + Av * xis_matrix)))\n",
        "\n",
        "    f = 10**(0.4 * (torch.as_tensor(ZPT) - mu_s - torch.as_tensor(M0) - dMs)) * torch.matmul(h, Stilde)\n",
        "    generated_fluxes.append(f)\n",
        "\n",
        "  generated_fluxes = torch.stack(generated_fluxes)\n",
        "  # print(generated_fluxes)\n",
        "\n",
        "  with pyro.plate(\"bands\"):\n",
        "    with pyro.plate(\"observations\"):\n",
        "      pyro.sample(\"flux\", dist.Normal(generated_fluxes, 0.02 * generated_fluxes), obs = obs)"
      ]
    },
    {
      "cell_type": "code",
      "source": [
        "def train_w_params(model, guide, obs, mu_mean, Jt, band_Jl, band_xis_matrix, band_S0, band_h, lr=0.01, n_steps=5000, verbose= False):\n",
        "  pyro.get_param_store().clear()\n",
        "  # adam = pyro.optim.Adam({\"lr\": 0.05}, {\"clip_norm\": 10.0})\n",
        "  adam = pyro.optim.ClippedAdam({\"lr\": lr, \"betas\": (0.95, 0.999)})\n",
        "  svi = SVI(model, guide, adam, loss=Trace_ELBO())\n",
        "  # print('hi')\n",
        "  for step in range(n_steps):\n",
        "      loss = svi.step(obs, mu_mean, Jt, band_Jl, band_xis_matrix, band_S0, band_h)\n",
        "      if verbose and step % 500 == 0:\n",
        "            print('[iter {}]  loss: {:.4f}'.format(step, loss))\n",
        "          ## if it hasn't decreased in 3 steps, end fitting\n",
        "          # if step > 2000:\n",
        "          #  if losses_every_500[-1] >= losses_every_500[-2] and losses_every_500[-2] >= losses_every_500[-3]:\n",
        "          #   break"
      ],
      "metadata": {
        "id": "dkyLLv8IPPWD"
      },
      "execution_count": 44,
      "outputs": []
    },
    {
      "cell_type": "code",
      "execution_count": 45,
      "metadata": {
        "colab": {
          "base_uri": "https://localhost:8080/"
        },
        "id": "Ba5mV6WIP2wD",
        "outputId": "1f57ac46-946d-4df0-87db-afc2b31fb7f3"
      },
      "outputs": [
        {
          "output_type": "stream",
          "name": "stdout",
          "text": [
            "0\n",
            "1\n",
            "2\n",
            "3\n",
            "4\n",
            "5\n",
            "6\n",
            "7\n",
            "8\n",
            "9\n",
            "10\n",
            "11\n",
            "12\n",
            "13\n",
            "14\n"
          ]
        }
      ],
      "source": [
        "true_distances = []\n",
        "true_thetas = []\n",
        "true_avs = []\n",
        "true_nus = []\n",
        "true_zs = []\n",
        "\n",
        "vi_laplace_locs = []\n",
        "vi_laplace_scale_trils = []\n",
        "\n",
        "while len(true_distances) < 15:\n",
        "  print(len(true_distances))\n",
        "  try:\n",
        "    z = pyro.sample(\"z\", dist.Uniform(0.015, 0.08)).numpy()\n",
        "    true_mu_s = cosmo.distmod(z).value\n",
        "\n",
        "    true_theta = pyro.sample(\"theta\", dist.Uniform(-1.33,2.78)).numpy() # for T21\n",
        "\n",
        "    true_Av = pyro.sample(\"Av\", dist.Exponential(1 / tauA)).numpy()\n",
        "\n",
        "    true_nu = pyro.sample(\"nu\", dist.MultivariateNormal(torch.zeros(len(eps_cov)), covariance_matrix = torch.eye(len(eps_cov)))).numpy()\n",
        "\n",
        "    true_epsilon_interior = np.matmul(L_sigma_epsilon, true_nu.T)\n",
        "\n",
        "    tmax = pyro.sample(\"tmax\", dist.Uniform(57100,57800)).numpy()\n",
        "    tfirst = pyro.sample(\"tfirst\", dist.Uniform(float(tmax) - 10, float(tmax) - 5)).numpy()\n",
        "    times_MJD = np.array([tfirst + 6*i for i in range(6)])\n",
        "    times = (times_MJD - tmax) / (1 + z)\n",
        "\n",
        "    observed_z = pyro.sample(\"observed_z\", dist.Normal(torch.as_tensor(z), 1.e-4))\n",
        "    mu_mean = torch.as_tensor(cosmo.distmod(observed_z.numpy()).value)\n",
        "\n",
        "    Jt, band_Jl, band_xis_matrix, band_S0, band_h, all_band_fluxes = get_band_specific_stuff(times, z, true_epsilon_interior, true_theta, true_mu_s, true_Av, dMs = 0)\n",
        "\n",
        "    autoguide_laplace = pyro.infer.autoguide.AutoLaplaceApproximation(model_vi_w_params)\n",
        "    losses = train_w_params(model_vi_w_params, autoguide_laplace, all_band_fluxes, mu_mean, Jt, band_Jl, band_xis_matrix, band_S0, band_h, n_steps = 3000, verbose = False)\n",
        "\n",
        "    new_laplace_approx_guide = autoguide_laplace.laplace_approximation(torch.as_tensor(all_band_fluxes),mu_mean, Jt, band_Jl, band_xis_matrix, band_S0, band_h)\n",
        "    losses = train_w_params(model_vi_w_params, new_laplace_approx_guide, all_band_fluxes, mu_mean, Jt, band_Jl, band_xis_matrix, band_S0, band_h, lr = 0.005,n_steps = 10000, verbose = False)\n",
        "\n",
        "    true_zs.append(z)\n",
        "    true_distances.append(true_mu_s)\n",
        "    true_thetas.append(true_theta)\n",
        "    true_avs.append(true_Av)\n",
        "    true_nus.append(true_nu)\n",
        "    vi_laplace_locs.append(new_laplace_approx_guide.get_posterior().loc.numpy())\n",
        "    vi_laplace_scale_trils.append(new_laplace_approx_guide.get_posterior().scale_tril.numpy())\n",
        "\n",
        "\n",
        "    np.savez(\"simulation_true_values_asym_laplace_081322\", true_zs=np.array(true_zs), true_distances=np.array(true_distances), true_thetas=np.array(true_thetas), true_avs=np.array(true_avs), true_nus=np.array(true_nus))\n",
        "    np.save(\"simulation_locs_asym_laplace_081322\", vi_laplace_locs)\n",
        "    np.save(\"simulation_scale_trils_asym_laplace_081322\", vi_laplace_scale_trils)\n",
        "  except:\n",
        "    print(\"didn't work\")\n",
        "\n"
      ]
    },
    {
      "cell_type": "code",
      "execution_count": 46,
      "metadata": {
        "colab": {
          "base_uri": "https://localhost:8080/",
          "height": 17
        },
        "id": "eNSZ1huSP6h-",
        "outputId": "b810e3d3-cf49-491f-fbad-d2dad1b1828e"
      },
      "outputs": [
        {
          "output_type": "display_data",
          "data": {
            "text/plain": [
              "<IPython.core.display.Javascript object>"
            ],
            "application/javascript": [
              "\n",
              "    async function download(id, filename, size) {\n",
              "      if (!google.colab.kernel.accessAllowed) {\n",
              "        return;\n",
              "      }\n",
              "      const div = document.createElement('div');\n",
              "      const label = document.createElement('label');\n",
              "      label.textContent = `Downloading \"${filename}\": `;\n",
              "      div.appendChild(label);\n",
              "      const progress = document.createElement('progress');\n",
              "      progress.max = size;\n",
              "      div.appendChild(progress);\n",
              "      document.body.appendChild(div);\n",
              "\n",
              "      const buffers = [];\n",
              "      let downloaded = 0;\n",
              "\n",
              "      const channel = await google.colab.kernel.comms.open(id);\n",
              "      // Send a message to notify the kernel that we're ready.\n",
              "      channel.send({})\n",
              "\n",
              "      for await (const message of channel.messages) {\n",
              "        // Send a message to notify the kernel that we're ready.\n",
              "        channel.send({})\n",
              "        if (message.buffers) {\n",
              "          for (const buffer of message.buffers) {\n",
              "            buffers.push(buffer);\n",
              "            downloaded += buffer.byteLength;\n",
              "            progress.value = downloaded;\n",
              "          }\n",
              "        }\n",
              "      }\n",
              "      const blob = new Blob(buffers, {type: 'application/binary'});\n",
              "      const a = document.createElement('a');\n",
              "      a.href = window.URL.createObjectURL(blob);\n",
              "      a.download = filename;\n",
              "      div.appendChild(a);\n",
              "      a.click();\n",
              "      div.remove();\n",
              "    }\n",
              "  "
            ]
          },
          "metadata": {}
        },
        {
          "output_type": "display_data",
          "data": {
            "text/plain": [
              "<IPython.core.display.Javascript object>"
            ],
            "application/javascript": [
              "download(\"download_9fa6f13c-23d9-4fb7-835c-90dd50878281\", \"simulation_true_values_asym_laplace_081322.npz\", 3018)"
            ]
          },
          "metadata": {}
        },
        {
          "output_type": "display_data",
          "data": {
            "text/plain": [
              "<IPython.core.display.Javascript object>"
            ],
            "application/javascript": [
              "\n",
              "    async function download(id, filename, size) {\n",
              "      if (!google.colab.kernel.accessAllowed) {\n",
              "        return;\n",
              "      }\n",
              "      const div = document.createElement('div');\n",
              "      const label = document.createElement('label');\n",
              "      label.textContent = `Downloading \"${filename}\": `;\n",
              "      div.appendChild(label);\n",
              "      const progress = document.createElement('progress');\n",
              "      progress.max = size;\n",
              "      div.appendChild(progress);\n",
              "      document.body.appendChild(div);\n",
              "\n",
              "      const buffers = [];\n",
              "      let downloaded = 0;\n",
              "\n",
              "      const channel = await google.colab.kernel.comms.open(id);\n",
              "      // Send a message to notify the kernel that we're ready.\n",
              "      channel.send({})\n",
              "\n",
              "      for await (const message of channel.messages) {\n",
              "        // Send a message to notify the kernel that we're ready.\n",
              "        channel.send({})\n",
              "        if (message.buffers) {\n",
              "          for (const buffer of message.buffers) {\n",
              "            buffers.push(buffer);\n",
              "            downloaded += buffer.byteLength;\n",
              "            progress.value = downloaded;\n",
              "          }\n",
              "        }\n",
              "      }\n",
              "      const blob = new Blob(buffers, {type: 'application/binary'});\n",
              "      const a = document.createElement('a');\n",
              "      a.href = window.URL.createObjectURL(blob);\n",
              "      a.download = filename;\n",
              "      div.appendChild(a);\n",
              "      a.click();\n",
              "      div.remove();\n",
              "    }\n",
              "  "
            ]
          },
          "metadata": {}
        },
        {
          "output_type": "display_data",
          "data": {
            "text/plain": [
              "<IPython.core.display.Javascript object>"
            ],
            "application/javascript": [
              "download(\"download_14ddaf1d-5034-416d-8c77-f92682ffa488\", \"simulation_locs_asym_laplace_081322.npy\", 3368)"
            ]
          },
          "metadata": {}
        },
        {
          "output_type": "display_data",
          "data": {
            "text/plain": [
              "<IPython.core.display.Javascript object>"
            ],
            "application/javascript": [
              "\n",
              "    async function download(id, filename, size) {\n",
              "      if (!google.colab.kernel.accessAllowed) {\n",
              "        return;\n",
              "      }\n",
              "      const div = document.createElement('div');\n",
              "      const label = document.createElement('label');\n",
              "      label.textContent = `Downloading \"${filename}\": `;\n",
              "      div.appendChild(label);\n",
              "      const progress = document.createElement('progress');\n",
              "      progress.max = size;\n",
              "      div.appendChild(progress);\n",
              "      document.body.appendChild(div);\n",
              "\n",
              "      const buffers = [];\n",
              "      let downloaded = 0;\n",
              "\n",
              "      const channel = await google.colab.kernel.comms.open(id);\n",
              "      // Send a message to notify the kernel that we're ready.\n",
              "      channel.send({})\n",
              "\n",
              "      for await (const message of channel.messages) {\n",
              "        // Send a message to notify the kernel that we're ready.\n",
              "        channel.send({})\n",
              "        if (message.buffers) {\n",
              "          for (const buffer of message.buffers) {\n",
              "            buffers.push(buffer);\n",
              "            downloaded += buffer.byteLength;\n",
              "            progress.value = downloaded;\n",
              "          }\n",
              "        }\n",
              "      }\n",
              "      const blob = new Blob(buffers, {type: 'application/binary'});\n",
              "      const a = document.createElement('a');\n",
              "      a.href = window.URL.createObjectURL(blob);\n",
              "      a.download = filename;\n",
              "      div.appendChild(a);\n",
              "      a.click();\n",
              "      div.remove();\n",
              "    }\n",
              "  "
            ]
          },
          "metadata": {}
        },
        {
          "output_type": "display_data",
          "data": {
            "text/plain": [
              "<IPython.core.display.Javascript object>"
            ],
            "application/javascript": [
              "download(\"download_a1566820-28f5-4796-8a6d-c65942575a09\", \"simulation_scale_trils_asym_laplace_081322.npy\", 87608)"
            ]
          },
          "metadata": {}
        }
      ],
      "source": [
        "from google.colab import files\n",
        "files.download(\"simulation_true_values_asym_laplace_081322.npz\")\n",
        "files.download('simulation_locs_asym_laplace_081322.npy')\n",
        "files.download('simulation_scale_trils_asym_laplace_081322.npy')"
      ]
    },
    {
      "cell_type": "markdown",
      "source": [
        "## Analyze these simulations"
      ],
      "metadata": {
        "id": "hI5QUwjMDUJM"
      }
    },
    {
      "cell_type": "code",
      "source": [
        "simulation_true_values = np.load(\"//content/simulation_true_values_081222.npz\")\n",
        "simulation_true_values.files"
      ],
      "metadata": {
        "colab": {
          "base_uri": "https://localhost:8080/"
        },
        "id": "aRtzf4jNDWHy",
        "outputId": "2e5cab29-e8d4-4afa-b129-1d44f3122612"
      },
      "execution_count": 3,
      "outputs": [
        {
          "output_type": "execute_result",
          "data": {
            "text/plain": [
              "['true_zs', 'true_distances', 'true_thetas', 'true_avs', 'true_nus']"
            ]
          },
          "metadata": {},
          "execution_count": 3
        }
      ]
    },
    {
      "cell_type": "code",
      "source": [
        "true_mus = simulation_true_values['true_distances'][:151]\n",
        "true_thetas = simulation_true_values['true_thetas'][:151]\n",
        "true_avs = simulation_true_values['true_avs'][:151]\n",
        "true_nus = simulation_true_values['true_nus'][:151]\n",
        "true_zs = simulation_true_values['true_zs'][:151]"
      ],
      "metadata": {
        "id": "xt8_FI3-Df5d"
      },
      "execution_count": 6,
      "outputs": []
    },
    {
      "cell_type": "code",
      "source": [
        "len(true_mus)"
      ],
      "metadata": {
        "colab": {
          "base_uri": "https://localhost:8080/"
        },
        "id": "qciOD9W-jLss",
        "outputId": "6d215eb2-8754-4d45-bc24-0054a9cbbec8"
      },
      "execution_count": 7,
      "outputs": [
        {
          "output_type": "execute_result",
          "data": {
            "text/plain": [
              "151"
            ]
          },
          "metadata": {},
          "execution_count": 7
        }
      ]
    },
    {
      "cell_type": "code",
      "source": [
        "simulation_locs = np.load(\"/content/simulation_locs_081222.npy\")[:151]\n",
        "simulation_scale_trils=  np.load(\"/content/simulation_scale_trils_081222.npy\")[:151]"
      ],
      "metadata": {
        "id": "rW1TepTkDtsm"
      },
      "execution_count": 15,
      "outputs": []
    },
    {
      "cell_type": "code",
      "source": [
        "len(simulation_locs)"
      ],
      "metadata": {
        "colab": {
          "base_uri": "https://localhost:8080/"
        },
        "id": "uf753G-Z9yYc",
        "outputId": "6b4f078b-2f87-45c7-c805-b1f3d790082d"
      },
      "execution_count": 16,
      "outputs": [
        {
          "output_type": "execute_result",
          "data": {
            "text/plain": [
              "151"
            ]
          },
          "metadata": {},
          "execution_count": 16
        }
      ]
    },
    {
      "cell_type": "code",
      "source": [
        "len(true_mus)"
      ],
      "metadata": {
        "colab": {
          "base_uri": "https://localhost:8080/"
        },
        "id": "fJcTlx-JtKRA",
        "outputId": "f762274b-ae9a-4cfc-f586-0c109f1e005a"
      },
      "execution_count": 17,
      "outputs": [
        {
          "output_type": "execute_result",
          "data": {
            "text/plain": [
              "151"
            ]
          },
          "metadata": {},
          "execution_count": 17
        }
      ]
    },
    {
      "cell_type": "code",
      "source": [
        "true_xs = np.log(np.exp(25*true_avs) - 1) /25."
      ],
      "metadata": {
        "id": "bvwXEmf7dHeX"
      },
      "execution_count": 18,
      "outputs": []
    },
    {
      "cell_type": "code",
      "source": [
        "def get_fit_av(x_loc, x_variance, k = 25.):\n",
        "  samples = np.random.normal(loc = x_loc, scale = np.sqrt(x_variance), size = 1000)\n",
        "  transformed_samples = np.log(1 + np.exp(k * (samples))) / k\n",
        "  if x_variance > 1:\n",
        "    print(x_loc, x_variance)\n",
        "    plt.hist(samples, label = 'x')\n",
        "    plt.hist(transformed_samples, label = '$A_V$')\n",
        "    plt.axvline(np.mean(transformed_samples), color = 'k', linestyle = 'dashed')\n",
        "    plt.legend()\n",
        "    plt.show()\n",
        "  return np.mean(transformed_samples)"
      ],
      "metadata": {
        "id": "ctyWDGAKn47l"
      },
      "execution_count": 19,
      "outputs": []
    },
    {
      "cell_type": "code",
      "source": [
        "fit_mus = []\n",
        "fit_thetas = []\n",
        "fit_avs = []\n",
        "fit_xs = []\n",
        "\n",
        "mu_variances = []\n",
        "\n",
        "for i in range(len(simulation_locs)):\n",
        "# for i in range(10):\n",
        "\n",
        "  fit_mus.append(simulation_locs[i][-2])\n",
        "  fit_thetas.append(simulation_locs[i][-3])\n",
        "\n",
        "  scale_tril = simulation_scale_trils[i]\n",
        "\n",
        "  k = 25.\n",
        "  # Av = torch.log(1 + torch.exp(k * x)) / k\n",
        "  x_mean = simulation_locs[i][-1]\n",
        "  x_variance = np.matmul(scale_tril, scale_tril.T)[-1][-1]\n",
        "  fit_xs.append(x_mean)\n",
        "\n",
        "  # fit_avs.append(get_fit_av(x_mean, x_variance))\n",
        "\n",
        "  fit_avs.append(np.exp(simulation_locs[i][-1]))\n",
        "  # fit_avs.append((simulation_locs[i][-1]))\n",
        "\n",
        "\n",
        "\n",
        "  \n",
        "  mu_variances.append(np.matmul(scale_tril, scale_tril.T)[-2][-2])"
      ],
      "metadata": {
        "id": "ulYpvEY5DxKF"
      },
      "execution_count": 21,
      "outputs": []
    },
    {
      "cell_type": "code",
      "source": [
        "f = plt.figure()\n",
        "plt.plot(true_mus, fit_mus, 'o')\n",
        "plt.errorbar(true_mus, fit_mus, np.sqrt(np.array(mu_variances)), color = 'k', linestyle = 'None')\n",
        "plt.plot(np.linspace(33.9, 37.9),np.linspace(33.9, 37.9))\n",
        "plt.xlabel(\"True distances\", fontsize = 16)\n",
        "plt.ylabel(\"Fit distances\", fontsize = 16)\n",
        "plt.xticks(fontsize = 12)\n",
        "plt.yticks(fontsize = 12)\n",
        "f.savefig(\"True_v_fit_distances.pdf\", bbox_inches = 'tight')"
      ],
      "metadata": {
        "colab": {
          "base_uri": "https://localhost:8080/",
          "height": 287
        },
        "id": "eaeU19DqE6vy",
        "outputId": "9986367a-55a0-4bfc-cfc1-267267cb55b0"
      },
      "execution_count": 22,
      "outputs": [
        {
          "output_type": "display_data",
          "data": {
            "text/plain": [
              "<Figure size 432x288 with 1 Axes>"
            ],
            "image/png": "[encoded data removed]"
          },
          "metadata": {
            "needs_background": "light"
          }
        }
      ]
    },
    {
      "cell_type": "code",
      "source": [
        "residuals = fit_mus - true_mus\n",
        "plt.plot(true_mus, residuals, 'o')\n",
        "plt.axhline(0, color = 'k')\n",
        "plt.xlabel(\"True distances\", fontsize = 16)\n",
        "plt.ylabel(\"Distance residual (true - fit)\", fontsize = 16)\n",
        "plt.xticks(fontsize = 12)\n",
        "plt.yticks(fontsize = 12)"
      ],
      "metadata": {
        "colab": {
          "base_uri": "https://localhost:8080/",
          "height": 327
        },
        "id": "4a3DAC3GGzyk",
        "outputId": "87634ac1-09f2-493a-998e-e215031a9fd5"
      },
      "execution_count": 23,
      "outputs": [
        {
          "output_type": "execute_result",
          "data": {
            "text/plain": [
              "(array([-0.15, -0.1 , -0.05,  0.  ,  0.05,  0.1 ,  0.15,  0.2 ]),\n",
              " <a list of 8 Text major ticklabel objects>)"
            ]
          },
          "metadata": {},
          "execution_count": 23
        },
        {
          "output_type": "display_data",
          "data": {
            "text/plain": [
              "<Figure size 432x288 with 1 Axes>"
            ],
            "image/png": "[encoded data removed]"
          },
          "metadata": {
            "needs_background": "light"
          }
        }
      ]
    },
    {
      "cell_type": "code",
      "source": [
        "max(residuals)"
      ],
      "metadata": {
        "colab": {
          "base_uri": "https://localhost:8080/"
        },
        "id": "zbwaawEakq3S",
        "outputId": "b7cdf935-0a18-40c0-fc23-6c4f71fdf479"
      },
      "execution_count": 34,
      "outputs": [
        {
          "output_type": "execute_result",
          "data": {
            "text/plain": [
              "0.1751483829286613"
            ]
          },
          "metadata": {},
          "execution_count": 34
        }
      ]
    },
    {
      "cell_type": "code",
      "source": [
        "np.std(residuals)"
      ],
      "metadata": {
        "colab": {
          "base_uri": "https://localhost:8080/"
        },
        "id": "SEAd133ykvQp",
        "outputId": "7b941e93-232e-412a-ddd4-e0e49a756d35"
      },
      "execution_count": 35,
      "outputs": [
        {
          "output_type": "execute_result",
          "data": {
            "text/plain": [
              "0.05453345163271747"
            ]
          },
          "metadata": {},
          "execution_count": 35
        }
      ]
    },
    {
      "cell_type": "code",
      "source": [
        "count = 0\n",
        "for i in range(len(true_mus)):\n",
        "  if residuals[i] <= np.sqrt(mu_variances[i]):\n",
        "    count += 1"
      ],
      "metadata": {
        "id": "hFZA79EpJxV3"
      },
      "execution_count": 24,
      "outputs": []
    },
    {
      "cell_type": "code",
      "source": [
        "count / len(true_mus)"
      ],
      "metadata": {
        "colab": {
          "base_uri": "https://localhost:8080/"
        },
        "id": "TmXe4fCkJ8QC",
        "outputId": "5e5ed146-7a23-4af2-9058-cb3f2f4da55b"
      },
      "execution_count": 25,
      "outputs": [
        {
          "output_type": "execute_result",
          "data": {
            "text/plain": [
              "0.8410596026490066"
            ]
          },
          "metadata": {},
          "execution_count": 25
        }
      ]
    },
    {
      "cell_type": "code",
      "source": [
        "plt.plot(true_thetas, fit_thetas, 'o')\n",
        "plt.plot(np.linspace(-1.5, 2.9),np.linspace(-1.5, 2.9))"
      ],
      "metadata": {
        "colab": {
          "base_uri": "https://localhost:8080/",
          "height": 283
        },
        "id": "-d0fBlgeF2WA",
        "outputId": "bdb87aeb-66fc-4ccf-f5a9-2ccdbda49cf7"
      },
      "execution_count": 26,
      "outputs": [
        {
          "output_type": "execute_result",
          "data": {
            "text/plain": [
              "[<matplotlib.lines.Line2D at 0x7fa31a123e90>]"
            ]
          },
          "metadata": {},
          "execution_count": 26
        },
        {
          "output_type": "display_data",
          "data": {
            "text/plain": [
              "<Figure size 432x288 with 1 Axes>"
            ],
            "image/png": "[encoded data removed]"
          },
          "metadata": {
            "needs_background": "light"
          }
        }
      ]
    },
    {
      "cell_type": "code",
      "source": [
        "f = plt.figure()\n",
        "plt.plot(true_xs, fit_xs, 'o')\n",
        "plt.plot(np.linspace(-0.2,1), np.linspace(-0.2,1))\n",
        "plt.xlabel(\"True x\", fontsize = 14)\n",
        "plt.ylabel(\"Fit x\", fontsize = 14)\n",
        "plt.xticks(fontsize = 12)\n",
        "plt.yticks(fontsize = 12)\n",
        "plt.show()\n",
        "f.savefig(\"x_compare.pdf\", bbox_inches = 'tight')"
      ],
      "metadata": {
        "colab": {
          "base_uri": "https://localhost:8080/",
          "height": 286
        },
        "id": "WU8NwE0tePnn",
        "outputId": "07c38571-ea7f-4563-9296-4c4cddf60049"
      },
      "execution_count": 27,
      "outputs": [
        {
          "output_type": "display_data",
          "data": {
            "text/plain": [
              "<Figure size 432x288 with 1 Axes>"
            ],
            "image/png": "[encoded data removed]"
          },
          "metadata": {
            "needs_background": "light"
          }
        }
      ]
    },
    {
      "cell_type": "code",
      "source": [
        "plt.plot(true_avs, fit_avs, 'o')\n",
        "plt.plot(np.linspace(0, 1.4),np.linspace(0, 1.4))\n",
        "plt.xlabel(\"True $A_V$\")\n",
        "plt.ylabel(\"Fit $A_V$\")"
      ],
      "metadata": {
        "colab": {
          "base_uri": "https://localhost:8080/",
          "height": 301
        },
        "id": "6QNybRJ6GI0R",
        "outputId": "946ffd01-b4ea-497f-f73c-f49bff243195"
      },
      "execution_count": 28,
      "outputs": [
        {
          "output_type": "execute_result",
          "data": {
            "text/plain": [
              "Text(0, 0.5, 'Fit $A_V$')"
            ]
          },
          "metadata": {},
          "execution_count": 28
        },
        {
          "output_type": "display_data",
          "data": {
            "text/plain": [
              "<Figure size 432x288 with 1 Axes>"
            ],
            "image/png": "[encoded data removed]"
          },
          "metadata": {
            "needs_background": "light"
          }
        }
      ]
    },
    {
      "cell_type": "code",
      "source": [
        "fig, ax = plt.subplots(2,3, figsize = (16,9))\n",
        "ax[0][0].plot(true_mus, fit_mus, 'o')\n",
        "ax[0][0].plot(np.linspace(min(true_mus), max(true_mus)),np.linspace(min(true_mus), max(true_mus)))\n",
        "ax[0][0].set_ylabel('Fit $\\\\mu$', fontsize = 16)\n",
        "# ax[0][0].set_xlabel('True $\\\\mu$', fontsize = 16)\n",
        "\n",
        "\n",
        "ax[1][0].plot(true_mus, fit_mus - true_mus, 'o')\n",
        "ax[1][0].axhline(0, color = 'k')\n",
        "ax[1][0].set_ylabel('Residual $\\\\mu$ (fit - true)', fontsize = 16)\n",
        "ax[1][0].set_xlabel('True $\\\\mu$', fontsize = 16)\n",
        "\n",
        "\n",
        "ax[0][1].plot(true_thetas, fit_thetas, 'o')\n",
        "ax[0][1].plot(np.linspace(min(true_thetas), max(true_thetas)),np.linspace(min(true_thetas), max(true_thetas)))\n",
        "ax[0][1].set_ylabel('Fit $\\\\theta$', fontsize = 16)\n",
        "# ax[0][1].set_xlabel('True $\\\\theta$', fontsize = 16)\n",
        "\n",
        "ax[1][1].plot(true_thetas, fit_thetas - true_thetas, 'o')\n",
        "ax[1][1].axhline(0, color = 'k')\n",
        "ax[1][1].set_ylabel('Residual $\\\\theta$ (fit - true)', fontsize = 16)\n",
        "ax[1][1].set_xlabel('True $\\\\theta$', fontsize = 16)\n",
        "\n",
        "ax[0][2].plot(true_avs, fit_avs, 'o')\n",
        "ax[0][2].plot(np.linspace(0, 2.1),np.linspace(0, 2.1))\n",
        "ax[0][2].set_ylabel('Fit $A_V$', fontsize = 16)\n",
        "ax[0][2].set_xlim(0,1)\n",
        "ax[0][2].set_ylim(0,1)\n",
        "\n",
        "# ax[0][2].set_xlabel('True $A_V$', fontsize = 16)\n",
        "\n",
        "ax[1][2].plot(true_avs, fit_avs - true_avs, 'o')\n",
        "ax[1][2].axhline(0, color = 'k')\n",
        "ax[1][2].set_ylabel('Residual $A_V$ (fit - true)', fontsize = 16)\n",
        "ax[1][2].set_xlabel('True $A_V$', fontsize = 16)\n",
        "ax[1][2].set_xlim(0,1)\n",
        "\n",
        "for axis in ax.flatten():\n",
        "  axis.tick_params(axis='x', labelsize=12)\n",
        "  axis.tick_params(axis='y', labelsize=12)\n",
        "\n",
        "plt.tight_layout()\n",
        "\n",
        "fig.savefig(\"SimulationComparison081722Redo.pdf\", bbox_inches = 'tight')"
      ],
      "metadata": {
        "colab": {
          "base_uri": "https://localhost:8080/",
          "height": 593
        },
        "id": "7grS72-0CM5Q",
        "outputId": "2c14425c-1f01-4c75-d3e6-9083ca1c3e7e"
      },
      "execution_count": 30,
      "outputs": [
        {
          "output_type": "display_data",
          "data": {
            "text/plain": [
              "<Figure size 1152x648 with 6 Axes>"
            ],
            "image/png": "[encoded data removed]"
          },
          "metadata": {
            "needs_background": "light"
          }
        }
      ]
    },
    {
      "cell_type": "code",
      "source": [
        "fig = corner.corner(np.vstack((residuals, fit_thetas - true_thetas, fit_avs - true_avs)).T, plot_contours = False, plot_datapoints =  True, plot_density = False, \n",
        "              data_kwargs = {'color':'tab:blue', 'alpha':1, 'marker':'o', 'markersize':3}, labels = ['$\\\\mu$ residual', '$\\\\theta$ residual', '$A_V$ residual'],\n",
        "              label_kwargs = {'fontsize':12})\n",
        "axes = np.array(fig.axes).reshape((3, 3))\n",
        "for a in axes[np.triu_indices(3)]:\n",
        "  a.remove()\n",
        "\n",
        "fig.savefig(\"Residuals_corner_plot_redo_081722.pdf\", bbox_inches = 'tight')"
      ],
      "metadata": {
        "colab": {
          "base_uri": "https://localhost:8080/",
          "height": 519
        },
        "id": "zITcqOT9lwc8",
        "outputId": "9af04d88-2672-46dd-f42a-750642811b3a"
      },
      "execution_count": 31,
      "outputs": [
        {
          "output_type": "stream",
          "name": "stderr",
          "text": [
            "/usr/local/lib/python3.7/dist-packages/corner/core.py:635: MatplotlibDeprecationWarning: Saw kwargs ['ms', 'markersize'] which are all aliases for 'markersize'.  Kept value from 'markersize'.  Passing multiple aliases for the same property will raise a TypeError in 3.3.\n",
            "  ax.plot(x, y, \"o\", zorder=-1, rasterized=True, **data_kwargs)\n",
            "/usr/local/lib/python3.7/dist-packages/corner/core.py:635: MatplotlibDeprecationWarning: Saw kwargs ['ms', 'markersize'] which are all aliases for 'markersize'.  Kept value from 'markersize'.  Passing multiple aliases for the same property will raise a TypeError in 3.3.\n",
            "  ax.plot(x, y, \"o\", zorder=-1, rasterized=True, **data_kwargs)\n",
            "/usr/local/lib/python3.7/dist-packages/corner/core.py:635: MatplotlibDeprecationWarning: Saw kwargs ['ms', 'markersize'] which are all aliases for 'markersize'.  Kept value from 'markersize'.  Passing multiple aliases for the same property will raise a TypeError in 3.3.\n",
            "  ax.plot(x, y, \"o\", zorder=-1, rasterized=True, **data_kwargs)\n"
          ]
        },
        {
          "output_type": "display_data",
          "data": {
            "text/plain": [
              "<Figure size 547.2x547.2 with 3 Axes>"
            ],
            "image/png": "[encoded data removed]"
          },
          "metadata": {
            "needs_background": "light"
          }
        }
      ]
    },
    {
      "cell_type": "code",
      "source": [
        "linspace_z = np.linspace(0.01, 0.085)\n",
        "\n",
        "cosmo = FlatLambdaCDM(H0 = 73.24, Om0 = 0.28)\n",
        "cosmo_distmod_values = np.array([cosmo.distmod(z).value for z in linspace_z])"
      ],
      "metadata": {
        "id": "Eol_XzUm_va7"
      },
      "execution_count": null,
      "outputs": []
    },
    {
      "cell_type": "code",
      "source": [
        "def plot_hubble_distances_and_residuals(mus, vars, z_cmbs, linspace_z = linspace_z, cosmo_distmod_values = cosmo_distmod_values):\n",
        "  predictions = mus\n",
        "  targets = np.array([cosmo.distmod(z).value for z in z_cmbs])\n",
        "  rmse = np.sqrt(np.mean((predictions-targets)**2))\n",
        "  \n",
        "  fig, ax = plt.subplots(2,1, figsize = (6,9))\n",
        "  ax[0].plot(z_cmbs, mus,'o')\n",
        "  ax[0].plot(linspace_z, cosmo_distmod_values, color = 'k')\n",
        "  ax[0].errorbar(z_cmbs, mus, np.sqrt(vars), linestyle = 'None', color = 'k')\n",
        "  ax[0].set_xlabel(\"Recession velocity (speed of light)\", fontsize =14)\n",
        "  ax[0].set_ylabel(\"log(distance)\", fontsize = 14)\n",
        "  plt.text(0.07, 1.0, \"Foundation DR1\", fontsize = 16, horizontalalignment = 'center')\n",
        "  plt.text(0.07, 0.9, \"N = \" + str(len(z_cmbs)), fontsize = 16, horizontalalignment = 'center')\n",
        "  plt.text(0.07, 0.8, \"RMSE = \" + str(round(rmse,2)), fontsize = 16, horizontalalignment = 'center')\n",
        "\n",
        "\n",
        "  sigma_pec = 150\n",
        "  c = 300000\n",
        "  ax[1].plot(z_cmbs, mus - np.array(targets), 'o')\n",
        "  print(np.mean(mus - np.array(targets)), \"+/-\", np.std(mus - np.array(targets)) / np.sqrt(len(z_cmbs)))\n",
        "\n",
        "  ax[1].errorbar(z_cmbs, mus - np.array(targets), np.sqrt(vars), linestyle = 'None', color = 'k')\n",
        "\n",
        "  sigma_envelope = np.array([(5 / (z * np.log(10))) * (sigma_pec / c) for z in linspace_z])\n",
        "  ax[1].plot(linspace_z, sigma_envelope, marker = 'None', linestyle = 'dashed', color = 'k')\n",
        "  ax[1].plot(linspace_z, -sigma_envelope, marker = 'None', linestyle = 'dashed', color = 'k')\n",
        "\n",
        "  ax[1].axhline(0., color = 'k')\n",
        "  ax[1].set_xlabel(\"z\", fontsize = 14)\n",
        "  ax[1].set_ylabel(\"Hubble Residual\", fontsize = 14)\n",
        "\n",
        "  return fig"
      ],
      "metadata": {
        "id": "xlr7pS7__uLa"
      },
      "execution_count": null,
      "outputs": []
    },
    {
      "cell_type": "code",
      "source": [
        "plot_hubble_distances_and_residuals(fit_mus, mu_variances, true_zs)"
      ],
      "metadata": {
        "colab": {
          "base_uri": "https://localhost:8080/",
          "height": 1000
        },
        "id": "yaHr9v7r_2zH",
        "outputId": "441c0435-ceb5-4613-f402-d982e2abfc4e"
      },
      "execution_count": null,
      "outputs": [
        {
          "output_type": "stream",
          "name": "stdout",
          "text": [
            "-0.0001657280550811322 +/- 0.002302661518301876\n"
          ]
        },
        {
          "output_type": "execute_result",
          "data": {
            "text/plain": [
              "<Figure size 432x648 with 2 Axes>"
            ],
            "image/png": "[encoded data removed]"
          },
          "metadata": {},
          "execution_count": 26
        },
        {
          "output_type": "display_data",
          "data": {
            "text/plain": [
              "<Figure size 432x648 with 2 Axes>"
            ],
            "image/png": "[encoded data removed]"
          },
          "metadata": {
            "needs_background": "light"
          }
        }
      ]
    },
    {
      "cell_type": "markdown",
      "source": [
        "## Generate sample population for training"
      ],
      "metadata": {
        "id": "mG0C3QpJI7Cv"
      }
    },
    {
      "cell_type": "code",
      "source": [
        "def make_times_into_dictionary(times):\n",
        "  ret_dict = {}\n",
        "  for band in ['g', 'r', 'i', 'z']:\n",
        "    ret_dict[band] = times\n",
        "  return ret_dict"
      ],
      "metadata": {
        "id": "0y2sX-W0PyNK"
      },
      "execution_count": null,
      "outputs": []
    },
    {
      "cell_type": "code",
      "source": [
        "true_distances = []\n",
        "true_thetas = []\n",
        "true_avs = []\n",
        "true_nus = []\n",
        "true_zs = []\n",
        "true_rvs = []\n",
        "\n",
        "# vi_laplace_locs = []\n",
        "# vi_laplace_scale_trils = []\n",
        "\n",
        "simulated_times = []\n",
        "simulated_fluxes= []\n",
        "\n",
        "true_rv_mean = 2.7\n",
        "true_rv_std = 0.5\n",
        "true_tau = 0.4\n",
        "\n",
        "while len(simulated_times) < 100:\n",
        "\n",
        "  try:\n",
        "    z = pyro.sample(\"z\", dist.Uniform(0.015, 0.08)).numpy()\n",
        "    \n",
        "    true_mu_s = cosmo.distmod(z).value\n",
        "\n",
        "    this_rv = pyro.sample(\"rv\", dist.Normal(true_rv_mean, true_rv_std)).numpy()\n",
        "\n",
        "    true_theta = pyro.sample(\"theta\", dist.Uniform(-1.33,2.78)).numpy() # for T21\n",
        "\n",
        "    true_Av = pyro.sample(\"Av\", dist.Exponential(1 / true_tau)).numpy()\n",
        "\n",
        "    true_nu = pyro.sample(\"nu\", dist.MultivariateNormal(torch.zeros(len(eps_cov)), covariance_matrix = torch.eye(len(eps_cov)))).numpy()\n",
        "\n",
        "    true_epsilon_interior = np.matmul(L_sigma_epsilon, true_nu.T)\n",
        "\n",
        "    tmax = pyro.sample(\"tmax\", dist.Uniform(57100,57800)).numpy()\n",
        "    tfirst = pyro.sample(\"tfirst\", dist.Uniform(float(tmax) - 10, float(tmax) - 5)).numpy()\n",
        "    times_MJD = np.array([tfirst + 6*i for i in range(6)])\n",
        "    times = (times_MJD - tmax) / (1 + z)\n",
        "\n",
        "    observed_z = pyro.sample(\"observed_z\", dist.Normal(torch.as_tensor(z), 1.e-4))\n",
        "    mu_mean = torch.as_tensor(cosmo.distmod(observed_z.numpy()).value)\n",
        "\n",
        "    Jt, band_Jl, band_xis_matrix, band_S0, band_h, all_band_fluxes = get_band_specific_stuff(times, z, true_epsilon_interior, true_theta, true_mu_s, true_Av, dMs = 0, rv = this_rv)\n",
        "\n",
        "    # print(times.shape, all_band_fluxes.shape)\n",
        "\n",
        "    simulated_times.append(times)\n",
        "    simulated_fluxes.append(all_band_fluxes)\n",
        "    true_zs.append(z)\n",
        "    true_distances.append(true_mu_s)\n",
        "    true_thetas.append(true_theta)\n",
        "    true_avs.append(true_Av)\n",
        "    true_nus.append(true_nu)\n",
        "    true_rvs.append(this_rv)\n",
        "\n",
        "  except:\n",
        "    print(\"didn't work\")\n"
      ],
      "metadata": {
        "id": "xTieM4t-I9HK"
      },
      "execution_count": null,
      "outputs": []
    },
    {
      "cell_type": "code",
      "source": [
        "np.savez(\"simulation_true_values_training_080322\", true_zs=np.array(true_zs), true_distances=np.array(true_distances), true_thetas=np.array(true_thetas), true_avs=np.array(true_avs), true_nus=np.array(true_nus), true_rvs=np.array(true_rvs), simulated_times=simulated_times, simulated_fluxes=simulated_fluxes)"
      ],
      "metadata": {
        "colab": {
          "base_uri": "https://localhost:8080/"
        },
        "id": "-Q9kRcFbRcxp",
        "outputId": "0ec61e27-206b-4b39-95ed-cfd21afdbb87"
      },
      "execution_count": null,
      "outputs": [
        {
          "output_type": "stream",
          "name": "stderr",
          "text": [
            "/usr/local/lib/python3.7/dist-packages/numpy/lib/npyio.py:719: FutureWarning: The input object of type 'Tensor' is an array-like implementing one of the corresponding protocols (`__array__`, `__array_interface__` or `__array_struct__`); but not a sequence (or 0-D). In the future, this object will be coerced as if it was first converted using `np.array(obj)`. To retain the old behaviour, you have to either modify the type 'Tensor', or assign to an empty array created with `np.empty(correct_shape, dtype=object)`.\n",
            "  val = np.asanyarray(val)\n",
            "/usr/local/lib/python3.7/dist-packages/numpy/lib/npyio.py:719: VisibleDeprecationWarning: Creating an ndarray from ragged nested sequences (which is a list-or-tuple of lists-or-tuples-or ndarrays with different lengths or shapes) is deprecated. If you meant to do this, you must specify 'dtype=object' when creating the ndarray.\n",
            "  val = np.asanyarray(val)\n"
          ]
        }
      ]
    },
    {
      "cell_type": "markdown",
      "source": [
        "## Generating plot of sample simulated supernova light curves"
      ],
      "metadata": {
        "id": "i4f8_W37RNPY"
      }
    },
    {
      "cell_type": "code",
      "source": [
        "z = pyro.sample(\"z\", dist.Uniform(0.015, 0.08)).numpy()\n",
        "true_mu_s = cosmo.distmod(z).value\n",
        "\n",
        "true_theta = pyro.sample(\"theta\", dist.Uniform(-1.33,2.78)).numpy() # for T21\n",
        "\n",
        "true_Av = pyro.sample(\"Av\", dist.Exponential(1 / tauA)).numpy()\n",
        "\n",
        "true_nu = pyro.sample(\"nu\", dist.MultivariateNormal(torch.zeros(len(eps_cov)), covariance_matrix = torch.eye(len(eps_cov)))).numpy()\n",
        "\n",
        "true_epsilon_interior = np.matmul(L_sigma_epsilon, true_nu.T)\n",
        "\n",
        "tmax = pyro.sample(\"tmax\", dist.Uniform(57100,57800)).numpy()\n",
        "tfirst = pyro.sample(\"tfirst\", dist.Uniform(float(tmax) - 10, float(tmax) - 5)).numpy()\n",
        "times_MJD = np.array([tfirst + 6*i for i in range(6)])\n",
        "times = (times_MJD - tmax) / (1 + z)\n",
        "\n",
        "observed_z = pyro.sample(\"observed_z\", dist.Normal(torch.as_tensor(z), 1.e-4))\n",
        "mu_mean = torch.as_tensor(cosmo.distmod(observed_z.numpy()).value)\n",
        "\n",
        "Jt, band_Jl, band_xis_matrix, band_S0, band_h, all_band_fluxes = get_band_specific_stuff(times, z, true_epsilon_interior, true_theta, true_mu_s, true_Av, dMs = 0)\n"
      ],
      "metadata": {
        "id": "pHPUrH-FRL2q"
      },
      "execution_count": 53,
      "outputs": []
    },
    {
      "cell_type": "code",
      "source": [
        "colors  = ['g', 'r', 'c', 'k']\n",
        "# for i, band_flux in enumerate(median_fluxes):\n",
        "#   plt.plot(np.linspace(-10, 30), band_flux, label = bands[i], color = colors[i])\n",
        "for i, band_flux in enumerate(all_band_fluxes):\n",
        "  plt.plot(times, band_flux, 'o',color = colors[i])\n",
        "plt.legend()"
      ],
      "metadata": {
        "colab": {
          "base_uri": "https://localhost:8080/",
          "height": 302
        },
        "id": "E2hCTQBFRqtb",
        "outputId": "4b5f6f29-bdce-4be5-b8b8-ba1b53a1931f"
      },
      "execution_count": 54,
      "outputs": [
        {
          "output_type": "stream",
          "name": "stderr",
          "text": [
            "WARNING:matplotlib.legend:No handles with labels found to put in legend.\n"
          ]
        },
        {
          "output_type": "execute_result",
          "data": {
            "text/plain": [
              "<matplotlib.legend.Legend at 0x7fbae472e8d0>"
            ]
          },
          "metadata": {},
          "execution_count": 54
        },
        {
          "output_type": "display_data",
          "data": {
            "text/plain": [
              "<Figure size 432x288 with 1 Axes>"
            ],
            "image/png": "[encoded data removed]"
          },
          "metadata": {
            "needs_background": "light"
          }
        }
      ]
    },
    {
      "cell_type": "markdown",
      "metadata": {
        "id": "tlwEDBP8SllE"
      },
      "source": [
        "## Generating giant corner plot that I don't really need anymore"
      ]
    },
    {
      "cell_type": "code",
      "execution_count": null,
      "metadata": {
        "id": "JwCMLAXr603v"
      },
      "outputs": [],
      "source": [
        "mcmc_eps_row_samples = []\n",
        "mcmc_eps_column_samples = []\n",
        "\n",
        "vi_eps_row_samples = []\n",
        "vi_eps_column_samples = []\n",
        "\n",
        "for i in range(num_corner_samples):\n",
        "  mcmc_eps_int = np.matmul(L_sigma_epsilon, mcmc_corner_samples['nu'].numpy()[i]).reshape((9,6), order = 'F')\n",
        "  mcmc_eps_row_samples.append(mcmc_eps_int[1])\n",
        "  mcmc_eps_column_samples.append(mcmc_eps_int[:,1])\n",
        "\n",
        "  vi_eps_int = np.matmul(L_sigma_epsilon, vi_corner_samples['nu'][:,0,0].numpy()[i]).reshape((9,6), order = 'F')\n",
        "  vi_eps_row_samples.append(vi_eps_int[1])\n",
        "  vi_eps_column_samples.append(vi_eps_int[:,1])\n",
        "\n",
        "\n",
        "mcmc_eps_row_samples = np.array(mcmc_eps_row_samples)\n",
        "mcmc_eps_column_samples = np.array(mcmc_eps_column_samples)\n",
        "vi_eps_row_samples = np.array(vi_eps_row_samples)\n",
        "vi_eps_column_samples = np.array(vi_eps_column_samples)\n",
        "\n",
        "mcmc_eps_row_samples.shape, vi_eps_column_samples.shape"
      ]
    },
    {
      "cell_type": "code",
      "execution_count": null,
      "metadata": {
        "id": "s0SNEoBd_cL7"
      },
      "outputs": [],
      "source": [
        "true_epsilon_row = true_epsilon_interior.reshape((9,6), order = 'F')[1]\n",
        "true_epsilon_column = true_epsilon_interior.reshape((9,6), order = 'F')[:,1]"
      ]
    },
    {
      "cell_type": "code",
      "execution_count": null,
      "metadata": {
        "id": "uW7oshGdybdG"
      },
      "outputs": [],
      "source": [
        "figure = corner.corner(np.vstack((vi_corner_samples['mu_s'][:,0,0].numpy(),vi_corner_samples['theta'][:,0,0].numpy(), \n",
        "                                  vi_corner_samples['Av'][:,0,0].numpy(), vi_eps_row_samples.T)).T, \n",
        "                       labels = [r\"VI $\\mu_s$\", r\"VI $\\theta$\", r\"VI $A_v$\"] + [\"epsilon[1][\"+str(i)+\"]\" for i in range(9)])\n",
        "corner.corner(np.vstack((mcmc_corner_samples['mu_s'],mcmc_corner_samples['theta'],mcmc_corner_samples['Av'], mcmc_eps_row_samples.T)).T, \n",
        "                       labels = [r\"$\\mu_s$\", r\"$\\theta$\", r\"$A_v$\"] + [\"epsilon[1][\"+str(i)+\"]\" for i in range(9)], fig = figure, color ='r')\n",
        "# corner.corner(np.vstack((mcmc_corner_samples['mu_s'][7500:10000],mcmc_corner_samples['theta'][7500:10000],mcmc_corner_samples['Av'][7500:10000])).T, \n",
        "#                        labels = [r\"$\\mu_s$\", r\"$\\theta$\", r\"$A_v$\"], fig = figure, color  = 'r')\n",
        "# corner.corner(np.vstack((mcmc_corner_samples['mu_s'][2500:5000],mcmc_corner_samples['theta'][2500:5000],mcmc_corner_samples['Av'][2500:5000])).T, \n",
        "#                        labels = [r\"$\\mu_s$\", r\"$\\theta$\", r\"$A_v$\"], fig = figure, color  = 'b')\n",
        "corner.overplot_lines(figure, [true_mu_s, true_theta, true_Av] + list(true_epsilon_row), color = 'g')\n",
        "colors = ['k', 'r', 'g']\n",
        "labels = ['Variational Inference', 'MCMC', 'True Values']\n",
        "plt.legend(\n",
        "    handles=[\n",
        "        mlines.Line2D([], [], color=colors[i], label=labels[i])\n",
        "        for i in range(len(labels))\n",
        "    ],\n",
        "    fontsize=20, frameon=False,\n",
        "    bbox_to_anchor=(1, 3), loc=\"upper right\"\n",
        ")\n",
        "figure.savefig(\"eps_row_corner_plot.pdf\", bbox_inches = 'tight')"
      ]
    },
    {
      "cell_type": "code",
      "execution_count": null,
      "metadata": {
        "id": "4bfJ03FN1Gb5"
      },
      "outputs": [],
      "source": [
        "figure = corner.corner(np.vstack((vi_corner_samples['mu_s'][:,0,0].numpy(),vi_corner_samples['theta'][:,0,0].numpy(), \n",
        "                                  vi_corner_samples['Av'][:,0,0].numpy(), vi_eps_column_samples.T)).T, \n",
        "                       labels = [r\"VI $\\mu_s$\", r\"VI $\\theta$\", r\"VI $A_v$\"] + [\"epsilon[1][\"+str(i)+\"]\" for i in range(9)])\n",
        "corner.corner(np.vstack((mcmc_corner_samples['mu_s'],mcmc_corner_samples['theta'],mcmc_corner_samples['Av'], mcmc_eps_column_samples.T)).T, \n",
        "                       labels = [r\"$\\mu_s$\", r\"$\\theta$\", r\"$A_v$\"] + [\"epsilon[\"+str(i)+\"][1]\" for i in range(9)], fig = figure, color ='r')\n",
        "\n",
        "corner.corner(np.vstack((laplace_corner_samples['mu_s'][:,0,0].numpy(),laplace_corner_samples['theta'][:,0,0].numpy(), \n",
        "                                 laplace_corner_samples['Av'][:,0,0].numpy())).T, \n",
        "                       labels = [r\"$\\mu_s$\", r\"$\\theta$\", r\"$A_v$\"], fig = figure, color ='tab:purple')\n",
        "corner.corner(np.vstack((vi_corner_samples['mu_s'][:,0,0].numpy(),vi_corner_samples['theta'][:,0,0].numpy(), \n",
        "                                  vi_corner_samples['Av'][:,0,0].numpy(), vi_eps_column_samples.T)).T, \n",
        "                       labels = [r\"VI $\\mu_s$\", r\"VI $\\theta$\", r\"VI $A_v$\"] + [\"epsilon[1][\"+str(i)+\"]\" for i in range(9)])\n",
        "# corner.corner(np.vstack((mcmc_corner_samples['mu_s'][7500:10000],mcmc_corner_samples['theta'][7500:10000],mcmc_corner_samples['Av'][7500:10000])).T, \n",
        "#                        labels = [r\"$\\mu_s$\", r\"$\\theta$\", r\"$A_v$\"], fig = figure, color  = 'r')\n",
        "# corner.corner(np.vstack((mcmc_corner_samples['mu_s'][2500:5000],mcmc_corner_samples['theta'][2500:5000],mcmc_corner_samples['Av'][2500:5000])).T, \n",
        "#                        labels = [r\"$\\mu_s$\", r\"$\\theta$\", r\"$A_v$\"], fig = figure, color  = 'b')\n",
        "corner.overplot_lines(figure, [true_mu_s, true_theta, true_Av] + list(true_epsilon_column), color = 'g')\n",
        "colors = ['k', 'r', 'g']\n",
        "labels = ['Variational Inference', 'MCMC', 'True Values']\n",
        "plt.legend(\n",
        "    handles=[\n",
        "        mlines.Line2D([], [], color=colors[i], label=labels[i])\n",
        "        for i in range(len(labels))\n",
        "    ],\n",
        "    fontsize=20, frameon=False,\n",
        "    bbox_to_anchor=(1, 3), loc=\"upper right\"\n",
        ")\n",
        "figure.savefig(\"eps_column_corner_plot.pdf\", bbox_inches = 'tight')"
      ]
    },
    {
      "cell_type": "code",
      "execution_count": null,
      "metadata": {
        "id": "GJIBD9OWhcpT"
      },
      "outputs": [],
      "source": [
        ""
      ]
    }
  ],
  "metadata": {
    "accelerator": "GPU",
    "colab": {
      "collapsed_sections": [],
      "name": "Simulate_Fitting_BayeSN_Pyro.ipynb",
      "provenance": []
    },
    "gpuClass": "standard",
    "kernelspec": {
      "display_name": "Python 3",
      "name": "python3"
    },
    "language_info": {
      "name": "python"
    }
  },
  "nbformat": 4,
  "nbformat_minor": 0
}