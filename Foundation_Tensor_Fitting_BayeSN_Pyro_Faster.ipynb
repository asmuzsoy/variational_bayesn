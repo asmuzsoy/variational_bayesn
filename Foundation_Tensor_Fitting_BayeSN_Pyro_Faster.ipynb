{
  "cells": [
    {
      "cell_type": "code",
      "execution_count": 1,
      "metadata": {
        "colab": {
          "base_uri": "https://localhost:8080/"
        },
        "id": "uX96bEWTmND0",
        "outputId": "d3561fce-be66-48fa-dffb-cdbe233d0718"
      },
      "outputs": [
        {
          "output_type": "stream",
          "name": "stdout",
          "text": [
            "Looking in indexes: https://pypi.org/simple, https://us-python.pkg.dev/colab-wheels/public/simple/\n",
            "Collecting pyro-ppl\n",
            "  Downloading pyro_ppl-1.8.1-py3-none-any.whl (718 kB)\n",
            "\u001b[K     |████████████████████████████████| 718 kB 6.9 MB/s \n",
            "\u001b[?25hRequirement already satisfied: opt-einsum>=2.3.2 in /usr/local/lib/python3.7/dist-packages (from pyro-ppl) (3.3.0)\n",
            "Collecting pyro-api>=0.1.1\n",
            "  Downloading pyro_api-0.1.2-py3-none-any.whl (11 kB)\n",
            "Requirement already satisfied: numpy>=1.7 in /usr/local/lib/python3.7/dist-packages (from pyro-ppl) (1.21.6)\n",
            "Requirement already satisfied: torch>=1.11.0 in /usr/local/lib/python3.7/dist-packages (from pyro-ppl) (1.11.0+cu113)\n",
            "Requirement already satisfied: tqdm>=4.36 in /usr/local/lib/python3.7/dist-packages (from pyro-ppl) (4.64.0)\n",
            "Requirement already satisfied: typing-extensions in /usr/local/lib/python3.7/dist-packages (from torch>=1.11.0->pyro-ppl) (4.1.1)\n",
            "Installing collected packages: pyro-api, pyro-ppl\n",
            "Successfully installed pyro-api-0.1.2 pyro-ppl-1.8.1\n"
          ]
        }
      ],
      "source": [
        "!pip3 install pyro-ppl "
      ]
    },
    {
      "cell_type": "code",
      "execution_count": 2,
      "metadata": {
        "colab": {
          "base_uri": "https://localhost:8080/"
        },
        "id": "TLPeho_PRgNP",
        "outputId": "ae78c91a-1c46-408a-e969-0ae2ec570c7b"
      },
      "outputs": [
        {
          "output_type": "stream",
          "name": "stdout",
          "text": [
            "Looking in indexes: https://pypi.org/simple, https://us-python.pkg.dev/colab-wheels/public/simple/\n",
            "Collecting extinction\n",
            "  Downloading extinction-0.4.6-cp37-cp37m-manylinux_2_5_x86_64.manylinux1_x86_64.manylinux_2_12_x86_64.manylinux2010_x86_64.whl (418 kB)\n",
            "\u001b[K     |████████████████████████████████| 418 kB 6.8 MB/s \n",
            "\u001b[?25hRequirement already satisfied: numpy>=1.13.3 in /usr/local/lib/python3.7/dist-packages (from extinction) (1.21.6)\n",
            "Installing collected packages: extinction\n",
            "Successfully installed extinction-0.4.6\n"
          ]
        }
      ],
      "source": [
        "!pip install extinction"
      ]
    },
    {
      "cell_type": "code",
      "source": [
        "!pip install corner"
      ],
      "metadata": {
        "colab": {
          "base_uri": "https://localhost:8080/"
        },
        "id": "u-aOtXYMeTcO",
        "outputId": "48bf80f9-85da-473e-f0e7-f295bfe31fc0"
      },
      "execution_count": 3,
      "outputs": [
        {
          "output_type": "stream",
          "name": "stdout",
          "text": [
            "Looking in indexes: https://pypi.org/simple, https://us-python.pkg.dev/colab-wheels/public/simple/\n",
            "Collecting corner\n",
            "  Downloading corner-2.2.1-py3-none-any.whl (15 kB)\n",
            "Requirement already satisfied: matplotlib>=2.1 in /usr/local/lib/python3.7/dist-packages (from corner) (3.2.2)\n",
            "Requirement already satisfied: cycler>=0.10 in /usr/local/lib/python3.7/dist-packages (from matplotlib>=2.1->corner) (0.11.0)\n",
            "Requirement already satisfied: python-dateutil>=2.1 in /usr/local/lib/python3.7/dist-packages (from matplotlib>=2.1->corner) (2.8.2)\n",
            "Requirement already satisfied: numpy>=1.11 in /usr/local/lib/python3.7/dist-packages (from matplotlib>=2.1->corner) (1.21.6)\n",
            "Requirement already satisfied: pyparsing!=2.0.4,!=2.1.2,!=2.1.6,>=2.0.1 in /usr/local/lib/python3.7/dist-packages (from matplotlib>=2.1->corner) (3.0.9)\n",
            "Requirement already satisfied: kiwisolver>=1.0.1 in /usr/local/lib/python3.7/dist-packages (from matplotlib>=2.1->corner) (1.4.3)\n",
            "Requirement already satisfied: typing-extensions in /usr/local/lib/python3.7/dist-packages (from kiwisolver>=1.0.1->matplotlib>=2.1->corner) (4.1.1)\n",
            "Requirement already satisfied: six>=1.5 in /usr/local/lib/python3.7/dist-packages (from python-dateutil>=2.1->matplotlib>=2.1->corner) (1.15.0)\n",
            "Installing collected packages: corner\n",
            "Successfully installed corner-2.2.1\n"
          ]
        }
      ]
    },
    {
      "cell_type": "code",
      "execution_count": 1,
      "metadata": {
        "id": "9xkM4Rl_RQdX"
      },
      "outputs": [],
      "source": [
        "import logging\n",
        "import os\n",
        "\n",
        "import torch\n",
        "import numpy as np\n",
        "import pandas as pd\n",
        "import seaborn as sns\n",
        "import matplotlib.pyplot as plt\n",
        "import matplotlib.lines as mlines\n",
        "import matplotlib.colors as colors\n",
        "\n",
        "import corner\n",
        "import time as measure_time\n",
        "import os\n",
        "\n",
        "import pyro\n",
        "\n",
        "import pyro.distributions as dist\n",
        "import pyro.distributions.constraints as constraints\n",
        "from pyro.infer import SVI, Trace_ELBO,Predictive\n",
        "from pyro.optim import Adam\n",
        "\n",
        "from scipy.interpolate import interp1d\n",
        "import h5py\n",
        "import extinction\n",
        "\n",
        "from astropy.cosmology import FlatLambdaCDM\n",
        "\n",
        "from spline_hsiao_fns import *"
      ]
    },
    {
      "cell_type": "code",
      "source": [
        "device = torch.device(\"cuda:0\" if torch.cuda.is_available() else \"cpu\")\n",
        "# device = torch.device(\"cpu\")\n",
        "print(device)"
      ],
      "metadata": {
        "colab": {
          "base_uri": "https://localhost:8080/"
        },
        "id": "E0rAZ3bDo97c",
        "outputId": "7a24d803-5976-4f58-f843-28a79ff88d69"
      },
      "execution_count": 2,
      "outputs": [
        {
          "output_type": "stream",
          "name": "stdout",
          "text": [
            "cpu\n"
          ]
        }
      ]
    },
    {
      "cell_type": "markdown",
      "metadata": {
        "id": "syqWBFKbDk8B"
      },
      "source": [
        "##Get constants from files"
      ]
    },
    {
      "cell_type": "code",
      "execution_count": 3,
      "metadata": {
        "id": "AlhMMde4mIBy"
      },
      "outputs": [],
      "source": [
        "W0 = np.loadtxt(\"W0.txt\")\n",
        "W1 = np.loadtxt(\"W1.txt\")\n",
        "W0_tensor = torch.as_tensor(W0).to(device)\n",
        "W1_tensor = torch.as_tensor(W1).to(device)\n",
        "time_knots = np.loadtxt(\"tau_knots.txt\")\n",
        "wavelength_knots = np.loadtxt(\"l_knots.txt\")\n",
        "L_sigma_epsilon = np.loadtxt(\"L_Sigma_epsilon.txt\")\n",
        "L_sigma_epsilon_tensor = torch.as_tensor(L_sigma_epsilon, dtype = torch.float).to(device)\n",
        "M0, sigma0, rv, tauA = np.loadtxt(\"M0_sigma0_RV_tauA.txt\")\n",
        "cosmo = FlatLambdaCDM(H0 = 73.24, Om0 = 0.28)"
      ]
    },
    {
      "cell_type": "code",
      "execution_count": 4,
      "metadata": {
        "id": "vdSkGKgr4S5R"
      },
      "outputs": [],
      "source": [
        "g_wavelengths, _, g_norm_throughput = np.loadtxt(\"g_PS1.txt\", skiprows = 2, unpack = True)\n",
        "r_wavelengths, _, r_norm_throughput = np.loadtxt(\"r_PS1.txt\", skiprows = 2, unpack = True)\n",
        "i_wavelengths, _, i_norm_throughput = np.loadtxt(\"i_PS1.txt\", skiprows = 2, unpack = True)\n",
        "z_wavelengths, _, z_norm_throughput = np.loadtxt(\"z_PS1.txt\", skiprows = 2, unpack = True)"
      ]
    },
    {
      "cell_type": "markdown",
      "source": [
        "Read in metadata for Foundation dataset"
      ],
      "metadata": {
        "id": "JAD8DDVJEfti"
      }
    },
    {
      "cell_type": "code",
      "source": [
        "meta = pd.read_csv(\"meta.txt\", sep='\\s+', index_col = False, names = ['SNID','PEAKMJD','MWEBV','REDSHIFT_HELIO','REDSHIFT_CMB','REDSHIFT_CMB_ERR'], skiprows = 2)"
      ],
      "metadata": {
        "id": "yvZvm6TUzyZ7"
      },
      "execution_count": 5,
      "outputs": []
    },
    {
      "cell_type": "code",
      "source": [
        "tmax_dict = {}\n",
        "mwebv_dict = {}\n",
        "z_helio_dict = {}\n",
        "z_cmb_dict = {}\n",
        "for index, row in meta.iterrows():\n",
        "  name = row['SNID']\n",
        "  tmax = row['PEAKMJD']\n",
        "  mwebv = row['MWEBV']\n",
        "  z_helio = row['REDSHIFT_HELIO']\n",
        "  z_cmb = row['REDSHIFT_CMB']\n",
        "  tmax_dict[name] = tmax\n",
        "  mwebv_dict[name] = mwebv\n",
        "  z_helio_dict[name] = z_helio\n",
        "  z_cmb_dict[name] = z_cmb"
      ],
      "metadata": {
        "id": "5S2mGH9i8oR8"
      },
      "execution_count": 6,
      "outputs": []
    },
    {
      "cell_type": "code",
      "source": [
        "def get_fluxes_from_file(filename, tmax, z_helio):\n",
        "  df = pd.read_csv(filename, sep=\" \", header = 0, index_col = False, names = ['MJD', \"FLT\", 'FLUXCAL', 'FLUXCALERR', 'MAG', 'MAGERR'])\n",
        "  df = df.dropna()\n",
        "\n",
        "  # Remove time points outside of [-10., 40.]\n",
        "  df['adj_time'] = (df.MJD - tmax) / (1 + z_helio)\n",
        "  mask = (df['adj_time'] < 40.) & (df['adj_time'] > -10.0)\n",
        "  df = df[mask]\n",
        "\n",
        "  # Separate based on bands\n",
        "  g_time = df.adj_time[df.FLT=='g'].values\n",
        "  r_time = df.adj_time[df.FLT=='r'].values\n",
        "  i_time = df.adj_time[df.FLT=='i'].values\n",
        "  z_time = df.adj_time[df.FLT=='z'].values\n",
        "\n",
        "  g_flux = df.FLUXCAL[df.FLT=='g'].values\n",
        "  r_flux = df.FLUXCAL[df.FLT=='r'].values\n",
        "  i_flux = df.FLUXCAL[df.FLT=='i'].values\n",
        "  z_flux = df.FLUXCAL[df.FLT=='z'].values\n",
        "\n",
        "  g_fluxerr = df.FLUXCALERR[df.FLT=='g'].values\n",
        "  r_fluxerr = df.FLUXCALERR[df.FLT=='r'].values\n",
        "  i_fluxerr = df.FLUXCALERR[df.FLT=='i'].values\n",
        "  z_fluxerr = df.FLUXCALERR[df.FLT=='z'].values\n",
        "\n",
        "  times_dict = {'g':g_time, 'r':r_time, 'i':i_time, 'z':z_time}\n",
        "\n",
        "  observed_fluxes = [torch.as_tensor(g_flux).to(device), torch.as_tensor(r_flux).to(device), torch.as_tensor(i_flux).to(device), torch.as_tensor(z_flux).to(device)]\n",
        "\n",
        "  flux_errors = [torch.as_tensor(g_fluxerr).to(device), torch.as_tensor(r_fluxerr).to(device), torch.as_tensor(i_fluxerr).to(device), torch.as_tensor(z_fluxerr).to(device)]\n",
        "\n",
        "  return observed_fluxes, flux_errors, times_dict"
      ],
      "metadata": {
        "id": "2LoY4Y6-9tb8"
      },
      "execution_count": 7,
      "outputs": []
    },
    {
      "cell_type": "code",
      "source": [
        "ZPT = torch.as_tensor(27.5).to(device)\n",
        "M0 = torch.as_tensor(-19.5).to(device)\n",
        "gamma = torch.as_tensor(np.log(10) / 2.5).to(device)\n",
        "gamma_numpy = np.log(10) / 2.5\n",
        "\n",
        "hsiao_phase, hsiao_wave, hsiao_flux = read_model_grid()\n",
        "\n",
        "bands = ['g', 'r', 'i', 'z']\n",
        "wavelengths_dict = {'g':g_wavelengths, 'r':r_wavelengths, 'i':i_wavelengths, 'z':z_wavelengths}\n",
        "norm_throughput_dict = {'g':g_norm_throughput, 'r':r_norm_throughput, 'i':i_norm_throughput, 'z':z_norm_throughput}\n",
        "eps_cov = torch.as_tensor(np.matmul(L_sigma_epsilon, L_sigma_epsilon.T), dtype = torch.float)"
      ],
      "metadata": {
        "id": "8Ex7Js7QG110"
      },
      "execution_count": 8,
      "outputs": []
    },
    {
      "cell_type": "markdown",
      "metadata": {
        "id": "TqpkG4FUH6jF"
      },
      "source": [
        "Things we can pre-calculate / helper functions\n",
        "---\n",
        "\n"
      ]
    },
    {
      "cell_type": "code",
      "execution_count": 9,
      "metadata": {
        "id": "d3FwBBvNNMUe"
      },
      "outputs": [],
      "source": [
        "def get_lambda_int_for_band(band_wavelengths, z):\n",
        "  source_wavelengths = band_wavelengths / (1 + z)\n",
        "  return np.linspace(np.min(source_wavelengths), np.max(source_wavelengths), 150)"
      ]
    },
    {
      "cell_type": "code",
      "source": [
        "def calculate_band_dependent_stuff(times_dict, z_helio, Av_obs):\n",
        "  band_Jl = {}\n",
        "  band_h = {}\n",
        "  band_Jt = {}\n",
        "  band_xis_matrix = {}\n",
        "  band_S0 = {}  \n",
        "\n",
        "  for band in bands:\n",
        "    # Calculate Jt\n",
        "    times_to_interpolate = times_dict[band]\n",
        "    Jt = spline_coeffs_irr(times_to_interpolate, time_knots, invKD_irr(time_knots))\n",
        "    band_Jt[band] = torch.as_tensor(Jt.T).to(device)\n",
        "\n",
        "    # Calculate wavelengths to interpolate\n",
        "    band_wavelengths = wavelengths_dict[band]\n",
        "    wavelengths_to_interpolate = get_lambda_int_for_band(band_wavelengths, z = z_helio)\n",
        "\n",
        "    # Calculate Jl (J matrix for wavelengths)\n",
        "    Jl = spline_coeffs_irr(wavelengths_to_interpolate, wavelength_knots, invKD_irr(wavelength_knots))\n",
        "    band_Jl[band] = torch.as_tensor(Jl).to(device)\n",
        "\n",
        "    # Calculate xis matrix\n",
        "    xis = extinction.fitzpatrick99(wavelengths_to_interpolate, 1, rv)\n",
        "    xis_matrix = np.tile(xis, (len(times_to_interpolate),1)).T\n",
        "    band_xis_matrix[band] = torch.as_tensor(xis_matrix).to(device)\n",
        "\n",
        "    # Interpolate throughput wavelengths\n",
        "    band_norm_throughput = norm_throughput_dict[band]\n",
        "    throughput_interpolator = interp1d(band_wavelengths, band_norm_throughput)\n",
        "    b = throughput_interpolator([band_wavelengths[0]] + list(wavelengths_to_interpolate[1:-1] * (1 + z_helio)) + [band_wavelengths[-1]])\n",
        "\n",
        "    # Calculate S0 matrix\n",
        "    S0 = np.zeros((len(wavelengths_to_interpolate), len(times_to_interpolate)))\n",
        "    for i, wavelength in enumerate(wavelengths_to_interpolate):\n",
        "      for j, time_point in enumerate(times_to_interpolate):\n",
        "        S0[i][j] = interpolate_hsiao(time_point, wavelength, hsiao_phase, hsiao_wave, hsiao_flux)\n",
        "    band_S0[band] = torch.as_tensor(S0).to(device)\n",
        "\n",
        "    # Calculate h\n",
        "    xis_obs = extinction.fitzpatrick99(wavelengths_to_interpolate*(1 + z_helio), Av_obs, 3.1)\n",
        "    dLambda = wavelengths_to_interpolate[1] - wavelengths_to_interpolate[0]\n",
        "    h = (1 + z_helio) * dLambda * b * wavelengths_to_interpolate * np.exp(-gamma_numpy * xis_obs)\n",
        "    band_h[band] = torch.as_tensor(h).to(device)\n",
        "\n",
        "  return band_Jt, band_Jl, band_xis_matrix, band_S0, band_h"
      ],
      "metadata": {
        "id": "C7xyhI47NfCc"
      },
      "execution_count": 10,
      "outputs": []
    },
    {
      "cell_type": "markdown",
      "source": [
        "## Define model"
      ],
      "metadata": {
        "id": "VoXukiwhO1bd"
      }
    },
    {
      "cell_type": "code",
      "source": [
        "nu_args = torch.zeros(54).to(device), torch.eye(54).to(device)\n",
        "theta_args = torch.as_tensor(0.).to(device), torch.as_tensor(1.0).to(device)\n",
        "mu_arg = torch.as_tensor(10.0).to(device)\n",
        "av_arg = torch.as_tensor(1 / 0.252).to(device)\n",
        "\n",
        "zeros = torch.zeros(6).to(device)"
      ],
      "metadata": {
        "id": "qsWemUqUpuPj"
      },
      "execution_count": 11,
      "outputs": []
    },
    {
      "cell_type": "code",
      "source": [
        "def model_vi_with_params_faster(obs, mu_mean, band_Jl, band_Jt, band_xis_matrix, band_S0, band_h, flux_errors):\n",
        "  nu = pyro.sample(\"nu\", dist.MultivariateNormal(*nu_args))\n",
        "  epsilon_interior = torch.matmul(L_sigma_epsilon_tensor.float(), nu.float())\n",
        "\n",
        "  theta = pyro.sample(\"theta\", dist.Normal(*theta_args))\n",
        "\n",
        "  mu_s = pyro.sample(\"mu_s\", dist.Normal(mu_mean, mu_arg))\n",
        "\n",
        "  dMs = torch.tensor(0.).to(device)\n",
        "  Av = pyro.sample(\"Av\", dist.Exponential(av_arg))\n",
        "\n",
        "  # epsilon = torch.zeros(W0.shape)   ## populate epsilon matrix\n",
        "  # epsilon[1:-1] = torch.transpose(torch.reshape(epsilon_interior, (6,9)), 0, 1)\n",
        "  epsilon = torch.vstack((zeros, torch.transpose(torch.reshape(epsilon_interior, (6,9)), 0, 1), zeros))\n",
        "\n",
        "  W = W0_tensor + theta*W1_tensor + epsilon\n",
        "\n",
        "  generated_fluxes = np.empty(4, object)\n",
        "\n",
        "  for band_index, band in enumerate(bands):\n",
        "    Jl = band_Jl[band]\n",
        "    S0 = band_S0[band]\n",
        "    xis_matrix = band_xis_matrix[band]\n",
        "    h = band_h[band]\n",
        "    Jt = band_Jt[band]\n",
        "\n",
        "    # for var in [Jl, S0, xis_matrix, h, Jt]:\n",
        "    #   print(var.get_device())\n",
        "\n",
        "    JlWJt = torch.matmul(band_Jl[band], torch.matmul(W, band_Jt[band]))\n",
        "\n",
        "    Stilde = band_S0[band] * torch.exp(-gamma * (JlWJt + Av * band_xis_matrix[band]))\n",
        "\n",
        "    f = 10**(0.4 * (ZPT - mu_s - M0 - dMs)) * torch.matmul(band_h[band], Stilde)\n",
        "    generated_fluxes[band_index] = f\n",
        "    # generated_fluxes.append(f)\n",
        "  # generated_fluxes = torch.stack(generated_fluxes)\n",
        "  # print(generated_fluxes)\n",
        "  \n",
        "\n",
        "  # for var in [nu, epsilon_interior, theta, mu_s, dMs, Av, epsilon, W]:\n",
        "  #   print(var.get_device())\n",
        "\n",
        "  # if obs is not None:\n",
        "    # for i in range(len(bands)):\n",
        "  for i in pyro.plate(\"bands\", band_index + 1):\n",
        "    # print(i, band_index)\n",
        "    with pyro.plate(\"observations\" + str(bands[i])):\n",
        "      # print(len(generated_fluxes[i]))\n",
        "      # for j in range(len(generated_fluxes[i])):\n",
        "        # print(generated_fluxes[i].get_device())\n",
        "        # print(flux_errors[i].get_device())\n",
        "        # print(obs[i].get_device())\n",
        "        pyro.sample(\"flux\" + str(bands[i]), dist.Normal(generated_fluxes[i], flux_errors[i]), obs = obs[i])\n",
        "        # print(obs[0][i][j])\n",
        "      # print(generated_fluxes[i])\n"
      ],
      "metadata": {
        "id": "F56kQkT4on18"
      },
      "execution_count": 12,
      "outputs": []
    },
    {
      "cell_type": "code",
      "source": [
        "def model_vi_with_params_faster_predictive_posterior(obs, mu_mean, band_Jl, band_Jt, band_xis_matrix, band_S0, band_h, flux_errors):\n",
        "  nu = pyro.sample(\"nu\", dist.MultivariateNormal(*nu_args))\n",
        "  epsilon_interior = torch.matmul(L_sigma_epsilon_tensor.float(), nu.float())\n",
        "\n",
        "  theta = pyro.sample(\"theta\", dist.Normal(*theta_args))\n",
        "\n",
        "  mu_s = pyro.sample(\"mu_s\", dist.Normal(mu_mean, mu_arg))\n",
        "\n",
        "  dMs = torch.tensor(0.).to(device)\n",
        "  Av = pyro.sample(\"Av\", dist.Exponential(av_arg))\n",
        "\n",
        "  # epsilon = torch.zeros(W0.shape)   ## populate epsilon matrix\n",
        "  # epsilon[1:-1] = torch.transpose(torch.reshape(epsilon_interior, (6,9)), 0, 1)\n",
        "  epsilon = torch.vstack((zeros, torch.transpose(torch.reshape(epsilon_interior, (6,9)), 0, 1), zeros))\n",
        "\n",
        "  W = W0_tensor + theta*W1_tensor + epsilon\n",
        "\n",
        "  generated_fluxes = np.empty(4, object)\n",
        "\n",
        "  for band_index, band in enumerate(bands):\n",
        "    Jl = band_Jl[band]\n",
        "    S0 = band_S0[band]\n",
        "    xis_matrix = band_xis_matrix[band]\n",
        "    h = band_h[band]\n",
        "    Jt = band_Jt[band]\n",
        "\n",
        "    # for var in [Jl, S0, xis_matrix, h, Jt]:\n",
        "    #   print(var.get_device())\n",
        "\n",
        "    JlWJt = torch.matmul(band_Jl[band], torch.matmul(W, band_Jt[band]))\n",
        "\n",
        "    Stilde = band_S0[band] * torch.exp(-gamma * (JlWJt + Av * band_xis_matrix[band]))\n",
        "\n",
        "    f = 10**(0.4 * (ZPT - mu_s - M0 - dMs)) * torch.matmul(band_h[band], Stilde)\n",
        "    generated_fluxes[band_index] = f\n",
        "    # generated_fluxes.append(f)\n",
        "  # generated_fluxes = torch.stack(generated_fluxes)\n",
        "  # print(generated_fluxes)\n",
        "  \n",
        "\n",
        "  # for var in [nu, epsilon_interior, theta, mu_s, dMs, Av, epsilon, W]:\n",
        "  #   print(var.get_device())\n",
        "\n",
        "  if obs is not None:\n",
        "    # for i in range(len(bands)):\n",
        "    for i in pyro.plate(\"bands\", band_index + 1):\n",
        "      # print(i, band_index)\n",
        "      with pyro.plate(\"observations\" + str(bands[i])):\n",
        "        # print(len(generated_fluxes[i]))\n",
        "        # for j in range(len(generated_fluxes[i])):\n",
        "          # print(generated_fluxes[i].get_device())\n",
        "          # print(flux_errors[i].get_device())\n",
        "          # print(obs[i].get_device())\n",
        "          pyro.sample(\"flux\" + str(bands[i]), dist.Normal(generated_fluxes[i], flux_errors[i]), obs = obs[i])\n",
        "        # print(obs[0][i][j])\n",
        "      # print(generated_fluxes[i])"
      ],
      "metadata": {
        "id": "4Sgke9ao1xCx"
      },
      "execution_count": 13,
      "outputs": []
    },
    {
      "cell_type": "code",
      "source": [
        "def train_with_params_faster(model, guide, obs, mu_mean, band_Jl, band_Jt, band_xis_matrix, band_S0, band_h, flux_errors, lr=0.01, n_steps=5000, verbose= False):\n",
        "  pyro.get_param_store().clear()\n",
        "  # adam = pyro.optim.Adam({\"lr\": 0.05}, {\"clip_norm\": 10.0})\n",
        "  adam = pyro.optim.ClippedAdam({\"lr\": lr, \"betas\": (0.95, 0.999)})\n",
        "  svi = SVI(model, guide, adam, loss=Trace_ELBO())\n",
        "  # print('hi')\n",
        "  for _ in range(n_steps):\n",
        "      svi.step(obs, mu_mean, band_Jl, band_Jt, band_xis_matrix, band_S0, band_h, flux_errors)\n",
        "      # if verbose and step % 500 == 0:\n",
        "      #       print('[iter {}]  loss: {:.4f}'.format(step, loss))\n",
        "          ## if it hasn't decreased in 3 steps, end fitting\n",
        "          # if step > 2000:\n",
        "          #  if losses_every_500[-1] >= losses_every_500[-2] and losses_every_500[-2] >= losses_every_500[-3]:\n",
        "          #   break\n"
      ],
      "metadata": {
        "id": "d1RtnrXAslgP"
      },
      "execution_count": 14,
      "outputs": []
    },
    {
      "cell_type": "code",
      "source": [
        "laplace_samples = {}\n",
        "laplace_loc = {}\n",
        "laplace_scale_tril = {}\n",
        "\n",
        "for sn in meta.SNID.values:\n",
        "  print(sn)\n",
        "\n",
        "  tmax = tmax_dict[sn]\n",
        "  z_helio = z_helio_dict[sn]\n",
        "  EBV_MW = mwebv_dict[sn]\n",
        "  z_cmb = z_cmb_dict[sn]\n",
        "\n",
        "  Av_obs = EBV_MW * 3.1\n",
        "  observed_fluxes, flux_errors, times_dict = get_fluxes_from_file(sn + \".dat\", tmax, z_helio)\n",
        "\n",
        "  # Calculate band-dependent quantities (Jl, Jt, xis, S0, etc.)\n",
        "  band_Jt, band_Jl, band_xis_matrix, band_S0, band_h = calculate_band_dependent_stuff(times_dict, z_helio, Av_obs)\n",
        "  mu_mean = torch.as_tensor(cosmo.distmod(z_cmb).value).to(device)\n",
        "  # try:\n",
        "\n",
        "  try:\n",
        "    start_time = measure_time.time()\n",
        "    # Fit Laplace Approximation\n",
        "    autoguide_laplace = pyro.infer.autoguide.AutoLaplaceApproximation(model_vi_with_params_faster)\n",
        "    train_with_params_faster(model_vi_with_params_faster, autoguide_laplace, observed_fluxes, mu_mean, \n",
        "                  band_Jl, band_Jt, band_xis_matrix, band_S0, band_h, flux_errors, n_steps=3000, verbose = True)\n",
        "\n",
        "    # Fit VI based on Laplace Approximation\n",
        "    new_laplace_approx_guide = autoguide_laplace.laplace_approximation(observed_fluxes, mu_mean, \n",
        "                  band_Jl, band_Jt, band_xis_matrix, band_S0, band_h, flux_errors,)\n",
        "    train_with_params_faster(model_vi_with_params_faster, new_laplace_approx_guide, observed_fluxes, mu_mean, \n",
        "                  band_Jl, band_Jt, band_xis_matrix, band_S0, band_h, flux_errors, n_steps=5000, verbose = True)\n",
        "    \n",
        "    end_time = measure_time.time()\n",
        "    print(\"Time:\", end_time - start_time, \"seconds\")\n",
        "\n",
        "    laplace_loc[sn] = new_laplace_approx_guide.get_posterior().loc.detach().numpy()\n",
        "    laplace_scale_tril[sn] = new_laplace_approx_guide.get_posterior().scale_tril.detach().numpy()\n",
        "\n",
        "    posterior_samples = Predictive(model_vi_with_params_faster_predictive_posterior, guide = new_laplace_approx_guide, num_samples = 1000)(None ,mu_mean, \n",
        "                  band_Jl, band_Jt, band_xis_matrix, band_S0, band_h, None)\n",
        "    laplace_samples[sn] = posterior_samples\n",
        "\n",
        "    np.save(\"foundation_laplace_loc_redo2.npy\", laplace_loc)\n",
        "    np.save(\"foundation_laplace_scale_tril_redo2.npy\", laplace_scale_tril)\n",
        "    np.save(\"foundation_laplace_samples.npy\", laplace_samples)\n",
        "\n",
        "  except:\n",
        "    try:\n",
        "      print(\"Trying again for\", sn)\n",
        "      start_time = measure_time.time()\n",
        "      # Fit Laplace Approximation\n",
        "      autoguide_laplace = pyro.infer.autoguide.AutoLaplaceApproximation(model_vi_with_params_faster)\n",
        "      train_with_params_faster(model_vi_with_params_faster, autoguide_laplace, observed_fluxes, mu_mean, \n",
        "                    band_Jl, band_Jt, band_xis_matrix, band_S0, band_h, flux_errors, n_steps=3000, verbose = True)\n",
        "\n",
        "      # Fit VI based on Laplace Approximation\n",
        "      new_laplace_approx_guide = autoguide_laplace.laplace_approximation(observed_fluxes, mu_mean, \n",
        "                    band_Jl, band_Jt, band_xis_matrix, band_S0, band_h, flux_errors,)\n",
        "      train_with_params_faster(model_vi_with_params_faster, new_laplace_approx_guide, observed_fluxes, mu_mean, \n",
        "                    band_Jl, band_Jt, band_xis_matrix, band_S0, band_h, flux_errors, n_steps=5000, verbose = True)\n",
        "      \n",
        "      end_time = measure_time.time()\n",
        "      print(\"Time:\", end_time - start_time, \"seconds\")\n",
        "\n",
        "      laplace_loc[sn] = new_laplace_approx_guide.get_posterior().loc.detach().numpy()\n",
        "      laplace_scale_tril[sn] = new_laplace_approx_guide.get_posterior().scale_tril.detach().numpy()\n",
        "\n",
        "      posterior_samples = Predictive(model_vi_with_params_faster_predictive_posterior, guide = new_laplace_approx_guide, num_samples = 1000)(None ,mu_mean, \n",
        "                    band_Jl, band_Jt, band_xis_matrix, band_S0, band_h, None)\n",
        "      laplace_samples[sn] = posterior_samples\n",
        "\n",
        "      np.save(\"foundation_laplace_loc_redo2.npy\", laplace_loc)\n",
        "      np.save(\"foundation_laplace_scale_tril_redo2.npy\", laplace_scale_tril)\n",
        "      np.save(\"foundation_laplace_samples.npy\", laplace_samples)\n",
        "\n",
        "    except:\n",
        "      print(\"Did not work for\", sn)"
      ],
      "metadata": {
        "colab": {
          "base_uri": "https://localhost:8080/"
        },
        "id": "xa7rJs27n3CX",
        "outputId": "54ddb5ea-d689-49c9-ca3c-845f849c6885"
      },
      "execution_count": 15,
      "outputs": [
        {
          "output_type": "stream",
          "name": "stdout",
          "text": [
            "2016W\n",
            "Time: 50.053460121154785 seconds\n",
            "2016afk\n",
            "Time: 43.070064067840576 seconds\n",
            "ASASSN-15bc\n",
            "Time: 46.288264989852905 seconds\n",
            "ASASSN-15fa\n",
            "Time: 42.24228358268738 seconds\n",
            "ASASSN-15fs\n",
            "Time: 42.65067267417908 seconds\n",
            "ASASSN-15go\n",
            "Time: 42.09367561340332 seconds\n",
            "ASASSN-15hg\n",
            "Time: 42.34314560890198 seconds\n",
            "ASASSN-15il\n",
            "Time: 42.71383762359619 seconds\n",
            "ASASSN-15jl\n",
            "Time: 42.21900153160095 seconds\n",
            "ASASSN-15jt\n",
            "Time: 43.36471652984619 seconds\n",
            "ASASSN-15kx\n",
            "Time: 42.08045196533203 seconds\n",
            "ASASSN-15la\n",
            "Time: 42.37582039833069 seconds\n",
            "ASASSN-15lg\n",
            "Time: 42.282318115234375 seconds\n",
            "ASASSN-15lu\n",
            "Time: 42.3410165309906 seconds\n",
            "ASASSN-15mf\n",
            "Time: 42.16893267631531 seconds\n",
            "ASASSN-15mg\n",
            "Time: 42.61677074432373 seconds\n",
            "ASASSN-15mi\n",
            "Time: 42.73137021064758 seconds\n",
            "ASASSN-15np\n",
            "Time: 44.04084372520447 seconds\n",
            "ASASSN-15nq\n",
            "Trying again for ASASSN-15nq\n",
            "Time: 43.65364718437195 seconds\n",
            "ASASSN-15nr\n",
            "Time: 43.01041054725647 seconds\n",
            "ASASSN-15od\n",
            "Time: 42.84969210624695 seconds\n",
            "ASASSN-15oh\n",
            "Time: 43.638649225234985 seconds\n",
            "ASASSN-15pm\n",
            "Time: 43.27244281768799 seconds\n",
            "ASASSN-15pn\n",
            "Time: 42.94055151939392 seconds\n",
            "ASASSN-15pr\n",
            "Time: 43.15588355064392 seconds\n",
            "ASASSN-15sf\n",
            "Time: 43.51437830924988 seconds\n",
            "ASASSN-15ss\n",
            "Time: 43.97341728210449 seconds\n",
            "ASASSN-15tg\n",
            "Time: 43.47880172729492 seconds\n",
            "ASASSN-15ti\n",
            "Time: 42.68014574050903 seconds\n",
            "ASASSN-15tz\n",
            "Time: 41.9098916053772 seconds\n",
            "ASASSN-15uu\n",
            "Time: 42.34474587440491 seconds\n",
            "ASASSN-15uv\n",
            "Time: 42.05407500267029 seconds\n",
            "ASASSN-15uw\n",
            "Time: 41.694390058517456 seconds\n",
            "ASASSN-16ad\n",
            "Time: 42.097251653671265 seconds\n",
            "ASASSN-16aj\n",
            "Time: 42.80596375465393 seconds\n",
            "ASASSN-16av\n",
            "Time: 42.021029472351074 seconds\n",
            "ASASSN-16ay\n",
            "Time: 42.41673541069031 seconds\n",
            "ASASSN-16bc\n",
            "Time: 41.96590185165405 seconds\n",
            "ASASSN-16bq\n",
            "Time: 42.745304584503174 seconds\n",
            "ASASSN-16br\n",
            "Time: 42.787753105163574 seconds\n",
            "ASASSN-16ch\n",
            "Time: 43.24371361732483 seconds\n",
            "ASASSN-16cs\n",
            "Time: 42.05820679664612 seconds\n",
            "ASASSN-16ct\n",
            "Time: 42.910210371017456 seconds\n",
            "ASASSN-16db\n",
            "Time: 43.91069769859314 seconds\n",
            "ASASSN-16dw\n",
            "Time: 43.40200090408325 seconds\n",
            "ASASSN-16em\n",
            "Time: 43.242157220840454 seconds\n",
            "ASASSN-16fo\n",
            "Time: 42.84161925315857 seconds\n",
            "ASASSN-16fs\n",
            "Time: 44.110860109329224 seconds\n",
            "ASASSN-16hc\n",
            "Time: 42.600823640823364 seconds\n",
            "ASASSN-16hr\n",
            "Time: 42.24094748497009 seconds\n",
            "ASASSN-16hz\n",
            "Time: 41.987695932388306 seconds\n",
            "ASASSN-16ip\n",
            "Time: 42.268006563186646 seconds\n",
            "ASASSN-16lg\n",
            "Time: 42.71781945228577 seconds\n",
            "ASASSN-16oz\n",
            "Time: 43.576616287231445 seconds\n",
            "ASASSN-17aj\n",
            "Time: 41.86889386177063 seconds\n",
            "ASASSN-17at\n",
            "Time: 42.4477756023407 seconds\n",
            "ASASSN-17bs\n",
            "Time: 42.668795108795166 seconds\n",
            "ASASSN-17co\n",
            "Time: 42.219626903533936 seconds\n",
            "ASASSN-17eb\n",
            "Time: 44.099547147750854 seconds\n",
            "AT2016aj\n",
            "Time: 42.78964281082153 seconds\n",
            "AT2016bln\n",
            "Time: 43.341306924819946 seconds\n",
            "AT2016cor\n",
            "Time: 43.135382413864136 seconds\n",
            "AT2016cvv\n",
            "Time: 42.8377046585083 seconds\n",
            "AT2016cvw\n",
            "Time: 42.24740982055664 seconds\n",
            "AT2016cyt\n",
            "Trying again for AT2016cyt\n",
            "Did not work for AT2016cyt\n",
            "AT2016eoa\n",
            "Time: 43.28376364707947 seconds\n",
            "AT2016ews\n",
            "Time: 43.40417242050171 seconds\n",
            "AT2016fbk\n",
            "Time: 42.13352584838867 seconds\n",
            "AT2016gmg\n",
            "Time: 43.09791398048401 seconds\n",
            "AT2016gsu\n",
            "Time: 43.61500287055969 seconds\n",
            "AT2016hns\n",
            "Time: 42.80367565155029 seconds\n",
            "AT2016htm\n",
            "Time: 44.877840757369995 seconds\n",
            "AT2016htn\n",
            "Time: 46.32206964492798 seconds\n",
            "AT2017cfb\n",
            "Time: 48.656524896621704 seconds\n",
            "AT2017cfc\n",
            "Time: 49.50727701187134 seconds\n",
            "AT2017lm\n",
            "Time: 50.91792583465576 seconds\n",
            "AT2017ns\n",
            "Time: 49.97790551185608 seconds\n",
            "AT2017oz\n",
            "Time: 49.37016034126282 seconds\n",
            "AT2017po\n",
            "Time: 46.50988483428955 seconds\n",
            "AT2017wb\n",
            "Time: 42.87979316711426 seconds\n",
            "AT2017yk\n",
            "Time: 42.586764335632324 seconds\n",
            "AT2017zd\n",
            "Time: 42.51158022880554 seconds\n",
            "ATLAS16bwu\n",
            "Time: 42.256211042404175 seconds\n",
            "ATLAS16cpu\n",
            "Time: 42.75972104072571 seconds\n",
            "ATLAS16cxr\n",
            "Time: 45.088637828826904 seconds\n",
            "ATLAS16dpb\n",
            "Time: 45.185370206832886 seconds\n",
            "ATLAS16dqf\n",
            "Time: 44.48132824897766 seconds\n",
            "ATLAS17ajn\n",
            "Time: 43.814717531204224 seconds\n",
            "ATLAS17ajs\n",
            "Time: 42.8561532497406 seconds\n",
            "ATLAS17axb\n",
            "Time: 43.44740605354309 seconds\n",
            "ATLAS17bas\n",
            "Time: 46.27839231491089 seconds\n",
            "Gaia16acv\n",
            "Time: 43.935359954833984 seconds\n",
            "Gaia16aki\n",
            "Time: 44.78648090362549 seconds\n",
            "Gaia16bba\n",
            "Time: 44.66065216064453 seconds\n",
            "MASTERJ0134\n",
            "Time: 44.16724157333374 seconds\n",
            "PS15ahs\n",
            "Time: 42.108450174331665 seconds\n",
            "PS15aii\n",
            "Time: 42.825547218322754 seconds\n",
            "PS15atx\n",
            "Time: 42.9438636302948 seconds\n",
            "PS15bbn\n",
            "Time: 43.24485969543457 seconds\n",
            "PS15bdr\n",
            "Time: 43.552536725997925 seconds\n",
            "PS15bif\n",
            "Time: 43.3857045173645 seconds\n",
            "PS15bjg\n",
            "Time: 43.581458568573 seconds\n",
            "PS15brr\n",
            "Time: 43.723915576934814 seconds\n",
            "PS15bsq\n",
            "Time: 43.22204303741455 seconds\n",
            "PS15bzz\n",
            "Time: 45.93283224105835 seconds\n",
            "PS15cku\n",
            "Time: 45.453951835632324 seconds\n",
            "PS15cms\n",
            "Time: 45.16320848464966 seconds\n",
            "PS15coh\n",
            "Time: 44.514753580093384 seconds\n",
            "PS15cwx\n",
            "Trying again for PS15cwx\n",
            "Time: 46.62837362289429 seconds\n",
            "PS15cze\n",
            "Time: 45.09662914276123 seconds\n",
            "PS15mt\n",
            "Time: 44.548330783843994 seconds\n",
            "PS16aer\n",
            "Time: 44.93531894683838 seconds\n",
            "PS16axi\n",
            "Time: 44.841418981552124 seconds\n",
            "PS16ayd\n",
            "Time: 45.13019299507141 seconds\n",
            "PS16bby\n",
            "Time: 44.44993329048157 seconds\n",
            "PS16bnz\n",
            "Time: 44.27007436752319 seconds\n",
            "PS16ccn\n",
            "Time: 43.010653495788574 seconds\n",
            "PS16cqa\n",
            "Time: 44.1788125038147 seconds\n",
            "PS16cvc\n",
            "Time: 44.608168840408325 seconds\n",
            "PS16dnp\n",
            "Time: 45.24266791343689 seconds\n",
            "PS16el\n",
            "Time: 46.052881717681885 seconds\n",
            "PS16em\n",
            "Time: 44.20490336418152 seconds\n",
            "PS16evk\n",
            "Time: 43.4625825881958 seconds\n",
            "PS16fa\n",
            "Time: 45.71004676818848 seconds\n",
            "PS16fbb\n",
            "Time: 44.90040397644043 seconds\n",
            "PS16n\n",
            "Time: 45.42268753051758 seconds\n",
            "PS17akj\n",
            "Time: 44.57365942001343 seconds\n",
            "PS17bii\n",
            "Time: 45.04964351654053 seconds\n",
            "PS17tn\n",
            "Time: 45.57649850845337 seconds\n",
            "PSNJ0107203\n",
            "Time: 45.84990382194519 seconds\n",
            "PSNJ0153424\n",
            "Time: 45.32680034637451 seconds\n",
            "PSNJ0252467\n",
            "Time: 45.61247205734253 seconds\n",
            "PSNJ0859349\n",
            "Time: 45.69251036643982 seconds\n",
            "PSNJ1204051\n",
            "Time: 44.451117515563965 seconds\n",
            "PSNJ1602512\n",
            "Time: 44.522685289382935 seconds\n",
            "PSNJ2352371\n",
            "Time: 43.9985511302948 seconds\n",
            "PTSS-16efw\n",
            "Time: 47.35239887237549 seconds\n",
            "PTSS17-niq\n",
            "Time: 46.75055909156799 seconds\n",
            "SN2016aqb\n",
            "Time: 46.310964584350586 seconds\n",
            "SN2016ayg\n",
            "Time: 45.97138738632202 seconds\n",
            "SN2016esh\n",
            "Time: 45.65592646598816 seconds\n",
            "SN2016gfr\n",
            "Trying again for SN2016gfr\n",
            "Time: 45.662418603897095 seconds\n",
            "SN2016gmb\n",
            "Time: 44.16066336631775 seconds\n",
            "SN2016hhv\n",
            "Time: 43.70997929573059 seconds\n",
            "SN2016hpx\n",
            "Time: 44.13815951347351 seconds\n",
            "SN2016ixf\n",
            "Time: 44.02537560462952 seconds\n",
            "SN2017cii\n",
            "Time: 44.04456806182861 seconds\n",
            "SN2017ciy\n",
            "Time: 44.35536456108093 seconds\n",
            "SN2017cjv\n",
            "Time: 43.81490445137024 seconds\n",
            "SN2017ckx\n",
            "Time: 43.44024920463562 seconds\n",
            "SN2017coa\n",
            "Time: 43.107670307159424 seconds\n",
            "SN2017cpu\n",
            "Time: 42.86071848869324 seconds\n",
            "SN2017hn\n",
            "Time: 43.30205512046814 seconds\n",
            "SN2017jl\n",
            "Time: 43.84503102302551 seconds\n",
            "SN2017mf\n",
            "Time: 42.69878172874451 seconds\n",
            "SN2017ms\n",
            "Time: 42.46937298774719 seconds\n",
            "iPTF16auf\n",
            "Time: 42.58820700645447 seconds\n"
          ]
        }
      ]
    },
    {
      "cell_type": "markdown",
      "source": [
        "## Iterate over all supernovae"
      ],
      "metadata": {
        "id": "aAwoI44nJ6KJ"
      }
    },
    {
      "cell_type": "code",
      "source": [
        "vi_loc = {}\n",
        "vi_scale_tril = {}\n",
        "laplace_vi_loc = {}\n",
        "laplace_vi_scale_tril = {}\n",
        "\n",
        "# Iterate through all supernovas in dataset\n",
        "start_time = measure_time.time()\n",
        "\n",
        "for sn in meta.SNID.values:\n",
        "  print(sn)\n",
        "\n",
        "  tmax = tmax_dict[sn]\n",
        "  z_helio = z_helio_dict[sn]\n",
        "  EBV_MW = mwebv_dict[sn]\n",
        "  z_cmb = z_cmb_dict[sn]\n",
        "\n",
        "  Av_obs = EBV_MW * 3.1\n",
        "  observed_fluxes, flux_errors, times_dict = get_fluxes_from_file(sn + \".dat\", tmax, z_helio)\n",
        "\n",
        "  # Calculate band-dependent quantities (Jl, Jt, xis, S0, etc.)\n",
        "  band_Jt, band_Jl, band_xis_matrix, band_S0, band_h = calculate_band_dependent_stuff(times_dict, z_helio)\n",
        "\n",
        "  try:\n",
        "\n",
        "    # Fit Laplace Approximation\n",
        "    autoguide_laplace = pyro.infer.autoguide.AutoLaplaceApproximation(model_vi_with_params)\n",
        "    losses = train_with_params(model_vi_with_params, autoguide_laplace, observed_fluxes, z_cmb, \n",
        "                  band_Jl, band_Jt, band_xis_matrix, band_S0, band_h, flux_errors, n_steps=3000)\n",
        "\n",
        "    # Fit VI based on Laplace Approximation\n",
        "    new_laplace_approx_guide = autoguide_laplace.laplace_approximation(observed_fluxes, z_cmb, \n",
        "                  band_Jl, band_Jt, band_xis_matrix, band_S0, band_h, flux_errors,)\n",
        "    losses = train_with_params(model_vi_with_params, new_laplace_approx_guide, observed_fluxes, z_cmb, \n",
        "                  band_Jl, band_Jt, band_xis_matrix, band_S0, band_h, flux_errors, n_steps=5000)\n",
        "    laplace_vi_loc[sn] = new_laplace_approx_guide.get_posterior().loc.detach().numpy()\n",
        "    laplace_vi_scale_tril[sn] = new_laplace_approx_guide.get_posterior().scale_tril.detach().numpy()\n",
        "\n",
        "\n",
        "    np.save(\"laplace_vi_loc_redo.npy\", laplace_vi_loc)\n",
        "    np.save(\"laplace_vi_scale_tril_redo.npy\", laplace_vi_scale_tril)\n",
        "\n",
        "  except:\n",
        "    print(\"trying again for\", sn)\n",
        "    try:\n",
        "      # Fit Laplace Approximation\n",
        "      autoguide_laplace = pyro.infer.autoguide.AutoLaplaceApproximation(model_vi_with_params)\n",
        "      start_time = measure_time.time()\n",
        "      losses = train_with_params(model_vi_with_params, autoguide_laplace, observed_fluxes, z_cmb, \n",
        "                    band_Jl, band_Jt, band_xis_matrix, band_S0, band_h, flux_errors, n_steps=3000)\n",
        "\n",
        "      # Fit VI based on Laplace Approximation\n",
        "      new_laplace_approx_guide = autoguide_laplace.laplace_approximation(observed_fluxes, z_cmb, \n",
        "                    band_Jl, band_Jt, band_xis_matrix, band_S0, band_h, flux_errors,)\n",
        "      losses = train_with_params(model_vi_with_params, new_laplace_approx_guide, observed_fluxes, z_cmb, \n",
        "                    band_Jl, band_Jt, band_xis_matrix, band_S0, band_h, flux_errors, n_steps=5000)\n",
        "      laplace_vi_loc[sn] = new_laplace_approx_guide.get_posterior().loc.detach().numpy()\n",
        "      laplace_vi_scale_tril[sn] = new_laplace_approx_guide.get_posterior().scale_tril.detach().numpy()\n",
        "\n",
        "\n",
        "      np.save(\"laplace_vi_loc_redo.npy\", laplace_vi_loc)\n",
        "      np.save(\"laplace_vi_scale_tril_redo.npy\", laplace_vi_scale_tril)\n",
        "    except:\n",
        "      print(\"Fitting did not work for\", sn)\n",
        "\n",
        "end_time = measure_time.time()\n",
        "print(\"Time:\", end_time - start_time, \"seconds\")\n",
        "\n"
      ],
      "metadata": {
        "id": "KMmLoGPgJ5r_"
      },
      "execution_count": null,
      "outputs": []
    },
    {
      "cell_type": "code",
      "source": [
        "laplace_loc_dict1 = np.load(\"laplace_vi_loc(3).npy\", allow_pickle = True).item()\n",
        "laplace_loc_dict2 = np.load(\"laplace_vi_loc.npy\", allow_pickle = True).item()\n",
        "laplace_loc_dict1.update(laplace_loc_dict2)\n",
        "print(len(list(laplace_loc_dict1.keys())))\n",
        "np.save(\"foundation_laplace_vi_loc.npy\", laplace_loc_dict1)"
      ],
      "metadata": {
        "colab": {
          "base_uri": "https://localhost:8080/"
        },
        "id": "b5Uvi4jPL4rX",
        "outputId": "fda27b02-c9eb-4cb8-f4db-ce2eb3aca0e8"
      },
      "execution_count": null,
      "outputs": [
        {
          "output_type": "stream",
          "name": "stdout",
          "text": [
            "146\n"
          ]
        }
      ]
    },
    {
      "cell_type": "code",
      "source": [
        "laplace_scale_tril_dict1 = np.load(\"laplace_vi_scale_tril(4).npy\", allow_pickle = True).item()\n",
        "laplace_scale_tril_dict2 = np.load(\"laplace_vi_scale_tril.npy\", allow_pickle = True).item()\n",
        "laplace_scale_tril_dict1.update(laplace_scale_tril_dict2)\n",
        "print(len(list(laplace_scale_tril_dict1.keys())))\n",
        "np.save(\"foundation_laplace_vi_scale_tril.npy\", laplace_scale_tril_dict1)"
      ],
      "metadata": {
        "colab": {
          "base_uri": "https://localhost:8080/"
        },
        "id": "cJtZnd9qt7hH",
        "outputId": "59c36e57-6e5a-4199-db6e-4c8349748792"
      },
      "execution_count": null,
      "outputs": [
        {
          "output_type": "stream",
          "name": "stdout",
          "text": [
            "146\n"
          ]
        }
      ]
    },
    {
      "cell_type": "code",
      "source": [
        "vi_scale_tril_dict1 = np.load(\"vi_scale_tril(4).npy\", allow_pickle = True).item()\n",
        "vi_scale_tril_dict2 = np.load(\"vi_scale_tril.npy\", allow_pickle = True).item()\n",
        "vi_scale_tril_dict1.update(vi_scale_tril_dict2)\n",
        "print(len(list(vi_scale_tril_dict1.keys())))\n",
        "np.save(\"foundation_vi_scale_tril.npy\", vi_scale_tril_dict1)"
      ],
      "metadata": {
        "colab": {
          "base_uri": "https://localhost:8080/"
        },
        "id": "u89fFiO0uHIH",
        "outputId": "cb07aabb-e630-4bf7-8622-bdc3df2f6454"
      },
      "execution_count": null,
      "outputs": [
        {
          "output_type": "stream",
          "name": "stdout",
          "text": [
            "150\n"
          ]
        }
      ]
    },
    {
      "cell_type": "code",
      "source": [
        "vi_loc_dict1 = np.load(\"vi_loc(4).npy\", allow_pickle = True).item()\n",
        "vi_loc_dict2 = np.load(\"vi_loc.npy\", allow_pickle = True).item()\n",
        "vi_loc_dict1.update(vi_loc_dict2)\n",
        "print(len(list(vi_loc_dict1.keys())))\n",
        "np.save(\"foundation_vi_loc.npy\", vi_loc_dict1)"
      ],
      "metadata": {
        "colab": {
          "base_uri": "https://localhost:8080/"
        },
        "id": "KsWbNr8AuQYa",
        "outputId": "bbdd117c-c97c-4b52-ebed-344258487d79"
      },
      "execution_count": null,
      "outputs": [
        {
          "output_type": "stream",
          "name": "stdout",
          "text": [
            "150\n"
          ]
        }
      ]
    },
    {
      "cell_type": "code",
      "source": [
        "np.load(\"foundation_vi_loc.npy\", allow_pickle = True).item()"
      ],
      "metadata": {
        "colab": {
          "base_uri": "https://localhost:8080/"
        },
        "id": "C4bs-KnAvCmK",
        "outputId": "0a916dee-09f3-4dee-96dd-8b9c790fad18"
      },
      "execution_count": null,
      "outputs": [
        {
          "output_type": "execute_result",
          "data": {
            "text/plain": [
              "150"
            ]
          },
          "metadata": {},
          "execution_count": 42
        }
      ]
    },
    {
      "cell_type": "markdown",
      "source": [
        "## Make Hubble Diagram"
      ],
      "metadata": {
        "id": "sZYgCHXKwmq2"
      }
    },
    {
      "cell_type": "code",
      "source": [
        "vi_loc_dict = np.load(\"foundation_vi_loc.npy\", allow_pickle = True).item()\n",
        "# laplace_vi_loc_dict = np.load(\"laplace_vi_loc_redo.npy\", allow_pickle = True).item()\n",
        "# laplace_vi_scale_tril_dict = np.load(\"laplace_vi_scale_tril_redo.npy\", allow_pickle = True).item()\n",
        "laplace_vi_loc_dict = np.load(\"foundation_laplace_vi_loc.npy\", allow_pickle = True).item()\n",
        "laplace_vi_scale_tril_dict = np.load(\"foundation_laplace_vi_scale_tril.npy\", allow_pickle = True).item()\n",
        "vi_scale_tril_dict = np.load(\"foundation_vi_scale_tril.npy\", allow_pickle = True).item()"
      ],
      "metadata": {
        "id": "6qqGfPsIEcfA"
      },
      "execution_count": null,
      "outputs": []
    },
    {
      "cell_type": "code",
      "source": [
        "len(laplace_vi_loc_dict)"
      ],
      "metadata": {
        "id": "ln3w4bpnvwml",
        "outputId": "21592ddf-f96a-42ac-93ba-2fda9852f4e9",
        "colab": {
          "base_uri": "https://localhost:8080/"
        }
      },
      "execution_count": null,
      "outputs": [
        {
          "output_type": "execute_result",
          "data": {
            "text/plain": [
              "146"
            ]
          },
          "metadata": {},
          "execution_count": 53
        }
      ]
    },
    {
      "cell_type": "code",
      "source": [
        "for sn in np.setdiff1d(meta.SNID.values, list(laplace_vi_loc_dict.keys())):\n",
        "  print(sn)\n",
        "\n",
        "  tmax = tmax_dict[sn]\n",
        "  z_helio = z_helio_dict[sn]\n",
        "  EBV_MW = mwebv_dict[sn]\n",
        "  z_cmb = z_cmb_dict[sn]\n",
        "\n",
        "  Av_obs = EBV_MW * 3.1\n",
        "  observed_fluxes, flux_errors, times_dict = get_fluxes_from_file(sn + \".dat\", tmax, z_helio)\n",
        "\n",
        "  # Calculate band-dependent quantities (Jl, Jt, xis, S0, etc.)\n",
        "  band_Jt, band_Jl, band_xis_matrix, band_S0, band_h = calculate_band_dependent_stuff(times_dict, z_helio)\n",
        "\n",
        "  # Fit Laplace Approximation\n",
        "  autoguide_laplace = pyro.infer.autoguide.AutoLaplaceApproximation(model_vi_with_params_faster)\n",
        "  start_time = measure_time.time()\n",
        "  losses = train_with_params_faster(model_vi_with_params_faster, autoguide_laplace, observed_fluxes, z_cmb, \n",
        "                band_Jl, band_Jt, band_xis_matrix, band_S0, band_h, flux_errors, n_steps=3000)\n",
        "\n",
        "  # Fit VI based on Laplace Approximation\n",
        "  new_laplace_approx_guide = autoguide_laplace.laplace_approximation(observed_fluxes, z_cmb, \n",
        "                band_Jl, band_Jt, band_xis_matrix, band_S0, band_h, flux_errors,)\n",
        "  losses = train_with_params_faster(model_vi_with_params_faster, new_laplace_approx_guide, observed_fluxes, z_cmb, \n",
        "                band_Jl, band_Jt, band_xis_matrix, band_S0, band_h, flux_errors, n_steps=5000)\n",
        "  loc = new_laplace_approx_guide.get_posterior().loc.detach().numpy()\n",
        "  scale_tril = new_laplace_approx_guide.get_posterior().scale_tril.detach().numpy()\n",
        "\n",
        "  laplace_vi_loc_dict[sn] = loc\n",
        "  laplace_vi_scale_tril_dict[sn] = scale_tril\n"
      ],
      "metadata": {
        "colab": {
          "base_uri": "https://localhost:8080/"
        },
        "id": "_U3wUERoWD74",
        "outputId": "7261957f-6c14-4568-edfc-22ca4236c624"
      },
      "execution_count": null,
      "outputs": [
        {
          "output_type": "stream",
          "name": "stdout",
          "text": [
            "ASASSN-15oh\n",
            "ASASSN-15uv\n",
            "AT2016cvv\n",
            "AT2016cyt\n",
            "AT2017lm\n",
            "Gaia16bba\n",
            "PS16ccn\n",
            "SN2016hhv\n",
            "SN2016hpx\n",
            "SN2017ciy\n",
            "SN2017ms\n"
          ]
        }
      ]
    },
    {
      "cell_type": "code",
      "source": [
        "vi_mus = []\n",
        "vi_vars = []\n",
        "laplace_vi_mus = []\n",
        "laplace_vi_vars = []\n",
        "\n",
        "vi_z_cmbs = []\n",
        "\n",
        "laplace_vi_z_cmbs = []\n",
        "\n",
        "\n",
        "for sn in list(laplace_vi_loc_dict.keys()):\n",
        "  try:\n",
        "    vi_mus.append(vi_loc_dict[sn][-2])\n",
        "    vi_scale_tril = vi_scale_tril_dict[sn]\n",
        "    # Calculate covariance matrix from scale_tril (sigma = LL^T)\n",
        "    vi_vars.append(np.matmul(vi_scale_tril, vi_scale_tril.T)[-2][-2])\n",
        "    vi_z_cmbs.append(z_cmb_dict[sn])\n",
        "  except:\n",
        "    pass\n",
        "\n",
        "  try:\n",
        "    laplace_vi_mus.append(laplace_vi_loc_dict[sn][-2])\n",
        "    laplace_vi_scale_tril = laplace_vi_scale_tril_dict[sn]\n",
        "    laplace_vi_vars.append(np.matmul(laplace_vi_scale_tril, laplace_vi_scale_tril.T)[-2][-2])\n",
        "    laplace_vi_z_cmbs.append(z_cmb_dict[sn])\n",
        "  except:\n",
        "    pass"
      ],
      "metadata": {
        "id": "eWh32nh8w-RS"
      },
      "execution_count": null,
      "outputs": []
    },
    {
      "cell_type": "code",
      "source": [
        "len(laplace_vi_z_cmbs)"
      ],
      "metadata": {
        "colab": {
          "base_uri": "https://localhost:8080/"
        },
        "id": "l4GXjAOtu9R9",
        "outputId": "46977380-73d9-466c-a923-d02e7172e9d9"
      },
      "execution_count": null,
      "outputs": [
        {
          "output_type": "execute_result",
          "data": {
            "text/plain": [
              "157"
            ]
          },
          "metadata": {},
          "execution_count": 66
        }
      ]
    },
    {
      "cell_type": "markdown",
      "source": [
        "VI Hubble diagram (I think some of them needed more training)"
      ],
      "metadata": {
        "id": "-DkQaPe7BECN"
      }
    },
    {
      "cell_type": "code",
      "source": [
        "linspace_z = np.linspace(0.01, 0.085)\n",
        "\n",
        "cosmo = FlatLambdaCDM(H0 = 73.24, Om0 = 0.28)\n",
        "cosmo_distmod_values = np.array([cosmo.distmod(z).value for z in linspace_z])\n",
        "\n",
        "plt.plot(vi_z_cmbs, vi_mus, 'o')\n",
        "plt.plot(linspace_z, cosmo_distmod_values)\n",
        "plt.errorbar(vi_z_cmbs, vi_mus, np.sqrt(vi_vars), linestyle = 'None', color = 'k')\n",
        "plt.xlabel(\"z\")\n",
        "plt.ylabel(\"d\")\n",
        "# plt.ylim(32, 39)"
      ],
      "metadata": {
        "colab": {
          "base_uri": "https://localhost:8080/",
          "height": 297
        },
        "id": "xlGdwmDayoQd",
        "outputId": "2e5da86e-7f05-4747-d5e9-f36040fdb646"
      },
      "execution_count": null,
      "outputs": [
        {
          "output_type": "execute_result",
          "data": {
            "text/plain": [
              "Text(0, 0.5, 'd')"
            ]
          },
          "metadata": {},
          "execution_count": 67
        },
        {
          "output_type": "display_data",
          "data": {
            "text/plain": [
              "<Figure size 432x288 with 1 Axes>"
            ],
            "image/png": "[encoded data removed]"
          },
          "metadata": {
            "needs_background": "light"
          }
        }
      ]
    },
    {
      "cell_type": "markdown",
      "source": [
        "VI from Laplace Hubble Diagram"
      ],
      "metadata": {
        "id": "DYS4F0cmBH3D"
      }
    },
    {
      "cell_type": "code",
      "source": [
        "predictions = laplace_vi_mus\n",
        "targets = np.array([cosmo.distmod(z).value for z in laplace_vi_z_cmbs])\n",
        "\n",
        "rmse = np.sqrt(np.mean((predictions-targets)**2))\n",
        "print(rmse)"
      ],
      "metadata": {
        "colab": {
          "base_uri": "https://localhost:8080/"
        },
        "id": "ZbFCez_CTnMh",
        "outputId": "a03ccc2e-e3c7-4b5d-8b93-1ecf99c89ed3"
      },
      "execution_count": null,
      "outputs": [
        {
          "output_type": "stream",
          "name": "stdout",
          "text": [
            "0.12981802029570816\n"
          ]
        }
      ]
    },
    {
      "cell_type": "code",
      "source": [
        "f = plt.figure()\n",
        "plt.plot(laplace_vi_z_cmbs, laplace_vi_mus, 'o', color = (0.104,0.382,0.664))\n",
        "plt.plot(linspace_z, cosmo_distmod_values, color = 'k')\n",
        "plt.errorbar(laplace_vi_z_cmbs, laplace_vi_mus, np.sqrt(laplace_vi_vars), linestyle = 'None', color = 'k')\n",
        "plt.xlabel(\"Recession velocity (speed of light)\", fontsize =14)\n",
        "plt.ylabel(\"log(distance)\", fontsize = 14)\n",
        "plt.xticks(fontsize = 14)\n",
        "plt.yticks(fontsize = 14)\n",
        "plt.text(0.07, 34.3, \"Foundation DR1\", fontsize = 16, horizontalalignment = 'center')\n",
        "plt.text(0.07, 33.8, \"N = \" + str(len(laplace_vi_z_cmbs)), fontsize = 16, horizontalalignment = 'center')\n",
        "plt.text(0.07, 33.3, \"RMSE = \" + str(round(rmse,2)), fontsize = 16, horizontalalignment = 'center')\n",
        "f.savefig(\"HubbleDiagram.pdf\", bbox_inches = 'tight')\n",
        "# plt.title(\"Foundation dataset distances- VI initialized with Laplace\", fontsize = 12)"
      ],
      "metadata": {
        "colab": {
          "base_uri": "https://localhost:8080/",
          "height": 289
        },
        "id": "B5AHS8zzywIL",
        "outputId": "54b7dcc4-a5e7-477d-f29e-2a5792c5cf08"
      },
      "execution_count": null,
      "outputs": [
        {
          "output_type": "display_data",
          "data": {
            "text/plain": [
              "<Figure size 432x288 with 1 Axes>"
            ],
            "image/png": "[encoded data removed]"
          },
          "metadata": {
            "needs_background": "light"
          }
        }
      ]
    },
    {
      "cell_type": "code",
      "source": [
        "g = plt.figure()\n",
        "plt.plot(laplace_vi_z_cmbs, laplace_vi_mus - np.array([cosmo.distmod(z).value for z in laplace_vi_z_cmbs]), 'o',color = (0.104,0.382,0.664))\n",
        "\n",
        "plt.errorbar(laplace_vi_z_cmbs, laplace_vi_mus - np.array([cosmo.distmod(z).value for z in laplace_vi_z_cmbs]), np.sqrt(laplace_vi_vars), linestyle = 'None', color = 'k')\n",
        "\n",
        "\n",
        "sigma_pec = 150\n",
        "c = 300000\n",
        "\n",
        "sigma_envelope = np.array([(5 / (z * np.log(10))) * (sigma_pec / c) for z in linspace_z])\n",
        "\n",
        "plt.plot(linspace_z, sigma_envelope, marker = 'None', linestyle = 'dashed', color = 'k')\n",
        "plt.plot(linspace_z, -sigma_envelope, marker = 'None', linestyle = 'dashed', color = 'k')\n",
        "\n",
        "plt.axhline(0., color = 'k')\n",
        "\n",
        "plt.xlabel(\"z\", fontsize = 14)\n",
        "plt.ylabel(\"Hubble Residual\", fontsize = 14)\n",
        "# plt.ylim(-1, 1)\n",
        "# plt.title(\"Foundation dataset residuals- VI initialized with Laplace\", fontsize = 12)\n",
        "plt.xticks(fontsize = 14)\n",
        "plt.yticks(fontsize = 14)\n",
        "plt.show()\n",
        "g.savefig(\"HubbleResiduals.pdf\", bbox_inches = 'tight')"
      ],
      "metadata": {
        "colab": {
          "base_uri": "https://localhost:8080/",
          "height": 287
        },
        "id": "kJlu2rOCzPoV",
        "outputId": "ef0d1a49-042b-4f1d-aff9-733465b022e5"
      },
      "execution_count": null,
      "outputs": [
        {
          "output_type": "display_data",
          "data": {
            "text/plain": [
              "<Figure size 432x288 with 1 Axes>"
            ],
            "image/png": "[encoded data removed]"
          },
          "metadata": {
            "needs_background": "light"
          }
        }
      ]
    },
    {
      "cell_type": "markdown",
      "source": [
        "Calculate RMSE"
      ],
      "metadata": {
        "id": "2r1-PuH1U4yg"
      }
    },
    {
      "cell_type": "code",
      "source": [
        "mu_residuals = []\n",
        "av_residuals = []\n",
        "theta_residuals = []\n",
        "\n",
        "mcmc_mus = []\n",
        "mcmc_av = []\n",
        "mcmc_theta = []\n",
        "for sn in list(laplace_vi_loc_dict.keys()):\n",
        "  #   vi_mus.append(vi_loc_dict[sn][-2])\n",
        "  # vi_scale_tril = vi_scale_tril_dict[sn]\n",
        "  # # Calculate covariance matrix from scale_tril (sigma = LL^T)\n",
        "  # vi_vars.append(np.matmul(vi_scale_tril, vi_scale_tril.T)[-2][-2])\n",
        "  # vi_z_cmbs.append(z_cmb_dict[sn])\n",
        "\n",
        "  estimated_dist = np.mean(np.load(sn + \"_chains_210610_135216.npy\", allow_pickle = True).item()['mu'])\n",
        "  estimated_av = np.mean(np.load(sn + \"_chains_210610_135216.npy\", allow_pickle = True).item()['AV'])\n",
        "  estimated_theta = np.mean(np.load(sn + \"_chains_210610_135216.npy\", allow_pickle = True).item()['theta'])\n",
        "\n",
        "  mcmc_mus.append(estimated_dist)\n",
        "  mcmc_av.append(estimated_av)\n",
        "  mcmc_theta.append(estimated_theta)\n",
        "\n",
        "  # print(estimated_dist)\n",
        "  # print(vi_loc_dict[sn][-2])\n",
        "  # plt.plot(laplace_vi_loc_dict[sn][-2], estimated_dist, 'bo')\n",
        "  plt.plot(laplace_vi_loc_dict[sn][-2], estimated_dist - laplace_vi_loc_dict[sn][-2], 'ro')\n",
        "  mu_residuals.append(estimated_dist - laplace_vi_loc_dict[sn][-2])\n",
        "  av_residuals.append(estimated_av - np.exp(laplace_vi_loc_dict[sn][-1]))\n",
        "  # print(laplace_vi_loc_dict[sn][-1])\n",
        "  theta_residuals.append(estimated_theta - laplace_vi_loc_dict[sn][-3])\n",
        "\n",
        "\n",
        "\n",
        "# plt.plot(np.linspace(33,38), np.linspace(33, 38), color = 'tab:orange')\n",
        "plt.xlabel(\"VI distances\")\n",
        "# plt.ylabel(\"MCMC distances\")\n",
        "plt.ylabel(\"Residual\")\n",
        "plt.axhline(0)\n",
        "\n",
        "plt.show()"
      ],
      "metadata": {
        "colab": {
          "base_uri": "https://localhost:8080/",
          "height": 282
        },
        "id": "7t_vif-tF7q9",
        "outputId": "a2079a4f-c166-4ec6-9586-2ff56b5741ae"
      },
      "execution_count": null,
      "outputs": [
        {
          "output_type": "display_data",
          "data": {
            "text/plain": [
              "<Figure size 432x288 with 1 Axes>"
            ],
            "image/png": "[encoded data removed]"
          },
          "metadata": {
            "needs_background": "light"
          }
        }
      ]
    },
    {
      "cell_type": "code",
      "source": [
        "np.mean(mu_residuals) / (np.std(mu_residuals) / np.sqrt(len(mu_residuals)))"
      ],
      "metadata": {
        "colab": {
          "base_uri": "https://localhost:8080/"
        },
        "id": "gGOHw89lJJ78",
        "outputId": "154b605b-9d56-455b-824d-8cd2767f005c"
      },
      "execution_count": null,
      "outputs": [
        {
          "output_type": "execute_result",
          "data": {
            "text/plain": [
              "3.5257235708153103"
            ]
          },
          "metadata": {},
          "execution_count": 96
        }
      ]
    },
    {
      "cell_type": "code",
      "source": [
        "plt.plot(mcmc_av, av_residuals, 'o')\n",
        "plt.axhline(0, color = 'k')"
      ],
      "metadata": {
        "colab": {
          "base_uri": "https://localhost:8080/",
          "height": 283
        },
        "id": "dlG-5-0PPzxQ",
        "outputId": "b0565a34-db84-464f-d4d7-44e02c45d85a"
      },
      "execution_count": null,
      "outputs": [
        {
          "output_type": "execute_result",
          "data": {
            "text/plain": [
              "<matplotlib.lines.Line2D at 0x7f8be0891390>"
            ]
          },
          "metadata": {},
          "execution_count": 97
        },
        {
          "output_type": "display_data",
          "data": {
            "text/plain": [
              "<Figure size 432x288 with 1 Axes>"
            ],
            "image/png": "[encoded data removed]"
          },
          "metadata": {
            "needs_background": "light"
          }
        }
      ]
    },
    {
      "cell_type": "code",
      "source": [
        "plt.plot(mcmc_theta, theta_residuals, 'o')\n",
        "plt.axhline(0, color = 'k')\n",
        "plt.xlabel(\"MCMC theta\")\n",
        "plt.ylabel(\"Residual\")"
      ],
      "metadata": {
        "colab": {
          "base_uri": "https://localhost:8080/",
          "height": 299
        },
        "id": "--eeDvbJqsZi",
        "outputId": "60a1a7c7-7dc4-40df-bec5-9a2989bd9caa"
      },
      "execution_count": null,
      "outputs": [
        {
          "output_type": "execute_result",
          "data": {
            "text/plain": [
              "Text(0, 0.5, 'Residual')"
            ]
          },
          "metadata": {},
          "execution_count": 102
        },
        {
          "output_type": "display_data",
          "data": {
            "text/plain": [
              "<Figure size 432x288 with 1 Axes>"
            ],
            "image/png": "[encoded data removed]"
          },
          "metadata": {
            "needs_background": "light"
          }
        }
      ]
    },
    {
      "cell_type": "code",
      "source": [
        "list(laplace_vi_loc_dict.keys())[np.argmax(av_residuals)]"
      ],
      "metadata": {
        "colab": {
          "base_uri": "https://localhost:8080/",
          "height": 36
        },
        "id": "u5WZfiTwqgB4",
        "outputId": "a33f0411-2003-4f97-c1b1-83688b96cc38"
      },
      "execution_count": null,
      "outputs": [
        {
          "output_type": "execute_result",
          "data": {
            "text/plain": [
              "'ASASSN-15uv'"
            ],
            "application/vnd.google.colaboratory.intrinsic+json": {
              "type": "string"
            }
          },
          "metadata": {},
          "execution_count": 99
        }
      ]
    },
    {
      "cell_type": "code",
      "source": [
        "figure = corner.corner(np.vstack((np.array(mu_residuals), av_residuals, theta_residuals)).T, \n",
        "              plot_contours = False, plot_datapoints =  True, plot_density = False, \n",
        "              data_kwargs = {'color':'b', 'alpha':1, 'marker':'o'}, \n",
        "              labels = ['${\\\\mu}$ residuals', '${A_v}$ residuals', '${\\\\theta}$ residuals'],\n",
        "              label_kwargs = {'fontsize':16})\n",
        "plt.text(-0.7,125,\"All residuals are MCMC - VI\", fontsize = 16)\n",
        "figure.suptitle(\"Parameter residuals for Foundation dataset\", fontsize = 20)\n"
      ],
      "metadata": {
        "colab": {
          "base_uri": "https://localhost:8080/",
          "height": 575
        },
        "id": "m0Ns_B4HL_7C",
        "outputId": "ad7e2982-7fb5-46ec-95e6-cc3155d983d0"
      },
      "execution_count": null,
      "outputs": [
        {
          "output_type": "execute_result",
          "data": {
            "text/plain": [
              "Text(0.5, 0.98, 'Parameter residuals for Foundation dataset')"
            ]
          },
          "metadata": {},
          "execution_count": 108
        },
        {
          "output_type": "display_data",
          "data": {
            "text/plain": [
              "<Figure size 547.2x547.2 with 9 Axes>"
            ],
            "image/png": "[encoded data removed]"
          },
          "metadata": {
            "needs_background": "light"
          }
        }
      ]
    },
    {
      "cell_type": "code",
      "source": [
        ""
      ],
      "metadata": {
        "id": "w6UpMi3gOi9b"
      },
      "execution_count": null,
      "outputs": []
    }
  ],
  "metadata": {
    "colab": {
      "name": "Foundation_Tensor_Fitting_BayeSN_Pyro_Faster.ipynb",
      "provenance": [],
      "collapsed_sections": []
    },
    "kernelspec": {
      "display_name": "Python 3",
      "name": "python3"
    },
    "language_info": {
      "name": "python"
    },
    "gpuClass": "standard",
    "accelerator": "GPU"
  },
  "nbformat": 4,
  "nbformat_minor": 0
}