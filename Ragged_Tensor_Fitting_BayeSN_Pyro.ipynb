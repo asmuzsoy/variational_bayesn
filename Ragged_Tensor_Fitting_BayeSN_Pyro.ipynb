{
  "cells": [
    {
      "cell_type": "code",
      "execution_count": 12,
      "metadata": {
        "colab": {
          "base_uri": "https://localhost:8080/",
          "height": 451
        },
        "id": "uX96bEWTmND0",
        "outputId": "864d6283-42e3-4822-9a27-711bfc55f085"
      },
      "outputs": [
        {
          "output_type": "stream",
          "name": "stdout",
          "text": [
            "Looking in indexes: https://pypi.org/simple, https://us-python.pkg.dev/colab-wheels/public/simple/\n",
            "Collecting pyro-ppl\n",
            "  Using cached pyro_ppl-1.8.1-py3-none-any.whl (718 kB)\n",
            "Collecting numpy>=1.7\n",
            "  Downloading numpy-1.21.6-cp37-cp37m-manylinux_2_12_x86_64.manylinux2010_x86_64.whl (15.7 MB)\n",
            "\u001b[K     |████████████████████████████████| 15.7 MB 335 kB/s \n",
            "\u001b[?25hRequirement already satisfied: tqdm>=4.36 in /usr/local/lib/python3.7/site-packages (from pyro-ppl) (4.64.0)\n",
            "Collecting torch>=1.11.0\n",
            "  Downloading torch-1.11.0-cp37-cp37m-manylinux1_x86_64.whl (750.6 MB)\n",
            "\u001b[K     |████████████████████████████████| 750.6 MB 11 kB/s \n",
            "\u001b[?25hCollecting pyro-api>=0.1.1\n",
            "  Using cached pyro_api-0.1.2-py3-none-any.whl (11 kB)\n",
            "Collecting opt-einsum>=2.3.2\n",
            "  Downloading opt_einsum-3.3.0-py3-none-any.whl (65 kB)\n",
            "\u001b[K     |████████████████████████████████| 65 kB 3.9 MB/s \n",
            "\u001b[?25hCollecting typing-extensions\n",
            "  Downloading typing_extensions-4.2.0-py3-none-any.whl (24 kB)\n",
            "Installing collected packages: typing-extensions, numpy, torch, pyro-api, opt-einsum, pyro-ppl\n",
            "Successfully installed numpy-1.21.6 opt-einsum-3.3.0 pyro-api-0.1.2 pyro-ppl-1.8.1 torch-1.11.0 typing-extensions-4.2.0\n"
          ]
        },
        {
          "output_type": "display_data",
          "data": {
            "application/vnd.colab-display-data+json": {
              "pip_warning": {
                "packages": [
                  "numpy",
                  "opt_einsum",
                  "pyro"
                ]
              }
            }
          },
          "metadata": {}
        }
      ],
      "source": [
        "!pip3 install pyro-ppl "
      ]
    },
    {
      "cell_type": "code",
      "execution_count": 13,
      "metadata": {
        "colab": {
          "base_uri": "https://localhost:8080/",
          "height": 214
        },
        "id": "TLPeho_PRgNP",
        "outputId": "170da93b-26a2-4d48-fda4-95d8c7b77d68"
      },
      "outputs": [
        {
          "output_type": "stream",
          "name": "stdout",
          "text": [
            "Looking in indexes: https://pypi.org/simple, https://us-python.pkg.dev/colab-wheels/public/simple/\n",
            "Collecting extinction\n",
            "  Using cached extinction-0.4.6-cp37-cp37m-manylinux_2_5_x86_64.manylinux1_x86_64.manylinux_2_12_x86_64.manylinux2010_x86_64.whl (418 kB)\n",
            "Requirement already satisfied: numpy>=1.13.3 in /usr/local/lib/python3.7/site-packages (from extinction) (1.21.6)\n",
            "Installing collected packages: extinction\n",
            "Successfully installed extinction-0.4.6\n"
          ]
        },
        {
          "output_type": "display_data",
          "data": {
            "application/vnd.colab-display-data+json": {
              "pip_warning": {
                "packages": [
                  "extinction"
                ]
              }
            }
          },
          "metadata": {}
        }
      ],
      "source": [
        "!pip install extinction"
      ]
    },
    {
      "cell_type": "code",
      "source": [
        "!pip install corner"
      ],
      "metadata": {
        "colab": {
          "base_uri": "https://localhost:8080/",
          "height": 669
        },
        "id": "u-aOtXYMeTcO",
        "outputId": "e56c2ddd-e678-4fe9-fe52-0292c8f4d3a8"
      },
      "execution_count": 14,
      "outputs": [
        {
          "output_type": "stream",
          "name": "stdout",
          "text": [
            "Looking in indexes: https://pypi.org/simple, https://us-python.pkg.dev/colab-wheels/public/simple/\n",
            "Collecting corner\n",
            "  Using cached corner-2.2.1-py3-none-any.whl (15 kB)\n",
            "Collecting matplotlib>=2.1\n",
            "  Downloading matplotlib-3.5.2-cp37-cp37m-manylinux_2_5_x86_64.manylinux1_x86_64.whl (11.2 MB)\n",
            "\u001b[K     |████████████████████████████████| 11.2 MB 5.3 MB/s \n",
            "\u001b[?25hCollecting cycler>=0.10\n",
            "  Downloading cycler-0.11.0-py3-none-any.whl (6.4 kB)\n",
            "Collecting pyparsing>=2.2.1\n",
            "  Downloading pyparsing-3.0.9-py3-none-any.whl (98 kB)\n",
            "\u001b[K     |████████████████████████████████| 98 kB 7.6 MB/s \n",
            "\u001b[?25hCollecting packaging>=20.0\n",
            "  Downloading packaging-21.3-py3-none-any.whl (40 kB)\n",
            "\u001b[K     |████████████████████████████████| 40 kB 4.1 MB/s \n",
            "\u001b[?25hCollecting kiwisolver>=1.0.1\n",
            "  Downloading kiwisolver-1.4.2-cp37-cp37m-manylinux_2_5_x86_64.manylinux1_x86_64.whl (1.1 MB)\n",
            "\u001b[K     |████████████████████████████████| 1.1 MB 55.7 MB/s \n",
            "\u001b[?25hRequirement already satisfied: numpy>=1.17 in /usr/local/lib/python3.7/site-packages (from matplotlib>=2.1->corner) (1.21.6)\n",
            "Collecting python-dateutil>=2.7\n",
            "  Downloading python_dateutil-2.8.2-py2.py3-none-any.whl (247 kB)\n",
            "\u001b[K     |████████████████████████████████| 247 kB 54.1 MB/s \n",
            "\u001b[?25hCollecting fonttools>=4.22.0\n",
            "  Downloading fonttools-4.33.3-py3-none-any.whl (930 kB)\n",
            "\u001b[K     |████████████████████████████████| 930 kB 36.3 MB/s \n",
            "\u001b[?25hCollecting pillow>=6.2.0\n",
            "  Downloading Pillow-9.1.1-cp37-cp37m-manylinux_2_17_x86_64.manylinux2014_x86_64.whl (3.1 MB)\n",
            "\u001b[K     |████████████████████████████████| 3.1 MB 24.6 MB/s \n",
            "\u001b[?25hRequirement already satisfied: typing-extensions in /usr/local/lib/python3.7/site-packages (from kiwisolver>=1.0.1->matplotlib>=2.1->corner) (4.2.0)\n",
            "Requirement already satisfied: six>=1.5 in /usr/local/lib/python3.7/site-packages (from python-dateutil>=2.7->matplotlib>=2.1->corner) (1.16.0)\n",
            "Installing collected packages: pyparsing, python-dateutil, pillow, packaging, kiwisolver, fonttools, cycler, matplotlib, corner\n",
            "Successfully installed corner-2.2.1 cycler-0.11.0 fonttools-4.33.3 kiwisolver-1.4.2 matplotlib-3.5.2 packaging-21.3 pillow-9.1.1 pyparsing-3.0.9 python-dateutil-2.8.2\n"
          ]
        },
        {
          "output_type": "display_data",
          "data": {
            "application/vnd.colab-display-data+json": {
              "pip_warning": {
                "packages": [
                  "corner",
                  "cycler",
                  "dateutil",
                  "kiwisolver",
                  "packaging"
                ]
              }
            }
          },
          "metadata": {}
        }
      ]
    },
    {
      "cell_type": "code",
      "execution_count": 15,
      "metadata": {
        "id": "9xkM4Rl_RQdX"
      },
      "outputs": [],
      "source": [
        "%%capture\n",
        "import logging\n",
        "import os\n",
        "\n",
        "import torch\n",
        "import numpy as np\n",
        "import pandas as pd\n",
        "import seaborn as sns\n",
        "import matplotlib.pyplot as plt\n",
        "import matplotlib.lines as mlines\n",
        "import matplotlib.colors as colors\n",
        "\n",
        "import corner\n",
        "import time as measure_time\n",
        "\n",
        "import pyro\n",
        "\n",
        "import pyro.distributions as dist\n",
        "import pyro.distributions.constraints as constraints\n",
        "from pyro.infer import SVI, Trace_ELBO,Predictive\n",
        "from pyro.optim import Adam\n",
        "\n",
        "from scipy.interpolate import interp1d\n",
        "import h5py\n",
        "import extinction\n",
        "\n",
        "from astropy.cosmology import FlatLambdaCDM\n",
        "\n",
        "from spline_hsiao_fns import *"
      ]
    },
    {
      "cell_type": "markdown",
      "metadata": {
        "id": "syqWBFKbDk8B"
      },
      "source": [
        "##Get constants from files"
      ]
    },
    {
      "cell_type": "code",
      "execution_count": 16,
      "metadata": {
        "id": "AlhMMde4mIBy"
      },
      "outputs": [],
      "source": [
        "W0 = np.loadtxt(\"W0.txt\")\n",
        "W1 = np.loadtxt(\"W1.txt\")\n",
        "time_knots = np.loadtxt(\"tau_knots.txt\")\n",
        "wavelength_knots = np.loadtxt(\"l_knots.txt\")\n",
        "L_sigma_epsilon = np.loadtxt(\"L_Sigma_epsilon.txt\")\n",
        "M0, sigma0, rv, tauA = np.loadtxt(\"M0_sigma0_RV_tauA.txt\")"
      ]
    },
    {
      "cell_type": "code",
      "execution_count": 17,
      "metadata": {
        "id": "vdSkGKgr4S5R"
      },
      "outputs": [],
      "source": [
        "g_wavelengths, _, g_norm_throughput = np.loadtxt(\"g_PS1.txt\", skiprows = 2, unpack = True)\n",
        "r_wavelengths, _, r_norm_throughput = np.loadtxt(\"r_PS1.txt\", skiprows = 2, unpack = True)\n",
        "i_wavelengths, _, i_norm_throughput = np.loadtxt(\"i_PS1.txt\", skiprows = 2, unpack = True)\n",
        "z_wavelengths, _, z_norm_throughput = np.loadtxt(\"z_PS1.txt\", skiprows = 2, unpack = True)"
      ]
    },
    {
      "cell_type": "code",
      "execution_count": 18,
      "metadata": {
        "colab": {
          "base_uri": "https://localhost:8080/",
          "height": 206
        },
        "id": "R_kLGimHNEDX",
        "outputId": "654aa9e8-b4e7-4529-a54f-2f26bc62fd07"
      },
      "outputs": [
        {
          "output_type": "execute_result",
          "data": {
            "text/plain": [
              "           MJD FLT   FLUXCAL  FLUXCALERR     MAG  MAGERR\n",
              "0  57439.23445   g  4005.553     227.047  18.493   0.061\n",
              "1  57444.23967   g  4352.048     146.663  18.403   0.036\n",
              "2  57449.23437   g  3297.302     142.817  18.705   0.047\n",
              "3  57457.23616   g  1835.407     122.820  19.341   0.072\n",
              "4  57464.23884   g  1048.120     213.621  19.949   0.220"
            ],
            "text/html": [
              "\n",
              "  <div id=\"df-07315ff6-1e29-4867-b600-dedda2a981bb\">\n",
              "    <div class=\"colab-df-container\">\n",
              "      <div>\n",
              "<style scoped>\n",
              "    .dataframe tbody tr th:only-of-type {\n",
              "        vertical-align: middle;\n",
              "    }\n",
              "\n",
              "    .dataframe tbody tr th {\n",
              "        vertical-align: top;\n",
              "    }\n",
              "\n",
              "    .dataframe thead th {\n",
              "        text-align: right;\n",
              "    }\n",
              "</style>\n",
              "<table border=\"1\" class=\"dataframe\">\n",
              "  <thead>\n",
              "    <tr style=\"text-align: right;\">\n",
              "      <th></th>\n",
              "      <th>MJD</th>\n",
              "      <th>FLT</th>\n",
              "      <th>FLUXCAL</th>\n",
              "      <th>FLUXCALERR</th>\n",
              "      <th>MAG</th>\n",
              "      <th>MAGERR</th>\n",
              "    </tr>\n",
              "  </thead>\n",
              "  <tbody>\n",
              "    <tr>\n",
              "      <th>0</th>\n",
              "      <td>57439.23445</td>\n",
              "      <td>g</td>\n",
              "      <td>4005.553</td>\n",
              "      <td>227.047</td>\n",
              "      <td>18.493</td>\n",
              "      <td>0.061</td>\n",
              "    </tr>\n",
              "    <tr>\n",
              "      <th>1</th>\n",
              "      <td>57444.23967</td>\n",
              "      <td>g</td>\n",
              "      <td>4352.048</td>\n",
              "      <td>146.663</td>\n",
              "      <td>18.403</td>\n",
              "      <td>0.036</td>\n",
              "    </tr>\n",
              "    <tr>\n",
              "      <th>2</th>\n",
              "      <td>57449.23437</td>\n",
              "      <td>g</td>\n",
              "      <td>3297.302</td>\n",
              "      <td>142.817</td>\n",
              "      <td>18.705</td>\n",
              "      <td>0.047</td>\n",
              "    </tr>\n",
              "    <tr>\n",
              "      <th>3</th>\n",
              "      <td>57457.23616</td>\n",
              "      <td>g</td>\n",
              "      <td>1835.407</td>\n",
              "      <td>122.820</td>\n",
              "      <td>19.341</td>\n",
              "      <td>0.072</td>\n",
              "    </tr>\n",
              "    <tr>\n",
              "      <th>4</th>\n",
              "      <td>57464.23884</td>\n",
              "      <td>g</td>\n",
              "      <td>1048.120</td>\n",
              "      <td>213.621</td>\n",
              "      <td>19.949</td>\n",
              "      <td>0.220</td>\n",
              "    </tr>\n",
              "  </tbody>\n",
              "</table>\n",
              "</div>\n",
              "      <button class=\"colab-df-convert\" onclick=\"convertToInteractive('df-07315ff6-1e29-4867-b600-dedda2a981bb')\"\n",
              "              title=\"Convert this dataframe to an interactive table.\"\n",
              "              style=\"display:none;\">\n",
              "        \n",
              "  <svg xmlns=\"http://www.w3.org/2000/svg\" height=\"24px\"viewBox=\"0 0 24 24\"\n",
              "       width=\"24px\">\n",
              "    <path d=\"M0 0h24v24H0V0z\" fill=\"none\"/>\n",
              "    <path d=\"M18.56 5.44l.94 2.06.94-2.06 2.06-.94-2.06-.94-.94-2.06-.94 2.06-2.06.94zm-11 1L8.5 8.5l.94-2.06 2.06-.94-2.06-.94L8.5 2.5l-.94 2.06-2.06.94zm10 10l.94 2.06.94-2.06 2.06-.94-2.06-.94-.94-2.06-.94 2.06-2.06.94z\"/><path d=\"M17.41 7.96l-1.37-1.37c-.4-.4-.92-.59-1.43-.59-.52 0-1.04.2-1.43.59L10.3 9.45l-7.72 7.72c-.78.78-.78 2.05 0 2.83L4 21.41c.39.39.9.59 1.41.59.51 0 1.02-.2 1.41-.59l7.78-7.78 2.81-2.81c.8-.78.8-2.07 0-2.86zM5.41 20L4 18.59l7.72-7.72 1.47 1.35L5.41 20z\"/>\n",
              "  </svg>\n",
              "      </button>\n",
              "      \n",
              "  <style>\n",
              "    .colab-df-container {\n",
              "      display:flex;\n",
              "      flex-wrap:wrap;\n",
              "      gap: 12px;\n",
              "    }\n",
              "\n",
              "    .colab-df-convert {\n",
              "      background-color: #E8F0FE;\n",
              "      border: none;\n",
              "      border-radius: 50%;\n",
              "      cursor: pointer;\n",
              "      display: none;\n",
              "      fill: #1967D2;\n",
              "      height: 32px;\n",
              "      padding: 0 0 0 0;\n",
              "      width: 32px;\n",
              "    }\n",
              "\n",
              "    .colab-df-convert:hover {\n",
              "      background-color: #E2EBFA;\n",
              "      box-shadow: 0px 1px 2px rgba(60, 64, 67, 0.3), 0px 1px 3px 1px rgba(60, 64, 67, 0.15);\n",
              "      fill: #174EA6;\n",
              "    }\n",
              "\n",
              "    [theme=dark] .colab-df-convert {\n",
              "      background-color: #3B4455;\n",
              "      fill: #D2E3FC;\n",
              "    }\n",
              "\n",
              "    [theme=dark] .colab-df-convert:hover {\n",
              "      background-color: #434B5C;\n",
              "      box-shadow: 0px 1px 3px 1px rgba(0, 0, 0, 0.15);\n",
              "      filter: drop-shadow(0px 1px 2px rgba(0, 0, 0, 0.3));\n",
              "      fill: #FFFFFF;\n",
              "    }\n",
              "  </style>\n",
              "\n",
              "      <script>\n",
              "        const buttonEl =\n",
              "          document.querySelector('#df-07315ff6-1e29-4867-b600-dedda2a981bb button.colab-df-convert');\n",
              "        buttonEl.style.display =\n",
              "          google.colab.kernel.accessAllowed ? 'block' : 'none';\n",
              "\n",
              "        async function convertToInteractive(key) {\n",
              "          const element = document.querySelector('#df-07315ff6-1e29-4867-b600-dedda2a981bb');\n",
              "          const dataTable =\n",
              "            await google.colab.kernel.invokeFunction('convertToInteractive',\n",
              "                                                     [key], {});\n",
              "          if (!dataTable) return;\n",
              "\n",
              "          const docLinkHtml = 'Like what you see? Visit the ' +\n",
              "            '<a target=\"_blank\" href=https://colab.research.google.com/notebooks/data_table.ipynb>data table notebook</a>'\n",
              "            + ' to learn more about interactive tables.';\n",
              "          element.innerHTML = '';\n",
              "          dataTable['output_type'] = 'display_data';\n",
              "          await google.colab.output.renderOutput(dataTable, element);\n",
              "          const docLink = document.createElement('div');\n",
              "          docLink.innerHTML = docLinkHtml;\n",
              "          element.appendChild(docLink);\n",
              "        }\n",
              "      </script>\n",
              "    </div>\n",
              "  </div>\n",
              "  "
            ]
          },
          "metadata": {},
          "execution_count": 18
        }
      ],
      "source": [
        "filename = \"AT2016aj.dat\"\n",
        "\n",
        "df = pd.read_csv(filename, sep=\" \", header = 0, index_col = False, names = ['MJD', \"FLT\", 'FLUXCAL', 'FLUXCALERR', 'MAG', 'MAGERR'])\n",
        "df = df.dropna()\n",
        "df.head()"
      ]
    },
    {
      "cell_type": "code",
      "execution_count": 163,
      "metadata": {
        "id": "0iZBTV98NE-9"
      },
      "outputs": [],
      "source": [
        "tmax = 57464.23 if filename==\"ASASSN-16cs.dat\" else 57442.92\n",
        "z_helio = 0.01802 if filename==\"ASASSN-16cs.dat\" else 0.06741\n",
        "\n",
        "g_time = (df.MJD[df.FLT=='g'] - tmax) / (1 + z_helio)\n",
        "r_time = (df.MJD[df.FLT=='r'] - tmax) / (1 + z_helio)\n",
        "i_time = (df.MJD[df.FLT=='i'] - tmax) / (1 + z_helio)\n",
        "z_time = (df.MJD[df.FLT=='z'] - tmax) / (1 + z_helio)\n",
        "\n",
        "g_mag = df.MAG[df.FLT=='g']\n",
        "r_mag = df.MAG[df.FLT=='r']\n",
        "i_mag = df.MAG[df.FLT=='i']\n",
        "z_mag = df.MAG[df.FLT=='z']\n",
        "\n",
        "g_magerr = df.MAGERR[df.FLT=='g']\n",
        "r_magerr = df.MAGERR[df.FLT=='r']\n",
        "i_magerr = df.MAGERR[df.FLT=='i'][:-1]\n",
        "z_magerr = df.MAGERR[df.FLT=='z']\n",
        "\n",
        "g_flux = df.FLUXCAL[df.FLT=='g']\n",
        "r_flux = df.FLUXCAL[df.FLT=='r']\n",
        "i_flux = df.FLUXCAL[df.FLT=='i']\n",
        "z_flux = df.FLUXCAL[df.FLT=='z']\n",
        "\n",
        "g_fluxerr = df.FLUXCALERR[df.FLT=='g']\n",
        "r_fluxerr = df.FLUXCALERR[df.FLT=='r']\n",
        "i_fluxerr = df.FLUXCALERR[df.FLT=='i']\n",
        "z_fluxerr = df.FLUXCALERR[df.FLT=='z']\n",
        "\n",
        "# i_mag = i_mag[:-1]\n",
        "# i_time = i_time[:-1] ## remove last point which is outside the (-10, 40) time range\n",
        "\n",
        "# i_flux = i_flux[:-1]"
      ]
    },
    {
      "cell_type": "code",
      "source": [
        "z_flux"
      ],
      "metadata": {
        "colab": {
          "base_uri": "https://localhost:8080/"
        },
        "id": "jhGUTBDdJy01",
        "outputId": "41cbdcd7-3dde-468e-f971-fe63f398148c"
      },
      "execution_count": 20,
      "outputs": [
        {
          "output_type": "execute_result",
          "data": {
            "text/plain": [
              "18    2641.760\n",
              "19    1720.968\n",
              "20    1640.421\n",
              "21    1150.321\n",
              "22    1282.191\n",
              "Name: FLUXCAL, dtype: float64"
            ]
          },
          "metadata": {},
          "execution_count": 20
        }
      ]
    },
    {
      "cell_type": "code",
      "source": [
        "plt.plot(g_time, g_mag, label='g', marker='o')\n",
        "plt.plot(r_time, r_mag-2, label = 'r', marker='o')\n",
        "plt.plot(i_time, i_mag-4,label = 'i', marker='o')\n",
        "plt.plot(z_time, z_mag-6, label = 'z', marker='o')\n",
        "plt.legend()\n",
        "# plt.ylim(19,10)\n",
        "plt.xlim(-5, 35)\n",
        "plt.show() "
      ],
      "metadata": {
        "colab": {
          "base_uri": "https://localhost:8080/",
          "height": 265
        },
        "id": "9aOP-JB_P8F7",
        "outputId": "901b025e-96c9-4dfc-8c2d-7db743c47d0d"
      },
      "execution_count": 21,
      "outputs": [
        {
          "output_type": "display_data",
          "data": {
            "text/plain": [
              "<Figure size 432x288 with 1 Axes>"
            ],
            "image/png": "[encoded data removed]"
          },
          "metadata": {
            "needs_background": "light"
          }
        }
      ]
    },
    {
      "cell_type": "code",
      "execution_count": 268,
      "metadata": {
        "id": "9FafFqGYWwV2"
      },
      "outputs": [],
      "source": [
        "# cosmo = FlatLambdaCDM(H0 = 73.24, Om0 = 0.28)\n",
        "# z = pyro.sample(\"z\", dist.Uniform(0.015, 0.08)).numpy()\n",
        "# mu_s = cosmo.distmod(z).value\n",
        "\n",
        "z = 0.018\n",
        "# mu_s = 31.\n",
        "\n",
        "z_helio = 0.06741 ## for AT2016aj\n",
        "EBV_MW = 0.0414 ## for AT2016aj\n",
        "\n",
        "z = z_helio\n",
        "\n",
        "ZPT = 27.5\n",
        "M0 = -19.5\n",
        "gamma = np.log(10) / 2.5\n",
        "\n",
        "# EBV_MW = 0.1\n",
        "Av_obs = EBV_MW * 3.1"
      ]
    },
    {
      "cell_type": "code",
      "execution_count": 269,
      "metadata": {
        "id": "3O3U1dd3wlGW"
      },
      "outputs": [],
      "source": [
        "hsiao_phase, hsiao_wave, hsiao_flux = read_model_grid()"
      ]
    },
    {
      "cell_type": "markdown",
      "metadata": {
        "id": "TqpkG4FUH6jF"
      },
      "source": [
        "Things we can pre-calculate\n",
        "---\n",
        "\n"
      ]
    },
    {
      "cell_type": "code",
      "execution_count": 270,
      "metadata": {
        "id": "d3FwBBvNNMUe"
      },
      "outputs": [],
      "source": [
        "def get_lambda_int_for_band(band_wavelengths, z = z):\n",
        "  source_wavelengths = band_wavelengths / (1 + z)\n",
        "  return np.linspace(np.min(source_wavelengths), np.max(source_wavelengths), 150)"
      ]
    },
    {
      "cell_type": "code",
      "execution_count": 271,
      "metadata": {
        "id": "RfUeX01sH3Cs"
      },
      "outputs": [],
      "source": [
        "# times_to_interpolate = np.linspace(-10, 40)\n",
        "times_to_interpolate = i_time.values\n",
        "wavelengths_to_interpolate = get_lambda_int_for_band(i_wavelengths)"
      ]
    },
    {
      "cell_type": "code",
      "execution_count": 272,
      "metadata": {
        "id": "2YhpMi-cIBLe"
      },
      "outputs": [],
      "source": [
        "Jt = spline_coeffs_irr(times_to_interpolate, time_knots, invKD_irr(time_knots))\n",
        "Jl = spline_coeffs_irr(wavelengths_to_interpolate, wavelength_knots, invKD_irr(wavelength_knots))"
      ]
    },
    {
      "cell_type": "code",
      "execution_count": 273,
      "metadata": {
        "colab": {
          "base_uri": "https://localhost:8080/"
        },
        "id": "mC0ECO3UISkT",
        "outputId": "0d6b5882-3479-4a5c-f2ad-ae73917ddc45"
      },
      "outputs": [
        {
          "output_type": "execute_result",
          "data": {
            "text/plain": [
              "(150, 6)"
            ]
          },
          "metadata": {},
          "execution_count": 273
        }
      ],
      "source": [
        "xis = extinction.fitzpatrick99(wavelengths_to_interpolate, 1, rv)\n",
        "xis_matrix = np.tile(xis, (len(times_to_interpolate),1)).T\n",
        "xis_matrix.shape"
      ]
    },
    {
      "cell_type": "code",
      "execution_count": 274,
      "metadata": {
        "id": "6Xg0FtqVODJf"
      },
      "outputs": [],
      "source": [
        "## interpolate Hsiao coefficient at desired time and wavelength points\n",
        "S0 = np.zeros((len(wavelengths_to_interpolate), len(times_to_interpolate)))\n",
        "for i, wavelength in enumerate(wavelengths_to_interpolate):\n",
        "  for j, time in enumerate(times_to_interpolate):\n",
        "    S0[i][j] = interpolate_hsiao(time, wavelength, hsiao_phase, hsiao_wave, hsiao_flux)"
      ]
    },
    {
      "cell_type": "code",
      "execution_count": 275,
      "metadata": {
        "colab": {
          "base_uri": "https://localhost:8080/"
        },
        "id": "BXSGedSqKkDv",
        "outputId": "e060c090-fd4f-45f7-8afa-252703f07d54"
      },
      "outputs": [
        {
          "output_type": "execute_result",
          "data": {
            "text/plain": [
              "(150,)"
            ]
          },
          "metadata": {},
          "execution_count": 275
        }
      ],
      "source": [
        "throughput_interpolator = interp1d(i_wavelengths, i_norm_throughput)\n",
        "b = throughput_interpolator(wavelengths_to_interpolate * (1 + z))\n",
        "\n",
        "xis_obs = extinction.fitzpatrick99(wavelengths_to_interpolate*(1 + z), Av_obs, 3.1)\n",
        "dLambda = wavelengths_to_interpolate[1] - wavelengths_to_interpolate[0]\n",
        "h = (1 + z) * dLambda * b * wavelengths_to_interpolate * np.exp(-gamma * xis_obs)\n",
        "h.shape"
      ]
    },
    {
      "cell_type": "markdown",
      "metadata": {
        "id": "cRfrnIM4KBQ1"
      },
      "source": [
        "Now let's actually make the model\n",
        "---"
      ]
    },
    {
      "cell_type": "code",
      "execution_count": 276,
      "metadata": {
        "id": "fbrCYURCMloV"
      },
      "outputs": [],
      "source": [
        "eps_cov = torch.as_tensor(np.matmul(L_sigma_epsilon, L_sigma_epsilon.T), dtype = torch.float)"
      ]
    },
    {
      "cell_type": "code",
      "execution_count": 277,
      "metadata": {
        "id": "8w6Dy5FwNlpL"
      },
      "outputs": [],
      "source": [
        "def get_flux_from_params(epsilon_interior, theta, mu_s, dMs, Av, W0 = W0, W1 = W1, xis_matrix = xis_matrix, S0 = S0, h = h, Jl = Jl, Jt = Jt):\n",
        "\n",
        "  epsilon = np.zeros_like(W0)   ## populate epsilon matrix\n",
        "  epsilon[1:-1] = epsilon_interior.numpy().reshape((9,6), order = 'F')\n",
        "\n",
        "  W = W0 + theta.numpy()*W1 + epsilon\n",
        "\n",
        "  JlWJt = np.matmul(Jl, np.matmul(W, Jt.T))\n",
        "\n",
        "  Stilde = S0 * np.exp(-gamma * (JlWJt + Av.numpy() * xis_matrix))\n",
        "\n",
        "  f = 10**(0.4 * (ZPT - mu_s.numpy() - M0 - dMs.numpy())) * np.matmul(h,Stilde)\n",
        "\n",
        "  return f"
      ]
    },
    {
      "cell_type": "code",
      "source": [
        "tauA"
      ],
      "metadata": {
        "colab": {
          "base_uri": "https://localhost:8080/"
        },
        "id": "5rlQXHtIV5nd",
        "outputId": "913b9ecc-f87f-429a-b1f7-e69c693b08fa"
      },
      "execution_count": 278,
      "outputs": [
        {
          "output_type": "execute_result",
          "data": {
            "text/plain": [
              "0.252"
            ]
          },
          "metadata": {},
          "execution_count": 278
        }
      ]
    },
    {
      "cell_type": "code",
      "source": [
        "pyro.sample(\"Av\", dist.Exponential(tauA))"
      ],
      "metadata": {
        "colab": {
          "base_uri": "https://localhost:8080/"
        },
        "id": "tcwG0GlXV3RO",
        "outputId": "c2706c82-5a4a-439c-9124-3f63b5c67da0"
      },
      "execution_count": 279,
      "outputs": [
        {
          "output_type": "execute_result",
          "data": {
            "text/plain": [
              "tensor(7.5113)"
            ]
          },
          "metadata": {},
          "execution_count": 279
        }
      ]
    },
    {
      "cell_type": "code",
      "execution_count": 280,
      "metadata": {
        "id": "ZJgVfDp0MTaT"
      },
      "outputs": [],
      "source": [
        "# def model_vi():\n",
        "#   epsilon_interior = pyro.sample(\"eps_int\", dist.MultivariateNormal(torch.zeros(len(eps_cov)), covariance_matrix = eps_cov))\n",
        "#   theta = pyro.sample(\"theta\", dist.Normal(torch.tensor(0.), torch.tensor(1.)))\n",
        "#   mu_s = pyro.sample(\"mu_s\", dist.Normal(34.5, 1.)) ## fix this later\n",
        "\n",
        "\n",
        "#   # dMs = pyro.sample(\"Ms\", dist.Normal(torch.tensor(0.), torch.tensor(sigma0)))\n",
        "#   dMs = torch.tensor(0.)\n",
        "#   # Av = pyro.sample(\"Av\", dist.Exponential(tauA))\n",
        "#   Av = pyro.sample(\"Av\", dist.Normal(0.27, 1.))\n",
        "\n",
        "#   epsilon = torch.zeros(W0.shape)   ## populate epsilon matrix\n",
        "#   epsilon[1:-1] = torch.transpose(torch.reshape(epsilon_interior, (6,9)), 0, 1)\n",
        "\n",
        "#   W = torch.as_tensor(W0) + theta*torch.as_tensor(W1) + epsilon\n",
        "\n",
        "#   JlWJt = torch.matmul(torch.as_tensor(Jl), torch.matmul(W, torch.as_tensor(Jt.T)))\n",
        "\n",
        "#   Stilde = torch.as_tensor(S0) * torch.exp(-gamma * (JlWJt + Av * torch.as_tensor(xis_matrix)))\n",
        "\n",
        "#   f = 10**(0.4 * ZPT - mu_s - M0 - dMs) * torch.matmul(torch.as_tensor(h), torch.as_tensor(Stilde))\n",
        "\n",
        "#   with pyro.plate(\"observations\", len(i_flux.values)):\n",
        "#     pyro.sample(\"flux\", dist.Normal(f, 200. * torch.ones(6)).independent(1), obs = torch.as_tensor(i_flux.values))"
      ]
    },
    {
      "cell_type": "code",
      "source": [
        "Av_obs"
      ],
      "metadata": {
        "colab": {
          "base_uri": "https://localhost:8080/"
        },
        "id": "3KoXeAVVJkVh",
        "outputId": "e909ecc4-9133-417c-97ef-cc2ce7897275"
      },
      "execution_count": 281,
      "outputs": [
        {
          "output_type": "execute_result",
          "data": {
            "text/plain": [
              "0.12834"
            ]
          },
          "metadata": {},
          "execution_count": 281
        }
      ]
    },
    {
      "cell_type": "code",
      "source": [
        "# times_to_interpolate = times\n",
        "\n",
        "wavelengths_dict = {'g':g_wavelengths, 'r':r_wavelengths, 'i':i_wavelengths, 'z':z_wavelengths}\n",
        "norm_throughput_dict = {'g':g_norm_throughput, 'r':r_norm_throughput, 'i':i_norm_throughput, 'z':z_norm_throughput}\n",
        "times_dict = {'g':g_time.values, 'r':r_time.values, 'i':i_time.values, 'z':z_time.values}\n",
        "\n",
        "bands = ['g', 'r', 'i', 'z']\n",
        "\n",
        "band_Jl = {}\n",
        "band_xis_matrix = {}\n",
        "band_S0 = {}\n",
        "band_h = {}\n",
        "band_Jt = {}\n",
        "\n",
        "for band in bands:\n",
        "  band_wavelengths = wavelengths_dict[band]\n",
        "  band_norm_throughput = norm_throughput_dict[band]\n",
        "\n",
        "  times_to_interpolate = times_dict[band]\n",
        "\n",
        "  Jt = spline_coeffs_irr(times_to_interpolate, time_knots, invKD_irr(time_knots))\n",
        "  band_Jt[band] = Jt\n",
        "\n",
        "  wavelengths_to_interpolate = get_lambda_int_for_band(band_wavelengths)\n",
        "  \n",
        "  Jl = spline_coeffs_irr(wavelengths_to_interpolate, wavelength_knots, invKD_irr(wavelength_knots))\n",
        "  band_Jl[band] = Jl\n",
        "  xis = extinction.fitzpatrick99(wavelengths_to_interpolate, 1, rv)\n",
        "  xis_matrix = np.tile(xis, (len(times_to_interpolate),1)).T\n",
        "  band_xis_matrix[band] = xis_matrix\n",
        "\n",
        "  S0 = np.zeros((len(wavelengths_to_interpolate), len(times_to_interpolate)))\n",
        "  for i, wavelength in enumerate(wavelengths_to_interpolate):\n",
        "    for j, time_point in enumerate(times_to_interpolate):\n",
        "      S0[i][j] = interpolate_hsiao(time_point, wavelength, hsiao_phase, hsiao_wave, hsiao_flux)\n",
        "\n",
        "  band_S0[band] = S0\n",
        "\n",
        "  throughput_interpolator = interp1d(band_wavelengths, band_norm_throughput)\n",
        "  b = throughput_interpolator([band_wavelengths[0]] + list(wavelengths_to_interpolate[1:-1] * (1 + z)) + [band_wavelengths[-1]])\n",
        "\n",
        "  xis_obs = extinction.fitzpatrick99(wavelengths_to_interpolate*(1 + z), Av_obs, 3.1)\n",
        "  dLambda = wavelengths_to_interpolate[1] - wavelengths_to_interpolate[0]\n",
        "  h = (1 + z) * dLambda * b * wavelengths_to_interpolate * np.exp(-gamma * xis_obs)\n",
        "\n",
        "  band_h[band] = h\n",
        "\n",
        "#   band_flux = get_flux_from_params(torch.as_tensor(true_epsilon_interior), torch.as_tensor(true_theta), \n",
        "#                               torch.as_tensor(true_mu_s), torch.as_tensor(dMs), torch.as_tensor(true_Av),\n",
        "#                               xis_matrix = xis_matrix, S0 = S0, h = h, Jt = Jt, Jl = Jl)\n",
        "  \n",
        "#   all_band_fluxes.append(band_flux)\n",
        "\n",
        "# all_band_fluxes = np.array(all_band_fluxes)"
      ],
      "metadata": {
        "id": "6MBF0bhAQkrV"
      },
      "execution_count": 282,
      "outputs": []
    },
    {
      "cell_type": "code",
      "source": [
        "flux_errors = [(torch.as_tensor(g_fluxerr.values), torch.as_tensor(r_fluxerr.values), torch.as_tensor(i_fluxerr.values), torch.as_tensor(z_fluxerr.values))]"
      ],
      "metadata": {
        "id": "mC_Gn5KjfSHu"
      },
      "execution_count": 283,
      "outputs": []
    },
    {
      "cell_type": "code",
      "source": [
        "def model_vi(obs):\n",
        "  # epsilon_interior = pyro.sample(\"eps_int\", dist.MultivariateNormal(torch.zeros(len(eps_cov)), covariance_matrix = eps_cov))\n",
        "\n",
        "  nu = pyro.sample(\"nu\", dist.MultivariateNormal(torch.zeros(len(eps_cov)), covariance_matrix = torch.eye(len(eps_cov))))\n",
        "  # nu = torch.zeros(54)\n",
        "  epsilon_interior = torch.matmul(torch.as_tensor(L_sigma_epsilon, dtype = torch.float), nu)\n",
        "  # print(epsilon_interior)\n",
        "\n",
        "  # theta = pyro.sample(\"theta\", dist.Uniform(low=-1.49, high=2.77))\n",
        "  theta = pyro.sample(\"theta\", dist.Normal(0., 1.0))\n",
        "  # theta = torch.as_tensor(0.03430605)\n",
        "\n",
        "  # theta = torch.as_tensor(-0.9835187)\n",
        "  cosmo = FlatLambdaCDM(H0 = 73.24, Om0 = 0.28)\n",
        "  mu_s = pyro.sample(\"mu_s\", dist.Normal(cosmo.distmod(z_helio).value, 10.)) ## fix this later\n",
        "  # mu_s = torch.as_tensor(37.248927127193724)\n",
        "\n",
        "  # dMs = pyro.sample(\"Ms\", dist.Normal(torch.tensor(0.), torch.tensor(sigma0)))\n",
        "  dMs = torch.tensor(0.)\n",
        "  Av = pyro.sample(\"Av\", dist.Exponential(1 / 0.252))\n",
        "  # Av = torch.tensor(7.2387767)\n",
        "  # Av = pyro.sample(\"Av\", dist.Normal(0.27, 1.))\n",
        "\n",
        "  epsilon = torch.zeros(W0.shape)   ## populate epsilon matrix\n",
        "  epsilon[1:-1] = torch.transpose(torch.reshape(epsilon_interior, (6,9)), 0, 1)\n",
        "\n",
        "  W = torch.as_tensor(W0) + theta*torch.as_tensor(W1) + epsilon\n",
        "\n",
        "  generated_fluxes = []\n",
        "\n",
        "  for band in bands:\n",
        "    Jl = band_Jl[band]\n",
        "    S0 = band_S0[band]\n",
        "    xis_matrix = band_xis_matrix[band]\n",
        "    h = band_h[band]\n",
        "    Jt = band_Jt[band]\n",
        "\n",
        "    JlWJt = torch.matmul(torch.as_tensor(Jl), torch.matmul(W, torch.as_tensor(Jt.T)))\n",
        "\n",
        "    Stilde = torch.as_tensor(S0) * torch.exp(-gamma * (JlWJt + Av * torch.as_tensor(xis_matrix)))\n",
        "\n",
        "    f = 10**(0.4 * (torch.as_tensor(ZPT) - mu_s - torch.as_tensor(M0) - dMs)) * torch.matmul(torch.as_tensor(h), torch.as_tensor(Stilde))\n",
        "    generated_fluxes.append(f)\n",
        "\n",
        "  # generated_fluxes = torch.stack(generated_fluxes)\n",
        "  # print(generated_fluxes)\n",
        "  \n",
        "  if obs is not None:\n",
        "    # for i in range(len(bands)):\n",
        "    for i in pyro.plate(\"bands\", len(bands)):\n",
        "      # print(i)\n",
        "      with pyro.plate(\"observations\" + str(bands[i])):\n",
        "        # print(len(generated_fluxes[i]))\n",
        "        # for j in range(len(generated_fluxes[i])):\n",
        "          pyro.sample(\"flux\" + str(bands[i]), dist.Normal(generated_fluxes[i], flux_errors[0][i]), obs = obs[0][i])\n",
        "          # print(obs[0][i][j])\n",
        "        # print(generated_fluxes[i])"
      ],
      "metadata": {
        "id": "f4PUOZD-OX_K"
      },
      "execution_count": 284,
      "outputs": []
    },
    {
      "cell_type": "code",
      "source": [
        "observed_fluxes = [(torch.as_tensor(g_flux.values), torch.as_tensor(r_flux.values), torch.as_tensor(i_flux.values), torch.as_tensor(z_flux.values))]"
      ],
      "metadata": {
        "id": "WV_e5O4VQ2IW"
      },
      "execution_count": 285,
      "outputs": []
    },
    {
      "cell_type": "code",
      "source": [
        "observed_fluxes"
      ],
      "metadata": {
        "colab": {
          "base_uri": "https://localhost:8080/"
        },
        "id": "sEB3JOmsfGCj",
        "outputId": "ff526b05-57e3-4f41-803c-744b7db041f3"
      },
      "execution_count": 286,
      "outputs": [
        {
          "output_type": "execute_result",
          "data": {
            "text/plain": [
              "[(tensor([4005.5530, 4352.0480, 3297.3020, 1835.4070, 1048.1200,  412.0150],\n",
              "         dtype=torch.float64),\n",
              "  tensor([3676.0450, 4759.6250, 3742.9230, 2771.0850, 2079.0390, 1046.1990],\n",
              "         dtype=torch.float64),\n",
              "  tensor([3090.3530, 2855.2300, 2249.6650, 1691.2290, 1799.4850, 1096.8880],\n",
              "         dtype=torch.float64),\n",
              "  tensor([2641.7600, 1720.9680, 1640.4210, 1150.3210, 1282.1910],\n",
              "         dtype=torch.float64))]"
            ]
          },
          "metadata": {},
          "execution_count": 286
        }
      ]
    },
    {
      "cell_type": "code",
      "source": [
        "flux_errors"
      ],
      "metadata": {
        "colab": {
          "base_uri": "https://localhost:8080/"
        },
        "id": "CG8xJJ4VfPr_",
        "outputId": "5626ffea-5a96-42d2-e0da-ec5c34cba8a8"
      },
      "execution_count": 287,
      "outputs": [
        {
          "output_type": "execute_result",
          "data": {
            "text/plain": [
              "[(tensor([227.0470, 146.6630, 142.8170, 122.8200, 213.6210, 102.0220],\n",
              "         dtype=torch.float64),\n",
              "  tensor([165.0210, 142.7150, 142.8040, 126.0320, 152.1720,  97.9100],\n",
              "         dtype=torch.float64),\n",
              "  tensor([160.9570, 136.3000, 173.2550, 117.7470, 152.3770, 105.5380],\n",
              "         dtype=torch.float64),\n",
              "  tensor([204.7040, 236.1660, 173.7900, 231.6740, 157.4260], dtype=torch.float64))]"
            ]
          },
          "metadata": {},
          "execution_count": 287
        }
      ]
    },
    {
      "cell_type": "code",
      "source": [
        "observed_fluxes"
      ],
      "metadata": {
        "colab": {
          "base_uri": "https://localhost:8080/"
        },
        "id": "zh4ad-f4ZDCD",
        "outputId": "37e135a0-6d5c-4d48-f1d9-e5f4483695e9"
      },
      "execution_count": 288,
      "outputs": [
        {
          "output_type": "execute_result",
          "data": {
            "text/plain": [
              "[(tensor([4005.5530, 4352.0480, 3297.3020, 1835.4070, 1048.1200,  412.0150],\n",
              "         dtype=torch.float64),\n",
              "  tensor([3676.0450, 4759.6250, 3742.9230, 2771.0850, 2079.0390, 1046.1990],\n",
              "         dtype=torch.float64),\n",
              "  tensor([3090.3530, 2855.2300, 2249.6650, 1691.2290, 1799.4850, 1096.8880],\n",
              "         dtype=torch.float64),\n",
              "  tensor([2641.7600, 1720.9680, 1640.4210, 1150.3210, 1282.1910],\n",
              "         dtype=torch.float64))]"
            ]
          },
          "metadata": {},
          "execution_count": 288
        }
      ]
    },
    {
      "cell_type": "code",
      "source": [
        "other_tensor = torch.as_tensor(np.array([[52404.7879, 58130.4852, 46895.5337, 29594.8725, 17534.0982, 11053.1069],\n",
        "        [48598.4592, 57606.4501, 51917.4832, 38853.5554, 30378.8843, 24328.2872],\n",
        "        [40029.6385, 34592.7530, 29652.9017, 23438.5865, 22959.2071, 21189.7540],\n",
        "        [30952.7222, 34969.4993, 35130.8207, 31905.8129, 28952.3929, 26269.5857]]))"
      ],
      "metadata": {
        "id": "cyrUxpO0ZM8i"
      },
      "execution_count": 289,
      "outputs": []
    },
    {
      "cell_type": "code",
      "source": [
        "len(other_tensor[0])"
      ],
      "metadata": {
        "colab": {
          "base_uri": "https://localhost:8080/"
        },
        "id": "zfeFNklJl-jf",
        "outputId": "a86bc5d0-6ea2-416e-e94e-1901b04c6d4b"
      },
      "execution_count": 290,
      "outputs": [
        {
          "output_type": "execute_result",
          "data": {
            "text/plain": [
              "6"
            ]
          },
          "metadata": {},
          "execution_count": 290
        }
      ]
    },
    {
      "cell_type": "code",
      "execution_count": 291,
      "metadata": {
        "id": "S2qPe0hjTVFZ"
      },
      "outputs": [],
      "source": [
        "model_vi(obs = observed_fluxes)"
      ]
    },
    {
      "cell_type": "code",
      "source": [
        "EBV_MW"
      ],
      "metadata": {
        "colab": {
          "base_uri": "https://localhost:8080/"
        },
        "id": "nPpuNwyj95Ps",
        "outputId": "0eee3e34-62be-4190-e7cf-d2f26ca56ea3"
      },
      "execution_count": 292,
      "outputs": [
        {
          "output_type": "execute_result",
          "data": {
            "text/plain": [
              "0.0414"
            ]
          },
          "metadata": {},
          "execution_count": 292
        }
      ]
    },
    {
      "cell_type": "code",
      "execution_count": 293,
      "metadata": {
        "colab": {
          "base_uri": "https://localhost:8080/",
          "height": 393
        },
        "id": "D5Hg_GDINHxQ",
        "outputId": "4ce86c27-b94f-4f33-f2df-986e357b2bf1"
      },
      "outputs": [
        {
          "output_type": "execute_result",
          "data": {
            "text/plain": [
              "<graphviz.dot.Digraph at 0x7f5092d215d0>"
            ],
            "image/svg+xml": "<?xml version=\"1.0\" encoding=\"UTF-8\" standalone=\"no\"?>\n<!DOCTYPE svg PUBLIC \"-//W3C//DTD SVG 1.1//EN\"\n \"http://www.w3.org/Graphics/SVG/1.1/DTD/svg11.dtd\">\n<!-- Generated by graphviz version 2.40.1 (20161225.0304)\n -->\n<!-- Title: %3 Pages: 1 -->\n<svg width=\"508pt\" height=\"278pt\"\n viewBox=\"0.00 0.00 507.50 278.00\" xmlns=\"http://www.w3.org/2000/svg\" xmlns:xlink=\"http://www.w3.org/1999/xlink\">\n<g id=\"graph0\" class=\"graph\" transform=\"scale(1 1) rotate(0) translate(4 274)\">\n<title>%3</title>\n<polygon fill=\"#ffffff\" stroke=\"transparent\" points=\"-4,4 -4,-274 503.5,-274 503.5,4 -4,4\"/>\n<g id=\"clust1\" class=\"cluster\">\n<title>cluster_bands</title>\n<polygon fill=\"none\" stroke=\"#000000\" points=\"8,-8 8,-122 424,-122 424,-8 8,-8\"/>\n<text text-anchor=\"middle\" x=\"399\" y=\"-15.8\" font-family=\"Times,serif\" font-size=\"14.00\" fill=\"#000000\">bands</text>\n</g>\n<g id=\"clust2\" class=\"cluster\">\n<title>cluster_observationsg</title>\n<polygon fill=\"none\" stroke=\"#000000\" points=\"320,-39 320,-114 416,-114 416,-39 320,-39\"/>\n<text text-anchor=\"middle\" x=\"368\" y=\"-46.8\" font-family=\"Times,serif\" font-size=\"14.00\" fill=\"#000000\">observationsg</text>\n</g>\n<g id=\"clust3\" class=\"cluster\">\n<title>cluster_observationsr</title>\n<polygon fill=\"none\" stroke=\"#000000\" points=\"219,-39 219,-114 312,-114 312,-39 219,-39\"/>\n<text text-anchor=\"middle\" x=\"265.5\" y=\"-46.8\" font-family=\"Times,serif\" font-size=\"14.00\" fill=\"#000000\">observationsr</text>\n</g>\n<g id=\"clust4\" class=\"cluster\">\n<title>cluster_observationsi</title>\n<polygon fill=\"none\" stroke=\"#000000\" points=\"119,-39 119,-114 211,-114 211,-39 119,-39\"/>\n<text text-anchor=\"middle\" x=\"165\" y=\"-46.8\" font-family=\"Times,serif\" font-size=\"14.00\" fill=\"#000000\">observationsi</text>\n</g>\n<g id=\"clust5\" class=\"cluster\">\n<title>cluster_observationsz</title>\n<polygon fill=\"none\" stroke=\"#000000\" points=\"16,-39 16,-114 111,-114 111,-39 16,-39\"/>\n<text text-anchor=\"middle\" x=\"63.5\" y=\"-46.8\" font-family=\"Times,serif\" font-size=\"14.00\" fill=\"#000000\">observationsz</text>\n</g>\n<!-- nu -->\n<g id=\"node1\" class=\"node\">\n<title>nu</title>\n<ellipse fill=\"#ffffff\" stroke=\"#000000\" cx=\"67\" cy=\"-206\" rx=\"27\" ry=\"18\"/>\n<text text-anchor=\"middle\" x=\"67\" y=\"-202.3\" font-family=\"Times,serif\" font-size=\"14.00\" fill=\"#000000\">nu</text>\n</g>\n<!-- theta -->\n<g id=\"node2\" class=\"node\">\n<title>theta</title>\n<ellipse fill=\"#ffffff\" stroke=\"#000000\" cx=\"213\" cy=\"-206\" rx=\"28.6953\" ry=\"18\"/>\n<text text-anchor=\"middle\" x=\"213\" y=\"-202.3\" font-family=\"Times,serif\" font-size=\"14.00\" fill=\"#000000\">theta</text>\n</g>\n<!-- fluxg -->\n<g id=\"node5\" class=\"node\">\n<title>fluxg</title>\n<ellipse fill=\"#c0c0c0\" stroke=\"#000000\" cx=\"359\" cy=\"-88\" rx=\"30.5947\" ry=\"18\"/>\n<text text-anchor=\"middle\" x=\"359\" y=\"-84.3\" font-family=\"Times,serif\" font-size=\"14.00\" fill=\"#000000\">fluxg</text>\n</g>\n<!-- theta&#45;&gt;fluxg -->\n<g id=\"edge3\" class=\"edge\">\n<title>theta&#45;&gt;fluxg</title>\n<path fill=\"none\" stroke=\"#000000\" d=\"M219.3153,-188.3342C225.3397,-173.8995 235.768,-153.9871 251,-142 274.7524,-123.3077 289.243,-136.0585 316,-122 322.3397,-118.669 328.6678,-114.3586 334.4432,-109.9323\"/>\n<polygon fill=\"#000000\" stroke=\"#000000\" points=\"336.8684,-112.4725 342.4465,-103.4649 332.4687,-107.0279 336.8684,-112.4725\"/>\n</g>\n<!-- fluxr -->\n<g id=\"node6\" class=\"node\">\n<title>fluxr</title>\n<ellipse fill=\"#c0c0c0\" stroke=\"#000000\" cx=\"256\" cy=\"-88\" rx=\"28.6953\" ry=\"18\"/>\n<text text-anchor=\"middle\" x=\"256\" y=\"-84.3\" font-family=\"Times,serif\" font-size=\"14.00\" fill=\"#000000\">fluxr</text>\n</g>\n<!-- theta&#45;&gt;fluxr -->\n<g id=\"edge6\" class=\"edge\">\n<title>theta&#45;&gt;fluxr</title>\n<path fill=\"none\" stroke=\"#000000\" d=\"M219.4375,-188.3342C226.4673,-169.0433 237.8144,-137.9047 246.0045,-115.4296\"/>\n<polygon fill=\"#000000\" stroke=\"#000000\" points=\"249.383,-116.3805 249.5185,-105.7866 242.8061,-113.9838 249.383,-116.3805\"/>\n</g>\n<!-- fluxi -->\n<g id=\"node7\" class=\"node\">\n<title>fluxi</title>\n<ellipse fill=\"#c0c0c0\" stroke=\"#000000\" cx=\"174\" cy=\"-88\" rx=\"28.6953\" ry=\"18\"/>\n<text text-anchor=\"middle\" x=\"174\" y=\"-84.3\" font-family=\"Times,serif\" font-size=\"14.00\" fill=\"#000000\">fluxi</text>\n</g>\n<!-- theta&#45;&gt;fluxi -->\n<g id=\"edge9\" class=\"edge\">\n<title>theta&#45;&gt;fluxi</title>\n<path fill=\"none\" stroke=\"#000000\" d=\"M207.1613,-188.3342C200.7855,-169.0433 190.4939,-137.9047 183.0657,-115.4296\"/>\n<polygon fill=\"#000000\" stroke=\"#000000\" points=\"186.34,-114.183 179.8786,-105.7866 179.6936,-116.3798 186.34,-114.183\"/>\n</g>\n<!-- fluxz -->\n<g id=\"node8\" class=\"node\">\n<title>fluxz</title>\n<ellipse fill=\"#c0c0c0\" stroke=\"#000000\" cx=\"73\" cy=\"-88\" rx=\"29.795\" ry=\"18\"/>\n<text text-anchor=\"middle\" x=\"73\" y=\"-84.3\" font-family=\"Times,serif\" font-size=\"14.00\" fill=\"#000000\">fluxz</text>\n</g>\n<!-- theta&#45;&gt;fluxz -->\n<g id=\"edge12\" class=\"edge\">\n<title>theta&#45;&gt;fluxz</title>\n<path fill=\"none\" stroke=\"#000000\" d=\"M206.6125,-188.4249C200.544,-174.0454 190.0917,-154.1634 175,-142 153.1143,-124.3609 139.6528,-135.5042 115,-122 108.8085,-118.6084 102.628,-114.273 96.987,-109.8417\"/>\n<polygon fill=\"#000000\" stroke=\"#000000\" points=\"99.1072,-107.0533 89.1697,-103.3793 94.6471,-112.4485 99.1072,-107.0533\"/>\n</g>\n<!-- mu_s -->\n<g id=\"node3\" class=\"node\">\n<title>mu_s</title>\n<ellipse fill=\"#ffffff\" stroke=\"#000000\" cx=\"291\" cy=\"-206\" rx=\"31.3957\" ry=\"18\"/>\n<text text-anchor=\"middle\" x=\"291\" y=\"-202.3\" font-family=\"Times,serif\" font-size=\"14.00\" fill=\"#000000\">mu_s</text>\n</g>\n<!-- mu_s&#45;&gt;fluxg -->\n<g id=\"edge1\" class=\"edge\">\n<title>mu_s&#45;&gt;fluxg</title>\n<path fill=\"none\" stroke=\"#000000\" d=\"M300.8878,-188.8418C312.2189,-169.1789 330.9115,-136.7418 344.0295,-113.9783\"/>\n<polygon fill=\"#000000\" stroke=\"#000000\" points=\"347.1398,-115.5908 349.1003,-105.1789 341.0747,-112.0957 347.1398,-115.5908\"/>\n</g>\n<!-- mu_s&#45;&gt;fluxr -->\n<g id=\"edge4\" class=\"edge\">\n<title>mu_s&#45;&gt;fluxr</title>\n<path fill=\"none\" stroke=\"#000000\" d=\"M285.6843,-188.0783C279.9464,-168.7334 270.7391,-137.692 264.0994,-115.3066\"/>\n<polygon fill=\"#000000\" stroke=\"#000000\" points=\"267.4503,-114.2955 261.2511,-105.7037 260.7393,-116.2862 267.4503,-114.2955\"/>\n</g>\n<!-- mu_s&#45;&gt;fluxi -->\n<g id=\"edge7\" class=\"edge\">\n<title>mu_s&#45;&gt;fluxi</title>\n<path fill=\"none\" stroke=\"#000000\" d=\"M283.1569,-188.5695C276.2329,-174.6586 265.0608,-155.3547 251,-142 237.7286,-129.3951 230.1093,-132.3306 215,-122 209.4896,-118.2324 203.8268,-113.8861 198.5357,-109.5871\"/>\n<polygon fill=\"#000000\" stroke=\"#000000\" points=\"200.5209,-106.685 190.6024,-102.9603 196.0333,-112.0573 200.5209,-106.685\"/>\n</g>\n<!-- mu_s&#45;&gt;fluxz -->\n<g id=\"edge10\" class=\"edge\">\n<title>mu_s&#45;&gt;fluxz</title>\n<path fill=\"none\" stroke=\"#000000\" d=\"M284.8121,-188.2911C278.6451,-173.4184 267.6689,-152.8996 251,-142 199.8667,-108.5645 170.9512,-146.5358 115,-122 108.4193,-119.1142 102.0167,-114.9117 96.2748,-110.4387\"/>\n<polygon fill=\"#000000\" stroke=\"#000000\" points=\"98.2984,-107.5675 88.3909,-103.8134 93.7949,-112.9265 98.2984,-107.5675\"/>\n</g>\n<!-- Av -->\n<g id=\"node4\" class=\"node\">\n<title>Av</title>\n<ellipse fill=\"#ffffff\" stroke=\"#000000\" cx=\"139\" cy=\"-206\" rx=\"27\" ry=\"18\"/>\n<text text-anchor=\"middle\" x=\"139\" y=\"-202.3\" font-family=\"Times,serif\" font-size=\"14.00\" fill=\"#000000\">Av</text>\n</g>\n<!-- Av&#45;&gt;fluxg -->\n<g id=\"edge2\" class=\"edge\">\n<title>Av&#45;&gt;fluxg</title>\n<path fill=\"none\" stroke=\"#000000\" d=\"M144.0766,-188.309C149.3113,-173.4478 159.0034,-152.9358 175,-142 227.2511,-106.2796 257.8257,-146.9375 316,-122 322.6998,-119.128 329.2398,-114.931 335.1158,-110.4589\"/>\n<polygon fill=\"#000000\" stroke=\"#000000\" points=\"337.6809,-112.8816 343.191,-103.8323 333.2404,-107.4703 337.6809,-112.8816\"/>\n</g>\n<!-- Av&#45;&gt;fluxr -->\n<g id=\"edge5\" class=\"edge\">\n<title>Av&#45;&gt;fluxr</title>\n<path fill=\"none\" stroke=\"#000000\" d=\"M145.5207,-188.3867C151.4401,-174.3697 161.3375,-155.0123 175,-142 189.3929,-128.2921 198.3525,-132.8592 215,-122 220.591,-118.353 226.2889,-114.0593 231.5889,-109.7736\"/>\n<polygon fill=\"#000000\" stroke=\"#000000\" points=\"234.094,-112.2412 239.5174,-103.1396 229.602,-106.8726 234.094,-112.2412\"/>\n</g>\n<!-- Av&#45;&gt;fluxi -->\n<g id=\"edge8\" class=\"edge\">\n<title>Av&#45;&gt;fluxi</title>\n<path fill=\"none\" stroke=\"#000000\" d=\"M144.2399,-188.3342C149.9617,-169.0433 159.1978,-137.9047 165.8641,-115.4296\"/>\n<polygon fill=\"#000000\" stroke=\"#000000\" points=\"169.2361,-116.369 168.7243,-105.7866 162.5251,-114.3784 169.2361,-116.369\"/>\n</g>\n<!-- Av&#45;&gt;fluxz -->\n<g id=\"edge11\" class=\"edge\">\n<title>Av&#45;&gt;fluxz</title>\n<path fill=\"none\" stroke=\"#000000\" d=\"M129.5438,-189.0935C118.5792,-169.4901 100.3789,-136.9501 87.5955,-114.095\"/>\n<polygon fill=\"#000000\" stroke=\"#000000\" points=\"90.5895,-112.2779 82.6533,-105.2589 84.4802,-115.695 90.5895,-112.2779\"/>\n</g>\n<!-- distribution_description_node -->\n<g id=\"node9\" class=\"node\">\n<title>distribution_description_node</title>\n<text text-anchor=\"start\" x=\"348.5\" y=\"-254.8\" font-family=\"Times,serif\" font-size=\"14.00\" fill=\"#000000\">nu ~ MultivariateNormal</text>\n<text text-anchor=\"start\" x=\"348.5\" y=\"-239.8\" font-family=\"Times,serif\" font-size=\"14.00\" fill=\"#000000\">theta ~ Normal</text>\n<text text-anchor=\"start\" x=\"348.5\" y=\"-224.8\" font-family=\"Times,serif\" font-size=\"14.00\" fill=\"#000000\">mu_s ~ Normal</text>\n<text text-anchor=\"start\" x=\"348.5\" y=\"-209.8\" font-family=\"Times,serif\" font-size=\"14.00\" fill=\"#000000\">Av ~ Exponential</text>\n<text text-anchor=\"start\" x=\"348.5\" y=\"-194.8\" font-family=\"Times,serif\" font-size=\"14.00\" fill=\"#000000\">fluxg ~ Normal</text>\n<text text-anchor=\"start\" x=\"348.5\" y=\"-179.8\" font-family=\"Times,serif\" font-size=\"14.00\" fill=\"#000000\">fluxr ~ Normal</text>\n<text text-anchor=\"start\" x=\"348.5\" y=\"-164.8\" font-family=\"Times,serif\" font-size=\"14.00\" fill=\"#000000\">fluxi ~ Normal</text>\n<text text-anchor=\"start\" x=\"348.5\" y=\"-149.8\" font-family=\"Times,serif\" font-size=\"14.00\" fill=\"#000000\">fluxz ~ Normal</text>\n</g>\n</g>\n</svg>\n"
          },
          "metadata": {},
          "execution_count": 293
        }
      ],
      "source": [
        "pyro.render_model(model_vi, model_args = (observed_fluxes,), render_distributions=True, render_params = True)"
      ]
    },
    {
      "cell_type": "code",
      "execution_count": 294,
      "metadata": {
        "id": "Paf6nwlaQWU_"
      },
      "outputs": [],
      "source": [
        "autoguide_vi = pyro.infer.autoguide.AutoMultivariateNormal(model_vi, init_loc_fn = pyro.infer.autoguide.initialization.init_to_sample(), init_scale = 1.)"
      ]
    },
    {
      "cell_type": "code",
      "execution_count": 295,
      "metadata": {
        "id": "3NK3RzAYbJ88"
      },
      "outputs": [],
      "source": [
        "pyro.get_param_store().clear()\n",
        "adam = pyro.optim.Adam({\"lr\": 0.001, \"betas\": (0.90, 0.999)}, {\"clip_norm\": 10.0})\n",
        "# adam = pyro.optim.SGD({\"lr\": 0.1})\n",
        "\n",
        "\n",
        "svi = SVI(model_vi, autoguide_vi, adam, loss=Trace_ELBO().differentiable_loss)\n",
        "# svi = SVI(model_vi, custom_guide, adam, loss=Trace_ELBO().differentiable_loss)\n",
        "\n",
        "for i in range(10):\n",
        "  svi.step(observed_fluxes)"
      ]
    },
    {
      "cell_type": "code",
      "execution_count": 296,
      "metadata": {
        "id": "JABvOkWTa68Q"
      },
      "outputs": [],
      "source": [
        "def train(model, guide, lr=0.01, n_steps=5000, verbose = True):\n",
        "    pyro.get_param_store().clear()\n",
        "    adam_params = {\"lr\": lr, \"betas\": (0.95, 0.999)}\n",
        "    # adam = pyro.optim.Adam({\"lr\": 0.05}, {\"clip_norm\": 10.0})\n",
        "    adam = pyro.optim.ClippedAdam(adam_params)\n",
        "    svi = SVI(model, guide, adam, loss=Trace_ELBO())\n",
        "    losses = []\n",
        "    losses_every_500 = []\n",
        "\n",
        "    for step in range(n_steps):\n",
        "        loss = svi.step(observed_fluxes)\n",
        "        losses.append(loss)\n",
        "        if verbose and step % 500 == 0:\n",
        "            print('[iter {}]  loss: {:.4f}'.format(step, loss))\n",
        "            losses_every_500.append(loss)\n",
        "            ## if it hasn't decreased in 3 steps, end fitting\n",
        "            # if step > 2000:\n",
        "            #  if losses_every_500[-1] >= losses_every_500[-2] and losses_every_500[-2] >= losses_every_500[-3]:\n",
        "            #   break\n",
        "    return losses"
      ]
    },
    {
      "cell_type": "code",
      "execution_count": 297,
      "metadata": {
        "colab": {
          "base_uri": "https://localhost:8080/"
        },
        "id": "XpUjDOukUqdV",
        "outputId": "d20cc21e-0452-45d7-a559-29a3cca3ef71"
      },
      "outputs": [
        {
          "output_type": "stream",
          "name": "stdout",
          "text": [
            "[iter 0]  loss: 2271690254706.6357\n",
            "[iter 500]  loss: 3731.9517\n",
            "[iter 1000]  loss: 2957.4548\n",
            "[iter 1500]  loss: 2397.2028\n",
            "[iter 2000]  loss: 912.0327\n",
            "[iter 2500]  loss: 239.2216\n",
            "[iter 3000]  loss: 191.8440\n",
            "[iter 3500]  loss: 167.8245\n",
            "[iter 4000]  loss: 165.8603\n",
            "[iter 4500]  loss: 168.4292\n",
            "[iter 5000]  loss: 170.4464\n",
            "[iter 5500]  loss: 166.6989\n",
            "[iter 6000]  loss: 170.9297\n",
            "[iter 6500]  loss: 173.6898\n",
            "[iter 7000]  loss: 166.0738\n",
            "[iter 7500]  loss: 169.2839\n",
            "[iter 8000]  loss: 168.7550\n",
            "[iter 8500]  loss: 166.2865\n",
            "[iter 9000]  loss: 171.5698\n",
            "[iter 9500]  loss: 169.1067\n",
            "[iter 10000]  loss: 167.5600\n",
            "[iter 10500]  loss: 168.1562\n",
            "[iter 11000]  loss: 166.9325\n",
            "[iter 11500]  loss: 165.9392\n",
            "[iter 12000]  loss: 166.3792\n",
            "[iter 12500]  loss: 166.4750\n",
            "[iter 13000]  loss: 172.4149\n",
            "[iter 13500]  loss: 169.2759\n",
            "[iter 14000]  loss: 165.0055\n",
            "[iter 14500]  loss: 166.5867\n",
            "[iter 15000]  loss: 172.7780\n",
            "[iter 15500]  loss: 169.2960\n",
            "[iter 16000]  loss: 171.4317\n",
            "[iter 16500]  loss: 166.9026\n",
            "[iter 17000]  loss: 184.2452\n",
            "[iter 17500]  loss: 184.6933\n",
            "[iter 18000]  loss: 165.6692\n",
            "[iter 18500]  loss: 184.1762\n",
            "[iter 19000]  loss: 169.9593\n",
            "[iter 19500]  loss: 166.8008\n",
            "Time: 219.08625507354736 seconds\n"
          ]
        }
      ],
      "source": [
        "start_time = measure_time.time()\n",
        "losses = train(model_vi, autoguide_vi, lr = 0.01, n_steps = 20000)\n",
        "end_time = measure_time.time()\n",
        "print(\"Time:\", end_time - start_time, \"seconds\")"
      ]
    },
    {
      "cell_type": "code",
      "execution_count": 298,
      "metadata": {
        "colab": {
          "base_uri": "https://localhost:8080/",
          "height": 294
        },
        "id": "DJOUXytNUr2E",
        "outputId": "595805a9-2b9e-4a0a-b503-ebf000da0270"
      },
      "outputs": [
        {
          "output_type": "execute_result",
          "data": {
            "text/plain": [
              "[<matplotlib.lines.Line2D at 0x7f508d42b650>]"
            ]
          },
          "metadata": {},
          "execution_count": 298
        },
        {
          "output_type": "display_data",
          "data": {
            "text/plain": [
              "<Figure size 432x288 with 1 Axes>"
            ],
            "image/png": "[encoded data removed]"
          },
          "metadata": {
            "needs_background": "light"
          }
        }
      ],
      "source": [
        "plt.plot(losses)"
      ]
    },
    {
      "cell_type": "code",
      "execution_count": 299,
      "metadata": {
        "colab": {
          "base_uri": "https://localhost:8080/"
        },
        "id": "kURN_Tgoki_1",
        "outputId": "9aedc3b0-be88-4a95-fba6-689bd833d773"
      },
      "outputs": [
        {
          "output_type": "execute_result",
          "data": {
            "text/plain": [
              "tensor(0.5801)"
            ]
          },
          "metadata": {},
          "execution_count": 299
        }
      ],
      "source": [
        "autoguide_vi.median()['theta']"
      ]
    },
    {
      "cell_type": "code",
      "execution_count": 300,
      "metadata": {
        "colab": {
          "base_uri": "https://localhost:8080/"
        },
        "id": "z2ZYBBM4uyfA",
        "outputId": "766c1bd6-2d23-4fc6-d9d0-bf451d391ce9"
      },
      "outputs": [
        {
          "output_type": "execute_result",
          "data": {
            "text/plain": [
              "tensor(0.2484)"
            ]
          },
          "metadata": {},
          "execution_count": 300
        }
      ],
      "source": [
        "autoguide_vi.median()['Av']"
      ]
    },
    {
      "cell_type": "code",
      "execution_count": 301,
      "metadata": {
        "colab": {
          "base_uri": "https://localhost:8080/"
        },
        "id": "aAaKb6Pdu0fJ",
        "outputId": "deb02eb2-e054-49bd-bb04-504911b31ef8"
      },
      "outputs": [
        {
          "output_type": "execute_result",
          "data": {
            "text/plain": [
              "tensor(37.2247)"
            ]
          },
          "metadata": {},
          "execution_count": 301
        }
      ],
      "source": [
        "autoguide_vi.median()['mu_s']"
      ]
    },
    {
      "cell_type": "code",
      "execution_count": 302,
      "metadata": {
        "colab": {
          "base_uri": "https://localhost:8080/"
        },
        "id": "1faaFD1nu3OK",
        "outputId": "bbfd2131-1581-4e05-e876-6ef42fb76569"
      },
      "outputs": [
        {
          "output_type": "execute_result",
          "data": {
            "text/plain": [
              "tensor([ 3.3040e-01, -1.6249e-01,  8.3142e-01,  3.2803e-01, -1.9063e-01,\n",
              "         3.0155e-01,  1.0042e-01, -1.4993e-01, -3.2908e-01,  8.3571e-03,\n",
              "         4.0662e-01, -4.2808e-01,  4.1202e-02, -1.0556e-03, -5.1895e-01,\n",
              "         3.5914e-02,  9.2579e-02, -1.3212e-01,  2.7167e-01,  3.8480e-01,\n",
              "        -3.1198e-01,  5.3605e-01,  2.3695e-01, -6.7379e-01, -1.1319e-01,\n",
              "        -2.2150e-01, -2.4116e-01, -3.7772e-01, -2.5980e-02, -4.4252e-01,\n",
              "        -2.7196e-01,  6.3611e-02, -4.4119e-02, -6.0608e-02, -1.2313e-01,\n",
              "        -6.1990e-02,  5.5650e-02,  2.0179e-01,  2.4948e-01,  5.1700e-01,\n",
              "         1.3651e-01, -2.5805e-01,  6.0829e-02,  1.3061e-01,  8.2439e-03,\n",
              "         2.4830e-02, -2.1028e-02, -1.1765e-02,  3.9309e-05,  3.2897e-02,\n",
              "        -2.7882e-02,  1.2630e-02,  1.1342e-02, -4.0939e-03])"
            ]
          },
          "metadata": {},
          "execution_count": 302
        }
      ],
      "source": [
        "autoguide_vi.median()['nu']"
      ]
    },
    {
      "cell_type": "code",
      "source": [
        "autoguide_laplace = pyro.infer.autoguide.AutoLaplaceApproximation(model_vi)\n",
        "start_time = measure_time.time()\n",
        "losses = train(model_vi, autoguide_laplace, n_steps = 3000)\n",
        "end_time = measure_time.time()\n",
        "print(\"Time:\", end_time - start_time, \"seconds\")"
      ],
      "metadata": {
        "colab": {
          "base_uri": "https://localhost:8080/"
        },
        "id": "tlrGC8fimuEF",
        "outputId": "efa73ba6-4a9a-4ed8-bb0f-e82ac2d87e7e"
      },
      "execution_count": 320,
      "outputs": [
        {
          "output_type": "stream",
          "name": "stdout",
          "text": [
            "[iter 0]  loss: 1902.4336\n",
            "[iter 500]  loss: 205.5114\n",
            "[iter 1000]  loss: 203.8658\n",
            "[iter 1500]  loss: 203.8506\n",
            "[iter 2000]  loss: 203.8506\n",
            "[iter 2500]  loss: 203.8506\n",
            "Time: 28.475240468978882 seconds\n"
          ]
        }
      ]
    },
    {
      "cell_type": "code",
      "source": [
        "new_laplace_approx_guide = autoguide_laplace.laplace_approximation(observed_fluxes)\n",
        "losses = train(model_vi, new_laplace_approx_guide, n_steps = 10000)"
      ],
      "metadata": {
        "colab": {
          "base_uri": "https://localhost:8080/"
        },
        "id": "EyxOD6YAn5CK",
        "outputId": "a9ea9529-e1f5-4c95-b435-cda690ef9b29"
      },
      "execution_count": 321,
      "outputs": [
        {
          "output_type": "stream",
          "name": "stdout",
          "text": [
            "[iter 0]  loss: 162.6230\n",
            "[iter 500]  loss: 165.7332\n",
            "[iter 1000]  loss: 163.0791\n",
            "[iter 1500]  loss: 162.5536\n",
            "[iter 2000]  loss: 169.1056\n",
            "[iter 2500]  loss: 161.0881\n",
            "[iter 3000]  loss: 164.8994\n",
            "[iter 3500]  loss: 162.6672\n",
            "[iter 4000]  loss: 163.7414\n",
            "[iter 4500]  loss: 165.9802\n",
            "[iter 5000]  loss: 162.4426\n",
            "[iter 5500]  loss: 162.5479\n",
            "[iter 6000]  loss: 162.6297\n",
            "[iter 6500]  loss: 166.5618\n",
            "[iter 7000]  loss: 162.8407\n",
            "[iter 7500]  loss: 166.5029\n",
            "[iter 8000]  loss: 162.6049\n",
            "[iter 8500]  loss: 163.5153\n",
            "[iter 9000]  loss: 162.5217\n",
            "[iter 9500]  loss: 162.4673\n"
          ]
        }
      ]
    },
    {
      "cell_type": "code",
      "source": [
        "posterior_samples = Predictive(model_vi, guide = autoguide_vi, num_samples = 100)(None,)\n",
        "posterior_samples['Av']"
      ],
      "metadata": {
        "id": "Q9yoRw50SEGC"
      },
      "execution_count": null,
      "outputs": []
    },
    {
      "cell_type": "code",
      "source": [
        "def calculate_all_fluxes_from_params(nu, theta, mu_s, dMs, Av):\n",
        "  times_to_interpolate = np.linspace(-10, 40)\n",
        "  Jt = spline_coeffs_irr(times_to_interpolate, time_knots, invKD_irr(time_knots))\n",
        "\n",
        "  epsilon_interior = np.matmul(L_sigma_epsilon, nu.numpy().T)\n",
        "\n",
        "  epsilon = np.zeros_like(W0)   ## populate epsilon matrix\n",
        "  epsilon[1:-1] = epsilon_interior.reshape((9,6), order = 'F')\n",
        "\n",
        "  W = W0 + theta.numpy()*W1 + epsilon\n",
        "\n",
        "  generated_fluxes_from_params = []\n",
        "\n",
        "  for band in bands:\n",
        "    band_wavelengths = wavelengths_dict[band]\n",
        "    band_norm_throughput = norm_throughput_dict[band]\n",
        "\n",
        "    Jl = band_Jl[band]\n",
        "    # xis_matrix = band_xis_matrix[band]\n",
        "    # h = band_h[band]\n",
        "\n",
        "    wavelengths_to_interpolate = get_lambda_int_for_band(band_wavelengths)\n",
        "    \n",
        "    # Jl = spline_coeffs_irr(wavelengths_to_interpolate, wavelength_knots, invKD_irr(wavelength_knots))\n",
        "    xis = extinction.fitzpatrick99(wavelengths_to_interpolate, 1, rv)\n",
        "    xis_matrix = np.tile(xis, (len(times_to_interpolate),1)).T\n",
        "\n",
        "    S0 = np.zeros((len(wavelengths_to_interpolate), len(times_to_interpolate)))\n",
        "    for i, wavelength in enumerate(wavelengths_to_interpolate):\n",
        "      for j, time in enumerate(times_to_interpolate):\n",
        "        S0[i][j] = interpolate_hsiao(time, wavelength, hsiao_phase, hsiao_wave, hsiao_flux)\n",
        "\n",
        "    throughput_interpolator = interp1d(band_wavelengths, band_norm_throughput)\n",
        "    b = throughput_interpolator([band_wavelengths[0]] + list(wavelengths_to_interpolate[1:-1] * (1 + z)) + [band_wavelengths[-1]])\n",
        "\n",
        "    xis_obs = extinction.fitzpatrick99(wavelengths_to_interpolate*(1 + z), Av_obs, 3.1)\n",
        "    dLambda = wavelengths_to_interpolate[1] - wavelengths_to_interpolate[0]\n",
        "    h = (1 + z) * dLambda * b * wavelengths_to_interpolate * np.exp(-gamma * xis_obs)\n",
        "\n",
        "    band_flux = get_flux_from_params(torch.as_tensor(epsilon_interior), torch.as_tensor(theta), \n",
        "                                torch.as_tensor(mu_s), torch.as_tensor(dMs), torch.as_tensor(Av),\n",
        "                                xis_matrix = xis_matrix, S0 = S0, h = h, Jt = Jt, Jl = Jl)\n",
        "    \n",
        "    generated_fluxes_from_params.append(band_flux)\n",
        "  \n",
        "  return np.array(generated_fluxes_from_params)"
      ],
      "metadata": {
        "id": "KvRPHWs3bpgS"
      },
      "execution_count": null,
      "outputs": []
    },
    {
      "cell_type": "code",
      "source": [
        "posterior_smooth_curves = []\n",
        "for nu, theta, mu_s, Av in zip(posterior_samples['nu'][:,0,0], posterior_samples['theta'][:,0,0], posterior_samples['mu_s'][:,0,0], posterior_samples['Av'][:,0,0]):\n",
        "  # print(nu, theta, mu_s, Av)\n",
        "  posterior_smooth_curves.append(calculate_all_fluxes_from_params(nu, theta, mu_s, torch.as_tensor(0.), Av))"
      ],
      "metadata": {
        "id": "0wXqiatubaC7"
      },
      "execution_count": null,
      "outputs": []
    },
    {
      "cell_type": "code",
      "source": [
        "posterior_smooth_curves = np.array(posterior_smooth_curves)\n",
        "median_posterior_fit = np.median(posterior_smooth_curves, axis = 0)\n",
        "upper_posterior_fit = np.percentile(posterior_smooth_curves, 50 + 34.1, axis = 0)\n",
        "lower_posterior_fit = np.percentile(posterior_smooth_curves, 50 - 34.1, axis = 0)"
      ],
      "metadata": {
        "id": "NXX8fk1IbkOU"
      },
      "execution_count": null,
      "outputs": []
    },
    {
      "cell_type": "code",
      "source": [
        "colors  = ['g', 'r', 'c', 'k']\n",
        "# offset = np.array([0, 1000,2000,3000]) * 30\n",
        "offset = np.zeros(4)\n",
        "for i, band_flux in enumerate(median_posterior_fit):\n",
        "    plt.plot(np.linspace(-10, 40), band_flux + offset[i], color = colors[i])\n",
        "    plt.fill_between(np.linspace(-10, 40), upper_posterior_fit[i]+ offset[i], lower_posterior_fit[i]+ offset[i], color = colors[i], alpha = 0.2)\n",
        "for i, band_flux in enumerate(observed_fluxes.numpy()):\n",
        "  plt.plot(times_to_interpolate, band_flux + offset[i], 'o',color = colors[i], label = bands[i])\n",
        "plt.legend()\n",
        "plt.title(\"Posterior samples from VI\")"
      ],
      "metadata": {
        "id": "jvYXQoc3cVuC"
      },
      "execution_count": null,
      "outputs": []
    },
    {
      "cell_type": "code",
      "source": [
        "num_corner_samples = 1000\n",
        "vi_corner_samples = Predictive(model_vi, guide = autoguide_vi, num_samples = num_corner_samples)(None,)"
      ],
      "metadata": {
        "id": "tEVBSDT_dHYo"
      },
      "execution_count": 304,
      "outputs": []
    },
    {
      "cell_type": "code",
      "source": [
        "vi_trained_laplace_samples = Predictive(model_vi, guide = new_laplace_approx_guide, num_samples = num_corner_samples)(None,)"
      ],
      "metadata": {
        "id": "_7zDtKOwoMIg"
      },
      "execution_count": 322,
      "outputs": []
    },
    {
      "cell_type": "code",
      "source": [
        "laplace_samples = Predictive(model_vi, guide = autoguide_laplace.laplace_approximation(observed_fluxes), num_samples = num_corner_samples)(None,)"
      ],
      "metadata": {
        "id": "Hn60rj0Co1Nx"
      },
      "execution_count": 323,
      "outputs": []
    },
    {
      "cell_type": "code",
      "source": [
        "other_fit = np.load(\"AT2016aj_chains_210610_135216.npy\", allow_pickle = True).item()"
      ],
      "metadata": {
        "id": "6VNOrRrLhavO"
      },
      "execution_count": 324,
      "outputs": []
    },
    {
      "cell_type": "code",
      "source": [
        "other_fit.keys()"
      ],
      "metadata": {
        "colab": {
          "base_uri": "https://localhost:8080/"
        },
        "id": "4sNAkk7rnKlJ",
        "outputId": "0807de1b-0cf0-40cb-a808-40e4d6f3002c"
      },
      "execution_count": 325,
      "outputs": [
        {
          "output_type": "execute_result",
          "data": {
            "text/plain": [
              "odict_keys(['lp__', 'mu', 'AV', 'theta', 'delM', 'epsilon'])"
            ]
          },
          "metadata": {},
          "execution_count": 325
        }
      ]
    },
    {
      "cell_type": "code",
      "source": [
        "len(other_fit['mu'])"
      ],
      "metadata": {
        "colab": {
          "base_uri": "https://localhost:8080/"
        },
        "id": "NbOlA2eiiMN_",
        "outputId": "f6fbc5fa-4d44-44a2-9275-fed6cfaa510b"
      },
      "execution_count": 326,
      "outputs": [
        {
          "output_type": "execute_result",
          "data": {
            "text/plain": [
              "1000"
            ]
          },
          "metadata": {},
          "execution_count": 326
        }
      ]
    },
    {
      "cell_type": "code",
      "source": [
        "figure = corner.corner(np.vstack((vi_corner_samples['mu_s'].numpy(),vi_corner_samples['theta'].numpy(), \n",
        "                                  vi_corner_samples['Av'].numpy())).T, \n",
        "                       labels = [r\"$\\mu_s$\", r\"$\\theta$\", r\"$A_v$\"])\n",
        "# corner.corner(np.vstack((vi_trained_laplace_samples['mu_s'][:,0,0].numpy(),vi_trained_laplace_samples['theta'][:,0,0].numpy(), \n",
        "#                                   vi_trained_laplace_samples['Av'][:,0,0].numpy())).T, \n",
        "#                        labels = [r\"$\\mu_s$\", r\"$\\theta$\", r\"$A_v$\"], fig = figure, color = 'c')\n",
        "corner.corner(np.vstack((laplace_samples['mu_s'].numpy(),laplace_samples['theta'].numpy(), \n",
        "                                  laplace_samples['Av'].numpy())).T, \n",
        "                       labels = [r\"$\\mu_s$\", r\"$\\theta$\", r\"$A_v$\"], fig = figure, color = 'c')\n",
        "corner.corner(np.vstack((other_fit['mu'] + other_fit['delM'],other_fit['theta'], other_fit['AV'])).T, \n",
        "                       labels = [r\"$\\mu_s$\", r\"$\\theta$\", r\"$A_v$\"], fig = figure, color = 'r')\n",
        "colors = ['k','c', 'r']\n",
        "\n",
        "labels = ['VI', 'VI init from Laplace approx', 'MCMC']\n",
        "\n",
        "plt.legend(\n",
        "    handles=[\n",
        "        mlines.Line2D([], [], color=colors[i], label=labels[i])\n",
        "        for i in range(len(labels))\n",
        "    ],\n",
        "    fontsize=16, frameon=False,\n",
        "    bbox_to_anchor=(1, 3), loc=\"upper right\"\n",
        ")\n",
        "figure.suptitle(\"Parameter distributions for ASASSN-16CS dataset\", fontsize = 20)\n",
        "plt.show()"
      ],
      "metadata": {
        "colab": {
          "base_uri": "https://localhost:8080/",
          "height": 552
        },
        "id": "cau5KorneFYo",
        "outputId": "a9c0833a-a03f-4f94-bbf8-37068aba443d"
      },
      "execution_count": 327,
      "outputs": [
        {
          "output_type": "display_data",
          "data": {
            "text/plain": [
              "<Figure size 547.2x547.2 with 9 Axes>"
            ],
            "image/png": "[encoded data removed]"
          },
          "metadata": {
            "needs_background": "light"
          }
        }
      ]
    },
    {
      "cell_type": "code",
      "source": [
        "observed_fluxes"
      ],
      "metadata": {
        "colab": {
          "base_uri": "https://localhost:8080/"
        },
        "id": "bRkTkTDuwP7i",
        "outputId": "574debee-76fe-4320-8f7c-362faf0d4751"
      },
      "execution_count": 310,
      "outputs": [
        {
          "output_type": "execute_result",
          "data": {
            "text/plain": [
              "[(tensor([4005.5530, 4352.0480, 3297.3020, 1835.4070, 1048.1200,  412.0150],\n",
              "         dtype=torch.float64),\n",
              "  tensor([3676.0450, 4759.6250, 3742.9230, 2771.0850, 2079.0390, 1046.1990],\n",
              "         dtype=torch.float64),\n",
              "  tensor([3090.3530, 2855.2300, 2249.6650, 1691.2290, 1799.4850, 1096.8880],\n",
              "         dtype=torch.float64),\n",
              "  tensor([2641.7600, 1720.9680, 1640.4210, 1150.3210, 1282.1910],\n",
              "         dtype=torch.float64))]"
            ]
          },
          "metadata": {},
          "execution_count": 310
        }
      ]
    },
    {
      "cell_type": "code",
      "source": [
        "flux_errors"
      ],
      "metadata": {
        "colab": {
          "base_uri": "https://localhost:8080/"
        },
        "id": "aDSxUWxwwNLI",
        "outputId": "58bfc28c-6fbb-4e30-cf6c-4d8d58a15b12"
      },
      "execution_count": 311,
      "outputs": [
        {
          "output_type": "execute_result",
          "data": {
            "text/plain": [
              "[(tensor([227.0470, 146.6630, 142.8170, 122.8200, 213.6210, 102.0220],\n",
              "         dtype=torch.float64),\n",
              "  tensor([165.0210, 142.7150, 142.8040, 126.0320, 152.1720,  97.9100],\n",
              "         dtype=torch.float64),\n",
              "  tensor([160.9570, 136.3000, 173.2550, 117.7470, 152.3770, 105.5380],\n",
              "         dtype=torch.float64),\n",
              "  tensor([204.7040, 236.1660, 173.7900, 231.6740, 157.4260], dtype=torch.float64))]"
            ]
          },
          "metadata": {},
          "execution_count": 311
        }
      ]
    },
    {
      "cell_type": "code",
      "source": [
        "def model_mcmc(obs):\n",
        "  # epsilon_interior = pyro.sample(\"eps_int\", dist.MultivariateNormal(torch.zeros(len(eps_cov)), covariance_matrix = eps_cov))\n",
        "\n",
        "  nu = pyro.sample(\"nu\", dist.MultivariateNormal(torch.zeros(len(eps_cov)), covariance_matrix = torch.eye(len(eps_cov))))\n",
        "  # nu = torch.zeros(54)\n",
        "  epsilon_interior = torch.matmul(torch.as_tensor(L_sigma_epsilon, dtype = torch.double), nu.double())\n",
        "  # print(epsilon_interior)\n",
        "\n",
        "  # theta = pyro.sample(\"theta\", dist.Uniform(low=-1.49, high=2.77))\n",
        "  theta = pyro.sample(\"theta\", dist.Normal(0., 1.0))\n",
        "  # theta = torch.as_tensor(0.03430605)\n",
        "\n",
        "  # theta = torch.as_tensor(-0.9835187)\n",
        "  cosmo = FlatLambdaCDM(H0 = 73.24, Om0 = 0.28)\n",
        "  mu_s = pyro.sample(\"mu_s\", dist.Normal(cosmo.distmod(z_helio).value, 10.)) ## fix this later\n",
        "  # mu_s = torch.as_tensor(37.248927127193724)\n",
        "\n",
        "  # dMs = pyro.sample(\"Ms\", dist.Normal(torch.tensor(0.), torch.tensor(sigma0)))\n",
        "  dMs = torch.tensor(0.)\n",
        "  Av = pyro.sample(\"Av\", dist.Exponential(1 / 0.252))\n",
        "  # Av = torch.tensor(7.2387767)\n",
        "  # Av = pyro.sample(\"Av\", dist.Normal(0.27, 1.))\n",
        "\n",
        "  epsilon = torch.zeros(W0.shape)   ## populate epsilon matrix\n",
        "  epsilon[1:-1] = torch.transpose(torch.reshape(epsilon_interior, (6,9)), 0, 1)\n",
        "\n",
        "  W = torch.as_tensor(W0) + theta*torch.as_tensor(W1) + epsilon\n",
        "\n",
        "  generated_fluxes = []\n",
        "\n",
        "  for band in bands:\n",
        "    Jl = band_Jl[band]\n",
        "    S0 = band_S0[band]\n",
        "    xis_matrix = band_xis_matrix[band]\n",
        "    h = band_h[band]\n",
        "    Jt = band_Jt[band]\n",
        "\n",
        "    JlWJt = torch.matmul(torch.as_tensor(Jl), torch.matmul(W, torch.as_tensor(Jt.T)))\n",
        "\n",
        "    Stilde = torch.as_tensor(S0) * torch.exp(-gamma * (JlWJt + Av * torch.as_tensor(xis_matrix)))\n",
        "\n",
        "    f = 10**(0.4 * (torch.as_tensor(ZPT) - mu_s - torch.as_tensor(M0) - dMs)) * torch.matmul(torch.as_tensor(h), torch.as_tensor(Stilde))\n",
        "    generated_fluxes.append(f)\n",
        "\n",
        "  # generated_fluxes = torch.stack(generated_fluxes)\n",
        "  # print(generated_fluxes)\n",
        "\n",
        "  if obs is not None:\n",
        "    # for i in range(len(bands)):\n",
        "    for i in pyro.plate(\"bands\", len(bands)):\n",
        "      # print(i)\n",
        "      with pyro.plate(\"observations\"):\n",
        "        # print(len(generated_fluxes[i]))\n",
        "        # for j in range(len(generated_fluxes[i])):\n",
        "            pyro.sample(\"flux\" + str(bands[i]), dist.Normal(generated_fluxes[i], flux_errors[0][i]), obs = obs[0][i])"
      ],
      "metadata": {
        "id": "KZnOMIENeR9J"
      },
      "execution_count": 312,
      "outputs": []
    },
    {
      "cell_type": "code",
      "source": [
        "num_chains = 1\n",
        "nuts_kernel = pyro.infer.NUTS(model_mcmc, adapt_step_size=True)\n",
        "\n",
        "mcmc = pyro.infer.MCMC(nuts_kernel, num_samples=600, warmup_steps=250, num_chains = num_chains)\n",
        "\n",
        "start_time = measure_time.time()\n",
        "mcmc.run(observed_fluxes)\n",
        "end_time = measure_time.time()\n",
        "print(\"Total:\", end_time - start_time, \"seconds\")"
      ],
      "metadata": {
        "colab": {
          "base_uri": "https://localhost:8080/"
        },
        "id": "drBBoyLpfkeC",
        "outputId": "3bee546c-cd10-4028-9c40-d50ec835d4e1"
      },
      "execution_count": 314,
      "outputs": [
        {
          "output_type": "stream",
          "name": "stderr",
          "text": [
            "Sample: 100%|██████████| 850/850 [14:48,  1.04s/it, step size=1.23e-01, acc. prob=0.937]"
          ]
        },
        {
          "output_type": "stream",
          "name": "stdout",
          "text": [
            "Total: 888.1043004989624 seconds\n"
          ]
        },
        {
          "output_type": "stream",
          "name": "stderr",
          "text": [
            "\n"
          ]
        }
      ]
    },
    {
      "cell_type": "code",
      "source": [
        "mcmc_corner_samples = mcmc.get_samples(num_samples = num_corner_samples)"
      ],
      "metadata": {
        "id": "f3sAZtYt--gX"
      },
      "execution_count": 315,
      "outputs": []
    },
    {
      "cell_type": "code",
      "source": [
        "figure = corner.corner(np.vstack((vi_corner_samples['mu_s'].numpy(),vi_corner_samples['theta'].numpy(), \n",
        "                                  vi_corner_samples['Av'].numpy())).T, \n",
        "                       labels = [r\"$\\mu_s$\", r\"$\\theta$\", r\"$A_v$\"], color = 'k')\n",
        "corner.corner(np.vstack((vi_trained_laplace_samples['mu_s'].numpy(),vi_trained_laplace_samples['theta'].numpy(), \n",
        "                                  vi_trained_laplace_samples['Av'].numpy())).T, \n",
        "                       labels = [r\"$\\mu_s$\", r\"$\\theta$\", r\"$A_v$\"], fig = figure, color = 'c')\n",
        "corner.corner(np.vstack((mcmc_corner_samples['mu_s'],mcmc_corner_samples['theta'],mcmc_corner_samples['Av'])).T, \n",
        "                       labels = [r\"$\\mu_s$\", r\"$\\theta$\", r\"$A_v$\"], color ='r',fig = figure,)\n",
        "# corner.corner(np.vstack((laplace_samples['mu_s'][:,0,0].numpy(),laplace_samples['theta'][:,0,0].numpy(), \n",
        "#                                   laplace_samples['Av'][:,0,0].numpy())).T, \n",
        "#                        labels = [r\"$\\mu_s$\", r\"$\\theta$\", r\"$A_v$\"], fig = figure, color = 'b')\n",
        "# corner.corner(np.vstack((other_fit['mu'] + other_fit['delM'],other_fit['theta'], other_fit['AV'])).T, \n",
        "#                        labels = [r\"$\\mu_s$\", r\"$\\theta$\", r\"$A_v$\"], fig = figure, color = 'r')\n",
        "# colors = ['k','c', 'r']\n",
        "\n",
        "# labels = ['VI', 'VI init from Laplace approx', 'MCMC']\n",
        "colors = [ 'k', 'c', 'r']\n",
        "labels = ['VI', 'VI init from Laplace approx','MCMC']\n",
        "\n",
        "plt.legend(\n",
        "    handles=[\n",
        "        mlines.Line2D([], [], color=colors[i], label=labels[i])\n",
        "        for i in range(len(labels))\n",
        "    ],\n",
        "    fontsize=16, frameon=False,\n",
        "    bbox_to_anchor=(1, 3), loc=\"upper right\"\n",
        ")\n",
        "\n",
        "plt.text(0, 270, \"  Fitting $\\\\mu_s, \\\\theta$, $A_v$, \\n     and $\\\\epsilon$\", fontsize = 20)\n",
        "figure.suptitle(\"Parameter distributions for AT2016AJ dataset\", fontsize = 20)\n",
        "plt.show()"
      ],
      "metadata": {
        "colab": {
          "base_uri": "https://localhost:8080/",
          "height": 552
        },
        "id": "PkSEiFbWGUZe",
        "outputId": "14aa968f-5d36-419d-e4e6-61199057d717"
      },
      "execution_count": 349,
      "outputs": [
        {
          "output_type": "display_data",
          "data": {
            "text/plain": [
              "<Figure size 547.2x547.2 with 9 Axes>"
            ],
            "image/png": "[encoded data removed]"
          },
          "metadata": {
            "needs_background": "light"
          }
        }
      ]
    },
    {
      "cell_type": "code",
      "source": [
        "mcmc.diagnostics()"
      ],
      "metadata": {
        "colab": {
          "base_uri": "https://localhost:8080/"
        },
        "id": "Zbsm1fVfE8KV",
        "outputId": "55e27bbe-d132-4641-ea27-9d8facbddaad"
      },
      "execution_count": 317,
      "outputs": [
        {
          "output_type": "execute_result",
          "data": {
            "text/plain": [
              "{'Av': OrderedDict([('n_eff', tensor(159.0502, dtype=torch.float64)),\n",
              "              ('r_hat', tensor(1.0291, dtype=torch.float64))]),\n",
              " 'acceptance rate': {'chain 0': 1.0},\n",
              " 'divergences': {'chain 0': []},\n",
              " 'mu_s': OrderedDict([('n_eff', tensor(106.7515, dtype=torch.float64)),\n",
              "              ('r_hat', tensor(1.0494, dtype=torch.float64))]),\n",
              " 'nu': OrderedDict([('n_eff',\n",
              "               tensor([ 451.0539,  622.1975,  743.0407,  614.9170,  589.7426,  746.6896,\n",
              "                       1230.6126, 1061.0642,  940.4999,  447.1816,  213.6518,  494.1810,\n",
              "                        540.4096,  177.6918,  586.4685,  836.4641,  494.3881,  454.7005,\n",
              "                        337.2809,  954.7321,  682.8388,  568.0248,  437.9903,  968.9045,\n",
              "                        633.4961,  772.3142,  748.0857, 1411.1536, 1402.2228,  827.0599,\n",
              "                       1547.0479,  818.6993,  960.7069,  727.4459, 1123.7566,  994.4849,\n",
              "                        598.2768, 1098.7058,  360.8919,  342.0956,  516.4634,  360.6026,\n",
              "                        581.1306, 1339.3524,  307.9474,  914.6394, 1414.4462, 1212.6157,\n",
              "                        715.6766,  835.5107,  621.3242, 1129.1761,  528.1582,  435.2059],\n",
              "                      dtype=torch.float64)),\n",
              "              ('r_hat',\n",
              "               tensor([0.9993, 0.9984, 0.9983, 1.0018, 1.0052, 0.9986, 0.9989, 0.9998, 1.0033,\n",
              "                       1.0086, 0.9984, 0.9984, 0.9995, 1.0212, 0.9983, 0.9984, 1.0011, 0.9987,\n",
              "                       0.9998, 1.0027, 0.9985, 0.9984, 1.0061, 1.0003, 1.0016, 0.9992, 0.9986,\n",
              "                       0.9995, 1.0006, 1.0024, 0.9995, 0.9992, 1.0005, 0.9987, 1.0011, 0.9993,\n",
              "                       0.9986, 0.9984, 0.9983, 0.9983, 0.9985, 1.0036, 0.9989, 0.9985, 0.9985,\n",
              "                       0.9987, 1.0003, 0.9984, 0.9985, 0.9992, 0.9997, 0.9986, 0.9994, 1.0017],\n",
              "                      dtype=torch.float64))]),\n",
              " 'theta': OrderedDict([('n_eff', tensor(226.4038, dtype=torch.float64)),\n",
              "              ('r_hat', tensor(1.0090, dtype=torch.float64))])}"
            ]
          },
          "metadata": {},
          "execution_count": 317
        }
      ]
    },
    {
      "cell_type": "code",
      "source": [
        "many_samples = mcmc.get_samples(num_samples = 10000)\n",
        "np.savetxt(\"mcmc_at2016aj_samples.txt\",[many_samples['mu_s'].numpy(),many_samples['theta'].numpy(),many_samples['Av'].numpy()])"
      ],
      "metadata": {
        "id": "EOGJcseMGe7Q"
      },
      "execution_count": null,
      "outputs": []
    },
    {
      "cell_type": "code",
      "source": [
        ""
      ],
      "metadata": {
        "id": "6qqGfPsIEcfA"
      },
      "execution_count": null,
      "outputs": []
    }
  ],
  "metadata": {
    "colab": {
      "name": "Ragged_Tensor_Fitting_BayeSN_Pyro.ipynb",
      "provenance": [],
      "collapsed_sections": []
    },
    "kernelspec": {
      "display_name": "Python 3",
      "name": "python3"
    },
    "language_info": {
      "name": "python"
    }
  },
  "nbformat": 4,
  "nbformat_minor": 0
}