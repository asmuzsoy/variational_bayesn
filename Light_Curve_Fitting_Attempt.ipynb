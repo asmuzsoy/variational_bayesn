{
  "nbformat": 4,
  "nbformat_minor": 0,
  "metadata": {
    "colab": {
      "name": "Light_Curve_Fitting_Attempt.ipynb",
      "provenance": []
    },
    "kernelspec": {
      "name": "python3",
      "display_name": "Python 3"
    },
    "language_info": {
      "name": "python"
    }
  },
  "cells": [
    {
      "cell_type": "code",
      "execution_count": null,
      "metadata": {
        "id": "rI53aeH9oowK"
      },
      "outputs": [],
      "source": [
        "import numpy as np\n",
        "import matplotlib.pyplot as plt\n",
        "import tensorflow.compat.v2 as tf\n",
        "import tensorflow_probability as tfp\n",
        "tfb = tfp.bijectors\n",
        "tfd = tfp.distributions\n",
        "tfk = tfp.math.psd_kernels\n",
        "tf.enable_v2_behavior()\n",
        "\n",
        "import pandas as pd"
      ]
    },
    {
      "cell_type": "code",
      "source": [
        "filename = \"ASASSN-16cs.dat\"\n",
        "\n",
        "df = pd.read_csv(filename, sep=\" \", header = 0, index_col = False, names = ['MJD', \"FLT\", 'FLUXCAL', 'FLUXCALERR', 'MAG', 'MAGERR'])\n",
        "df = df.dropna()\n",
        "df.head()"
      ],
      "metadata": {
        "colab": {
          "base_uri": "https://localhost:8080/",
          "height": 206
        },
        "id": "_xF1i8TdpiIA",
        "outputId": "fe1d9a7c-2d25-4852-9fe9-a6a67a90774b"
      },
      "execution_count": null,
      "outputs": [
        {
          "output_type": "execute_result",
          "data": {
            "text/plain": [
              "           MJD FLT    FLUXCAL  FLUXCALERR     MAG  MAGERR\n",
              "0  57459.23554   g  37214.832     567.712  16.073   0.017\n",
              "1  57467.23967   g  41744.556     650.066  15.949   0.017\n",
              "2  57475.26347   g  28919.307     447.921  16.347   0.017\n",
              "3  57483.24414   g  16594.694     286.561  16.950   0.019\n",
              "4  57495.24593   g   5925.251     190.618  18.068   0.035"
            ],
            "text/html": [
              "\n",
              "  <div id=\"df-fea6d69e-075a-43c7-89d5-397bb0a7c2f6\">\n",
              "    <div class=\"colab-df-container\">\n",
              "      <div>\n",
              "<style scoped>\n",
              "    .dataframe tbody tr th:only-of-type {\n",
              "        vertical-align: middle;\n",
              "    }\n",
              "\n",
              "    .dataframe tbody tr th {\n",
              "        vertical-align: top;\n",
              "    }\n",
              "\n",
              "    .dataframe thead th {\n",
              "        text-align: right;\n",
              "    }\n",
              "</style>\n",
              "<table border=\"1\" class=\"dataframe\">\n",
              "  <thead>\n",
              "    <tr style=\"text-align: right;\">\n",
              "      <th></th>\n",
              "      <th>MJD</th>\n",
              "      <th>FLT</th>\n",
              "      <th>FLUXCAL</th>\n",
              "      <th>FLUXCALERR</th>\n",
              "      <th>MAG</th>\n",
              "      <th>MAGERR</th>\n",
              "    </tr>\n",
              "  </thead>\n",
              "  <tbody>\n",
              "    <tr>\n",
              "      <th>0</th>\n",
              "      <td>57459.23554</td>\n",
              "      <td>g</td>\n",
              "      <td>37214.832</td>\n",
              "      <td>567.712</td>\n",
              "      <td>16.073</td>\n",
              "      <td>0.017</td>\n",
              "    </tr>\n",
              "    <tr>\n",
              "      <th>1</th>\n",
              "      <td>57467.23967</td>\n",
              "      <td>g</td>\n",
              "      <td>41744.556</td>\n",
              "      <td>650.066</td>\n",
              "      <td>15.949</td>\n",
              "      <td>0.017</td>\n",
              "    </tr>\n",
              "    <tr>\n",
              "      <th>2</th>\n",
              "      <td>57475.26347</td>\n",
              "      <td>g</td>\n",
              "      <td>28919.307</td>\n",
              "      <td>447.921</td>\n",
              "      <td>16.347</td>\n",
              "      <td>0.017</td>\n",
              "    </tr>\n",
              "    <tr>\n",
              "      <th>3</th>\n",
              "      <td>57483.24414</td>\n",
              "      <td>g</td>\n",
              "      <td>16594.694</td>\n",
              "      <td>286.561</td>\n",
              "      <td>16.950</td>\n",
              "      <td>0.019</td>\n",
              "    </tr>\n",
              "    <tr>\n",
              "      <th>4</th>\n",
              "      <td>57495.24593</td>\n",
              "      <td>g</td>\n",
              "      <td>5925.251</td>\n",
              "      <td>190.618</td>\n",
              "      <td>18.068</td>\n",
              "      <td>0.035</td>\n",
              "    </tr>\n",
              "  </tbody>\n",
              "</table>\n",
              "</div>\n",
              "      <button class=\"colab-df-convert\" onclick=\"convertToInteractive('df-fea6d69e-075a-43c7-89d5-397bb0a7c2f6')\"\n",
              "              title=\"Convert this dataframe to an interactive table.\"\n",
              "              style=\"display:none;\">\n",
              "        \n",
              "  <svg xmlns=\"http://www.w3.org/2000/svg\" height=\"24px\"viewBox=\"0 0 24 24\"\n",
              "       width=\"24px\">\n",
              "    <path d=\"M0 0h24v24H0V0z\" fill=\"none\"/>\n",
              "    <path d=\"M18.56 5.44l.94 2.06.94-2.06 2.06-.94-2.06-.94-.94-2.06-.94 2.06-2.06.94zm-11 1L8.5 8.5l.94-2.06 2.06-.94-2.06-.94L8.5 2.5l-.94 2.06-2.06.94zm10 10l.94 2.06.94-2.06 2.06-.94-2.06-.94-.94-2.06-.94 2.06-2.06.94z\"/><path d=\"M17.41 7.96l-1.37-1.37c-.4-.4-.92-.59-1.43-.59-.52 0-1.04.2-1.43.59L10.3 9.45l-7.72 7.72c-.78.78-.78 2.05 0 2.83L4 21.41c.39.39.9.59 1.41.59.51 0 1.02-.2 1.41-.59l7.78-7.78 2.81-2.81c.8-.78.8-2.07 0-2.86zM5.41 20L4 18.59l7.72-7.72 1.47 1.35L5.41 20z\"/>\n",
              "  </svg>\n",
              "      </button>\n",
              "      \n",
              "  <style>\n",
              "    .colab-df-container {\n",
              "      display:flex;\n",
              "      flex-wrap:wrap;\n",
              "      gap: 12px;\n",
              "    }\n",
              "\n",
              "    .colab-df-convert {\n",
              "      background-color: #E8F0FE;\n",
              "      border: none;\n",
              "      border-radius: 50%;\n",
              "      cursor: pointer;\n",
              "      display: none;\n",
              "      fill: #1967D2;\n",
              "      height: 32px;\n",
              "      padding: 0 0 0 0;\n",
              "      width: 32px;\n",
              "    }\n",
              "\n",
              "    .colab-df-convert:hover {\n",
              "      background-color: #E2EBFA;\n",
              "      box-shadow: 0px 1px 2px rgba(60, 64, 67, 0.3), 0px 1px 3px 1px rgba(60, 64, 67, 0.15);\n",
              "      fill: #174EA6;\n",
              "    }\n",
              "\n",
              "    [theme=dark] .colab-df-convert {\n",
              "      background-color: #3B4455;\n",
              "      fill: #D2E3FC;\n",
              "    }\n",
              "\n",
              "    [theme=dark] .colab-df-convert:hover {\n",
              "      background-color: #434B5C;\n",
              "      box-shadow: 0px 1px 3px 1px rgba(0, 0, 0, 0.15);\n",
              "      filter: drop-shadow(0px 1px 2px rgba(0, 0, 0, 0.3));\n",
              "      fill: #FFFFFF;\n",
              "    }\n",
              "  </style>\n",
              "\n",
              "      <script>\n",
              "        const buttonEl =\n",
              "          document.querySelector('#df-fea6d69e-075a-43c7-89d5-397bb0a7c2f6 button.colab-df-convert');\n",
              "        buttonEl.style.display =\n",
              "          google.colab.kernel.accessAllowed ? 'block' : 'none';\n",
              "\n",
              "        async function convertToInteractive(key) {\n",
              "          const element = document.querySelector('#df-fea6d69e-075a-43c7-89d5-397bb0a7c2f6');\n",
              "          const dataTable =\n",
              "            await google.colab.kernel.invokeFunction('convertToInteractive',\n",
              "                                                     [key], {});\n",
              "          if (!dataTable) return;\n",
              "\n",
              "          const docLinkHtml = 'Like what you see? Visit the ' +\n",
              "            '<a target=\"_blank\" href=https://colab.research.google.com/notebooks/data_table.ipynb>data table notebook</a>'\n",
              "            + ' to learn more about interactive tables.';\n",
              "          element.innerHTML = '';\n",
              "          dataTable['output_type'] = 'display_data';\n",
              "          await google.colab.output.renderOutput(dataTable, element);\n",
              "          const docLink = document.createElement('div');\n",
              "          docLink.innerHTML = docLinkHtml;\n",
              "          element.appendChild(docLink);\n",
              "        }\n",
              "      </script>\n",
              "    </div>\n",
              "  </div>\n",
              "  "
            ]
          },
          "metadata": {},
          "execution_count": 16
        }
      ]
    },
    {
      "cell_type": "code",
      "source": [
        "tmax = 57464.23 if filename==\"ASASSN-16cs.dat\" else 57442.92\n",
        "z_helio = 0.01802 if filename==\"ASASSN-16cs.dat\" else 0.06741\n",
        "\n",
        "g_time = (df.MJD[df.FLT=='g'] - tmax) / (1 + z_helio)\n",
        "r_time = (df.MJD[df.FLT=='r'] - tmax) / (1 + z_helio)\n",
        "i_time = (df.MJD[df.FLT=='i'] - tmax) / (1 + z_helio)\n",
        "z_time = (df.MJD[df.FLT=='z'] - tmax) / (1 + z_helio)\n",
        "\n",
        "g_mag = df.MAG[df.FLT=='g']\n",
        "r_mag = df.MAG[df.FLT=='r']\n",
        "i_mag = df.MAG[df.FLT=='i']\n",
        "z_mag = df.MAG[df.FLT=='z']\n",
        "\n",
        "g_magerr = df.MAGERR[df.FLT=='g']\n",
        "r_magerr = df.MAGERR[df.FLT=='r']\n",
        "i_magerr = df.MAGERR[df.FLT=='i'][:-1]\n",
        "z_magerr = df.MAGERR[df.FLT=='z']\n",
        "\n",
        "\n",
        "\n",
        "i_mag = i_mag[:-1]\n",
        "i_time = i_time[:-1] ## remove last point which is outside the (-10, 40) time range"
      ],
      "metadata": {
        "id": "WktCK02rpefz"
      },
      "execution_count": null,
      "outputs": []
    },
    {
      "cell_type": "code",
      "source": [
        "z_mag"
      ],
      "metadata": {
        "colab": {
          "base_uri": "https://localhost:8080/"
        },
        "id": "nmJiYAuZz3WM",
        "outputId": "fb20c463-3e0a-45f5-829c-290c45e70780"
      },
      "execution_count": null,
      "outputs": [
        {
          "output_type": "execute_result",
          "data": {
            "text/plain": [
              "22    16.411\n",
              "23    16.457\n",
              "24    16.776\n",
              "25    16.831\n",
              "26    16.871\n",
              "27    17.268\n",
              "Name: MAG, dtype: float64"
            ]
          },
          "metadata": {},
          "execution_count": 6
        }
      ]
    },
    {
      "cell_type": "code",
      "source": [
        "z_time"
      ],
      "metadata": {
        "colab": {
          "base_uri": "https://localhost:8080/"
        },
        "id": "TgI8wPcgyDz6",
        "outputId": "38ff9530-5f0d-402b-98f2-d7c683ec3641"
      },
      "execution_count": null,
      "outputs": [
        {
          "output_type": "execute_result",
          "data": {
            "text/plain": [
              "22    -4.904933\n",
              "23     2.957496\n",
              "24    10.839276\n",
              "25    18.678680\n",
              "26    30.468016\n",
              "27    37.345091\n",
              "Name: MJD, dtype: float64"
            ]
          },
          "metadata": {},
          "execution_count": 7
        }
      ]
    },
    {
      "cell_type": "code",
      "source": [
        "plt.plot(g_time, g_mag, label='g', marker='o')\n",
        "plt.plot(r_time, r_mag-2, label = 'r', marker='o')\n",
        "plt.plot(i_time, i_mag-4,label = 'i', marker='o')\n",
        "plt.plot(z_time, z_mag-6, label = 'z', marker='o')\n",
        "plt.legend()\n",
        "plt.ylim(19,10)\n",
        "plt.xlim(-10, 40)\n",
        "plt.show() ## replicating Stephen's figure (Figure 11 in Foundation DR1 with BayeSN)"
      ],
      "metadata": {
        "colab": {
          "base_uri": "https://localhost:8080/",
          "height": 269
        },
        "id": "B7SBUpt7yQJS",
        "outputId": "b6800d52-7749-45ab-8067-59ac2a0477f3"
      },
      "execution_count": null,
      "outputs": [
        {
          "output_type": "display_data",
          "data": {
            "text/plain": [
              "<Figure size 432x288 with 1 Axes>"
            ],
            "image/png": "[encoded data removed]"
          },
          "metadata": {
            "needs_background": "light"
          }
        }
      ]
    },
    {
      "cell_type": "code",
      "source": [
        "def fit_gp(time, mag, magerr, numsamples = 20):\n",
        "\n",
        "  ## copied from https://www.tensorflow.org/probability/examples/Gaussian_Process_Regression_In_TFP\n",
        "  def build_gp(amplitude, length_scale):\n",
        "    \"\"\"Defines the conditional dist. of GP outputs, given kernel parameters.\"\"\"\n",
        "\n",
        "    # Create the covariance kernel, which will be shared between the prior (which we\n",
        "    # use for maximum likelihood training) and the posterior (which we use for\n",
        "    # posterior predictive sampling)\n",
        "    kernel = tfk.ExponentiatedQuadratic(amplitude, length_scale)\n",
        "\n",
        "    # Create the GP prior distribution, which we will use to train the model\n",
        "    # parameters.\n",
        "    return tfd.GaussianProcess(\n",
        "        kernel=kernel,\n",
        "        index_points=np.expand_dims(time.values, 1),\n",
        "        observation_noise_variance=magerr.values[0]\n",
        "        )\n",
        "\n",
        "  gp_joint_model = tfd.JointDistributionNamed({\n",
        "      'amplitude': tfd.LogNormal(loc=0., scale=np.float64(1.)),\n",
        "      'length_scale': tfd.LogNormal(loc=0., scale=np.float64(1.)),\n",
        "      'observations': build_gp,\n",
        "  })\n",
        "\n",
        "  constrain_positive = tfb.Shift(np.finfo(np.float64).tiny)(tfb.Exp())\n",
        "\n",
        "  amplitude_var = tfp.util.TransformedVariable(\n",
        "      initial_value=8.,\n",
        "      bijector=constrain_positive,\n",
        "      name='amplitude',\n",
        "      dtype=np.float64)\n",
        "\n",
        "  length_scale_var = tfp.util.TransformedVariable(\n",
        "      initial_value=30.,\n",
        "      bijector=constrain_positive,\n",
        "      name='length_scale',\n",
        "      dtype=np.float64)\n",
        "\n",
        "  trainable_variables = [v.trainable_variables[0] for v in \n",
        "                        [amplitude_var,\n",
        "                        length_scale_var]]\n",
        "\n",
        "  def target_log_prob(amplitude, length_scale):\n",
        "    return gp_joint_model.log_prob({\n",
        "        'amplitude': amplitude,\n",
        "        'length_scale': length_scale,\n",
        "        'observation_noise_variance':magerr.values[0],\n",
        "        'observations': mag.values,\n",
        "    })\n",
        "\n",
        "  # Now we optimize the model parameters.\n",
        "  num_iters = 1000\n",
        "  optimizer = tf.optimizers.Adam(learning_rate=.01)\n",
        "\n",
        "  # Use `tf.function` to trace the loss for more efficient evaluation.\n",
        "  @tf.function(autograph=False, jit_compile=False)\n",
        "  def train_model():\n",
        "    with tf.GradientTape() as tape:\n",
        "      loss = -target_log_prob(amplitude_var, length_scale_var)\n",
        "    grads = tape.gradient(loss, trainable_variables)\n",
        "    optimizer.apply_gradients(zip(grads, trainable_variables))\n",
        "    return loss\n",
        "\n",
        "  # Store the likelihood values during training, so we can plot the progress\n",
        "  lls_ = np.zeros(num_iters, np.float64)\n",
        "  for i in range(num_iters):\n",
        "    loss = train_model()\n",
        "    # print(loss)\n",
        "    lls_[i] = np.mean(loss.numpy())\n",
        "\n",
        "  print('Trained parameters:')\n",
        "  print('amplitude: {}'.format(amplitude_var._value().numpy()))\n",
        "  print('length_scale: {}'.format(length_scale_var._value().numpy()))\n",
        "\n",
        "  # plt.figure(figsize=(12, 4))\n",
        "  # plt.plot(lls_)\n",
        "  # plt.xlabel(\"Training iteration\")\n",
        "  # plt.ylabel(\"Log marginal likelihood\")\n",
        "  # plt.show()\n",
        "\n",
        "  optimized_kernel = tfk.ExponentiatedQuadratic(amplitude_var._value().numpy(), length_scale_var._value().numpy())\n",
        "\n",
        "  posterior = tfp.distributions.GaussianProcessRegressionModel(kernel = optimized_kernel,\n",
        "                                                             index_points=np.linspace(-10., 40., 100)[..., np.newaxis],\n",
        "                                                             observation_index_points=np.expand_dims(time.values, 1),\n",
        "                                                             observations=mag.values,\n",
        "                                                             observation_noise_variance = magerr.values[0],\n",
        "                                                             predictive_noise_variance=0.)\n",
        "  \n",
        "  samples = posterior.sample(numsamples).numpy()\n",
        "  return samples"
      ],
      "metadata": {
        "id": "zs835M7Kzxxx"
      },
      "execution_count": null,
      "outputs": []
    },
    {
      "cell_type": "code",
      "source": [
        "num_samples = 20\n",
        "g_samples = fit_gp(g_time, g_mag, g_magerr, num_samples)"
      ],
      "metadata": {
        "colab": {
          "base_uri": "https://localhost:8080/"
        },
        "id": "bVsxxyEmVtWj",
        "outputId": "96a9d686-e717-48be-bdcf-8a87c10f0254"
      },
      "execution_count": null,
      "outputs": [
        {
          "output_type": "stream",
          "name": "stdout",
          "text": [
            "Trained parameters:\n",
            "amplitude: 8.628032236389942\n",
            "length_scale: 33.57186118678442\n"
          ]
        }
      ]
    },
    {
      "cell_type": "code",
      "source": [
        "np.shape(g_samples)"
      ],
      "metadata": {
        "colab": {
          "base_uri": "https://localhost:8080/"
        },
        "id": "Lpk7XDBSqvfM",
        "outputId": "0f2738c1-6f01-4f4c-fc24-53ef05040ff0"
      },
      "execution_count": null,
      "outputs": [
        {
          "output_type": "execute_result",
          "data": {
            "text/plain": [
              "(20, 100)"
            ]
          },
          "metadata": {},
          "execution_count": 11
        }
      ]
    },
    {
      "cell_type": "code",
      "source": [
        "i_samples = fit_gp(i_time, i_mag, i_magerr, num_samples)"
      ],
      "metadata": {
        "colab": {
          "base_uri": "https://localhost:8080/"
        },
        "id": "gN7A1jgrke71",
        "outputId": "eac987e2-a2cc-4b91-8a3f-3cf0349e465b"
      },
      "execution_count": null,
      "outputs": [
        {
          "output_type": "stream",
          "name": "stdout",
          "text": [
            "Trained parameters:\n",
            "amplitude: 9.53163291189278\n",
            "length_scale: 21.12927313330579\n"
          ]
        }
      ]
    },
    {
      "cell_type": "code",
      "source": [
        "z_samples = fit_gp(z_time, z_mag, z_magerr, num_samples)\n",
        "r_samples = fit_gp(r_time, r_mag, r_magerr, num_samples)"
      ],
      "metadata": {
        "colab": {
          "base_uri": "https://localhost:8080/"
        },
        "id": "jI-4wOt-kt6t",
        "outputId": "8bd8ed1e-cece-4b08-c5ff-874d03d59902"
      },
      "execution_count": null,
      "outputs": [
        {
          "output_type": "stream",
          "name": "stdout",
          "text": [
            "Trained parameters:\n",
            "amplitude: 8.29268436396079\n",
            "length_scale: 45.653068218515095\n",
            "Trained parameters:\n",
            "amplitude: 8.49236076830283\n",
            "length_scale: 43.260206033975294\n"
          ]
        }
      ]
    },
    {
      "cell_type": "code",
      "source": [
        "for i in range(num_samples):\n",
        "  plt.plot(np.linspace(-10., 40., 100), g_samples[i], 'r', alpha = 0.2)\n",
        "  plt.plot(np.linspace(-10., 40., 100), i_samples[i]-4, 'b', alpha = 0.2)\n",
        "  plt.plot(np.linspace(-10., 40., 100), z_samples[i]-6, 'k', alpha = 0.2)\n",
        "  plt.plot(np.linspace(-10., 40., 100), r_samples[i]-2, 'g', alpha = 0.2)\n",
        "\n",
        "\n",
        "plt.plot(g_time, g_mag, 'ro', label = 'g')\n",
        "plt.plot(i_time, i_mag-4, 'bo', label =  'i')\n",
        "plt.plot(z_time, z_mag-6, 'ko', label ='z')\n",
        "plt.plot(r_time, r_mag-2, 'go', label = 'r')\n",
        "\n",
        "# plt.plot(g_time, g_mag, label='g', marker='o')\n",
        "# plt.plot(r_time, r_mag-2, label = 'r', marker='o')\n",
        "# plt.plot(i_time, i_mag-4,label = 'i', marker='o')\n",
        "# plt.plot(z_time, z_mag-6, label = 'z', marker='o')\n",
        "plt.legend()\n",
        "plt.ylim(19,10)\n",
        "plt.xlim(-10, 40)\n",
        "plt.show() "
      ],
      "metadata": {
        "colab": {
          "base_uri": "https://localhost:8080/",
          "height": 269
        },
        "id": "nhNS_W_bFKw1",
        "outputId": "09b4be33-5835-4592-a2ef-51350c0f2ff3"
      },
      "execution_count": null,
      "outputs": [
        {
          "output_type": "display_data",
          "data": {
            "text/plain": [
              "<Figure size 432x288 with 1 Axes>"
            ],
            "image/png": "[encoded data removed]"
          },
          "metadata": {
            "needs_background": "light"
          }
        }
      ]
    },
    {
      "cell_type": "code",
      "source": [
        "## copied from https://www.tensorflow.org/probability/examples/Gaussian_Process_Regression_In_TFP\n",
        "def build_gp(amplitude, length_scale):\n",
        "  \"\"\"Defines the conditional dist. of GP outputs, given kernel parameters.\"\"\"\n",
        "\n",
        "  # Create the covariance kernel, which will be shared between the prior (which we\n",
        "  # use for maximum likelihood training) and the posterior (which we use for\n",
        "  # posterior predictive sampling)\n",
        "  kernel = tfk.ExponentiatedQuadratic(amplitude, length_scale)\n",
        "\n",
        "  # Create the GP prior distribution, which we will use to train the model\n",
        "  # parameters.\n",
        "  return tfd.GaussianProcess(\n",
        "      kernel=kernel,\n",
        "      index_points=np.expand_dims(g_time.values, 1),\n",
        "      observation_noise_variance=g_magerr.values[0]\n",
        "      )\n",
        "\n",
        "gp_joint_model = tfd.JointDistributionNamed({\n",
        "    'amplitude': tfd.LogNormal(loc=0., scale=np.float64(1.)),\n",
        "    'length_scale': tfd.LogNormal(loc=0., scale=np.float64(1.)),\n",
        "    'observations': build_gp,\n",
        "})\n",
        "\n",
        "constrain_positive = tfb.Shift(np.finfo(np.float64).tiny)(tfb.Exp())\n",
        "\n",
        "def target_log_prob(amplitude, length_scale):\n",
        "  return gp_joint_model.log_prob({\n",
        "      'amplitude': amplitude,\n",
        "      'length_scale': length_scale,\n",
        "      'observation_noise_variance':g_magerr.values[0],\n",
        "      'observations': g_mag.values,\n",
        "  })"
      ],
      "metadata": {
        "id": "kszf8QGqiR1O"
      },
      "execution_count": null,
      "outputs": []
    },
    {
      "cell_type": "code",
      "source": [
        "num_results = 100\n",
        "num_burnin_steps = 50\n",
        "\n",
        "sampler = tfp.mcmc.TransformedTransitionKernel(\n",
        "    tfp.mcmc.NoUTurnSampler(\n",
        "        target_log_prob_fn=target_log_prob,\n",
        "        step_size=tf.cast(0.1, tf.float64)),\n",
        "    bijector=[constrain_positive, constrain_positive])\n",
        "\n",
        "adaptive_sampler = tfp.mcmc.DualAveragingStepSizeAdaptation(\n",
        "    inner_kernel=sampler,\n",
        "    num_adaptation_steps=int(0.8 * num_burnin_steps),\n",
        "    target_accept_prob=tf.cast(0.75, tf.float64))\n",
        "\n",
        "initial_state = [tf.cast(x, tf.float64) for x in [8., 30.]]\n"
      ],
      "metadata": {
        "id": "BJuXzvz6DfCL"
      },
      "execution_count": null,
      "outputs": []
    },
    {
      "cell_type": "code",
      "source": [
        "# Speed up sampling by tracing with `tf.function`.\n",
        "@tf.function(autograph=False, jit_compile=False)\n",
        "def do_sampling():\n",
        "  return tfp.mcmc.sample_chain(\n",
        "      kernel=adaptive_sampler,\n",
        "      current_state=initial_state,\n",
        "      num_results=num_results,\n",
        "      num_burnin_steps=num_burnin_steps,\n",
        "      trace_fn=lambda current_state, kernel_results: kernel_results)\n",
        "\n",
        "samples, kernel_results = do_sampling()\n"
      ],
      "metadata": {
        "id": "-9lWyvOt-mQb"
      },
      "execution_count": null,
      "outputs": []
    },
    {
      "cell_type": "code",
      "source": [
        "(amplitude_samples,\n",
        " length_scale_samples) = samples\n",
        "\n",
        "f = plt.figure(figsize=[15, 3])\n",
        "for i, s in enumerate(samples):\n",
        "  ax = f.add_subplot(1, len(samples) + 1, i + 1)\n",
        "  ax.plot(s)\n"
      ],
      "metadata": {
        "colab": {
          "base_uri": "https://localhost:8080/",
          "height": 215
        },
        "id": "9LzX1-ue-8de",
        "outputId": "64eeee77-b045-45f7-ca4e-336c174eebea"
      },
      "execution_count": null,
      "outputs": [
        {
          "output_type": "display_data",
          "data": {
            "text/plain": [
              "<Figure size 1080x216 with 2 Axes>"
            ],
            "image/png": "[encoded data removed]"
          },
          "metadata": {
            "needs_background": "light"
          }
        }
      ]
    },
    {
      "cell_type": "code",
      "source": [
        "# The sampled hyperparams have a leading batch dimension, `[num_results, ...]`,\n",
        "# so they construct a *batch* of kernels.\n",
        "batch_of_posterior_kernels = tfk.ExponentiatedQuadratic(\n",
        "    amplitude_samples, length_scale_samples)\n",
        "\n",
        "predictive_index_points = np.linspace(-10., 40., 100)[..., np.newaxis]\n",
        "observation_index_points = np.expand_dims(g_time.values, 1)\n",
        "\n",
        "# The batch of kernels creates a batch of GP predictive models, one for each\n",
        "# posterior sample.\n",
        "batch_gprm = tfd.GaussianProcessRegressionModel(\n",
        "    kernel=batch_of_posterior_kernels,\n",
        "    index_points=predictive_index_points,\n",
        "    observation_index_points=observation_index_points,\n",
        "    observations=g_mag.values,\n",
        "    observation_noise_variance=g_magerr.values[0],\n",
        "    predictive_noise_variance=0.)\n",
        "\n",
        "# To construct the marginal predictive distribution, we average with uniform\n",
        "# weight over the posterior samples.\n",
        "predictive_gprm = tfd.MixtureSameFamily(\n",
        "    mixture_distribution=tfd.Categorical(logits=tf.zeros([num_results])),\n",
        "    components_distribution=batch_gprm)\n",
        "\n",
        "num_samples = 20\n",
        "samples = predictive_gprm.sample(num_samples)\n"
      ],
      "metadata": {
        "id": "LRFJaZnj_ecY"
      },
      "execution_count": null,
      "outputs": []
    },
    {
      "cell_type": "code",
      "source": [
        "for i in range(num_samples):\n",
        "  plt.plot(predictive_index_points, samples[i,:],'r', alpha=0.2)\n",
        "\n",
        "plt.plot(g_time, g_mag, 'ro')"
      ],
      "metadata": {
        "colab": {
          "base_uri": "https://localhost:8080/",
          "height": 283
        },
        "id": "s0fj36kg_4O8",
        "outputId": "550ef516-c846-43b2-a188-060c277b15ad"
      },
      "execution_count": null,
      "outputs": [
        {
          "output_type": "execute_result",
          "data": {
            "text/plain": [
              "[<matplotlib.lines.Line2D at 0x7fc064893450>]"
            ]
          },
          "metadata": {},
          "execution_count": 32
        },
        {
          "output_type": "display_data",
          "data": {
            "text/plain": [
              "<Figure size 432x288 with 1 Axes>"
            ],
            "image/png": "[encoded data removed]"
          },
          "metadata": {
            "needs_background": "light"
          }
        }
      ]
    },
    {
      "cell_type": "code",
      "source": [
        ""
      ],
      "metadata": {
        "id": "O4ONjORDAFFO"
      },
      "execution_count": null,
      "outputs": []
    }
  ]
}