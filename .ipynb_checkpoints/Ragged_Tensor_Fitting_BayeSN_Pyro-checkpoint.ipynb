{
  "cells": [
    {
      "cell_type": "code",
      "execution_count": 1,
      "metadata": {
        "colab": {
          "base_uri": "https://localhost:8080/"
        },
        "id": "uX96bEWTmND0",
        "outputId": "bd433198-a92e-46f0-c182-92eb129275d9"
      },
      "outputs": [
        {
          "output_type": "stream",
          "name": "stdout",
          "text": [
            "Looking in indexes: https://pypi.org/simple, https://us-python.pkg.dev/colab-wheels/public/simple/\n",
            "Collecting pyro-ppl\n",
            "  Downloading pyro_ppl-1.8.1-py3-none-any.whl (718 kB)\n",
            "\u001b[K     |████████████████████████████████| 718 kB 4.9 MB/s \n",
            "\u001b[?25hRequirement already satisfied: numpy>=1.7 in /usr/local/lib/python3.7/dist-packages (from pyro-ppl) (1.21.6)\n",
            "Collecting pyro-api>=0.1.1\n",
            "  Downloading pyro_api-0.1.2-py3-none-any.whl (11 kB)\n",
            "Requirement already satisfied: opt-einsum>=2.3.2 in /usr/local/lib/python3.7/dist-packages (from pyro-ppl) (3.3.0)\n",
            "Requirement already satisfied: torch>=1.11.0 in /usr/local/lib/python3.7/dist-packages (from pyro-ppl) (1.11.0+cu113)\n",
            "Requirement already satisfied: tqdm>=4.36 in /usr/local/lib/python3.7/dist-packages (from pyro-ppl) (4.64.0)\n",
            "Requirement already satisfied: typing-extensions in /usr/local/lib/python3.7/dist-packages (from torch>=1.11.0->pyro-ppl) (4.2.0)\n",
            "Installing collected packages: pyro-api, pyro-ppl\n",
            "Successfully installed pyro-api-0.1.2 pyro-ppl-1.8.1\n"
          ]
        }
      ],
      "source": [
        "!pip3 install pyro-ppl "
      ]
    },
    {
      "cell_type": "code",
      "execution_count": 2,
      "metadata": {
        "colab": {
          "base_uri": "https://localhost:8080/"
        },
        "id": "TLPeho_PRgNP",
        "outputId": "6826a790-0d27-4441-d912-05253671e677"
      },
      "outputs": [
        {
          "output_type": "stream",
          "name": "stdout",
          "text": [
            "Looking in indexes: https://pypi.org/simple, https://us-python.pkg.dev/colab-wheels/public/simple/\n",
            "Collecting extinction\n",
            "  Downloading extinction-0.4.6-cp37-cp37m-manylinux_2_5_x86_64.manylinux1_x86_64.manylinux_2_12_x86_64.manylinux2010_x86_64.whl (418 kB)\n",
            "\u001b[K     |████████████████████████████████| 418 kB 4.9 MB/s \n",
            "\u001b[?25hRequirement already satisfied: numpy>=1.13.3 in /usr/local/lib/python3.7/dist-packages (from extinction) (1.21.6)\n",
            "Installing collected packages: extinction\n",
            "Successfully installed extinction-0.4.6\n"
          ]
        }
      ],
      "source": [
        "!pip install extinction"
      ]
    },
    {
      "cell_type": "code",
      "source": [
        "!pip install corner"
      ],
      "metadata": {
        "colab": {
          "base_uri": "https://localhost:8080/"
        },
        "id": "u-aOtXYMeTcO",
        "outputId": "a8f9e04e-e68f-4fec-844c-257636dd0128"
      },
      "execution_count": 3,
      "outputs": [
        {
          "output_type": "stream",
          "name": "stdout",
          "text": [
            "Looking in indexes: https://pypi.org/simple, https://us-python.pkg.dev/colab-wheels/public/simple/\n",
            "Collecting corner\n",
            "  Downloading corner-2.2.1-py3-none-any.whl (15 kB)\n",
            "Requirement already satisfied: matplotlib>=2.1 in /usr/local/lib/python3.7/dist-packages (from corner) (3.2.2)\n",
            "Requirement already satisfied: numpy>=1.11 in /usr/local/lib/python3.7/dist-packages (from matplotlib>=2.1->corner) (1.21.6)\n",
            "Requirement already satisfied: cycler>=0.10 in /usr/local/lib/python3.7/dist-packages (from matplotlib>=2.1->corner) (0.11.0)\n",
            "Requirement already satisfied: kiwisolver>=1.0.1 in /usr/local/lib/python3.7/dist-packages (from matplotlib>=2.1->corner) (1.4.2)\n",
            "Requirement already satisfied: python-dateutil>=2.1 in /usr/local/lib/python3.7/dist-packages (from matplotlib>=2.1->corner) (2.8.2)\n",
            "Requirement already satisfied: pyparsing!=2.0.4,!=2.1.2,!=2.1.6,>=2.0.1 in /usr/local/lib/python3.7/dist-packages (from matplotlib>=2.1->corner) (3.0.9)\n",
            "Requirement already satisfied: typing-extensions in /usr/local/lib/python3.7/dist-packages (from kiwisolver>=1.0.1->matplotlib>=2.1->corner) (4.2.0)\n",
            "Requirement already satisfied: six>=1.5 in /usr/local/lib/python3.7/dist-packages (from python-dateutil>=2.1->matplotlib>=2.1->corner) (1.15.0)\n",
            "Installing collected packages: corner\n",
            "Successfully installed corner-2.2.1\n"
          ]
        }
      ]
    },
    {
      "cell_type": "code",
      "execution_count": 4,
      "metadata": {
        "id": "9xkM4Rl_RQdX"
      },
      "outputs": [],
      "source": [
        "import logging\n",
        "import os\n",
        "\n",
        "import torch\n",
        "import numpy as np\n",
        "import pandas as pd\n",
        "import seaborn as sns\n",
        "import matplotlib.pyplot as plt\n",
        "import matplotlib.lines as mlines\n",
        "import matplotlib.colors as colors\n",
        "\n",
        "\n",
        "import corner\n",
        "import time as measure_time\n",
        "\n",
        "import pyro\n",
        "\n",
        "import pyro.distributions as dist\n",
        "import pyro.distributions.constraints as constraints\n",
        "from pyro.infer import SVI, Trace_ELBO,Predictive\n",
        "from pyro.optim import Adam\n",
        "\n",
        "from scipy.interpolate import interp1d\n",
        "import h5py\n",
        "import extinction\n",
        "\n",
        "from astropy.cosmology import FlatLambdaCDM\n",
        "\n",
        "from spline_hsiao_fns import *"
      ]
    },
    {
      "cell_type": "markdown",
      "metadata": {
        "id": "syqWBFKbDk8B"
      },
      "source": [
        "##Get constants from files"
      ]
    },
    {
      "cell_type": "code",
      "execution_count": 5,
      "metadata": {
        "id": "AlhMMde4mIBy"
      },
      "outputs": [],
      "source": [
        "W0 = np.loadtxt(\"W0.txt\")\n",
        "W1 = np.loadtxt(\"W1.txt\")\n",
        "time_knots = np.loadtxt(\"tau_knots.txt\")\n",
        "wavelength_knots = np.loadtxt(\"l_knots.txt\")\n",
        "L_sigma_epsilon = np.loadtxt(\"L_Sigma_epsilon.txt\")\n",
        "M0, sigma0, rv, tauA = np.loadtxt(\"M0_sigma0_RV_tauA.txt\")"
      ]
    },
    {
      "cell_type": "code",
      "execution_count": 6,
      "metadata": {
        "id": "vdSkGKgr4S5R"
      },
      "outputs": [],
      "source": [
        "g_wavelengths, _, g_norm_throughput = np.loadtxt(\"g_PS1.txt\", skiprows = 2, unpack = True)\n",
        "r_wavelengths, _, r_norm_throughput = np.loadtxt(\"r_PS1.txt\", skiprows = 2, unpack = True)\n",
        "i_wavelengths, _, i_norm_throughput = np.loadtxt(\"i_PS1.txt\", skiprows = 2, unpack = True)\n",
        "z_wavelengths, _, z_norm_throughput = np.loadtxt(\"z_PS1.txt\", skiprows = 2, unpack = True)"
      ]
    },
    {
      "cell_type": "code",
      "execution_count": 7,
      "metadata": {
        "colab": {
          "base_uri": "https://localhost:8080/",
          "height": 206
        },
        "id": "R_kLGimHNEDX",
        "outputId": "b55a8243-84c1-405d-8bf4-d0a82eaeba6a"
      },
      "outputs": [
        {
          "output_type": "execute_result",
          "data": {
            "text/plain": [
              "           MJD FLT   FLUXCAL  FLUXCALERR     MAG  MAGERR\n",
              "0  57439.23445   g  4005.553     227.047  18.493   0.061\n",
              "1  57444.23967   g  4352.048     146.663  18.403   0.036\n",
              "2  57449.23437   g  3297.302     142.817  18.705   0.047\n",
              "3  57457.23616   g  1835.407     122.820  19.341   0.072\n",
              "4  57464.23884   g  1048.120     213.621  19.949   0.220"
            ],
            "text/html": [
              "\n",
              "  <div id=\"df-673dcd68-94cf-4f04-aac3-c9cc148769a9\">\n",
              "    <div class=\"colab-df-container\">\n",
              "      <div>\n",
              "<style scoped>\n",
              "    .dataframe tbody tr th:only-of-type {\n",
              "        vertical-align: middle;\n",
              "    }\n",
              "\n",
              "    .dataframe tbody tr th {\n",
              "        vertical-align: top;\n",
              "    }\n",
              "\n",
              "    .dataframe thead th {\n",
              "        text-align: right;\n",
              "    }\n",
              "</style>\n",
              "<table border=\"1\" class=\"dataframe\">\n",
              "  <thead>\n",
              "    <tr style=\"text-align: right;\">\n",
              "      <th></th>\n",
              "      <th>MJD</th>\n",
              "      <th>FLT</th>\n",
              "      <th>FLUXCAL</th>\n",
              "      <th>FLUXCALERR</th>\n",
              "      <th>MAG</th>\n",
              "      <th>MAGERR</th>\n",
              "    </tr>\n",
              "  </thead>\n",
              "  <tbody>\n",
              "    <tr>\n",
              "      <th>0</th>\n",
              "      <td>57439.23445</td>\n",
              "      <td>g</td>\n",
              "      <td>4005.553</td>\n",
              "      <td>227.047</td>\n",
              "      <td>18.493</td>\n",
              "      <td>0.061</td>\n",
              "    </tr>\n",
              "    <tr>\n",
              "      <th>1</th>\n",
              "      <td>57444.23967</td>\n",
              "      <td>g</td>\n",
              "      <td>4352.048</td>\n",
              "      <td>146.663</td>\n",
              "      <td>18.403</td>\n",
              "      <td>0.036</td>\n",
              "    </tr>\n",
              "    <tr>\n",
              "      <th>2</th>\n",
              "      <td>57449.23437</td>\n",
              "      <td>g</td>\n",
              "      <td>3297.302</td>\n",
              "      <td>142.817</td>\n",
              "      <td>18.705</td>\n",
              "      <td>0.047</td>\n",
              "    </tr>\n",
              "    <tr>\n",
              "      <th>3</th>\n",
              "      <td>57457.23616</td>\n",
              "      <td>g</td>\n",
              "      <td>1835.407</td>\n",
              "      <td>122.820</td>\n",
              "      <td>19.341</td>\n",
              "      <td>0.072</td>\n",
              "    </tr>\n",
              "    <tr>\n",
              "      <th>4</th>\n",
              "      <td>57464.23884</td>\n",
              "      <td>g</td>\n",
              "      <td>1048.120</td>\n",
              "      <td>213.621</td>\n",
              "      <td>19.949</td>\n",
              "      <td>0.220</td>\n",
              "    </tr>\n",
              "  </tbody>\n",
              "</table>\n",
              "</div>\n",
              "      <button class=\"colab-df-convert\" onclick=\"convertToInteractive('df-673dcd68-94cf-4f04-aac3-c9cc148769a9')\"\n",
              "              title=\"Convert this dataframe to an interactive table.\"\n",
              "              style=\"display:none;\">\n",
              "        \n",
              "  <svg xmlns=\"http://www.w3.org/2000/svg\" height=\"24px\"viewBox=\"0 0 24 24\"\n",
              "       width=\"24px\">\n",
              "    <path d=\"M0 0h24v24H0V0z\" fill=\"none\"/>\n",
              "    <path d=\"M18.56 5.44l.94 2.06.94-2.06 2.06-.94-2.06-.94-.94-2.06-.94 2.06-2.06.94zm-11 1L8.5 8.5l.94-2.06 2.06-.94-2.06-.94L8.5 2.5l-.94 2.06-2.06.94zm10 10l.94 2.06.94-2.06 2.06-.94-2.06-.94-.94-2.06-.94 2.06-2.06.94z\"/><path d=\"M17.41 7.96l-1.37-1.37c-.4-.4-.92-.59-1.43-.59-.52 0-1.04.2-1.43.59L10.3 9.45l-7.72 7.72c-.78.78-.78 2.05 0 2.83L4 21.41c.39.39.9.59 1.41.59.51 0 1.02-.2 1.41-.59l7.78-7.78 2.81-2.81c.8-.78.8-2.07 0-2.86zM5.41 20L4 18.59l7.72-7.72 1.47 1.35L5.41 20z\"/>\n",
              "  </svg>\n",
              "      </button>\n",
              "      \n",
              "  <style>\n",
              "    .colab-df-container {\n",
              "      display:flex;\n",
              "      flex-wrap:wrap;\n",
              "      gap: 12px;\n",
              "    }\n",
              "\n",
              "    .colab-df-convert {\n",
              "      background-color: #E8F0FE;\n",
              "      border: none;\n",
              "      border-radius: 50%;\n",
              "      cursor: pointer;\n",
              "      display: none;\n",
              "      fill: #1967D2;\n",
              "      height: 32px;\n",
              "      padding: 0 0 0 0;\n",
              "      width: 32px;\n",
              "    }\n",
              "\n",
              "    .colab-df-convert:hover {\n",
              "      background-color: #E2EBFA;\n",
              "      box-shadow: 0px 1px 2px rgba(60, 64, 67, 0.3), 0px 1px 3px 1px rgba(60, 64, 67, 0.15);\n",
              "      fill: #174EA6;\n",
              "    }\n",
              "\n",
              "    [theme=dark] .colab-df-convert {\n",
              "      background-color: #3B4455;\n",
              "      fill: #D2E3FC;\n",
              "    }\n",
              "\n",
              "    [theme=dark] .colab-df-convert:hover {\n",
              "      background-color: #434B5C;\n",
              "      box-shadow: 0px 1px 3px 1px rgba(0, 0, 0, 0.15);\n",
              "      filter: drop-shadow(0px 1px 2px rgba(0, 0, 0, 0.3));\n",
              "      fill: #FFFFFF;\n",
              "    }\n",
              "  </style>\n",
              "\n",
              "      <script>\n",
              "        const buttonEl =\n",
              "          document.querySelector('#df-673dcd68-94cf-4f04-aac3-c9cc148769a9 button.colab-df-convert');\n",
              "        buttonEl.style.display =\n",
              "          google.colab.kernel.accessAllowed ? 'block' : 'none';\n",
              "\n",
              "        async function convertToInteractive(key) {\n",
              "          const element = document.querySelector('#df-673dcd68-94cf-4f04-aac3-c9cc148769a9');\n",
              "          const dataTable =\n",
              "            await google.colab.kernel.invokeFunction('convertToInteractive',\n",
              "                                                     [key], {});\n",
              "          if (!dataTable) return;\n",
              "\n",
              "          const docLinkHtml = 'Like what you see? Visit the ' +\n",
              "            '<a target=\"_blank\" href=https://colab.research.google.com/notebooks/data_table.ipynb>data table notebook</a>'\n",
              "            + ' to learn more about interactive tables.';\n",
              "          element.innerHTML = '';\n",
              "          dataTable['output_type'] = 'display_data';\n",
              "          await google.colab.output.renderOutput(dataTable, element);\n",
              "          const docLink = document.createElement('div');\n",
              "          docLink.innerHTML = docLinkHtml;\n",
              "          element.appendChild(docLink);\n",
              "        }\n",
              "      </script>\n",
              "    </div>\n",
              "  </div>\n",
              "  "
            ]
          },
          "metadata": {},
          "execution_count": 7
        }
      ],
      "source": [
        "filename = \"AT2016aj.dat\"\n",
        "\n",
        "df = pd.read_csv(filename, sep=\" \", header = 0, index_col = False, names = ['MJD', \"FLT\", 'FLUXCAL', 'FLUXCALERR', 'MAG', 'MAGERR'])\n",
        "df = df.dropna()\n",
        "df.head()"
      ]
    },
    {
      "cell_type": "code",
      "execution_count": 8,
      "metadata": {
        "id": "0iZBTV98NE-9"
      },
      "outputs": [],
      "source": [
        "tmax = 57464.23 if filename==\"ASASSN-16cs.dat\" else 57442.92\n",
        "z_helio = 0.01802 if filename==\"ASASSN-16cs.dat\" else 0.06741\n",
        "\n",
        "g_time = (df.MJD[df.FLT=='g'] - tmax) / (1 + z_helio)\n",
        "r_time = (df.MJD[df.FLT=='r'] - tmax) / (1 + z_helio)\n",
        "i_time = (df.MJD[df.FLT=='i'] - tmax) / (1 + z_helio)\n",
        "z_time = (df.MJD[df.FLT=='z'] - tmax) / (1 + z_helio)\n",
        "\n",
        "g_mag = df.MAG[df.FLT=='g']\n",
        "r_mag = df.MAG[df.FLT=='r']\n",
        "i_mag = df.MAG[df.FLT=='i']\n",
        "z_mag = df.MAG[df.FLT=='z']\n",
        "\n",
        "g_magerr = df.MAGERR[df.FLT=='g']\n",
        "r_magerr = df.MAGERR[df.FLT=='r']\n",
        "i_magerr = df.MAGERR[df.FLT=='i'][:-1]\n",
        "z_magerr = df.MAGERR[df.FLT=='z']\n",
        "\n",
        "g_flux = df.FLUXCAL[df.FLT=='g']\n",
        "r_flux = df.FLUXCAL[df.FLT=='r']\n",
        "i_flux = df.FLUXCAL[df.FLT=='i']\n",
        "z_flux = df.FLUXCAL[df.FLT=='z']\n",
        "\n",
        "g_fluxerr = df.FLUXCALERR[df.FLT=='g']\n",
        "r_fluxerr = df.FLUXCALERR[df.FLT=='r']\n",
        "i_fluxerr = df.FLUXCALERR[df.FLT=='i'][:-1]\n",
        "z_fluxerr = df.FLUXCALERR[df.FLT=='z']\n",
        "\n",
        "# i_mag = i_mag[:-1]\n",
        "# i_time = i_time[:-1] ## remove last point which is outside the (-10, 40) time range\n",
        "\n",
        "# i_flux = i_flux[:-1]"
      ]
    },
    {
      "cell_type": "code",
      "source": [
        "z_flux"
      ],
      "metadata": {
        "colab": {
          "base_uri": "https://localhost:8080/"
        },
        "id": "jhGUTBDdJy01",
        "outputId": "5aa54a5b-7988-485e-b8b9-7fc3f12bc416"
      },
      "execution_count": 9,
      "outputs": [
        {
          "output_type": "execute_result",
          "data": {
            "text/plain": [
              "18    2641.760\n",
              "19    1720.968\n",
              "20    1640.421\n",
              "21    1150.321\n",
              "22    1282.191\n",
              "Name: FLUXCAL, dtype: float64"
            ]
          },
          "metadata": {},
          "execution_count": 9
        }
      ]
    },
    {
      "cell_type": "code",
      "source": [
        "plt.plot(g_time, g_mag, label='g', marker='o')\n",
        "plt.plot(r_time, r_mag-2, label = 'r', marker='o')\n",
        "plt.plot(i_time, i_mag-4,label = 'i', marker='o')\n",
        "plt.plot(z_time, z_mag-6, label = 'z', marker='o')\n",
        "plt.legend()\n",
        "# plt.ylim(19,10)\n",
        "plt.xlim(-5, 35)\n",
        "plt.show() "
      ],
      "metadata": {
        "colab": {
          "base_uri": "https://localhost:8080/",
          "height": 265
        },
        "id": "9aOP-JB_P8F7",
        "outputId": "a14ddcbb-cb3a-4fd7-c68b-e30049d4011a"
      },
      "execution_count": 10,
      "outputs": [
        {
          "output_type": "display_data",
          "data": {
            "text/plain": [
              "<Figure size 432x288 with 1 Axes>"
            ],
            "image/png": "[encoded data removed]"
          },
          "metadata": {
            "needs_background": "light"
          }
        }
      ]
    },
    {
      "cell_type": "code",
      "execution_count": 11,
      "metadata": {
        "id": "9FafFqGYWwV2"
      },
      "outputs": [],
      "source": [
        "# cosmo = FlatLambdaCDM(H0 = 73.24, Om0 = 0.28)\n",
        "# z = pyro.sample(\"z\", dist.Uniform(0.015, 0.08)).numpy()\n",
        "# mu_s = cosmo.distmod(z).value\n",
        "\n",
        "z = 0.018\n",
        "# mu_s = 31.\n",
        "\n",
        "z_helio = 0.06741 ## for AT2016aj\n",
        "EBV_MW = 0.0414 ## for AT2016aj\n",
        "\n",
        "z = z_helio\n",
        "\n",
        "ZPT = 27.5\n",
        "M0 = -19.5\n",
        "gamma = np.log(10) / 2.5\n",
        "\n",
        "EBV_MW = 0.1\n",
        "Av_obs = EBV_MW * 3.1"
      ]
    },
    {
      "cell_type": "code",
      "execution_count": 12,
      "metadata": {
        "id": "3O3U1dd3wlGW"
      },
      "outputs": [],
      "source": [
        "hsiao_phase, hsiao_wave, hsiao_flux = read_model_grid()"
      ]
    },
    {
      "cell_type": "markdown",
      "metadata": {
        "id": "TqpkG4FUH6jF"
      },
      "source": [
        "Things we can pre-calculate\n",
        "---\n",
        "\n"
      ]
    },
    {
      "cell_type": "code",
      "execution_count": 13,
      "metadata": {
        "id": "d3FwBBvNNMUe"
      },
      "outputs": [],
      "source": [
        "def get_lambda_int_for_band(band_wavelengths, z = z):\n",
        "  source_wavelengths = band_wavelengths / (1 + z)\n",
        "  return np.linspace(np.min(source_wavelengths), np.max(source_wavelengths), 150)"
      ]
    },
    {
      "cell_type": "code",
      "execution_count": 14,
      "metadata": {
        "id": "RfUeX01sH3Cs"
      },
      "outputs": [],
      "source": [
        "# times_to_interpolate = np.linspace(-10, 40)\n",
        "times_to_interpolate = i_time.values\n",
        "wavelengths_to_interpolate = get_lambda_int_for_band(i_wavelengths)"
      ]
    },
    {
      "cell_type": "code",
      "execution_count": 15,
      "metadata": {
        "id": "2YhpMi-cIBLe"
      },
      "outputs": [],
      "source": [
        "Jt = spline_coeffs_irr(times_to_interpolate, time_knots, invKD_irr(time_knots))\n",
        "Jl = spline_coeffs_irr(wavelengths_to_interpolate, wavelength_knots, invKD_irr(wavelength_knots))"
      ]
    },
    {
      "cell_type": "code",
      "execution_count": 16,
      "metadata": {
        "colab": {
          "base_uri": "https://localhost:8080/"
        },
        "id": "mC0ECO3UISkT",
        "outputId": "ed1f3506-7302-4aed-ec79-184f6385a266"
      },
      "outputs": [
        {
          "output_type": "execute_result",
          "data": {
            "text/plain": [
              "(150, 6)"
            ]
          },
          "metadata": {},
          "execution_count": 16
        }
      ],
      "source": [
        "xis = extinction.fitzpatrick99(wavelengths_to_interpolate, 1, rv)\n",
        "xis_matrix = np.tile(xis, (len(times_to_interpolate),1)).T\n",
        "xis_matrix.shape"
      ]
    },
    {
      "cell_type": "code",
      "execution_count": 17,
      "metadata": {
        "id": "6Xg0FtqVODJf"
      },
      "outputs": [],
      "source": [
        "## interpolate Hsiao coefficient at desired time and wavelength points\n",
        "S0 = np.zeros((len(wavelengths_to_interpolate), len(times_to_interpolate)))\n",
        "for i, wavelength in enumerate(wavelengths_to_interpolate):\n",
        "  for j, time in enumerate(times_to_interpolate):\n",
        "    S0[i][j] = interpolate_hsiao(time, wavelength, hsiao_phase, hsiao_wave, hsiao_flux)"
      ]
    },
    {
      "cell_type": "code",
      "execution_count": 18,
      "metadata": {
        "colab": {
          "base_uri": "https://localhost:8080/"
        },
        "id": "BXSGedSqKkDv",
        "outputId": "e07d9603-eb66-46b8-d97c-427dbd7e69a5"
      },
      "outputs": [
        {
          "output_type": "execute_result",
          "data": {
            "text/plain": [
              "(150,)"
            ]
          },
          "metadata": {},
          "execution_count": 18
        }
      ],
      "source": [
        "throughput_interpolator = interp1d(i_wavelengths, i_norm_throughput)\n",
        "b = throughput_interpolator(wavelengths_to_interpolate * (1 + z))\n",
        "\n",
        "xis_obs = extinction.fitzpatrick99(wavelengths_to_interpolate*(1 + z), Av_obs, 3.1)\n",
        "dLambda = wavelengths_to_interpolate[1] - wavelengths_to_interpolate[0]\n",
        "h = (1 + z) * dLambda * b * wavelengths_to_interpolate * np.exp(-gamma * xis_obs)\n",
        "h.shape"
      ]
    },
    {
      "cell_type": "markdown",
      "metadata": {
        "id": "cRfrnIM4KBQ1"
      },
      "source": [
        "Now let's actually make the model\n",
        "---"
      ]
    },
    {
      "cell_type": "code",
      "execution_count": 19,
      "metadata": {
        "id": "fbrCYURCMloV"
      },
      "outputs": [],
      "source": [
        "eps_cov = torch.as_tensor(np.matmul(L_sigma_epsilon, L_sigma_epsilon.T), dtype = torch.float)"
      ]
    },
    {
      "cell_type": "code",
      "execution_count": 20,
      "metadata": {
        "id": "8w6Dy5FwNlpL"
      },
      "outputs": [],
      "source": [
        "def get_flux_from_params(epsilon_interior, theta, mu_s, dMs, Av, W0 = W0, W1 = W1, xis_matrix = xis_matrix, S0 = S0, h = h, Jl = Jl, Jt = Jt):\n",
        "\n",
        "  epsilon = np.zeros_like(W0)   ## populate epsilon matrix\n",
        "  epsilon[1:-1] = epsilon_interior.numpy().reshape((9,6), order = 'F')\n",
        "\n",
        "  W = W0 + theta.numpy()*W1 + epsilon\n",
        "\n",
        "  JlWJt = np.matmul(Jl, np.matmul(W, Jt.T))\n",
        "\n",
        "  Stilde = S0 * np.exp(-gamma * (JlWJt + Av.numpy() * xis_matrix))\n",
        "\n",
        "  f = 10**(0.4 * (ZPT - mu_s.numpy() - M0 - dMs.numpy())) * np.matmul(h,Stilde)\n",
        "\n",
        "  return f"
      ]
    },
    {
      "cell_type": "code",
      "source": [
        "tauA"
      ],
      "metadata": {
        "colab": {
          "base_uri": "https://localhost:8080/"
        },
        "id": "5rlQXHtIV5nd",
        "outputId": "4cd3bb18-1e31-4f1c-d2ec-6d87dc08bc69"
      },
      "execution_count": 21,
      "outputs": [
        {
          "output_type": "execute_result",
          "data": {
            "text/plain": [
              "0.252"
            ]
          },
          "metadata": {},
          "execution_count": 21
        }
      ]
    },
    {
      "cell_type": "code",
      "source": [
        "pyro.sample(\"Av\", dist.Exponential(tauA))"
      ],
      "metadata": {
        "colab": {
          "base_uri": "https://localhost:8080/"
        },
        "id": "tcwG0GlXV3RO",
        "outputId": "dc0faffd-6609-44d9-b5eb-8bb5254190bd"
      },
      "execution_count": 22,
      "outputs": [
        {
          "output_type": "execute_result",
          "data": {
            "text/plain": [
              "tensor(1.9194)"
            ]
          },
          "metadata": {},
          "execution_count": 22
        }
      ]
    },
    {
      "cell_type": "code",
      "execution_count": 23,
      "metadata": {
        "id": "ZJgVfDp0MTaT"
      },
      "outputs": [],
      "source": [
        "# def model_vi():\n",
        "#   epsilon_interior = pyro.sample(\"eps_int\", dist.MultivariateNormal(torch.zeros(len(eps_cov)), covariance_matrix = eps_cov))\n",
        "#   theta = pyro.sample(\"theta\", dist.Normal(torch.tensor(0.), torch.tensor(1.)))\n",
        "#   mu_s = pyro.sample(\"mu_s\", dist.Normal(34.5, 1.)) ## fix this later\n",
        "\n",
        "\n",
        "#   # dMs = pyro.sample(\"Ms\", dist.Normal(torch.tensor(0.), torch.tensor(sigma0)))\n",
        "#   dMs = torch.tensor(0.)\n",
        "#   # Av = pyro.sample(\"Av\", dist.Exponential(tauA))\n",
        "#   Av = pyro.sample(\"Av\", dist.Normal(0.27, 1.))\n",
        "\n",
        "#   epsilon = torch.zeros(W0.shape)   ## populate epsilon matrix\n",
        "#   epsilon[1:-1] = torch.transpose(torch.reshape(epsilon_interior, (6,9)), 0, 1)\n",
        "\n",
        "#   W = torch.as_tensor(W0) + theta*torch.as_tensor(W1) + epsilon\n",
        "\n",
        "#   JlWJt = torch.matmul(torch.as_tensor(Jl), torch.matmul(W, torch.as_tensor(Jt.T)))\n",
        "\n",
        "#   Stilde = torch.as_tensor(S0) * torch.exp(-gamma * (JlWJt + Av * torch.as_tensor(xis_matrix)))\n",
        "\n",
        "#   f = 10**(0.4 * ZPT - mu_s - M0 - dMs) * torch.matmul(torch.as_tensor(h), torch.as_tensor(Stilde))\n",
        "\n",
        "#   with pyro.plate(\"observations\", len(i_flux.values)):\n",
        "#     pyro.sample(\"flux\", dist.Normal(f, 200. * torch.ones(6)).independent(1), obs = torch.as_tensor(i_flux.values))"
      ]
    },
    {
      "cell_type": "code",
      "source": [
        "Av_obs"
      ],
      "metadata": {
        "colab": {
          "base_uri": "https://localhost:8080/"
        },
        "id": "3KoXeAVVJkVh",
        "outputId": "7bf56d6c-f786-42d3-c4f1-cfad0b11b09a"
      },
      "execution_count": 24,
      "outputs": [
        {
          "output_type": "execute_result",
          "data": {
            "text/plain": [
              "0.31000000000000005"
            ]
          },
          "metadata": {},
          "execution_count": 24
        }
      ]
    },
    {
      "cell_type": "code",
      "source": [
        "# times_to_interpolate = times\n",
        "\n",
        "wavelengths_dict = {'g':g_wavelengths, 'r':r_wavelengths, 'i':i_wavelengths, 'z':z_wavelengths}\n",
        "norm_throughput_dict = {'g':g_norm_throughput, 'r':r_norm_throughput, 'i':i_norm_throughput, 'z':z_norm_throughput}\n",
        "times_dict = {'g':g_time.values, 'r':r_time.values, 'i':i_time.values, 'z':z_time.values}\n",
        "\n",
        "bands = ['g', 'r', 'i', 'z']\n",
        "\n",
        "band_Jl = {}\n",
        "band_xis_matrix = {}\n",
        "band_S0 = {}\n",
        "band_h = {}\n",
        "band_Jt = {}\n",
        "\n",
        "for band in bands:\n",
        "  band_wavelengths = wavelengths_dict[band]\n",
        "  band_norm_throughput = norm_throughput_dict[band]\n",
        "\n",
        "  times_to_interpolate = times_dict[band]\n",
        "\n",
        "  Jt = spline_coeffs_irr(times_to_interpolate, time_knots, invKD_irr(time_knots))\n",
        "  band_Jt[band] = Jt\n",
        "\n",
        "  wavelengths_to_interpolate = get_lambda_int_for_band(band_wavelengths)\n",
        "  \n",
        "  Jl = spline_coeffs_irr(wavelengths_to_interpolate, wavelength_knots, invKD_irr(wavelength_knots))\n",
        "  band_Jl[band] = Jl\n",
        "  xis = extinction.fitzpatrick99(wavelengths_to_interpolate, 1, rv)\n",
        "  xis_matrix = np.tile(xis, (len(times_to_interpolate),1)).T\n",
        "  band_xis_matrix[band] = xis_matrix\n",
        "\n",
        "  S0 = np.zeros((len(wavelengths_to_interpolate), len(times_to_interpolate)))\n",
        "  for i, wavelength in enumerate(wavelengths_to_interpolate):\n",
        "    for j, time_point in enumerate(times_to_interpolate):\n",
        "      S0[i][j] = interpolate_hsiao(time_point, wavelength, hsiao_phase, hsiao_wave, hsiao_flux)\n",
        "\n",
        "  band_S0[band] = S0\n",
        "\n",
        "  throughput_interpolator = interp1d(band_wavelengths, band_norm_throughput)\n",
        "  b = throughput_interpolator([band_wavelengths[0]] + list(wavelengths_to_interpolate[1:-1] * (1 + z)) + [band_wavelengths[-1]])\n",
        "\n",
        "  xis_obs = extinction.fitzpatrick99(wavelengths_to_interpolate*(1 + z), Av_obs, 3.1)\n",
        "  dLambda = wavelengths_to_interpolate[1] - wavelengths_to_interpolate[0]\n",
        "  h = (1 + z) * dLambda * b * wavelengths_to_interpolate * np.exp(-gamma * xis_obs)\n",
        "\n",
        "  band_h[band] = h\n",
        "\n",
        "#   band_flux = get_flux_from_params(torch.as_tensor(true_epsilon_interior), torch.as_tensor(true_theta), \n",
        "#                               torch.as_tensor(true_mu_s), torch.as_tensor(dMs), torch.as_tensor(true_Av),\n",
        "#                               xis_matrix = xis_matrix, S0 = S0, h = h, Jt = Jt, Jl = Jl)\n",
        "  \n",
        "#   all_band_fluxes.append(band_flux)\n",
        "\n",
        "# all_band_fluxes = np.array(all_band_fluxes)"
      ],
      "metadata": {
        "id": "6MBF0bhAQkrV"
      },
      "execution_count": 25,
      "outputs": []
    },
    {
      "cell_type": "code",
      "source": [
        "def model_vi(obs):\n",
        "  # epsilon_interior = pyro.sample(\"eps_int\", dist.MultivariateNormal(torch.zeros(len(eps_cov)), covariance_matrix = eps_cov))\n",
        "\n",
        "  nu = pyro.sample(\"nu\", dist.MultivariateNormal(torch.zeros(len(eps_cov)), covariance_matrix = torch.eye(len(eps_cov))))\n",
        "  # nu = torch.zeros(54)\n",
        "  epsilon_interior = torch.matmul(torch.as_tensor(L_sigma_epsilon, dtype = torch.float), nu)\n",
        "  # print(epsilon_interior)\n",
        "\n",
        "  # theta = pyro.sample(\"theta\", dist.Uniform(low=-1.49, high=2.77))\n",
        "  theta = pyro.sample(\"theta\", dist.Normal(0., 1.0))\n",
        "  # theta = torch.as_tensor(0.03430605)\n",
        "\n",
        "  # theta = torch.as_tensor(-0.9835187)\n",
        "  cosmo = FlatLambdaCDM(H0 = 73.24, Om0 = 0.28)\n",
        "  mu_s = pyro.sample(\"mu_s\", dist.Normal(cosmo.distmod(z_helio).value, 10.)) ## fix this later\n",
        "  # mu_s = torch.as_tensor(37.248927127193724)\n",
        "\n",
        "  # dMs = pyro.sample(\"Ms\", dist.Normal(torch.tensor(0.), torch.tensor(sigma0)))\n",
        "  dMs = torch.tensor(0.)\n",
        "  Av = pyro.sample(\"Av\", dist.Exponential(1 / 0.252))\n",
        "  # Av = torch.tensor(7.2387767)\n",
        "  # Av = pyro.sample(\"Av\", dist.Normal(0.27, 1.))\n",
        "\n",
        "  epsilon = torch.zeros(W0.shape)   ## populate epsilon matrix\n",
        "  epsilon[1:-1] = torch.transpose(torch.reshape(epsilon_interior, (6,9)), 0, 1)\n",
        "\n",
        "  W = torch.as_tensor(W0) + theta*torch.as_tensor(W1) + epsilon\n",
        "\n",
        "  generated_fluxes = []\n",
        "\n",
        "  for band in bands:\n",
        "    Jl = band_Jl[band]\n",
        "    S0 = band_S0[band]\n",
        "    xis_matrix = band_xis_matrix[band]\n",
        "    h = band_h[band]\n",
        "    Jt = band_Jt[band]\n",
        "\n",
        "    JlWJt = torch.matmul(torch.as_tensor(Jl), torch.matmul(W, torch.as_tensor(Jt.T)))\n",
        "\n",
        "    Stilde = torch.as_tensor(S0) * torch.exp(-gamma * (JlWJt + Av * torch.as_tensor(xis_matrix)))\n",
        "\n",
        "    f = 10**(0.4 * (torch.as_tensor(ZPT) - mu_s - torch.as_tensor(M0) - dMs)) * torch.matmul(torch.as_tensor(h), torch.as_tensor(Stilde))\n",
        "    generated_fluxes.append(f)\n",
        "\n",
        "  # generated_fluxes = torch.stack(generated_fluxes)\n",
        "  # print(generated_fluxes)\n",
        "  \n",
        "  if obs is not None:\n",
        "    for i in range(len(bands)):\n",
        "      # with pyro.plate(\"observations\"):\n",
        "        # print(len(generated_fluxes[i]))\n",
        "        for j in range(len(generated_fluxes[i])):\n",
        "            pyro.sample(\"flux\" + str(i) + str(j), dist.Normal(generated_fluxes[i][j], 0.02 * generated_fluxes[i][j]), obs = obs[0][i][j])\n",
        "          # print(obs[0][i][j])\n",
        "        # print(generated_fluxes[i])"
      ],
      "metadata": {
        "id": "f4PUOZD-OX_K"
      },
      "execution_count": 44,
      "outputs": []
    },
    {
      "cell_type": "code",
      "source": [
        "observed_fluxes = [(torch.as_tensor(g_flux.values), torch.as_tensor(r_flux.values), torch.as_tensor(i_flux.values), torch.as_tensor(z_flux.values))]"
      ],
      "metadata": {
        "id": "WV_e5O4VQ2IW"
      },
      "execution_count": 27,
      "outputs": []
    },
    {
      "cell_type": "code",
      "source": [
        "observed_fluxes[0][0]"
      ],
      "metadata": {
        "colab": {
          "base_uri": "https://localhost:8080/"
        },
        "id": "zh4ad-f4ZDCD",
        "outputId": "394d3425-8a2e-47e4-d032-501c9a06e624"
      },
      "execution_count": 28,
      "outputs": [
        {
          "output_type": "execute_result",
          "data": {
            "text/plain": [
              "tensor([4005.5530, 4352.0480, 3297.3020, 1835.4070, 1048.1200,  412.0150],\n",
              "       dtype=torch.float64)"
            ]
          },
          "metadata": {},
          "execution_count": 28
        }
      ]
    },
    {
      "cell_type": "code",
      "source": [
        "other_tensor = torch.as_tensor(np.array([[52404.7879, 58130.4852, 46895.5337, 29594.8725, 17534.0982, 11053.1069],\n",
        "        [48598.4592, 57606.4501, 51917.4832, 38853.5554, 30378.8843, 24328.2872],\n",
        "        [40029.6385, 34592.7530, 29652.9017, 23438.5865, 22959.2071, 21189.7540],\n",
        "        [30952.7222, 34969.4993, 35130.8207, 31905.8129, 28952.3929, 26269.5857]]))"
      ],
      "metadata": {
        "id": "cyrUxpO0ZM8i"
      },
      "execution_count": 29,
      "outputs": []
    },
    {
      "cell_type": "code",
      "source": [
        "len(other_tensor[0])"
      ],
      "metadata": {
        "colab": {
          "base_uri": "https://localhost:8080/"
        },
        "id": "zfeFNklJl-jf",
        "outputId": "edfad6b8-38c1-4c8a-bee5-22088688f260"
      },
      "execution_count": 30,
      "outputs": [
        {
          "output_type": "execute_result",
          "data": {
            "text/plain": [
              "6"
            ]
          },
          "metadata": {},
          "execution_count": 30
        }
      ]
    },
    {
      "cell_type": "code",
      "execution_count": 31,
      "metadata": {
        "id": "S2qPe0hjTVFZ",
        "colab": {
          "base_uri": "https://localhost:8080/"
        },
        "outputId": "52873835-c839-4b22-a32a-c709f6d8bf1b"
      },
      "outputs": [
        {
          "output_type": "stream",
          "name": "stderr",
          "text": [
            "/usr/local/lib/python3.7/dist-packages/pyro/primitives.py:139: RuntimeWarning: trying to observe a value outside of inference at flux00\n",
            "  RuntimeWarning,\n",
            "/usr/local/lib/python3.7/dist-packages/pyro/primitives.py:139: RuntimeWarning: trying to observe a value outside of inference at flux01\n",
            "  RuntimeWarning,\n",
            "/usr/local/lib/python3.7/dist-packages/pyro/primitives.py:139: RuntimeWarning: trying to observe a value outside of inference at flux02\n",
            "  RuntimeWarning,\n",
            "/usr/local/lib/python3.7/dist-packages/pyro/primitives.py:139: RuntimeWarning: trying to observe a value outside of inference at flux03\n",
            "  RuntimeWarning,\n",
            "/usr/local/lib/python3.7/dist-packages/pyro/primitives.py:139: RuntimeWarning: trying to observe a value outside of inference at flux04\n",
            "  RuntimeWarning,\n",
            "/usr/local/lib/python3.7/dist-packages/pyro/primitives.py:139: RuntimeWarning: trying to observe a value outside of inference at flux05\n",
            "  RuntimeWarning,\n",
            "/usr/local/lib/python3.7/dist-packages/pyro/primitives.py:139: RuntimeWarning: trying to observe a value outside of inference at flux10\n",
            "  RuntimeWarning,\n",
            "/usr/local/lib/python3.7/dist-packages/pyro/primitives.py:139: RuntimeWarning: trying to observe a value outside of inference at flux11\n",
            "  RuntimeWarning,\n",
            "/usr/local/lib/python3.7/dist-packages/pyro/primitives.py:139: RuntimeWarning: trying to observe a value outside of inference at flux12\n",
            "  RuntimeWarning,\n",
            "/usr/local/lib/python3.7/dist-packages/pyro/primitives.py:139: RuntimeWarning: trying to observe a value outside of inference at flux13\n",
            "  RuntimeWarning,\n",
            "/usr/local/lib/python3.7/dist-packages/pyro/primitives.py:139: RuntimeWarning: trying to observe a value outside of inference at flux14\n",
            "  RuntimeWarning,\n",
            "/usr/local/lib/python3.7/dist-packages/pyro/primitives.py:139: RuntimeWarning: trying to observe a value outside of inference at flux15\n",
            "  RuntimeWarning,\n",
            "/usr/local/lib/python3.7/dist-packages/pyro/primitives.py:139: RuntimeWarning: trying to observe a value outside of inference at flux20\n",
            "  RuntimeWarning,\n",
            "/usr/local/lib/python3.7/dist-packages/pyro/primitives.py:139: RuntimeWarning: trying to observe a value outside of inference at flux21\n",
            "  RuntimeWarning,\n",
            "/usr/local/lib/python3.7/dist-packages/pyro/primitives.py:139: RuntimeWarning: trying to observe a value outside of inference at flux22\n",
            "  RuntimeWarning,\n",
            "/usr/local/lib/python3.7/dist-packages/pyro/primitives.py:139: RuntimeWarning: trying to observe a value outside of inference at flux23\n",
            "  RuntimeWarning,\n",
            "/usr/local/lib/python3.7/dist-packages/pyro/primitives.py:139: RuntimeWarning: trying to observe a value outside of inference at flux24\n",
            "  RuntimeWarning,\n",
            "/usr/local/lib/python3.7/dist-packages/pyro/primitives.py:139: RuntimeWarning: trying to observe a value outside of inference at flux25\n",
            "  RuntimeWarning,\n",
            "/usr/local/lib/python3.7/dist-packages/pyro/primitives.py:139: RuntimeWarning: trying to observe a value outside of inference at flux30\n",
            "  RuntimeWarning,\n",
            "/usr/local/lib/python3.7/dist-packages/pyro/primitives.py:139: RuntimeWarning: trying to observe a value outside of inference at flux31\n",
            "  RuntimeWarning,\n",
            "/usr/local/lib/python3.7/dist-packages/pyro/primitives.py:139: RuntimeWarning: trying to observe a value outside of inference at flux32\n",
            "  RuntimeWarning,\n",
            "/usr/local/lib/python3.7/dist-packages/pyro/primitives.py:139: RuntimeWarning: trying to observe a value outside of inference at flux33\n",
            "  RuntimeWarning,\n",
            "/usr/local/lib/python3.7/dist-packages/pyro/primitives.py:139: RuntimeWarning: trying to observe a value outside of inference at flux34\n",
            "  RuntimeWarning,\n"
          ]
        }
      ],
      "source": [
        "model_vi(obs = observed_fluxes)"
      ]
    },
    {
      "cell_type": "code",
      "execution_count": 32,
      "metadata": {
        "colab": {
          "base_uri": "https://localhost:8080/",
          "height": 699
        },
        "id": "D5Hg_GDINHxQ",
        "outputId": "25993165-ec4b-409f-af69-1814867a0b85"
      },
      "outputs": [
        {
          "output_type": "execute_result",
          "data": {
            "text/plain": [
              "<graphviz.dot.Digraph at 0x7fea368e3390>"
            ],
            "image/svg+xml": "<?xml version=\"1.0\" encoding=\"UTF-8\" standalone=\"no\"?>\n<!DOCTYPE svg PUBLIC \"-//W3C//DTD SVG 1.1//EN\"\n \"http://www.w3.org/Graphics/SVG/1.1/DTD/svg11.dtd\">\n<!-- Generated by graphviz version 2.40.1 (20161225.0304)\n -->\n<!-- Title: %3 Pages: 1 -->\n<svg width=\"2037pt\" height=\"493pt\"\n viewBox=\"0.00 0.00 2037.49 493.00\" xmlns=\"http://www.w3.org/2000/svg\" xmlns:xlink=\"http://www.w3.org/1999/xlink\">\n<g id=\"graph0\" class=\"graph\" transform=\"scale(1 1) rotate(0) translate(4 489)\">\n<title>%3</title>\n<polygon fill=\"#ffffff\" stroke=\"transparent\" points=\"-4,4 -4,-489 2033.4937,-489 2033.4937,4 -4,4\"/>\n<!-- nu -->\n<g id=\"node1\" class=\"node\">\n<title>nu</title>\n<ellipse fill=\"#ffffff\" stroke=\"#000000\" cx=\"862.7468\" cy=\"-278.5\" rx=\"27\" ry=\"18\"/>\n<text text-anchor=\"middle\" x=\"862.7468\" y=\"-274.8\" font-family=\"Times,serif\" font-size=\"14.00\" fill=\"#000000\">nu</text>\n</g>\n<!-- theta -->\n<g id=\"node2\" class=\"node\">\n<title>theta</title>\n<ellipse fill=\"#ffffff\" stroke=\"#000000\" cx=\"936.7468\" cy=\"-278.5\" rx=\"28.6953\" ry=\"18\"/>\n<text text-anchor=\"middle\" x=\"936.7468\" y=\"-274.8\" font-family=\"Times,serif\" font-size=\"14.00\" fill=\"#000000\">theta</text>\n</g>\n<!-- flux00 -->\n<g id=\"node5\" class=\"node\">\n<title>flux00</title>\n<ellipse fill=\"#c0c0c0\" stroke=\"#000000\" cx=\"1548.7468\" cy=\"-18\" rx=\"35.9954\" ry=\"18\"/>\n<text text-anchor=\"middle\" x=\"1548.7468\" y=\"-14.3\" font-family=\"Times,serif\" font-size=\"14.00\" fill=\"#000000\">flux00</text>\n</g>\n<!-- theta&#45;&gt;flux00 -->\n<g id=\"edge3\" class=\"edge\">\n<title>theta&#45;&gt;flux00</title>\n<path fill=\"none\" stroke=\"#000000\" d=\"M933.6395,-260.4508C927.787,-219.7621 920.2019,-120.6481 974.7468,-72 1018.7966,-32.7124 1447.2507,-49.3453 1504.7468,-36 1507.3698,-35.3912 1510.0388,-34.6452 1512.6995,-33.8069\"/>\n<polygon fill=\"#000000\" stroke=\"#000000\" points=\"1513.9404,-37.0806 1522.2016,-30.4471 1511.6068,-30.481 1513.9404,-37.0806\"/>\n</g>\n<!-- flux01 -->\n<g id=\"node6\" class=\"node\">\n<title>flux01</title>\n<ellipse fill=\"#c0c0c0\" stroke=\"#000000\" cx=\"1637.7468\" cy=\"-18\" rx=\"35.9954\" ry=\"18\"/>\n<text text-anchor=\"middle\" x=\"1637.7468\" y=\"-14.3\" font-family=\"Times,serif\" font-size=\"14.00\" fill=\"#000000\">flux01</text>\n</g>\n<!-- theta&#45;&gt;flux01 -->\n<g id=\"edge6\" class=\"edge\">\n<title>theta&#45;&gt;flux01</title>\n<path fill=\"none\" stroke=\"#000000\" d=\"M933.6063,-260.4133C927.6847,-219.6468 919.9659,-120.3823 974.7468,-72 1026.3846,-26.3938 1526.5619,-51.2502 1593.7468,-36 1596.3727,-35.404 1599.0439,-34.6675 1601.7062,-33.8361\"/>\n<polygon fill=\"#000000\" stroke=\"#000000\" points=\"1602.9407,-37.1121 1611.2116,-30.4908 1600.6168,-30.5091 1602.9407,-37.1121\"/>\n</g>\n<!-- flux02 -->\n<g id=\"node7\" class=\"node\">\n<title>flux02</title>\n<ellipse fill=\"#c0c0c0\" stroke=\"#000000\" cx=\"1726.7468\" cy=\"-18\" rx=\"35.9954\" ry=\"18\"/>\n<text text-anchor=\"middle\" x=\"1726.7468\" y=\"-14.3\" font-family=\"Times,serif\" font-size=\"14.00\" fill=\"#000000\">flux02</text>\n</g>\n<!-- theta&#45;&gt;flux02 -->\n<g id=\"edge9\" class=\"edge\">\n<title>theta&#45;&gt;flux02</title>\n<path fill=\"none\" stroke=\"#000000\" d=\"M933.5814,-260.3851C927.6084,-219.5601 919.7899,-120.1823 974.7468,-72 1033.9752,-20.0727 1605.8695,-53.1558 1682.7468,-36 1685.541,-35.3765 1688.3858,-34.5914 1691.2162,-33.7001\"/>\n<polygon fill=\"#000000\" stroke=\"#000000\" points=\"1692.4344,-36.9817 1700.6893,-30.3404 1690.0946,-30.3843 1692.4344,-36.9817\"/>\n</g>\n<!-- flux03 -->\n<g id=\"node8\" class=\"node\">\n<title>flux03</title>\n<ellipse fill=\"#c0c0c0\" stroke=\"#000000\" cx=\"1815.7468\" cy=\"-18\" rx=\"35.9954\" ry=\"18\"/>\n<text text-anchor=\"middle\" x=\"1815.7468\" y=\"-14.3\" font-family=\"Times,serif\" font-size=\"14.00\" fill=\"#000000\">flux03</text>\n</g>\n<!-- theta&#45;&gt;flux03 -->\n<g id=\"edge12\" class=\"edge\">\n<title>theta&#45;&gt;flux03</title>\n<path fill=\"none\" stroke=\"#000000\" d=\"M933.5622,-260.3631C927.5493,-219.4925 919.6537,-120.0264 974.7468,-72 1041.5677,-13.7501 1685.1748,-55.0621 1771.7468,-36 1774.5427,-35.3844 1777.3888,-34.6051 1780.2201,-33.7178\"/>\n<polygon fill=\"#000000\" stroke=\"#000000\" points=\"1781.4348,-37.0008 1789.695,-30.366 1779.1002,-30.4015 1781.4348,-37.0008\"/>\n</g>\n<!-- flux04 -->\n<g id=\"node9\" class=\"node\">\n<title>flux04</title>\n<ellipse fill=\"#c0c0c0\" stroke=\"#000000\" cx=\"1904.7468\" cy=\"-18\" rx=\"35.9954\" ry=\"18\"/>\n<text text-anchor=\"middle\" x=\"1904.7468\" y=\"-14.3\" font-family=\"Times,serif\" font-size=\"14.00\" fill=\"#000000\">flux04</text>\n</g>\n<!-- theta&#45;&gt;flux04 -->\n<g id=\"edge13\" class=\"edge\">\n<title>theta&#45;&gt;flux04</title>\n<path fill=\"none\" stroke=\"#000000\" d=\"M933.5469,-260.3455C927.5022,-219.4384 919.5451,-119.9015 974.7468,-72 1049.1615,-7.4263 1764.4783,-56.9686 1860.7468,-36 1863.5441,-35.3907 1866.3912,-34.6161 1869.2232,-33.732\"/>\n<polygon fill=\"#000000\" stroke=\"#000000\" points=\"1870.4351,-37.016 1878.6995,-30.3865 1868.1047,-30.4153 1870.4351,-37.016\"/>\n</g>\n<!-- flux05 -->\n<g id=\"node10\" class=\"node\">\n<title>flux05</title>\n<ellipse fill=\"#c0c0c0\" stroke=\"#000000\" cx=\"1993.7468\" cy=\"-18\" rx=\"35.9954\" ry=\"18\"/>\n<text text-anchor=\"middle\" x=\"1993.7468\" y=\"-14.3\" font-family=\"Times,serif\" font-size=\"14.00\" fill=\"#000000\">flux05</text>\n</g>\n<!-- theta&#45;&gt;flux05 -->\n<g id=\"edge18\" class=\"edge\">\n<title>theta&#45;&gt;flux05</title>\n<path fill=\"none\" stroke=\"#000000\" d=\"M933.5344,-260.3311C927.4638,-219.394 919.4565,-119.7992 974.7468,-72 1015.7516,-36.5509 1896.7638,-47.4377 1949.7468,-36 1952.5453,-35.3959 1955.3931,-34.625 1958.2257,-33.7437\"/>\n<polygon fill=\"#000000\" stroke=\"#000000\" points=\"1959.4353,-37.0285 1967.7031,-30.4033 1957.1083,-30.4265 1959.4353,-37.0285\"/>\n</g>\n<!-- flux10 -->\n<g id=\"node11\" class=\"node\">\n<title>flux10</title>\n<ellipse fill=\"#c0c0c0\" stroke=\"#000000\" cx=\"35.7468\" cy=\"-18\" rx=\"35.9954\" ry=\"18\"/>\n<text text-anchor=\"middle\" x=\"35.7468\" y=\"-14.3\" font-family=\"Times,serif\" font-size=\"14.00\" fill=\"#000000\">flux10</text>\n</g>\n<!-- theta&#45;&gt;flux10 -->\n<g id=\"edge21\" class=\"edge\">\n<title>theta&#45;&gt;flux10</title>\n<path fill=\"none\" stroke=\"#000000\" d=\"M939.9353,-260.3586C945.9564,-219.4787 953.8678,-119.9945 898.7468,-72 830.1342,-12.2581 169.6822,-55.1646 80.7468,-36 77.8936,-35.3852 74.9874,-34.6065 72.095,-33.7196\"/>\n<polygon fill=\"#000000\" stroke=\"#000000\" points=\"73.0057,-30.3312 62.4109,-30.3686 70.7165,-36.9463 73.0057,-30.3312\"/>\n</g>\n<!-- flux11 -->\n<g id=\"node12\" class=\"node\">\n<title>flux11</title>\n<ellipse fill=\"#c0c0c0\" stroke=\"#000000\" cx=\"124.7468\" cy=\"-18\" rx=\"35.194\" ry=\"18\"/>\n<text text-anchor=\"middle\" x=\"124.7468\" y=\"-14.3\" font-family=\"Times,serif\" font-size=\"14.00\" fill=\"#000000\">flux11</text>\n</g>\n<!-- theta&#45;&gt;flux11 -->\n<g id=\"edge24\" class=\"edge\">\n<title>theta&#45;&gt;flux11</title>\n<path fill=\"none\" stroke=\"#000000\" d=\"M939.9174,-260.3792C945.9012,-219.5419 953.7405,-120.1403 898.7468,-72 837.6418,-18.51 248.0204,-53.627 168.7468,-36 165.9522,-35.3786 163.1071,-34.5951 160.2764,-33.7049\"/>\n<polygon fill=\"#000000\" stroke=\"#000000\" points=\"161.3975,-30.389 150.8028,-30.3473 159.0591,-36.9868 161.3975,-30.389\"/>\n</g>\n<!-- flux12 -->\n<g id=\"node13\" class=\"node\">\n<title>flux12</title>\n<ellipse fill=\"#c0c0c0\" stroke=\"#000000\" cx=\"213.7468\" cy=\"-18\" rx=\"35.9954\" ry=\"18\"/>\n<text text-anchor=\"middle\" x=\"213.7468\" y=\"-14.3\" font-family=\"Times,serif\" font-size=\"14.00\" fill=\"#000000\">flux12</text>\n</g>\n<!-- theta&#45;&gt;flux12 -->\n<g id=\"edge27\" class=\"edge\">\n<title>theta&#45;&gt;flux12</title>\n<path fill=\"none\" stroke=\"#000000\" d=\"M939.8942,-260.4056C945.8298,-219.6232 953.5758,-120.3277 898.7468,-72 845.233,-24.8315 327.3274,-51.7212 257.7468,-36 255.1204,-35.4066 252.4487,-34.6721 249.7861,-33.842\"/>\n<polygon fill=\"#000000\" stroke=\"#000000\" points=\"250.8748,-30.5149 240.28,-30.4997 248.553,-37.1186 250.8748,-30.5149\"/>\n</g>\n<!-- flux13 -->\n<g id=\"node14\" class=\"node\">\n<title>flux13</title>\n<ellipse fill=\"#c0c0c0\" stroke=\"#000000\" cx=\"302.7468\" cy=\"-18\" rx=\"35.9954\" ry=\"18\"/>\n<text text-anchor=\"middle\" x=\"302.7468\" y=\"-14.3\" font-family=\"Times,serif\" font-size=\"14.00\" fill=\"#000000\">flux13</text>\n</g>\n<!-- theta&#45;&gt;flux13 -->\n<g id=\"edge30\" class=\"edge\">\n<title>theta&#45;&gt;flux13</title>\n<path fill=\"none\" stroke=\"#000000\" d=\"M939.8634,-260.4404C945.7351,-219.7302 953.3573,-120.5746 898.7468,-72 852.8217,-31.1508 406.6375,-49.8161 346.7468,-36 344.1231,-35.3947 341.4535,-34.6514 338.7923,-33.815\"/>\n<polygon fill=\"#000000\" stroke=\"#000000\" points=\"339.8841,-30.4888 329.2893,-30.4592 337.5532,-37.0893 339.8841,-30.4888\"/>\n</g>\n<!-- flux14 -->\n<g id=\"node15\" class=\"node\">\n<title>flux14</title>\n<ellipse fill=\"#c0c0c0\" stroke=\"#000000\" cx=\"391.7468\" cy=\"-18\" rx=\"35.9954\" ry=\"18\"/>\n<text text-anchor=\"middle\" x=\"391.7468\" y=\"-14.3\" font-family=\"Times,serif\" font-size=\"14.00\" fill=\"#000000\">flux14</text>\n</g>\n<!-- theta&#45;&gt;flux14 -->\n<g id=\"edge33\" class=\"edge\">\n<title>theta&#45;&gt;flux14</title>\n<path fill=\"none\" stroke=\"#000000\" d=\"M939.8205,-260.4883C945.6032,-219.8775 953.0533,-120.9142 898.7468,-72 822.0662,-2.9333 536.1586,-59.8243 435.7468,-36 433.1269,-35.3784 430.4601,-34.6229 427.801,-33.7777\"/>\n<polygon fill=\"#000000\" stroke=\"#000000\" points=\"428.8971,-30.4528 418.3023,-30.4033 426.5538,-37.049 428.8971,-30.4528\"/>\n</g>\n<!-- flux15 -->\n<g id=\"node16\" class=\"node\">\n<title>flux15</title>\n<ellipse fill=\"#c0c0c0\" stroke=\"#000000\" cx=\"480.7468\" cy=\"-18\" rx=\"35.9954\" ry=\"18\"/>\n<text text-anchor=\"middle\" x=\"480.7468\" y=\"-14.3\" font-family=\"Times,serif\" font-size=\"14.00\" fill=\"#000000\">flux15</text>\n</g>\n<!-- theta&#45;&gt;flux15 -->\n<g id=\"edge36\" class=\"edge\">\n<title>theta&#45;&gt;flux15</title>\n<path fill=\"none\" stroke=\"#000000\" d=\"M939.7568,-260.5583C945.4075,-220.0928 952.6019,-121.4108 898.7468,-72 837.2228,-15.5531 605.8063,-56.0205 524.7468,-36 522.1327,-35.3544 519.4703,-34.5809 516.8143,-33.7228\"/>\n<polygon fill=\"#000000\" stroke=\"#000000\" points=\"517.9168,-30.4 507.3222,-30.3211 515.5552,-36.9896 517.9168,-30.4\"/>\n</g>\n<!-- flux20 -->\n<g id=\"node17\" class=\"node\">\n<title>flux20</title>\n<ellipse fill=\"#c0c0c0\" stroke=\"#000000\" cx=\"569.7468\" cy=\"-18\" rx=\"35.9954\" ry=\"18\"/>\n<text text-anchor=\"middle\" x=\"569.7468\" y=\"-14.3\" font-family=\"Times,serif\" font-size=\"14.00\" fill=\"#000000\">flux20</text>\n</g>\n<!-- theta&#45;&gt;flux20 -->\n<g id=\"edge39\" class=\"edge\">\n<title>theta&#45;&gt;flux20</title>\n<path fill=\"none\" stroke=\"#000000\" d=\"M939.6933,-260.3682C945.1203,-219.9474 951.7301,-122.0795 898.7468,-72 852.3542,-28.1499 675.4871,-52.225 613.7468,-36 611.1426,-35.3156 608.4875,-34.5133 605.8368,-33.6343\"/>\n<polygon fill=\"#000000\" stroke=\"#000000\" points=\"606.9501,-30.315 596.356,-30.1887 604.559,-36.894 606.9501,-30.315\"/>\n</g>\n<!-- flux21 -->\n<g id=\"node18\" class=\"node\">\n<title>flux21</title>\n<ellipse fill=\"#c0c0c0\" stroke=\"#000000\" cx=\"658.7468\" cy=\"-18\" rx=\"35.9954\" ry=\"18\"/>\n<text text-anchor=\"middle\" x=\"658.7468\" y=\"-14.3\" font-family=\"Times,serif\" font-size=\"14.00\" fill=\"#000000\">flux21</text>\n</g>\n<!-- theta&#45;&gt;flux21 -->\n<g id=\"edge42\" class=\"edge\">\n<title>theta&#45;&gt;flux21</title>\n<path fill=\"none\" stroke=\"#000000\" d=\"M939.489,-260.5783C944.4979,-220.5878 950.3073,-123.5432 898.7468,-72 836.1091,-9.3832 787.7428,-60.9003 702.7468,-36 700.3212,-35.2894 697.8462,-34.4912 695.3684,-33.6365\"/>\n<polygon fill=\"#000000\" stroke=\"#000000\" points=\"696.4892,-30.3193 685.8961,-30.1262 694.0567,-36.8831 696.4892,-30.3193\"/>\n</g>\n<!-- flux22 -->\n<g id=\"node19\" class=\"node\">\n<title>flux22</title>\n<ellipse fill=\"#c0c0c0\" stroke=\"#000000\" cx=\"747.7468\" cy=\"-18\" rx=\"35.9954\" ry=\"18\"/>\n<text text-anchor=\"middle\" x=\"747.7468\" y=\"-14.3\" font-family=\"Times,serif\" font-size=\"14.00\" fill=\"#000000\">flux22</text>\n</g>\n<!-- theta&#45;&gt;flux22 -->\n<g id=\"edge45\" class=\"edge\">\n<title>theta&#45;&gt;flux22</title>\n<path fill=\"none\" stroke=\"#000000\" d=\"M939.0002,-260.4994C942.8658,-221.1911 946.2573,-126.8172 898.7468,-72 865.8848,-34.0841 838.7682,-53.5079 791.7468,-36 789.528,-35.1738 787.2538,-34.3068 784.9647,-33.4184\"/>\n<polygon fill=\"#000000\" stroke=\"#000000\" points=\"786.1592,-30.127 775.5731,-29.6962 783.58,-36.6345 786.1592,-30.127\"/>\n</g>\n<!-- flux23 -->\n<g id=\"node20\" class=\"node\">\n<title>flux23</title>\n<ellipse fill=\"#c0c0c0\" stroke=\"#000000\" cx=\"836.7468\" cy=\"-18\" rx=\"35.9954\" ry=\"18\"/>\n<text text-anchor=\"middle\" x=\"836.7468\" y=\"-14.3\" font-family=\"Times,serif\" font-size=\"14.00\" fill=\"#000000\">flux23</text>\n</g>\n<!-- theta&#45;&gt;flux23 -->\n<g id=\"edge48\" class=\"edge\">\n<title>theta&#45;&gt;flux23</title>\n<path fill=\"none\" stroke=\"#000000\" d=\"M937.2917,-260.3047C937.6255,-222.5913 934.2211,-134.2283 898.7468,-72 891.1811,-58.7283 879.1052,-47.1156 867.6125,-38.0942\"/>\n<polygon fill=\"#000000\" stroke=\"#000000\" points=\"869.5316,-35.1595 859.4199,-31.9966 865.3522,-40.7749 869.5316,-35.1595\"/>\n</g>\n<!-- flux24 -->\n<g id=\"node21\" class=\"node\">\n<title>flux24</title>\n<ellipse fill=\"#c0c0c0\" stroke=\"#000000\" cx=\"925.7468\" cy=\"-18\" rx=\"35.9954\" ry=\"18\"/>\n<text text-anchor=\"middle\" x=\"925.7468\" y=\"-14.3\" font-family=\"Times,serif\" font-size=\"14.00\" fill=\"#000000\">flux24</text>\n</g>\n<!-- theta&#45;&gt;flux24 -->\n<g id=\"edge51\" class=\"edge\">\n<title>theta&#45;&gt;flux24</title>\n<path fill=\"none\" stroke=\"#000000\" d=\"M935.9733,-260.1821C934.0838,-215.4349 929.2222,-100.3027 926.9503,-46.501\"/>\n<polygon fill=\"#000000\" stroke=\"#000000\" points=\"930.4383,-46.141 926.5195,-36.2976 923.4446,-46.4364 930.4383,-46.141\"/>\n</g>\n<!-- flux25 -->\n<g id=\"node22\" class=\"node\">\n<title>flux25</title>\n<ellipse fill=\"#c0c0c0\" stroke=\"#000000\" cx=\"1014.7468\" cy=\"-18\" rx=\"35.9954\" ry=\"18\"/>\n<text text-anchor=\"middle\" x=\"1014.7468\" y=\"-14.3\" font-family=\"Times,serif\" font-size=\"14.00\" fill=\"#000000\">flux25</text>\n</g>\n<!-- theta&#45;&gt;flux25 -->\n<g id=\"edge54\" class=\"edge\">\n<title>theta&#45;&gt;flux25</title>\n<path fill=\"none\" stroke=\"#000000\" d=\"M937.3536,-260.3037C939.166,-223.325 946.3553,-137.3652 974.7468,-72 979.2554,-61.62 986.0901,-51.3533 992.8409,-42.6043\"/>\n<polygon fill=\"#000000\" stroke=\"#000000\" points=\"995.6441,-44.7041 999.2089,-34.727 990.2003,-40.3034 995.6441,-44.7041\"/>\n</g>\n<!-- flux30 -->\n<g id=\"node23\" class=\"node\">\n<title>flux30</title>\n<ellipse fill=\"#c0c0c0\" stroke=\"#000000\" cx=\"1103.7468\" cy=\"-18\" rx=\"35.9954\" ry=\"18\"/>\n<text text-anchor=\"middle\" x=\"1103.7468\" y=\"-14.3\" font-family=\"Times,serif\" font-size=\"14.00\" fill=\"#000000\">flux30</text>\n</g>\n<!-- theta&#45;&gt;flux30 -->\n<g id=\"edge57\" class=\"edge\">\n<title>theta&#45;&gt;flux30</title>\n<path fill=\"none\" stroke=\"#000000\" d=\"M934.7664,-260.4545C931.5076,-221.4663 929.3514,-128.3472 974.7468,-72 975.5323,-71.025 1028.9045,-48.87 1066.7432,-33.2451\"/>\n<polygon fill=\"#000000\" stroke=\"#000000\" points=\"1068.0785,-36.4804 1075.987,-29.4302 1065.408,-30.0098 1068.0785,-36.4804\"/>\n</g>\n<!-- flux31 -->\n<g id=\"node24\" class=\"node\">\n<title>flux31</title>\n<ellipse fill=\"#c0c0c0\" stroke=\"#000000\" cx=\"1192.7468\" cy=\"-18\" rx=\"35.9954\" ry=\"18\"/>\n<text text-anchor=\"middle\" x=\"1192.7468\" y=\"-14.3\" font-family=\"Times,serif\" font-size=\"14.00\" fill=\"#000000\">flux31</text>\n</g>\n<!-- theta&#45;&gt;flux31 -->\n<g id=\"edge60\" class=\"edge\">\n<title>theta&#45;&gt;flux31</title>\n<path fill=\"none\" stroke=\"#000000\" d=\"M934.0515,-260.3609C929.2223,-220.3553 923.8935,-123.9864 974.7468,-72 1029.9693,-15.5471 1073.2139,-59.0483 1148.7468,-36 1151.1644,-35.2623 1153.6332,-34.4435 1156.1064,-33.5736\"/>\n<polygon fill=\"#000000\" stroke=\"#000000\" points=\"1157.4321,-36.8145 1165.5682,-30.0282 1154.9759,-30.2596 1157.4321,-36.8145\"/>\n</g>\n<!-- flux32 -->\n<g id=\"node25\" class=\"node\">\n<title>flux32</title>\n<ellipse fill=\"#c0c0c0\" stroke=\"#000000\" cx=\"1281.7468\" cy=\"-18\" rx=\"35.9954\" ry=\"18\"/>\n<text text-anchor=\"middle\" x=\"1281.7468\" y=\"-14.3\" font-family=\"Times,serif\" font-size=\"14.00\" fill=\"#000000\">flux32</text>\n</g>\n<!-- theta&#45;&gt;flux32 -->\n<g id=\"edge63\" class=\"edge\">\n<title>theta&#45;&gt;flux32</title>\n<path fill=\"none\" stroke=\"#000000\" d=\"M933.8378,-260.4076C928.4874,-220.0675 922.0244,-122.354 974.7468,-72 1017.4058,-31.2574 1180.7732,-51.2891 1237.7468,-36 1240.3475,-35.3021 1242.9999,-34.4897 1245.6486,-33.6034\"/>\n<polygon fill=\"#000000\" stroke=\"#000000\" points=\"1246.9329,-36.8606 1255.1254,-30.1424 1244.5315,-30.2854 1246.9329,-36.8606\"/>\n</g>\n<!-- flux33 -->\n<g id=\"node26\" class=\"node\">\n<title>flux33</title>\n<ellipse fill=\"#c0c0c0\" stroke=\"#000000\" cx=\"1370.7468\" cy=\"-18\" rx=\"35.9954\" ry=\"18\"/>\n<text text-anchor=\"middle\" x=\"1370.7468\" y=\"-14.3\" font-family=\"Times,serif\" font-size=\"14.00\" fill=\"#000000\">flux33</text>\n</g>\n<!-- theta&#45;&gt;flux33 -->\n<g id=\"edge66\" class=\"edge\">\n<title>theta&#45;&gt;flux33</title>\n<path fill=\"none\" stroke=\"#000000\" d=\"M933.7576,-260.5809C928.1501,-220.1622 921.0392,-121.5709 974.7468,-72 1032.5275,-18.6698 1250.467,-55.0813 1326.7468,-36 1329.359,-35.3466 1332.02,-34.5673 1334.6749,-33.705\"/>\n<polygon fill=\"#000000\" stroke=\"#000000\" points=\"1335.9378,-36.9704 1344.1648,-30.2945 1333.5703,-30.3829 1335.9378,-36.9704\"/>\n</g>\n<!-- flux34 -->\n<g id=\"node27\" class=\"node\">\n<title>flux34</title>\n<ellipse fill=\"#c0c0c0\" stroke=\"#000000\" cx=\"1459.7468\" cy=\"-18\" rx=\"35.9954\" ry=\"18\"/>\n<text text-anchor=\"middle\" x=\"1459.7468\" y=\"-14.3\" font-family=\"Times,serif\" font-size=\"14.00\" fill=\"#000000\">flux34</text>\n</g>\n<!-- theta&#45;&gt;flux34 -->\n<g id=\"edge69\" class=\"edge\">\n<title>theta&#45;&gt;flux34</title>\n<path fill=\"none\" stroke=\"#000000\" d=\"M933.6865,-260.5031C927.9313,-219.9228 920.5347,-121.0188 974.7468,-72 1047.6793,-6.0542 1320.1208,-58.8836 1415.7468,-36 1418.3656,-35.3733 1421.0314,-34.614 1423.6899,-33.7661\"/>\n<polygon fill=\"#000000\" stroke=\"#000000\" points=\"1424.9396,-37.0365 1433.1872,-30.3861 1422.5925,-30.4417 1424.9396,-37.0365\"/>\n</g>\n<!-- mu_s -->\n<g id=\"node3\" class=\"node\">\n<title>mu_s</title>\n<ellipse fill=\"#ffffff\" stroke=\"#000000\" cx=\"1014.7468\" cy=\"-278.5\" rx=\"31.3957\" ry=\"18\"/>\n<text text-anchor=\"middle\" x=\"1014.7468\" y=\"-274.8\" font-family=\"Times,serif\" font-size=\"14.00\" fill=\"#000000\">mu_s</text>\n</g>\n<!-- mu_s&#45;&gt;flux00 -->\n<g id=\"edge1\" class=\"edge\">\n<title>mu_s&#45;&gt;flux00</title>\n<path fill=\"none\" stroke=\"#000000\" d=\"M1011.8763,-260.4731C1006.5465,-219.8309 1000.1703,-120.8067 1054.7468,-72 1129.526,-5.1265 1407.1631,-59.2684 1504.7468,-36 1507.3661,-35.3755 1510.0323,-34.6178 1512.6911,-33.771\"/>\n<polygon fill=\"#000000\" stroke=\"#000000\" points=\"1513.9397,-37.0417 1522.1889,-30.3933 1511.5942,-30.4464 1513.9397,-37.0417\"/>\n</g>\n<!-- mu_s&#45;&gt;flux01 -->\n<g id=\"edge4\" class=\"edge\">\n<title>mu_s&#45;&gt;flux01</title>\n<path fill=\"none\" stroke=\"#000000\" d=\"M1011.8313,-260.4224C1006.408,-219.6749 999.8508,-120.4471 1054.7468,-72 1099.75,-32.2836 1535.2712,-49.5379 1593.7468,-36 1596.3701,-35.3927 1599.0394,-34.6478 1601.7003,-33.8103\"/>\n<polygon fill=\"#000000\" stroke=\"#000000\" points=\"1602.9404,-37.0843 1611.2028,-30.4522 1600.608,-30.4843 1602.9404,-37.0843\"/>\n</g>\n<!-- mu_s&#45;&gt;flux02 -->\n<g id=\"edge7\" class=\"edge\">\n<title>mu_s&#45;&gt;flux02</title>\n<path fill=\"none\" stroke=\"#000000\" d=\"M1011.7992,-260.3859C1006.3092,-219.5625 999.623,-120.1878 1054.7468,-72 1107.3677,-26.0002 1614.5819,-51.4428 1682.7468,-36 1685.3729,-35.4051 1688.0443,-34.6694 1690.7068,-33.8386\"/>\n<polygon fill=\"#000000\" stroke=\"#000000\" points=\"1691.9407,-37.1148 1700.2125,-30.4945 1689.6176,-30.5115 1691.9407,-37.1148\"/>\n</g>\n<!-- mu_s&#45;&gt;flux03 -->\n<g id=\"edge10\" class=\"edge\">\n<title>mu_s&#45;&gt;flux03</title>\n<path fill=\"none\" stroke=\"#000000\" d=\"M1011.7751,-260.3583C1006.2352,-219.4776 999.4524,-119.9919 1054.7468,-72 1114.9881,-19.7145 1693.8892,-53.3486 1771.7468,-36 1774.5412,-35.3773 1777.3861,-34.593 1780.2166,-33.7021\"/>\n<polygon fill=\"#000000\" stroke=\"#000000\" points=\"1781.4345,-36.9838 1789.69,-30.3433 1779.0952,-30.3863 1781.4345,-36.9838\"/>\n</g>\n<!-- mu_s&#45;&gt;flux04 -->\n<g id=\"edge14\" class=\"edge\">\n<title>mu_s&#45;&gt;flux04</title>\n<path fill=\"none\" stroke=\"#000000\" d=\"M1011.7564,-260.3367C1006.1778,-219.4112 999.3199,-119.8388 1054.7468,-72 1122.6102,-13.4273 1773.1943,-55.2548 1860.7468,-36 1863.5429,-35.3851 1866.3891,-34.6063 1869.2204,-33.7194\"/>\n<polygon fill=\"#000000\" stroke=\"#000000\" points=\"1870.4348,-37.0024 1878.6955,-30.3683 1868.1007,-30.403 1870.4348,-37.0024\"/>\n</g>\n<!-- mu_s&#45;&gt;flux05 -->\n<g id=\"edge16\" class=\"edge\">\n<title>mu_s&#45;&gt;flux05</title>\n<path fill=\"none\" stroke=\"#000000\" d=\"M1011.7415,-260.3193C1006.1319,-219.3578 999.214,-119.7158 1054.7468,-72 1130.2336,-7.1391 1852.4977,-57.1614 1949.7468,-36 1952.5443,-35.3913 1955.3914,-34.617 1958.2235,-33.7333\"/>\n<polygon fill=\"#000000\" stroke=\"#000000\" points=\"1959.4351,-37.0174 1967.6999,-30.3884 1957.1051,-30.4165 1959.4351,-37.0174\"/>\n</g>\n<!-- mu_s&#45;&gt;flux10 -->\n<g id=\"edge19\" class=\"edge\">\n<title>mu_s&#45;&gt;flux10</title>\n<path fill=\"none\" stroke=\"#000000\" d=\"M1017.752,-260.3195C1023.3613,-219.3584 1030.2786,-119.717 974.7468,-72 899.3457,-7.2097 177.9688,-56.7604 80.7468,-36 77.8925,-35.3905 74.9854,-34.6157 72.0924,-33.7316\"/>\n<polygon fill=\"#000000\" stroke=\"#000000\" points=\"73.002,-30.3429 62.4072,-30.3858 70.7163,-36.9592 73.002,-30.3429\"/>\n</g>\n<!-- mu_s&#45;&gt;flux11 -->\n<g id=\"edge22\" class=\"edge\">\n<title>mu_s&#45;&gt;flux11</title>\n<path fill=\"none\" stroke=\"#000000\" d=\"M1017.7372,-260.3367C1023.3159,-219.4112 1030.1738,-119.8388 974.7468,-72 906.8834,-13.4273 256.2994,-55.2548 168.7468,-36 165.9508,-35.3851 163.1046,-34.6063 160.2732,-33.7194\"/>\n<polygon fill=\"#000000\" stroke=\"#000000\" points=\"161.3929,-30.403 150.7981,-30.3683 159.0588,-37.0024 161.3929,-30.403\"/>\n</g>\n<!-- mu_s&#45;&gt;flux12 -->\n<g id=\"edge25\" class=\"edge\">\n<title>mu_s&#45;&gt;flux12</title>\n<path fill=\"none\" stroke=\"#000000\" d=\"M1017.7186,-260.3583C1023.2584,-219.4776 1030.0412,-119.9919 974.7468,-72 914.5056,-19.7145 335.6044,-53.3486 257.7468,-36 254.9525,-35.3773 252.1075,-34.593 249.2771,-33.7021\"/>\n<polygon fill=\"#000000\" stroke=\"#000000\" points=\"250.3984,-30.3863 239.8037,-30.3433 248.0592,-36.9838 250.3984,-30.3863\"/>\n</g>\n<!-- mu_s&#45;&gt;flux13 -->\n<g id=\"edge28\" class=\"edge\">\n<title>mu_s&#45;&gt;flux13</title>\n<path fill=\"none\" stroke=\"#000000\" d=\"M1017.6945,-260.3859C1023.1844,-219.5625 1029.8706,-120.1878 974.7468,-72 922.1259,-26.0002 414.9118,-51.4428 346.7468,-36 344.1207,-35.4051 341.4493,-34.6694 338.7869,-33.8386\"/>\n<polygon fill=\"#000000\" stroke=\"#000000\" points=\"339.876,-30.5115 329.2812,-30.4945 337.553,-37.1148 339.876,-30.5115\"/>\n</g>\n<!-- mu_s&#45;&gt;flux14 -->\n<g id=\"edge31\" class=\"edge\">\n<title>mu_s&#45;&gt;flux14</title>\n<path fill=\"none\" stroke=\"#000000\" d=\"M1017.6624,-260.4224C1023.0857,-219.6749 1029.6428,-120.4471 974.7468,-72 929.7437,-32.2836 494.2225,-49.5379 435.7468,-36 433.1235,-35.3927 430.4543,-34.6478 427.7933,-33.8103\"/>\n<polygon fill=\"#000000\" stroke=\"#000000\" points=\"428.8857,-30.4843 418.2909,-30.4522 426.5532,-37.0843 428.8857,-30.4843\"/>\n</g>\n<!-- mu_s&#45;&gt;flux15 -->\n<g id=\"edge34\" class=\"edge\">\n<title>mu_s&#45;&gt;flux15</title>\n<path fill=\"none\" stroke=\"#000000\" d=\"M1017.6173,-260.4731C1022.9472,-219.8309 1029.3234,-120.8067 974.7468,-72 899.9676,-5.1265 622.3306,-59.2684 524.7468,-36 522.1276,-35.3755 519.4613,-34.6178 516.8026,-33.771\"/>\n<polygon fill=\"#000000\" stroke=\"#000000\" points=\"517.8994,-30.4464 507.3047,-30.3933 515.5539,-37.0417 517.8994,-30.4464\"/>\n</g>\n<!-- mu_s&#45;&gt;flux20 -->\n<g id=\"edge37\" class=\"edge\">\n<title>mu_s&#45;&gt;flux20</title>\n<path fill=\"none\" stroke=\"#000000\" d=\"M1017.5496,-260.5481C1022.739,-220.0613 1028.8433,-121.3382 974.7468,-72 915.1803,-17.6729 691.9817,-55.4655 613.7468,-36 611.1338,-35.3499 608.4722,-34.5731 605.8168,-33.7125\"/>\n<polygon fill=\"#000000\" stroke=\"#000000\" points=\"606.9206,-30.3901 596.3261,-30.3058 604.5556,-36.9785 606.9206,-30.3901\"/>\n</g>\n<!-- mu_s&#45;&gt;flux21 -->\n<g id=\"edge40\" class=\"edge\">\n<title>mu_s&#45;&gt;flux21</title>\n<path fill=\"none\" stroke=\"#000000\" d=\"M1017.4738,-260.3679C1022.4195,-219.9465 1027.9093,-122.0774 974.7468,-72 930.3649,-30.1936 761.6699,-51.6719 702.7468,-36 700.1446,-35.3079 697.4911,-34.4998 694.8415,-33.6166\"/>\n<polygon fill=\"#000000\" stroke=\"#000000\" points=\"695.957,-30.298 685.363,-30.1622 693.56,-36.8749 695.957,-30.298\"/>\n</g>\n<!-- mu_s&#45;&gt;flux22 -->\n<g id=\"edge43\" class=\"edge\">\n<title>mu_s&#45;&gt;flux22</title>\n<path fill=\"none\" stroke=\"#000000\" d=\"M1017.2784,-260.3028C1021.7444,-220.1797 1026.1858,-123.5886 974.7468,-72 916.2184,-13.3013 871.1473,-59.8048 791.7468,-36 789.3257,-35.2741 786.8542,-34.4643 784.3789,-33.6011\"/>\n<polygon fill=\"#000000\" stroke=\"#000000\" points=\"785.5051,-30.2857 774.9125,-30.071 783.0593,-36.8445 785.5051,-30.2857\"/>\n</g>\n<!-- mu_s&#45;&gt;flux23 -->\n<g id=\"edge46\" class=\"edge\">\n<title>mu_s&#45;&gt;flux23</title>\n<path fill=\"none\" stroke=\"#000000\" d=\"M1016.6517,-260.3301C1019.7282,-221.097 1021.3435,-127.525 974.7468,-72 945.9885,-37.7313 922.3414,-52.4705 880.7468,-36 878.5454,-35.1283 876.2849,-34.2259 874.0061,-33.3107\"/>\n<polygon fill=\"#000000\" stroke=\"#000000\" points=\"875.2229,-30.0275 864.6402,-29.5216 872.5976,-36.5166 875.2229,-30.0275\"/>\n</g>\n<!-- mu_s&#45;&gt;flux24 -->\n<g id=\"edge49\" class=\"edge\">\n<title>mu_s&#45;&gt;flux24</title>\n<path fill=\"none\" stroke=\"#000000\" d=\"M1014.4648,-260.3343C1013.2121,-223.0476 1006.7853,-136.0023 974.7468,-72 968.9916,-60.5029 960.0906,-49.629 951.4457,-40.6934\"/>\n<polygon fill=\"#000000\" stroke=\"#000000\" points=\"953.899,-38.1971 944.3189,-33.6723 948.9863,-43.1837 953.899,-38.1971\"/>\n</g>\n<!-- mu_s&#45;&gt;flux25 -->\n<g id=\"edge52\" class=\"edge\">\n<title>mu_s&#45;&gt;flux25</title>\n<path fill=\"none\" stroke=\"#000000\" d=\"M1014.7468,-260.1821C1014.7468,-215.4349 1014.7468,-100.3027 1014.7468,-46.501\"/>\n<polygon fill=\"#000000\" stroke=\"#000000\" points=\"1018.2469,-46.2976 1014.7468,-36.2976 1011.2469,-46.2976 1018.2469,-46.2976\"/>\n</g>\n<!-- mu_s&#45;&gt;flux30 -->\n<g id=\"edge55\" class=\"edge\">\n<title>mu_s&#45;&gt;flux30</title>\n<path fill=\"none\" stroke=\"#000000\" d=\"M1015.0289,-260.3343C1016.2815,-223.0476 1022.7084,-136.0023 1054.7468,-72 1060.5021,-60.5029 1069.4031,-49.629 1078.0479,-40.6934\"/>\n<polygon fill=\"#000000\" stroke=\"#000000\" points=\"1080.5074,-43.1837 1085.1747,-33.6723 1075.5947,-38.1971 1080.5074,-43.1837\"/>\n</g>\n<!-- mu_s&#45;&gt;flux31 -->\n<g id=\"edge58\" class=\"edge\">\n<title>mu_s&#45;&gt;flux31</title>\n<path fill=\"none\" stroke=\"#000000\" d=\"M1012.8419,-260.3301C1009.7655,-221.097 1008.1501,-127.525 1054.7468,-72 1083.5052,-37.7313 1107.1523,-52.4705 1148.7468,-36 1150.9482,-35.1283 1153.2088,-34.2259 1155.4875,-33.3107\"/>\n<polygon fill=\"#000000\" stroke=\"#000000\" points=\"1156.896,-36.5166 1164.8535,-29.5216 1154.2707,-30.0275 1156.896,-36.5166\"/>\n</g>\n<!-- mu_s&#45;&gt;flux32 -->\n<g id=\"edge61\" class=\"edge\">\n<title>mu_s&#45;&gt;flux32</title>\n<path fill=\"none\" stroke=\"#000000\" d=\"M1012.2152,-260.3028C1007.7492,-220.1797 1003.3079,-123.5886 1054.7468,-72 1113.2752,-13.3013 1158.3463,-59.8048 1237.7468,-36 1240.168,-35.2741 1242.6395,-34.4643 1245.1147,-33.6011\"/>\n<polygon fill=\"#000000\" stroke=\"#000000\" points=\"1246.4344,-36.8445 1254.5812,-30.071 1243.9885,-30.2857 1246.4344,-36.8445\"/>\n</g>\n<!-- mu_s&#45;&gt;flux33 -->\n<g id=\"edge64\" class=\"edge\">\n<title>mu_s&#45;&gt;flux33</title>\n<path fill=\"none\" stroke=\"#000000\" d=\"M1012.0199,-260.3679C1007.0742,-219.9465 1001.5844,-122.0774 1054.7468,-72 1099.1287,-30.1936 1267.8238,-51.6719 1326.7468,-36 1329.349,-35.3079 1332.0026,-34.4998 1334.6522,-33.6166\"/>\n<polygon fill=\"#000000\" stroke=\"#000000\" points=\"1335.9337,-36.8749 1344.1307,-30.1622 1333.5367,-30.298 1335.9337,-36.8749\"/>\n</g>\n<!-- mu_s&#45;&gt;flux34 -->\n<g id=\"edge67\" class=\"edge\">\n<title>mu_s&#45;&gt;flux34</title>\n<path fill=\"none\" stroke=\"#000000\" d=\"M1011.944,-260.5481C1006.7546,-220.0613 1000.6503,-121.3382 1054.7468,-72 1114.3134,-17.6729 1337.5119,-55.4655 1415.7468,-36 1418.3598,-35.3499 1421.0214,-34.5731 1423.6768,-33.7125\"/>\n<polygon fill=\"#000000\" stroke=\"#000000\" points=\"1424.9381,-36.9785 1433.1676,-30.3058 1422.5731,-30.3901 1424.9381,-36.9785\"/>\n</g>\n<!-- Av -->\n<g id=\"node4\" class=\"node\">\n<title>Av</title>\n<ellipse fill=\"#ffffff\" stroke=\"#000000\" cx=\"1090.7468\" cy=\"-278.5\" rx=\"27\" ry=\"18\"/>\n<text text-anchor=\"middle\" x=\"1090.7468\" y=\"-274.8\" font-family=\"Times,serif\" font-size=\"14.00\" fill=\"#000000\">Av</text>\n</g>\n<!-- Av&#45;&gt;flux00 -->\n<g id=\"edge2\" class=\"edge\">\n<title>Av&#45;&gt;flux00</title>\n<path fill=\"none\" stroke=\"#000000\" d=\"M1087.5375,-260.5783C1081.4419,-220.1542 1073.1892,-121.5524 1126.7468,-72 1188.6835,-14.6951 1422.8181,-56.1914 1504.7468,-36 1507.3613,-35.3557 1510.0239,-34.5832 1512.6801,-33.7258\"/>\n<polygon fill=\"#000000\" stroke=\"#000000\" points=\"1513.9385,-36.9929 1522.1725,-30.3256 1511.578,-30.4029 1513.9385,-36.9929\"/>\n</g>\n<!-- Av&#45;&gt;flux01 -->\n<g id=\"edge5\" class=\"edge\">\n<title>Av&#45;&gt;flux01</title>\n<path fill=\"none\" stroke=\"#000000\" d=\"M1087.4749,-260.51C1081.2493,-219.9441 1072.7451,-121.068 1126.7468,-72 1165.2641,-37.0018 1543.1058,-47.9977 1593.7468,-36 1596.367,-35.3792 1599.0339,-34.6244 1601.6931,-33.7796\"/>\n<polygon fill=\"#000000\" stroke=\"#000000\" points=\"1602.9399,-37.0511 1611.192,-30.4063 1600.5973,-30.4547 1602.9399,-37.0511\"/>\n</g>\n<!-- Av&#45;&gt;flux02 -->\n<g id=\"edge8\" class=\"edge\">\n<title>Av&#45;&gt;flux02</title>\n<path fill=\"none\" stroke=\"#000000\" d=\"M1087.4325,-260.4631C1081.1192,-219.8 1072.4449,-120.7356 1126.7468,-72 1172.8195,-30.6502 1622.4207,-49.9017 1682.7468,-36 1685.3707,-35.3953 1688.0405,-34.6525 1690.7017,-33.8164\"/>\n<polygon fill=\"#000000\" stroke=\"#000000\" points=\"1691.9405,-37.0909 1700.2049,-30.4613 1689.6101,-30.4901 1691.9405,-37.0909\"/>\n</g>\n<!-- Av&#45;&gt;flux03 -->\n<g id=\"edge11\" class=\"edge\">\n<title>Av&#45;&gt;flux03</title>\n<path fill=\"none\" stroke=\"#000000\" d=\"M1087.402,-260.429C1081.0254,-219.695 1072.2285,-120.4934 1126.7468,-72 1180.3786,-24.2952 1701.7307,-51.8068 1771.7468,-36 1774.3734,-35.407 1777.0451,-34.6729 1779.7078,-33.8431\"/>\n<polygon fill=\"#000000\" stroke=\"#000000\" points=\"1780.9407,-37.1197 1789.214,-30.5013 1778.6192,-30.5159 1780.9407,-37.1197\"/>\n</g>\n<!-- Av&#45;&gt;flux04 -->\n<g id=\"edge15\" class=\"edge\">\n<title>Av&#45;&gt;flux04</title>\n<path fill=\"none\" stroke=\"#000000\" d=\"M1087.379,-260.403C1080.9545,-219.6151 1072.0651,-120.3091 1126.7468,-72 1187.9401,-17.9381 1781.0375,-53.7127 1860.7468,-36 1863.5415,-35.379 1866.3867,-34.5958 1869.2174,-33.7057\"/>\n<polygon fill=\"#000000\" stroke=\"#000000\" points=\"1870.4345,-36.9877 1878.6912,-30.3485 1868.0964,-30.3898 1870.4345,-36.9877\"/>\n</g>\n<!-- Av&#45;&gt;flux05 -->\n<g id=\"edge17\" class=\"edge\">\n<title>Av&#45;&gt;flux05</title>\n<path fill=\"none\" stroke=\"#000000\" d=\"M1087.361,-260.3826C1080.8992,-219.5523 1071.9375,-120.1643 1126.7468,-72 1195.5033,-11.5795 1860.3422,-55.619 1949.7468,-36 1952.5432,-35.3864 1955.3896,-34.6086 1958.2211,-33.7223\"/>\n<polygon fill=\"#000000\" stroke=\"#000000\" points=\"1959.4349,-37.0055 1967.6964,-30.3725 1957.1016,-30.4058 1959.4349,-37.0055\"/>\n</g>\n<!-- Av&#45;&gt;flux10 -->\n<g id=\"edge20\" class=\"edge\">\n<title>Av&#45;&gt;flux10</title>\n<path fill=\"none\" stroke=\"#000000\" d=\"M1094.1556,-260.3564C1100.665,-219.4717 1109.7189,-119.9784 1054.7468,-72 1013.9514,-36.3946 133.7197,-47.2202 80.7468,-36 77.8915,-35.3952 74.9837,-34.6238 72.0902,-33.7421\"/>\n<polygon fill=\"#000000\" stroke=\"#000000\" points=\"72.9987,-30.3532 62.404,-30.4011 70.7161,-36.9706 72.9987,-30.3532\"/>\n</g>\n<!-- Av&#45;&gt;flux11 -->\n<g id=\"edge23\" class=\"edge\">\n<title>Av&#45;&gt;flux11</title>\n<path fill=\"none\" stroke=\"#000000\" d=\"M1094.1432,-260.3706C1100.6269,-219.5154 1109.6309,-120.0791 1054.7468,-72 980.6359,-7.0779 265.0153,-56.9686 168.7468,-36 165.9495,-35.3907 163.1025,-34.6161 160.2705,-33.732\"/>\n<polygon fill=\"#000000\" stroke=\"#000000\" points=\"161.389,-30.4153 150.7942,-30.3865 159.0586,-37.016 161.389,-30.4153\"/>\n</g>\n<!-- Av&#45;&gt;flux12 -->\n<g id=\"edge26\" class=\"edge\">\n<title>Av&#45;&gt;flux12</title>\n<path fill=\"none\" stroke=\"#000000\" d=\"M1094.1278,-260.3881C1100.5796,-219.5692 1109.5219,-120.2033 1054.7468,-72 988.1999,-13.4372 344.3189,-55.0621 257.7468,-36 254.9509,-35.3844 252.1049,-34.6051 249.2736,-33.7178\"/>\n<polygon fill=\"#000000\" stroke=\"#000000\" points=\"250.3934,-30.4015 239.7986,-30.366 248.0588,-37.0008 250.3934,-30.4015\"/>\n</g>\n<!-- Av&#45;&gt;flux13 -->\n<g id=\"edge29\" class=\"edge\">\n<title>Av&#45;&gt;flux13</title>\n<path fill=\"none\" stroke=\"#000000\" d=\"M1094.1085,-260.4099C1100.5203,-219.6364 1109.3851,-120.3582 1054.7468,-72 995.7627,-19.7954 423.6241,-53.1558 346.7468,-36 343.9527,-35.3765 341.1079,-34.5914 338.2775,-33.7001\"/>\n<polygon fill=\"#000000\" stroke=\"#000000\" points=\"339.3991,-30.3843 328.8043,-30.3404 337.0592,-36.9817 339.3991,-30.3843\"/>\n</g>\n<!-- Av&#45;&gt;flux14 -->\n<g id=\"edge32\" class=\"edge\">\n<title>Av&#45;&gt;flux14</title>\n<path fill=\"none\" stroke=\"#000000\" d=\"M1094.0836,-260.4379C1100.4437,-219.7226 1109.2085,-120.557 1054.7468,-72 1003.3236,-26.152 502.9318,-51.2502 435.7468,-36 433.121,-35.404 430.4498,-34.6675 427.7874,-33.8361\"/>\n<polygon fill=\"#000000\" stroke=\"#000000\" points=\"428.8769,-30.5091 418.282,-30.4908 426.553,-37.1121 428.8769,-30.5091\"/>\n</g>\n<!-- Av&#45;&gt;flux15 -->\n<g id=\"edge35\" class=\"edge\">\n<title>Av&#45;&gt;flux15</title>\n<path fill=\"none\" stroke=\"#000000\" d=\"M1094.0502,-260.4752C1100.341,-219.8372 1108.9717,-120.8214 1054.7468,-72 1010.8818,-32.5061 582.2429,-49.3453 524.7468,-36 522.1239,-35.3912 519.4549,-34.6452 516.7941,-33.8069\"/>\n<polygon fill=\"#000000\" stroke=\"#000000\" points=\"517.8868,-30.481 507.2921,-30.4471 515.5533,-37.0806 517.8868,-30.481\"/>\n</g>\n<!-- Av&#45;&gt;flux20 -->\n<g id=\"edge38\" class=\"edge\">\n<title>Av&#45;&gt;flux20</title>\n<path fill=\"none\" stroke=\"#000000\" d=\"M1094.0031,-260.5272C1100.1962,-219.997 1108.6377,-121.1898 1054.7468,-72 982.1245,-5.7127 709.3729,-58.8836 613.7468,-36 611.1281,-35.3733 608.4622,-34.614 605.8037,-33.7661\"/>\n<polygon fill=\"#000000\" stroke=\"#000000\" points=\"606.9012,-30.4417 596.3065,-30.3861 604.554,-37.0365 606.9012,-30.4417\"/>\n</g>\n<!-- Av&#45;&gt;flux21 -->\n<g id=\"edge41\" class=\"edge\">\n<title>Av&#45;&gt;flux21</title>\n<path fill=\"none\" stroke=\"#000000\" d=\"M1093.9318,-260.6046C1099.9767,-220.235 1108.1315,-121.7387 1054.7468,-72 997.217,-18.3993 779.0267,-55.0813 702.7468,-36 700.1347,-35.3466 697.4737,-34.5673 694.8187,-33.705\"/>\n<polygon fill=\"#000000\" stroke=\"#000000\" points=\"695.9233,-30.3829 685.3289,-30.2945 693.5559,-36.9704 695.9233,-30.3829\"/>\n</g>\n<!-- Av&#45;&gt;flux22 -->\n<g id=\"edge44\" class=\"edge\">\n<title>Av&#45;&gt;flux22</title>\n<path fill=\"none\" stroke=\"#000000\" d=\"M1093.8544,-260.4308C1099.6434,-220.1383 1107.1443,-122.5158 1054.7468,-72 1012.2795,-31.0577 848.7205,-51.2891 791.7468,-36 789.1462,-35.3021 786.4938,-34.4897 783.845,-33.6034\"/>\n<polygon fill=\"#000000\" stroke=\"#000000\" points=\"784.9622,-30.2854 774.3683,-30.1424 782.5608,-36.8606 784.9622,-30.2854\"/>\n</g>\n<!-- Av&#45;&gt;flux23 -->\n<g id=\"edge47\" class=\"edge\">\n<title>Av&#45;&gt;flux23</title>\n<path fill=\"none\" stroke=\"#000000\" d=\"M1093.6432,-260.3829C1098.9113,-220.4216 1105.2706,-124.1367 1054.7468,-72 999.7899,-15.2887 956.2797,-59.0483 880.7468,-36 878.3293,-35.2623 875.8605,-34.4435 873.3872,-33.5736\"/>\n<polygon fill=\"#000000\" stroke=\"#000000\" points=\"874.5177,-30.2596 863.9254,-30.0282 872.0615,-36.8145 874.5177,-30.2596\"/>\n</g>\n<!-- Av&#45;&gt;flux24 -->\n<g id=\"edge50\" class=\"edge\">\n<title>Av&#45;&gt;flux24</title>\n<path fill=\"none\" stroke=\"#000000\" d=\"M1092.9331,-260.4723C1096.6306,-221.5191 1099.8016,-128.4646 1054.7468,-72 1053.9659,-71.0214 1000.5924,-48.8674 962.7522,-33.2437\"/>\n<polygon fill=\"#000000\" stroke=\"#000000\" points=\"964.087,-30.0082 953.508,-29.4291 961.4169,-36.479 964.087,-30.0082\"/>\n</g>\n<!-- Av&#45;&gt;flux25 -->\n<g id=\"edge53\" class=\"edge\">\n<title>Av&#45;&gt;flux25</title>\n<path fill=\"none\" stroke=\"#000000\" d=\"M1090.363,-260.3075C1088.9939,-223.3356 1082.7842,-137.3877 1054.7468,-72 1050.287,-61.599 1043.4641,-51.3272 1036.7092,-42.58\"/>\n<polygon fill=\"#000000\" stroke=\"#000000\" points=\"1039.3463,-40.275 1030.333,-34.7062 1033.9063,-44.6803 1039.3463,-40.275\"/>\n</g>\n<!-- Av&#45;&gt;flux30 -->\n<g id=\"edge56\" class=\"edge\">\n<title>Av&#45;&gt;flux30</title>\n<path fill=\"none\" stroke=\"#000000\" d=\"M1091.661,-260.1821C1093.894,-215.4349 1099.6396,-100.3027 1102.3245,-46.501\"/>\n<polygon fill=\"#000000\" stroke=\"#000000\" points=\"1105.8308,-46.4597 1102.8337,-36.2976 1098.8395,-46.1107 1105.8308,-46.4597\"/>\n</g>\n<!-- Av&#45;&gt;flux31 -->\n<g id=\"edge59\" class=\"edge\">\n<title>Av&#45;&gt;flux31</title>\n<path fill=\"none\" stroke=\"#000000\" d=\"M1089.8302,-260.2257C1088.7657,-222.3647 1090.6686,-133.7407 1126.7468,-72 1134.8792,-58.0831 1148.032,-46.2365 1160.4639,-37.2165\"/>\n<polygon fill=\"#000000\" stroke=\"#000000\" points=\"1162.6235,-39.9793 1168.885,-31.4327 1158.6604,-34.2092 1162.6235,-39.9793\"/>\n</g>\n<!-- Av&#45;&gt;flux32 -->\n<g id=\"edge62\" class=\"edge\">\n<title>Av&#45;&gt;flux32</title>\n<path fill=\"none\" stroke=\"#000000\" d=\"M1088.2457,-260.4803C1083.8531,-221.1338 1079.2739,-126.6884 1126.7468,-72 1160.7448,-32.8347 1189.0453,-53.831 1237.7468,-36 1239.9702,-35.186 1242.2478,-34.3283 1244.5395,-33.4471\"/>\n<polygon fill=\"#000000\" stroke=\"#000000\" points=\"1245.9178,-36.666 1253.9378,-29.7428 1243.3509,-30.1536 1245.9178,-36.666\"/>\n</g>\n<!-- Av&#45;&gt;flux33 -->\n<g id=\"edge65\" class=\"edge\">\n<title>Av&#45;&gt;flux33</title>\n<path fill=\"none\" stroke=\"#000000\" d=\"M1087.7934,-260.5874C1082.3201,-220.6154 1075.4232,-123.6064 1126.7468,-72 1190.4352,-7.9608 1240.0273,-61.2379 1326.7468,-36 1329.1737,-35.2937 1331.6497,-34.4988 1334.1282,-33.6466\"/>\n<polygon fill=\"#000000\" stroke=\"#000000\" points=\"1335.4377,-36.894 1343.6021,-30.1418 1333.0089,-30.3289 1335.4377,-36.894\"/>\n</g>\n<!-- Av&#45;&gt;flux34 -->\n<g id=\"edge68\" class=\"edge\">\n<title>Av&#45;&gt;flux34</title>\n<path fill=\"none\" stroke=\"#000000\" d=\"M1087.5955,-260.3852C1081.7169,-219.9991 1074.0445,-122.1977 1126.7468,-72 1173.6098,-27.3641 1353.1394,-52.3953 1415.7468,-36 1418.3517,-35.3179 1421.0072,-34.5172 1423.6582,-33.6394\"/>\n<polygon fill=\"#000000\" stroke=\"#000000\" points=\"1424.9349,-36.8995 1433.1397,-30.1963 1422.5455,-30.3199 1424.9349,-36.8995\"/>\n</g>\n<!-- distribution_description_node -->\n<g id=\"node28\" class=\"node\">\n<title>distribution_description_node</title>\n<text text-anchor=\"start\" x=\"1143.2468\" y=\"-469.8\" font-family=\"Times,serif\" font-size=\"14.00\" fill=\"#000000\">nu ~ MultivariateNormal</text>\n<text text-anchor=\"start\" x=\"1143.2468\" y=\"-454.8\" font-family=\"Times,serif\" font-size=\"14.00\" fill=\"#000000\">theta ~ Normal</text>\n<text text-anchor=\"start\" x=\"1143.2468\" y=\"-439.8\" font-family=\"Times,serif\" font-size=\"14.00\" fill=\"#000000\">mu_s ~ Normal</text>\n<text text-anchor=\"start\" x=\"1143.2468\" y=\"-424.8\" font-family=\"Times,serif\" font-size=\"14.00\" fill=\"#000000\">Av ~ Exponential</text>\n<text text-anchor=\"start\" x=\"1143.2468\" y=\"-409.8\" font-family=\"Times,serif\" font-size=\"14.00\" fill=\"#000000\">flux00 ~ Normal</text>\n<text text-anchor=\"start\" x=\"1143.2468\" y=\"-394.8\" font-family=\"Times,serif\" font-size=\"14.00\" fill=\"#000000\">flux01 ~ Normal</text>\n<text text-anchor=\"start\" x=\"1143.2468\" y=\"-379.8\" font-family=\"Times,serif\" font-size=\"14.00\" fill=\"#000000\">flux02 ~ Normal</text>\n<text text-anchor=\"start\" x=\"1143.2468\" y=\"-364.8\" font-family=\"Times,serif\" font-size=\"14.00\" fill=\"#000000\">flux03 ~ Normal</text>\n<text text-anchor=\"start\" x=\"1143.2468\" y=\"-349.8\" font-family=\"Times,serif\" font-size=\"14.00\" fill=\"#000000\">flux04 ~ Normal</text>\n<text text-anchor=\"start\" x=\"1143.2468\" y=\"-334.8\" font-family=\"Times,serif\" font-size=\"14.00\" fill=\"#000000\">flux05 ~ Normal</text>\n<text text-anchor=\"start\" x=\"1143.2468\" y=\"-319.8\" font-family=\"Times,serif\" font-size=\"14.00\" fill=\"#000000\">flux10 ~ Normal</text>\n<text text-anchor=\"start\" x=\"1143.2468\" y=\"-304.8\" font-family=\"Times,serif\" font-size=\"14.00\" fill=\"#000000\">flux11 ~ Normal</text>\n<text text-anchor=\"start\" x=\"1143.2468\" y=\"-289.8\" font-family=\"Times,serif\" font-size=\"14.00\" fill=\"#000000\">flux12 ~ Normal</text>\n<text text-anchor=\"start\" x=\"1143.2468\" y=\"-274.8\" font-family=\"Times,serif\" font-size=\"14.00\" fill=\"#000000\">flux13 ~ Normal</text>\n<text text-anchor=\"start\" x=\"1143.2468\" y=\"-259.8\" font-family=\"Times,serif\" font-size=\"14.00\" fill=\"#000000\">flux14 ~ Normal</text>\n<text text-anchor=\"start\" x=\"1143.2468\" y=\"-244.8\" font-family=\"Times,serif\" font-size=\"14.00\" fill=\"#000000\">flux15 ~ Normal</text>\n<text text-anchor=\"start\" x=\"1143.2468\" y=\"-229.8\" font-family=\"Times,serif\" font-size=\"14.00\" fill=\"#000000\">flux20 ~ Normal</text>\n<text text-anchor=\"start\" x=\"1143.2468\" y=\"-214.8\" font-family=\"Times,serif\" font-size=\"14.00\" fill=\"#000000\">flux21 ~ Normal</text>\n<text text-anchor=\"start\" x=\"1143.2468\" y=\"-199.8\" font-family=\"Times,serif\" font-size=\"14.00\" fill=\"#000000\">flux22 ~ Normal</text>\n<text text-anchor=\"start\" x=\"1143.2468\" y=\"-184.8\" font-family=\"Times,serif\" font-size=\"14.00\" fill=\"#000000\">flux23 ~ Normal</text>\n<text text-anchor=\"start\" x=\"1143.2468\" y=\"-169.8\" font-family=\"Times,serif\" font-size=\"14.00\" fill=\"#000000\">flux24 ~ Normal</text>\n<text text-anchor=\"start\" x=\"1143.2468\" y=\"-154.8\" font-family=\"Times,serif\" font-size=\"14.00\" fill=\"#000000\">flux25 ~ Normal</text>\n<text text-anchor=\"start\" x=\"1143.2468\" y=\"-139.8\" font-family=\"Times,serif\" font-size=\"14.00\" fill=\"#000000\">flux30 ~ Normal</text>\n<text text-anchor=\"start\" x=\"1143.2468\" y=\"-124.8\" font-family=\"Times,serif\" font-size=\"14.00\" fill=\"#000000\">flux31 ~ Normal</text>\n<text text-anchor=\"start\" x=\"1143.2468\" y=\"-109.8\" font-family=\"Times,serif\" font-size=\"14.00\" fill=\"#000000\">flux32 ~ Normal</text>\n<text text-anchor=\"start\" x=\"1143.2468\" y=\"-94.8\" font-family=\"Times,serif\" font-size=\"14.00\" fill=\"#000000\">flux33 ~ Normal</text>\n<text text-anchor=\"start\" x=\"1143.2468\" y=\"-79.8\" font-family=\"Times,serif\" font-size=\"14.00\" fill=\"#000000\">flux34 ~ Normal</text>\n</g>\n</g>\n</svg>\n"
          },
          "metadata": {},
          "execution_count": 32
        }
      ],
      "source": [
        "pyro.render_model(model_vi, model_args = (observed_fluxes,), render_distributions=True, render_params = True)"
      ]
    },
    {
      "cell_type": "code",
      "execution_count": 56,
      "metadata": {
        "id": "Paf6nwlaQWU_"
      },
      "outputs": [],
      "source": [
        "autoguide_vi = pyro.infer.autoguide.AutoMultivariateNormal(model_vi, init_loc_fn = pyro.infer.autoguide.initialization.init_to_median(), init_scale = 1.)"
      ]
    },
    {
      "cell_type": "code",
      "execution_count": 57,
      "metadata": {
        "id": "3NK3RzAYbJ88"
      },
      "outputs": [],
      "source": [
        "pyro.get_param_store().clear()\n",
        "adam = pyro.optim.Adam({\"lr\": 0.001, \"betas\": (0.90, 0.999)}, {\"clip_norm\": 10.0})\n",
        "# adam = pyro.optim.SGD({\"lr\": 0.1})\n",
        "\n",
        "\n",
        "svi = SVI(model_vi, autoguide_vi, adam, loss=Trace_ELBO().differentiable_loss)\n",
        "# svi = SVI(model_vi, custom_guide, adam, loss=Trace_ELBO().differentiable_loss)\n",
        "\n",
        "for i in range(10):\n",
        "  svi.step(observed_fluxes)"
      ]
    },
    {
      "cell_type": "code",
      "execution_count": 58,
      "metadata": {
        "id": "JABvOkWTa68Q"
      },
      "outputs": [],
      "source": [
        "def train(model, guide, lr=0.01, n_steps=5000, verbose = True):\n",
        "    pyro.get_param_store().clear()\n",
        "    adam_params = {\"lr\": lr, \"betas\": (0.95, 0.999)}\n",
        "    # adam = pyro.optim.Adam({\"lr\": 0.05}, {\"clip_norm\": 10.0})\n",
        "    adam = pyro.optim.ClippedAdam(adam_params)\n",
        "    svi = SVI(model, guide, adam, loss=Trace_ELBO())\n",
        "    losses = []\n",
        "    losses_every_500 = []\n",
        "\n",
        "    for step in range(n_steps):\n",
        "        loss = svi.step(observed_fluxes)\n",
        "        losses.append(loss)\n",
        "        if verbose and step % 500 == 0:\n",
        "            print('[iter {}]  loss: {:.4f}'.format(step, loss))\n",
        "            losses_every_500.append(loss)\n",
        "            ## if it hasn't decreased in 3 steps, end fitting\n",
        "            # if step > 2000:\n",
        "            #  if losses_every_500[-1] >= losses_every_500[-2] and losses_every_500[-2] >= losses_every_500[-3]:\n",
        "            #   break\n",
        "    return losses"
      ]
    },
    {
      "cell_type": "code",
      "execution_count": 59,
      "metadata": {
        "colab": {
          "base_uri": "https://localhost:8080/"
        },
        "id": "XpUjDOukUqdV",
        "outputId": "a4f61944-951b-429c-de52-16627c5b1e2a"
      },
      "outputs": [
        {
          "output_type": "stream",
          "name": "stdout",
          "text": [
            "[iter 0]  loss: 17297.5489\n",
            "[iter 500]  loss: 98664.4059\n",
            "[iter 1000]  loss: 1103.0087\n",
            "[iter 1500]  loss: 463.8067\n",
            "[iter 2000]  loss: 432.2853\n",
            "[iter 2500]  loss: 364.6233\n",
            "[iter 3000]  loss: 322.2608\n",
            "[iter 3500]  loss: 304.4322\n",
            "[iter 4000]  loss: 289.8366\n",
            "[iter 4500]  loss: 278.1251\n",
            "[iter 5000]  loss: 277.2061\n",
            "[iter 5500]  loss: 269.5011\n",
            "[iter 6000]  loss: 269.7142\n",
            "[iter 6500]  loss: 265.0813\n",
            "[iter 7000]  loss: 268.1685\n",
            "[iter 7500]  loss: 260.5502\n",
            "[iter 8000]  loss: 268.5526\n",
            "[iter 8500]  loss: 267.3346\n",
            "[iter 9000]  loss: 270.8799\n",
            "[iter 9500]  loss: 265.3824\n",
            "[iter 10000]  loss: 268.9968\n",
            "[iter 10500]  loss: 266.6769\n",
            "[iter 11000]  loss: 263.5497\n",
            "[iter 11500]  loss: 264.8584\n",
            "[iter 12000]  loss: 266.0151\n",
            "[iter 12500]  loss: 262.9491\n",
            "[iter 13000]  loss: 261.1033\n",
            "[iter 13500]  loss: 266.2625\n",
            "[iter 14000]  loss: 264.2962\n",
            "[iter 14500]  loss: 261.7858\n",
            "[iter 15000]  loss: 268.5657\n",
            "[iter 15500]  loss: 262.1953\n",
            "[iter 16000]  loss: 275.6729\n",
            "[iter 16500]  loss: 262.2596\n",
            "[iter 17000]  loss: 270.9237\n",
            "[iter 17500]  loss: 265.5457\n",
            "[iter 18000]  loss: 260.2023\n",
            "[iter 18500]  loss: 276.1042\n",
            "[iter 19000]  loss: 271.2345\n",
            "[iter 19500]  loss: 264.1147\n",
            "Time: 262.47199511528015 seconds\n"
          ]
        }
      ],
      "source": [
        "start_time = measure_time.time()\n",
        "losses = train(model_vi, autoguide_vi, lr = 0.005, n_steps = 20000)\n",
        "end_time = measure_time.time()\n",
        "print(\"Time:\", end_time - start_time, \"seconds\")"
      ]
    },
    {
      "cell_type": "code",
      "execution_count": 60,
      "metadata": {
        "colab": {
          "base_uri": "https://localhost:8080/",
          "height": 294
        },
        "id": "DJOUXytNUr2E",
        "outputId": "5a1b0686-6766-4fab-b5bd-5df48aee93d2"
      },
      "outputs": [
        {
          "output_type": "execute_result",
          "data": {
            "text/plain": [
              "[<matplotlib.lines.Line2D at 0x7fea2b445910>]"
            ]
          },
          "metadata": {},
          "execution_count": 60
        },
        {
          "output_type": "display_data",
          "data": {
            "text/plain": [
              "<Figure size 432x288 with 1 Axes>"
            ],
            "image/png": "[encoded data removed]"
          },
          "metadata": {
            "needs_background": "light"
          }
        }
      ],
      "source": [
        "plt.plot(losses)"
      ]
    },
    {
      "cell_type": "code",
      "execution_count": 61,
      "metadata": {
        "colab": {
          "base_uri": "https://localhost:8080/"
        },
        "id": "kURN_Tgoki_1",
        "outputId": "0a1b342c-e82e-47c9-81cf-5fa03365c479"
      },
      "outputs": [
        {
          "output_type": "execute_result",
          "data": {
            "text/plain": [
              "tensor(0.4295)"
            ]
          },
          "metadata": {},
          "execution_count": 61
        }
      ],
      "source": [
        "autoguide_vi.median()['theta']"
      ]
    },
    {
      "cell_type": "code",
      "execution_count": 62,
      "metadata": {
        "colab": {
          "base_uri": "https://localhost:8080/"
        },
        "id": "z2ZYBBM4uyfA",
        "outputId": "47b6e58e-7e0d-40a9-8ebe-066d71a2dd69"
      },
      "outputs": [
        {
          "output_type": "execute_result",
          "data": {
            "text/plain": [
              "tensor(0.1534)"
            ]
          },
          "metadata": {},
          "execution_count": 62
        }
      ],
      "source": [
        "autoguide_vi.median()['Av']"
      ]
    },
    {
      "cell_type": "code",
      "execution_count": 63,
      "metadata": {
        "colab": {
          "base_uri": "https://localhost:8080/"
        },
        "id": "aAaKb6Pdu0fJ",
        "outputId": "892cc10d-3c44-411b-fc4b-46e4e983ff9f"
      },
      "outputs": [
        {
          "output_type": "execute_result",
          "data": {
            "text/plain": [
              "tensor(37.1777)"
            ]
          },
          "metadata": {},
          "execution_count": 63
        }
      ],
      "source": [
        "autoguide_vi.median()['mu_s']"
      ]
    },
    {
      "cell_type": "code",
      "execution_count": 64,
      "metadata": {
        "colab": {
          "base_uri": "https://localhost:8080/"
        },
        "id": "1faaFD1nu3OK",
        "outputId": "66f0fe7d-a942-4b8b-af90-ae423aed7b48"
      },
      "outputs": [
        {
          "output_type": "execute_result",
          "data": {
            "text/plain": [
              "tensor([ 7.4087e-01, -1.9423e-01,  7.2611e-01,  1.3854e-01, -1.6119e+00,\n",
              "        -7.8502e-01,  4.6675e-01, -3.9403e-01, -3.5786e-01, -9.9402e-02,\n",
              "         4.5119e-01, -1.9969e-01,  7.7482e-01,  6.0014e-01,  1.0029e-01,\n",
              "         6.6668e-01,  1.4819e-01, -3.8872e-01,  2.6292e-01,  6.0966e-01,\n",
              "        -6.2471e-01,  1.3881e+00,  2.9214e-01, -2.6495e+00, -4.2388e-01,\n",
              "        -7.4619e-01, -9.7358e-01, -1.8783e+00, -1.7367e+00, -8.8364e-01,\n",
              "        -9.3979e-01,  8.7736e-01,  9.7028e-01, -5.3395e-01,  2.6854e-01,\n",
              "        -1.6475e-01,  2.0687e-01,  7.5595e-01,  1.0426e+00,  2.5926e+00,\n",
              "         7.2727e-02, -1.9997e+00,  1.1742e-01,  1.2849e-04,  5.3672e-02,\n",
              "         1.2157e-03, -8.0837e-02, -7.5020e-02, -1.0075e-01, -2.3207e-01,\n",
              "        -1.5532e-01,  3.0651e-02, -7.7714e-02,  1.5032e-02])"
            ]
          },
          "metadata": {},
          "execution_count": 64
        }
      ],
      "source": [
        "autoguide_vi.median()['nu']"
      ]
    },
    {
      "cell_type": "code",
      "source": [
        "autoguide_laplace = pyro.infer.autoguide.AutoLaplaceApproximation(model_vi)\n",
        "start_time = measure_time.time()\n",
        "losses = train(model_vi, autoguide_laplace, n_steps = 10000)\n",
        "end_time = measure_time.time()\n",
        "print(\"Time:\", end_time - start_time, \"seconds\")"
      ],
      "metadata": {
        "id": "tlrGC8fimuEF"
      },
      "execution_count": null,
      "outputs": []
    },
    {
      "cell_type": "code",
      "source": [
        "new_laplace_approx_guide = autoguide_laplace.laplace_approximation(observed_fluxes)\n",
        "losses = train(model_vi, new_laplace_approx_guide, n_steps = 10000)"
      ],
      "metadata": {
        "id": "EyxOD6YAn5CK"
      },
      "execution_count": null,
      "outputs": []
    },
    {
      "cell_type": "code",
      "source": [
        "posterior_samples = Predictive(model_vi, guide = autoguide_vi, num_samples = 100)(None,)\n",
        "posterior_samples['Av']"
      ],
      "metadata": {
        "colab": {
          "base_uri": "https://localhost:8080/"
        },
        "id": "Q9yoRw50SEGC",
        "outputId": "a270139c-2fb9-4377-cbac-5d24db3d222e"
      },
      "execution_count": 48,
      "outputs": [
        {
          "output_type": "execute_result",
          "data": {
            "text/plain": [
              "tensor([0.1881, 0.1728, 0.3017, 0.1884, 0.1583, 0.1534, 0.2029, 0.1798, 0.1569,\n",
              "        0.1746, 0.1560, 0.1492, 0.1976, 0.1566, 0.2396, 0.1438, 0.1913, 0.2470,\n",
              "        0.1780, 0.1854, 0.1561, 0.1601, 0.1940, 0.1797, 0.1626, 0.1717, 0.1933,\n",
              "        0.1858, 0.1745, 0.1908, 0.2009, 0.1466, 0.1735, 0.1611, 0.1303, 0.1631,\n",
              "        0.1277, 0.1535, 0.1307, 0.1380, 0.1761, 0.1542, 0.1649, 0.2176, 0.1925,\n",
              "        0.1448, 0.1664, 0.1240, 0.1516, 0.2203, 0.1728, 0.1846, 0.1452, 0.1632,\n",
              "        0.1988, 0.1593, 0.1403, 0.1681, 0.1217, 0.1512, 0.1910, 0.1325, 0.2002,\n",
              "        0.1640, 0.1314, 0.1805, 0.1550, 0.1476, 0.1814, 0.1686, 0.1704, 0.1744,\n",
              "        0.1335, 0.1644, 0.2246, 0.2206, 0.2220, 0.1414, 0.1706, 0.2466, 0.1286,\n",
              "        0.1871, 0.1637, 0.1747, 0.1544, 0.1286, 0.1365, 0.1878, 0.2017, 0.1558,\n",
              "        0.1567, 0.2140, 0.1398, 0.1550, 0.1620, 0.1841, 0.1327, 0.1863, 0.1943,\n",
              "        0.2003])"
            ]
          },
          "metadata": {},
          "execution_count": 48
        }
      ]
    },
    {
      "cell_type": "code",
      "source": [
        "def calculate_all_fluxes_from_params(nu, theta, mu_s, dMs, Av):\n",
        "  times_to_interpolate = np.linspace(-10, 40)\n",
        "  Jt = spline_coeffs_irr(times_to_interpolate, time_knots, invKD_irr(time_knots))\n",
        "\n",
        "  epsilon_interior = np.matmul(L_sigma_epsilon, nu.numpy().T)\n",
        "\n",
        "  epsilon = np.zeros_like(W0)   ## populate epsilon matrix\n",
        "  epsilon[1:-1] = epsilon_interior.reshape((9,6), order = 'F')\n",
        "\n",
        "  W = W0 + theta.numpy()*W1 + epsilon\n",
        "\n",
        "  generated_fluxes_from_params = []\n",
        "\n",
        "  for band in bands:\n",
        "    band_wavelengths = wavelengths_dict[band]\n",
        "    band_norm_throughput = norm_throughput_dict[band]\n",
        "\n",
        "    Jl = band_Jl[band]\n",
        "    # xis_matrix = band_xis_matrix[band]\n",
        "    # h = band_h[band]\n",
        "\n",
        "    wavelengths_to_interpolate = get_lambda_int_for_band(band_wavelengths)\n",
        "    \n",
        "    # Jl = spline_coeffs_irr(wavelengths_to_interpolate, wavelength_knots, invKD_irr(wavelength_knots))\n",
        "    xis = extinction.fitzpatrick99(wavelengths_to_interpolate, 1, rv)\n",
        "    xis_matrix = np.tile(xis, (len(times_to_interpolate),1)).T\n",
        "\n",
        "    S0 = np.zeros((len(wavelengths_to_interpolate), len(times_to_interpolate)))\n",
        "    for i, wavelength in enumerate(wavelengths_to_interpolate):\n",
        "      for j, time in enumerate(times_to_interpolate):\n",
        "        S0[i][j] = interpolate_hsiao(time, wavelength, hsiao_phase, hsiao_wave, hsiao_flux)\n",
        "\n",
        "    throughput_interpolator = interp1d(band_wavelengths, band_norm_throughput)\n",
        "    b = throughput_interpolator([band_wavelengths[0]] + list(wavelengths_to_interpolate[1:-1] * (1 + z)) + [band_wavelengths[-1]])\n",
        "\n",
        "    xis_obs = extinction.fitzpatrick99(wavelengths_to_interpolate*(1 + z), Av_obs, 3.1)\n",
        "    dLambda = wavelengths_to_interpolate[1] - wavelengths_to_interpolate[0]\n",
        "    h = (1 + z) * dLambda * b * wavelengths_to_interpolate * np.exp(-gamma * xis_obs)\n",
        "\n",
        "    band_flux = get_flux_from_params(torch.as_tensor(epsilon_interior), torch.as_tensor(theta), \n",
        "                                torch.as_tensor(mu_s), torch.as_tensor(dMs), torch.as_tensor(Av),\n",
        "                                xis_matrix = xis_matrix, S0 = S0, h = h, Jt = Jt, Jl = Jl)\n",
        "    \n",
        "    generated_fluxes_from_params.append(band_flux)\n",
        "  \n",
        "  return np.array(generated_fluxes_from_params)"
      ],
      "metadata": {
        "id": "KvRPHWs3bpgS"
      },
      "execution_count": null,
      "outputs": []
    },
    {
      "cell_type": "code",
      "source": [
        "posterior_smooth_curves = []\n",
        "for nu, theta, mu_s, Av in zip(posterior_samples['nu'][:,0,0], posterior_samples['theta'][:,0,0], posterior_samples['mu_s'][:,0,0], posterior_samples['Av'][:,0,0]):\n",
        "  # print(nu, theta, mu_s, Av)\n",
        "  posterior_smooth_curves.append(calculate_all_fluxes_from_params(nu, theta, mu_s, torch.as_tensor(0.), Av))"
      ],
      "metadata": {
        "id": "0wXqiatubaC7"
      },
      "execution_count": null,
      "outputs": []
    },
    {
      "cell_type": "code",
      "source": [
        "posterior_smooth_curves = np.array(posterior_smooth_curves)\n",
        "median_posterior_fit = np.median(posterior_smooth_curves, axis = 0)\n",
        "upper_posterior_fit = np.percentile(posterior_smooth_curves, 50 + 34.1, axis = 0)\n",
        "lower_posterior_fit = np.percentile(posterior_smooth_curves, 50 - 34.1, axis = 0)"
      ],
      "metadata": {
        "id": "NXX8fk1IbkOU"
      },
      "execution_count": null,
      "outputs": []
    },
    {
      "cell_type": "code",
      "source": [
        "colors  = ['g', 'r', 'c', 'k']\n",
        "# offset = np.array([0, 1000,2000,3000]) * 30\n",
        "offset = np.zeros(4)\n",
        "for i, band_flux in enumerate(median_posterior_fit):\n",
        "    plt.plot(np.linspace(-10, 40), band_flux + offset[i], color = colors[i])\n",
        "    plt.fill_between(np.linspace(-10, 40), upper_posterior_fit[i]+ offset[i], lower_posterior_fit[i]+ offset[i], color = colors[i], alpha = 0.2)\n",
        "for i, band_flux in enumerate(observed_fluxes.numpy()):\n",
        "  plt.plot(times_to_interpolate, band_flux + offset[i], 'o',color = colors[i], label = bands[i])\n",
        "plt.legend()\n",
        "plt.title(\"Posterior samples from VI\")"
      ],
      "metadata": {
        "id": "jvYXQoc3cVuC"
      },
      "execution_count": null,
      "outputs": []
    },
    {
      "cell_type": "code",
      "source": [
        "num_corner_samples = 1000\n",
        "vi_corner_samples = Predictive(model_vi, guide = autoguide_vi, num_samples = num_corner_samples)(None,)"
      ],
      "metadata": {
        "id": "tEVBSDT_dHYo"
      },
      "execution_count": 65,
      "outputs": []
    },
    {
      "cell_type": "code",
      "source": [
        "vi_trained_laplace_samples = Predictive(model_vi, guide = new_laplace_approx_guide, num_samples = num_corner_samples)(None,)"
      ],
      "metadata": {
        "id": "_7zDtKOwoMIg"
      },
      "execution_count": null,
      "outputs": []
    },
    {
      "cell_type": "code",
      "source": [
        "laplace_samples = Predictive(model_vi, guide = autoguide_laplace.laplace_approximation(observed_fluxes), num_samples = num_corner_samples)(None,)"
      ],
      "metadata": {
        "id": "Hn60rj0Co1Nx"
      },
      "execution_count": null,
      "outputs": []
    },
    {
      "cell_type": "code",
      "source": [
        "other_fit = np.load(\"AT2016aj_chains_210610_135216.npy\", allow_pickle = True).item()"
      ],
      "metadata": {
        "id": "6VNOrRrLhavO"
      },
      "execution_count": 50,
      "outputs": []
    },
    {
      "cell_type": "code",
      "source": [
        "other_fit.keys()"
      ],
      "metadata": {
        "colab": {
          "base_uri": "https://localhost:8080/"
        },
        "id": "4sNAkk7rnKlJ",
        "outputId": "504f2a79-29b2-4316-948e-6cce6ba15f7d"
      },
      "execution_count": 51,
      "outputs": [
        {
          "output_type": "execute_result",
          "data": {
            "text/plain": [
              "odict_keys(['lp__', 'mu', 'AV', 'theta', 'delM', 'epsilon'])"
            ]
          },
          "metadata": {},
          "execution_count": 51
        }
      ]
    },
    {
      "cell_type": "code",
      "source": [
        "len(other_fit['mu'])"
      ],
      "metadata": {
        "colab": {
          "base_uri": "https://localhost:8080/"
        },
        "id": "NbOlA2eiiMN_",
        "outputId": "5ba682db-c2e2-41ac-ea1f-4c98b8960735"
      },
      "execution_count": 52,
      "outputs": [
        {
          "output_type": "execute_result",
          "data": {
            "text/plain": [
              "1000"
            ]
          },
          "metadata": {},
          "execution_count": 52
        }
      ]
    },
    {
      "cell_type": "code",
      "source": [
        "figure = corner.corner(np.vstack((vi_corner_samples['mu_s'].numpy(),vi_corner_samples['theta'].numpy(), \n",
        "                                  vi_corner_samples['Av'].numpy())).T, \n",
        "                       labels = [r\"$\\mu_s$\", r\"$\\theta$\", r\"$A_v$\"])\n",
        "# corner.corner(np.vstack((vi_trained_laplace_samples['mu_s'][:,0,0].numpy(),vi_trained_laplace_samples['theta'][:,0,0].numpy(), \n",
        "#                                   vi_trained_laplace_samples['Av'][:,0,0].numpy())).T, \n",
        "#                        labels = [r\"$\\mu_s$\", r\"$\\theta$\", r\"$A_v$\"], fig = figure, color = 'c')\n",
        "# corner.corner(np.vstack((laplace_samples['mu_s'][:,0,0].numpy(),laplace_samples['theta'][:,0,0].numpy(), \n",
        "#                                   laplace_samples['Av'][:,0,0].numpy())).T, \n",
        "#                        labels = [r\"$\\mu_s$\", r\"$\\theta$\", r\"$A_v$\"], fig = figure, color = 'b')\n",
        "corner.corner(np.vstack((other_fit['mu'] + other_fit['delM'],other_fit['theta'], other_fit['AV'])).T, \n",
        "                       labels = [r\"$\\mu_s$\", r\"$\\theta$\", r\"$A_v$\"], fig = figure, color = 'r')\n",
        "colors = ['k','c', 'r']\n",
        "\n",
        "labels = ['VI', 'VI init from Laplace approx', 'MCMC']\n",
        "\n",
        "plt.legend(\n",
        "    handles=[\n",
        "        mlines.Line2D([], [], color=colors[i], label=labels[i])\n",
        "        for i in range(len(labels))\n",
        "    ],\n",
        "    fontsize=16, frameon=False,\n",
        "    bbox_to_anchor=(1, 3), loc=\"upper right\"\n",
        ")\n",
        "figure.suptitle(\"Parameter distributions for ASASSN-16CS dataset\", fontsize = 20)\n",
        "plt.show()"
      ],
      "metadata": {
        "colab": {
          "base_uri": "https://localhost:8080/",
          "height": 552
        },
        "id": "cau5KorneFYo",
        "outputId": "26d64752-7d23-41df-ec04-0ea7b34c55ae"
      },
      "execution_count": 66,
      "outputs": [
        {
          "output_type": "display_data",
          "data": {
            "text/plain": [
              "<Figure size 547.2x547.2 with 9 Axes>"
            ],
            "image/png": "[encoded data removed]"
          },
          "metadata": {
            "needs_background": "light"
          }
        }
      ]
    },
    {
      "cell_type": "code",
      "source": [
        "def model_mcmc(obs):\n",
        "  # epsilon_interior = pyro.sample(\"eps_int\", dist.MultivariateNormal(torch.zeros(len(eps_cov)), covariance_matrix = eps_cov))\n",
        "\n",
        "  nu = pyro.sample(\"nu\", dist.MultivariateNormal(torch.zeros(len(eps_cov)), covariance_matrix = torch.eye(len(eps_cov))))\n",
        "  # nu = torch.zeros(54)\n",
        "  epsilon_interior = torch.matmul(torch.as_tensor(L_sigma_epsilon, dtype = torch.double), nu.double())\n",
        "  # print(epsilon_interior)\n",
        "\n",
        "  # theta = pyro.sample(\"theta\", dist.Uniform(low=-1.49, high=2.77))\n",
        "  theta = pyro.sample(\"theta\", dist.Normal(0., 1.0))\n",
        "  # theta = torch.as_tensor(0.03430605)\n",
        "\n",
        "  # theta = torch.as_tensor(-0.9835187)\n",
        "  cosmo = FlatLambdaCDM(H0 = 73.24, Om0 = 0.28)\n",
        "  mu_s = pyro.sample(\"mu_s\", dist.Normal(cosmo.distmod(z_helio).value, 10.)) ## fix this later\n",
        "  # mu_s = torch.as_tensor(37.248927127193724)\n",
        "\n",
        "  # dMs = pyro.sample(\"Ms\", dist.Normal(torch.tensor(0.), torch.tensor(sigma0)))\n",
        "  dMs = torch.tensor(0.)\n",
        "  Av = pyro.sample(\"Av\", dist.Exponential(1 / 0.252))\n",
        "  # Av = torch.tensor(7.2387767)\n",
        "  # Av = pyro.sample(\"Av\", dist.Normal(0.27, 1.))\n",
        "\n",
        "  epsilon = torch.zeros(W0.shape)   ## populate epsilon matrix\n",
        "  epsilon[1:-1] = torch.transpose(torch.reshape(epsilon_interior, (6,9)), 0, 1)\n",
        "\n",
        "  W = torch.as_tensor(W0) + theta*torch.as_tensor(W1) + epsilon\n",
        "\n",
        "  generated_fluxes = []\n",
        "\n",
        "  for band in bands:\n",
        "    Jl = band_Jl[band]\n",
        "    S0 = band_S0[band]\n",
        "    xis_matrix = band_xis_matrix[band]\n",
        "    h = band_h[band]\n",
        "    Jt = band_Jt[band]\n",
        "\n",
        "    JlWJt = torch.matmul(torch.as_tensor(Jl), torch.matmul(W, torch.as_tensor(Jt.T)))\n",
        "\n",
        "    Stilde = torch.as_tensor(S0) * torch.exp(-gamma * (JlWJt + Av * torch.as_tensor(xis_matrix)))\n",
        "\n",
        "    f = 10**(0.4 * (torch.as_tensor(ZPT) - mu_s - torch.as_tensor(M0) - dMs)) * torch.matmul(torch.as_tensor(h), torch.as_tensor(Stilde))\n",
        "    generated_fluxes.append(f)\n",
        "\n",
        "  # generated_fluxes = torch.stack(generated_fluxes)\n",
        "  # print(generated_fluxes)\n",
        "\n",
        "  for i in range(len(bands)):\n",
        "    # with pyro.plate(\"observations\"):\n",
        "      # print(len(generated_fluxes[i]))\n",
        "      for j in range(len(generated_fluxes[i])):\n",
        "          pyro.sample(\"flux\" + str(i) + str(j), dist.Normal(generated_fluxes[i][j], 0.02 * generated_fluxes[i][j]), obs = obs[0][i][j])\n",
        "          # print(obs[0][i][j])\n",
        "        # print(generated_fluxes[i])"
      ],
      "metadata": {
        "id": "KZnOMIENeR9J"
      },
      "execution_count": 67,
      "outputs": []
    },
    {
      "cell_type": "code",
      "source": [
        "num_chains = 4\n",
        "nuts_kernel = pyro.infer.NUTS(model_mcmc, adapt_step_size=True)\n",
        "\n",
        "mcmc = pyro.infer.MCMC(nuts_kernel, num_samples=600, warmup_steps=250, num_chains = num_chains, disable_progbar = True)\n",
        "\n",
        "start_time = measure_time.time()\n",
        "mcmc.run(observed_fluxes)\n",
        "end_time = measure_time.time()\n",
        "print(\"Total:\", end_time - start_time, \"seconds\")"
      ],
      "metadata": {
        "colab": {
          "base_uri": "https://localhost:8080/"
        },
        "id": "drBBoyLpfkeC",
        "outputId": "26f41cfe-c6a3-4422-c6d4-cc7bef730914"
      },
      "execution_count": null,
      "outputs": [
        {
          "output_type": "stream",
          "name": "stderr",
          "text": [
            "/usr/local/lib/python3.7/dist-packages/pyro/infer/mcmc/api.py:500: UserWarning: num_chains=4 is more than available_cpu=1. Chains will be drawn sequentially.\n",
            "  num_chains, available_cpu\n"
          ]
        }
      ]
    },
    {
      "cell_type": "code",
      "source": [
        "mcmc_corner_samples = mcmc.get_samples(num_samples = num_corner_samples)"
      ],
      "metadata": {
        "id": "f3sAZtYt--gX"
      },
      "execution_count": null,
      "outputs": []
    },
    {
      "cell_type": "code",
      "source": [
        "# figure = corner.corner(np.vstack((vi_corner_samples['mu_s'][:,0,0].numpy(),vi_corner_samples['theta'][:,0,0].numpy(), \n",
        "#                                   vi_corner_samples['Av'][:,0,0].numpy())).T, \n",
        "#                        labels = [r\"$\\mu_s$\", r\"$\\theta$\", r\"$A_v$\"])\n",
        "# corner.corner(np.vstack((vi_trained_laplace_samples['mu_s'][:,0,0].numpy(),vi_trained_laplace_samples['theta'][:,0,0].numpy(), \n",
        "#                                   vi_trained_laplace_samples['Av'][:,0,0].numpy())).T, \n",
        "#                        labels = [r\"$\\mu_s$\", r\"$\\theta$\", r\"$A_v$\"], fig = figure, color = 'c')\n",
        "figure = corner.corner(np.vstack((mcmc_corner_samples['mu_s'],mcmc_corner_samples['theta'],mcmc_corner_samples['Av'])).T, \n",
        "                       labels = [r\"$\\mu_s$\", r\"$\\theta$\", r\"$A_v$\"], color ='b')\n",
        "# corner.corner(np.vstack((laplace_samples['mu_s'][:,0,0].numpy(),laplace_samples['theta'][:,0,0].numpy(), \n",
        "#                                   laplace_samples['Av'][:,0,0].numpy())).T, \n",
        "#                        labels = [r\"$\\mu_s$\", r\"$\\theta$\", r\"$A_v$\"], fig = figure, color = 'b')\n",
        "corner.corner(np.vstack((other_fit['mu'] + other_fit['delM'],other_fit['theta'], other_fit['AV'])).T, \n",
        "                       labels = [r\"$\\mu_s$\", r\"$\\theta$\", r\"$A_v$\"], fig = figure, color = 'r')\n",
        "# colors = ['k','c', 'r']\n",
        "\n",
        "# labels = ['VI', 'VI init from Laplace approx', 'MCMC']\n",
        "colors = ['r', 'b']\n",
        "labels = ['Stephen MCMC', 'My MCMC']\n",
        "\n",
        "plt.legend(\n",
        "    handles=[\n",
        "        mlines.Line2D([], [], color=colors[i], label=labels[i])\n",
        "        for i in range(len(labels))\n",
        "    ],\n",
        "    fontsize=16, frameon=False,\n",
        "    bbox_to_anchor=(1, 3), loc=\"upper right\"\n",
        ")\n",
        "figure.suptitle(\"Parameter distributions for ASASSN-16CS dataset\", fontsize = 20)\n",
        "plt.show()"
      ],
      "metadata": {
        "id": "PkSEiFbWGUZe"
      },
      "execution_count": null,
      "outputs": []
    },
    {
      "cell_type": "code",
      "source": [
        ""
      ],
      "metadata": {
        "id": "EOGJcseMGe7Q"
      },
      "execution_count": null,
      "outputs": []
    }
  ],
  "metadata": {
    "colab": {
      "name": "Ragged_Tensor_Fitting_BayeSN_Pyro.ipynb",
      "provenance": [],
      "collapsed_sections": []
    },
    "kernelspec": {
      "display_name": "Python 3",
      "name": "python3"
    },
    "language_info": {
      "name": "python"
    },
    "accelerator": "GPU"
  },
  "nbformat": 4,
  "nbformat_minor": 0
}