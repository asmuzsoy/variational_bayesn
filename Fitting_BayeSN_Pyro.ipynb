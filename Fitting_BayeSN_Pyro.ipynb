{
 "cells": [
  {
   "cell_type": "code",
   "execution_count": 30,
   "metadata": {
    "colab": {
     "base_uri": "https://localhost:8080/"
    },
    "id": "uX96bEWTmND0",
    "outputId": "3251f99b-2cea-45d7-f188-8f705cb15321"
   },
   "outputs": [
    {
     "name": "stdout",
     "output_type": "stream",
     "text": [
      "Requirement already satisfied: pyro-ppl in /Users/anasofiauzsoy/anaconda/lib/python3.6/site-packages (1.8.0)\n",
      "Requirement already satisfied: numpy>=1.7 in /Users/anasofiauzsoy/anaconda/lib/python3.6/site-packages (from pyro-ppl) (1.19.5)\n",
      "Requirement already satisfied: pyro-api>=0.1.1 in /Users/anasofiauzsoy/anaconda/lib/python3.6/site-packages (from pyro-ppl) (0.1.2)\n",
      "Requirement already satisfied: tqdm>=4.36 in /Users/anasofiauzsoy/anaconda/lib/python3.6/site-packages (from pyro-ppl) (4.64.0)\n",
      "Requirement already satisfied: opt-einsum>=2.3.2 in /Users/anasofiauzsoy/anaconda/lib/python3.6/site-packages (from pyro-ppl) (3.3.0)\n",
      "Requirement already satisfied: torch>=1.9.0 in /Users/anasofiauzsoy/anaconda/lib/python3.6/site-packages (from pyro-ppl) (1.10.2)\n",
      "Requirement already satisfied: typing-extensions in /Users/anasofiauzsoy/anaconda/lib/python3.6/site-packages (from torch>=1.9.0->pyro-ppl) (3.7.4.3)\n",
      "Requirement already satisfied: dataclasses in /Users/anasofiauzsoy/anaconda/lib/python3.6/site-packages (from torch>=1.9.0->pyro-ppl) (0.8)\n",
      "Requirement already satisfied: importlib-resources in /Users/anasofiauzsoy/anaconda/lib/python3.6/site-packages (from tqdm>=4.36->pyro-ppl) (5.4.0)\n",
      "Requirement already satisfied: zipp>=3.1.0 in /Users/anasofiauzsoy/anaconda/lib/python3.6/site-packages (from importlib-resources->tqdm>=4.36->pyro-ppl) (3.4.1)\n"
     ]
    }
   ],
   "source": [
    "!pip3 install pyro-ppl "
   ]
  },
  {
   "cell_type": "code",
   "execution_count": 2,
   "metadata": {
    "colab": {
     "base_uri": "https://localhost:8080/"
    },
    "id": "TLPeho_PRgNP",
    "outputId": "14bf0bac-e050-4dc6-d8d0-4b03d9a0beba"
   },
   "outputs": [
    {
     "name": "stdout",
     "output_type": "stream",
     "text": [
      "Collecting extinction\n",
      "  Downloading extinction-0.4.6-cp36-cp36m-macosx_10_9_x86_64.whl (95 kB)\n",
      "     |████████████████████████████████| 95 kB 6.2 MB/s             \n",
      "\u001b[?25hRequirement already satisfied: numpy>=1.13.3 in /Users/anasofiauzsoy/anaconda/lib/python3.6/site-packages (from extinction) (1.19.5)\n",
      "Installing collected packages: extinction\n",
      "Successfully installed extinction-0.4.6\n"
     ]
    }
   ],
   "source": [
    "!pip install extinction"
   ]
  },
  {
   "cell_type": "code",
   "execution_count": 3,
   "metadata": {
    "colab": {
     "base_uri": "https://localhost:8080/"
    },
    "id": "u-aOtXYMeTcO",
    "outputId": "25f5c493-4b7f-467d-dae9-d01b6d2c1d20"
   },
   "outputs": [
    {
     "name": "stdout",
     "output_type": "stream",
     "text": [
      "Requirement already satisfied: corner in /Users/anasofiauzsoy/anaconda/lib/python3.6/site-packages (2.0.1)\n",
      "Requirement already satisfied: matplotlib in /Users/anasofiauzsoy/anaconda/lib/python3.6/site-packages (from corner) (3.3.3)\n",
      "Requirement already satisfied: numpy in /Users/anasofiauzsoy/anaconda/lib/python3.6/site-packages (from corner) (1.19.5)\n",
      "Requirement already satisfied: python-dateutil>=2.1 in /Users/anasofiauzsoy/anaconda/lib/python3.6/site-packages (from matplotlib->corner) (2.8.1)\n",
      "Requirement already satisfied: kiwisolver>=1.0.1 in /Users/anasofiauzsoy/anaconda/lib/python3.6/site-packages (from matplotlib->corner) (1.2.0)\n",
      "Requirement already satisfied: pillow>=6.2.0 in /Users/anasofiauzsoy/anaconda/lib/python3.6/site-packages (from matplotlib->corner) (7.2.0)\n",
      "Requirement already satisfied: cycler>=0.10 in /Users/anasofiauzsoy/anaconda/lib/python3.6/site-packages (from matplotlib->corner) (0.10.0)\n",
      "Requirement already satisfied: pyparsing!=2.0.4,!=2.1.2,!=2.1.6,>=2.0.3 in /Users/anasofiauzsoy/anaconda/lib/python3.6/site-packages (from matplotlib->corner) (2.4.7)\n",
      "Requirement already satisfied: six in /Users/anasofiauzsoy/anaconda/lib/python3.6/site-packages (from cycler>=0.10->matplotlib->corner) (1.15.0)\n"
     ]
    }
   ],
   "source": [
    "!pip install corner"
   ]
  },
  {
   "cell_type": "code",
   "execution_count": 31,
   "metadata": {
    "id": "9xkM4Rl_RQdX"
   },
   "outputs": [],
   "source": [
    "import logging\n",
    "import os\n",
    "\n",
    "import torch\n",
    "import numpy as np\n",
    "import pandas as pd\n",
    "import seaborn as sns\n",
    "import matplotlib.pyplot as plt\n",
    "import matplotlib.lines as mlines\n",
    "import matplotlib.colors as colors\n",
    "\n",
    "\n",
    "import corner\n",
    "import time as measure_time\n",
    "\n",
    "import pyro\n",
    "\n",
    "import pyro.distributions as dist\n",
    "import pyro.distributions.constraints as constraints\n",
    "from pyro.infer import SVI, Trace_ELBO,Predictive\n",
    "from pyro.optim import Adam\n",
    "\n",
    "from scipy.interpolate import interp1d\n",
    "import h5py\n",
    "import extinction\n",
    "\n",
    "from astropy.cosmology import FlatLambdaCDM\n",
    "\n",
    "from spline_hsiao_fns import *"
   ]
  },
  {
   "cell_type": "markdown",
   "metadata": {
    "id": "syqWBFKbDk8B"
   },
   "source": [
    "##Get constants from files"
   ]
  },
  {
   "cell_type": "code",
   "execution_count": 2,
   "metadata": {
    "id": "AlhMMde4mIBy"
   },
   "outputs": [],
   "source": [
    "W0 = np.loadtxt(\"../parameter files/W0.txt\")\n",
    "W1 = np.loadtxt(\"../parameter files/W1.txt\")\n",
    "time_knots = np.loadtxt(\"../parameter files/tau_knots.txt\")\n",
    "wavelength_knots = np.loadtxt(\"../parameter files/l_knots.txt\")\n",
    "L_sigma_epsilon = np.loadtxt(\"../parameter files/L_Sigma_epsilon.txt\")\n",
    "M0, sigma0, rv, tauA = np.loadtxt(\"../parameter files/M0_sigma0_RV_tauA.txt\")"
   ]
  },
  {
   "cell_type": "code",
   "execution_count": 3,
   "metadata": {
    "id": "vdSkGKgr4S5R"
   },
   "outputs": [],
   "source": [
    "g_wavelengths, _, g_norm_throughput = np.loadtxt(\"../parameter files/g_PS1.txt\", skiprows = 2, unpack = True)\n",
    "r_wavelengths, _, r_norm_throughput = np.loadtxt(\"../parameter files/r_PS1.txt\", skiprows = 2, unpack = True)\n",
    "i_wavelengths, _, i_norm_throughput = np.loadtxt(\"../parameter files/i_PS1.txt\", skiprows = 2, unpack = True)\n",
    "z_wavelengths, _, z_norm_throughput = np.loadtxt(\"../parameter files/z_PS1.txt\", skiprows = 2, unpack = True)"
   ]
  },
  {
   "cell_type": "code",
   "execution_count": 4,
   "metadata": {
    "colab": {
     "base_uri": "https://localhost:8080/",
     "height": 206
    },
    "id": "R_kLGimHNEDX",
    "outputId": "36c85e04-a88b-4ee9-c378-843a00518f7d"
   },
   "outputs": [
    {
     "data": {
      "text/html": [
       "<div>\n",
       "<style scoped>\n",
       "    .dataframe tbody tr th:only-of-type {\n",
       "        vertical-align: middle;\n",
       "    }\n",
       "\n",
       "    .dataframe tbody tr th {\n",
       "        vertical-align: top;\n",
       "    }\n",
       "\n",
       "    .dataframe thead th {\n",
       "        text-align: right;\n",
       "    }\n",
       "</style>\n",
       "<table border=\"1\" class=\"dataframe\">\n",
       "  <thead>\n",
       "    <tr style=\"text-align: right;\">\n",
       "      <th></th>\n",
       "      <th>MJD</th>\n",
       "      <th>FLT</th>\n",
       "      <th>FLUXCAL</th>\n",
       "      <th>FLUXCALERR</th>\n",
       "      <th>MAG</th>\n",
       "      <th>MAGERR</th>\n",
       "    </tr>\n",
       "  </thead>\n",
       "  <tbody>\n",
       "    <tr>\n",
       "      <th>0</th>\n",
       "      <td>57459.23554</td>\n",
       "      <td>g</td>\n",
       "      <td>37214.832</td>\n",
       "      <td>567.712</td>\n",
       "      <td>16.073</td>\n",
       "      <td>0.017</td>\n",
       "    </tr>\n",
       "    <tr>\n",
       "      <th>1</th>\n",
       "      <td>57467.23967</td>\n",
       "      <td>g</td>\n",
       "      <td>41744.556</td>\n",
       "      <td>650.066</td>\n",
       "      <td>15.949</td>\n",
       "      <td>0.017</td>\n",
       "    </tr>\n",
       "    <tr>\n",
       "      <th>2</th>\n",
       "      <td>57475.26347</td>\n",
       "      <td>g</td>\n",
       "      <td>28919.307</td>\n",
       "      <td>447.921</td>\n",
       "      <td>16.347</td>\n",
       "      <td>0.017</td>\n",
       "    </tr>\n",
       "    <tr>\n",
       "      <th>3</th>\n",
       "      <td>57483.24414</td>\n",
       "      <td>g</td>\n",
       "      <td>16594.694</td>\n",
       "      <td>286.561</td>\n",
       "      <td>16.950</td>\n",
       "      <td>0.019</td>\n",
       "    </tr>\n",
       "    <tr>\n",
       "      <th>4</th>\n",
       "      <td>57495.24593</td>\n",
       "      <td>g</td>\n",
       "      <td>5925.251</td>\n",
       "      <td>190.618</td>\n",
       "      <td>18.068</td>\n",
       "      <td>0.035</td>\n",
       "    </tr>\n",
       "  </tbody>\n",
       "</table>\n",
       "</div>"
      ],
      "text/plain": [
       "           MJD FLT    FLUXCAL  FLUXCALERR     MAG  MAGERR\n",
       "0  57459.23554   g  37214.832     567.712  16.073   0.017\n",
       "1  57467.23967   g  41744.556     650.066  15.949   0.017\n",
       "2  57475.26347   g  28919.307     447.921  16.347   0.017\n",
       "3  57483.24414   g  16594.694     286.561  16.950   0.019\n",
       "4  57495.24593   g   5925.251     190.618  18.068   0.035"
      ]
     },
     "execution_count": 4,
     "metadata": {},
     "output_type": "execute_result"
    }
   ],
   "source": [
    "filename = \"../parameter files/ASASSN-16cs.dat\"\n",
    "\n",
    "df = pd.read_csv(filename, sep=\" \", header = 0, index_col = False, names = ['MJD', \"FLT\", 'FLUXCAL', 'FLUXCALERR', 'MAG', 'MAGERR'])\n",
    "df = df.dropna()\n",
    "df.head()"
   ]
  },
  {
   "cell_type": "code",
   "execution_count": 5,
   "metadata": {
    "id": "0iZBTV98NE-9"
   },
   "outputs": [],
   "source": [
    "tmax = 57464.23 if filename==\"../parameter files/ASASSN-16cs.dat\" else 57442.92\n",
    "z_helio = 0.01802 if filename==\"../parameter files/ASASSN-16cs.dat\" else 0.06741\n",
    "\n",
    "g_time = (df.MJD[df.FLT=='g'] - tmax) / (1 + z_helio)\n",
    "r_time = (df.MJD[df.FLT=='r'] - tmax) / (1 + z_helio)\n",
    "i_time = (df.MJD[df.FLT=='i'] - tmax) / (1 + z_helio)\n",
    "z_time = (df.MJD[df.FLT=='z'] - tmax) / (1 + z_helio)\n",
    "\n",
    "g_mag = df.MAG[df.FLT=='g']\n",
    "r_mag = df.MAG[df.FLT=='r']\n",
    "i_mag = df.MAG[df.FLT=='i']\n",
    "z_mag = df.MAG[df.FLT=='z']\n",
    "\n",
    "g_magerr = df.MAGERR[df.FLT=='g']\n",
    "r_magerr = df.MAGERR[df.FLT=='r']\n",
    "i_magerr = df.MAGERR[df.FLT=='i'][:-1]\n",
    "z_magerr = df.MAGERR[df.FLT=='z']\n",
    "\n",
    "g_flux = df.FLUXCAL[df.FLT=='g']\n",
    "r_flux = df.FLUXCAL[df.FLT=='r']\n",
    "i_flux = df.FLUXCAL[df.FLT=='i']\n",
    "z_flux = df.FLUXCAL[df.FLT=='z']\n",
    "\n",
    "g_fluxerr = df.FLUXCALERR[df.FLT=='g']\n",
    "r_fluxerr = df.FLUXCALERR[df.FLT=='r']\n",
    "i_fluxerr = df.FLUXCALERR[df.FLT=='i'][:-1]\n",
    "z_fluxerr = df.FLUXCALERR[df.FLT=='z']\n",
    "\n",
    "i_mag = i_mag[:-1]\n",
    "i_time = i_time[:-1] ## remove last point which is outside the (-10, 40) time range\n",
    "\n",
    "i_flux = i_flux[:-1]"
   ]
  },
  {
   "cell_type": "code",
   "execution_count": 6,
   "metadata": {
    "colab": {
     "base_uri": "https://localhost:8080/"
    },
    "id": "jhGUTBDdJy01",
    "outputId": "d7bbb4bc-2bba-4a14-d507-8f343a331a5b"
   },
   "outputs": [
    {
     "data": {
      "text/plain": [
       "12    26961.986\n",
       "13    26856.407\n",
       "14    16242.429\n",
       "15    14363.332\n",
       "16    17213.704\n",
       "17    11524.010\n",
       "Name: FLUXCAL, dtype: float64"
      ]
     },
     "execution_count": 6,
     "metadata": {},
     "output_type": "execute_result"
    }
   ],
   "source": [
    "i_flux"
   ]
  },
  {
   "cell_type": "code",
   "execution_count": 7,
   "metadata": {
    "colab": {
     "base_uri": "https://localhost:8080/",
     "height": 269
    },
    "id": "9aOP-JB_P8F7",
    "outputId": "92aa3fe6-fa37-405f-f009-8e0a9c4613d4"
   },
   "outputs": [
    {
     "data": {
      "image/png": "[encoded data removed]",
      "text/plain": [
       "<Figure size 432x288 with 1 Axes>"
      ]
     },
     "metadata": {
      "needs_background": "light"
     },
     "output_type": "display_data"
    }
   ],
   "source": [
    "plt.plot(g_time, g_mag, label='g', marker='o')\n",
    "plt.plot(r_time, r_mag-2, label = 'r', marker='o')\n",
    "plt.plot(i_time, i_mag-4,label = 'i', marker='o')\n",
    "plt.plot(z_time, z_mag-6, label = 'z', marker='o')\n",
    "plt.legend()\n",
    "plt.ylim(19,10)\n",
    "plt.xlim(-10, 40)\n",
    "plt.show() ## replicating Stephen's figure (Figure 11 in Foundation DR1 with BayeSN)"
   ]
  },
  {
   "cell_type": "code",
   "execution_count": 8,
   "metadata": {
    "id": "9FafFqGYWwV2"
   },
   "outputs": [],
   "source": [
    "# cosmo = FlatLambdaCDM(H0 = 73.24, Om0 = 0.28)\n",
    "# z = pyro.sample(\"z\", dist.Uniform(0.015, 0.08)).numpy()\n",
    "# mu_s = cosmo.distmod(z).value\n",
    "\n",
    "z = 0.018\n",
    "mu_s = 31.\n",
    "\n",
    "z_helio = 0.01802 ## for ASASSN\n",
    "EBV_MW = 0.1145 ## for ASASSN\n",
    "\n",
    "ZPT = 27.5\n",
    "M0 = -19.5\n",
    "gamma = np.log(10) / 2.5\n",
    "\n",
    "EBV_MW = 0.1\n",
    "Av_obs = EBV_MW * 3.1"
   ]
  },
  {
   "cell_type": "code",
   "execution_count": 9,
   "metadata": {
    "id": "3O3U1dd3wlGW"
   },
   "outputs": [],
   "source": [
    "hsiao_phase, hsiao_wave, hsiao_flux = read_model_grid()"
   ]
  },
  {
   "cell_type": "markdown",
   "metadata": {
    "id": "TqpkG4FUH6jF"
   },
   "source": [
    "Things we can pre-calculate\n",
    "---\n",
    "\n"
   ]
  },
  {
   "cell_type": "code",
   "execution_count": 10,
   "metadata": {
    "id": "d3FwBBvNNMUe"
   },
   "outputs": [],
   "source": [
    "def get_lambda_int_for_band(band_wavelengths, z = z):\n",
    "  source_wavelengths = band_wavelengths / (1 + z)\n",
    "  return np.linspace(np.min(source_wavelengths), np.max(source_wavelengths), 150)"
   ]
  },
  {
   "cell_type": "code",
   "execution_count": 11,
   "metadata": {
    "id": "RfUeX01sH3Cs"
   },
   "outputs": [],
   "source": [
    "# times_to_interpolate = np.linspace(-10, 40)\n",
    "times_to_interpolate = i_time.values\n",
    "wavelengths_to_interpolate = get_lambda_int_for_band(i_wavelengths)"
   ]
  },
  {
   "cell_type": "code",
   "execution_count": 12,
   "metadata": {
    "id": "2YhpMi-cIBLe"
   },
   "outputs": [],
   "source": [
    "Jt = spline_coeffs_irr(times_to_interpolate, time_knots, invKD_irr(time_knots))\n",
    "Jl = spline_coeffs_irr(wavelengths_to_interpolate, wavelength_knots, invKD_irr(wavelength_knots))"
   ]
  },
  {
   "cell_type": "code",
   "execution_count": 13,
   "metadata": {
    "colab": {
     "base_uri": "https://localhost:8080/"
    },
    "id": "mC0ECO3UISkT",
    "outputId": "fe23adbd-644f-4c4a-a6c9-59fdae2dfb00"
   },
   "outputs": [
    {
     "data": {
      "text/plain": [
       "(150, 6)"
      ]
     },
     "execution_count": 13,
     "metadata": {},
     "output_type": "execute_result"
    }
   ],
   "source": [
    "xis = extinction.fitzpatrick99(wavelengths_to_interpolate, 1, rv)\n",
    "xis_matrix = np.tile(xis, (len(times_to_interpolate),1)).T\n",
    "xis_matrix.shape"
   ]
  },
  {
   "cell_type": "code",
   "execution_count": 14,
   "metadata": {
    "id": "6Xg0FtqVODJf"
   },
   "outputs": [],
   "source": [
    "## interpolate Hsiao coefficient at desired time and wavelength points\n",
    "S0 = np.zeros((len(wavelengths_to_interpolate), len(times_to_interpolate)))\n",
    "for i, wavelength in enumerate(wavelengths_to_interpolate):\n",
    "  for j, time in enumerate(times_to_interpolate):\n",
    "    S0[i][j] = interpolate_hsiao(time, wavelength, hsiao_phase, hsiao_wave, hsiao_flux)"
   ]
  },
  {
   "cell_type": "code",
   "execution_count": 15,
   "metadata": {
    "colab": {
     "base_uri": "https://localhost:8080/"
    },
    "id": "BXSGedSqKkDv",
    "outputId": "2a60da3b-fb72-4d77-a89b-ccb7217f649c"
   },
   "outputs": [
    {
     "data": {
      "text/plain": [
       "(150,)"
      ]
     },
     "execution_count": 15,
     "metadata": {},
     "output_type": "execute_result"
    }
   ],
   "source": [
    "throughput_interpolator = interp1d(i_wavelengths, i_norm_throughput)\n",
    "b = throughput_interpolator(wavelengths_to_interpolate * (1 + z))\n",
    "\n",
    "xis_obs = extinction.fitzpatrick99(wavelengths_to_interpolate*(1 + z), Av_obs, 3.1)\n",
    "dLambda = wavelengths_to_interpolate[1] - wavelengths_to_interpolate[0]\n",
    "h = (1 + z) * dLambda * b * wavelengths_to_interpolate * np.exp(-gamma * xis_obs)\n",
    "h.shape"
   ]
  },
  {
   "cell_type": "markdown",
   "metadata": {
    "id": "cRfrnIM4KBQ1"
   },
   "source": [
    "Now let's actually make the model\n",
    "---"
   ]
  },
  {
   "cell_type": "code",
   "execution_count": 16,
   "metadata": {
    "id": "fbrCYURCMloV"
   },
   "outputs": [],
   "source": [
    "eps_cov = torch.as_tensor(np.matmul(L_sigma_epsilon, L_sigma_epsilon.T), dtype = torch.float)"
   ]
  },
  {
   "cell_type": "code",
   "execution_count": 17,
   "metadata": {
    "id": "8w6Dy5FwNlpL"
   },
   "outputs": [],
   "source": [
    "def get_flux_from_params(epsilon_interior, theta, mu_s, dMs, Av, W0 = W0, W1 = W1, xis_matrix = xis_matrix, S0 = S0, h = h, Jl = Jl, Jt = Jt):\n",
    "\n",
    "  epsilon = np.zeros_like(W0)   ## populate epsilon matrix\n",
    "  epsilon[1:-1] = epsilon_interior.numpy().reshape((9,6), order = 'F')\n",
    "\n",
    "  W = W0 + theta.numpy()*W1 + epsilon\n",
    "\n",
    "  JlWJt = np.matmul(Jl, np.matmul(W, Jt.T))\n",
    "\n",
    "  Stilde = S0 * np.exp(-gamma * (JlWJt + Av.numpy() * xis_matrix))\n",
    "\n",
    "  f = 10**(0.4 * (ZPT - mu_s.numpy() - M0 - dMs.numpy())) * np.matmul(h,Stilde)\n",
    "\n",
    "  return f"
   ]
  },
  {
   "cell_type": "code",
   "execution_count": 18,
   "metadata": {
    "colab": {
     "base_uri": "https://localhost:8080/"
    },
    "id": "5rlQXHtIV5nd",
    "outputId": "e31b592a-e6c3-4a84-f272-53582485c167"
   },
   "outputs": [
    {
     "data": {
      "text/plain": [
       "0.252"
      ]
     },
     "execution_count": 18,
     "metadata": {},
     "output_type": "execute_result"
    }
   ],
   "source": [
    "tauA"
   ]
  },
  {
   "cell_type": "code",
   "execution_count": 19,
   "metadata": {
    "colab": {
     "base_uri": "https://localhost:8080/"
    },
    "id": "tcwG0GlXV3RO",
    "outputId": "9dede581-fc28-4108-d6a1-399a4e560df5"
   },
   "outputs": [
    {
     "data": {
      "text/plain": [
       "tensor(2.0554)"
      ]
     },
     "execution_count": 19,
     "metadata": {},
     "output_type": "execute_result"
    }
   ],
   "source": [
    "pyro.sample(\"Av\", dist.Exponential(tauA))"
   ]
  },
  {
   "cell_type": "code",
   "execution_count": 20,
   "metadata": {
    "id": "ZJgVfDp0MTaT"
   },
   "outputs": [],
   "source": [
    "# def model_vi():\n",
    "#   epsilon_interior = pyro.sample(\"eps_int\", dist.MultivariateNormal(torch.zeros(len(eps_cov)), covariance_matrix = eps_cov))\n",
    "#   theta = pyro.sample(\"theta\", dist.Normal(torch.tensor(0.), torch.tensor(1.)))\n",
    "#   mu_s = pyro.sample(\"mu_s\", dist.Normal(34.5, 1.)) ## fix this later\n",
    "\n",
    "\n",
    "#   # dMs = pyro.sample(\"Ms\", dist.Normal(torch.tensor(0.), torch.tensor(sigma0)))\n",
    "#   dMs = torch.tensor(0.)\n",
    "#   # Av = pyro.sample(\"Av\", dist.Exponential(tauA))\n",
    "#   Av = pyro.sample(\"Av\", dist.Normal(0.27, 1.))\n",
    "\n",
    "#   epsilon = torch.zeros(W0.shape)   ## populate epsilon matrix\n",
    "#   epsilon[1:-1] = torch.transpose(torch.reshape(epsilon_interior, (6,9)), 0, 1)\n",
    "\n",
    "#   W = torch.as_tensor(W0) + theta*torch.as_tensor(W1) + epsilon\n",
    "\n",
    "#   JlWJt = torch.matmul(torch.as_tensor(Jl), torch.matmul(W, torch.as_tensor(Jt.T)))\n",
    "\n",
    "#   Stilde = torch.as_tensor(S0) * torch.exp(-gamma * (JlWJt + Av * torch.as_tensor(xis_matrix)))\n",
    "\n",
    "#   f = 10**(0.4 * ZPT - mu_s - M0 - dMs) * torch.matmul(torch.as_tensor(h), torch.as_tensor(Stilde))\n",
    "\n",
    "#   with pyro.plate(\"observations\", len(i_flux.values)):\n",
    "#     pyro.sample(\"flux\", dist.Normal(f, 200. * torch.ones(6)).independent(1), obs = torch.as_tensor(i_flux.values))"
   ]
  },
  {
   "cell_type": "code",
   "execution_count": 21,
   "metadata": {
    "colab": {
     "base_uri": "https://localhost:8080/"
    },
    "id": "3KoXeAVVJkVh",
    "outputId": "ec4a69d0-f99c-4f0e-b994-d464f5ee0458"
   },
   "outputs": [
    {
     "data": {
      "text/plain": [
       "0.31000000000000005"
      ]
     },
     "execution_count": 21,
     "metadata": {},
     "output_type": "execute_result"
    }
   ],
   "source": [
    "Av_obs"
   ]
  },
  {
   "cell_type": "code",
   "execution_count": 22,
   "metadata": {
    "id": "6MBF0bhAQkrV"
   },
   "outputs": [],
   "source": [
    "# times_to_interpolate = times\n",
    "Jt = spline_coeffs_irr(times_to_interpolate, time_knots, invKD_irr(time_knots))\n",
    "\n",
    "wavelengths_dict = {'g':g_wavelengths, 'r':r_wavelengths, 'i':i_wavelengths, 'z':z_wavelengths}\n",
    "norm_throughput_dict = {'g':g_norm_throughput, 'r':r_norm_throughput, 'i':i_norm_throughput, 'z':z_norm_throughput}\n",
    "\n",
    "bands = ['g', 'r', 'i', 'z']\n",
    "\n",
    "band_Jl = {}\n",
    "band_xis_matrix = {}\n",
    "band_S0 = {}\n",
    "band_h = {}\n",
    "\n",
    "for band in bands:\n",
    "  band_wavelengths = wavelengths_dict[band]\n",
    "  band_norm_throughput = norm_throughput_dict[band]\n",
    "\n",
    "  wavelengths_to_interpolate = get_lambda_int_for_band(band_wavelengths)\n",
    "  \n",
    "  Jl = spline_coeffs_irr(wavelengths_to_interpolate, wavelength_knots, invKD_irr(wavelength_knots))\n",
    "  band_Jl[band] = Jl\n",
    "  xis = extinction.fitzpatrick99(wavelengths_to_interpolate, 1, rv)\n",
    "  xis_matrix = np.tile(xis, (len(times_to_interpolate),1)).T\n",
    "  band_xis_matrix[band] = xis_matrix\n",
    "\n",
    "  S0 = np.zeros((len(wavelengths_to_interpolate), len(times_to_interpolate)))\n",
    "  for i, wavelength in enumerate(wavelengths_to_interpolate):\n",
    "    for j, time_point in enumerate(times_to_interpolate):\n",
    "      S0[i][j] = interpolate_hsiao(time_point, wavelength, hsiao_phase, hsiao_wave, hsiao_flux)\n",
    "\n",
    "  band_S0[band] = S0\n",
    "\n",
    "  throughput_interpolator = interp1d(band_wavelengths, band_norm_throughput)\n",
    "  b = throughput_interpolator([band_wavelengths[0]] + list(wavelengths_to_interpolate[1:-1] * (1 + z)) + [band_wavelengths[-1]])\n",
    "\n",
    "  xis_obs = extinction.fitzpatrick99(wavelengths_to_interpolate*(1 + z), Av_obs, 3.1)\n",
    "  dLambda = wavelengths_to_interpolate[1] - wavelengths_to_interpolate[0]\n",
    "  h = (1 + z) * dLambda * b * wavelengths_to_interpolate * np.exp(-gamma * xis_obs)\n",
    "\n",
    "  band_h[band] = h\n",
    "\n",
    "#   band_flux = get_flux_from_params(torch.as_tensor(true_epsilon_interior), torch.as_tensor(true_theta), \n",
    "#                               torch.as_tensor(true_mu_s), torch.as_tensor(dMs), torch.as_tensor(true_Av),\n",
    "#                               xis_matrix = xis_matrix, S0 = S0, h = h, Jt = Jt, Jl = Jl)\n",
    "  \n",
    "#   all_band_fluxes.append(band_flux)\n",
    "\n",
    "# all_band_fluxes = np.array(all_band_fluxes)"
   ]
  },
  {
   "cell_type": "code",
   "execution_count": 23,
   "metadata": {
    "id": "f4PUOZD-OX_K"
   },
   "outputs": [],
   "source": [
    "def model_vi(obs):\n",
    "  # epsilon_interior = pyro.sample(\"eps_int\", dist.MultivariateNormal(torch.zeros(len(eps_cov)), covariance_matrix = eps_cov))\n",
    "\n",
    "  nu = pyro.sample(\"nu\", dist.MultivariateNormal(torch.zeros(len(eps_cov)), covariance_matrix = torch.eye(len(eps_cov))))\n",
    "  # nu = torch.zeros(54)\n",
    "  epsilon_interior = torch.matmul(torch.as_tensor(L_sigma_epsilon, dtype = torch.float), nu)\n",
    "  # print(epsilon_interior)\n",
    "\n",
    "  # theta = pyro.sample(\"theta\", dist.Uniform(low=-1.49, high=2.77))\n",
    "  theta = pyro.sample(\"theta\", dist.Normal(0., 1.0))\n",
    "  # theta = torch.as_tensor(0.03430605)\n",
    "\n",
    "  # theta = torch.as_tensor(-0.9835187)\n",
    "  cosmo = FlatLambdaCDM(H0 = 73.24, Om0 = 0.28)\n",
    "  mu_s = pyro.sample(\"mu_s\", dist.Normal(cosmo.distmod(z_helio).value, 10.)) ## fix this later\n",
    "  # mu_s = torch.as_tensor(37.248927127193724)\n",
    "\n",
    "  # dMs = pyro.sample(\"Ms\", dist.Normal(torch.tensor(0.), torch.tensor(sigma0)))\n",
    "  dMs = torch.tensor(0.)\n",
    "  Av = pyro.sample(\"Av\", dist.Exponential(1 / 0.252))\n",
    "  # Av = torch.tensor(7.2387767)\n",
    "  # Av = pyro.sample(\"Av\", dist.Normal(0.27, 1.))\n",
    "\n",
    "  epsilon = torch.zeros(W0.shape)   ## populate epsilon matrix\n",
    "  epsilon[1:-1] = torch.transpose(torch.reshape(epsilon_interior, (6,9)), 0, 1)\n",
    "\n",
    "  W = torch.as_tensor(W0) + theta*torch.as_tensor(W1) + epsilon\n",
    "\n",
    "  generated_fluxes = []\n",
    "\n",
    "  for band in bands:\n",
    "    Jl = band_Jl[band]\n",
    "    S0 = band_S0[band]\n",
    "    xis_matrix = band_xis_matrix[band]\n",
    "    h = band_h[band]\n",
    "\n",
    "    JlWJt = torch.matmul(torch.as_tensor(Jl), torch.matmul(W, torch.as_tensor(Jt.T)))\n",
    "\n",
    "    Stilde = torch.as_tensor(S0) * torch.exp(-gamma * (JlWJt + Av * torch.as_tensor(xis_matrix)))\n",
    "\n",
    "    f = 10**(0.4 * (torch.as_tensor(ZPT) - mu_s - torch.as_tensor(M0) - dMs)) * torch.matmul(torch.as_tensor(h), torch.as_tensor(Stilde))\n",
    "    generated_fluxes.append(f)\n",
    "\n",
    "  generated_fluxes = torch.stack(generated_fluxes)\n",
    "  # print(generated_fluxes)\n",
    "\n",
    "  with pyro.plate(\"bands\"):\n",
    "    with pyro.plate(\"observations\"):\n",
    "      pyro.sample(\"flux\", dist.Normal(generated_fluxes, 0.02 * generated_fluxes), obs = obs)"
   ]
  },
  {
   "cell_type": "code",
   "execution_count": 24,
   "metadata": {
    "id": "WV_e5O4VQ2IW"
   },
   "outputs": [],
   "source": [
    "observed_fluxes = torch.stack((torch.as_tensor(g_flux.values), torch.as_tensor(r_flux.values), torch.as_tensor(i_flux.values), torch.as_tensor(z_flux.values)))"
   ]
  },
  {
   "cell_type": "code",
   "execution_count": 25,
   "metadata": {
    "colab": {
     "base_uri": "https://localhost:8080/"
    },
    "id": "zh4ad-f4ZDCD",
    "outputId": "6c69e939-22bc-4f49-9924-7abe453085d6"
   },
   "outputs": [
    {
     "data": {
      "text/plain": [
       "tensor([[37214.8320, 41744.5560, 28919.3070, 16594.6940,  5925.2510,  4677.9380],\n",
       "        [37692.5560, 49035.7990, 32039.7580, 23530.7970, 17534.8310, 12236.5950],\n",
       "        [26961.9860, 26856.4070, 16242.4290, 14363.3320, 17213.7040, 11524.0100],\n",
       "        [27262.1680, 26132.5180, 19475.8830, 18520.2020, 17852.0100, 12386.0600]],\n",
       "       dtype=torch.float64)"
      ]
     },
     "execution_count": 25,
     "metadata": {},
     "output_type": "execute_result"
    }
   ],
   "source": [
    "observed_fluxes"
   ]
  },
  {
   "cell_type": "code",
   "execution_count": 26,
   "metadata": {
    "id": "cyrUxpO0ZM8i"
   },
   "outputs": [],
   "source": [
    "other_tensor = torch.as_tensor(np.array([[52404.7879, 58130.4852, 46895.5337, 29594.8725, 17534.0982, 11053.1069],\n",
    "        [48598.4592, 57606.4501, 51917.4832, 38853.5554, 30378.8843, 24328.2872],\n",
    "        [40029.6385, 34592.7530, 29652.9017, 23438.5865, 22959.2071, 21189.7540],\n",
    "        [30952.7222, 34969.4993, 35130.8207, 31905.8129, 28952.3929, 26269.5857]]))"
   ]
  },
  {
   "cell_type": "code",
   "execution_count": 27,
   "metadata": {
    "id": "S2qPe0hjTVFZ"
   },
   "outputs": [],
   "source": [
    "model_vi(obs = observed_fluxes)"
   ]
  },
  {
   "cell_type": "code",
   "execution_count": 32,
   "metadata": {
    "colab": {
     "base_uri": "https://localhost:8080/",
     "height": 333
    },
    "id": "D5Hg_GDINHxQ",
    "outputId": "2fe7cced-a06e-4671-bf0c-829490679912"
   },
   "outputs": [
    {
     "ename": "TypeError",
     "evalue": "render_model() got an unexpected keyword argument 'render_params'",
     "output_type": "error",
     "traceback": [
      "\u001b[0;31m---------------------------------------------------------------------------\u001b[0m",
      "\u001b[0;31mTypeError\u001b[0m                                 Traceback (most recent call last)",
      "\u001b[0;32m<ipython-input-32-b1407fee2d34>\u001b[0m in \u001b[0;36m<module>\u001b[0;34m\u001b[0m\n\u001b[0;32m----> 1\u001b[0;31m \u001b[0mpyro\u001b[0m\u001b[0;34m.\u001b[0m\u001b[0mrender_model\u001b[0m\u001b[0;34m(\u001b[0m\u001b[0mmodel_vi\u001b[0m\u001b[0;34m,\u001b[0m \u001b[0mmodel_args\u001b[0m \u001b[0;34m=\u001b[0m \u001b[0;34m(\u001b[0m\u001b[0mobserved_fluxes\u001b[0m\u001b[0;34m,\u001b[0m\u001b[0;34m)\u001b[0m\u001b[0;34m,\u001b[0m \u001b[0mrender_distributions\u001b[0m\u001b[0;34m=\u001b[0m\u001b[0;32mTrue\u001b[0m\u001b[0;34m,\u001b[0m \u001b[0mrender_params\u001b[0m \u001b[0;34m=\u001b[0m \u001b[0;32mTrue\u001b[0m\u001b[0;34m)\u001b[0m\u001b[0;34m\u001b[0m\u001b[0;34m\u001b[0m\u001b[0m\n\u001b[0m",
      "\u001b[0;31mTypeError\u001b[0m: render_model() got an unexpected keyword argument 'render_params'"
     ]
    }
   ],
   "source": [
    "pyro.render_model(model_vi, model_args = (observed_fluxes,), render_distributions=True, render_params = True)"
   ]
  },
  {
   "cell_type": "code",
   "execution_count": 33,
   "metadata": {
    "id": "Paf6nwlaQWU_"
   },
   "outputs": [],
   "source": [
    "autoguide_vi = pyro.infer.autoguide.AutoMultivariateNormal(model_vi, init_loc_fn = pyro.infer.autoguide.initialization.init_to_median(), init_scale = 0.8)"
   ]
  },
  {
   "cell_type": "code",
   "execution_count": 34,
   "metadata": {
    "id": "3NK3RzAYbJ88"
   },
   "outputs": [],
   "source": [
    "pyro.get_param_store().clear()\n",
    "adam = pyro.optim.Adam({\"lr\": 0.001, \"betas\": (0.90, 0.999)}, {\"clip_norm\": 10.0})\n",
    "# adam = pyro.optim.SGD({\"lr\": 0.1})\n",
    "\n",
    "\n",
    "svi = SVI(model_vi, autoguide_vi, adam, loss=Trace_ELBO().differentiable_loss)\n",
    "# svi = SVI(model_vi, custom_guide, adam, loss=Trace_ELBO().differentiable_loss)\n",
    "\n",
    "for i in range(10):\n",
    "  svi.step(observed_fluxes)"
   ]
  },
  {
   "cell_type": "code",
   "execution_count": 35,
   "metadata": {
    "id": "JABvOkWTa68Q"
   },
   "outputs": [],
   "source": [
    "def train(model, guide, lr=0.01, n_steps=5000, verbose = True):\n",
    "    pyro.get_param_store().clear()\n",
    "    adam_params = {\"lr\": lr, \"betas\": (0.95, 0.999)}\n",
    "    # adam = pyro.optim.Adam({\"lr\": 0.05}, {\"clip_norm\": 10.0})\n",
    "    adam = pyro.optim.ClippedAdam(adam_params)\n",
    "    svi = SVI(model, guide, adam, loss=Trace_ELBO())\n",
    "    losses = []\n",
    "    losses_every_500 = []\n",
    "\n",
    "    for step in range(n_steps):\n",
    "        loss = svi.step(observed_fluxes)\n",
    "        losses.append(loss)\n",
    "        if verbose and step % 500 == 0:\n",
    "            print('[iter {}]  loss: {:.4f}'.format(step, loss))\n",
    "            losses_every_500.append(loss)\n",
    "            ## if it hasn't decreased in 3 steps, end fitting\n",
    "            # if step > 2000:\n",
    "            #  if losses_every_500[-1] >= losses_every_500[-2] and losses_every_500[-2] >= losses_every_500[-3]:\n",
    "            #   break\n",
    "    return losses"
   ]
  },
  {
   "cell_type": "code",
   "execution_count": 36,
   "metadata": {
    "colab": {
     "base_uri": "https://localhost:8080/"
    },
    "id": "XpUjDOukUqdV",
    "outputId": "f58e0e1f-6265-4bbe-807c-cd7a4a88f25f"
   },
   "outputs": [
    {
     "name": "stdout",
     "output_type": "stream",
     "text": [
      "[iter 0]  loss: 29416.6242\n",
      "[iter 500]  loss: 7962.8939\n",
      "[iter 1000]  loss: 3640.8935\n",
      "[iter 1500]  loss: 721.6332\n",
      "[iter 2000]  loss: 522.9279\n",
      "[iter 2500]  loss: 1196.4763\n",
      "[iter 3000]  loss: 323.2307\n",
      "[iter 3500]  loss: 328.7253\n",
      "[iter 4000]  loss: 270.8923\n",
      "[iter 4500]  loss: 246.7455\n",
      "[iter 5000]  loss: 224.3594\n",
      "[iter 5500]  loss: 224.4021\n",
      "[iter 6000]  loss: 220.1658\n",
      "[iter 6500]  loss: 216.2565\n",
      "[iter 7000]  loss: 215.6469\n",
      "[iter 7500]  loss: 214.1728\n",
      "[iter 8000]  loss: 210.5454\n",
      "[iter 8500]  loss: 211.7627\n",
      "[iter 9000]  loss: 215.4559\n",
      "[iter 9500]  loss: 213.1411\n",
      "[iter 10000]  loss: 210.7845\n",
      "[iter 10500]  loss: 209.9382\n",
      "[iter 11000]  loss: 209.0015\n",
      "[iter 11500]  loss: 215.7340\n",
      "[iter 12000]  loss: 214.5571\n",
      "[iter 12500]  loss: 221.3856\n",
      "[iter 13000]  loss: 211.0769\n",
      "[iter 13500]  loss: 213.1132\n",
      "[iter 14000]  loss: 214.3243\n",
      "[iter 14500]  loss: 211.2350\n",
      "[iter 15000]  loss: 218.9985\n",
      "[iter 15500]  loss: 208.0030\n",
      "[iter 16000]  loss: 210.0577\n",
      "[iter 16500]  loss: 209.9038\n",
      "[iter 17000]  loss: 216.4044\n",
      "[iter 17500]  loss: 209.0787\n",
      "[iter 18000]  loss: 220.2802\n",
      "[iter 18500]  loss: 219.3814\n",
      "[iter 19000]  loss: 209.2687\n",
      "[iter 19500]  loss: 213.5377\n",
      "Time: 162.75317883491516 seconds\n"
     ]
    }
   ],
   "source": [
    "start_time = measure_time.time()\n",
    "losses = train(model_vi, autoguide_vi, lr = 0.005, n_steps = 20000)\n",
    "end_time = measure_time.time()\n",
    "print(\"Time:\", end_time - start_time, \"seconds\")"
   ]
  },
  {
   "cell_type": "code",
   "execution_count": null,
   "metadata": {
    "colab": {
     "base_uri": "https://localhost:8080/",
     "height": 294
    },
    "id": "DJOUXytNUr2E",
    "outputId": "534e2c55-996a-40b2-9a1f-0a98b71fc813"
   },
   "outputs": [],
   "source": [
    "plt.plot(losses)"
   ]
  },
  {
   "cell_type": "code",
   "execution_count": null,
   "metadata": {
    "colab": {
     "base_uri": "https://localhost:8080/"
    },
    "id": "kURN_Tgoki_1",
    "outputId": "a3892330-e1f6-4ef3-e12e-69989cd8d4c4"
   },
   "outputs": [],
   "source": [
    "autoguide_vi.median()['theta']"
   ]
  },
  {
   "cell_type": "code",
   "execution_count": null,
   "metadata": {
    "colab": {
     "base_uri": "https://localhost:8080/"
    },
    "id": "z2ZYBBM4uyfA",
    "outputId": "641fc4da-3fe0-413e-9f0b-e92076fefba7"
   },
   "outputs": [],
   "source": [
    "autoguide_vi.median()['Av']"
   ]
  },
  {
   "cell_type": "code",
   "execution_count": null,
   "metadata": {
    "colab": {
     "base_uri": "https://localhost:8080/"
    },
    "id": "aAaKb6Pdu0fJ",
    "outputId": "4d36becb-a0cd-4faa-b26a-a9365adc1344"
   },
   "outputs": [],
   "source": [
    "autoguide_vi.median()['mu_s']"
   ]
  },
  {
   "cell_type": "code",
   "execution_count": null,
   "metadata": {
    "colab": {
     "base_uri": "https://localhost:8080/"
    },
    "id": "1faaFD1nu3OK",
    "outputId": "91bb432b-d667-4b35-f302-997d08fbffe1"
   },
   "outputs": [],
   "source": [
    "autoguide_vi.median()['nu']"
   ]
  },
  {
   "cell_type": "code",
   "execution_count": null,
   "metadata": {
    "colab": {
     "base_uri": "https://localhost:8080/"
    },
    "id": "tlrGC8fimuEF",
    "outputId": "b6e7b31a-c604-422f-a556-8abf40ff7ce1"
   },
   "outputs": [],
   "source": [
    "autoguide_laplace = pyro.infer.autoguide.AutoLaplaceApproximation(model_vi)\n",
    "start_time = measure_time.time()\n",
    "losses = train(model_vi, autoguide_laplace, n_steps = 10000)\n",
    "end_time = measure_time.time()\n",
    "print(\"Time:\", end_time - start_time, \"seconds\")"
   ]
  },
  {
   "cell_type": "code",
   "execution_count": null,
   "metadata": {
    "colab": {
     "base_uri": "https://localhost:8080/"
    },
    "id": "EyxOD6YAn5CK",
    "outputId": "ba4226aa-d227-42f5-a8d9-582c504fa14d"
   },
   "outputs": [],
   "source": [
    "new_laplace_approx_guide = autoguide_laplace.laplace_approximation(observed_fluxes)\n",
    "losses = train(model_vi, new_laplace_approx_guide, n_steps = 10000)"
   ]
  },
  {
   "cell_type": "code",
   "execution_count": null,
   "metadata": {
    "colab": {
     "base_uri": "https://localhost:8080/"
    },
    "id": "Q9yoRw50SEGC",
    "outputId": "e09b2e71-41c7-4ed0-aab9-d8df01a91202"
   },
   "outputs": [],
   "source": [
    "posterior_samples = Predictive(model_vi, guide = autoguide_vi, num_samples = 100)(None,)\n",
    "posterior_samples['Av'][:,0,0].shape"
   ]
  },
  {
   "cell_type": "code",
   "execution_count": null,
   "metadata": {
    "id": "KvRPHWs3bpgS"
   },
   "outputs": [],
   "source": [
    "def calculate_all_fluxes_from_params(nu, theta, mu_s, dMs, Av):\n",
    "  times_to_interpolate = np.linspace(-10, 40)\n",
    "  Jt = spline_coeffs_irr(times_to_interpolate, time_knots, invKD_irr(time_knots))\n",
    "\n",
    "  epsilon_interior = np.matmul(L_sigma_epsilon, nu.numpy().T)\n",
    "\n",
    "  epsilon = np.zeros_like(W0)   ## populate epsilon matrix\n",
    "  epsilon[1:-1] = epsilon_interior.reshape((9,6), order = 'F')\n",
    "\n",
    "  W = W0 + theta.numpy()*W1 + epsilon\n",
    "\n",
    "  generated_fluxes_from_params = []\n",
    "\n",
    "  for band in bands:\n",
    "    band_wavelengths = wavelengths_dict[band]\n",
    "    band_norm_throughput = norm_throughput_dict[band]\n",
    "\n",
    "    Jl = band_Jl[band]\n",
    "    # xis_matrix = band_xis_matrix[band]\n",
    "    # h = band_h[band]\n",
    "\n",
    "    wavelengths_to_interpolate = get_lambda_int_for_band(band_wavelengths)\n",
    "    \n",
    "    # Jl = spline_coeffs_irr(wavelengths_to_interpolate, wavelength_knots, invKD_irr(wavelength_knots))\n",
    "    xis = extinction.fitzpatrick99(wavelengths_to_interpolate, 1, rv)\n",
    "    xis_matrix = np.tile(xis, (len(times_to_interpolate),1)).T\n",
    "\n",
    "    S0 = np.zeros((len(wavelengths_to_interpolate), len(times_to_interpolate)))\n",
    "    for i, wavelength in enumerate(wavelengths_to_interpolate):\n",
    "      for j, time in enumerate(times_to_interpolate):\n",
    "        S0[i][j] = interpolate_hsiao(time, wavelength, hsiao_phase, hsiao_wave, hsiao_flux)\n",
    "\n",
    "    throughput_interpolator = interp1d(band_wavelengths, band_norm_throughput)\n",
    "    b = throughput_interpolator([band_wavelengths[0]] + list(wavelengths_to_interpolate[1:-1] * (1 + z)) + [band_wavelengths[-1]])\n",
    "\n",
    "    xis_obs = extinction.fitzpatrick99(wavelengths_to_interpolate*(1 + z), Av_obs, 3.1)\n",
    "    dLambda = wavelengths_to_interpolate[1] - wavelengths_to_interpolate[0]\n",
    "    h = (1 + z) * dLambda * b * wavelengths_to_interpolate * np.exp(-gamma * xis_obs)\n",
    "\n",
    "    band_flux = get_flux_from_params(torch.as_tensor(epsilon_interior), torch.as_tensor(theta), \n",
    "                                torch.as_tensor(mu_s), torch.as_tensor(dMs), torch.as_tensor(Av),\n",
    "                                xis_matrix = xis_matrix, S0 = S0, h = h, Jt = Jt, Jl = Jl)\n",
    "    \n",
    "    generated_fluxes_from_params.append(band_flux)\n",
    "  \n",
    "  return np.array(generated_fluxes_from_params)"
   ]
  },
  {
   "cell_type": "code",
   "execution_count": null,
   "metadata": {
    "id": "0wXqiatubaC7"
   },
   "outputs": [],
   "source": [
    "posterior_smooth_curves = []\n",
    "for nu, theta, mu_s, Av in zip(posterior_samples['nu'][:,0,0], posterior_samples['theta'][:,0,0], posterior_samples['mu_s'][:,0,0], posterior_samples['Av'][:,0,0]):\n",
    "  # print(nu, theta, mu_s, Av)\n",
    "  posterior_smooth_curves.append(calculate_all_fluxes_from_params(nu, theta, mu_s, torch.as_tensor(0.), Av))"
   ]
  },
  {
   "cell_type": "code",
   "execution_count": null,
   "metadata": {
    "id": "NXX8fk1IbkOU"
   },
   "outputs": [],
   "source": [
    "posterior_smooth_curves = np.array(posterior_smooth_curves)\n",
    "median_posterior_fit = np.median(posterior_smooth_curves, axis = 0)\n",
    "upper_posterior_fit = np.percentile(posterior_smooth_curves, 50 + 34.1, axis = 0)\n",
    "lower_posterior_fit = np.percentile(posterior_smooth_curves, 50 - 34.1, axis = 0)"
   ]
  },
  {
   "cell_type": "code",
   "execution_count": null,
   "metadata": {
    "colab": {
     "base_uri": "https://localhost:8080/",
     "height": 299
    },
    "id": "jvYXQoc3cVuC",
    "outputId": "df43d4f6-42c0-4765-d168-e464581aac6c"
   },
   "outputs": [],
   "source": [
    "colors  = ['g', 'r', 'c', 'k']\n",
    "# offset = np.array([0, 1000,2000,3000]) * 30\n",
    "offset = np.zeros(4)\n",
    "for i, band_flux in enumerate(median_posterior_fit):\n",
    "    plt.plot(np.linspace(-10, 40), band_flux + offset[i], color = colors[i])\n",
    "    plt.fill_between(np.linspace(-10, 40), upper_posterior_fit[i]+ offset[i], lower_posterior_fit[i]+ offset[i], color = colors[i], alpha = 0.2)\n",
    "for i, band_flux in enumerate(observed_fluxes.numpy()):\n",
    "  plt.plot(times_to_interpolate, band_flux + offset[i], 'o',color = colors[i], label = bands[i])\n",
    "plt.legend()\n",
    "plt.title(\"Posterior samples from VI\")"
   ]
  },
  {
   "cell_type": "code",
   "execution_count": null,
   "metadata": {
    "id": "tEVBSDT_dHYo"
   },
   "outputs": [],
   "source": [
    "num_corner_samples = 1000\n",
    "vi_corner_samples = Predictive(model_vi, guide = autoguide_vi, num_samples = num_corner_samples)(None,)"
   ]
  },
  {
   "cell_type": "code",
   "execution_count": null,
   "metadata": {
    "id": "_7zDtKOwoMIg"
   },
   "outputs": [],
   "source": [
    "vi_trained_laplace_samples = Predictive(model_vi, guide = new_laplace_approx_guide, num_samples = num_corner_samples)(None,)"
   ]
  },
  {
   "cell_type": "code",
   "execution_count": null,
   "metadata": {
    "id": "Hn60rj0Co1Nx"
   },
   "outputs": [],
   "source": [
    "laplace_samples = Predictive(model_vi, guide = autoguide_laplace.laplace_approximation(observed_fluxes), num_samples = num_corner_samples)(None,)"
   ]
  },
  {
   "cell_type": "code",
   "execution_count": null,
   "metadata": {
    "id": "6VNOrRrLhavO"
   },
   "outputs": [],
   "source": [
    "other_fit = np.load(\"ASASSN-16cs_chains_210610_135216.npy\", allow_pickle = True).item()"
   ]
  },
  {
   "cell_type": "code",
   "execution_count": null,
   "metadata": {
    "colab": {
     "base_uri": "https://localhost:8080/"
    },
    "id": "4sNAkk7rnKlJ",
    "outputId": "49144f56-fe1d-402f-c698-34f049a07aee"
   },
   "outputs": [],
   "source": [
    "other_fit.keys()"
   ]
  },
  {
   "cell_type": "code",
   "execution_count": null,
   "metadata": {
    "colab": {
     "base_uri": "https://localhost:8080/"
    },
    "id": "NbOlA2eiiMN_",
    "outputId": "1c82bfdf-b0ec-4c27-abd6-175e9e548eb6"
   },
   "outputs": [],
   "source": [
    "len(other_fit['mu'])"
   ]
  },
  {
   "cell_type": "code",
   "execution_count": null,
   "metadata": {
    "colab": {
     "base_uri": "https://localhost:8080/",
     "height": 552
    },
    "id": "cau5KorneFYo",
    "outputId": "f52dceaa-cc76-45a0-dcc2-2c1d2b203437"
   },
   "outputs": [],
   "source": [
    "figure = corner.corner(np.vstack((vi_corner_samples['mu_s'][:,0,0].numpy(),vi_corner_samples['theta'][:,0,0].numpy(), \n",
    "                                  vi_corner_samples['Av'][:,0,0].numpy())).T, \n",
    "                       labels = [r\"$\\mu_s$\", r\"$\\theta$\", r\"$A_v$\"])\n",
    "corner.corner(np.vstack((vi_trained_laplace_samples['mu_s'][:,0,0].numpy(),vi_trained_laplace_samples['theta'][:,0,0].numpy(), \n",
    "                                  vi_trained_laplace_samples['Av'][:,0,0].numpy())).T, \n",
    "                       labels = [r\"$\\mu_s$\", r\"$\\theta$\", r\"$A_v$\"], fig = figure, color = 'c')\n",
    "# corner.corner(np.vstack((laplace_samples['mu_s'][:,0,0].numpy(),laplace_samples['theta'][:,0,0].numpy(), \n",
    "#                                   laplace_samples['Av'][:,0,0].numpy())).T, \n",
    "#                        labels = [r\"$\\mu_s$\", r\"$\\theta$\", r\"$A_v$\"], fig = figure, color = 'b')\n",
    "corner.corner(np.vstack((other_fit['mu'] + other_fit['delM'],other_fit['theta'], other_fit['AV'])).T, \n",
    "                       labels = [r\"$\\mu_s$\", r\"$\\theta$\", r\"$A_v$\"], fig = figure, color = 'r')\n",
    "colors = ['k','c', 'r']\n",
    "\n",
    "labels = ['VI', 'VI init from Laplace approx', 'MCMC']\n",
    "\n",
    "plt.legend(\n",
    "    handles=[\n",
    "        mlines.Line2D([], [], color=colors[i], label=labels[i])\n",
    "        for i in range(len(labels))\n",
    "    ],\n",
    "    fontsize=16, frameon=False,\n",
    "    bbox_to_anchor=(1, 3), loc=\"upper right\"\n",
    ")\n",
    "figure.suptitle(\"Parameter distributions for ASASSN-16CS dataset\", fontsize = 20)\n",
    "plt.show()"
   ]
  },
  {
   "cell_type": "code",
   "execution_count": null,
   "metadata": {
    "id": "KZnOMIENeR9J"
   },
   "outputs": [],
   "source": [
    "def model_mcmc(obs = observed_fluxes):\n",
    "  # epsilon_interior = pyro.sample(\"eps_int\", dist.MultivariateNormal(torch.zeros(len(eps_cov)), covariance_matrix = eps_cov))\n",
    "\n",
    "  nu = pyro.sample(\"nu\", dist.MultivariateNormal(torch.zeros(len(eps_cov)), covariance_matrix = torch.eye(len(eps_cov))))\n",
    "  # nu = torch.zeros(54)\n",
    "  nu = torch.as_tensor(nu, dtype = torch.double)\n",
    "  # print(nu.type())\n",
    "  epsilon_interior = torch.matmul(torch.as_tensor(L_sigma_epsilon, dtype = torch.double), nu)\n",
    "  # print(epsilon_interior)\n",
    "\n",
    "  # theta = pyro.sample(\"theta\", dist.Uniform(low=-1.49, high=2.77))\n",
    "  theta = pyro.sample(\"theta\", dist.Normal(0., 1.0))\n",
    "  # theta = torch.as_tensor(0.03430605)\n",
    "\n",
    "  # theta = torch.as_tensor(-0.9835187)\n",
    "  # mu_s = pyro.sample(\"mu_s\", dist.Normal(34.5, 1.)) ## fix this later\n",
    "  cosmo = FlatLambdaCDM(H0 = 73.24, Om0 = 0.28)\n",
    "  mu_s = pyro.sample(\"mu_s\", dist.Normal(cosmo.distmod(z_helio).value, 10.)) ## fix this later\n",
    "  # mu_s = pyro.sample(\"mu_s\", dist.Uniform(0., 999999999)) ## fix this later\n",
    "\n",
    "  # mu_s = torch.as_tensor(37.248927127193724)\n",
    "\n",
    "  # dMs = pyro.sample(\"Ms\", dist.Normal(torch.tensor(0.), torch.tensor(sigma0)))\n",
    "  dMs = torch.tensor(0.)\n",
    "  Av = pyro.sample(\"Av\", dist.Exponential(1 / 0.252))\n",
    "  # Av = torch.tensor(7.2387767)\n",
    "  # Av = pyro.sample(\"Av\", dist.Normal(0.27, 1.))\n",
    "\n",
    "  epsilon = torch.zeros(W0.shape)   ## populate epsilon matrix\n",
    "  epsilon[1:-1] = torch.transpose(torch.reshape(epsilon_interior, (6,9)), 0, 1)\n",
    "\n",
    "  W = torch.as_tensor(W0) + theta*torch.as_tensor(W1) + epsilon\n",
    "\n",
    "  generated_fluxes = []\n",
    "\n",
    "  for band in bands:\n",
    "    Jl = band_Jl[band]\n",
    "    S0 = band_S0[band]\n",
    "    xis_matrix = band_xis_matrix[band]\n",
    "    h = band_h[band]\n",
    "\n",
    "    JlWJt = torch.matmul(torch.as_tensor(Jl), torch.matmul(W, torch.as_tensor(Jt.T)))\n",
    "\n",
    "    Stilde = torch.as_tensor(S0) * torch.exp(-gamma * (JlWJt + Av * torch.as_tensor(xis_matrix)))\n",
    "\n",
    "    f = 10**(0.4 * (torch.as_tensor(ZPT) - mu_s - torch.as_tensor(M0) - dMs)) * torch.matmul(torch.as_tensor(h), torch.as_tensor(Stilde))\n",
    "    generated_fluxes.append(f)\n",
    "\n",
    "  generated_fluxes = torch.stack(generated_fluxes)\n",
    "  # print(generated_fluxes)\n",
    "\n",
    "  with pyro.plate(\"bands\"):\n",
    "    with pyro.plate(\"observations\"):\n",
    "      pyro.sample(\"flux\", dist.Normal(generated_fluxes, 0.02 * generated_fluxes), obs = obs)"
   ]
  },
  {
   "cell_type": "code",
   "execution_count": null,
   "metadata": {
    "colab": {
     "base_uri": "https://localhost:8080/"
    },
    "id": "drBBoyLpfkeC",
    "outputId": "18446207-38f0-49b6-969f-8a59cae0c4d2"
   },
   "outputs": [],
   "source": [
    "num_chains = 4\n",
    "nuts_kernel = pyro.infer.NUTS(model_mcmc, adapt_step_size=True)\n",
    "\n",
    "mcmc = pyro.infer.MCMC(nuts_kernel, num_samples=600, warmup_steps=250, num_chains = num_chains, disable_progbar = True)\n",
    "\n",
    "start_time = measure_time.time()\n",
    "mcmc.run(observed_fluxes)\n",
    "end_time = measure_time.time()\n",
    "print(\"Total:\", end_time - start_time, \"seconds\")"
   ]
  },
  {
   "cell_type": "code",
   "execution_count": null,
   "metadata": {
    "id": "f3sAZtYt--gX"
   },
   "outputs": [],
   "source": [
    "mcmc_corner_samples = mcmc.get_samples(num_samples = num_corner_samples)"
   ]
  },
  {
   "cell_type": "code",
   "execution_count": null,
   "metadata": {
    "colab": {
     "base_uri": "https://localhost:8080/",
     "height": 552
    },
    "id": "PkSEiFbWGUZe",
    "outputId": "f7f25b53-7a91-4b62-bcc8-0a2750a7b531"
   },
   "outputs": [],
   "source": [
    "# figure = corner.corner(np.vstack((vi_corner_samples['mu_s'][:,0,0].numpy(),vi_corner_samples['theta'][:,0,0].numpy(), \n",
    "#                                   vi_corner_samples['Av'][:,0,0].numpy())).T, \n",
    "#                        labels = [r\"$\\mu_s$\", r\"$\\theta$\", r\"$A_v$\"])\n",
    "# corner.corner(np.vstack((vi_trained_laplace_samples['mu_s'][:,0,0].numpy(),vi_trained_laplace_samples['theta'][:,0,0].numpy(), \n",
    "#                                   vi_trained_laplace_samples['Av'][:,0,0].numpy())).T, \n",
    "#                        labels = [r\"$\\mu_s$\", r\"$\\theta$\", r\"$A_v$\"], fig = figure, color = 'c')\n",
    "figure = corner.corner(np.vstack((mcmc_corner_samples['mu_s'],mcmc_corner_samples['theta'],mcmc_corner_samples['Av'])).T, \n",
    "                       labels = [r\"$\\mu_s$\", r\"$\\theta$\", r\"$A_v$\"], color ='b')\n",
    "# corner.corner(np.vstack((laplace_samples['mu_s'][:,0,0].numpy(),laplace_samples['theta'][:,0,0].numpy(), \n",
    "#                                   laplace_samples['Av'][:,0,0].numpy())).T, \n",
    "#                        labels = [r\"$\\mu_s$\", r\"$\\theta$\", r\"$A_v$\"], fig = figure, color = 'b')\n",
    "corner.corner(np.vstack((other_fit['mu'] + other_fit['delM'],other_fit['theta'], other_fit['AV'])).T, \n",
    "                       labels = [r\"$\\mu_s$\", r\"$\\theta$\", r\"$A_v$\"], fig = figure, color = 'r')\n",
    "# colors = ['k','c', 'r']\n",
    "\n",
    "# labels = ['VI', 'VI init from Laplace approx', 'MCMC']\n",
    "colors = ['r', 'b']\n",
    "labels = ['Stephen MCMC', 'My MCMC']\n",
    "\n",
    "plt.legend(\n",
    "    handles=[\n",
    "        mlines.Line2D([], [], color=colors[i], label=labels[i])\n",
    "        for i in range(len(labels))\n",
    "    ],\n",
    "    fontsize=16, frameon=False,\n",
    "    bbox_to_anchor=(1, 3), loc=\"upper right\"\n",
    ")\n",
    "figure.suptitle(\"Parameter distributions for ASASSN-16CS dataset\", fontsize = 20)\n",
    "plt.show()"
   ]
  },
  {
   "cell_type": "code",
   "execution_count": null,
   "metadata": {
    "id": "EOGJcseMGe7Q"
   },
   "outputs": [],
   "source": []
  }
 ],
 "metadata": {
  "colab": {
   "collapsed_sections": [],
   "name": "Fitting_BayeSN_Pyro.ipynb",
   "provenance": []
  },
  "kernelspec": {
   "display_name": "Python 3",
   "language": "python",
   "name": "python3"
  },
  "language_info": {
   "codemirror_mode": {
    "name": "ipython",
    "version": 3
   },
   "file_extension": ".py",
   "mimetype": "text/x-python",
   "name": "python",
   "nbconvert_exporter": "python",
   "pygments_lexer": "ipython3",
   "version": "3.6.8"
  }
 },
 "nbformat": 4,
 "nbformat_minor": 2
}
