{
  "cells": [
    {
      "cell_type": "code",
      "execution_count": 1,
      "metadata": {
        "colab": {
          "base_uri": "https://localhost:8080/"
        },
        "id": "uX96bEWTmND0",
        "outputId": "4d6de730-4be8-49c8-fa00-4e8b802f6a5f"
      },
      "outputs": [
        {
          "output_type": "stream",
          "name": "stdout",
          "text": [
            "Looking in indexes: https://pypi.org/simple, https://us-python.pkg.dev/colab-wheels/public/simple/\n",
            "Collecting pyro-ppl\n",
            "  Downloading pyro_ppl-1.8.1-py3-none-any.whl (718 kB)\n",
            "\u001b[K     |████████████████████████████████| 718 kB 5.1 MB/s \n",
            "\u001b[?25hRequirement already satisfied: opt-einsum>=2.3.2 in /usr/local/lib/python3.7/dist-packages (from pyro-ppl) (3.3.0)\n",
            "Requirement already satisfied: torch>=1.11.0 in /usr/local/lib/python3.7/dist-packages (from pyro-ppl) (1.12.1+cu113)\n",
            "Requirement already satisfied: numpy>=1.7 in /usr/local/lib/python3.7/dist-packages (from pyro-ppl) (1.21.6)\n",
            "Collecting pyro-api>=0.1.1\n",
            "  Downloading pyro_api-0.1.2-py3-none-any.whl (11 kB)\n",
            "Requirement already satisfied: tqdm>=4.36 in /usr/local/lib/python3.7/dist-packages (from pyro-ppl) (4.64.0)\n",
            "Requirement already satisfied: typing-extensions in /usr/local/lib/python3.7/dist-packages (from torch>=1.11.0->pyro-ppl) (4.1.1)\n",
            "Installing collected packages: pyro-api, pyro-ppl\n",
            "Successfully installed pyro-api-0.1.2 pyro-ppl-1.8.1\n"
          ]
        }
      ],
      "source": [
        "!pip3 install pyro-ppl "
      ]
    },
    {
      "cell_type": "code",
      "execution_count": 2,
      "metadata": {
        "colab": {
          "base_uri": "https://localhost:8080/"
        },
        "id": "TLPeho_PRgNP",
        "outputId": "24ac7ae7-aef2-44d0-ee00-5f785ba85be4"
      },
      "outputs": [
        {
          "output_type": "stream",
          "name": "stdout",
          "text": [
            "Looking in indexes: https://pypi.org/simple, https://us-python.pkg.dev/colab-wheels/public/simple/\n",
            "Collecting extinction\n",
            "  Downloading extinction-0.4.6-cp37-cp37m-manylinux_2_5_x86_64.manylinux1_x86_64.manylinux_2_12_x86_64.manylinux2010_x86_64.whl (418 kB)\n",
            "\u001b[K     |████████████████████████████████| 418 kB 5.1 MB/s \n",
            "\u001b[?25hRequirement already satisfied: numpy>=1.13.3 in /usr/local/lib/python3.7/dist-packages (from extinction) (1.21.6)\n",
            "Installing collected packages: extinction\n",
            "Successfully installed extinction-0.4.6\n"
          ]
        }
      ],
      "source": [
        "!pip install extinction"
      ]
    },
    {
      "cell_type": "code",
      "execution_count": 1,
      "metadata": {
        "colab": {
          "base_uri": "https://localhost:8080/"
        },
        "id": "u-aOtXYMeTcO",
        "outputId": "6f57d3f4-d932-4306-df4d-3f25c982616e"
      },
      "outputs": [
        {
          "output_type": "stream",
          "name": "stdout",
          "text": [
            "Looking in indexes: https://pypi.org/simple, https://us-python.pkg.dev/colab-wheels/public/simple/\n",
            "Collecting corner\n",
            "  Downloading corner-2.2.1-py3-none-any.whl (15 kB)\n",
            "Requirement already satisfied: matplotlib>=2.1 in /usr/local/lib/python3.7/dist-packages (from corner) (3.2.2)\n",
            "Requirement already satisfied: python-dateutil>=2.1 in /usr/local/lib/python3.7/dist-packages (from matplotlib>=2.1->corner) (2.8.2)\n",
            "Requirement already satisfied: numpy>=1.11 in /usr/local/lib/python3.7/dist-packages (from matplotlib>=2.1->corner) (1.21.6)\n",
            "Requirement already satisfied: kiwisolver>=1.0.1 in /usr/local/lib/python3.7/dist-packages (from matplotlib>=2.1->corner) (1.4.4)\n",
            "Requirement already satisfied: cycler>=0.10 in /usr/local/lib/python3.7/dist-packages (from matplotlib>=2.1->corner) (0.11.0)\n",
            "Requirement already satisfied: pyparsing!=2.0.4,!=2.1.2,!=2.1.6,>=2.0.1 in /usr/local/lib/python3.7/dist-packages (from matplotlib>=2.1->corner) (3.0.9)\n",
            "Requirement already satisfied: typing-extensions in /usr/local/lib/python3.7/dist-packages (from kiwisolver>=1.0.1->matplotlib>=2.1->corner) (4.1.1)\n",
            "Requirement already satisfied: six>=1.5 in /usr/local/lib/python3.7/dist-packages (from python-dateutil>=2.1->matplotlib>=2.1->corner) (1.15.0)\n",
            "Installing collected packages: corner\n",
            "Successfully installed corner-2.2.1\n"
          ]
        }
      ],
      "source": [
        "!pip install corner"
      ]
    },
    {
      "cell_type": "code",
      "execution_count": 2,
      "metadata": {
        "id": "9xkM4Rl_RQdX",
        "colab": {
          "base_uri": "https://localhost:8080/",
          "height": 391
        },
        "outputId": "d9bb4bfc-236f-4638-84b1-2602b4e924e5"
      },
      "outputs": [
        {
          "output_type": "error",
          "ename": "ModuleNotFoundError",
          "evalue": "ignored",
          "traceback": [
            "\u001b[0;31m---------------------------------------------------------------------------\u001b[0m",
            "\u001b[0;31mModuleNotFoundError\u001b[0m                       Traceback (most recent call last)",
            "\u001b[0;32m<ipython-input-2-00d6da934311>\u001b[0m in \u001b[0;36m<module>\u001b[0;34m\u001b[0m\n\u001b[1;32m     15\u001b[0m \u001b[0;32mimport\u001b[0m \u001b[0mmath\u001b[0m\u001b[0;34m\u001b[0m\u001b[0;34m\u001b[0m\u001b[0m\n\u001b[1;32m     16\u001b[0m \u001b[0;34m\u001b[0m\u001b[0m\n\u001b[0;32m---> 17\u001b[0;31m \u001b[0;32mimport\u001b[0m \u001b[0mpyro\u001b[0m\u001b[0;34m\u001b[0m\u001b[0;34m\u001b[0m\u001b[0m\n\u001b[0m\u001b[1;32m     18\u001b[0m \u001b[0;34m\u001b[0m\u001b[0m\n\u001b[1;32m     19\u001b[0m \u001b[0;32mimport\u001b[0m \u001b[0mpyro\u001b[0m\u001b[0;34m.\u001b[0m\u001b[0mdistributions\u001b[0m \u001b[0;32mas\u001b[0m \u001b[0mdist\u001b[0m\u001b[0;34m\u001b[0m\u001b[0;34m\u001b[0m\u001b[0m\n",
            "\u001b[0;31mModuleNotFoundError\u001b[0m: No module named 'pyro'",
            "",
            "\u001b[0;31m---------------------------------------------------------------------------\u001b[0;32m\nNOTE: If your import is failing due to a missing package, you can\nmanually install dependencies using either !pip or !apt.\n\nTo view examples of installing some common dependencies, click the\n\"Open Examples\" button below.\n\u001b[0;31m---------------------------------------------------------------------------\u001b[0m\n"
          ],
          "errorDetails": {
            "actions": [
              {
                "action": "open_url",
                "actionText": "Open Examples",
                "url": "/notebooks/snippets/importing_libraries.ipynb"
              }
            ]
          }
        }
      ],
      "source": [
        "import logging\n",
        "import os\n",
        "\n",
        "import torch\n",
        "import numpy as np\n",
        "import pandas as pd\n",
        "import seaborn as sns\n",
        "import matplotlib.pyplot as plt\n",
        "import matplotlib.lines as mlines\n",
        "import matplotlib.colors as colors\n",
        "\n",
        "import corner\n",
        "import time as measure_time\n",
        "import os\n",
        "import math\n",
        "\n",
        "import pyro\n",
        "\n",
        "import pyro.distributions as dist\n",
        "import pyro.distributions.constraints as constraints\n",
        "from pyro.infer import SVI, Trace_ELBO,Predictive\n",
        "from pyro.optim import Adam\n",
        "from pyro.ops.stats import fit_generalized_pareto\n",
        "\n",
        "from scipy.interpolate import interp1d\n",
        "import h5py\n",
        "import extinction\n",
        "\n",
        "from astropy.cosmology import FlatLambdaCDM\n",
        "\n",
        "from spline_hsiao_fns import *"
      ]
    },
    {
      "cell_type": "code",
      "execution_count": 6,
      "metadata": {
        "colab": {
          "base_uri": "https://localhost:8080/"
        },
        "id": "E0rAZ3bDo97c",
        "outputId": "9189d0b4-112b-4bc6-d9d5-2aa43f08d0ef"
      },
      "outputs": [
        {
          "output_type": "stream",
          "name": "stdout",
          "text": [
            "cpu\n"
          ]
        }
      ],
      "source": [
        "# device = torch.device(\"cuda:0\" if torch.cuda.is_available() else \"cpu\")\n",
        "device = torch.device(\"cpu\")\n",
        "print(device)"
      ]
    },
    {
      "cell_type": "markdown",
      "metadata": {
        "id": "syqWBFKbDk8B"
      },
      "source": [
        "##Get constants from files"
      ]
    },
    {
      "cell_type": "code",
      "execution_count": 8,
      "metadata": {
        "id": "AlhMMde4mIBy"
      },
      "outputs": [],
      "source": [
        "W0 = np.loadtxt(\"W0_T21.txt\")\n",
        "W1 = np.loadtxt(\"W1_T21.txt\")\n",
        "W0_tensor = torch.as_tensor(W0).to(device)\n",
        "W1_tensor = torch.as_tensor(W1).to(device)\n",
        "time_knots = np.loadtxt(\"tau_knots_T21.txt\")\n",
        "wavelength_knots = np.loadtxt(\"l_knots_T21.txt\")\n",
        "L_sigma_epsilon = np.loadtxt(\"L_Sigma_epsilon_T21.txt\")\n",
        "L_sigma_epsilon_tensor = torch.as_tensor(L_sigma_epsilon, dtype = torch.float).to(device)\n",
        "M0, sigma0, rv, tauA = np.loadtxt(\"M0_sigma0_RV_tauA_T21.txt\")\n",
        "cosmo = FlatLambdaCDM(H0 = 73.24, Om0 = 0.28)"
      ]
    },
    {
      "cell_type": "code",
      "execution_count": 9,
      "metadata": {
        "id": "vdSkGKgr4S5R"
      },
      "outputs": [],
      "source": [
        "g_wavelengths, _, g_norm_throughput = np.loadtxt(\"g_PS1.txt\", skiprows = 2, unpack = True)\n",
        "r_wavelengths, _, r_norm_throughput = np.loadtxt(\"r_PS1.txt\", skiprows = 2, unpack = True)\n",
        "i_wavelengths, _, i_norm_throughput = np.loadtxt(\"i_PS1.txt\", skiprows = 2, unpack = True)\n",
        "z_wavelengths, _, z_norm_throughput = np.loadtxt(\"z_PS1.txt\", skiprows = 2, unpack = True)"
      ]
    },
    {
      "cell_type": "markdown",
      "metadata": {
        "id": "JAD8DDVJEfti"
      },
      "source": [
        "Read in metadata for Foundation dataset"
      ]
    },
    {
      "cell_type": "code",
      "execution_count": 7,
      "metadata": {
        "id": "yvZvm6TUzyZ7"
      },
      "outputs": [],
      "source": [
        "meta = pd.read_csv(\"meta.txt\", sep='\\s+', index_col = False, names = ['SNID','PEAKMJD','MWEBV','REDSHIFT_HELIO','REDSHIFT_CMB','REDSHIFT_CMB_ERR'], skiprows = 2)"
      ]
    },
    {
      "cell_type": "code",
      "execution_count": 13,
      "metadata": {
        "id": "5S2mGH9i8oR8"
      },
      "outputs": [],
      "source": [
        "tmax_dict = {}\n",
        "mwebv_dict = {}\n",
        "z_helio_dict = {}\n",
        "z_cmb_dict = {}\n",
        "for index, row in meta.iterrows():\n",
        "  name = row['SNID']\n",
        "  tmax = row['PEAKMJD']\n",
        "  mwebv = row['MWEBV']\n",
        "  z_helio = row['REDSHIFT_HELIO']\n",
        "  z_cmb = row['REDSHIFT_CMB']\n",
        "  tmax_dict[name] = tmax\n",
        "  mwebv_dict[name] = mwebv\n",
        "  z_helio_dict[name] = z_helio\n",
        "  z_cmb_dict[name] = z_cmb"
      ]
    },
    {
      "cell_type": "code",
      "execution_count": 14,
      "metadata": {
        "id": "2LoY4Y6-9tb8"
      },
      "outputs": [],
      "source": [
        "def get_fluxes_from_file(filename, tmax, z_helio):\n",
        "  df = pd.read_csv(filename, sep=\" \", header = 0, index_col = False, names = ['MJD', \"FLT\", 'FLUXCAL', 'FLUXCALERR', 'MAG', 'MAGERR'])\n",
        "  df = df.dropna()\n",
        "\n",
        "  # Remove time points outside of [-10., 40.]\n",
        "  df['adj_time'] = (df.MJD - tmax) / (1 + z_helio)\n",
        "  mask = (df['adj_time'] < 40.) & (df['adj_time'] > -10.0)\n",
        "  df = df[mask]\n",
        "\n",
        "  # Separate based on bands\n",
        "  g_time = df.adj_time[df.FLT=='g'].values\n",
        "  r_time = df.adj_time[df.FLT=='r'].values\n",
        "  i_time = df.adj_time[df.FLT=='i'].values\n",
        "  z_time = df.adj_time[df.FLT=='z'].values\n",
        "\n",
        "  g_flux = df.FLUXCAL[df.FLT=='g'].values\n",
        "  r_flux = df.FLUXCAL[df.FLT=='r'].values\n",
        "  i_flux = df.FLUXCAL[df.FLT=='i'].values\n",
        "  z_flux = df.FLUXCAL[df.FLT=='z'].values\n",
        "\n",
        "  g_fluxerr = df.FLUXCALERR[df.FLT=='g'].values\n",
        "  r_fluxerr = df.FLUXCALERR[df.FLT=='r'].values\n",
        "  i_fluxerr = df.FLUXCALERR[df.FLT=='i'].values\n",
        "  z_fluxerr = df.FLUXCALERR[df.FLT=='z'].values\n",
        "\n",
        "  times_dict = {'g':g_time, 'r':r_time, 'i':i_time, 'z':z_time}\n",
        "\n",
        "  observed_fluxes = [torch.as_tensor(g_flux).to(device), torch.as_tensor(r_flux).to(device), torch.as_tensor(i_flux).to(device), torch.as_tensor(z_flux).to(device)]\n",
        "\n",
        "  flux_errors = [torch.as_tensor(g_fluxerr).to(device), torch.as_tensor(r_fluxerr).to(device), torch.as_tensor(i_fluxerr).to(device), torch.as_tensor(z_fluxerr).to(device)]\n",
        "\n",
        "  return observed_fluxes, flux_errors, times_dict"
      ]
    },
    {
      "cell_type": "code",
      "execution_count": 15,
      "metadata": {
        "id": "8Ex7Js7QG110"
      },
      "outputs": [],
      "source": [
        "ZPT = torch.as_tensor(27.5).to(device)\n",
        "M0 = torch.as_tensor(-19.5).to(device)\n",
        "gamma = torch.as_tensor(np.log(10) / 2.5).to(device)\n",
        "gamma_numpy = np.log(10) / 2.5\n",
        "\n",
        "hsiao_phase, hsiao_wave, hsiao_flux = read_model_grid()\n",
        "\n",
        "bands = ['g', 'r', 'i', 'z']\n",
        "wavelengths_dict = {'g':g_wavelengths, 'r':r_wavelengths, 'i':i_wavelengths, 'z':z_wavelengths}\n",
        "norm_throughput_dict = {'g':g_norm_throughput, 'r':r_norm_throughput, 'i':i_norm_throughput, 'z':z_norm_throughput}\n",
        "eps_cov = torch.as_tensor(np.matmul(L_sigma_epsilon, L_sigma_epsilon.T), dtype = torch.float)"
      ]
    },
    {
      "cell_type": "markdown",
      "metadata": {
        "id": "TqpkG4FUH6jF"
      },
      "source": [
        "Things we can pre-calculate / helper functions\n",
        "---\n",
        "\n"
      ]
    },
    {
      "cell_type": "code",
      "execution_count": 16,
      "metadata": {
        "id": "d3FwBBvNNMUe"
      },
      "outputs": [],
      "source": [
        "def get_lambda_int_for_band(band_wavelengths, z):\n",
        "  source_wavelengths = band_wavelengths / (1 + z)\n",
        "  return np.linspace(np.min(source_wavelengths), np.max(source_wavelengths), 75)"
      ]
    },
    {
      "cell_type": "code",
      "execution_count": 17,
      "metadata": {
        "id": "C7xyhI47NfCc"
      },
      "outputs": [],
      "source": [
        "def calculate_band_dependent_stuff(times_dict, z_helio, Av_obs):\n",
        "  band_Jl = {}\n",
        "  band_h = {}\n",
        "  band_Jt = {}\n",
        "  band_xis_matrix = {}\n",
        "  band_S0 = {}  \n",
        "\n",
        "  for band in bands:\n",
        "    # Calculate Jt\n",
        "    times_to_interpolate = times_dict[band]\n",
        "    Jt = spline_coeffs_irr(times_to_interpolate, time_knots, invKD_irr(time_knots))\n",
        "    band_Jt[band] = torch.as_tensor(Jt.T).to(device)\n",
        "\n",
        "    # Calculate wavelengths to interpolate\n",
        "    band_wavelengths = wavelengths_dict[band]\n",
        "    wavelengths_to_interpolate = get_lambda_int_for_band(band_wavelengths, z = z_helio)\n",
        "\n",
        "    # Calculate Jl (J matrix for wavelengths)\n",
        "    Jl = spline_coeffs_irr(wavelengths_to_interpolate, wavelength_knots, invKD_irr(wavelength_knots))\n",
        "    band_Jl[band] = torch.as_tensor(Jl).to(device)\n",
        "\n",
        "    # Calculate xis matrix\n",
        "    xis = extinction.fitzpatrick99(wavelengths_to_interpolate, 1, rv)\n",
        "    xis_matrix = np.tile(xis, (len(times_to_interpolate),1)).T\n",
        "    band_xis_matrix[band] = torch.as_tensor(xis_matrix).to(device)\n",
        "\n",
        "    # Interpolate throughput wavelengths\n",
        "    band_norm_throughput = norm_throughput_dict[band]\n",
        "    throughput_interpolator = interp1d(band_wavelengths, band_norm_throughput)\n",
        "    b = throughput_interpolator([band_wavelengths[0]] + list(wavelengths_to_interpolate[1:-1] * (1 + z_helio)) + [band_wavelengths[-1]])\n",
        "\n",
        "    # Calculate S0 matrix\n",
        "    S0 = np.zeros((len(wavelengths_to_interpolate), len(times_to_interpolate)))\n",
        "    for i, wavelength in enumerate(wavelengths_to_interpolate):\n",
        "      for j, time_point in enumerate(times_to_interpolate):\n",
        "        S0[i][j] = interpolate_hsiao(time_point, wavelength, hsiao_phase, hsiao_wave, hsiao_flux)\n",
        "    band_S0[band] = torch.as_tensor(S0).to(device)\n",
        "\n",
        "    # Calculate h\n",
        "    xis_obs = extinction.fitzpatrick99(wavelengths_to_interpolate*(1 + z_helio), Av_obs, 3.1)\n",
        "    dLambda = wavelengths_to_interpolate[1] - wavelengths_to_interpolate[0]\n",
        "    h = (1 + z_helio) * dLambda * b * wavelengths_to_interpolate * np.exp(-gamma_numpy * xis_obs)\n",
        "    band_h[band] = torch.as_tensor(h).to(device)\n",
        "\n",
        "  return band_Jt, band_Jl, band_xis_matrix, band_S0, band_h"
      ]
    },
    {
      "cell_type": "markdown",
      "metadata": {
        "id": "VoXukiwhO1bd"
      },
      "source": [
        "## Define model"
      ]
    },
    {
      "cell_type": "code",
      "execution_count": 18,
      "metadata": {
        "id": "qsWemUqUpuPj"
      },
      "outputs": [],
      "source": [
        "nu_args = torch.zeros(len(L_sigma_epsilon)).to(device), torch.eye(len(L_sigma_epsilon)).to(device)\n",
        "theta_args = torch.as_tensor(0.).to(device), torch.as_tensor(1.0).to(device)\n",
        "mu_arg = torch.as_tensor(10.0).to(device)\n",
        "av_arg = torch.as_tensor(1 / 0.252).to(device)\n",
        "\n",
        "zeros = torch.zeros(6).to(device)"
      ]
    },
    {
      "cell_type": "code",
      "execution_count": 19,
      "metadata": {
        "id": "F56kQkT4on18"
      },
      "outputs": [],
      "source": [
        "def model_vi_with_params_faster(obs, mu_mean, band_Jl, band_Jt, band_xis_matrix, band_S0, band_h, flux_errors):\n",
        "  nu = pyro.sample(\"nu\", dist.MultivariateNormal(*nu_args))\n",
        "  epsilon_interior = torch.matmul(L_sigma_epsilon_tensor.float(), torch.squeeze(nu).float())\n",
        "\n",
        "  theta = pyro.sample(\"theta\", dist.Normal(*theta_args))\n",
        "\n",
        "  mu_s = pyro.sample(\"mu_s\", dist.Normal(mu_mean, mu_arg))\n",
        "\n",
        "  dMs = torch.tensor(0.).to(device)\n",
        "  Av = pyro.sample(\"Av\", dist.Exponential(av_arg))\n",
        "\n",
        "  # epsilon = torch.zeros(W0.shape)   ## populate epsilon matrix\n",
        "  # epsilon[1:-1] = torch.transpose(torch.reshape(epsilon_interior, (6,9)), 0, 1)\n",
        "  epsilon = torch.vstack((zeros, torch.transpose(torch.reshape(epsilon_interior, (6,4)), 0, 1), zeros))\n",
        "\n",
        "  W = W0_tensor + theta*W1_tensor + epsilon\n",
        "\n",
        "  generated_fluxes = np.empty(4, object)\n",
        "\n",
        "  for band_index, band in enumerate(bands):\n",
        "    Jl = band_Jl[band]\n",
        "    S0 = band_S0[band]\n",
        "    xis_matrix = band_xis_matrix[band]\n",
        "    h = band_h[band]\n",
        "    Jt = band_Jt[band]\n",
        "\n",
        "    JlWJt = torch.matmul(band_Jl[band], torch.matmul(W, band_Jt[band]))\n",
        "\n",
        "    Stilde = band_S0[band] * torch.exp(-gamma * (JlWJt + Av * band_xis_matrix[band]))\n",
        "\n",
        "    f = 10**(0.4 * (ZPT - mu_s - M0 - dMs)) * torch.matmul(band_h[band], Stilde)\n",
        "    generated_fluxes[band_index] = f\n",
        "\n",
        "  for i in pyro.plate(\"bands\", band_index + 1):\n",
        "    with pyro.plate(\"observations\" + str(bands[i])):\n",
        "        pyro.sample(\"flux\" + str(bands[i]), dist.Normal(generated_fluxes[i], flux_errors[i]), obs = obs[i])\n"
      ]
    },
    {
      "cell_type": "code",
      "execution_count": 20,
      "metadata": {
        "id": "O-yXmmLoiNSB"
      },
      "outputs": [],
      "source": [
        "def model_vi_with_params_faster(obs, mu_mean, band_Jl, band_Jt, band_xis_matrix, band_S0, band_h, flux_errors):\n",
        "  nu = pyro.sample(\"nu\", dist.MultivariateNormal(*nu_args))\n",
        "  epsilon_interior = torch.matmul(L_sigma_epsilon_tensor.float(), torch.squeeze(nu).float())\n",
        "\n",
        "  theta = pyro.sample(\"theta\", dist.Normal(*theta_args))\n",
        "\n",
        "  mu_s = pyro.sample(\"mu_s\", dist.Normal(mu_mean, mu_arg))\n",
        "\n",
        "  dMs = torch.tensor(0.).to(device)\n",
        "  Av = pyro.sample(\"Av\", dist.Exponential(av_arg))\n",
        "\n",
        "  # epsilon = torch.zeros(W0.shape)   ## populate epsilon matrix\n",
        "  # epsilon[1:-1] = torch.transpose(torch.reshape(epsilon_interior, (6,9)), 0, 1)\n",
        "  epsilon = torch.vstack((zeros, torch.transpose(torch.reshape(epsilon_interior, (6,4)), 0, 1), zeros))\n",
        "\n",
        "  W = W0_tensor + theta*W1_tensor + epsilon\n",
        "\n",
        "  generated_fluxes = np.empty(4, object)\n",
        "\n",
        "  for band_index, band in enumerate(bands):\n",
        "    Jl = band_Jl[band]\n",
        "    S0 = band_S0[band]\n",
        "    xis_matrix = band_xis_matrix[band]\n",
        "    h = band_h[band]\n",
        "    Jt = band_Jt[band]\n",
        "\n",
        "    JlWJt = torch.matmul(band_Jl[band], torch.matmul(W, band_Jt[band]))\n",
        "\n",
        "    Stilde = band_S0[band] * torch.exp(-gamma * (JlWJt + Av * band_xis_matrix[band]))\n",
        "\n",
        "    f = 10**(0.4 * (ZPT - mu_s - M0 - dMs)) * torch.matmul(band_h[band], Stilde)\n",
        "    generated_fluxes[band_index] = f\n",
        "\n",
        "  for i in pyro.plate(\"bands\", band_index + 1):\n",
        "    with pyro.plate(\"observations\" + str(bands[i])):\n",
        "        pyro.sample(\"flux\" + str(bands[i]), dist.Normal(generated_fluxes[i], flux_errors[i]), obs = obs[i])"
      ]
    },
    {
      "cell_type": "code",
      "source": [
        "import math\n",
        "\n",
        "from numbers import Number\n",
        "from torch.distributions import constraints\n",
        "from torch.distributions.utils import broadcast_all, lazy_property\n",
        "\n",
        "from pyro.distributions.torch_distribution import TorchDistribution\n",
        "\n",
        "class SoftplusExp(TorchDistribution):\n",
        "\n",
        "    arg_constraints = {\n",
        "        \"k\": constraints.real,\n",
        "        \"tau\": constraints.positive,\n",
        "    }\n",
        "    support = constraints.real\n",
        "    has_rsample = True\n",
        "\n",
        "    def __init__(self, k, tau, *, validate_args=None):\n",
        "        self.k, self.tau = broadcast_all(k, tau)\n",
        "        batch_shape = torch.Size() if isinstance(k, Number) else self.k.size()\n",
        "        super().__init__(batch_shape, validate_args=validate_args)\n",
        "\n",
        "\n",
        "    ## https://github.com/pytorch/pytorch/issues/72759\n",
        "    def rsample(self, sample_shape=torch.Size()):\n",
        "        shape = self._extended_shape(sample_shape)\n",
        "        av = self.tau.new(shape).exponential_() * self.tau\n",
        "        return ((av * self.k) + (1 - (av * self.k).neg().exp()).log()) / self.k\n",
        "\n",
        "    def log_prob(self, value):\n",
        "        if self._validate_args:\n",
        "            self._validate_sample(value)\n",
        "        with torch.no_grad():\n",
        "          Av = torch.log(torch.exp(self.k * value) + 1) / self.k\n",
        "          prob = (1 / self.tau) * np.exp(-Av/self.tau) / (1 + np.exp(-self.k*value))\n",
        "          return torch.log(prob)"
      ],
      "metadata": {
        "id": "Xb0aB5FdAngq"
      },
      "execution_count": 21,
      "outputs": []
    },
    {
      "cell_type": "code",
      "execution_count": 22,
      "metadata": {
        "id": "SSpYBPbwix9j"
      },
      "outputs": [],
      "source": [
        "def model_vi_with_params_softplus(obs, mu_mean, band_Jl, band_Jt, band_xis_matrix, band_S0, band_h, flux_errors):\n",
        "  nu = pyro.sample(\"nu\", dist.MultivariateNormal(*nu_args))\n",
        "  epsilon_interior = torch.matmul(L_sigma_epsilon_tensor.float(), torch.squeeze(nu).float())\n",
        "\n",
        "  theta = pyro.sample(\"theta\", dist.Normal(*theta_args))\n",
        "\n",
        "  mu_s = pyro.sample(\"mu_s\", dist.Normal(mu_mean, mu_arg))\n",
        "\n",
        "  dMs = torch.tensor(0.).to(device)\n",
        "\n",
        "  x = pyro.sample(\"x\", SoftplusExp(k = 25, tau = tauA))\n",
        "  k = torch.as_tensor(25.)\n",
        "  Av = torch.log(1 + torch.exp(k * x)) / k\n",
        "\n",
        "  # x = pyro.sample(\"x\", dist.Normal(0,1))\n",
        "  # k = torch.as_tensor(10.)\n",
        "  # Av = torch.log(1 + torch.exp(k * x)) / k\n",
        "\n",
        "  # Av = pyro.sample(\"Av\", dist.Exponential(av_arg))\n",
        "  # epsilon = torch.zeros(W0.shape)   ## populate epsilon matrix\n",
        "  # epsilon[1:-1] = torch.transpose(torch.reshape(epsilon_interior, (6,9)), 0, 1)\n",
        "  epsilon = torch.vstack((zeros, torch.transpose(torch.reshape(epsilon_interior, (6,4)), 0, 1), zeros))\n",
        "\n",
        "  W = W0_tensor + theta*W1_tensor + epsilon\n",
        "\n",
        "  generated_fluxes = np.empty(4, object)\n",
        "\n",
        "  for band_index, band in enumerate(bands):\n",
        "    Jl = band_Jl[band]\n",
        "    S0 = band_S0[band]\n",
        "    xis_matrix = band_xis_matrix[band]\n",
        "    h = band_h[band]\n",
        "    Jt = band_Jt[band]\n",
        "\n",
        "    JlWJt = torch.matmul(band_Jl[band], torch.matmul(W, band_Jt[band]))\n",
        "\n",
        "    Stilde = band_S0[band] * torch.exp(-gamma * (JlWJt + Av * band_xis_matrix[band]))\n",
        "\n",
        "    f = 10**(0.4 * (ZPT - mu_s - M0 - dMs)) * torch.matmul(band_h[band], Stilde)\n",
        "    generated_fluxes[band_index] = f\n",
        "\n",
        "  for i in pyro.plate(\"bands\", band_index + 1):\n",
        "    with pyro.plate(\"observations\" + str(bands[i])):\n",
        "        pyro.sample(\"flux\" + str(bands[i]), dist.Normal(generated_fluxes[i], flux_errors[i]), obs = obs[i])"
      ]
    },
    {
      "cell_type": "code",
      "execution_count": 19,
      "metadata": {
        "id": "4Sgke9ao1xCx"
      },
      "outputs": [],
      "source": [
        "def model_vi_with_params_faster_predictive_posterior(obs, mu_mean, band_Jl, band_Jt, band_xis_matrix, band_S0, band_h, flux_errors):\n",
        "  nu = pyro.sample(\"nu\", dist.MultivariateNormal(*nu_args))\n",
        "  epsilon_interior = torch.matmul(L_sigma_epsilon_tensor.float(), nu.float())\n",
        "\n",
        "  theta = pyro.sample(\"theta\", dist.Normal(*theta_args))\n",
        "\n",
        "  mu_s = pyro.sample(\"mu_s\", dist.Normal(mu_mean, mu_arg))\n",
        "\n",
        "  dMs = torch.tensor(0.).to(device)\n",
        "  Av = pyro.sample(\"Av\", dist.Exponential(av_arg))\n",
        "\n",
        "  # epsilon = torch.zeros(W0.shape)   ## populate epsilon matrix\n",
        "  # epsilon[1:-1] = torch.transpose(torch.reshape(epsilon_interior, (6,9)), 0, 1)\n",
        "  epsilon = torch.vstack((zeros, torch.transpose(torch.reshape(epsilon_interior, (6,4)), 0, 1), zeros))\n",
        "\n",
        "  W = W0_tensor + theta*W1_tensor + epsilon\n",
        "\n",
        "  generated_fluxes = np.empty(4, object)\n",
        "\n",
        "  for band_index, band in enumerate(bands):\n",
        "    Jl = band_Jl[band]\n",
        "    S0 = band_S0[band]\n",
        "    xis_matrix = band_xis_matrix[band]\n",
        "    h = band_h[band]\n",
        "    Jt = band_Jt[band]\n",
        "\n",
        "    JlWJt = torch.matmul(band_Jl[band], torch.matmul(W, band_Jt[band]))\n",
        "\n",
        "    Stilde = band_S0[band] * torch.exp(-gamma * (JlWJt + Av * band_xis_matrix[band]))\n",
        "\n",
        "    f = 10**(0.4 * (ZPT - mu_s - M0 - dMs)) * torch.matmul(band_h[band], Stilde)\n",
        "    generated_fluxes[band_index] = f\n",
        "\n",
        "  if obs is not None:\n",
        "    for i in pyro.plate(\"bands\", band_index + 1):\n",
        "      with pyro.plate(\"observations\" + str(bands[i])):\n",
        "          pyro.sample(\"flux\" + str(bands[i]), dist.Normal(generated_fluxes[i], flux_errors[i]), obs = obs[i])"
      ]
    },
    {
      "cell_type": "code",
      "execution_count": 29,
      "metadata": {
        "id": "TFM9zIVpKkDR"
      },
      "outputs": [],
      "source": [
        "def model_vi_with_params_faster_asym_laplace(obs, mu_mean, band_Jl, band_Jt, band_xis_matrix, band_S0, band_h, flux_errors):\n",
        "  nu = pyro.sample(\"nu\", dist.MultivariateNormal(*nu_args))\n",
        "  epsilon_interior = torch.matmul(L_sigma_epsilon_tensor.float(), nu.float())\n",
        "\n",
        "  theta = pyro.sample(\"theta\", dist.Normal(*theta_args))\n",
        "\n",
        "  mu_s = pyro.sample(\"mu_s\", dist.Normal(mu_mean, mu_arg))\n",
        "\n",
        "  dMs = torch.tensor(0.).to(device)\n",
        "  # Av = pyro.sample(\"Av\", dist.Uniform(-1., 2.))\n",
        "  Av = pyro.sample(\"Av\", dist.AsymmetricLaplace(0, tauA / 4, 0.25))\n",
        "\n",
        "  # epsilon = torch.zeros(W0.shape)   ## populate epsilon matrix\n",
        "  # epsilon[1:-1] = torch.transpose(torch.reshape(epsilon_interior, (6,9)), 0, 1)\n",
        "  epsilon = torch.vstack((zeros, torch.transpose(torch.reshape(epsilon_interior, (6,4)), 0, 1), zeros))\n",
        "\n",
        "  W = W0_tensor + theta*W1_tensor + epsilon\n",
        "\n",
        "  generated_fluxes = np.empty(4, object)\n",
        "\n",
        "  for band_index, band in enumerate(bands):\n",
        "    Jl = band_Jl[band]\n",
        "    S0 = band_S0[band]\n",
        "    xis_matrix = band_xis_matrix[band]\n",
        "    h = band_h[band]\n",
        "    Jt = band_Jt[band]\n",
        "\n",
        "    # for var in [Jl, S0, xis_matrix, h, Jt]:\n",
        "    #   print(var.get_device())\n",
        "\n",
        "    JlWJt = torch.matmul(band_Jl[band], torch.matmul(W, band_Jt[band]))\n",
        "\n",
        "    Stilde = band_S0[band] * torch.exp(-gamma * (JlWJt + Av * band_xis_matrix[band]))\n",
        "\n",
        "    f = 10**(0.4 * (ZPT - mu_s - M0 - dMs)) * torch.matmul(band_h[band], Stilde)\n",
        "    generated_fluxes[band_index] = f\n",
        "    # generated_fluxes.append(f)\n",
        "  # generated_fluxes = torch.stack(generated_fluxes)\n",
        "  # print(generated_fluxes)\n",
        "  \n",
        "\n",
        "  # for var in [nu, epsilon_interior, theta, mu_s, dMs, Av, epsilon, W]:\n",
        "  #   print(var.get_device())\n",
        "\n",
        "  # if obs is not None:\n",
        "    # for i in range(len(bands)):\n",
        "  for i in pyro.plate(\"bands\", band_index + 1):\n",
        "    # print(i, band_index)\n",
        "    with pyro.plate(\"observations\" + str(bands[i])):\n",
        "      # print(len(generated_fluxes[i]))\n",
        "      # for j in range(len(generated_fluxes[i])):\n",
        "        # print(generated_fluxes[i].get_device())\n",
        "        # print(flux_errors[i].get_device())\n",
        "        # print(obs[i].get_device())\n",
        "        pyro.sample(\"flux\" + str(bands[i]), dist.Normal(generated_fluxes[i], flux_errors[i]), obs = obs[i])"
      ]
    },
    {
      "cell_type": "code",
      "execution_count": 21,
      "metadata": {
        "id": "d1RtnrXAslgP"
      },
      "outputs": [],
      "source": [
        "def train_with_params_faster(model, guide, obs, mu_mean, band_Jl, band_Jt, band_xis_matrix, band_S0, band_h, flux_errors, lr=0.01, n_steps=5000, verbose= False):\n",
        "  pyro.get_param_store().clear()\n",
        "  # adam = pyro.optim.Adam({\"lr\": 0.05}, {\"clip_norm\": 10.0})\n",
        "  adam = pyro.optim.ClippedAdam({\"lr\": lr, \"betas\": (0.95, 0.999)})\n",
        "  svi = SVI(model, guide, adam, loss=Trace_ELBO())\n",
        "  # print('hi')\n",
        "  for _ in range(n_steps):\n",
        "      svi.step(obs, mu_mean, band_Jl, band_Jt, band_xis_matrix, band_S0, band_h, flux_errors)\n",
        "      # if verbose and step % 500 == 0:\n",
        "      #       print('[iter {}]  loss: {:.4f}'.format(step, loss))\n",
        "          ## if it hasn't decreased in 3 steps, end fitting\n",
        "          # if step > 2000:\n",
        "          #  if losses_every_500[-1] >= losses_every_500[-2] and losses_every_500[-2] >= losses_every_500[-3]:\n",
        "          #   break\n"
      ]
    },
    {
      "cell_type": "code",
      "execution_count": 22,
      "metadata": {
        "id": "qqa39GRrwMWE"
      },
      "outputs": [],
      "source": [
        "def get_psis_metric(model, guide, num_particles = 1000):\n",
        "  pyro.get_param_store().clear()\n",
        "  ## Code modified from https://pyro4ci.readthedocs.io/en/latest/_modules/pyro/infer/importance.html#psis_diagnostic\n",
        "  log_weights = torch.as_tensor([pyro.infer.importance.vectorized_importance_weights(model, guide, observed_fluxes, mu_mean, \n",
        "              band_Jl, band_Jt, band_xis_matrix, band_S0, band_h, flux_errors, max_plate_nesting = 2)[0] for _ in range(num_particles)])\n",
        "  # log_weights = torch.cat(log_weights)\n",
        "  log_weights -= log_weights.max()\n",
        "  log_weights = torch.sort(log_weights, descending=False)[0]\n",
        "  cutoff_index = - int(math.ceil(min(0.2 * num_particles, 3.0 * math.sqrt(num_particles)))) - 1\n",
        "  lw_cutoff = max(math.log(1.0e-15), log_weights[cutoff_index])\n",
        "  lw_tail = log_weights[log_weights > lw_cutoff]\n",
        "\n",
        "  if len(lw_tail) < 10:\n",
        "      # warnings.warn(\"Not enough tail samples to compute PSIS diagnostic; increase num_particles.\")\n",
        "      k = float('inf')\n",
        "  else:\n",
        "      k, _ = fit_generalized_pareto(lw_tail.exp() - math.exp(lw_cutoff))\n",
        "  return k"
      ]
    },
    {
      "cell_type": "code",
      "execution_count": 23,
      "metadata": {
        "colab": {
          "base_uri": "https://localhost:8080/"
        },
        "id": "HZF14mhfwT89",
        "outputId": "eb3b57ec-650c-430a-898a-9556d06199dd"
      },
      "outputs": [
        {
          "output_type": "execute_result",
          "data": {
            "text/plain": [
              "107"
            ]
          },
          "metadata": {},
          "execution_count": 23
        }
      ],
      "source": [
        "list(meta.SNID.values).index('PS15coh')"
      ]
    },
    {
      "cell_type": "code",
      "execution_count": 24,
      "metadata": {
        "colab": {
          "base_uri": "https://localhost:8080/"
        },
        "id": "xa7rJs27n3CX",
        "outputId": "4498b0f0-b2d6-4dba-b4b5-191bbde79dbb"
      },
      "outputs": [
        {
          "output_type": "stream",
          "name": "stdout",
          "text": [
            "2016W\n",
            "Time: 54.08007860183716 seconds\n",
            "2016afk\n",
            "Time: 41.27173042297363 seconds\n",
            "ASASSN-15bc\n",
            "Time: 42.9048068523407 seconds\n",
            "ASASSN-15fa\n",
            "Time: 41.58692383766174 seconds\n",
            "ASASSN-15fs\n",
            "Time: 41.062419176101685 seconds\n",
            "ASASSN-15go\n",
            "trying agan for ASASSN-15go\n",
            "trying agan for ASASSN-15go\n",
            "Time: 41.448644161224365 seconds\n",
            "ASASSN-15hg\n",
            "Time: 41.07512974739075 seconds\n",
            "ASASSN-15il\n",
            "trying agan for ASASSN-15il\n",
            "Time: 41.67978358268738 seconds\n",
            "ASASSN-15jl\n"
          ]
        },
        {
          "output_type": "stream",
          "name": "stderr",
          "text": [
            "/usr/local/lib/python3.7/dist-packages/ipykernel_launcher.py:35: RuntimeWarning: overflow encountered in exp\n"
          ]
        },
        {
          "output_type": "stream",
          "name": "stdout",
          "text": [
            "Time: 41.04554843902588 seconds\n",
            "ASASSN-15jt\n",
            "Time: 41.23954391479492 seconds\n",
            "ASASSN-15kx\n",
            "Time: 41.68947386741638 seconds\n",
            "ASASSN-15la\n",
            "trying agan for ASASSN-15la\n",
            "Time: 41.2290403842926 seconds\n",
            "ASASSN-15lg\n",
            "trying agan for ASASSN-15lg\n",
            "Time: 41.780186891555786 seconds\n",
            "ASASSN-15lu\n",
            "Time: 41.198434352874756 seconds\n",
            "ASASSN-15mf\n",
            "trying agan for ASASSN-15mf\n",
            "trying agan for ASASSN-15mf\n",
            "Time: 41.6229248046875 seconds\n",
            "ASASSN-15mg\n",
            "Time: 40.90514421463013 seconds\n",
            "ASASSN-15mi\n",
            "trying agan for ASASSN-15mi\n",
            "Time: 40.69433832168579 seconds\n",
            "ASASSN-15np\n",
            "trying agan for ASASSN-15np\n",
            "Time: 40.87179780006409 seconds\n",
            "ASASSN-15nq\n",
            "Time: 40.73451256752014 seconds\n",
            "ASASSN-15nr\n",
            "trying agan for ASASSN-15nr\n",
            "Time: 41.33676624298096 seconds\n",
            "ASASSN-15od\n",
            "Time: 41.05275201797485 seconds\n",
            "ASASSN-15oh\n",
            "Time: 40.735915660858154 seconds\n",
            "ASASSN-15pm\n",
            "Time: 41.69244194030762 seconds\n",
            "ASASSN-15pn\n",
            "trying agan for ASASSN-15pn\n",
            "trying agan for ASASSN-15pn\n",
            "trying agan for ASASSN-15pn\n",
            "trying agan for ASASSN-15pn\n",
            "trying agan for ASASSN-15pn\n",
            "ASASSN-15pr\n",
            "Time: 40.685261487960815 seconds\n",
            "ASASSN-15sf\n",
            "Time: 41.03260827064514 seconds\n",
            "ASASSN-15ss\n",
            "Time: 41.21587800979614 seconds\n",
            "ASASSN-15tg\n",
            "trying agan for ASASSN-15tg\n",
            "Time: 40.71773433685303 seconds\n",
            "ASASSN-15ti\n",
            "Time: 40.89401817321777 seconds\n",
            "ASASSN-15tz\n",
            "Time: 41.3802752494812 seconds\n",
            "ASASSN-15uu\n",
            "Time: 40.7588849067688 seconds\n",
            "ASASSN-15uv\n",
            "Time: 40.68869614601135 seconds\n",
            "ASASSN-15uw\n",
            "trying agan for ASASSN-15uw\n",
            "trying agan for ASASSN-15uw\n",
            "Time: 40.66841530799866 seconds\n",
            "ASASSN-16ad\n",
            "trying agan for ASASSN-16ad\n",
            "trying agan for ASASSN-16ad\n",
            "trying agan for ASASSN-16ad\n",
            "trying agan for ASASSN-16ad\n",
            "trying agan for ASASSN-16ad\n",
            "ASASSN-16aj\n",
            "Time: 40.77406191825867 seconds\n",
            "ASASSN-16av\n",
            "trying agan for ASASSN-16av\n",
            "Time: 43.39306855201721 seconds\n",
            "ASASSN-16ay\n",
            "Time: 40.6543710231781 seconds\n",
            "ASASSN-16bc\n",
            "trying agan for ASASSN-16bc\n",
            "trying agan for ASASSN-16bc\n",
            "Time: 41.40607976913452 seconds\n",
            "ASASSN-16bq\n",
            "trying agan for ASASSN-16bq\n",
            "Time: 40.63099527359009 seconds\n",
            "ASASSN-16br\n",
            "Time: 42.09633827209473 seconds\n",
            "ASASSN-16ch\n",
            "trying agan for ASASSN-16ch\n",
            "Time: 40.710559129714966 seconds\n",
            "ASASSN-16cs\n",
            "Time: 40.51246523857117 seconds\n",
            "ASASSN-16ct\n",
            "Time: 42.60431218147278 seconds\n",
            "ASASSN-16db\n",
            "Time: 41.435850381851196 seconds\n",
            "ASASSN-16dw\n",
            "Time: 42.006590604782104 seconds\n",
            "ASASSN-16em\n",
            "Time: 42.57016110420227 seconds\n",
            "ASASSN-16fo\n",
            "trying agan for ASASSN-16fo\n",
            "trying agan for ASASSN-16fo\n",
            "trying agan for ASASSN-16fo\n",
            "Time: 41.55999565124512 seconds\n",
            "ASASSN-16fs\n",
            "trying agan for ASASSN-16fs\n",
            "trying agan for ASASSN-16fs\n",
            "Time: 41.23600673675537 seconds\n",
            "ASASSN-16hc\n",
            "trying agan for ASASSN-16hc\n",
            "Time: 41.76618027687073 seconds\n",
            "ASASSN-16hr\n",
            "Time: 41.23218369483948 seconds\n",
            "ASASSN-16hz\n",
            "Time: 41.82768487930298 seconds\n",
            "ASASSN-16ip\n",
            "trying agan for ASASSN-16ip\n",
            "Time: 41.24990916252136 seconds\n",
            "ASASSN-16lg\n",
            "Time: 41.61754894256592 seconds\n",
            "ASASSN-16oz\n",
            "trying agan for ASASSN-16oz\n",
            "trying agan for ASASSN-16oz\n",
            "Time: 40.955188512802124 seconds\n",
            "ASASSN-17aj\n",
            "Time: 42.100841760635376 seconds\n",
            "ASASSN-17at\n",
            "trying agan for ASASSN-17at\n",
            "Time: 41.79132556915283 seconds\n",
            "ASASSN-17bs\n",
            "Time: 41.239989042282104 seconds\n",
            "ASASSN-17co\n",
            "Time: 41.87869954109192 seconds\n",
            "ASASSN-17eb\n",
            "Time: 40.94671988487244 seconds\n",
            "AT2016aj\n",
            "trying agan for AT2016aj\n",
            "trying agan for AT2016aj\n",
            "trying agan for AT2016aj\n",
            "Time: 41.636316537857056 seconds\n",
            "AT2016bln\n",
            "trying agan for AT2016bln\n",
            "Time: 41.103710889816284 seconds\n",
            "AT2016cor\n",
            "Time: 41.961925983428955 seconds\n",
            "AT2016cvv\n",
            "trying agan for AT2016cvv\n",
            "Time: 41.21959209442139 seconds\n",
            "AT2016cvw\n",
            "Time: 41.99011468887329 seconds\n",
            "AT2016cyt\n",
            "Time: 41.289079427719116 seconds\n",
            "AT2016eoa\n",
            "Time: 41.562498569488525 seconds\n",
            "AT2016ews\n",
            "Time: 42.36067295074463 seconds\n",
            "AT2016fbk\n",
            "Time: 41.820499658584595 seconds\n",
            "AT2016gmg\n",
            "trying agan for AT2016gmg\n",
            "Time: 42.29749321937561 seconds\n",
            "AT2016gsu\n",
            "Time: 41.439680337905884 seconds\n",
            "AT2016hns\n",
            "trying agan for AT2016hns\n",
            "Time: 41.323724031448364 seconds\n",
            "AT2016htm\n",
            "Time: 41.80401110649109 seconds\n",
            "AT2016htn\n",
            "Time: 41.26425337791443 seconds\n",
            "AT2017cfb\n",
            "Time: 41.843510389328 seconds\n",
            "AT2017cfc\n",
            "Time: 40.851113080978394 seconds\n",
            "AT2017lm\n",
            "Time: 40.72746801376343 seconds\n",
            "AT2017ns\n",
            "Time: 41.585023164749146 seconds\n",
            "AT2017oz\n",
            "Time: 40.81449866294861 seconds\n",
            "AT2017po\n",
            "trying agan for AT2017po\n",
            "Time: 40.8118679523468 seconds\n",
            "AT2017wb\n",
            "trying agan for AT2017wb\n",
            "Time: 41.115519762039185 seconds\n",
            "AT2017yk\n",
            "trying agan for AT2017yk\n",
            "Time: 41.56686329841614 seconds\n",
            "AT2017zd\n",
            "trying agan for AT2017zd\n",
            "Time: 40.89335536956787 seconds\n",
            "ATLAS16bwu\n",
            "Time: 40.977038621902466 seconds\n",
            "ATLAS16cpu\n",
            "trying agan for ATLAS16cpu\n",
            "trying agan for ATLAS16cpu\n",
            "Time: 41.07975649833679 seconds\n",
            "ATLAS16cxr\n",
            "Time: 40.97245121002197 seconds\n",
            "ATLAS16dpb\n",
            "Time: 41.94885277748108 seconds\n",
            "ATLAS16dqf\n",
            "trying agan for ATLAS16dqf\n",
            "Time: 41.11449456214905 seconds\n",
            "ATLAS17ajn\n",
            "trying agan for ATLAS17ajn\n",
            "Time: 41.58333969116211 seconds\n",
            "ATLAS17ajs\n",
            "trying agan for ATLAS17ajs\n",
            "trying agan for ATLAS17ajs\n",
            "Time: 41.71066117286682 seconds\n",
            "ATLAS17axb\n",
            "trying agan for ATLAS17axb\n",
            "Time: 41.06203031539917 seconds\n",
            "ATLAS17bas\n",
            "trying agan for ATLAS17bas\n",
            "trying agan for ATLAS17bas\n",
            "trying agan for ATLAS17bas\n",
            "trying agan for ATLAS17bas\n",
            "trying agan for ATLAS17bas\n",
            "Gaia16acv\n",
            "Time: 41.304418087005615 seconds\n",
            "Gaia16aki\n",
            "Time: 41.669848918914795 seconds\n",
            "Gaia16bba\n",
            "Time: 40.98942017555237 seconds\n",
            "MASTERJ0134\n",
            "trying agan for MASTERJ0134\n",
            "trying agan for MASTERJ0134\n",
            "trying agan for MASTERJ0134\n",
            "Time: 41.89121651649475 seconds\n",
            "PS15ahs\n",
            "trying agan for PS15ahs\n",
            "Time: 41.09171414375305 seconds\n",
            "PS15aii\n",
            "Time: 41.686875343322754 seconds\n",
            "PS15atx\n",
            "Time: 41.272974729537964 seconds\n",
            "PS15bbn\n",
            "Time: 41.970479011535645 seconds\n",
            "PS15bdr\n",
            "trying agan for PS15bdr\n",
            "Time: 42.058719873428345 seconds\n",
            "PS15bif\n",
            "Time: 41.882798194885254 seconds\n",
            "PS15bjg\n",
            "trying agan for PS15bjg\n",
            "trying agan for PS15bjg\n",
            "trying agan for PS15bjg\n",
            "Time: 41.9652373790741 seconds\n",
            "PS15brr\n",
            "Time: 42.47468018531799 seconds\n",
            "PS15bsq\n",
            "trying agan for PS15bsq\n",
            "Time: 42.10549855232239 seconds\n",
            "PS15bzz\n",
            "Time: 42.486703395843506 seconds\n",
            "PS15cku\n",
            "trying agan for PS15cku\n",
            "trying agan for PS15cku\n",
            "trying agan for PS15cku\n",
            "Time: 41.41301918029785 seconds\n",
            "PS15cms\n",
            "trying agan for PS15cms\n",
            "Time: 41.32341408729553 seconds\n",
            "PS15coh\n",
            "Time: 41.385969400405884 seconds\n",
            "PS15cwx\n",
            "Time: 41.74301338195801 seconds\n",
            "PS15cze\n",
            "Time: 41.35791230201721 seconds\n",
            "PS15mt\n",
            "trying agan for PS15mt\n",
            "trying agan for PS15mt\n",
            "Time: 41.926461696624756 seconds\n",
            "PS16aer\n",
            "Time: 40.99561786651611 seconds\n",
            "PS16axi\n",
            "Time: 41.569310426712036 seconds\n",
            "PS16ayd\n",
            "trying agan for PS16ayd\n",
            "Time: 40.925737380981445 seconds\n",
            "PS16bby\n",
            "Time: 40.8436119556427 seconds\n",
            "PS16bnz\n",
            "Time: 41.23387885093689 seconds\n",
            "PS16ccn\n",
            "trying agan for PS16ccn\n",
            "trying agan for PS16ccn\n",
            "Time: 41.289637327194214 seconds\n",
            "PS16cqa\n",
            "Time: 40.96149778366089 seconds\n",
            "PS16cvc\n",
            "Time: 40.81730389595032 seconds\n",
            "PS16dnp\n",
            "Time: 41.679425954818726 seconds\n",
            "PS16el\n",
            "Time: 40.70981979370117 seconds\n",
            "PS16em\n",
            "Time: 41.540897846221924 seconds\n",
            "PS16evk\n",
            "Time: 40.664334774017334 seconds\n",
            "PS16fa\n",
            "Time: 41.06748986244202 seconds\n",
            "PS16fbb\n",
            "Time: 41.670040130615234 seconds\n",
            "PS16n\n",
            "Time: 41.35584354400635 seconds\n",
            "PS17akj\n",
            "trying agan for PS17akj\n",
            "Time: 41.932353496551514 seconds\n",
            "PS17bii\n",
            "Time: 41.01035499572754 seconds\n",
            "PS17tn\n",
            "Time: 41.402177810668945 seconds\n",
            "PSNJ0107203\n",
            "Time: 41.83726716041565 seconds\n",
            "PSNJ0153424\n",
            "trying agan for PSNJ0153424\n",
            "Time: 42.346925497055054 seconds\n",
            "PSNJ0252467\n",
            "Time: 42.090264558792114 seconds\n",
            "PSNJ0859349\n",
            "trying agan for PSNJ0859349\n",
            "Time: 41.16558790206909 seconds\n",
            "PSNJ1204051\n",
            "Time: 41.74510097503662 seconds\n",
            "PSNJ1602512\n",
            "trying agan for PSNJ1602512\n",
            "Time: 41.02482199668884 seconds\n",
            "PSNJ2352371\n",
            "Time: 41.56062912940979 seconds\n",
            "PTSS-16efw\n",
            "trying agan for PTSS-16efw\n",
            "trying agan for PTSS-16efw\n",
            "trying agan for PTSS-16efw\n",
            "Time: 41.427992820739746 seconds\n",
            "PTSS17-niq\n",
            "Time: 41.14369511604309 seconds\n",
            "SN2016aqb\n",
            "Time: 41.216320753097534 seconds\n",
            "SN2016ayg\n",
            "Time: 42.05164933204651 seconds\n",
            "SN2016esh\n",
            "Time: 41.08370113372803 seconds\n",
            "SN2016gfr\n",
            "Time: 41.7286741733551 seconds\n",
            "SN2016gmb\n",
            "Time: 41.50510334968567 seconds\n",
            "SN2016hhv\n",
            "Time: 41.130749225616455 seconds\n",
            "SN2016hpx\n",
            "Time: 41.676968574523926 seconds\n",
            "SN2016ixf\n",
            "Time: 41.14024901390076 seconds\n",
            "SN2017cii\n",
            "trying agan for SN2017cii\n",
            "Time: 42.07958912849426 seconds\n",
            "SN2017ciy\n",
            "trying agan for SN2017ciy\n",
            "trying agan for SN2017ciy\n",
            "Time: 41.63016724586487 seconds\n",
            "SN2017cjv\n",
            "Time: 41.023483991622925 seconds\n",
            "SN2017ckx\n",
            "trying agan for SN2017ckx\n",
            "trying agan for SN2017ckx\n",
            "trying agan for SN2017ckx\n",
            "trying agan for SN2017ckx\n",
            "Time: 40.78778409957886 seconds\n",
            "SN2017coa\n",
            "trying agan for SN2017coa\n",
            "trying agan for SN2017coa\n",
            "trying agan for SN2017coa\n",
            "Time: 41.49761724472046 seconds\n",
            "SN2017cpu\n",
            "Time: 40.997944355010986 seconds\n",
            "SN2017hn\n",
            "trying agan for SN2017hn\n",
            "Time: 41.58287978172302 seconds\n",
            "SN2017jl\n",
            "Time: 40.875466108322144 seconds\n",
            "SN2017mf\n",
            "Time: 41.630237340927124 seconds\n",
            "SN2017ms\n",
            "Time: 40.850614070892334 seconds\n",
            "iPTF16auf\n",
            "Time: 41.099156856536865 seconds\n"
          ]
        }
      ],
      "source": [
        " # laplace_samples = {}\n",
        "laplace_vi_loc = {}\n",
        "laplace_vi_scale_tril = {}\n",
        "\n",
        "model_to_use = model_vi_with_params_softplus\n",
        "\n",
        "# laplace_approxes = {}\n",
        "\n",
        "# laplace_no_vi_loc = {}\n",
        "# laplace_no_vi_scale_tril = {}\n",
        "\n",
        "for sn in meta.SNID.values:\n",
        "  print(sn)\n",
        "\n",
        "  tmax = tmax_dict[sn]\n",
        "  z_helio = z_helio_dict[sn]\n",
        "  EBV_MW = mwebv_dict[sn]\n",
        "  z_cmb = z_cmb_dict[sn]\n",
        "\n",
        "  Av_obs = EBV_MW * 3.1\n",
        "  observed_fluxes, flux_errors, times_dict = get_fluxes_from_file(sn + \".dat\", tmax, z_helio)\n",
        "\n",
        "  # Calculate band-dependent quantities (Jl, Jt, xis, S0, etc.)\n",
        "  band_Jt, band_Jl, band_xis_matrix, band_S0, band_h = calculate_band_dependent_stuff(times_dict, z_helio, Av_obs)\n",
        "  mu_mean = torch.as_tensor(cosmo.distmod(z_cmb).value).to(device)\n",
        "\n",
        "  # try:\n",
        "  #   start_time = measure_time.time()\n",
        "  #   # Fit Laplace Approximation\n",
        "\n",
        "  #   # autoguide_laplace1 = pyro.infer.autoguide.AutoLaplaceApproximation(model_vi_with_params_faster)\n",
        "  #   # train_with_params_faster(model_vi_with_params_faster, autoguide_laplace1, observed_fluxes, mu_mean, \n",
        "  #   #                 band_Jl, band_Jt, band_xis_matrix, band_S0, band_h, flux_errors, n_steps=3000, verbose = True)\n",
        "      \n",
        "  #   # first_laplace_guide = autoguide_laplace1.laplace_approximation(observed_fluxes, mu_mean, \n",
        "  #   #                 band_Jl, band_Jt, band_xis_matrix, band_S0, band_h, flux_errors,)\n",
        "\n",
        "  #   # # print(first_laplace_guide.get_posterior().loc.numpy()[-2])\n",
        "\n",
        "  #   # laplace_no_vi_loc[sn] = first_laplace_guide.get_posterior().loc.numpy()\n",
        "  #   # laplace_no_vi_scale_tril[sn] = first_laplace_guide.get_posterior().scale_tril.numpy()\n",
        "\n",
        "  #   autoguide_laplace = pyro.infer.autoguide.AutoLaplaceApproximation(model_to_use)\n",
        "  #   train_with_params_faster(model_to_use, autoguide_laplace, observed_fluxes, mu_mean, \n",
        "  #                 band_Jl, band_Jt, band_xis_matrix, band_S0, band_h, flux_errors, n_steps=3000, verbose = True)\n",
        "    \n",
        "\n",
        "  #   # Fit VI based on Laplace Approximation\n",
        "  #   new_laplace_approx_guide = autoguide_laplace.laplace_approximation(observed_fluxes, mu_mean, \n",
        "  #                 band_Jl, band_Jt, band_xis_matrix, band_S0, band_h, flux_errors,)\n",
        "    \n",
        "\n",
        "  #   train_with_params_faster(model_to_use, new_laplace_approx_guide, observed_fluxes, mu_mean, \n",
        "  #                 band_Jl, band_Jt, band_xis_matrix, band_S0, band_h, flux_errors, n_steps=6000, verbose = True)\n",
        "    \n",
        "  #   laplace_vi_loc[sn] = new_laplace_approx_guide.get_posterior().loc.numpy()\n",
        "  #   laplace_vi_scale_tril[sn] = new_laplace_approx_guide.get_posterior().scale_tril.numpy()\n",
        "\n",
        "  #   end_time = measure_time.time()\n",
        "  #   print(\"Time:\", end_time - start_time, \"seconds\")\n",
        "\n",
        "  #   np.save(\"foundation_loc_softplus_081522_T21.npy\", laplace_vi_loc)\n",
        "  #   np.save(\"foundation_scale_tril_softplus_081522_T21.npy\", laplace_vi_scale_tril)\n",
        "\n",
        "  # except:\n",
        "  fit = False\n",
        "  count = 0\n",
        "  while fit == False and count < 5:\n",
        "    try:\n",
        "      count += 1\n",
        "\n",
        "      start_time = measure_time.time()\n",
        "\n",
        "      autoguide_laplace = pyro.infer.autoguide.AutoLaplaceApproximation(model_to_use)\n",
        "      train_with_params_faster(model_to_use, autoguide_laplace, observed_fluxes, mu_mean, \n",
        "                    band_Jl, band_Jt, band_xis_matrix, band_S0, band_h, flux_errors, n_steps=3000, verbose = True)\n",
        "    \n",
        "\n",
        "      # Fit VI based on Laplace Approximation\n",
        "      new_laplace_approx_guide = autoguide_laplace.laplace_approximation(observed_fluxes, mu_mean, \n",
        "                    band_Jl, band_Jt, band_xis_matrix, band_S0, band_h, flux_errors,)\n",
        "\n",
        "\n",
        "      train_with_params_faster(model_to_use, new_laplace_approx_guide, observed_fluxes, mu_mean, \n",
        "                    band_Jl, band_Jt, band_xis_matrix, band_S0, band_h, flux_errors, n_steps=6000, verbose = True)\n",
        "    \n",
        "      end_time = measure_time.time()\n",
        "      print(\"Time:\", end_time - start_time, \"seconds\")\n",
        "\n",
        "      laplace_vi_loc[sn] = new_laplace_approx_guide.get_posterior().loc.numpy()\n",
        "      laplace_vi_scale_tril[sn] = new_laplace_approx_guide.get_posterior().scale_tril.numpy()\n",
        "\n",
        "      np.save(\"foundation_loc_softplus_081522_T21.npy\", laplace_vi_loc)\n",
        "      np.save(\"foundation_scale_tril_softplus_081522_T21.npy\", laplace_vi_scale_tril)\n",
        "      fit = True\n",
        "    except:\n",
        "      print(\"trying agan for\", sn)"
      ]
    },
    {
      "cell_type": "code",
      "source": [
        "from google.colab import files\n",
        "files.download(\"foundation_loc_softplus_081522_T21.npy\")\n",
        "files.download(\"foundation_scale_tril_softplus_081522_T21.npy\")"
      ],
      "metadata": {
        "colab": {
          "base_uri": "https://localhost:8080/",
          "height": 17
        },
        "id": "9hqJUrZYdQNs",
        "outputId": "a2949f9a-beb1-49f2-f413-8fcff7e51ed2"
      },
      "execution_count": 25,
      "outputs": [
        {
          "output_type": "display_data",
          "data": {
            "text/plain": [
              "<IPython.core.display.Javascript object>"
            ],
            "application/javascript": [
              "\n",
              "    async function download(id, filename, size) {\n",
              "      if (!google.colab.kernel.accessAllowed) {\n",
              "        return;\n",
              "      }\n",
              "      const div = document.createElement('div');\n",
              "      const label = document.createElement('label');\n",
              "      label.textContent = `Downloading \"${filename}\": `;\n",
              "      div.appendChild(label);\n",
              "      const progress = document.createElement('progress');\n",
              "      progress.max = size;\n",
              "      div.appendChild(progress);\n",
              "      document.body.appendChild(div);\n",
              "\n",
              "      const buffers = [];\n",
              "      let downloaded = 0;\n",
              "\n",
              "      const channel = await google.colab.kernel.comms.open(id);\n",
              "      // Send a message to notify the kernel that we're ready.\n",
              "      channel.send({})\n",
              "\n",
              "      for await (const message of channel.messages) {\n",
              "        // Send a message to notify the kernel that we're ready.\n",
              "        channel.send({})\n",
              "        if (message.buffers) {\n",
              "          for (const buffer of message.buffers) {\n",
              "            buffers.push(buffer);\n",
              "            downloaded += buffer.byteLength;\n",
              "            progress.value = downloaded;\n",
              "          }\n",
              "        }\n",
              "      }\n",
              "      const blob = new Blob(buffers, {type: 'application/binary'});\n",
              "      const a = document.createElement('a');\n",
              "      a.href = window.URL.createObjectURL(blob);\n",
              "      a.download = filename;\n",
              "      div.appendChild(a);\n",
              "      a.click();\n",
              "      div.remove();\n",
              "    }\n",
              "  "
            ]
          },
          "metadata": {}
        },
        {
          "output_type": "display_data",
          "data": {
            "text/plain": [
              "<IPython.core.display.Javascript object>"
            ],
            "application/javascript": [
              "download(\"download_4fbb3e63-9a83-4dd8-838f-5645b17f2d11\", \"foundation_loc_softplus_081522_T21.npy\", 44170)"
            ]
          },
          "metadata": {}
        },
        {
          "output_type": "display_data",
          "data": {
            "text/plain": [
              "<IPython.core.display.Javascript object>"
            ],
            "application/javascript": [
              "\n",
              "    async function download(id, filename, size) {\n",
              "      if (!google.colab.kernel.accessAllowed) {\n",
              "        return;\n",
              "      }\n",
              "      const div = document.createElement('div');\n",
              "      const label = document.createElement('label');\n",
              "      label.textContent = `Downloading \"${filename}\": `;\n",
              "      div.appendChild(label);\n",
              "      const progress = document.createElement('progress');\n",
              "      progress.max = size;\n",
              "      div.appendChild(progress);\n",
              "      document.body.appendChild(div);\n",
              "\n",
              "      const buffers = [];\n",
              "      let downloaded = 0;\n",
              "\n",
              "      const channel = await google.colab.kernel.comms.open(id);\n",
              "      // Send a message to notify the kernel that we're ready.\n",
              "      channel.send({})\n",
              "\n",
              "      for await (const message of channel.messages) {\n",
              "        // Send a message to notify the kernel that we're ready.\n",
              "        channel.send({})\n",
              "        if (message.buffers) {\n",
              "          for (const buffer of message.buffers) {\n",
              "            buffers.push(buffer);\n",
              "            downloaded += buffer.byteLength;\n",
              "            progress.value = downloaded;\n",
              "          }\n",
              "        }\n",
              "      }\n",
              "      const blob = new Blob(buffers, {type: 'application/binary'});\n",
              "      const a = document.createElement('a');\n",
              "      a.href = window.URL.createObjectURL(blob);\n",
              "      a.download = filename;\n",
              "      div.appendChild(a);\n",
              "      a.click();\n",
              "      div.remove();\n",
              "    }\n",
              "  "
            ]
          },
          "metadata": {}
        },
        {
          "output_type": "display_data",
          "data": {
            "text/plain": [
              "<IPython.core.display.Javascript object>"
            ],
            "application/javascript": [
              "download(\"download_d212f119-aaad-498e-bd6b-a5515e23f676\", \"foundation_scale_tril_softplus_081522_T21.npy\", 909804)"
            ]
          },
          "metadata": {}
        }
      ]
    },
    {
      "cell_type": "code",
      "source": [
        "laplace_vi_loc = {}\n",
        "laplace_vi_scale_tril = {}\n",
        "\n",
        "model_to_use = model_vi_with_params_faster_asym_laplace\n",
        "\n",
        "# laplace_approxes = {}\n",
        "\n",
        "# laplace_no_vi_loc = {}\n",
        "# laplace_no_vi_scale_tril = {}\n",
        "\n",
        "for sn in meta.SNID.values:\n",
        "  print(sn)\n",
        "\n",
        "  tmax = tmax_dict[sn]\n",
        "  z_helio = z_helio_dict[sn]\n",
        "  EBV_MW = mwebv_dict[sn]\n",
        "  z_cmb = z_cmb_dict[sn]\n",
        "\n",
        "  Av_obs = EBV_MW * 3.1\n",
        "  observed_fluxes, flux_errors, times_dict = get_fluxes_from_file(sn + \".dat\", tmax, z_helio)\n",
        "\n",
        "  # Calculate band-dependent quantities (Jl, Jt, xis, S0, etc.)\n",
        "  band_Jt, band_Jl, band_xis_matrix, band_S0, band_h = calculate_band_dependent_stuff(times_dict, z_helio, Av_obs)\n",
        "  mu_mean = torch.as_tensor(cosmo.distmod(z_cmb).value).to(device)\n",
        "\n",
        "  # try:\n",
        "  #   start_time = measure_time.time()\n",
        "  #   # Fit Laplace Approximation\n",
        "\n",
        "  #   # autoguide_laplace1 = pyro.infer.autoguide.AutoLaplaceApproximation(model_vi_with_params_faster)\n",
        "  #   # train_with_params_faster(model_vi_with_params_faster, autoguide_laplace1, observed_fluxes, mu_mean, \n",
        "  #   #                 band_Jl, band_Jt, band_xis_matrix, band_S0, band_h, flux_errors, n_steps=3000, verbose = True)\n",
        "      \n",
        "  #   # first_laplace_guide = autoguide_laplace1.laplace_approximation(observed_fluxes, mu_mean, \n",
        "  #   #                 band_Jl, band_Jt, band_xis_matrix, band_S0, band_h, flux_errors,)\n",
        "\n",
        "  #   # # print(first_laplace_guide.get_posterior().loc.numpy()[-2])\n",
        "\n",
        "  #   # laplace_no_vi_loc[sn] = first_laplace_guide.get_posterior().loc.numpy()\n",
        "  #   # laplace_no_vi_scale_tril[sn] = first_laplace_guide.get_posterior().scale_tril.numpy()\n",
        "\n",
        "  autoguide_laplace = pyro.infer.autoguide.AutoLaplaceApproximation(model_to_use)\n",
        "  train_with_params_faster(model_to_use, autoguide_laplace, observed_fluxes, mu_mean, \n",
        "                band_Jl, band_Jt, band_xis_matrix, band_S0, band_h, flux_errors, n_steps=3000, verbose = True)\n",
        "  \n",
        "\n",
        "  # Fit VI based on Laplace Approximation\n",
        "  new_laplace_approx_guide = autoguide_laplace.laplace_approximation(observed_fluxes, mu_mean, \n",
        "                band_Jl, band_Jt, band_xis_matrix, band_S0, band_h, flux_errors,)\n",
        "  \n",
        "\n",
        "  train_with_params_faster(model_to_use, new_laplace_approx_guide, observed_fluxes, mu_mean, \n",
        "                band_Jl, band_Jt, band_xis_matrix, band_S0, band_h, flux_errors, n_steps=6000, verbose = True)\n",
        "  \n",
        "  laplace_vi_loc[sn] = new_laplace_approx_guide.get_posterior().loc.numpy()\n",
        "  laplace_vi_scale_tril[sn] = new_laplace_approx_guide.get_posterior().scale_tril.numpy()\n",
        "\n",
        "  #   end_time = measure_time.time()\n",
        "  #   print(\"Time:\", end_time - start_time, \"seconds\")\n",
        "\n",
        "  #   np.save(\"foundation_loc_softplus_081522_T21.npy\", laplace_vi_loc)\n",
        "  #   np.save(\"foundation_scale_tril_softplus_081522_T21.npy\", laplace_vi_scale_tril)\n",
        "\n",
        "  # except:\n",
        "  fit = False\n",
        "  count = 0\n",
        "  while fit == False and count < 5:\n",
        "    try:\n",
        "      count += 1\n",
        "\n",
        "      start_time = measure_time.time()\n",
        "\n",
        "      autoguide_laplace = pyro.infer.autoguide.AutoLaplaceApproximation(model_to_use)\n",
        "      train_with_params_faster(model_to_use, autoguide_laplace, observed_fluxes, mu_mean, \n",
        "                    band_Jl, band_Jt, band_xis_matrix, band_S0, band_h, flux_errors, n_steps=3000, verbose = True)\n",
        "    \n",
        "\n",
        "      # Fit VI based on Laplace Approximation\n",
        "      new_laplace_approx_guide = autoguide_laplace.laplace_approximation(observed_fluxes, mu_mean, \n",
        "                    band_Jl, band_Jt, band_xis_matrix, band_S0, band_h, flux_errors,)\n",
        "\n",
        "\n",
        "      train_with_params_faster(model_to_use, new_laplace_approx_guide, observed_fluxes, mu_mean, \n",
        "                    band_Jl, band_Jt, band_xis_matrix, band_S0, band_h, flux_errors, n_steps=6000, verbose = True)\n",
        "    \n",
        "      end_time = measure_time.time()\n",
        "      print(\"Time:\", end_time - start_time, \"seconds\")\n",
        "\n",
        "      laplace_vi_loc[sn] = new_laplace_approx_guide.get_posterior().loc.numpy()\n",
        "      laplace_vi_scale_tril[sn] = new_laplace_approx_guide.get_posterior().scale_tril.numpy()\n",
        "\n",
        "      np.save(\"foundation_loc_asym_laplace_081522_T21.npy\", laplace_vi_loc)\n",
        "      np.save(\"foundation_scale_tril_asym_laplace_081522_T21.npy\", laplace_vi_scale_tril)\n",
        "      fit = True\n",
        "    except:\n",
        "      print(\"trying agan for\", sn)"
      ],
      "metadata": {
        "colab": {
          "base_uri": "https://localhost:8080/"
        },
        "id": "l-gD7zy0dYxU",
        "outputId": "980fd9b5-2e62-4ddb-bbce-c339aa18ebfa"
      },
      "execution_count": 30,
      "outputs": [
        {
          "output_type": "stream",
          "name": "stdout",
          "text": [
            "2016W\n",
            "Time: 40.43845987319946 seconds\n",
            "2016afk\n",
            "Time: 40.49022054672241 seconds\n",
            "ASASSN-15bc\n",
            "Time: 41.18005442619324 seconds\n",
            "ASASSN-15fa\n",
            "Time: 40.85931897163391 seconds\n",
            "ASASSN-15fs\n",
            "Time: 40.57509136199951 seconds\n",
            "ASASSN-15go\n",
            "Time: 40.29108190536499 seconds\n",
            "ASASSN-15hg\n",
            "Time: 40.21442723274231 seconds\n",
            "ASASSN-15il\n",
            "Time: 41.02965688705444 seconds\n",
            "ASASSN-15jl\n",
            "Time: 41.00927257537842 seconds\n",
            "ASASSN-15jt\n",
            "Time: 40.520867586135864 seconds\n",
            "ASASSN-15kx\n",
            "Time: 40.205726861953735 seconds\n",
            "ASASSN-15la\n",
            "Time: 40.24335718154907 seconds\n",
            "ASASSN-15lg\n",
            "Time: 40.74611949920654 seconds\n",
            "ASASSN-15lu\n",
            "Time: 40.84988474845886 seconds\n",
            "ASASSN-15mf\n",
            "Time: 40.87307333946228 seconds\n",
            "ASASSN-15mg\n",
            "Time: 40.41318130493164 seconds\n",
            "ASASSN-15mi\n",
            "Time: 40.18833589553833 seconds\n",
            "ASASSN-15np\n",
            "Time: 40.039897203445435 seconds\n",
            "ASASSN-15nq\n",
            "Time: 40.56225252151489 seconds\n",
            "ASASSN-15nr\n",
            "Time: 40.50573492050171 seconds\n",
            "ASASSN-15od\n",
            "Time: 40.01650810241699 seconds\n",
            "ASASSN-15oh\n",
            "Time: 40.049864053726196 seconds\n",
            "ASASSN-15pm\n",
            "Time: 40.136507511138916 seconds\n",
            "ASASSN-15pn\n",
            "Time: 40.087135314941406 seconds\n",
            "ASASSN-15pr\n",
            "Time: 40.6291081905365 seconds\n",
            "ASASSN-15sf\n",
            "Time: 40.69292712211609 seconds\n",
            "ASASSN-15ss\n",
            "Time: 39.942721366882324 seconds\n",
            "ASASSN-15tg\n",
            "Time: 40.008851289749146 seconds\n",
            "ASASSN-15ti\n",
            "Time: 39.92329120635986 seconds\n",
            "ASASSN-15tz\n",
            "Time: 40.69695067405701 seconds\n",
            "ASASSN-15uu\n",
            "Time: 40.54378867149353 seconds\n",
            "ASASSN-15uv\n",
            "Time: 40.75707697868347 seconds\n",
            "ASASSN-15uw\n",
            "Time: 40.318546295166016 seconds\n",
            "ASASSN-16ad\n",
            "Time: 40.14139246940613 seconds\n",
            "ASASSN-16aj\n",
            "Time: 40.311596393585205 seconds\n",
            "ASASSN-16av\n",
            "Time: 40.2697274684906 seconds\n",
            "ASASSN-16ay\n",
            "Time: 40.89181303977966 seconds\n",
            "ASASSN-16bc\n",
            "Time: 40.88843083381653 seconds\n",
            "ASASSN-16bq\n",
            "Time: 40.16907286643982 seconds\n",
            "ASASSN-16br\n",
            "Time: 40.14231991767883 seconds\n",
            "ASASSN-16ch\n",
            "Time: 40.040096044540405 seconds\n",
            "ASASSN-16cs\n",
            "Time: 39.96705222129822 seconds\n",
            "ASASSN-16ct\n",
            "Time: 40.463839530944824 seconds\n",
            "ASASSN-16db\n",
            "Time: 40.28318405151367 seconds\n",
            "ASASSN-16dw\n",
            "Time: 39.900306224823 seconds\n",
            "ASASSN-16em\n",
            "Time: 39.853663206100464 seconds\n",
            "ASASSN-16fo\n",
            "Time: 40.441197633743286 seconds\n",
            "ASASSN-16fs\n",
            "Time: 39.477274656295776 seconds\n",
            "ASASSN-16hc\n",
            "Time: 40.1779990196228 seconds\n",
            "ASASSN-16hr\n",
            "Time: 40.17390966415405 seconds\n",
            "ASASSN-16hz\n",
            "Time: 39.379676818847656 seconds\n",
            "ASASSN-16ip\n",
            "Time: 39.59462881088257 seconds\n",
            "ASASSN-16lg\n",
            "Time: 39.50714159011841 seconds\n",
            "ASASSN-16oz\n",
            "Time: 39.61709403991699 seconds\n",
            "ASASSN-17aj\n",
            "Time: 40.16816735267639 seconds\n",
            "ASASSN-17at\n",
            "Time: 40.148032426834106 seconds\n",
            "ASASSN-17bs\n",
            "Time: 39.64638018608093 seconds\n",
            "ASASSN-17co\n",
            "Time: 39.62705135345459 seconds\n",
            "ASASSN-17eb\n",
            "Time: 39.566925048828125 seconds\n",
            "AT2016aj\n",
            "Time: 40.1380500793457 seconds\n",
            "AT2016bln\n",
            "Time: 40.29154348373413 seconds\n",
            "AT2016cor\n",
            "Time: 40.2044632434845 seconds\n",
            "AT2016cvv\n",
            "Time: 39.558274030685425 seconds\n",
            "AT2016cvw\n",
            "Time: 40.25432515144348 seconds\n",
            "AT2016cyt\n",
            "Time: 40.02467966079712 seconds\n",
            "AT2016eoa\n",
            "Time: 40.35494256019592 seconds\n",
            "AT2016ews\n",
            "Time: 40.27352166175842 seconds\n",
            "AT2016fbk\n",
            "Time: 39.83280324935913 seconds\n",
            "AT2016gmg\n",
            "Time: 39.57738780975342 seconds\n",
            "AT2016gsu\n",
            "Time: 39.809101819992065 seconds\n",
            "AT2016hns\n",
            "Time: 39.613749980926514 seconds\n",
            "AT2016htm\n",
            "Time: 40.12371516227722 seconds\n",
            "AT2016htn\n",
            "Time: 40.327940940856934 seconds\n",
            "AT2017cfb\n",
            "Time: 39.6937050819397 seconds\n",
            "AT2017cfc\n",
            "Time: 39.64437699317932 seconds\n",
            "AT2017lm\n",
            "Time: 39.61883783340454 seconds\n",
            "AT2017ns\n",
            "Time: 39.6896607875824 seconds\n",
            "AT2017oz\n",
            "Time: 40.18159055709839 seconds\n",
            "AT2017po\n",
            "Time: 40.131951332092285 seconds\n",
            "AT2017wb\n",
            "Time: 39.84746980667114 seconds\n",
            "AT2017yk\n",
            "Time: 39.617448568344116 seconds\n",
            "AT2017zd\n",
            "Time: 39.72143292427063 seconds\n",
            "ATLAS16bwu\n",
            "Time: 40.25035905838013 seconds\n",
            "ATLAS16cpu\n",
            "Time: 40.254143476486206 seconds\n",
            "ATLAS16cxr\n",
            "Time: 39.58061695098877 seconds\n",
            "ATLAS16dpb\n",
            "Time: 39.542152404785156 seconds\n",
            "ATLAS16dqf\n",
            "Time: 39.43696618080139 seconds\n",
            "ATLAS17ajn\n",
            "Time: 39.554405212402344 seconds\n",
            "ATLAS17ajs\n",
            "Time: 40.28909683227539 seconds\n",
            "ATLAS17axb\n",
            "Time: 40.36227345466614 seconds\n",
            "ATLAS17bas\n",
            "Time: 39.52902579307556 seconds\n",
            "Gaia16acv\n",
            "Time: 39.824649810791016 seconds\n",
            "Gaia16aki\n",
            "Time: 39.75216102600098 seconds\n",
            "Gaia16bba\n",
            "Time: 40.034759283065796 seconds\n",
            "MASTERJ0134\n",
            "Time: 40.117286920547485 seconds\n",
            "PS15ahs\n",
            "Time: 39.53377652168274 seconds\n",
            "PS15aii\n",
            "Time: 39.57747673988342 seconds\n",
            "PS15atx\n",
            "Time: 39.53498959541321 seconds\n",
            "PS15bbn\n",
            "Time: 40.36417007446289 seconds\n",
            "PS15bdr\n",
            "Time: 40.14934730529785 seconds\n",
            "PS15bif\n",
            "Time: 40.09896278381348 seconds\n",
            "PS15bjg\n",
            "Time: 39.49660634994507 seconds\n",
            "PS15brr\n",
            "Time: 39.522300720214844 seconds\n",
            "PS15bsq\n",
            "Time: 39.410407304763794 seconds\n",
            "PS15bzz\n",
            "Time: 40.227428913116455 seconds\n",
            "PS15cku\n",
            "Time: 40.27643609046936 seconds\n",
            "PS15cms\n",
            "Time: 39.68403720855713 seconds\n",
            "PS15coh\n",
            "Time: 39.762470722198486 seconds\n",
            "PS15cwx\n",
            "Time: 39.60392618179321 seconds\n",
            "PS15cze\n",
            "Time: 40.322296142578125 seconds\n",
            "PS15mt\n",
            "Time: 40.201433181762695 seconds\n",
            "PS16aer\n",
            "Time: 39.62572002410889 seconds\n",
            "PS16axi\n",
            "Time: 39.577080965042114 seconds\n",
            "PS16ayd\n",
            "Time: 39.60352325439453 seconds\n",
            "PS16bby\n",
            "Time: 40.21973752975464 seconds\n",
            "PS16bnz\n",
            "Time: 40.01711821556091 seconds\n",
            "PS16ccn\n",
            "Time: 39.55474901199341 seconds\n",
            "PS16cqa\n",
            "Time: 39.492368936538696 seconds\n",
            "PS16cvc\n",
            "Time: 39.739198207855225 seconds\n",
            "PS16dnp\n",
            "Time: 40.21218824386597 seconds\n",
            "PS16el\n",
            "Time: 39.96332383155823 seconds\n",
            "PS16em\n",
            "Time: 39.61185359954834 seconds\n",
            "PS16evk\n",
            "Time: 39.52373480796814 seconds\n",
            "PS16fa\n",
            "Time: 40.185214042663574 seconds\n",
            "PS16fbb\n",
            "Time: 40.13618850708008 seconds\n",
            "PS16n\n",
            "Time: 39.57206678390503 seconds\n",
            "PS17akj\n",
            "Time: 39.41480255126953 seconds\n",
            "PS17bii\n",
            "Time: 39.56390118598938 seconds\n",
            "PS17tn\n",
            "Time: 40.29667520523071 seconds\n",
            "PSNJ0107203\n",
            "Time: 40.121094942092896 seconds\n",
            "PSNJ0153424\n",
            "Time: 39.662620544433594 seconds\n",
            "PSNJ0252467\n",
            "Time: 39.42207312583923 seconds\n",
            "PSNJ0859349\n",
            "Time: 40.198694705963135 seconds\n",
            "PSNJ1204051\n",
            "Time: 40.16638112068176 seconds\n",
            "PSNJ1602512\n",
            "Time: 39.56882119178772 seconds\n",
            "PSNJ2352371\n",
            "Time: 39.66004776954651 seconds\n",
            "PTSS-16efw\n",
            "Time: 39.57416796684265 seconds\n",
            "PTSS17-niq\n",
            "Time: 40.25374674797058 seconds\n",
            "SN2016aqb\n",
            "Time: 40.35886263847351 seconds\n",
            "SN2016ayg\n",
            "Time: 39.51059675216675 seconds\n",
            "SN2016esh\n",
            "Time: 39.389636516571045 seconds\n",
            "SN2016gfr\n",
            "Time: 40.14398503303528 seconds\n",
            "SN2016gmb\n",
            "Time: 40.03911232948303 seconds\n",
            "SN2016hhv\n",
            "Time: 39.35015320777893 seconds\n",
            "SN2016hpx\n",
            "Time: 39.511274576187134 seconds\n",
            "SN2016ixf\n",
            "Time: 40.14215588569641 seconds\n",
            "SN2017cii\n",
            "Time: 40.188048362731934 seconds\n",
            "SN2017ciy\n",
            "Time: 39.60359191894531 seconds\n",
            "SN2017cjv\n",
            "Time: 39.55132579803467 seconds\n",
            "SN2017ckx\n",
            "Time: 39.49776220321655 seconds\n",
            "SN2017coa\n",
            "Time: 40.1043918132782 seconds\n",
            "SN2017cpu\n",
            "Time: 39.62088966369629 seconds\n",
            "SN2017hn\n",
            "Time: 39.49994397163391 seconds\n",
            "SN2017jl\n",
            "Time: 39.69924879074097 seconds\n",
            "SN2017mf\n",
            "Time: 40.17939877510071 seconds\n",
            "SN2017ms\n",
            "Time: 39.43433094024658 seconds\n",
            "iPTF16auf\n",
            "Time: 39.72845458984375 seconds\n"
          ]
        }
      ]
    },
    {
      "cell_type": "code",
      "source": [
        "files.download(\"foundation_loc_asym_laplace_081522_T21.npy\")\n",
        "files.download(\"foundation_scale_tril_asym_laplace_081522_T21.npy\")"
      ],
      "metadata": {
        "colab": {
          "base_uri": "https://localhost:8080/",
          "height": 17
        },
        "id": "ah15UGYWd8ws",
        "outputId": "4483205b-fd53-4e63-ece7-877ad832d20a"
      },
      "execution_count": 31,
      "outputs": [
        {
          "output_type": "display_data",
          "data": {
            "text/plain": [
              "<IPython.core.display.Javascript object>"
            ],
            "application/javascript": [
              "\n",
              "    async function download(id, filename, size) {\n",
              "      if (!google.colab.kernel.accessAllowed) {\n",
              "        return;\n",
              "      }\n",
              "      const div = document.createElement('div');\n",
              "      const label = document.createElement('label');\n",
              "      label.textContent = `Downloading \"${filename}\": `;\n",
              "      div.appendChild(label);\n",
              "      const progress = document.createElement('progress');\n",
              "      progress.max = size;\n",
              "      div.appendChild(progress);\n",
              "      document.body.appendChild(div);\n",
              "\n",
              "      const buffers = [];\n",
              "      let downloaded = 0;\n",
              "\n",
              "      const channel = await google.colab.kernel.comms.open(id);\n",
              "      // Send a message to notify the kernel that we're ready.\n",
              "      channel.send({})\n",
              "\n",
              "      for await (const message of channel.messages) {\n",
              "        // Send a message to notify the kernel that we're ready.\n",
              "        channel.send({})\n",
              "        if (message.buffers) {\n",
              "          for (const buffer of message.buffers) {\n",
              "            buffers.push(buffer);\n",
              "            downloaded += buffer.byteLength;\n",
              "            progress.value = downloaded;\n",
              "          }\n",
              "        }\n",
              "      }\n",
              "      const blob = new Blob(buffers, {type: 'application/binary'});\n",
              "      const a = document.createElement('a');\n",
              "      a.href = window.URL.createObjectURL(blob);\n",
              "      a.download = filename;\n",
              "      div.appendChild(a);\n",
              "      a.click();\n",
              "      div.remove();\n",
              "    }\n",
              "  "
            ]
          },
          "metadata": {}
        },
        {
          "output_type": "display_data",
          "data": {
            "text/plain": [
              "<IPython.core.display.Javascript object>"
            ],
            "application/javascript": [
              "download(\"download_aff5c608-e1fd-4ea7-92fe-74db4d3ce055\", \"foundation_loc_asym_laplace_081522_T21.npy\", 45042)"
            ]
          },
          "metadata": {}
        },
        {
          "output_type": "display_data",
          "data": {
            "text/plain": [
              "<IPython.core.display.Javascript object>"
            ],
            "application/javascript": [
              "\n",
              "    async function download(id, filename, size) {\n",
              "      if (!google.colab.kernel.accessAllowed) {\n",
              "        return;\n",
              "      }\n",
              "      const div = document.createElement('div');\n",
              "      const label = document.createElement('label');\n",
              "      label.textContent = `Downloading \"${filename}\": `;\n",
              "      div.appendChild(label);\n",
              "      const progress = document.createElement('progress');\n",
              "      progress.max = size;\n",
              "      div.appendChild(progress);\n",
              "      document.body.appendChild(div);\n",
              "\n",
              "      const buffers = [];\n",
              "      let downloaded = 0;\n",
              "\n",
              "      const channel = await google.colab.kernel.comms.open(id);\n",
              "      // Send a message to notify the kernel that we're ready.\n",
              "      channel.send({})\n",
              "\n",
              "      for await (const message of channel.messages) {\n",
              "        // Send a message to notify the kernel that we're ready.\n",
              "        channel.send({})\n",
              "        if (message.buffers) {\n",
              "          for (const buffer of message.buffers) {\n",
              "            buffers.push(buffer);\n",
              "            downloaded += buffer.byteLength;\n",
              "            progress.value = downloaded;\n",
              "          }\n",
              "        }\n",
              "      }\n",
              "      const blob = new Blob(buffers, {type: 'application/binary'});\n",
              "      const a = document.createElement('a');\n",
              "      a.href = window.URL.createObjectURL(blob);\n",
              "      a.download = filename;\n",
              "      div.appendChild(a);\n",
              "      a.click();\n",
              "      div.remove();\n",
              "    }\n",
              "  "
            ]
          },
          "metadata": {}
        },
        {
          "output_type": "display_data",
          "data": {
            "text/plain": [
              "<IPython.core.display.Javascript object>"
            ],
            "application/javascript": [
              "download(\"download_33bd8e54-986d-4c67-9aee-d9f29669c098\", \"foundation_scale_tril_asym_laplace_081522_T21.npy\", 927539)"
            ]
          },
          "metadata": {}
        }
      ]
    },
    {
      "cell_type": "code",
      "execution_count": null,
      "metadata": {
        "colab": {
          "base_uri": "https://localhost:8080/"
        },
        "id": "O6wtOFza9gyv",
        "outputId": "79112b28-015b-4eba-e3de-5406eee0091a"
      },
      "outputs": [
        {
          "data": {
            "text/plain": [
              "157"
            ]
          },
          "execution_count": 28,
          "metadata": {},
          "output_type": "execute_result"
        }
      ],
      "source": [
        "len(list(laplace_vi_loc.keys()))"
      ]
    },
    {
      "cell_type": "markdown",
      "metadata": {
        "id": "sZYgCHXKwmq2"
      },
      "source": [
        "## Make Hubble Diagram"
      ]
    },
    {
      "cell_type": "code",
      "execution_count": 3,
      "metadata": {
        "id": "6qqGfPsIEcfA"
      },
      "outputs": [],
      "source": [
        "# vi_loc_dict = np.load(\"foundation_vi_loc.npy\", allow_pickle = True).item()\n",
        "# laplace_vi_loc_dict = np.load(\"laplace_vi_loc_redo.npy\", allow_pickle = True).item()\n",
        "# laplace_vi_scale_tril_dict = np.load(\"laplace_vi_scale_tril_redo.npy\", allow_pickle = True).item()\n",
        "laplace_vi_loc_dict = np.load(\"/content/foundation_laplace_vi_loc_080222_T21.npy\", allow_pickle = True).item()\n",
        "laplace_vi_scale_tril_dict = np.load(\"/content/foundation_laplace_vi_scale_tril_080222_T21.npy\", allow_pickle = True).item()\n",
        "# vi_scale_tril_dict = np.load(\"foundation_vi_scale_tril.npy\", allow_pickle = True).item()"
      ]
    },
    {
      "cell_type": "code",
      "execution_count": 4,
      "metadata": {
        "colab": {
          "base_uri": "https://localhost:8080/"
        },
        "id": "ln3w4bpnvwml",
        "outputId": "b27ca452-b0c8-47e4-85b1-cc4f13530f3d"
      },
      "outputs": [
        {
          "output_type": "execute_result",
          "data": {
            "text/plain": [
              "157"
            ]
          },
          "metadata": {},
          "execution_count": 4
        }
      ],
      "source": [
        "len(laplace_vi_loc_dict)"
      ]
    },
    {
      "cell_type": "code",
      "execution_count": 8,
      "metadata": {
        "colab": {
          "base_uri": "https://localhost:8080/"
        },
        "id": "h2ZTsermQPhG",
        "outputId": "5d964b1f-18f3-430f-c03b-6d82f98bbef4"
      },
      "outputs": [
        {
          "output_type": "execute_result",
          "data": {
            "text/plain": [
              "34"
            ]
          },
          "metadata": {},
          "execution_count": 8
        }
      ],
      "source": [
        "list(meta.SNID.values).index('ASASSN-16aj')"
      ]
    },
    {
      "cell_type": "code",
      "execution_count": 6,
      "metadata": {
        "id": "_U3wUERoWD74"
      },
      "outputs": [],
      "source": [
        "# for sn in meta.SNID.values[34:35]:\n",
        "#   print(sn)\n",
        "\n",
        "#   tmax = tmax_dict[sn]\n",
        "#   z_helio = z_helio_dict[sn]\n",
        "#   EBV_MW = mwebv_dict[sn]\n",
        "#   z_cmb = z_cmb_dict[sn]\n",
        "#   mu_mean = torch.as_tensor(cosmo.distmod(z_cmb).value).to(device)\n",
        "\n",
        "\n",
        "#   Av_obs = EBV_MW * 3.1\n",
        "#   observed_fluxes, flux_errors, times_dict = get_fluxes_from_file(sn + \".dat\", tmax, z_helio)\n",
        "\n",
        "#   # Calculate band-dependent quantities (Jl, Jt, xis, S0, etc.)\n",
        "#   band_Jt, band_Jl, band_xis_matrix, band_S0, band_h = calculate_band_dependent_stuff(times_dict, z_helio, Av_obs)\n",
        "\n",
        "#   autoguide_laplace = pyro.infer.autoguide.AutoLaplaceApproximation(model_vi_with_params_faster)\n",
        "#   train_with_params_faster(model_vi_with_params_faster, autoguide_laplace, observed_fluxes, mu_mean, \n",
        "#                 band_Jl, band_Jt, band_xis_matrix, band_S0, band_h, flux_errors, n_steps=3000, verbose = True)\n",
        "  \n",
        "\n",
        "#   # Fit VI based on Laplace Approximation\n",
        "#   new_laplace_approx_guide = autoguide_laplace.laplace_approximation(observed_fluxes, mu_mean, \n",
        "#                 band_Jl, band_Jt, band_xis_matrix, band_S0, band_h, flux_errors,)\n",
        "  \n",
        "\n",
        "#   train_with_params_faster(model_vi_with_params_faster, new_laplace_approx_guide, observed_fluxes, mu_mean, \n",
        "#                 band_Jl, band_Jt, band_xis_matrix, band_S0, band_h, flux_errors, n_steps=6000, verbose = True)\n",
        "  \n",
        "#   # laplace_vi_loc[sn] = new_laplace_approx_guide.get_posterior().loc.numpy()\n",
        "#   # laplace_vi_scale_tril[sn] = new_laplace_approx_guide.get_posterior().scale_tril.numpy()\n"
      ]
    },
    {
      "cell_type": "code",
      "execution_count": 27,
      "metadata": {
        "id": "PqjBA8yhI0bU"
      },
      "outputs": [],
      "source": [
        "# laplace_vi_loc_dict['ASASSN-16aj'] = new_laplace_approx_guide.get_posterior().loc.numpy()\n",
        "# laplace_vi_scale_tril_dict['ASASSN-16aj'] = new_laplace_approx_guide.get_posterior().scale_tril.numpy()"
      ]
    },
    {
      "cell_type": "code",
      "execution_count": 28,
      "metadata": {
        "id": "ixA0hn0WK4Ns"
      },
      "outputs": [],
      "source": [
        "# np.save(\"foundation_laplace_vi_loc_080222_T21.npy\", laplace_vi_loc_dict)\n",
        "# np.save(\"foundation_laplace_vi_scale_tril_080222_T21.npy\", laplace_vi_scale_tril_dict)"
      ]
    },
    {
      "cell_type": "code",
      "execution_count": 9,
      "metadata": {
        "id": "eWh32nh8w-RS",
        "colab": {
          "base_uri": "https://localhost:8080/",
          "height": 244
        },
        "outputId": "1c9483bf-b250-40ca-df49-bef9a2c43dc9"
      },
      "outputs": [
        {
          "output_type": "error",
          "ename": "NameError",
          "evalue": "ignored",
          "traceback": [
            "\u001b[0;31m---------------------------------------------------------------------------\u001b[0m",
            "\u001b[0;31mNameError\u001b[0m                                 Traceback (most recent call last)",
            "\u001b[0;32m<ipython-input-9-9811a4ea3780>\u001b[0m in \u001b[0;36m<module>\u001b[0;34m\u001b[0m\n\u001b[1;32m     24\u001b[0m     \u001b[0mlaplace_vi_scale_tril\u001b[0m \u001b[0;34m=\u001b[0m \u001b[0mlaplace_vi_scale_tril_dict\u001b[0m\u001b[0;34m[\u001b[0m\u001b[0msn\u001b[0m\u001b[0;34m]\u001b[0m\u001b[0;34m\u001b[0m\u001b[0;34m\u001b[0m\u001b[0m\n\u001b[1;32m     25\u001b[0m     \u001b[0mlaplace_vi_vars\u001b[0m\u001b[0;34m.\u001b[0m\u001b[0mappend\u001b[0m\u001b[0;34m(\u001b[0m\u001b[0mnp\u001b[0m\u001b[0;34m.\u001b[0m\u001b[0mmatmul\u001b[0m\u001b[0;34m(\u001b[0m\u001b[0mlaplace_vi_scale_tril\u001b[0m\u001b[0;34m,\u001b[0m \u001b[0mlaplace_vi_scale_tril\u001b[0m\u001b[0;34m.\u001b[0m\u001b[0mT\u001b[0m\u001b[0;34m)\u001b[0m\u001b[0;34m[\u001b[0m\u001b[0;34m-\u001b[0m\u001b[0;36m2\u001b[0m\u001b[0;34m]\u001b[0m\u001b[0;34m[\u001b[0m\u001b[0;34m-\u001b[0m\u001b[0;36m2\u001b[0m\u001b[0;34m]\u001b[0m\u001b[0;34m)\u001b[0m\u001b[0;34m\u001b[0m\u001b[0;34m\u001b[0m\u001b[0m\n\u001b[0;32m---> 26\u001b[0;31m     \u001b[0mlaplace_vi_z_cmbs\u001b[0m\u001b[0;34m.\u001b[0m\u001b[0mappend\u001b[0m\u001b[0;34m(\u001b[0m\u001b[0mz_cmb_dict\u001b[0m\u001b[0;34m[\u001b[0m\u001b[0msn\u001b[0m\u001b[0;34m]\u001b[0m\u001b[0;34m)\u001b[0m\u001b[0;34m\u001b[0m\u001b[0;34m\u001b[0m\u001b[0m\n\u001b[0m\u001b[1;32m     27\u001b[0m     \u001b[0;31m# except:\u001b[0m\u001b[0;34m\u001b[0m\u001b[0;34m\u001b[0m\u001b[0;34m\u001b[0m\u001b[0m\n\u001b[1;32m     28\u001b[0m     \u001b[0;31m#   print(\"hey\")\u001b[0m\u001b[0;34m\u001b[0m\u001b[0;34m\u001b[0m\u001b[0;34m\u001b[0m\u001b[0m\n",
            "\u001b[0;31mNameError\u001b[0m: name 'z_cmb_dict' is not defined"
          ]
        }
      ],
      "source": [
        "vi_mus = []\n",
        "vi_vars = []\n",
        "laplace_vi_mus = []\n",
        "laplace_vi_vars = []\n",
        "\n",
        "vi_z_cmbs = []\n",
        "\n",
        "laplace_vi_z_cmbs = []\n",
        "\n",
        "\n",
        "for sn in list(laplace_vi_loc_dict.keys()):\n",
        "  # if sn != \"ASASSN-16aj\":\n",
        "    try:\n",
        "      vi_mus.append(vi_loc_dict[sn][-2])\n",
        "      vi_scale_tril = vi_scale_tril_dict[sn]\n",
        "      # Calculate covariance matrix from scale_tril (sigma = LL^T)\n",
        "      vi_vars.append(np.matmul(vi_scale_tril, vi_scale_tril.T)[-2][-2])\n",
        "      vi_z_cmbs.append(z_cmb_dict[sn])\n",
        "    except:\n",
        "      pass\n",
        "\n",
        "    # try:\n",
        "    laplace_vi_mus.append(laplace_vi_loc_dict[sn][-2])\n",
        "    laplace_vi_scale_tril = laplace_vi_scale_tril_dict[sn]\n",
        "    laplace_vi_vars.append(np.matmul(laplace_vi_scale_tril, laplace_vi_scale_tril.T)[-2][-2])\n",
        "    laplace_vi_z_cmbs.append(z_cmb_dict[sn])\n",
        "    # except:\n",
        "    #   print(\"hey\")"
      ]
    },
    {
      "cell_type": "code",
      "execution_count": 30,
      "metadata": {
        "colab": {
          "base_uri": "https://localhost:8080/"
        },
        "id": "y8KY7H6pIxHE",
        "outputId": "6e6c6e34-6b72-4d93-95db-7b8cd839176f"
      },
      "outputs": [
        {
          "output_type": "execute_result",
          "data": {
            "text/plain": [
              "0.12743195168110133"
            ]
          },
          "metadata": {},
          "execution_count": 30
        }
      ],
      "source": [
        "max(laplace_vi_vars)"
      ]
    },
    {
      "cell_type": "code",
      "execution_count": 31,
      "metadata": {
        "colab": {
          "base_uri": "https://localhost:8080/"
        },
        "id": "HyX6DPD7FqrH",
        "outputId": "f6f1554c-d9ca-45ce-8dd7-dceef0a94268"
      },
      "outputs": [
        {
          "output_type": "execute_result",
          "data": {
            "text/plain": [
              "8"
            ]
          },
          "metadata": {},
          "execution_count": 31
        }
      ],
      "source": [
        "laplace_vi_vars.index(max(laplace_vi_vars))"
      ]
    },
    {
      "cell_type": "code",
      "execution_count": 32,
      "metadata": {
        "colab": {
          "base_uri": "https://localhost:8080/"
        },
        "id": "l4GXjAOtu9R9",
        "outputId": "6d4fb361-b03f-4ced-f516-95da11340fda"
      },
      "outputs": [
        {
          "output_type": "execute_result",
          "data": {
            "text/plain": [
              "157"
            ]
          },
          "metadata": {},
          "execution_count": 32
        }
      ],
      "source": [
        "len(laplace_vi_z_cmbs)"
      ]
    },
    {
      "cell_type": "markdown",
      "metadata": {
        "id": "DYS4F0cmBH3D"
      },
      "source": [
        "VI from Laplace Hubble Diagram"
      ]
    },
    {
      "cell_type": "code",
      "execution_count": 33,
      "metadata": {
        "id": "LCTkZhefs0yb"
      },
      "outputs": [],
      "source": [
        "linspace_z = np.linspace(0.01, 0.085)\n",
        "\n",
        "cosmo = FlatLambdaCDM(H0 = 73.24, Om0 = 0.28)\n",
        "cosmo_distmod_values = np.array([cosmo.distmod(z).value for z in linspace_z])"
      ]
    },
    {
      "cell_type": "code",
      "execution_count": 34,
      "metadata": {
        "colab": {
          "base_uri": "https://localhost:8080/"
        },
        "id": "ZbFCez_CTnMh",
        "outputId": "03396272-8153-4f7f-c60b-734c0b25384a"
      },
      "outputs": [
        {
          "output_type": "stream",
          "name": "stdout",
          "text": [
            "0.12321166413020739\n"
          ]
        }
      ],
      "source": [
        "predictions = laplace_vi_mus\n",
        "targets = np.array([cosmo.distmod(z).value for z in laplace_vi_z_cmbs])\n",
        "\n",
        "rmse = np.sqrt(np.mean((predictions-targets)**2))\n",
        "print(rmse)"
      ]
    },
    {
      "cell_type": "code",
      "execution_count": 35,
      "metadata": {
        "colab": {
          "base_uri": "https://localhost:8080/",
          "height": 289
        },
        "id": "B5AHS8zzywIL",
        "outputId": "4385997a-893c-444a-d13c-2863890df7a3"
      },
      "outputs": [
        {
          "output_type": "display_data",
          "data": {
            "text/plain": [
              "<Figure size 432x288 with 1 Axes>"
            ],
            "image/png": "[encoded data removed]"
          },
          "metadata": {
            "needs_background": "light"
          }
        }
      ],
      "source": [
        "f = plt.figure()\n",
        "plt.plot(laplace_vi_z_cmbs, laplace_vi_mus, 'o', color = (0.104,0.382,0.664))\n",
        "plt.plot(linspace_z, cosmo_distmod_values, color = 'k')\n",
        "plt.errorbar(laplace_vi_z_cmbs, laplace_vi_mus, np.sqrt(laplace_vi_vars), linestyle = 'None', color = 'k')\n",
        "plt.xlabel(\"z\", fontsize =14)\n",
        "plt.ylabel(\"$\\\\mu$\", fontsize = 14)\n",
        "plt.xticks(fontsize = 14)\n",
        "plt.yticks(fontsize = 14)\n",
        "plt.text(0.07, 34.3, \"Foundation DR1\", fontsize = 16, horizontalalignment = 'center')\n",
        "plt.text(0.07, 33.8, \"N = \" + str(len(laplace_vi_z_cmbs)), fontsize = 16, horizontalalignment = 'center')\n",
        "plt.text(0.07, 33.3, \"RMSE = \" + str(round(rmse,2)), fontsize = 16, horizontalalignment = 'center')\n",
        "f.savefig(\"HubbleDiagram_T21_080222.pdf\", bbox_inches = 'tight')\n",
        "# plt.title(\"Foundation dataset distances- VI initialized with Laplace\", fontsize = 12)"
      ]
    },
    {
      "cell_type": "code",
      "execution_count": 36,
      "metadata": {
        "colab": {
          "base_uri": "https://localhost:8080/",
          "height": 287
        },
        "id": "kJlu2rOCzPoV",
        "outputId": "5292d0be-11cb-4e7f-8556-6afcd322256a"
      },
      "outputs": [
        {
          "output_type": "display_data",
          "data": {
            "text/plain": [
              "<Figure size 432x288 with 1 Axes>"
            ],
            "image/png": "[encoded data removed]"
          },
          "metadata": {
            "needs_background": "light"
          }
        }
      ],
      "source": [
        "g = plt.figure()\n",
        "plt.plot(laplace_vi_z_cmbs, laplace_vi_mus - np.array([cosmo.distmod(z).value for z in laplace_vi_z_cmbs]), 'o',color = (0.104,0.382,0.664))\n",
        "\n",
        "plt.errorbar(laplace_vi_z_cmbs, laplace_vi_mus - np.array([cosmo.distmod(z).value for z in laplace_vi_z_cmbs]), np.sqrt(laplace_vi_vars), linestyle = 'None', color = 'k')\n",
        "\n",
        "\n",
        "sigma_pec = 150\n",
        "c = 300000\n",
        "\n",
        "sigma_envelope = np.array([(5 / (z * np.log(10))) * (sigma_pec / c) for z in linspace_z])\n",
        "\n",
        "plt.plot(linspace_z, sigma_envelope, marker = 'None', linestyle = 'dashed', color = 'k')\n",
        "plt.plot(linspace_z, -sigma_envelope, marker = 'None', linestyle = 'dashed', color = 'k')\n",
        "\n",
        "plt.axhline(0., color = 'k')\n",
        "\n",
        "plt.xlabel(\"z\", fontsize = 14)\n",
        "plt.ylabel(\"Hubble Residual\", fontsize = 14)\n",
        "# plt.ylim(-1, 1)\n",
        "# plt.title(\"Foundation dataset residuals- VI initialized with Laplace\", fontsize = 12)\n",
        "plt.xticks(fontsize = 14)\n",
        "plt.yticks(fontsize = 14)\n",
        "plt.show()\n",
        "g.savefig(\"HubbleResiduals.pdf\", bbox_inches = 'tight')"
      ]
    },
    {
      "cell_type": "markdown",
      "metadata": {
        "id": "lVSpYtdMtLcj"
      },
      "source": [
        "##Generate figures for Stephen's talk"
      ]
    },
    {
      "cell_type": "code",
      "execution_count": 37,
      "metadata": {
        "id": "7polbOLnM_8Z"
      },
      "outputs": [],
      "source": [
        "sn = 'ASASSN-16cs'"
      ]
    },
    {
      "cell_type": "code",
      "execution_count": null,
      "metadata": {
        "id": "aj5Ttsr8OAuo"
      },
      "outputs": [],
      "source": [
        "def get_vi_samples(sn, num_samples = 1000):\n",
        "  # print(laplace_vi_loc_dict[sn])\n",
        "  # print(laplace_vi_scale_tril_dict[sn])\n",
        "  dist = torch.distributions.MultivariateNormal(torch.as_tensor(laplace_vi_loc_dict[sn]), scale_tril = torch.as_tensor(laplace_vi_scale_tril_dict[sn]))\n",
        "  sn_vi_samples = dist.sample((num_samples,)).numpy()\n",
        "  # print(np.shape(sn_vi_samples[:,-1]))\n",
        "  theta_samples = sn_vi_samples[:,-3]\n",
        "  av_samples = np.exp(sn_vi_samples[:,-1])\n",
        "  mu_samples = sn_vi_samples[:,-2]\n",
        "  return np.vstack((mu_samples, theta_samples, av_samples)).T"
      ]
    },
    {
      "cell_type": "code",
      "execution_count": null,
      "metadata": {
        "id": "bmfKF-UcM7D8"
      },
      "outputs": [],
      "source": [
        "mcmc_estimate = np.load(sn + \"_chains_210610_135216.npy\", allow_pickle = True).item()\n",
        "laplace_vi_samples = get_vi_samples(sn)"
      ]
    },
    {
      "cell_type": "code",
      "execution_count": null,
      "metadata": {
        "colab": {
          "base_uri": "https://localhost:8080/",
          "height": 536
        },
        "id": "mL78BjW8NXdr",
        "outputId": "17b64035-1dd2-4b61-eb6e-847d29c48346"
      },
      "outputs": [
        {
          "data": {
            "image/png": "[encoded data removed]",
            "text/plain": [
              "<Figure size 547.2x547.2 with 9 Axes>"
            ]
          },
          "metadata": {},
          "output_type": "display_data"
        }
      ],
      "source": [
        "figure = corner.corner(laplace_vi_samples,\n",
        "                       labels = [\"log(distance)\", \"shape\", \"dust extinction\"], color = 'k')\n",
        "# # corner.corner(np.vstack((laplace_samples['mu_s'][:,0,0].numpy(),laplace_samples['theta'][:,0,0].numpy(), \n",
        "# #                                   laplace_samples['Av'][:,0,0].numpy())).T, \n",
        "# #                        labels = [r\"$\\mu_s$\", r\"$\\theta$\", r\"$A_v$\"], fig = figure, color = 'b')\n",
        "corner.corner(np.vstack((mcmc_estimate['mu'] + mcmc_estimate['delM'],mcmc_estimate['theta'], mcmc_estimate['AV'])).T, \n",
        "                       labels = [\"log(distance)\", \"shape\", \"dust extinction\"], color = 'r', fig = figure, label_kwargs = {'fontsize':16}, max_n_ticks = 4)\n",
        "colors = ['k','r']\n",
        "\n",
        "labels = ['VI init from \\nLaplace approx', 'MCMC']\n",
        "\n",
        "plt.legend(\n",
        "    handles=[\n",
        "        mlines.Line2D([], [], color=colors[i], label=labels[i])\n",
        "        for i in range(len(labels))\n",
        "    ],\n",
        "    fontsize=20, frameon=False,\n",
        "    bbox_to_anchor=(1, 3), loc=\"upper right\"\n",
        ")\n",
        "# plt.xticks(fontsize = 14)\n",
        "# figure.suptitle(\"Parameter distributions for ASASSN-16CS dataset \\n hi\", fontsize = 20)\n",
        "plt.show()\n",
        "figure.savefig(\"ASASSN_corner_plot_T21_072122.png\", bbox_inches = 'tight')"
      ]
    },
    {
      "cell_type": "code",
      "execution_count": null,
      "metadata": {
        "id": "sBgwDIytSXVr"
      },
      "outputs": [],
      "source": [
        "def get_flux_from_params(epsilon_interior, theta, mu_s, dMs, Av, xis_matrix, S0, h, Jl, Jt, W0 = W0, W1 = W1):\n",
        "\n",
        "  epsilon = np.zeros_like(W0)   ## populate epsilon matrix\n",
        "  epsilon[1:-1] = epsilon_interior.numpy().reshape((4,6), order = 'F')\n",
        "\n",
        "  W = W0 + theta.numpy()*W1 + epsilon\n",
        "\n",
        "  JlWJt = np.matmul(Jl, np.matmul(W, Jt.T))\n",
        "\n",
        "  Stilde = S0 * np.exp(-gamma.numpy() * (JlWJt.numpy() + Av.numpy() * xis_matrix))\n",
        "\n",
        "  f = 10**(0.4 * (ZPT - mu_s.numpy() - M0 - dMs.numpy())) * np.matmul(h,Stilde)\n",
        "\n",
        "  return f"
      ]
    },
    {
      "cell_type": "code",
      "execution_count": null,
      "metadata": {
        "id": "MhIMt0urP6TH"
      },
      "outputs": [],
      "source": [
        "def calculate_all_fluxes_from_params(nu, theta, mu_s, dMs, Av, z):\n",
        "  times_to_interpolate = np.linspace(-10, 40)\n",
        "  Jt = spline_coeffs_irr(times_to_interpolate, time_knots, invKD_irr(time_knots))\n",
        "\n",
        "  epsilon_interior = np.matmul(L_sigma_epsilon, nu.numpy().T)\n",
        "\n",
        "  epsilon = np.zeros_like(W0)   ## populate epsilon matrix\n",
        "  epsilon[1:-1] = epsilon_interior.reshape((4,6), order = 'F')\n",
        "\n",
        "  W = W0 + theta.numpy()*W1 + epsilon\n",
        "\n",
        "  generated_fluxes_from_params = []\n",
        "\n",
        "  for band in bands:\n",
        "    band_wavelengths = wavelengths_dict[band]\n",
        "    band_norm_throughput = norm_throughput_dict[band]\n",
        "\n",
        "    Jl = band_Jl[band]\n",
        "    # xis_matrix = band_xis_matrix[band]\n",
        "    # h = band_h[band]\n",
        "\n",
        "    wavelengths_to_interpolate = get_lambda_int_for_band(band_wavelengths, z)\n",
        "    \n",
        "    # Jl = spline_coeffs_irr(wavelengths_to_interpolate, wavelength_knots, invKD_irr(wavelength_knots))\n",
        "    xis = extinction.fitzpatrick99(wavelengths_to_interpolate, 1, rv)\n",
        "    xis_matrix = np.tile(xis, (len(times_to_interpolate),1)).T\n",
        "\n",
        "    S0 = np.zeros((len(wavelengths_to_interpolate), len(times_to_interpolate)))\n",
        "    for i, wavelength in enumerate(wavelengths_to_interpolate):\n",
        "      for j, time in enumerate(times_to_interpolate):\n",
        "        S0[i][j] = interpolate_hsiao(time, wavelength, hsiao_phase, hsiao_wave, hsiao_flux)\n",
        "\n",
        "    throughput_interpolator = interp1d(band_wavelengths, band_norm_throughput)\n",
        "    b = throughput_interpolator([band_wavelengths[0]] + list(wavelengths_to_interpolate[1:-1] * (1 + z)) + [band_wavelengths[-1]])\n",
        "\n",
        "    xis_obs = extinction.fitzpatrick99(wavelengths_to_interpolate*(1 + z), Av_obs, 3.1)\n",
        "    dLambda = wavelengths_to_interpolate[1] - wavelengths_to_interpolate[0]\n",
        "    h = (1 + torch.as_tensor(z)) * dLambda * b * wavelengths_to_interpolate * np.exp(-gamma * xis_obs)\n",
        "\n",
        "    band_flux = get_flux_from_params(torch.as_tensor(epsilon_interior), torch.as_tensor(theta), \n",
        "                                torch.as_tensor(mu_s), torch.as_tensor(dMs), torch.as_tensor(Av),\n",
        "                                xis_matrix = xis_matrix, S0 = S0, h = h, Jt = Jt, Jl = Jl)\n",
        "    \n",
        "    generated_fluxes_from_params.append(np.array(band_flux))\n",
        "  \n",
        "  return np.array(generated_fluxes_from_params)"
      ]
    },
    {
      "cell_type": "code",
      "execution_count": null,
      "metadata": {
        "colab": {
          "base_uri": "https://localhost:8080/",
          "height": 208
        },
        "id": "xjAhxch0SWsL",
        "outputId": "5eb29f83-ef16-4562-d4e7-ca2b7e95a2b7"
      },
      "outputs": [
        {
          "ename": "NameError",
          "evalue": "ignored",
          "output_type": "error",
          "traceback": [
            "\u001b[0;31m---------------------------------------------------------------------------\u001b[0m",
            "\u001b[0;31mNameError\u001b[0m                                 Traceback (most recent call last)",
            "\u001b[0;32m<ipython-input-42-cbb1a6c40a9a>\u001b[0m in \u001b[0;36m<module>\u001b[0;34m()\u001b[0m\n\u001b[0;32m----> 1\u001b[0;31m posterior_samples = Predictive(model_vi_with_params_faster_predictive_posterior, guide = new_laplace_approx_guide, num_samples = 100)(None, mu_mean, \n\u001b[0m\u001b[1;32m      2\u001b[0m                 band_Jl, band_Jt, band_xis_matrix, band_S0, band_h, flux_errors)\n",
            "\u001b[0;31mNameError\u001b[0m: name 'new_laplace_approx_guide' is not defined"
          ]
        }
      ],
      "source": [
        "posterior_samples = Predictive(model_vi_with_params_faster_predictive_posterior, guide = new_laplace_approx_guide, num_samples = 100)(None, mu_mean, \n",
        "                band_Jl, band_Jt, band_xis_matrix, band_S0, band_h, flux_errors)"
      ]
    },
    {
      "cell_type": "code",
      "execution_count": null,
      "metadata": {
        "colab": {
          "base_uri": "https://localhost:8080/",
          "height": 171
        },
        "id": "mGSnIfGwRsVr",
        "outputId": "bccd37cf-20cd-45f7-bfc6-2e916d916be3"
      },
      "outputs": [
        {
          "ename": "NameError",
          "evalue": "ignored",
          "output_type": "error",
          "traceback": [
            "\u001b[0;31m---------------------------------------------------------------------------\u001b[0m",
            "\u001b[0;31mNameError\u001b[0m                                 Traceback (most recent call last)",
            "\u001b[0;32m<ipython-input-43-5a084f7c0842>\u001b[0m in \u001b[0;36m<module>\u001b[0;34m()\u001b[0m\n\u001b[0;32m----> 1\u001b[0;31m \u001b[0mposterior_samples\u001b[0m\u001b[0;34m[\u001b[0m\u001b[0;34m'nu'\u001b[0m\u001b[0;34m]\u001b[0m\u001b[0;34m\u001b[0m\u001b[0;34m\u001b[0m\u001b[0m\n\u001b[0m",
            "\u001b[0;31mNameError\u001b[0m: name 'posterior_samples' is not defined"
          ]
        }
      ],
      "source": [
        "posterior_samples['nu']"
      ]
    },
    {
      "cell_type": "code",
      "execution_count": null,
      "metadata": {
        "colab": {
          "base_uri": "https://localhost:8080/",
          "height": 263
        },
        "id": "vnEjNFGqRpqm",
        "outputId": "8153b16d-0f31-4d25-dac3-c191e22e76d8"
      },
      "outputs": [
        {
          "ename": "NameError",
          "evalue": "ignored",
          "output_type": "error",
          "traceback": [
            "\u001b[0;31m---------------------------------------------------------------------------\u001b[0m",
            "\u001b[0;31mNameError\u001b[0m                                 Traceback (most recent call last)",
            "\u001b[0;32m<ipython-input-44-1f67c8681db6>\u001b[0m in \u001b[0;36m<module>\u001b[0;34m()\u001b[0m\n\u001b[1;32m      1\u001b[0m \u001b[0mposterior_smooth_curves\u001b[0m \u001b[0;34m=\u001b[0m \u001b[0;34m[\u001b[0m\u001b[0;34m]\u001b[0m\u001b[0;34m\u001b[0m\u001b[0;34m\u001b[0m\u001b[0m\n\u001b[0;32m----> 2\u001b[0;31m \u001b[0;32mfor\u001b[0m \u001b[0mnu\u001b[0m\u001b[0;34m,\u001b[0m \u001b[0mtheta\u001b[0m\u001b[0;34m,\u001b[0m \u001b[0mmu_s\u001b[0m\u001b[0;34m,\u001b[0m \u001b[0mAv\u001b[0m \u001b[0;32min\u001b[0m \u001b[0mzip\u001b[0m\u001b[0;34m(\u001b[0m\u001b[0mposterior_samples\u001b[0m\u001b[0;34m[\u001b[0m\u001b[0;34m'nu'\u001b[0m\u001b[0;34m]\u001b[0m\u001b[0;34m,\u001b[0m \u001b[0mposterior_samples\u001b[0m\u001b[0;34m[\u001b[0m\u001b[0;34m'theta'\u001b[0m\u001b[0;34m]\u001b[0m\u001b[0;34m,\u001b[0m \u001b[0mposterior_samples\u001b[0m\u001b[0;34m[\u001b[0m\u001b[0;34m'mu_s'\u001b[0m\u001b[0;34m]\u001b[0m\u001b[0;34m,\u001b[0m \u001b[0mposterior_samples\u001b[0m\u001b[0;34m[\u001b[0m\u001b[0;34m'Av'\u001b[0m\u001b[0;34m]\u001b[0m\u001b[0;34m)\u001b[0m\u001b[0;34m:\u001b[0m\u001b[0;34m\u001b[0m\u001b[0;34m\u001b[0m\u001b[0m\n\u001b[0m\u001b[1;32m      3\u001b[0m   \u001b[0;31m# print(nu, theta, mu_s, Av)\u001b[0m\u001b[0;34m\u001b[0m\u001b[0;34m\u001b[0m\u001b[0;34m\u001b[0m\u001b[0m\n\u001b[1;32m      4\u001b[0m   \u001b[0mposterior_smooth_curves\u001b[0m\u001b[0;34m.\u001b[0m\u001b[0mappend\u001b[0m\u001b[0;34m(\u001b[0m\u001b[0mcalculate_all_fluxes_from_params\u001b[0m\u001b[0;34m(\u001b[0m\u001b[0mnu\u001b[0m\u001b[0;34m,\u001b[0m \u001b[0mtheta\u001b[0m\u001b[0;34m,\u001b[0m \u001b[0mmu_s\u001b[0m\u001b[0;34m,\u001b[0m \u001b[0mtorch\u001b[0m\u001b[0;34m.\u001b[0m\u001b[0mas_tensor\u001b[0m\u001b[0;34m(\u001b[0m\u001b[0;36m0.\u001b[0m\u001b[0;34m)\u001b[0m\u001b[0;34m,\u001b[0m \u001b[0mAv\u001b[0m\u001b[0;34m,\u001b[0m \u001b[0mz_helio_dict\u001b[0m\u001b[0;34m[\u001b[0m\u001b[0msn\u001b[0m\u001b[0;34m]\u001b[0m\u001b[0;34m)\u001b[0m\u001b[0;34m)\u001b[0m\u001b[0;34m\u001b[0m\u001b[0;34m\u001b[0m\u001b[0m\n",
            "\u001b[0;31mNameError\u001b[0m: name 'posterior_samples' is not defined"
          ]
        }
      ],
      "source": [
        "posterior_smooth_curves = []\n",
        "for nu, theta, mu_s, Av in zip(posterior_samples['nu'], posterior_samples['theta'], posterior_samples['mu_s'], posterior_samples['Av']):\n",
        "  # print(nu, theta, mu_s, Av)\n",
        "  posterior_smooth_curves.append(calculate_all_fluxes_from_params(nu, theta, mu_s, torch.as_tensor(0.), Av, z_helio_dict[sn]))"
      ]
    },
    {
      "cell_type": "code",
      "execution_count": null,
      "metadata": {
        "colab": {
          "base_uri": "https://localhost:8080/",
          "height": 171
        },
        "id": "ILdoSGVm6nrO",
        "outputId": "e02d9616-448c-4434-935c-65ae03bc414c"
      },
      "outputs": [
        {
          "ename": "IndexError",
          "evalue": "ignored",
          "output_type": "error",
          "traceback": [
            "\u001b[0;31m---------------------------------------------------------------------------\u001b[0m",
            "\u001b[0;31mIndexError\u001b[0m                                Traceback (most recent call last)",
            "\u001b[0;32m<ipython-input-45-572ba4e2acd6>\u001b[0m in \u001b[0;36m<module>\u001b[0;34m()\u001b[0m\n\u001b[0;32m----> 1\u001b[0;31m \u001b[0mposterior_smooth_curves\u001b[0m\u001b[0;34m[\u001b[0m\u001b[0;36m0\u001b[0m\u001b[0;34m]\u001b[0m\u001b[0;34m.\u001b[0m\u001b[0mshape\u001b[0m\u001b[0;34m\u001b[0m\u001b[0;34m\u001b[0m\u001b[0m\n\u001b[0m",
            "\u001b[0;31mIndexError\u001b[0m: list index out of range"
          ]
        }
      ],
      "source": [
        "posterior_smooth_curves[0].shape"
      ]
    },
    {
      "cell_type": "code",
      "execution_count": null,
      "metadata": {
        "colab": {
          "base_uri": "https://localhost:8080/"
        },
        "id": "Ua8kOSNN66UI",
        "outputId": "0f17d48b-14d5-4074-c587-f146c74030c8"
      },
      "outputs": [
        {
          "name": "stdout",
          "output_type": "stream",
          "text": [
            "(0,)\n"
          ]
        },
        {
          "name": "stderr",
          "output_type": "stream",
          "text": [
            "/usr/local/lib/python3.7/dist-packages/numpy/core/fromnumeric.py:3441: RuntimeWarning: Mean of empty slice.\n",
            "  out=out, **kwargs)\n",
            "/usr/local/lib/python3.7/dist-packages/numpy/core/_methods.py:189: RuntimeWarning: invalid value encountered in double_scalars\n",
            "  ret = ret.dtype.type(ret / rcount)\n"
          ]
        }
      ],
      "source": [
        "posterior_smooth_curves = np.array(posterior_smooth_curves)\n",
        "print(posterior_smooth_curves.shape)\n",
        "median_posterior_fit = np.median(posterior_smooth_curves, axis = 0)"
      ]
    },
    {
      "cell_type": "code",
      "execution_count": null,
      "metadata": {
        "colab": {
          "base_uri": "https://localhost:8080/"
        },
        "id": "lykA2yWXTZ2V",
        "outputId": "a35fa5da-3fa6-4df3-e87c-84a8d15b08a9"
      },
      "outputs": [
        {
          "name": "stdout",
          "output_type": "stream",
          "text": [
            "(100, 4, 50)\n"
          ]
        }
      ],
      "source": [
        "posterior_smooth_curves = np.array(posterior_smooth_curves)\n",
        "print(posterior_smooth_curves.shape)\n",
        "median_posterior_fit = np.median(posterior_smooth_curves, axis = 0)\n",
        "upper_posterior_fit = np.percentile(posterior_smooth_curves, 50 + 34.1, axis = 0)\n",
        "lower_posterior_fit = np.percentile(posterior_smooth_curves, 50 - 34.1, axis = 0)"
      ]
    },
    {
      "cell_type": "code",
      "execution_count": null,
      "metadata": {
        "colab": {
          "base_uri": "https://localhost:8080/",
          "height": 287
        },
        "id": "Sngj-AXxTcny",
        "outputId": "f4027186-f5cc-4de8-c03e-def65cfbf289"
      },
      "outputs": [
        {
          "data": {
            "image/png": "[encoded data removed]",
            "text/plain": [
              "<Figure size 432x288 with 1 Axes>"
            ]
          },
          "metadata": {},
          "output_type": "display_data"
        }
      ],
      "source": [
        "f = plt.figure()\n",
        "colors  = ['g', 'r', 'c', 'k']\n",
        "offset = np.array([0, 1000,2000,3000]) * 30\n",
        "offset = np.zeros(4)\n",
        "for i, band_flux in enumerate(median_posterior_fit):\n",
        "    plt.plot(np.linspace(-10, 40), band_flux + offset[i], color = colors[i])\n",
        "    plt.fill_between(np.linspace(-10, 40), upper_posterior_fit[i]+ offset[i], lower_posterior_fit[i]+ offset[i], color = colors[i], alpha = 0.2)\n",
        "for i, band_flux in enumerate(observed_fluxes):\n",
        "  plt.plot(times_dict[bands[i]], band_flux + offset[i], 'o',color = colors[i], label = bands[i])\n",
        "plt.legend(fontsize = 16)\n",
        "# plt.title(\"Posterior samples from VI\")\n",
        "plt.xlabel(\"Time (days)\", fontsize = 14)\n",
        "plt.ylabel(\"Flux\", fontsize = 14)\n",
        "plt.xticks(fontsize = 14)\n",
        "plt.yticks(fontsize = 14)\n",
        "f.savefig(\"LightCurve_ASASSN16cs_T21_072222.png\", bbox_inches = 'tight')"
      ]
    },
    {
      "cell_type": "markdown",
      "metadata": {
        "id": "2r1-PuH1U4yg"
      },
      "source": [
        "##Compare to MCMC"
      ]
    },
    {
      "cell_type": "code",
      "execution_count": 10,
      "metadata": {
        "colab": {
          "base_uri": "https://localhost:8080/",
          "height": 279
        },
        "id": "7t_vif-tF7q9",
        "outputId": "c748ebdb-bbea-49ab-daa9-ead51f7714c7"
      },
      "outputs": [
        {
          "output_type": "display_data",
          "data": {
            "text/plain": [
              "<Figure size 432x288 with 1 Axes>"
            ],
            "image/png": "[encoded data removed]"
          },
          "metadata": {
            "needs_background": "light"
          }
        }
      ],
      "source": [
        "mu_residuals = []\n",
        "av_residuals = []\n",
        "theta_residuals = []\n",
        "\n",
        "mcmc_mus = []\n",
        "mcmc_av = []\n",
        "mcmc_theta = []\n",
        "for sn in list(laplace_vi_loc_dict.keys()):\n",
        "  #   vi_mus.append(vi_loc_dict[sn][-2])\n",
        "  # vi_scale_tril = vi_scale_tril_dict[sn]\n",
        "  # # Calculate covariance matrix from scale_tril (sigma = LL^T)\n",
        "  # vi_vars.append(np.matmul(vi_scale_tril, vi_scale_tril.T)[-2][-2])\n",
        "  # vi_z_cmbs.append(z_cmb_dict[sn])\n",
        "\n",
        "  estimated_dist = np.mean(np.load(sn + \"_chains_210610_135216.npy\", allow_pickle = True).item()['mu'])\n",
        "  estimated_av = np.mean(np.load(sn + \"_chains_210610_135216.npy\", allow_pickle = True).item()['AV'])\n",
        "  estimated_theta = np.mean(np.load(sn + \"_chains_210610_135216.npy\", allow_pickle = True).item()['theta'])\n",
        "\n",
        "  mcmc_mus.append(estimated_dist)\n",
        "  mcmc_av.append(estimated_av)\n",
        "  mcmc_theta.append(estimated_theta)\n",
        "\n",
        "  # print(estimated_dist)\n",
        "  # print(vi_loc_dict[sn][-2])\n",
        "  # plt.plot(laplace_vi_loc_dict[sn][-2], estimated_dist, 'bo')\n",
        "  plt.plot(laplace_vi_loc_dict[sn][-2], laplace_vi_loc_dict[sn][-2] - estimated_dist, 'ro')\n",
        "  mu_residuals.append(laplace_vi_loc_dict[sn][-2] - estimated_dist)\n",
        "  av_residuals.append(np.exp(laplace_vi_loc_dict[sn][-1])- estimated_av)\n",
        "\n",
        "  # av_residuals.append((laplace_vi_loc_dict[sn][-1])- estimated_av) ## no exp\n",
        "\n",
        "  # print(laplace_vi_loc_dict[sn][-1])\n",
        "  theta_residuals.append(laplace_vi_loc_dict[sn][-3] - estimated_theta)\n",
        "\n",
        "\n",
        "# plt.plot(np.linspace(33,38), np.linspace(33, 38), color = 'tab:orange')\n",
        "plt.xlabel(\"VI distances\")\n",
        "# plt.ylabel(\"MCMC distances\")\n",
        "plt.ylabel(\"Residual\")\n",
        "plt.axhline(0)\n",
        "\n",
        "plt.show()"
      ]
    },
    {
      "cell_type": "code",
      "execution_count": 11,
      "metadata": {
        "colab": {
          "base_uri": "https://localhost:8080/"
        },
        "id": "gGOHw89lJJ78",
        "outputId": "aea6527c-7cf5-40ad-b10c-25f7e636fdbf"
      },
      "outputs": [
        {
          "output_type": "execute_result",
          "data": {
            "text/plain": [
              "-5.187992062308975"
            ]
          },
          "metadata": {},
          "execution_count": 11
        }
      ],
      "source": [
        "np.mean(mu_residuals) / (np.std(mu_residuals) / np.sqrt(len(mu_residuals)))"
      ]
    },
    {
      "cell_type": "code",
      "execution_count": 12,
      "metadata": {
        "colab": {
          "base_uri": "https://localhost:8080/",
          "height": 291
        },
        "id": "cmZYZR4ux4OO",
        "outputId": "777e7a18-a68e-49d3-ba80-0801288965e9"
      },
      "outputs": [
        {
          "output_type": "display_data",
          "data": {
            "text/plain": [
              "<Figure size 432x288 with 1 Axes>"
            ],
            "image/png": "[encoded data removed]"
          },
          "metadata": {
            "needs_background": "light"
          }
        }
      ],
      "source": [
        "f = plt.figure()\n",
        "plt.plot(mcmc_mus, mu_residuals, 'o')\n",
        "plt.axhline(0, color = 'k')\n",
        "plt.axhline(np.median(mu_residuals), color = 'k', linestyle = 'dashed')\n",
        "plt.xlabel(\"MCMC $\\\\mu$\", fontsize = 16)\n",
        "plt.ylabel(\"$\\\\mu$ residual (VI - MCMC)\", fontsize = 16)\n",
        "plt.xticks(fontsize = 12)\n",
        "plt.yticks(fontsize = 12)\n",
        "f.savefig(\"Foundation_mu_residuals.pdf\", bbox_inches = 'tight')"
      ]
    },
    {
      "cell_type": "code",
      "source": [
        "f = plt.figure()\n",
        "plt.scatter(mcmc_mus, mu_residuals, c = mcmc_av)\n",
        "plt.axhline(0, color = 'k')\n",
        "plt.xlabel(\"MCMC $\\\\mu$\", fontsize = 16)\n",
        "plt.ylabel(\"$\\\\mu$ residual (VI - MCMC)\", fontsize = 16)\n",
        "plt.axhline(np.median(mu_residuals), color = 'k', linestyle = 'dashed')\n",
        "\n",
        "plt.xticks(fontsize = 12)\n",
        "plt.yticks(fontsize = 12)\n",
        "cbar = plt.colorbar()\n",
        "cbar.set_label(\"MCMC $A_V$\", fontsize = 14)\n",
        "f.savefig(\"Foundation_mu_residuals_colorbar081722.pdf\", bbox_inches = 'tight')"
      ],
      "metadata": {
        "colab": {
          "base_uri": "https://localhost:8080/",
          "height": 291
        },
        "id": "RDcNxnJ5sDOV",
        "outputId": "1b73c2e0-41fa-4787-c1d9-f5d46eeb72c9"
      },
      "execution_count": 15,
      "outputs": [
        {
          "output_type": "display_data",
          "data": {
            "text/plain": [
              "<Figure size 432x288 with 2 Axes>"
            ],
            "image/png": "[encoded data removed]"
          },
          "metadata": {
            "needs_background": "light"
          }
        }
      ]
    },
    {
      "cell_type": "code",
      "execution_count": 16,
      "metadata": {
        "colab": {
          "base_uri": "https://localhost:8080/",
          "height": 291
        },
        "id": "dlG-5-0PPzxQ",
        "outputId": "3993a0ec-866b-4b49-c626-609365ccbb58"
      },
      "outputs": [
        {
          "output_type": "display_data",
          "data": {
            "text/plain": [
              "<Figure size 432x288 with 1 Axes>"
            ],
            "image/png": "[encoded data removed]"
          },
          "metadata": {
            "needs_background": "light"
          }
        }
      ],
      "source": [
        "f = plt.figure()\n",
        "plt.plot(mcmc_av, av_residuals, 'o')\n",
        "plt.axhline(np.median(av_residuals), color = 'k', linestyle = 'dashed')\n",
        "\n",
        "plt.axhline(0, color = 'k')\n",
        "plt.xlabel(\"MCMC $A_V$\", fontsize = 16)\n",
        "plt.ylabel(\"$A_V$ residual (VI - MCMC)\", fontsize = 16)\n",
        "plt.xticks(fontsize = 12)\n",
        "plt.yticks(fontsize = 12)\n",
        "f.savefig(\"Foundation_AV_residuals.pdf\", bbox_inches = 'tight')"
      ]
    },
    {
      "cell_type": "code",
      "source": [
        "f = plt.figure()\n",
        "plt.plot(laplace_vi_z_cmbs, mcmc_av, 'o')\n",
        "plt.xlabel(\"MCMC $\\\\mu$\", fontsize = 16)\n",
        "plt.ylabel(\"z\", fontsize = 16)\n",
        "plt.xticks(fontsize = 12)\n",
        "plt.yticks(fontsize = 12)\n",
        "# f.savefig(\"Foundation_AV_residuals.pdf\", bbox_inches = 'tight')"
      ],
      "metadata": {
        "colab": {
          "base_uri": "https://localhost:8080/",
          "height": 649
        },
        "id": "-K5M48qgrXRx",
        "outputId": "1e7553a3-b150-4457-977d-6b4ba98ea78e"
      },
      "execution_count": 17,
      "outputs": [
        {
          "output_type": "error",
          "ename": "ValueError",
          "evalue": "ignored",
          "traceback": [
            "\u001b[0;31m---------------------------------------------------------------------------\u001b[0m",
            "\u001b[0;31mValueError\u001b[0m                                Traceback (most recent call last)",
            "\u001b[0;32m<ipython-input-17-06b93f690ce7>\u001b[0m in \u001b[0;36m<module>\u001b[0;34m\u001b[0m\n\u001b[1;32m      1\u001b[0m \u001b[0mf\u001b[0m \u001b[0;34m=\u001b[0m \u001b[0mplt\u001b[0m\u001b[0;34m.\u001b[0m\u001b[0mfigure\u001b[0m\u001b[0;34m(\u001b[0m\u001b[0;34m)\u001b[0m\u001b[0;34m\u001b[0m\u001b[0;34m\u001b[0m\u001b[0m\n\u001b[0;32m----> 2\u001b[0;31m \u001b[0mplt\u001b[0m\u001b[0;34m.\u001b[0m\u001b[0mplot\u001b[0m\u001b[0;34m(\u001b[0m\u001b[0mlaplace_vi_z_cmbs\u001b[0m\u001b[0;34m,\u001b[0m \u001b[0mmcmc_av\u001b[0m\u001b[0;34m,\u001b[0m \u001b[0;34m'o'\u001b[0m\u001b[0;34m)\u001b[0m\u001b[0;34m\u001b[0m\u001b[0;34m\u001b[0m\u001b[0m\n\u001b[0m\u001b[1;32m      3\u001b[0m \u001b[0mplt\u001b[0m\u001b[0;34m.\u001b[0m\u001b[0mxlabel\u001b[0m\u001b[0;34m(\u001b[0m\u001b[0;34m\"MCMC $\\\\mu$\"\u001b[0m\u001b[0;34m,\u001b[0m \u001b[0mfontsize\u001b[0m \u001b[0;34m=\u001b[0m \u001b[0;36m16\u001b[0m\u001b[0;34m)\u001b[0m\u001b[0;34m\u001b[0m\u001b[0;34m\u001b[0m\u001b[0m\n\u001b[1;32m      4\u001b[0m \u001b[0mplt\u001b[0m\u001b[0;34m.\u001b[0m\u001b[0mylabel\u001b[0m\u001b[0;34m(\u001b[0m\u001b[0;34m\"z\"\u001b[0m\u001b[0;34m,\u001b[0m \u001b[0mfontsize\u001b[0m \u001b[0;34m=\u001b[0m \u001b[0;36m16\u001b[0m\u001b[0;34m)\u001b[0m\u001b[0;34m\u001b[0m\u001b[0;34m\u001b[0m\u001b[0m\n\u001b[1;32m      5\u001b[0m \u001b[0mplt\u001b[0m\u001b[0;34m.\u001b[0m\u001b[0mxticks\u001b[0m\u001b[0;34m(\u001b[0m\u001b[0mfontsize\u001b[0m \u001b[0;34m=\u001b[0m \u001b[0;36m12\u001b[0m\u001b[0;34m)\u001b[0m\u001b[0;34m\u001b[0m\u001b[0;34m\u001b[0m\u001b[0m\n",
            "\u001b[0;32m/usr/local/lib/python3.7/dist-packages/matplotlib/pyplot.py\u001b[0m in \u001b[0;36mplot\u001b[0;34m(scalex, scaley, data, *args, **kwargs)\u001b[0m\n\u001b[1;32m   2761\u001b[0m     return gca().plot(\n\u001b[1;32m   2762\u001b[0m         *args, scalex=scalex, scaley=scaley, **({\"data\": data} if data\n\u001b[0;32m-> 2763\u001b[0;31m         is not None else {}), **kwargs)\n\u001b[0m\u001b[1;32m   2764\u001b[0m \u001b[0;34m\u001b[0m\u001b[0m\n\u001b[1;32m   2765\u001b[0m \u001b[0;34m\u001b[0m\u001b[0m\n",
            "\u001b[0;32m/usr/local/lib/python3.7/dist-packages/matplotlib/axes/_axes.py\u001b[0m in \u001b[0;36mplot\u001b[0;34m(self, scalex, scaley, data, *args, **kwargs)\u001b[0m\n\u001b[1;32m   1645\u001b[0m         \"\"\"\n\u001b[1;32m   1646\u001b[0m         \u001b[0mkwargs\u001b[0m \u001b[0;34m=\u001b[0m \u001b[0mcbook\u001b[0m\u001b[0;34m.\u001b[0m\u001b[0mnormalize_kwargs\u001b[0m\u001b[0;34m(\u001b[0m\u001b[0mkwargs\u001b[0m\u001b[0;34m,\u001b[0m \u001b[0mmlines\u001b[0m\u001b[0;34m.\u001b[0m\u001b[0mLine2D\u001b[0m\u001b[0;34m)\u001b[0m\u001b[0;34m\u001b[0m\u001b[0;34m\u001b[0m\u001b[0m\n\u001b[0;32m-> 1647\u001b[0;31m         \u001b[0mlines\u001b[0m \u001b[0;34m=\u001b[0m \u001b[0;34m[\u001b[0m\u001b[0;34m*\u001b[0m\u001b[0mself\u001b[0m\u001b[0;34m.\u001b[0m\u001b[0m_get_lines\u001b[0m\u001b[0;34m(\u001b[0m\u001b[0;34m*\u001b[0m\u001b[0margs\u001b[0m\u001b[0;34m,\u001b[0m \u001b[0mdata\u001b[0m\u001b[0;34m=\u001b[0m\u001b[0mdata\u001b[0m\u001b[0;34m,\u001b[0m \u001b[0;34m**\u001b[0m\u001b[0mkwargs\u001b[0m\u001b[0;34m)\u001b[0m\u001b[0;34m]\u001b[0m\u001b[0;34m\u001b[0m\u001b[0;34m\u001b[0m\u001b[0m\n\u001b[0m\u001b[1;32m   1648\u001b[0m         \u001b[0;32mfor\u001b[0m \u001b[0mline\u001b[0m \u001b[0;32min\u001b[0m \u001b[0mlines\u001b[0m\u001b[0;34m:\u001b[0m\u001b[0;34m\u001b[0m\u001b[0;34m\u001b[0m\u001b[0m\n\u001b[1;32m   1649\u001b[0m             \u001b[0mself\u001b[0m\u001b[0;34m.\u001b[0m\u001b[0madd_line\u001b[0m\u001b[0;34m(\u001b[0m\u001b[0mline\u001b[0m\u001b[0;34m)\u001b[0m\u001b[0;34m\u001b[0m\u001b[0;34m\u001b[0m\u001b[0m\n",
            "\u001b[0;32m/usr/local/lib/python3.7/dist-packages/matplotlib/axes/_base.py\u001b[0m in \u001b[0;36m__call__\u001b[0;34m(self, *args, **kwargs)\u001b[0m\n\u001b[1;32m    214\u001b[0m                 \u001b[0mthis\u001b[0m \u001b[0;34m+=\u001b[0m \u001b[0margs\u001b[0m\u001b[0;34m[\u001b[0m\u001b[0;36m0\u001b[0m\u001b[0;34m]\u001b[0m\u001b[0;34m,\u001b[0m\u001b[0;34m\u001b[0m\u001b[0;34m\u001b[0m\u001b[0m\n\u001b[1;32m    215\u001b[0m                 \u001b[0margs\u001b[0m \u001b[0;34m=\u001b[0m \u001b[0margs\u001b[0m\u001b[0;34m[\u001b[0m\u001b[0;36m1\u001b[0m\u001b[0;34m:\u001b[0m\u001b[0;34m]\u001b[0m\u001b[0;34m\u001b[0m\u001b[0;34m\u001b[0m\u001b[0m\n\u001b[0;32m--> 216\u001b[0;31m             \u001b[0;32myield\u001b[0m \u001b[0;32mfrom\u001b[0m \u001b[0mself\u001b[0m\u001b[0;34m.\u001b[0m\u001b[0m_plot_args\u001b[0m\u001b[0;34m(\u001b[0m\u001b[0mthis\u001b[0m\u001b[0;34m,\u001b[0m \u001b[0mkwargs\u001b[0m\u001b[0;34m)\u001b[0m\u001b[0;34m\u001b[0m\u001b[0;34m\u001b[0m\u001b[0m\n\u001b[0m\u001b[1;32m    217\u001b[0m \u001b[0;34m\u001b[0m\u001b[0m\n\u001b[1;32m    218\u001b[0m     \u001b[0;32mdef\u001b[0m \u001b[0mget_next_color\u001b[0m\u001b[0;34m(\u001b[0m\u001b[0mself\u001b[0m\u001b[0;34m)\u001b[0m\u001b[0;34m:\u001b[0m\u001b[0;34m\u001b[0m\u001b[0;34m\u001b[0m\u001b[0m\n",
            "\u001b[0;32m/usr/local/lib/python3.7/dist-packages/matplotlib/axes/_base.py\u001b[0m in \u001b[0;36m_plot_args\u001b[0;34m(self, tup, kwargs)\u001b[0m\n\u001b[1;32m    340\u001b[0m \u001b[0;34m\u001b[0m\u001b[0m\n\u001b[1;32m    341\u001b[0m         \u001b[0;32mif\u001b[0m \u001b[0mx\u001b[0m\u001b[0;34m.\u001b[0m\u001b[0mshape\u001b[0m\u001b[0;34m[\u001b[0m\u001b[0;36m0\u001b[0m\u001b[0;34m]\u001b[0m \u001b[0;34m!=\u001b[0m \u001b[0my\u001b[0m\u001b[0;34m.\u001b[0m\u001b[0mshape\u001b[0m\u001b[0;34m[\u001b[0m\u001b[0;36m0\u001b[0m\u001b[0;34m]\u001b[0m\u001b[0;34m:\u001b[0m\u001b[0;34m\u001b[0m\u001b[0;34m\u001b[0m\u001b[0m\n\u001b[0;32m--> 342\u001b[0;31m             raise ValueError(f\"x and y must have same first dimension, but \"\n\u001b[0m\u001b[1;32m    343\u001b[0m                              f\"have shapes {x.shape} and {y.shape}\")\n\u001b[1;32m    344\u001b[0m         \u001b[0;32mif\u001b[0m \u001b[0mx\u001b[0m\u001b[0;34m.\u001b[0m\u001b[0mndim\u001b[0m \u001b[0;34m>\u001b[0m \u001b[0;36m2\u001b[0m \u001b[0;32mor\u001b[0m \u001b[0my\u001b[0m\u001b[0;34m.\u001b[0m\u001b[0mndim\u001b[0m \u001b[0;34m>\u001b[0m \u001b[0;36m2\u001b[0m\u001b[0;34m:\u001b[0m\u001b[0;34m\u001b[0m\u001b[0;34m\u001b[0m\u001b[0m\n",
            "\u001b[0;31mValueError\u001b[0m: x and y must have same first dimension, but have shapes (0,) and (157,)"
          ]
        },
        {
          "output_type": "display_data",
          "data": {
            "text/plain": [
              "<Figure size 432x288 with 1 Axes>"
            ],
            "image/png": "[encoded data removed]"
          },
          "metadata": {
            "needs_background": "light"
          }
        }
      ]
    },
    {
      "cell_type": "code",
      "execution_count": 18,
      "metadata": {
        "colab": {
          "base_uri": "https://localhost:8080/",
          "height": 289
        },
        "id": "--eeDvbJqsZi",
        "outputId": "1bf3f71c-865c-42bb-9cec-bdf1b238be1b"
      },
      "outputs": [
        {
          "output_type": "display_data",
          "data": {
            "text/plain": [
              "<Figure size 432x288 with 1 Axes>"
            ],
            "image/png": "[encoded data removed]"
          },
          "metadata": {
            "needs_background": "light"
          }
        }
      ],
      "source": [
        "f = plt.figure()\n",
        "plt.plot(mcmc_theta, theta_residuals, 'o')\n",
        "plt.axhline(0, color = 'k')\n",
        "plt.axhline(np.median(theta_residuals), color = 'k', linestyle = 'dashed')\n",
        "plt.xlabel(\"MCMC $\\\\theta$\", fontsize = 16)\n",
        "plt.ylabel(\"$\\\\theta$ residual (VI - MCMC)\", fontsize = 16)\n",
        "plt.xticks(fontsize = 12)\n",
        "plt.yticks(fontsize = 12)\n",
        "f.savefig(\"Foundation_theta_residuals.pdf\", bbox_inches = 'tight')"
      ]
    },
    {
      "cell_type": "code",
      "execution_count": 46,
      "metadata": {
        "colab": {
          "base_uri": "https://localhost:8080/",
          "height": 36
        },
        "id": "u5WZfiTwqgB4",
        "outputId": "1718a4cf-a0e1-441b-9a14-a464fb603cc7"
      },
      "outputs": [
        {
          "output_type": "execute_result",
          "data": {
            "text/plain": [
              "'ASASSN-16em'"
            ],
            "application/vnd.google.colaboratory.intrinsic+json": {
              "type": "string"
            }
          },
          "metadata": {},
          "execution_count": 46
        }
      ],
      "source": [
        "list(laplace_vi_loc_dict.keys())[np.argmax(av_residuals)]"
      ]
    },
    {
      "cell_type": "code",
      "execution_count": 47,
      "metadata": {
        "colab": {
          "base_uri": "https://localhost:8080/",
          "height": 518
        },
        "id": "m0Ns_B4HL_7C",
        "outputId": "da060885-5ab6-4d6a-df71-d7d913e94a2f"
      },
      "outputs": [
        {
          "output_type": "stream",
          "name": "stderr",
          "text": [
            "/usr/local/lib/python3.7/dist-packages/corner/core.py:635: MatplotlibDeprecationWarning: Saw kwargs ['ms', 'markersize'] which are all aliases for 'markersize'.  Kept value from 'markersize'.  Passing multiple aliases for the same property will raise a TypeError in 3.3.\n",
            "  ax.plot(x, y, \"o\", zorder=-1, rasterized=True, **data_kwargs)\n",
            "/usr/local/lib/python3.7/dist-packages/corner/core.py:635: MatplotlibDeprecationWarning: Saw kwargs ['ms', 'markersize'] which are all aliases for 'markersize'.  Kept value from 'markersize'.  Passing multiple aliases for the same property will raise a TypeError in 3.3.\n",
            "  ax.plot(x, y, \"o\", zorder=-1, rasterized=True, **data_kwargs)\n",
            "/usr/local/lib/python3.7/dist-packages/corner/core.py:635: MatplotlibDeprecationWarning: Saw kwargs ['ms', 'markersize'] which are all aliases for 'markersize'.  Kept value from 'markersize'.  Passing multiple aliases for the same property will raise a TypeError in 3.3.\n",
            "  ax.plot(x, y, \"o\", zorder=-1, rasterized=True, **data_kwargs)\n"
          ]
        },
        {
          "output_type": "display_data",
          "data": {
            "text/plain": [
              "<Figure size 547.2x547.2 with 3 Axes>"
            ],
            "image/png": "[encoded data removed]"
          },
          "metadata": {
            "needs_background": "light"
          }
        }
      ],
      "source": [
        "fig = corner.corner(np.vstack((np.array(mu_residuals), av_residuals, theta_residuals)).T, \n",
        "              plot_contours = False, plot_datapoints =  True, plot_density = False, \n",
        "              data_kwargs = {'color':'tab:blue', 'alpha':1, 'marker':'o', 'markersize':3}, \n",
        "              labels = ['${\\\\mu}$ residuals', '${A_v}$ residuals', '${\\\\theta}$ residuals'],\n",
        "              label_kwargs = {'fontsize':16})\n",
        "# plt.text(-0.7,125,\"All residuals are MCMC - VI\", fontsize = 16)\n",
        "# figure.suptitle(\"Parameter residuals for Foundation dataset\", fontsize = 20)\n",
        "axes = np.array(fig.axes).reshape((3, 3))\n",
        "for a in axes[np.triu_indices(3)]:\n",
        "  a.remove()\n",
        "\n",
        "fig.savefig(\"Foundations_residuals_triangle.pdf\", bbox_inches = 'tight')"
      ]
    },
    {
      "cell_type": "markdown",
      "source": [
        "## Comparison to other models (softplus and asymmetric Laplace)\n"
      ],
      "metadata": {
        "id": "PP6Nj1nqvXN-"
      }
    },
    {
      "cell_type": "code",
      "execution_count": 84,
      "metadata": {
        "id": "w6UpMi3gOi9b"
      },
      "outputs": [],
      "source": [
        "asym_laplace_vi_loc_dict = np.load(\"/content/foundation_loc_asym_laplace_081522_T21.npy\", allow_pickle = True).item()\n",
        "asym_laplace_vi_scale_tril_dict = np.load(\"/content/foundation_scale_tril_asym_laplace_081522_T21.npy\", allow_pickle = True).item()"
      ]
    },
    {
      "cell_type": "code",
      "source": [
        "softplus_vi_loc_dict = np.load(\"/content/foundation_loc_softplus_081522_T21.npy\", allow_pickle = True).item()\n",
        "softplus_laplace_vi_scale_tril_dict = np.load(\"/content/foundation_scale_tril_softplus_081522_T21.npy\", allow_pickle = True).item()"
      ],
      "metadata": {
        "id": "07G-F5VcvmWq"
      },
      "execution_count": 86,
      "outputs": []
    },
    {
      "cell_type": "code",
      "source": [
        "len(list(softplus_vi_loc_dict.keys()))"
      ],
      "metadata": {
        "colab": {
          "base_uri": "https://localhost:8080/"
        },
        "id": "T1Easq3lxEw1",
        "outputId": "32814852-98f4-43b9-a84c-332fe45df3fd"
      },
      "execution_count": 87,
      "outputs": [
        {
          "output_type": "execute_result",
          "data": {
            "text/plain": [
              "154"
            ]
          },
          "metadata": {},
          "execution_count": 87
        }
      ]
    },
    {
      "cell_type": "code",
      "source": [
        "len(list(asym_laplace_vi_loc_dict.keys()))"
      ],
      "metadata": {
        "colab": {
          "base_uri": "https://localhost:8080/"
        },
        "id": "m6zdxuCP1t9D",
        "outputId": "44abc0a7-8f7c-4dd7-aec6-7f30f58ad5bc"
      },
      "execution_count": 88,
      "outputs": [
        {
          "output_type": "execute_result",
          "data": {
            "text/plain": [
              "157"
            ]
          },
          "metadata": {},
          "execution_count": 88
        }
      ]
    },
    {
      "cell_type": "code",
      "source": [
        "def transform_x_samples(x_samples, k = 25):\n",
        "  return np.log(1 + np.exp(k * x_samples)) / k"
      ],
      "metadata": {
        "id": "jN2_R7KBwjV5"
      },
      "execution_count": 51,
      "outputs": []
    },
    {
      "cell_type": "code",
      "source": [
        "softplus_mus = []\n",
        "softplus_avs = []\n",
        "softplus_theta = []\n",
        "\n",
        "softplus_mcmc_mus = []\n",
        "softplus_mcmc_avs = []\n",
        "\n",
        "for sn in list(softplus_vi_loc_dict.keys()):\n",
        "    # try:\n",
        "    softplus_mus.append(softplus_vi_loc_dict[sn][-2])\n",
        "    softplus_avs.append(transform_x_samples(softplus_vi_loc_dict[sn][-1]))\n",
        "    softplus_theta.append(softplus_vi_loc_dict[sn][-3])\n",
        "\n",
        "\n",
        "    estimated_dist = np.mean(np.load(sn + \"_chains_210610_135216.npy\", allow_pickle = True).item()['mu'])\n",
        "    estimated_av = np.mean(np.load(sn + \"_chains_210610_135216.npy\", allow_pickle = True).item()['AV'])\n",
        "    estimated_theta = np.mean(np.load(sn + \"_chains_210610_135216.npy\", allow_pickle = True).item()['theta'])\n",
        "\n",
        "    softplus_mcmc_mus.append(estimated_dist)\n",
        "    softplus_mcmc_avs.append(estimated_av)\n",
        "    # mcmc_theta.append(estimated_theta)\n",
        "\n",
        "    # laplace_vi_scale_tril = laplace_vi_scale_tril_dict[sn]\n",
        "    # laplace_vi_vars.append(np.matmul(laplace_vi_scale_tril, laplace_vi_scale_tril.T)[-2][-2])\n",
        "    # laplace_vi_z_cmbs.append(z_cmb_dict[sn])\n"
      ],
      "metadata": {
        "id": "1Gbj1aTZvvMJ"
      },
      "execution_count": 64,
      "outputs": []
    },
    {
      "cell_type": "code",
      "source": [
        "plt.plot(softplus_mcmc_mus, softplus_mus, 'o')"
      ],
      "metadata": {
        "colab": {
          "base_uri": "https://localhost:8080/",
          "height": 283
        },
        "id": "OIdG0qy_xDGz",
        "outputId": "d849ece8-e37c-49c3-e130-2dda8edd9793"
      },
      "execution_count": 65,
      "outputs": [
        {
          "output_type": "execute_result",
          "data": {
            "text/plain": [
              "[<matplotlib.lines.Line2D at 0x7f1228e7dcd0>]"
            ]
          },
          "metadata": {},
          "execution_count": 65
        },
        {
          "output_type": "display_data",
          "data": {
            "text/plain": [
              "<Figure size 432x288 with 1 Axes>"
            ],
            "image/png": "[encoded data removed]"
          },
          "metadata": {
            "needs_background": "light"
          }
        }
      ]
    },
    {
      "cell_type": "code",
      "source": [
        "f = plt.figure()\n",
        "plt.plot(softplus_mcmc_avs, softplus_avs, 'o')\n",
        "plt.plot(np.linspace(0,1), np.linspace(0,1))\n",
        "plt.xlabel(\"MCMC $A_V$\", fontsize = 16)\n",
        "plt.ylabel(\"VI Softplus $A_V$\", fontsize = 16)\n",
        "plt.xticks(fontsize = 12)\n",
        "plt.yticks(fontsize = 12)\n",
        "f.savefig(\"Softplus_AV_comparison.pdf\", bbox_inches = 'tight')"
      ],
      "metadata": {
        "colab": {
          "base_uri": "https://localhost:8080/",
          "height": 291
        },
        "id": "kJcGhmcUxaKY",
        "outputId": "54c15fb0-dda0-4289-b176-6adeeeae156a"
      },
      "execution_count": 76,
      "outputs": [
        {
          "output_type": "display_data",
          "data": {
            "text/plain": [
              "<Figure size 432x288 with 1 Axes>"
            ],
            "image/png": "[encoded data removed]"
          },
          "metadata": {
            "needs_background": "light"
          }
        }
      ]
    },
    {
      "cell_type": "code",
      "source": [
        "f = plt.figure()\n",
        "plt.plot(softplus_mcmc_avs, np.array(softplus_avs) - softplus_mcmc_avs, 'o')\n",
        "plt.axhline(0, color = 'k')\n",
        "plt.axhline(np.median(np.array(softplus_avs) - softplus_mcmc_avs), color = 'k', linestyle = 'dashed')\n",
        "\n",
        "plt.axhline(0, color = 'k')\n",
        "plt.xlabel(\"MCMC $A_V$\", fontsize = 16)\n",
        "plt.ylabel(\"$A_V$ residual (VI Softplus - MCMC)\", fontsize = 16)\n",
        "plt.xticks(fontsize = 12)\n",
        "plt.yticks(fontsize = 12)\n",
        "f.savefig(\"Softplus_AV_residuals.pdf\", bbox_inches = 'tight')"
      ],
      "metadata": {
        "colab": {
          "base_uri": "https://localhost:8080/",
          "height": 312
        },
        "id": "DoBMNl0ayMrw",
        "outputId": "8a54eaea-a188-4828-a338-1090e08b0e52"
      },
      "execution_count": 93,
      "outputs": [
        {
          "output_type": "display_data",
          "data": {
            "text/plain": [
              "<Figure size 432x288 with 1 Axes>"
            ],
            "image/png": "[encoded data removed]"
          },
          "metadata": {
            "needs_background": "light"
          }
        }
      ]
    },
    {
      "cell_type": "code",
      "source": [
        "asym_laplace_mus = []\n",
        "asym_laplace_av = []\n",
        "asym_laplace_theta = []\n",
        "\n",
        "for sn in list(asym_laplace_vi_loc_dict.keys()):\n",
        "    # try:\n",
        "    asym_laplace_mus.append(asym_laplace_vi_loc_dict[sn][-2])\n",
        "    asym_laplace_av.append(asym_laplace_vi_loc_dict[sn][-1])\n",
        "    asym_laplace_theta.append(asym_laplace_vi_loc_dict[sn][-3])"
      ],
      "metadata": {
        "id": "boF_BpK_07sf"
      },
      "execution_count": 89,
      "outputs": []
    },
    {
      "cell_type": "code",
      "source": [
        "f = plt.figure()\n",
        "plt.plot(mcmc_av, asym_laplace_av, 'o')\n",
        "plt.plot(np.linspace(0,1), np.linspace(0,1))\n",
        "plt.xlabel(\"MCMC $A_V$\", fontsize = 16)\n",
        "plt.ylabel(\"VI AsymLaplace $A_V$\", fontsize = 16)\n",
        "plt.xticks(fontsize = 12)\n",
        "plt.yticks(fontsize = 12)\n",
        "f.savefig(\"AsymLaplace_AV_comparison.pdf\", bbox_inches = 'tight')"
      ],
      "metadata": {
        "colab": {
          "base_uri": "https://localhost:8080/",
          "height": 291
        },
        "id": "ZWmGL5f6yX29",
        "outputId": "0f2e2aad-bcbe-4044-8f50-08ba3d8e39ef"
      },
      "execution_count": 91,
      "outputs": [
        {
          "output_type": "display_data",
          "data": {
            "text/plain": [
              "<Figure size 432x288 with 1 Axes>"
            ],
            "image/png": "[encoded data removed]"
          },
          "metadata": {
            "needs_background": "light"
          }
        }
      ]
    },
    {
      "cell_type": "code",
      "source": [
        "f = plt.figure()\n",
        "plt.plot(mcmc_av, np.array(asym_laplace_av) - mcmc_av, 'o')\n",
        "plt.axhline(0, color = 'k')\n",
        "plt.axhline(np.median(np.array(asym_laplace_av) - mcmc_av), color = 'k', linestyle = 'dashed')\n",
        "\n",
        "plt.axhline(0, color = 'k')\n",
        "plt.xlabel(\"MCMC $A_V$\", fontsize = 16)\n",
        "plt.ylabel(\"$A_V$ residual (VI AsymLaplace - MCMC)\", fontsize = 16)\n",
        "plt.xticks(fontsize = 12)\n",
        "plt.yticks(fontsize = 12)\n",
        "f.savefig(\"AsymLaplace_AV_residuals.pdf\", bbox_inches = 'tight')"
      ],
      "metadata": {
        "colab": {
          "base_uri": "https://localhost:8080/",
          "height": 332
        },
        "id": "C7DghirQ2pd5",
        "outputId": "04c1157e-60f8-4413-ebee-ae8b5864860b"
      },
      "execution_count": 92,
      "outputs": [
        {
          "output_type": "display_data",
          "data": {
            "text/plain": [
              "<Figure size 432x288 with 1 Axes>"
            ],
            "image/png": "[encoded data removed]"
          },
          "metadata": {
            "needs_background": "light"
          }
        }
      ]
    },
    {
      "cell_type": "code",
      "source": [
        ""
      ],
      "metadata": {
        "id": "PMNJgFk14hkW"
      },
      "execution_count": null,
      "outputs": []
    }
  ],
  "metadata": {
    "accelerator": "GPU",
    "colab": {
      "collapsed_sections": [],
      "name": "T21_Foundation_Tensor_Fitting.ipynb",
      "provenance": []
    },
    "gpuClass": "standard",
    "kernelspec": {
      "display_name": "Python 3",
      "name": "python3"
    },
    "language_info": {
      "name": "python"
    }
  },
  "nbformat": 4,
  "nbformat_minor": 0
}