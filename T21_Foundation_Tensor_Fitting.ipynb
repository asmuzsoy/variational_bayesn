{
  "cells": [
    {
      "cell_type": "code",
      "execution_count": null,
      "metadata": {
        "colab": {
          "base_uri": "https://localhost:8080/"
        },
        "id": "uX96bEWTmND0",
        "outputId": "5721dbb1-2ec0-472d-9a92-abf6874350d3"
      },
      "outputs": [
        {
          "output_type": "stream",
          "name": "stdout",
          "text": [
            "Looking in indexes: https://pypi.org/simple, https://us-python.pkg.dev/colab-wheels/public/simple/\n",
            "Collecting pyro-ppl\n",
            "  Downloading pyro_ppl-1.8.1-py3-none-any.whl (718 kB)\n",
            "\u001b[K     |████████████████████████████████| 718 kB 5.1 MB/s \n",
            "\u001b[?25hRequirement already satisfied: opt-einsum>=2.3.2 in /usr/local/lib/python3.7/dist-packages (from pyro-ppl) (3.3.0)\n",
            "Requirement already satisfied: tqdm>=4.36 in /usr/local/lib/python3.7/dist-packages (from pyro-ppl) (4.64.0)\n",
            "Collecting pyro-api>=0.1.1\n",
            "  Downloading pyro_api-0.1.2-py3-none-any.whl (11 kB)\n",
            "Requirement already satisfied: torch>=1.11.0 in /usr/local/lib/python3.7/dist-packages (from pyro-ppl) (1.12.0+cu113)\n",
            "Requirement already satisfied: numpy>=1.7 in /usr/local/lib/python3.7/dist-packages (from pyro-ppl) (1.21.6)\n",
            "Requirement already satisfied: typing-extensions in /usr/local/lib/python3.7/dist-packages (from torch>=1.11.0->pyro-ppl) (4.1.1)\n",
            "Installing collected packages: pyro-api, pyro-ppl\n",
            "Successfully installed pyro-api-0.1.2 pyro-ppl-1.8.1\n"
          ]
        }
      ],
      "source": [
        "!pip3 install pyro-ppl "
      ]
    },
    {
      "cell_type": "code",
      "execution_count": null,
      "metadata": {
        "colab": {
          "base_uri": "https://localhost:8080/"
        },
        "id": "TLPeho_PRgNP",
        "outputId": "d4664806-500b-4e3e-b764-5c92126a704b"
      },
      "outputs": [
        {
          "output_type": "stream",
          "name": "stdout",
          "text": [
            "Looking in indexes: https://pypi.org/simple, https://us-python.pkg.dev/colab-wheels/public/simple/\n",
            "Collecting extinction\n",
            "  Downloading extinction-0.4.6-cp37-cp37m-manylinux_2_5_x86_64.manylinux1_x86_64.manylinux_2_12_x86_64.manylinux2010_x86_64.whl (418 kB)\n",
            "\u001b[K     |████████████████████████████████| 418 kB 4.4 MB/s \n",
            "\u001b[?25hRequirement already satisfied: numpy>=1.13.3 in /usr/local/lib/python3.7/dist-packages (from extinction) (1.21.6)\n",
            "Installing collected packages: extinction\n",
            "Successfully installed extinction-0.4.6\n"
          ]
        }
      ],
      "source": [
        "!pip install extinction"
      ]
    },
    {
      "cell_type": "code",
      "execution_count": null,
      "metadata": {
        "colab": {
          "base_uri": "https://localhost:8080/"
        },
        "id": "u-aOtXYMeTcO",
        "outputId": "0044244f-9d4d-4877-fd66-11eb8a619ee5"
      },
      "outputs": [
        {
          "output_type": "stream",
          "name": "stdout",
          "text": [
            "Looking in indexes: https://pypi.org/simple, https://us-python.pkg.dev/colab-wheels/public/simple/\n",
            "Collecting corner\n",
            "  Downloading corner-2.2.1-py3-none-any.whl (15 kB)\n",
            "Requirement already satisfied: matplotlib>=2.1 in /usr/local/lib/python3.7/dist-packages (from corner) (3.2.2)\n",
            "Requirement already satisfied: numpy>=1.11 in /usr/local/lib/python3.7/dist-packages (from matplotlib>=2.1->corner) (1.21.6)\n",
            "Requirement already satisfied: cycler>=0.10 in /usr/local/lib/python3.7/dist-packages (from matplotlib>=2.1->corner) (0.11.0)\n",
            "Requirement already satisfied: python-dateutil>=2.1 in /usr/local/lib/python3.7/dist-packages (from matplotlib>=2.1->corner) (2.8.2)\n",
            "Requirement already satisfied: kiwisolver>=1.0.1 in /usr/local/lib/python3.7/dist-packages (from matplotlib>=2.1->corner) (1.4.4)\n",
            "Requirement already satisfied: pyparsing!=2.0.4,!=2.1.2,!=2.1.6,>=2.0.1 in /usr/local/lib/python3.7/dist-packages (from matplotlib>=2.1->corner) (3.0.9)\n",
            "Requirement already satisfied: typing-extensions in /usr/local/lib/python3.7/dist-packages (from kiwisolver>=1.0.1->matplotlib>=2.1->corner) (4.1.1)\n",
            "Requirement already satisfied: six>=1.5 in /usr/local/lib/python3.7/dist-packages (from python-dateutil>=2.1->matplotlib>=2.1->corner) (1.15.0)\n",
            "Installing collected packages: corner\n",
            "Successfully installed corner-2.2.1\n"
          ]
        }
      ],
      "source": [
        "!pip install corner"
      ]
    },
    {
      "cell_type": "code",
      "execution_count": null,
      "metadata": {
        "id": "9xkM4Rl_RQdX"
      },
      "outputs": [],
      "source": [
        "import logging\n",
        "import os\n",
        "\n",
        "import torch\n",
        "import numpy as np\n",
        "import pandas as pd\n",
        "import seaborn as sns\n",
        "import matplotlib.pyplot as plt\n",
        "import matplotlib.lines as mlines\n",
        "import matplotlib.colors as colors\n",
        "\n",
        "import corner\n",
        "import time as measure_time\n",
        "import os\n",
        "import math\n",
        "\n",
        "import pyro\n",
        "\n",
        "import pyro.distributions as dist\n",
        "import pyro.distributions.constraints as constraints\n",
        "from pyro.infer import SVI, Trace_ELBO,Predictive\n",
        "from pyro.optim import Adam\n",
        "from pyro.ops.stats import fit_generalized_pareto\n",
        "\n",
        "from scipy.interpolate import interp1d\n",
        "import h5py\n",
        "import extinction\n",
        "\n",
        "from astropy.cosmology import FlatLambdaCDM\n",
        "\n",
        "from spline_hsiao_fns import *"
      ]
    },
    {
      "cell_type": "code",
      "execution_count": null,
      "metadata": {
        "colab": {
          "base_uri": "https://localhost:8080/"
        },
        "id": "E0rAZ3bDo97c",
        "outputId": "4d7315e9-7dfc-48a4-bc6a-8cbe3b4d37c5"
      },
      "outputs": [
        {
          "output_type": "stream",
          "name": "stdout",
          "text": [
            "cpu\n"
          ]
        }
      ],
      "source": [
        "# device = torch.device(\"cuda:0\" if torch.cuda.is_available() else \"cpu\")\n",
        "device = torch.device(\"cpu\")\n",
        "print(device)"
      ]
    },
    {
      "cell_type": "markdown",
      "metadata": {
        "id": "syqWBFKbDk8B"
      },
      "source": [
        "##Get constants from files"
      ]
    },
    {
      "cell_type": "code",
      "execution_count": null,
      "metadata": {
        "id": "AlhMMde4mIBy"
      },
      "outputs": [],
      "source": [
        "W0 = np.loadtxt(\"W0_T21.txt\")\n",
        "W1 = np.loadtxt(\"W1_T21.txt\")\n",
        "W0_tensor = torch.as_tensor(W0).to(device)\n",
        "W1_tensor = torch.as_tensor(W1).to(device)\n",
        "time_knots = np.loadtxt(\"tau_knots_T21.txt\")\n",
        "wavelength_knots = np.loadtxt(\"l_knots_T21.txt\")\n",
        "L_sigma_epsilon = np.loadtxt(\"L_Sigma_epsilon_T21.txt\")\n",
        "L_sigma_epsilon_tensor = torch.as_tensor(L_sigma_epsilon, dtype = torch.float).to(device)\n",
        "M0, sigma0, rv, tauA = np.loadtxt(\"M0_sigma0_RV_tauA_T21.txt\")\n",
        "cosmo = FlatLambdaCDM(H0 = 73.24, Om0 = 0.28)"
      ]
    },
    {
      "cell_type": "code",
      "execution_count": null,
      "metadata": {
        "id": "vdSkGKgr4S5R"
      },
      "outputs": [],
      "source": [
        "g_wavelengths, _, g_norm_throughput = np.loadtxt(\"g_PS1.txt\", skiprows = 2, unpack = True)\n",
        "r_wavelengths, _, r_norm_throughput = np.loadtxt(\"r_PS1.txt\", skiprows = 2, unpack = True)\n",
        "i_wavelengths, _, i_norm_throughput = np.loadtxt(\"i_PS1.txt\", skiprows = 2, unpack = True)\n",
        "z_wavelengths, _, z_norm_throughput = np.loadtxt(\"z_PS1.txt\", skiprows = 2, unpack = True)"
      ]
    },
    {
      "cell_type": "markdown",
      "metadata": {
        "id": "JAD8DDVJEfti"
      },
      "source": [
        "Read in metadata for Foundation dataset"
      ]
    },
    {
      "cell_type": "code",
      "execution_count": null,
      "metadata": {
        "id": "yvZvm6TUzyZ7"
      },
      "outputs": [],
      "source": [
        "meta = pd.read_csv(\"meta.txt\", sep='\\s+', index_col = False, names = ['SNID','PEAKMJD','MWEBV','REDSHIFT_HELIO','REDSHIFT_CMB','REDSHIFT_CMB_ERR'], skiprows = 2)"
      ]
    },
    {
      "cell_type": "code",
      "execution_count": null,
      "metadata": {
        "id": "5S2mGH9i8oR8"
      },
      "outputs": [],
      "source": [
        "tmax_dict = {}\n",
        "mwebv_dict = {}\n",
        "z_helio_dict = {}\n",
        "z_cmb_dict = {}\n",
        "for index, row in meta.iterrows():\n",
        "  name = row['SNID']\n",
        "  tmax = row['PEAKMJD']\n",
        "  mwebv = row['MWEBV']\n",
        "  z_helio = row['REDSHIFT_HELIO']\n",
        "  z_cmb = row['REDSHIFT_CMB']\n",
        "  tmax_dict[name] = tmax\n",
        "  mwebv_dict[name] = mwebv\n",
        "  z_helio_dict[name] = z_helio\n",
        "  z_cmb_dict[name] = z_cmb"
      ]
    },
    {
      "cell_type": "code",
      "execution_count": null,
      "metadata": {
        "id": "2LoY4Y6-9tb8"
      },
      "outputs": [],
      "source": [
        "def get_fluxes_from_file(filename, tmax, z_helio):\n",
        "  df = pd.read_csv(filename, sep=\" \", header = 0, index_col = False, names = ['MJD', \"FLT\", 'FLUXCAL', 'FLUXCALERR', 'MAG', 'MAGERR'])\n",
        "  df = df.dropna()\n",
        "\n",
        "  # Remove time points outside of [-10., 40.]\n",
        "  df['adj_time'] = (df.MJD - tmax) / (1 + z_helio)\n",
        "  mask = (df['adj_time'] < 40.) & (df['adj_time'] > -10.0)\n",
        "  df = df[mask]\n",
        "\n",
        "  # Separate based on bands\n",
        "  g_time = df.adj_time[df.FLT=='g'].values\n",
        "  r_time = df.adj_time[df.FLT=='r'].values\n",
        "  i_time = df.adj_time[df.FLT=='i'].values\n",
        "  z_time = df.adj_time[df.FLT=='z'].values\n",
        "\n",
        "  g_flux = df.FLUXCAL[df.FLT=='g'].values\n",
        "  r_flux = df.FLUXCAL[df.FLT=='r'].values\n",
        "  i_flux = df.FLUXCAL[df.FLT=='i'].values\n",
        "  z_flux = df.FLUXCAL[df.FLT=='z'].values\n",
        "\n",
        "  g_fluxerr = df.FLUXCALERR[df.FLT=='g'].values\n",
        "  r_fluxerr = df.FLUXCALERR[df.FLT=='r'].values\n",
        "  i_fluxerr = df.FLUXCALERR[df.FLT=='i'].values\n",
        "  z_fluxerr = df.FLUXCALERR[df.FLT=='z'].values\n",
        "\n",
        "  times_dict = {'g':g_time, 'r':r_time, 'i':i_time, 'z':z_time}\n",
        "\n",
        "  observed_fluxes = [torch.as_tensor(g_flux).to(device), torch.as_tensor(r_flux).to(device), torch.as_tensor(i_flux).to(device), torch.as_tensor(z_flux).to(device)]\n",
        "\n",
        "  flux_errors = [torch.as_tensor(g_fluxerr).to(device), torch.as_tensor(r_fluxerr).to(device), torch.as_tensor(i_fluxerr).to(device), torch.as_tensor(z_fluxerr).to(device)]\n",
        "\n",
        "  return observed_fluxes, flux_errors, times_dict"
      ]
    },
    {
      "cell_type": "code",
      "execution_count": null,
      "metadata": {
        "id": "8Ex7Js7QG110"
      },
      "outputs": [],
      "source": [
        "ZPT = torch.as_tensor(27.5).to(device)\n",
        "M0 = torch.as_tensor(-19.5).to(device)\n",
        "gamma = torch.as_tensor(np.log(10) / 2.5).to(device)\n",
        "gamma_numpy = np.log(10) / 2.5\n",
        "\n",
        "hsiao_phase, hsiao_wave, hsiao_flux = read_model_grid()\n",
        "\n",
        "bands = ['g', 'r', 'i', 'z']\n",
        "wavelengths_dict = {'g':g_wavelengths, 'r':r_wavelengths, 'i':i_wavelengths, 'z':z_wavelengths}\n",
        "norm_throughput_dict = {'g':g_norm_throughput, 'r':r_norm_throughput, 'i':i_norm_throughput, 'z':z_norm_throughput}\n",
        "eps_cov = torch.as_tensor(np.matmul(L_sigma_epsilon, L_sigma_epsilon.T), dtype = torch.float)"
      ]
    },
    {
      "cell_type": "markdown",
      "metadata": {
        "id": "TqpkG4FUH6jF"
      },
      "source": [
        "Things we can pre-calculate / helper functions\n",
        "---\n",
        "\n"
      ]
    },
    {
      "cell_type": "code",
      "execution_count": null,
      "metadata": {
        "id": "d3FwBBvNNMUe"
      },
      "outputs": [],
      "source": [
        "def get_lambda_int_for_band(band_wavelengths, z):\n",
        "  source_wavelengths = band_wavelengths / (1 + z)\n",
        "  return np.linspace(np.min(source_wavelengths), np.max(source_wavelengths), 75)"
      ]
    },
    {
      "cell_type": "code",
      "execution_count": null,
      "metadata": {
        "id": "C7xyhI47NfCc"
      },
      "outputs": [],
      "source": [
        "def calculate_band_dependent_stuff(times_dict, z_helio, Av_obs):\n",
        "  band_Jl = {}\n",
        "  band_h = {}\n",
        "  band_Jt = {}\n",
        "  band_xis_matrix = {}\n",
        "  band_S0 = {}  \n",
        "\n",
        "  for band in bands:\n",
        "    # Calculate Jt\n",
        "    times_to_interpolate = times_dict[band]\n",
        "    Jt = spline_coeffs_irr(times_to_interpolate, time_knots, invKD_irr(time_knots))\n",
        "    band_Jt[band] = torch.as_tensor(Jt.T).to(device)\n",
        "\n",
        "    # Calculate wavelengths to interpolate\n",
        "    band_wavelengths = wavelengths_dict[band]\n",
        "    wavelengths_to_interpolate = get_lambda_int_for_band(band_wavelengths, z = z_helio)\n",
        "\n",
        "    # Calculate Jl (J matrix for wavelengths)\n",
        "    Jl = spline_coeffs_irr(wavelengths_to_interpolate, wavelength_knots, invKD_irr(wavelength_knots))\n",
        "    band_Jl[band] = torch.as_tensor(Jl).to(device)\n",
        "\n",
        "    # Calculate xis matrix\n",
        "    xis = extinction.fitzpatrick99(wavelengths_to_interpolate, 1, rv)\n",
        "    xis_matrix = np.tile(xis, (len(times_to_interpolate),1)).T\n",
        "    band_xis_matrix[band] = torch.as_tensor(xis_matrix).to(device)\n",
        "\n",
        "    # Interpolate throughput wavelengths\n",
        "    band_norm_throughput = norm_throughput_dict[band]\n",
        "    throughput_interpolator = interp1d(band_wavelengths, band_norm_throughput)\n",
        "    b = throughput_interpolator([band_wavelengths[0]] + list(wavelengths_to_interpolate[1:-1] * (1 + z_helio)) + [band_wavelengths[-1]])\n",
        "\n",
        "    # Calculate S0 matrix\n",
        "    S0 = np.zeros((len(wavelengths_to_interpolate), len(times_to_interpolate)))\n",
        "    for i, wavelength in enumerate(wavelengths_to_interpolate):\n",
        "      for j, time_point in enumerate(times_to_interpolate):\n",
        "        S0[i][j] = interpolate_hsiao(time_point, wavelength, hsiao_phase, hsiao_wave, hsiao_flux)\n",
        "    band_S0[band] = torch.as_tensor(S0).to(device)\n",
        "\n",
        "    # Calculate h\n",
        "    xis_obs = extinction.fitzpatrick99(wavelengths_to_interpolate*(1 + z_helio), Av_obs, 3.1)\n",
        "    dLambda = wavelengths_to_interpolate[1] - wavelengths_to_interpolate[0]\n",
        "    h = (1 + z_helio) * dLambda * b * wavelengths_to_interpolate * np.exp(-gamma_numpy * xis_obs)\n",
        "    band_h[band] = torch.as_tensor(h).to(device)\n",
        "\n",
        "  return band_Jt, band_Jl, band_xis_matrix, band_S0, band_h"
      ]
    },
    {
      "cell_type": "markdown",
      "metadata": {
        "id": "VoXukiwhO1bd"
      },
      "source": [
        "## Define model"
      ]
    },
    {
      "cell_type": "code",
      "execution_count": null,
      "metadata": {
        "id": "qsWemUqUpuPj"
      },
      "outputs": [],
      "source": [
        "nu_args = torch.zeros(len(L_sigma_epsilon)).to(device), torch.eye(len(L_sigma_epsilon)).to(device)\n",
        "theta_args = torch.as_tensor(0.).to(device), torch.as_tensor(1.0).to(device)\n",
        "mu_arg = torch.as_tensor(10.0).to(device)\n",
        "av_arg = torch.as_tensor(1 / 0.252).to(device)\n",
        "\n",
        "zeros = torch.zeros(6).to(device)"
      ]
    },
    {
      "cell_type": "code",
      "execution_count": null,
      "metadata": {
        "id": "F56kQkT4on18"
      },
      "outputs": [],
      "source": [
        "def model_vi_with_params_faster(obs, mu_mean, band_Jl, band_Jt, band_xis_matrix, band_S0, band_h, flux_errors):\n",
        "  nu = pyro.sample(\"nu\", dist.MultivariateNormal(*nu_args))\n",
        "  epsilon_interior = torch.matmul(L_sigma_epsilon_tensor.float(), torch.squeeze(nu).float())\n",
        "\n",
        "  theta = pyro.sample(\"theta\", dist.Normal(*theta_args))\n",
        "\n",
        "  mu_s = pyro.sample(\"mu_s\", dist.Normal(mu_mean, mu_arg))\n",
        "\n",
        "  dMs = torch.tensor(0.).to(device)\n",
        "  Av = pyro.sample(\"Av\", dist.Exponential(av_arg))\n",
        "\n",
        "  # epsilon = torch.zeros(W0.shape)   ## populate epsilon matrix\n",
        "  # epsilon[1:-1] = torch.transpose(torch.reshape(epsilon_interior, (6,9)), 0, 1)\n",
        "  epsilon = torch.vstack((zeros, torch.transpose(torch.reshape(epsilon_interior, (6,4)), 0, 1), zeros))\n",
        "\n",
        "  W = W0_tensor + theta*W1_tensor + epsilon\n",
        "\n",
        "  generated_fluxes = np.empty(4, object)\n",
        "\n",
        "  for band_index, band in enumerate(bands):\n",
        "    Jl = band_Jl[band]\n",
        "    S0 = band_S0[band]\n",
        "    xis_matrix = band_xis_matrix[band]\n",
        "    h = band_h[band]\n",
        "    Jt = band_Jt[band]\n",
        "\n",
        "    # for var in [Jl, S0, xis_matrix, h, Jt]:\n",
        "    #   print(var.get_device())\n",
        "\n",
        "    JlWJt = torch.matmul(band_Jl[band], torch.matmul(W, band_Jt[band]))\n",
        "\n",
        "    Stilde = band_S0[band] * torch.exp(-gamma * (JlWJt + Av * band_xis_matrix[band]))\n",
        "\n",
        "    f = 10**(0.4 * (ZPT - mu_s - M0 - dMs)) * torch.matmul(band_h[band], Stilde)\n",
        "    generated_fluxes[band_index] = f\n",
        "    # generated_fluxes.append(f)\n",
        "  # generated_fluxes = torch.stack(generated_fluxes)\n",
        "  # print(generated_fluxes)\n",
        "  \n",
        "\n",
        "  # for var in [nu, epsilon_interior, theta, mu_s, dMs, Av, epsilon, W]:\n",
        "  #   print(var.get_device())\n",
        "\n",
        "  # if obs is not None:\n",
        "    # for i in range(len(bands)):\n",
        "  for i in pyro.plate(\"bands\", band_index + 1):\n",
        "    # print(i, band_index)\n",
        "    with pyro.plate(\"observations\" + str(bands[i])):\n",
        "      # print(len(generated_fluxes[i]))\n",
        "      # for j in range(len(generated_fluxes[i])):\n",
        "        # print(generated_fluxes[i].get_device())\n",
        "        # print(flux_errors[i].get_device())\n",
        "        # print(obs[i].get_device())\n",
        "        pyro.sample(\"flux\" + str(bands[i]), dist.Normal(generated_fluxes[i], flux_errors[i]), obs = obs[i])\n",
        "        # print(obs[0][i][j])\n",
        "      # print(generated_fluxes[i])\n"
      ]
    },
    {
      "cell_type": "code",
      "execution_count": null,
      "metadata": {
        "id": "4Sgke9ao1xCx"
      },
      "outputs": [],
      "source": [
        "def model_vi_with_params_faster_predictive_posterior(obs, mu_mean, band_Jl, band_Jt, band_xis_matrix, band_S0, band_h, flux_errors):\n",
        "  nu = pyro.sample(\"nu\", dist.MultivariateNormal(*nu_args))\n",
        "  epsilon_interior = torch.matmul(L_sigma_epsilon_tensor.float(), nu.float())\n",
        "\n",
        "  theta = pyro.sample(\"theta\", dist.Normal(*theta_args))\n",
        "\n",
        "  mu_s = pyro.sample(\"mu_s\", dist.Normal(mu_mean, mu_arg))\n",
        "\n",
        "  dMs = torch.tensor(0.).to(device)\n",
        "  Av = pyro.sample(\"Av\", dist.Exponential(av_arg))\n",
        "\n",
        "  # epsilon = torch.zeros(W0.shape)   ## populate epsilon matrix\n",
        "  # epsilon[1:-1] = torch.transpose(torch.reshape(epsilon_interior, (6,9)), 0, 1)\n",
        "  epsilon = torch.vstack((zeros, torch.transpose(torch.reshape(epsilon_interior, (6,4)), 0, 1), zeros))\n",
        "\n",
        "  W = W0_tensor + theta*W1_tensor + epsilon\n",
        "\n",
        "  generated_fluxes = np.empty(4, object)\n",
        "\n",
        "  for band_index, band in enumerate(bands):\n",
        "    Jl = band_Jl[band]\n",
        "    S0 = band_S0[band]\n",
        "    xis_matrix = band_xis_matrix[band]\n",
        "    h = band_h[band]\n",
        "    Jt = band_Jt[band]\n",
        "\n",
        "    JlWJt = torch.matmul(band_Jl[band], torch.matmul(W, band_Jt[band]))\n",
        "\n",
        "    Stilde = band_S0[band] * torch.exp(-gamma * (JlWJt + Av * band_xis_matrix[band]))\n",
        "\n",
        "    f = 10**(0.4 * (ZPT - mu_s - M0 - dMs)) * torch.matmul(band_h[band], Stilde)\n",
        "    generated_fluxes[band_index] = f\n",
        "\n",
        "  if obs is not None:\n",
        "    for i in pyro.plate(\"bands\", band_index + 1):\n",
        "      with pyro.plate(\"observations\" + str(bands[i])):\n",
        "          pyro.sample(\"flux\" + str(bands[i]), dist.Normal(generated_fluxes[i], flux_errors[i]), obs = obs[i])"
      ]
    },
    {
      "cell_type": "code",
      "execution_count": null,
      "metadata": {
        "id": "TFM9zIVpKkDR"
      },
      "outputs": [],
      "source": [
        "def model_vi_with_params_faster_uniform_av(obs, mu_mean, band_Jl, band_Jt, band_xis_matrix, band_S0, band_h, flux_errors):\n",
        "  nu = pyro.sample(\"nu\", dist.MultivariateNormal(*nu_args))\n",
        "  epsilon_interior = torch.matmul(L_sigma_epsilon_tensor.float(), nu.float())\n",
        "\n",
        "  theta = pyro.sample(\"theta\", dist.Normal(*theta_args))\n",
        "\n",
        "  mu_s = pyro.sample(\"mu_s\", dist.Normal(mu_mean, mu_arg))\n",
        "\n",
        "  dMs = torch.tensor(0.).to(device)\n",
        "  # Av = pyro.sample(\"Av\", dist.Uniform(-1., 2.))\n",
        "  Av = pyro.sample(\"Av\", dist.AsymmetricLaplace(0, 0.252 / 10, 0.1))\n",
        "\n",
        "  # epsilon = torch.zeros(W0.shape)   ## populate epsilon matrix\n",
        "  # epsilon[1:-1] = torch.transpose(torch.reshape(epsilon_interior, (6,9)), 0, 1)\n",
        "  epsilon = torch.vstack((zeros, torch.transpose(torch.reshape(epsilon_interior, (6,9)), 0, 1), zeros))\n",
        "\n",
        "  W = W0_tensor + theta*W1_tensor + epsilon\n",
        "\n",
        "  generated_fluxes = np.empty(4, object)\n",
        "\n",
        "  for band_index, band in enumerate(bands):\n",
        "    Jl = band_Jl[band]\n",
        "    S0 = band_S0[band]\n",
        "    xis_matrix = band_xis_matrix[band]\n",
        "    h = band_h[band]\n",
        "    Jt = band_Jt[band]\n",
        "\n",
        "    # for var in [Jl, S0, xis_matrix, h, Jt]:\n",
        "    #   print(var.get_device())\n",
        "\n",
        "    JlWJt = torch.matmul(band_Jl[band], torch.matmul(W, band_Jt[band]))\n",
        "\n",
        "    Stilde = band_S0[band] * torch.exp(-gamma * (JlWJt + Av * band_xis_matrix[band]))\n",
        "\n",
        "    f = 10**(0.4 * (ZPT - mu_s - M0 - dMs)) * torch.matmul(band_h[band], Stilde)\n",
        "    generated_fluxes[band_index] = f\n",
        "    # generated_fluxes.append(f)\n",
        "  # generated_fluxes = torch.stack(generated_fluxes)\n",
        "  # print(generated_fluxes)\n",
        "  \n",
        "\n",
        "  # for var in [nu, epsilon_interior, theta, mu_s, dMs, Av, epsilon, W]:\n",
        "  #   print(var.get_device())\n",
        "\n",
        "  # if obs is not None:\n",
        "    # for i in range(len(bands)):\n",
        "  for i in pyro.plate(\"bands\", band_index + 1):\n",
        "    # print(i, band_index)\n",
        "    with pyro.plate(\"observations\" + str(bands[i])):\n",
        "      # print(len(generated_fluxes[i]))\n",
        "      # for j in range(len(generated_fluxes[i])):\n",
        "        # print(generated_fluxes[i].get_device())\n",
        "        # print(flux_errors[i].get_device())\n",
        "        # print(obs[i].get_device())\n",
        "        pyro.sample(\"flux\" + str(bands[i]), dist.Normal(generated_fluxes[i], flux_errors[i]), obs = obs[i])"
      ]
    },
    {
      "cell_type": "code",
      "execution_count": null,
      "metadata": {
        "id": "d1RtnrXAslgP"
      },
      "outputs": [],
      "source": [
        "def train_with_params_faster(model, guide, obs, mu_mean, band_Jl, band_Jt, band_xis_matrix, band_S0, band_h, flux_errors, lr=0.01, n_steps=5000, verbose= False):\n",
        "  pyro.get_param_store().clear()\n",
        "  # adam = pyro.optim.Adam({\"lr\": 0.05}, {\"clip_norm\": 10.0})\n",
        "  adam = pyro.optim.ClippedAdam({\"lr\": lr, \"betas\": (0.95, 0.999)})\n",
        "  svi = SVI(model, guide, adam, loss=Trace_ELBO())\n",
        "  # print('hi')\n",
        "  for step in range(n_steps):\n",
        "      loss = svi.step(obs, mu_mean, band_Jl, band_Jt, band_xis_matrix, band_S0, band_h, flux_errors)\n",
        "      if verbose and step % 500 == 0:\n",
        "            print('[iter {}]  loss: {:.4f}'.format(step, loss))\n",
        "          ## if it hasn't decreased in 3 steps, end fitting\n",
        "          # if step > 2000:\n",
        "          #  if losses_every_500[-1] >= losses_every_500[-2] and losses_every_500[-2] >= losses_every_500[-3]:\n",
        "          #   break\n"
      ]
    },
    {
      "cell_type": "code",
      "execution_count": null,
      "metadata": {
        "id": "qqa39GRrwMWE"
      },
      "outputs": [],
      "source": [
        "def get_psis_metric(model, guide, num_particles = 1000):\n",
        "  pyro.get_param_store().clear()\n",
        "  ## Code modified from https://pyro4ci.readthedocs.io/en/latest/_modules/pyro/infer/importance.html#psis_diagnostic\n",
        "  log_weights = torch.as_tensor([pyro.infer.importance.vectorized_importance_weights(model, guide, observed_fluxes, mu_mean, \n",
        "              band_Jl, band_Jt, band_xis_matrix, band_S0, band_h, flux_errors, max_plate_nesting = 2)[0] for _ in range(num_particles)])\n",
        "  # log_weights = torch.cat(log_weights)\n",
        "  log_weights -= log_weights.max()\n",
        "  log_weights = torch.sort(log_weights, descending=False)[0]\n",
        "  cutoff_index = - int(math.ceil(min(0.2 * num_particles, 3.0 * math.sqrt(num_particles)))) - 1\n",
        "  lw_cutoff = max(math.log(1.0e-15), log_weights[cutoff_index])\n",
        "  lw_tail = log_weights[log_weights > lw_cutoff]\n",
        "\n",
        "  if len(lw_tail) < 10:\n",
        "      # warnings.warn(\"Not enough tail samples to compute PSIS diagnostic; increase num_particles.\")\n",
        "      k = float('inf')\n",
        "  else:\n",
        "      k, _ = fit_generalized_pareto(lw_tail.exp() - math.exp(lw_cutoff))\n",
        "  return k"
      ]
    },
    {
      "cell_type": "code",
      "source": [
        "list(meta.SNID.values).index('ASASSN-17at')"
      ],
      "metadata": {
        "colab": {
          "base_uri": "https://localhost:8080/"
        },
        "id": "HZF14mhfwT89",
        "outputId": "dca049cd-e8c4-4a4c-c073-f1a9c78fb601"
      },
      "execution_count": null,
      "outputs": [
        {
          "output_type": "execute_result",
          "data": {
            "text/plain": [
              "55"
            ]
          },
          "metadata": {},
          "execution_count": 20
        }
      ]
    },
    {
      "cell_type": "code",
      "execution_count": null,
      "metadata": {
        "colab": {
          "base_uri": "https://localhost:8080/"
        },
        "id": "xa7rJs27n3CX",
        "outputId": "963e2c94-6564-446d-9bde-308c1fbef94f"
      },
      "outputs": [
        {
          "output_type": "stream",
          "name": "stdout",
          "text": [
            "ASASSN-17at\n",
            "Time: 57.53787422180176 seconds\n",
            "ASASSN-17bs\n",
            "Time: 53.94096755981445 seconds\n",
            "ASASSN-17co\n",
            "Time: 52.199925661087036 seconds\n",
            "ASASSN-17eb\n",
            "Time: 55.603365421295166 seconds\n",
            "AT2016aj\n",
            "Time: 52.152721643447876 seconds\n",
            "AT2016bln\n",
            "Time: 52.60493326187134 seconds\n",
            "AT2016cor\n",
            "Time: 53.342026472091675 seconds\n",
            "AT2016cvv\n",
            "Time: 53.3523588180542 seconds\n",
            "AT2016cvw\n",
            "Time: 51.949355602264404 seconds\n",
            "AT2016cyt\n",
            "Time: 52.77719974517822 seconds\n",
            "AT2016eoa\n",
            "Time: 51.23973822593689 seconds\n",
            "AT2016ews\n",
            "Time: 51.11773109436035 seconds\n",
            "AT2016fbk\n",
            "Time: 51.232120990753174 seconds\n",
            "AT2016gmg\n",
            "Time: 50.86080622673035 seconds\n",
            "AT2016gsu\n",
            "Time: 51.50015211105347 seconds\n",
            "AT2016hns\n",
            "Time: 51.6098952293396 seconds\n",
            "AT2016htm\n",
            "Time: 51.99819302558899 seconds\n",
            "AT2016htn\n",
            "Time: 52.51470160484314 seconds\n",
            "AT2017cfb\n",
            "Time: 50.867918491363525 seconds\n",
            "AT2017cfc\n",
            "Time: 51.589054584503174 seconds\n",
            "AT2017lm\n",
            "Time: 50.76464247703552 seconds\n",
            "AT2017ns\n",
            "Time: 50.88691997528076 seconds\n",
            "AT2017oz\n",
            "Time: 50.54515886306763 seconds\n",
            "AT2017po\n",
            "Time: 50.68941688537598 seconds\n",
            "AT2017wb\n",
            "Time: 50.67232799530029 seconds\n",
            "AT2017yk\n",
            "Time: 49.83382987976074 seconds\n",
            "AT2017zd\n",
            "Time: 50.5098135471344 seconds\n",
            "ATLAS16bwu\n",
            "Time: 50.124775648117065 seconds\n",
            "ATLAS16cpu\n",
            "Time: 50.67902159690857 seconds\n",
            "ATLAS16cxr\n",
            "Time: 52.98680591583252 seconds\n",
            "ATLAS16dpb\n",
            "Time: 51.38396954536438 seconds\n",
            "ATLAS16dqf\n",
            "Time: 50.879913091659546 seconds\n",
            "ATLAS17ajn\n",
            "Time: 52.378703594207764 seconds\n",
            "ATLAS17ajs\n",
            "Time: 53.26772499084473 seconds\n",
            "ATLAS17axb\n",
            "Time: 53.36483645439148 seconds\n",
            "ATLAS17bas\n",
            "Time: 52.174514055252075 seconds\n",
            "Gaia16acv\n",
            "Time: 51.66546416282654 seconds\n",
            "Gaia16aki\n",
            "Time: 50.807501554489136 seconds\n",
            "Gaia16bba\n",
            "Time: 50.64369297027588 seconds\n",
            "MASTERJ0134\n",
            "Time: 53.37935733795166 seconds\n",
            "PS15ahs\n",
            "Time: 54.36407446861267 seconds\n",
            "PS15aii\n",
            "Time: 52.51581382751465 seconds\n",
            "PS15atx\n",
            "Time: 50.66242003440857 seconds\n",
            "PS15bbn\n",
            "Time: 50.873417139053345 seconds\n",
            "PS15bdr\n",
            "Time: 50.88528037071228 seconds\n",
            "PS15bif\n",
            "Time: 51.4951856136322 seconds\n",
            "PS15bjg\n",
            "Time: 52.36986470222473 seconds\n",
            "PS15brr\n",
            "Time: 53.477718114852905 seconds\n",
            "PS15bsq\n",
            "Time: 52.69781827926636 seconds\n",
            "PS15bzz\n",
            "Time: 51.91780662536621 seconds\n",
            "PS15cku\n",
            "Time: 50.812875509262085 seconds\n",
            "PS15cms\n",
            "Time: 51.237462759017944 seconds\n",
            "PS15coh\n",
            "Time: 51.12248349189758 seconds\n",
            "PS15cwx\n",
            "Time: 51.37915587425232 seconds\n",
            "PS15cze\n",
            "Time: 50.679996490478516 seconds\n",
            "PS15mt\n",
            "Time: 50.0276083946228 seconds\n",
            "PS16aer\n",
            "Time: 51.01525902748108 seconds\n",
            "PS16axi\n",
            "Time: 51.33408784866333 seconds\n",
            "PS16ayd\n",
            "Time: 52.28497529029846 seconds\n",
            "PS16bby\n",
            "Time: 51.596556186676025 seconds\n",
            "PS16bnz\n",
            "Time: 51.652503490448 seconds\n",
            "PS16ccn\n",
            "trying again\n",
            "Time: 46.339343547821045 seconds\n",
            "PS16cqa\n",
            "Time: 50.8092405796051 seconds\n",
            "PS16cvc\n",
            "Time: 51.57642221450806 seconds\n",
            "PS16dnp\n",
            "Time: 51.77556562423706 seconds\n",
            "PS16el\n",
            "Time: 52.89151191711426 seconds\n",
            "PS16em\n",
            "Time: 53.34307503700256 seconds\n",
            "PS16evk\n",
            "Time: 53.35104250907898 seconds\n",
            "PS16fa\n",
            "Time: 53.07662224769592 seconds\n",
            "PS16fbb\n",
            "Time: 52.211942195892334 seconds\n",
            "PS16n\n",
            "Time: 53.00465202331543 seconds\n",
            "PS17akj\n",
            "Time: 52.118597745895386 seconds\n",
            "PS17bii\n",
            "Time: 51.982118129730225 seconds\n",
            "PS17tn\n",
            "Time: 51.31621241569519 seconds\n",
            "PSNJ0107203\n",
            "Time: 52.116007804870605 seconds\n",
            "PSNJ0153424\n",
            "Time: 51.74280071258545 seconds\n",
            "PSNJ0252467\n",
            "Time: 51.1155903339386 seconds\n",
            "PSNJ0859349\n",
            "Time: 51.763343811035156 seconds\n",
            "PSNJ1204051\n",
            "Time: 51.05725455284119 seconds\n",
            "PSNJ1602512\n",
            "Time: 51.6423397064209 seconds\n",
            "PSNJ2352371\n",
            "Time: 51.57548809051514 seconds\n",
            "PTSS-16efw\n",
            "Time: 51.5448853969574 seconds\n",
            "PTSS17-niq\n",
            "Time: 50.72136354446411 seconds\n",
            "SN2016aqb\n",
            "Time: 51.02837514877319 seconds\n",
            "SN2016ayg\n",
            "Time: 51.80586528778076 seconds\n",
            "SN2016esh\n",
            "Time: 51.65511131286621 seconds\n",
            "SN2016gfr\n",
            "Time: 50.754493951797485 seconds\n",
            "SN2016gmb\n",
            "Time: 50.132628202438354 seconds\n",
            "SN2016hhv\n",
            "Time: 50.45321011543274 seconds\n",
            "SN2016hpx\n",
            "Time: 52.019880294799805 seconds\n",
            "SN2016ixf\n",
            "Time: 50.97660303115845 seconds\n",
            "SN2017cii\n",
            "Time: 52.21425223350525 seconds\n",
            "SN2017ciy\n",
            "Time: 51.358835220336914 seconds\n",
            "SN2017cjv\n",
            "Time: 52.179829359054565 seconds\n",
            "SN2017ckx\n",
            "Time: 51.148571729660034 seconds\n",
            "SN2017coa\n",
            "Time: 50.727314949035645 seconds\n",
            "SN2017cpu\n",
            "Time: 51.19328284263611 seconds\n",
            "SN2017hn\n",
            "Time: 51.42451214790344 seconds\n",
            "SN2017jl\n",
            "Time: 51.32860708236694 seconds\n",
            "SN2017mf\n",
            "Time: 51.26880192756653 seconds\n",
            "SN2017ms\n",
            "Time: 52.44952583312988 seconds\n",
            "iPTF16auf\n",
            "Time: 52.39590764045715 seconds\n"
          ]
        }
      ],
      "source": [
        " # laplace_samples = {}\n",
        "# laplace_vi_loc = {}\n",
        "# laplace_vi_scale_tril = {}\n",
        "\n",
        "# laplace_approxes = {}\n",
        "\n",
        "# laplace_no_vi_loc = {}\n",
        "# laplace_no_vi_scale_tril = {}\n",
        "\n",
        "for sn in meta.SNID.values[55:]:\n",
        "  print(sn)\n",
        "\n",
        "  tmax = tmax_dict[sn]\n",
        "  z_helio = z_helio_dict[sn]\n",
        "  EBV_MW = mwebv_dict[sn]\n",
        "  z_cmb = z_cmb_dict[sn]\n",
        "\n",
        "  Av_obs = EBV_MW * 3.1\n",
        "  observed_fluxes, flux_errors, times_dict = get_fluxes_from_file(sn + \".dat\", tmax, z_helio)\n",
        "\n",
        "  # Calculate band-dependent quantities (Jl, Jt, xis, S0, etc.)\n",
        "  band_Jt, band_Jl, band_xis_matrix, band_S0, band_h = calculate_band_dependent_stuff(times_dict, z_helio, Av_obs)\n",
        "  mu_mean = torch.as_tensor(cosmo.distmod(z_cmb).value).to(device)\n",
        "\n",
        "\n",
        "  try:\n",
        "\n",
        "    start_time = measure_time.time()\n",
        "    # Fit Laplace Approximation\n",
        "\n",
        "    # autoguide_laplace1 = pyro.infer.autoguide.AutoLaplaceApproximation(model_vi_with_params_faster)\n",
        "    # train_with_params_faster(model_vi_with_params_faster, autoguide_laplace1, observed_fluxes, mu_mean, \n",
        "    #                 band_Jl, band_Jt, band_xis_matrix, band_S0, band_h, flux_errors, n_steps=3000, verbose = True)\n",
        "      \n",
        "    # first_laplace_guide = autoguide_laplace1.laplace_approximation(observed_fluxes, mu_mean, \n",
        "    #                 band_Jl, band_Jt, band_xis_matrix, band_S0, band_h, flux_errors,)\n",
        "\n",
        "    # # print(first_laplace_guide.get_posterior().loc.numpy()[-2])\n",
        "\n",
        "    # laplace_no_vi_loc[sn] = first_laplace_guide.get_posterior().loc.numpy()\n",
        "    # laplace_no_vi_scale_tril[sn] = first_laplace_guide.get_posterior().scale_tril.numpy()\n",
        "\n",
        "    autoguide_laplace = pyro.infer.autoguide.AutoLaplaceApproximation(model_vi_with_params_faster)\n",
        "    train_with_params_faster(model_vi_with_params_faster, autoguide_laplace, observed_fluxes, mu_mean, \n",
        "                  band_Jl, band_Jt, band_xis_matrix, band_S0, band_h, flux_errors, n_steps=3000, verbose = True)\n",
        "    \n",
        "\n",
        "    # Fit VI based on Laplace Approximation\n",
        "    new_laplace_approx_guide = autoguide_laplace.laplace_approximation(observed_fluxes, mu_mean, \n",
        "                  band_Jl, band_Jt, band_xis_matrix, band_S0, band_h, flux_errors,)\n",
        "    \n",
        "\n",
        "    train_with_params_faster(model_vi_with_params_faster, new_laplace_approx_guide, observed_fluxes, mu_mean, \n",
        "                  band_Jl, band_Jt, band_xis_matrix, band_S0, band_h, flux_errors, n_steps=6000, verbose = True)\n",
        "    \n",
        "    laplace_vi_loc[sn] = new_laplace_approx_guide.get_posterior().loc.numpy()\n",
        "    laplace_vi_scale_tril[sn] = new_laplace_approx_guide.get_posterior().scale_tril.numpy()\n",
        "\n",
        "    end_time = measure_time.time()\n",
        "    print(\"Time:\", end_time - start_time, \"seconds\")\n",
        "\n",
        "    np.save(\"foundation_laplace_vi_loc_071422_T21.npy\", laplace_vi_loc)\n",
        "    np.save(\"foundation_laplace_vi_scale_tril_071422_T21.npy\", laplace_vi_scale_tril)\n",
        "\n",
        "\n",
        "\n",
        "  except:\n",
        "    try:\n",
        "      print(\"trying again\")\n",
        "\n",
        "      start_time = measure_time.time()\n",
        "\n",
        "      autoguide_laplace = pyro.infer.autoguide.AutoLaplaceApproximation(model_vi_with_params_faster)\n",
        "      train_with_params_faster(model_vi_with_params_faster, autoguide_laplace, observed_fluxes, mu_mean, \n",
        "                    band_Jl, band_Jt, band_xis_matrix, band_S0, band_h, flux_errors, n_steps=3000, verbose = True)\n",
        "    \n",
        "\n",
        "      # Fit VI based on Laplace Approximation\n",
        "      new_laplace_approx_guide = autoguide_laplace.laplace_approximation(observed_fluxes, mu_mean, \n",
        "                    band_Jl, band_Jt, band_xis_matrix, band_S0, band_h, flux_errors,)\n",
        "\n",
        "\n",
        "      train_with_params_faster(model_vi_with_params_faster, new_laplace_approx_guide, observed_fluxes, mu_mean, \n",
        "                    band_Jl, band_Jt, band_xis_matrix, band_S0, band_h, flux_errors, n_steps=5000, verbose = True)\n",
        "    \n",
        "      end_time = measure_time.time()\n",
        "      print(\"Time:\", end_time - start_time, \"seconds\")\n",
        "\n",
        "      laplace_vi_loc[sn] = new_laplace_approx_guide.get_posterior().loc.numpy()\n",
        "      laplace_vi_scale_tril[sn] = new_laplace_approx_guide.get_posterior().scale_tril.numpy()\n",
        "\n",
        "      np.save(\"foundation_laplace_vi_loc_071422_T21.npy\", laplace_vi_loc)\n",
        "      np.save(\"foundation_laplace_vi_scale_tril_071422_T21.npy\", laplace_vi_scale_tril)\n",
        "\n",
        "    except:\n",
        "      print(\"Did not work for\", sn)"
      ]
    },
    {
      "cell_type": "markdown",
      "metadata": {
        "id": "sZYgCHXKwmq2"
      },
      "source": [
        "## Make Hubble Diagram"
      ]
    },
    {
      "cell_type": "code",
      "execution_count": null,
      "metadata": {
        "id": "6qqGfPsIEcfA"
      },
      "outputs": [],
      "source": [
        "# vi_loc_dict = np.load(\"foundation_vi_loc.npy\", allow_pickle = True).item()\n",
        "# laplace_vi_loc_dict = np.load(\"laplace_vi_loc_redo.npy\", allow_pickle = True).item()\n",
        "# laplace_vi_scale_tril_dict = np.load(\"laplace_vi_scale_tril_redo.npy\", allow_pickle = True).item()\n",
        "laplace_vi_loc_dict = np.load(\"foundation_laplace_vi_loc_080222_T21.npy\", allow_pickle = True).item()\n",
        "laplace_vi_scale_tril_dict = np.load(\"foundation_laplace_vi_scale_tril_080222_T21.npy\", allow_pickle = True).item()\n",
        "# vi_scale_tril_dict = np.load(\"foundation_vi_scale_tril.npy\", allow_pickle = True).item()"
      ]
    },
    {
      "cell_type": "code",
      "execution_count": null,
      "metadata": {
        "colab": {
          "base_uri": "https://localhost:8080/"
        },
        "id": "ln3w4bpnvwml",
        "outputId": "f7ac3694-b0de-4e58-878b-2c54d42f164f"
      },
      "outputs": [
        {
          "output_type": "execute_result",
          "data": {
            "text/plain": [
              "157"
            ]
          },
          "metadata": {},
          "execution_count": 22
        }
      ],
      "source": [
        "len(laplace_vi_loc_dict)"
      ]
    },
    {
      "cell_type": "code",
      "source": [
        "list(meta.SNID.values).index('ASASSN-16aj')"
      ],
      "metadata": {
        "colab": {
          "base_uri": "https://localhost:8080/"
        },
        "id": "h2ZTsermQPhG",
        "outputId": "57cc5489-71e7-4532-fc2b-2057a64f5a49"
      },
      "execution_count": null,
      "outputs": [
        {
          "output_type": "execute_result",
          "data": {
            "text/plain": [
              "34"
            ]
          },
          "metadata": {},
          "execution_count": 23
        }
      ]
    },
    {
      "cell_type": "code",
      "execution_count": null,
      "metadata": {
        "id": "_U3wUERoWD74"
      },
      "outputs": [],
      "source": [
        "# for sn in meta.SNID.values[34:35]:\n",
        "#   print(sn)\n",
        "\n",
        "#   tmax = tmax_dict[sn]\n",
        "#   z_helio = z_helio_dict[sn]\n",
        "#   EBV_MW = mwebv_dict[sn]\n",
        "#   z_cmb = z_cmb_dict[sn]\n",
        "#   mu_mean = torch.as_tensor(cosmo.distmod(z_cmb).value).to(device)\n",
        "\n",
        "\n",
        "#   Av_obs = EBV_MW * 3.1\n",
        "#   observed_fluxes, flux_errors, times_dict = get_fluxes_from_file(sn + \".dat\", tmax, z_helio)\n",
        "\n",
        "#   # Calculate band-dependent quantities (Jl, Jt, xis, S0, etc.)\n",
        "#   band_Jt, band_Jl, band_xis_matrix, band_S0, band_h = calculate_band_dependent_stuff(times_dict, z_helio, Av_obs)\n",
        "\n",
        "#   autoguide_laplace = pyro.infer.autoguide.AutoLaplaceApproximation(model_vi_with_params_faster)\n",
        "#   train_with_params_faster(model_vi_with_params_faster, autoguide_laplace, observed_fluxes, mu_mean, \n",
        "#                 band_Jl, band_Jt, band_xis_matrix, band_S0, band_h, flux_errors, n_steps=3000, verbose = True)\n",
        "  \n",
        "\n",
        "#   # Fit VI based on Laplace Approximation\n",
        "#   new_laplace_approx_guide = autoguide_laplace.laplace_approximation(observed_fluxes, mu_mean, \n",
        "#                 band_Jl, band_Jt, band_xis_matrix, band_S0, band_h, flux_errors,)\n",
        "  \n",
        "\n",
        "#   train_with_params_faster(model_vi_with_params_faster, new_laplace_approx_guide, observed_fluxes, mu_mean, \n",
        "#                 band_Jl, band_Jt, band_xis_matrix, band_S0, band_h, flux_errors, n_steps=6000, verbose = True)\n",
        "  \n",
        "#   # laplace_vi_loc[sn] = new_laplace_approx_guide.get_posterior().loc.numpy()\n",
        "#   # laplace_vi_scale_tril[sn] = new_laplace_approx_guide.get_posterior().scale_tril.numpy()\n"
      ]
    },
    {
      "cell_type": "code",
      "source": [
        "# laplace_vi_loc_dict['ASASSN-16aj'] = new_laplace_approx_guide.get_posterior().loc.numpy()\n",
        "# laplace_vi_scale_tril_dict['ASASSN-16aj'] = new_laplace_approx_guide.get_posterior().scale_tril.numpy()"
      ],
      "metadata": {
        "id": "PqjBA8yhI0bU"
      },
      "execution_count": null,
      "outputs": []
    },
    {
      "cell_type": "code",
      "source": [
        "# np.save(\"foundation_laplace_vi_loc_080222_T21.npy\", laplace_vi_loc_dict)\n",
        "# np.save(\"foundation_laplace_vi_scale_tril_080222_T21.npy\", laplace_vi_scale_tril_dict)"
      ],
      "metadata": {
        "id": "ixA0hn0WK4Ns"
      },
      "execution_count": null,
      "outputs": []
    },
    {
      "cell_type": "code",
      "execution_count": null,
      "metadata": {
        "id": "eWh32nh8w-RS"
      },
      "outputs": [],
      "source": [
        "vi_mus = []\n",
        "vi_vars = []\n",
        "laplace_vi_mus = []\n",
        "laplace_vi_vars = []\n",
        "\n",
        "vi_z_cmbs = []\n",
        "\n",
        "laplace_vi_z_cmbs = []\n",
        "\n",
        "\n",
        "for sn in list(laplace_vi_loc_dict.keys()):\n",
        "  # if sn != \"ASASSN-16aj\":\n",
        "    try:\n",
        "      vi_mus.append(vi_loc_dict[sn][-2])\n",
        "      vi_scale_tril = vi_scale_tril_dict[sn]\n",
        "      # Calculate covariance matrix from scale_tril (sigma = LL^T)\n",
        "      vi_vars.append(np.matmul(vi_scale_tril, vi_scale_tril.T)[-2][-2])\n",
        "      vi_z_cmbs.append(z_cmb_dict[sn])\n",
        "    except:\n",
        "      pass\n",
        "\n",
        "    try:\n",
        "      laplace_vi_mus.append(laplace_vi_loc_dict[sn][-2])\n",
        "      laplace_vi_scale_tril = laplace_vi_scale_tril_dict[sn]\n",
        "      laplace_vi_vars.append(np.matmul(laplace_vi_scale_tril, laplace_vi_scale_tril.T)[-2][-2])\n",
        "      laplace_vi_z_cmbs.append(z_cmb_dict[sn])\n",
        "    except:\n",
        "      pass"
      ]
    },
    {
      "cell_type": "code",
      "source": [
        "max(laplace_vi_vars)"
      ],
      "metadata": {
        "colab": {
          "base_uri": "https://localhost:8080/"
        },
        "id": "y8KY7H6pIxHE",
        "outputId": "fbc2c895-b448-4484-ef78-7d337cfd6878"
      },
      "execution_count": null,
      "outputs": [
        {
          "output_type": "execute_result",
          "data": {
            "text/plain": [
              "0.12743195168110133"
            ]
          },
          "metadata": {},
          "execution_count": 26
        }
      ]
    },
    {
      "cell_type": "code",
      "source": [
        "laplace_vi_vars.index(max(laplace_vi_vars))"
      ],
      "metadata": {
        "colab": {
          "base_uri": "https://localhost:8080/"
        },
        "id": "HyX6DPD7FqrH",
        "outputId": "526e3246-8bf4-44ed-d323-6aaa45ab2576"
      },
      "execution_count": null,
      "outputs": [
        {
          "output_type": "execute_result",
          "data": {
            "text/plain": [
              "8"
            ]
          },
          "metadata": {},
          "execution_count": 27
        }
      ]
    },
    {
      "cell_type": "code",
      "execution_count": null,
      "metadata": {
        "colab": {
          "base_uri": "https://localhost:8080/"
        },
        "id": "l4GXjAOtu9R9",
        "outputId": "8c0a3a1d-f678-4e25-ddb0-5fed0ac15aa3"
      },
      "outputs": [
        {
          "output_type": "execute_result",
          "data": {
            "text/plain": [
              "157"
            ]
          },
          "metadata": {},
          "execution_count": 28
        }
      ],
      "source": [
        "len(laplace_vi_z_cmbs)"
      ]
    },
    {
      "cell_type": "markdown",
      "metadata": {
        "id": "DYS4F0cmBH3D"
      },
      "source": [
        "VI from Laplace Hubble Diagram"
      ]
    },
    {
      "cell_type": "code",
      "source": [
        "linspace_z = np.linspace(0.01, 0.085)\n",
        "\n",
        "cosmo = FlatLambdaCDM(H0 = 73.24, Om0 = 0.28)\n",
        "cosmo_distmod_values = np.array([cosmo.distmod(z).value for z in linspace_z])"
      ],
      "metadata": {
        "id": "LCTkZhefs0yb"
      },
      "execution_count": null,
      "outputs": []
    },
    {
      "cell_type": "code",
      "execution_count": null,
      "metadata": {
        "colab": {
          "base_uri": "https://localhost:8080/"
        },
        "id": "ZbFCez_CTnMh",
        "outputId": "be8c19e3-88d5-48fe-cc38-61c99d24df6f"
      },
      "outputs": [
        {
          "output_type": "stream",
          "name": "stdout",
          "text": [
            "0.12321166413020739\n"
          ]
        }
      ],
      "source": [
        "predictions = laplace_vi_mus\n",
        "targets = np.array([cosmo.distmod(z).value for z in laplace_vi_z_cmbs])\n",
        "\n",
        "rmse = np.sqrt(np.mean((predictions-targets)**2))\n",
        "print(rmse)"
      ]
    },
    {
      "cell_type": "code",
      "execution_count": null,
      "metadata": {
        "colab": {
          "base_uri": "https://localhost:8080/",
          "height": 289
        },
        "id": "B5AHS8zzywIL",
        "outputId": "0834390b-2f33-47b8-baf2-419a8a95c522"
      },
      "outputs": [
        {
          "output_type": "display_data",
          "data": {
            "text/plain": [
              "<Figure size 432x288 with 1 Axes>"
            ],
            "image/png": "[encoded data removed]"
          },
          "metadata": {
            "needs_background": "light"
          }
        }
      ],
      "source": [
        "f = plt.figure()\n",
        "plt.plot(laplace_vi_z_cmbs, laplace_vi_mus, 'o', color = (0.104,0.382,0.664))\n",
        "plt.plot(linspace_z, cosmo_distmod_values, color = 'k')\n",
        "plt.errorbar(laplace_vi_z_cmbs, laplace_vi_mus, np.sqrt(laplace_vi_vars), linestyle = 'None', color = 'k')\n",
        "plt.xlabel(\"z\", fontsize =14)\n",
        "plt.ylabel(\"$\\\\mu$\", fontsize = 14)\n",
        "plt.xticks(fontsize = 14)\n",
        "plt.yticks(fontsize = 14)\n",
        "plt.text(0.07, 34.3, \"Foundation DR1\", fontsize = 16, horizontalalignment = 'center')\n",
        "plt.text(0.07, 33.8, \"N = \" + str(len(laplace_vi_z_cmbs)), fontsize = 16, horizontalalignment = 'center')\n",
        "plt.text(0.07, 33.3, \"RMSE = \" + str(round(rmse,2)), fontsize = 16, horizontalalignment = 'center')\n",
        "f.savefig(\"HubbleDiagram_T21_080222.pdf\", bbox_inches = 'tight')\n",
        "# plt.title(\"Foundation dataset distances- VI initialized with Laplace\", fontsize = 12)"
      ]
    },
    {
      "cell_type": "code",
      "execution_count": null,
      "metadata": {
        "colab": {
          "base_uri": "https://localhost:8080/",
          "height": 287
        },
        "id": "kJlu2rOCzPoV",
        "outputId": "0cf43356-085d-4d56-acf3-5f99eefbffbb"
      },
      "outputs": [
        {
          "output_type": "display_data",
          "data": {
            "text/plain": [
              "<Figure size 432x288 with 1 Axes>"
            ],
            "image/png": "[encoded data removed]"
          },
          "metadata": {
            "needs_background": "light"
          }
        }
      ],
      "source": [
        "g = plt.figure()\n",
        "plt.plot(laplace_vi_z_cmbs, laplace_vi_mus - np.array([cosmo.distmod(z).value for z in laplace_vi_z_cmbs]), 'o',color = (0.104,0.382,0.664))\n",
        "\n",
        "plt.errorbar(laplace_vi_z_cmbs, laplace_vi_mus - np.array([cosmo.distmod(z).value for z in laplace_vi_z_cmbs]), np.sqrt(laplace_vi_vars), linestyle = 'None', color = 'k')\n",
        "\n",
        "\n",
        "sigma_pec = 150\n",
        "c = 300000\n",
        "\n",
        "sigma_envelope = np.array([(5 / (z * np.log(10))) * (sigma_pec / c) for z in linspace_z])\n",
        "\n",
        "plt.plot(linspace_z, sigma_envelope, marker = 'None', linestyle = 'dashed', color = 'k')\n",
        "plt.plot(linspace_z, -sigma_envelope, marker = 'None', linestyle = 'dashed', color = 'k')\n",
        "\n",
        "plt.axhline(0., color = 'k')\n",
        "\n",
        "plt.xlabel(\"z\", fontsize = 14)\n",
        "plt.ylabel(\"Hubble Residual\", fontsize = 14)\n",
        "# plt.ylim(-1, 1)\n",
        "# plt.title(\"Foundation dataset residuals- VI initialized with Laplace\", fontsize = 12)\n",
        "plt.xticks(fontsize = 14)\n",
        "plt.yticks(fontsize = 14)\n",
        "plt.show()\n",
        "g.savefig(\"HubbleResiduals.pdf\", bbox_inches = 'tight')"
      ]
    },
    {
      "cell_type": "markdown",
      "source": [
        "##Generate figures for Stephen's talk"
      ],
      "metadata": {
        "id": "lVSpYtdMtLcj"
      }
    },
    {
      "cell_type": "code",
      "source": [
        "sn = 'ASASSN-16cs'"
      ],
      "metadata": {
        "id": "7polbOLnM_8Z"
      },
      "execution_count": null,
      "outputs": []
    },
    {
      "cell_type": "code",
      "source": [
        "def get_vi_samples(sn, num_samples = 1000):\n",
        "  # print(laplace_vi_loc_dict[sn])\n",
        "  # print(laplace_vi_scale_tril_dict[sn])\n",
        "  dist = torch.distributions.MultivariateNormal(torch.as_tensor(laplace_vi_loc_dict[sn]), scale_tril = torch.as_tensor(laplace_vi_scale_tril_dict[sn]))\n",
        "  sn_vi_samples = dist.sample((num_samples,)).numpy()\n",
        "  # print(np.shape(sn_vi_samples[:,-1]))\n",
        "  theta_samples = sn_vi_samples[:,-3]\n",
        "  av_samples = np.exp(sn_vi_samples[:,-1])\n",
        "  mu_samples = sn_vi_samples[:,-2]\n",
        "  return np.vstack((mu_samples, theta_samples, av_samples)).T"
      ],
      "metadata": {
        "id": "aj5Ttsr8OAuo"
      },
      "execution_count": null,
      "outputs": []
    },
    {
      "cell_type": "code",
      "source": [
        "mcmc_estimate = np.load(sn + \"_chains_210610_135216.npy\", allow_pickle = True).item()\n",
        "laplace_vi_samples = get_vi_samples(sn)"
      ],
      "metadata": {
        "id": "bmfKF-UcM7D8"
      },
      "execution_count": null,
      "outputs": []
    },
    {
      "cell_type": "code",
      "source": [
        "figure = corner.corner(laplace_vi_samples,\n",
        "                       labels = [\"log(distance)\", \"shape\", \"dust extinction\"], color = 'k')\n",
        "# # corner.corner(np.vstack((laplace_samples['mu_s'][:,0,0].numpy(),laplace_samples['theta'][:,0,0].numpy(), \n",
        "# #                                   laplace_samples['Av'][:,0,0].numpy())).T, \n",
        "# #                        labels = [r\"$\\mu_s$\", r\"$\\theta$\", r\"$A_v$\"], fig = figure, color = 'b')\n",
        "corner.corner(np.vstack((mcmc_estimate['mu'] + mcmc_estimate['delM'],mcmc_estimate['theta'], mcmc_estimate['AV'])).T, \n",
        "                       labels = [\"log(distance)\", \"shape\", \"dust extinction\"], color = 'r', fig = figure, label_kwargs = {'fontsize':16}, max_n_ticks = 4)\n",
        "colors = ['k','r']\n",
        "\n",
        "labels = ['VI init from \\nLaplace approx', 'MCMC']\n",
        "\n",
        "plt.legend(\n",
        "    handles=[\n",
        "        mlines.Line2D([], [], color=colors[i], label=labels[i])\n",
        "        for i in range(len(labels))\n",
        "    ],\n",
        "    fontsize=20, frameon=False,\n",
        "    bbox_to_anchor=(1, 3), loc=\"upper right\"\n",
        ")\n",
        "# plt.xticks(fontsize = 14)\n",
        "# figure.suptitle(\"Parameter distributions for ASASSN-16CS dataset \\n hi\", fontsize = 20)\n",
        "plt.show()\n",
        "figure.savefig(\"ASASSN_corner_plot_T21_072122.png\", bbox_inches = 'tight')"
      ],
      "metadata": {
        "colab": {
          "base_uri": "https://localhost:8080/",
          "height": 536
        },
        "id": "mL78BjW8NXdr",
        "outputId": "17b64035-1dd2-4b61-eb6e-847d29c48346"
      },
      "execution_count": null,
      "outputs": [
        {
          "output_type": "display_data",
          "data": {
            "text/plain": [
              "<Figure size 547.2x547.2 with 9 Axes>"
            ],
            "image/png": "[encoded data removed]"
          },
          "metadata": {
            "needs_background": "light"
          }
        }
      ]
    },
    {
      "cell_type": "code",
      "source": [
        "def get_flux_from_params(epsilon_interior, theta, mu_s, dMs, Av, xis_matrix, S0, h, Jl, Jt, W0 = W0, W1 = W1):\n",
        "\n",
        "  epsilon = np.zeros_like(W0)   ## populate epsilon matrix\n",
        "  epsilon[1:-1] = epsilon_interior.numpy().reshape((4,6), order = 'F')\n",
        "\n",
        "  W = W0 + theta.numpy()*W1 + epsilon\n",
        "\n",
        "  JlWJt = np.matmul(Jl, np.matmul(W, Jt.T))\n",
        "\n",
        "  Stilde = S0 * np.exp(-gamma.numpy() * (JlWJt.numpy() + Av.numpy() * xis_matrix))\n",
        "\n",
        "  f = 10**(0.4 * (ZPT - mu_s.numpy() - M0 - dMs.numpy())) * np.matmul(h,Stilde)\n",
        "\n",
        "  return f"
      ],
      "metadata": {
        "id": "sBgwDIytSXVr"
      },
      "execution_count": null,
      "outputs": []
    },
    {
      "cell_type": "code",
      "source": [
        "def calculate_all_fluxes_from_params(nu, theta, mu_s, dMs, Av, z):\n",
        "  times_to_interpolate = np.linspace(-10, 40)\n",
        "  Jt = spline_coeffs_irr(times_to_interpolate, time_knots, invKD_irr(time_knots))\n",
        "\n",
        "  epsilon_interior = np.matmul(L_sigma_epsilon, nu.numpy().T)\n",
        "\n",
        "  epsilon = np.zeros_like(W0)   ## populate epsilon matrix\n",
        "  epsilon[1:-1] = epsilon_interior.reshape((4,6), order = 'F')\n",
        "\n",
        "  W = W0 + theta.numpy()*W1 + epsilon\n",
        "\n",
        "  generated_fluxes_from_params = []\n",
        "\n",
        "  for band in bands:\n",
        "    band_wavelengths = wavelengths_dict[band]\n",
        "    band_norm_throughput = norm_throughput_dict[band]\n",
        "\n",
        "    Jl = band_Jl[band]\n",
        "    # xis_matrix = band_xis_matrix[band]\n",
        "    # h = band_h[band]\n",
        "\n",
        "    wavelengths_to_interpolate = get_lambda_int_for_band(band_wavelengths, z)\n",
        "    \n",
        "    # Jl = spline_coeffs_irr(wavelengths_to_interpolate, wavelength_knots, invKD_irr(wavelength_knots))\n",
        "    xis = extinction.fitzpatrick99(wavelengths_to_interpolate, 1, rv)\n",
        "    xis_matrix = np.tile(xis, (len(times_to_interpolate),1)).T\n",
        "\n",
        "    S0 = np.zeros((len(wavelengths_to_interpolate), len(times_to_interpolate)))\n",
        "    for i, wavelength in enumerate(wavelengths_to_interpolate):\n",
        "      for j, time in enumerate(times_to_interpolate):\n",
        "        S0[i][j] = interpolate_hsiao(time, wavelength, hsiao_phase, hsiao_wave, hsiao_flux)\n",
        "\n",
        "    throughput_interpolator = interp1d(band_wavelengths, band_norm_throughput)\n",
        "    b = throughput_interpolator([band_wavelengths[0]] + list(wavelengths_to_interpolate[1:-1] * (1 + z)) + [band_wavelengths[-1]])\n",
        "\n",
        "    xis_obs = extinction.fitzpatrick99(wavelengths_to_interpolate*(1 + z), Av_obs, 3.1)\n",
        "    dLambda = wavelengths_to_interpolate[1] - wavelengths_to_interpolate[0]\n",
        "    h = (1 + torch.as_tensor(z)) * dLambda * b * wavelengths_to_interpolate * np.exp(-gamma * xis_obs)\n",
        "\n",
        "    band_flux = get_flux_from_params(torch.as_tensor(epsilon_interior), torch.as_tensor(theta), \n",
        "                                torch.as_tensor(mu_s), torch.as_tensor(dMs), torch.as_tensor(Av),\n",
        "                                xis_matrix = xis_matrix, S0 = S0, h = h, Jt = Jt, Jl = Jl)\n",
        "    \n",
        "    generated_fluxes_from_params.append(np.array(band_flux))\n",
        "  \n",
        "  return np.array(generated_fluxes_from_params)"
      ],
      "metadata": {
        "id": "MhIMt0urP6TH"
      },
      "execution_count": null,
      "outputs": []
    },
    {
      "cell_type": "code",
      "source": [
        "posterior_samples = Predictive(model_vi_with_params_faster_predictive_posterior, guide = new_laplace_approx_guide, num_samples = 100)(None, mu_mean, \n",
        "                band_Jl, band_Jt, band_xis_matrix, band_S0, band_h, flux_errors)"
      ],
      "metadata": {
        "colab": {
          "base_uri": "https://localhost:8080/",
          "height": 208
        },
        "id": "xjAhxch0SWsL",
        "outputId": "5eb29f83-ef16-4562-d4e7-ca2b7e95a2b7"
      },
      "execution_count": null,
      "outputs": [
        {
          "output_type": "error",
          "ename": "NameError",
          "evalue": "ignored",
          "traceback": [
            "\u001b[0;31m---------------------------------------------------------------------------\u001b[0m",
            "\u001b[0;31mNameError\u001b[0m                                 Traceback (most recent call last)",
            "\u001b[0;32m<ipython-input-42-cbb1a6c40a9a>\u001b[0m in \u001b[0;36m<module>\u001b[0;34m()\u001b[0m\n\u001b[0;32m----> 1\u001b[0;31m posterior_samples = Predictive(model_vi_with_params_faster_predictive_posterior, guide = new_laplace_approx_guide, num_samples = 100)(None, mu_mean, \n\u001b[0m\u001b[1;32m      2\u001b[0m                 band_Jl, band_Jt, band_xis_matrix, band_S0, band_h, flux_errors)\n",
            "\u001b[0;31mNameError\u001b[0m: name 'new_laplace_approx_guide' is not defined"
          ]
        }
      ]
    },
    {
      "cell_type": "code",
      "source": [
        "posterior_samples['nu']"
      ],
      "metadata": {
        "colab": {
          "base_uri": "https://localhost:8080/",
          "height": 171
        },
        "id": "mGSnIfGwRsVr",
        "outputId": "bccd37cf-20cd-45f7-bfc6-2e916d916be3"
      },
      "execution_count": null,
      "outputs": [
        {
          "output_type": "error",
          "ename": "NameError",
          "evalue": "ignored",
          "traceback": [
            "\u001b[0;31m---------------------------------------------------------------------------\u001b[0m",
            "\u001b[0;31mNameError\u001b[0m                                 Traceback (most recent call last)",
            "\u001b[0;32m<ipython-input-43-5a084f7c0842>\u001b[0m in \u001b[0;36m<module>\u001b[0;34m()\u001b[0m\n\u001b[0;32m----> 1\u001b[0;31m \u001b[0mposterior_samples\u001b[0m\u001b[0;34m[\u001b[0m\u001b[0;34m'nu'\u001b[0m\u001b[0;34m]\u001b[0m\u001b[0;34m\u001b[0m\u001b[0;34m\u001b[0m\u001b[0m\n\u001b[0m",
            "\u001b[0;31mNameError\u001b[0m: name 'posterior_samples' is not defined"
          ]
        }
      ]
    },
    {
      "cell_type": "code",
      "source": [
        "posterior_smooth_curves = []\n",
        "for nu, theta, mu_s, Av in zip(posterior_samples['nu'], posterior_samples['theta'], posterior_samples['mu_s'], posterior_samples['Av']):\n",
        "  # print(nu, theta, mu_s, Av)\n",
        "  posterior_smooth_curves.append(calculate_all_fluxes_from_params(nu, theta, mu_s, torch.as_tensor(0.), Av, z_helio_dict[sn]))"
      ],
      "metadata": {
        "colab": {
          "base_uri": "https://localhost:8080/",
          "height": 263
        },
        "id": "vnEjNFGqRpqm",
        "outputId": "8153b16d-0f31-4d25-dac3-c191e22e76d8"
      },
      "execution_count": null,
      "outputs": [
        {
          "output_type": "error",
          "ename": "NameError",
          "evalue": "ignored",
          "traceback": [
            "\u001b[0;31m---------------------------------------------------------------------------\u001b[0m",
            "\u001b[0;31mNameError\u001b[0m                                 Traceback (most recent call last)",
            "\u001b[0;32m<ipython-input-44-1f67c8681db6>\u001b[0m in \u001b[0;36m<module>\u001b[0;34m()\u001b[0m\n\u001b[1;32m      1\u001b[0m \u001b[0mposterior_smooth_curves\u001b[0m \u001b[0;34m=\u001b[0m \u001b[0;34m[\u001b[0m\u001b[0;34m]\u001b[0m\u001b[0;34m\u001b[0m\u001b[0;34m\u001b[0m\u001b[0m\n\u001b[0;32m----> 2\u001b[0;31m \u001b[0;32mfor\u001b[0m \u001b[0mnu\u001b[0m\u001b[0;34m,\u001b[0m \u001b[0mtheta\u001b[0m\u001b[0;34m,\u001b[0m \u001b[0mmu_s\u001b[0m\u001b[0;34m,\u001b[0m \u001b[0mAv\u001b[0m \u001b[0;32min\u001b[0m \u001b[0mzip\u001b[0m\u001b[0;34m(\u001b[0m\u001b[0mposterior_samples\u001b[0m\u001b[0;34m[\u001b[0m\u001b[0;34m'nu'\u001b[0m\u001b[0;34m]\u001b[0m\u001b[0;34m,\u001b[0m \u001b[0mposterior_samples\u001b[0m\u001b[0;34m[\u001b[0m\u001b[0;34m'theta'\u001b[0m\u001b[0;34m]\u001b[0m\u001b[0;34m,\u001b[0m \u001b[0mposterior_samples\u001b[0m\u001b[0;34m[\u001b[0m\u001b[0;34m'mu_s'\u001b[0m\u001b[0;34m]\u001b[0m\u001b[0;34m,\u001b[0m \u001b[0mposterior_samples\u001b[0m\u001b[0;34m[\u001b[0m\u001b[0;34m'Av'\u001b[0m\u001b[0;34m]\u001b[0m\u001b[0;34m)\u001b[0m\u001b[0;34m:\u001b[0m\u001b[0;34m\u001b[0m\u001b[0;34m\u001b[0m\u001b[0m\n\u001b[0m\u001b[1;32m      3\u001b[0m   \u001b[0;31m# print(nu, theta, mu_s, Av)\u001b[0m\u001b[0;34m\u001b[0m\u001b[0;34m\u001b[0m\u001b[0;34m\u001b[0m\u001b[0m\n\u001b[1;32m      4\u001b[0m   \u001b[0mposterior_smooth_curves\u001b[0m\u001b[0;34m.\u001b[0m\u001b[0mappend\u001b[0m\u001b[0;34m(\u001b[0m\u001b[0mcalculate_all_fluxes_from_params\u001b[0m\u001b[0;34m(\u001b[0m\u001b[0mnu\u001b[0m\u001b[0;34m,\u001b[0m \u001b[0mtheta\u001b[0m\u001b[0;34m,\u001b[0m \u001b[0mmu_s\u001b[0m\u001b[0;34m,\u001b[0m \u001b[0mtorch\u001b[0m\u001b[0;34m.\u001b[0m\u001b[0mas_tensor\u001b[0m\u001b[0;34m(\u001b[0m\u001b[0;36m0.\u001b[0m\u001b[0;34m)\u001b[0m\u001b[0;34m,\u001b[0m \u001b[0mAv\u001b[0m\u001b[0;34m,\u001b[0m \u001b[0mz_helio_dict\u001b[0m\u001b[0;34m[\u001b[0m\u001b[0msn\u001b[0m\u001b[0;34m]\u001b[0m\u001b[0;34m)\u001b[0m\u001b[0;34m)\u001b[0m\u001b[0;34m\u001b[0m\u001b[0;34m\u001b[0m\u001b[0m\n",
            "\u001b[0;31mNameError\u001b[0m: name 'posterior_samples' is not defined"
          ]
        }
      ]
    },
    {
      "cell_type": "code",
      "source": [
        "posterior_smooth_curves[0].shape"
      ],
      "metadata": {
        "colab": {
          "base_uri": "https://localhost:8080/",
          "height": 171
        },
        "id": "ILdoSGVm6nrO",
        "outputId": "e02d9616-448c-4434-935c-65ae03bc414c"
      },
      "execution_count": null,
      "outputs": [
        {
          "output_type": "error",
          "ename": "IndexError",
          "evalue": "ignored",
          "traceback": [
            "\u001b[0;31m---------------------------------------------------------------------------\u001b[0m",
            "\u001b[0;31mIndexError\u001b[0m                                Traceback (most recent call last)",
            "\u001b[0;32m<ipython-input-45-572ba4e2acd6>\u001b[0m in \u001b[0;36m<module>\u001b[0;34m()\u001b[0m\n\u001b[0;32m----> 1\u001b[0;31m \u001b[0mposterior_smooth_curves\u001b[0m\u001b[0;34m[\u001b[0m\u001b[0;36m0\u001b[0m\u001b[0;34m]\u001b[0m\u001b[0;34m.\u001b[0m\u001b[0mshape\u001b[0m\u001b[0;34m\u001b[0m\u001b[0;34m\u001b[0m\u001b[0m\n\u001b[0m",
            "\u001b[0;31mIndexError\u001b[0m: list index out of range"
          ]
        }
      ]
    },
    {
      "cell_type": "code",
      "source": [
        "posterior_smooth_curves = np.array(posterior_smooth_curves)\n",
        "print(posterior_smooth_curves.shape)\n",
        "median_posterior_fit = np.median(posterior_smooth_curves, axis = 0)"
      ],
      "metadata": {
        "colab": {
          "base_uri": "https://localhost:8080/"
        },
        "id": "Ua8kOSNN66UI",
        "outputId": "0f17d48b-14d5-4074-c587-f146c74030c8"
      },
      "execution_count": null,
      "outputs": [
        {
          "output_type": "stream",
          "name": "stdout",
          "text": [
            "(0,)\n"
          ]
        },
        {
          "output_type": "stream",
          "name": "stderr",
          "text": [
            "/usr/local/lib/python3.7/dist-packages/numpy/core/fromnumeric.py:3441: RuntimeWarning: Mean of empty slice.\n",
            "  out=out, **kwargs)\n",
            "/usr/local/lib/python3.7/dist-packages/numpy/core/_methods.py:189: RuntimeWarning: invalid value encountered in double_scalars\n",
            "  ret = ret.dtype.type(ret / rcount)\n"
          ]
        }
      ]
    },
    {
      "cell_type": "code",
      "source": [
        "posterior_smooth_curves = np.array(posterior_smooth_curves)\n",
        "print(posterior_smooth_curves.shape)\n",
        "median_posterior_fit = np.median(posterior_smooth_curves, axis = 0)\n",
        "upper_posterior_fit = np.percentile(posterior_smooth_curves, 50 + 34.1, axis = 0)\n",
        "lower_posterior_fit = np.percentile(posterior_smooth_curves, 50 - 34.1, axis = 0)"
      ],
      "metadata": {
        "colab": {
          "base_uri": "https://localhost:8080/"
        },
        "id": "lykA2yWXTZ2V",
        "outputId": "a35fa5da-3fa6-4df3-e87c-84a8d15b08a9"
      },
      "execution_count": null,
      "outputs": [
        {
          "output_type": "stream",
          "name": "stdout",
          "text": [
            "(100, 4, 50)\n"
          ]
        }
      ]
    },
    {
      "cell_type": "code",
      "source": [
        "f = plt.figure()\n",
        "colors  = ['g', 'r', 'c', 'k']\n",
        "offset = np.array([0, 1000,2000,3000]) * 30\n",
        "offset = np.zeros(4)\n",
        "for i, band_flux in enumerate(median_posterior_fit):\n",
        "    plt.plot(np.linspace(-10, 40), band_flux + offset[i], color = colors[i])\n",
        "    plt.fill_between(np.linspace(-10, 40), upper_posterior_fit[i]+ offset[i], lower_posterior_fit[i]+ offset[i], color = colors[i], alpha = 0.2)\n",
        "for i, band_flux in enumerate(observed_fluxes):\n",
        "  plt.plot(times_dict[bands[i]], band_flux + offset[i], 'o',color = colors[i], label = bands[i])\n",
        "plt.legend(fontsize = 16)\n",
        "# plt.title(\"Posterior samples from VI\")\n",
        "plt.xlabel(\"Time (days)\", fontsize = 14)\n",
        "plt.ylabel(\"Flux\", fontsize = 14)\n",
        "plt.xticks(fontsize = 14)\n",
        "plt.yticks(fontsize = 14)\n",
        "f.savefig(\"LightCurve_ASASSN16cs_T21_072222.png\", bbox_inches = 'tight')"
      ],
      "metadata": {
        "colab": {
          "base_uri": "https://localhost:8080/",
          "height": 287
        },
        "id": "Sngj-AXxTcny",
        "outputId": "f4027186-f5cc-4de8-c03e-def65cfbf289"
      },
      "execution_count": null,
      "outputs": [
        {
          "output_type": "display_data",
          "data": {
            "text/plain": [
              "<Figure size 432x288 with 1 Axes>"
            ],
            "image/png": "[encoded data removed]"
          },
          "metadata": {
            "needs_background": "light"
          }
        }
      ]
    },
    {
      "cell_type": "markdown",
      "metadata": {
        "id": "2r1-PuH1U4yg"
      },
      "source": [
        "##Compare to MCMC"
      ]
    },
    {
      "cell_type": "code",
      "execution_count": null,
      "metadata": {
        "colab": {
          "base_uri": "https://localhost:8080/",
          "height": 279
        },
        "id": "7t_vif-tF7q9",
        "outputId": "168eb2fe-023f-4782-c222-ee3dfe4ef681"
      },
      "outputs": [
        {
          "output_type": "display_data",
          "data": {
            "text/plain": [
              "<Figure size 432x288 with 1 Axes>"
            ],
            "image/png": "[encoded data removed]"
          },
          "metadata": {
            "needs_background": "light"
          }
        }
      ],
      "source": [
        "mu_residuals = []\n",
        "av_residuals = []\n",
        "theta_residuals = []\n",
        "\n",
        "mcmc_mus = []\n",
        "mcmc_av = []\n",
        "mcmc_theta = []\n",
        "for sn in list(laplace_vi_loc_dict.keys()):\n",
        "  #   vi_mus.append(vi_loc_dict[sn][-2])\n",
        "  # vi_scale_tril = vi_scale_tril_dict[sn]\n",
        "  # # Calculate covariance matrix from scale_tril (sigma = LL^T)\n",
        "  # vi_vars.append(np.matmul(vi_scale_tril, vi_scale_tril.T)[-2][-2])\n",
        "  # vi_z_cmbs.append(z_cmb_dict[sn])\n",
        "\n",
        "  estimated_dist = np.mean(np.load(sn + \"_chains_210610_135216.npy\", allow_pickle = True).item()['mu'])\n",
        "  estimated_av = np.mean(np.load(sn + \"_chains_210610_135216.npy\", allow_pickle = True).item()['AV'])\n",
        "  estimated_theta = np.mean(np.load(sn + \"_chains_210610_135216.npy\", allow_pickle = True).item()['theta'])\n",
        "\n",
        "  mcmc_mus.append(estimated_dist)\n",
        "  mcmc_av.append(estimated_av)\n",
        "  mcmc_theta.append(estimated_theta)\n",
        "\n",
        "  # print(estimated_dist)\n",
        "  # print(vi_loc_dict[sn][-2])\n",
        "  # plt.plot(laplace_vi_loc_dict[sn][-2], estimated_dist, 'bo')\n",
        "  plt.plot(laplace_vi_loc_dict[sn][-2], laplace_vi_loc_dict[sn][-2] - estimated_dist, 'ro')\n",
        "  mu_residuals.append(laplace_vi_loc_dict[sn][-2] - estimated_dist)\n",
        "  av_residuals.append(np.exp(laplace_vi_loc_dict[sn][-1])- estimated_av)\n",
        "  # print(laplace_vi_loc_dict[sn][-1])\n",
        "  theta_residuals.append(laplace_vi_loc_dict[sn][-3] - estimated_theta)\n",
        "\n",
        "\n",
        "\n",
        "# plt.plot(np.linspace(33,38), np.linspace(33, 38), color = 'tab:orange')\n",
        "plt.xlabel(\"VI distances\")\n",
        "# plt.ylabel(\"MCMC distances\")\n",
        "plt.ylabel(\"Residual\")\n",
        "plt.axhline(0)\n",
        "\n",
        "plt.show()"
      ]
    },
    {
      "cell_type": "code",
      "execution_count": null,
      "metadata": {
        "colab": {
          "base_uri": "https://localhost:8080/"
        },
        "id": "gGOHw89lJJ78",
        "outputId": "dea33845-f267-4d54-d76c-1a2a6b14cf28"
      },
      "outputs": [
        {
          "output_type": "execute_result",
          "data": {
            "text/plain": [
              "-5.187992062308975"
            ]
          },
          "metadata": {},
          "execution_count": 58
        }
      ],
      "source": [
        "np.mean(mu_residuals) / (np.std(mu_residuals) / np.sqrt(len(mu_residuals)))"
      ]
    },
    {
      "cell_type": "code",
      "source": [
        "f = plt.figure()\n",
        "plt.plot(mcmc_mus, mu_residuals, 'o')\n",
        "plt.axhline(0, color = 'k')\n",
        "plt.xlabel(\"MCMC $\\\\mu$\", fontsize = 16)\n",
        "plt.ylabel(\"$\\\\mu$ residual (VI - MCMC)\", fontsize = 16)\n",
        "plt.xticks(fontsize = 12)\n",
        "plt.yticks(fontsize = 12)\n",
        "f.savefig(\"Foundation_mu_residuals.pdf\", bbox_inches = 'tight')"
      ],
      "metadata": {
        "colab": {
          "base_uri": "https://localhost:8080/",
          "height": 291
        },
        "id": "cmZYZR4ux4OO",
        "outputId": "9fd9e9ba-6d8c-4754-da50-6c1c4934b423"
      },
      "execution_count": null,
      "outputs": [
        {
          "output_type": "display_data",
          "data": {
            "text/plain": [
              "<Figure size 432x288 with 1 Axes>"
            ],
            "image/png": "[encoded data removed]"
          },
          "metadata": {
            "needs_background": "light"
          }
        }
      ]
    },
    {
      "cell_type": "code",
      "execution_count": null,
      "metadata": {
        "colab": {
          "base_uri": "https://localhost:8080/",
          "height": 291
        },
        "id": "dlG-5-0PPzxQ",
        "outputId": "902d4ee3-4fc6-443e-8b0d-9f915b3c8671"
      },
      "outputs": [
        {
          "output_type": "display_data",
          "data": {
            "text/plain": [
              "<Figure size 432x288 with 1 Axes>"
            ],
            "image/png": "[encoded data removed]"
          },
          "metadata": {
            "needs_background": "light"
          }
        }
      ],
      "source": [
        "f = plt.figure()\n",
        "plt.plot(mcmc_av, av_residuals, 'o')\n",
        "plt.axhline(0, color = 'k')\n",
        "plt.xlabel(\"MCMC $A_V$\", fontsize = 16)\n",
        "plt.ylabel(\"$A_V$ residual (VI - MCMC)\", fontsize = 16)\n",
        "plt.xticks(fontsize = 12)\n",
        "plt.yticks(fontsize = 12)\n",
        "f.savefig(\"Foundation_AV_residuals.pdf\", bbox_inches = 'tight')"
      ]
    },
    {
      "cell_type": "code",
      "execution_count": null,
      "metadata": {
        "colab": {
          "base_uri": "https://localhost:8080/",
          "height": 289
        },
        "id": "--eeDvbJqsZi",
        "outputId": "875c5cc0-66e6-43af-d44f-e33e749897be"
      },
      "outputs": [
        {
          "output_type": "display_data",
          "data": {
            "text/plain": [
              "<Figure size 432x288 with 1 Axes>"
            ],
            "image/png": "[encoded data removed]"
          },
          "metadata": {
            "needs_background": "light"
          }
        }
      ],
      "source": [
        "# plt.plot(mcmc_theta, theta_residuals, 'o')\n",
        "# plt.axhline(0, color = 'k')\n",
        "# plt.xlabel(\"MCMC theta\")\n",
        "# plt.ylabel(\"Residual\")\n",
        "\n",
        "f = plt.figure()\n",
        "plt.plot(mcmc_theta, theta_residuals, 'o')\n",
        "plt.axhline(0, color = 'k')\n",
        "plt.xlabel(\"MCMC $\\\\theta$\", fontsize = 16)\n",
        "plt.ylabel(\"$\\\\theta$ residual (VI - MCMC)\", fontsize = 16)\n",
        "plt.xticks(fontsize = 12)\n",
        "plt.yticks(fontsize = 12)\n",
        "f.savefig(\"Foundation_theta_residuals.pdf\", bbox_inches = 'tight')"
      ]
    },
    {
      "cell_type": "code",
      "execution_count": null,
      "metadata": {
        "colab": {
          "base_uri": "https://localhost:8080/",
          "height": 36
        },
        "id": "u5WZfiTwqgB4",
        "outputId": "23b61a10-223b-403c-a97f-35d4a07fbbeb"
      },
      "outputs": [
        {
          "output_type": "execute_result",
          "data": {
            "text/plain": [
              "'ASASSN-15jt'"
            ],
            "application/vnd.google.colaboratory.intrinsic+json": {
              "type": "string"
            }
          },
          "metadata": {},
          "execution_count": 51
        }
      ],
      "source": [
        "list(laplace_vi_loc_dict.keys())[np.argmax(av_residuals)]"
      ]
    },
    {
      "cell_type": "code",
      "execution_count": null,
      "metadata": {
        "colab": {
          "base_uri": "https://localhost:8080/",
          "height": 519
        },
        "id": "m0Ns_B4HL_7C",
        "outputId": "cad63aaa-8763-4c82-d712-9f65191f06fd"
      },
      "outputs": [
        {
          "output_type": "stream",
          "name": "stderr",
          "text": [
            "/usr/local/lib/python3.7/dist-packages/corner/core.py:635: MatplotlibDeprecationWarning: Saw kwargs ['ms', 'markersize'] which are all aliases for 'markersize'.  Kept value from 'markersize'.  Passing multiple aliases for the same property will raise a TypeError in 3.3.\n",
            "  ax.plot(x, y, \"o\", zorder=-1, rasterized=True, **data_kwargs)\n",
            "/usr/local/lib/python3.7/dist-packages/corner/core.py:635: MatplotlibDeprecationWarning: Saw kwargs ['ms', 'markersize'] which are all aliases for 'markersize'.  Kept value from 'markersize'.  Passing multiple aliases for the same property will raise a TypeError in 3.3.\n",
            "  ax.plot(x, y, \"o\", zorder=-1, rasterized=True, **data_kwargs)\n",
            "/usr/local/lib/python3.7/dist-packages/corner/core.py:635: MatplotlibDeprecationWarning: Saw kwargs ['ms', 'markersize'] which are all aliases for 'markersize'.  Kept value from 'markersize'.  Passing multiple aliases for the same property will raise a TypeError in 3.3.\n",
            "  ax.plot(x, y, \"o\", zorder=-1, rasterized=True, **data_kwargs)\n"
          ]
        },
        {
          "output_type": "display_data",
          "data": {
            "text/plain": [
              "<Figure size 547.2x547.2 with 3 Axes>"
            ],
            "image/png": "[encoded data removed]"
          },
          "metadata": {
            "needs_background": "light"
          }
        }
      ],
      "source": [
        "fig = corner.corner(np.vstack((np.array(mu_residuals), av_residuals, theta_residuals)).T, \n",
        "              plot_contours = False, plot_datapoints =  True, plot_density = False, \n",
        "              data_kwargs = {'color':'b', 'alpha':1, 'marker':'o', 'markersize':3}, \n",
        "              labels = ['${\\\\mu}$ residuals', '${A_v}$ residuals', '${\\\\theta}$ residuals'],\n",
        "              label_kwargs = {'fontsize':16})\n",
        "# plt.text(-0.7,125,\"All residuals are MCMC - VI\", fontsize = 16)\n",
        "# figure.suptitle(\"Parameter residuals for Foundation dataset\", fontsize = 20)\n",
        "axes = np.array(fig.axes).reshape((3, 3))\n",
        "for a in axes[np.triu_indices(3)]:\n",
        "  a.remove()\n",
        "\n",
        "fig.savefig(\"Foundations_residuals_triangle.pdf\", bbox_inches = 'tight')"
      ]
    },
    {
      "cell_type": "code",
      "execution_count": null,
      "metadata": {
        "id": "w6UpMi3gOi9b"
      },
      "outputs": [],
      "source": [
        ""
      ]
    }
  ],
  "metadata": {
    "colab": {
      "collapsed_sections": [],
      "name": "T21_Foundation_Tensor_Fitting.ipynb",
      "provenance": []
    },
    "gpuClass": "standard",
    "kernelspec": {
      "display_name": "Python 3",
      "name": "python3"
    },
    "language_info": {
      "name": "python"
    }
  },
  "nbformat": 4,
  "nbformat_minor": 0
}