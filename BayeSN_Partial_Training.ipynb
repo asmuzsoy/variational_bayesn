{
  "cells": [
    {
      "cell_type": "code",
      "execution_count": 1,
      "metadata": {
        "colab": {
          "base_uri": "https://localhost:8080/"
        },
        "id": "uX96bEWTmND0",
        "outputId": "681d7fa1-91d6-4733-f75a-1378d68b6a44"
      },
      "outputs": [
        {
          "output_type": "stream",
          "name": "stdout",
          "text": [
            "Looking in indexes: https://pypi.org/simple, https://us-python.pkg.dev/colab-wheels/public/simple/\n",
            "Collecting pyro-ppl\n",
            "  Downloading pyro_ppl-1.8.1-py3-none-any.whl (718 kB)\n",
            "\u001b[K     |████████████████████████████████| 718 kB 9.7 MB/s \n",
            "\u001b[?25hRequirement already satisfied: opt-einsum>=2.3.2 in /usr/local/lib/python3.7/dist-packages (from pyro-ppl) (3.3.0)\n",
            "Requirement already satisfied: tqdm>=4.36 in /usr/local/lib/python3.7/dist-packages (from pyro-ppl) (4.64.0)\n",
            "Requirement already satisfied: numpy>=1.7 in /usr/local/lib/python3.7/dist-packages (from pyro-ppl) (1.21.6)\n",
            "Collecting pyro-api>=0.1.1\n",
            "  Downloading pyro_api-0.1.2-py3-none-any.whl (11 kB)\n",
            "Requirement already satisfied: torch>=1.11.0 in /usr/local/lib/python3.7/dist-packages (from pyro-ppl) (1.12.0+cu113)\n",
            "Requirement already satisfied: typing-extensions in /usr/local/lib/python3.7/dist-packages (from torch>=1.11.0->pyro-ppl) (4.1.1)\n",
            "Installing collected packages: pyro-api, pyro-ppl\n",
            "Successfully installed pyro-api-0.1.2 pyro-ppl-1.8.1\n"
          ]
        }
      ],
      "source": [
        "!pip3 install pyro-ppl "
      ]
    },
    {
      "cell_type": "code",
      "execution_count": 2,
      "metadata": {
        "colab": {
          "base_uri": "https://localhost:8080/"
        },
        "id": "TLPeho_PRgNP",
        "outputId": "6131a6a1-411e-4da1-e26b-e45758fa77ca"
      },
      "outputs": [
        {
          "output_type": "stream",
          "name": "stdout",
          "text": [
            "Looking in indexes: https://pypi.org/simple, https://us-python.pkg.dev/colab-wheels/public/simple/\n",
            "Collecting extinction\n",
            "  Downloading extinction-0.4.6-cp37-cp37m-manylinux_2_5_x86_64.manylinux1_x86_64.manylinux_2_12_x86_64.manylinux2010_x86_64.whl (418 kB)\n",
            "\u001b[K     |████████████████████████████████| 418 kB 7.1 MB/s \n",
            "\u001b[?25hRequirement already satisfied: numpy>=1.13.3 in /usr/local/lib/python3.7/dist-packages (from extinction) (1.21.6)\n",
            "Installing collected packages: extinction\n",
            "Successfully installed extinction-0.4.6\n"
          ]
        }
      ],
      "source": [
        "!pip install extinction"
      ]
    },
    {
      "cell_type": "code",
      "execution_count": 3,
      "metadata": {
        "colab": {
          "base_uri": "https://localhost:8080/"
        },
        "id": "u-aOtXYMeTcO",
        "outputId": "8e1048f7-6802-48a6-977f-dcddbea3431b"
      },
      "outputs": [
        {
          "output_type": "stream",
          "name": "stdout",
          "text": [
            "Looking in indexes: https://pypi.org/simple, https://us-python.pkg.dev/colab-wheels/public/simple/\n",
            "Collecting corner\n",
            "  Downloading corner-2.2.1-py3-none-any.whl (15 kB)\n",
            "Requirement already satisfied: matplotlib>=2.1 in /usr/local/lib/python3.7/dist-packages (from corner) (3.2.2)\n",
            "Requirement already satisfied: numpy>=1.11 in /usr/local/lib/python3.7/dist-packages (from matplotlib>=2.1->corner) (1.21.6)\n",
            "Requirement already satisfied: cycler>=0.10 in /usr/local/lib/python3.7/dist-packages (from matplotlib>=2.1->corner) (0.11.0)\n",
            "Requirement already satisfied: kiwisolver>=1.0.1 in /usr/local/lib/python3.7/dist-packages (from matplotlib>=2.1->corner) (1.4.4)\n",
            "Requirement already satisfied: python-dateutil>=2.1 in /usr/local/lib/python3.7/dist-packages (from matplotlib>=2.1->corner) (2.8.2)\n",
            "Requirement already satisfied: pyparsing!=2.0.4,!=2.1.2,!=2.1.6,>=2.0.1 in /usr/local/lib/python3.7/dist-packages (from matplotlib>=2.1->corner) (3.0.9)\n",
            "Requirement already satisfied: typing-extensions in /usr/local/lib/python3.7/dist-packages (from kiwisolver>=1.0.1->matplotlib>=2.1->corner) (4.1.1)\n",
            "Requirement already satisfied: six>=1.5 in /usr/local/lib/python3.7/dist-packages (from python-dateutil>=2.1->matplotlib>=2.1->corner) (1.15.0)\n",
            "Installing collected packages: corner\n",
            "Successfully installed corner-2.2.1\n"
          ]
        }
      ],
      "source": [
        "!pip install corner"
      ]
    },
    {
      "cell_type": "code",
      "execution_count": 4,
      "metadata": {
        "id": "9xkM4Rl_RQdX"
      },
      "outputs": [],
      "source": [
        "import logging\n",
        "import os\n",
        "\n",
        "import torch\n",
        "import numpy as np\n",
        "import pandas as pd\n",
        "import seaborn as sns\n",
        "import matplotlib.pyplot as plt\n",
        "import matplotlib.lines as mlines\n",
        "import matplotlib.colors as colors\n",
        "\n",
        "import corner\n",
        "import time as measure_time\n",
        "import os\n",
        "import math\n",
        "\n",
        "import pyro\n",
        "\n",
        "import pyro.distributions as dist\n",
        "import pyro.distributions.constraints as constraints\n",
        "from pyro.infer import SVI, Trace_ELBO,Predictive\n",
        "from pyro.optim import Adam\n",
        "from pyro.ops.stats import fit_generalized_pareto\n",
        "from pyro import poutine\n",
        "\n",
        "from scipy.interpolate import interp1d\n",
        "import h5py\n",
        "import extinction\n",
        "\n",
        "from astropy.cosmology import FlatLambdaCDM\n",
        "\n",
        "from spline_hsiao_fns import *"
      ]
    },
    {
      "cell_type": "code",
      "execution_count": 5,
      "metadata": {
        "colab": {
          "base_uri": "https://localhost:8080/"
        },
        "id": "E0rAZ3bDo97c",
        "outputId": "d0bf6bf2-157f-499e-d7c1-2f11affd1f27"
      },
      "outputs": [
        {
          "output_type": "stream",
          "name": "stdout",
          "text": [
            "cpu\n"
          ]
        }
      ],
      "source": [
        "# device = torch.device(\"cuda:0\" if torch.cuda.is_available() else \"cpu\")\n",
        "device = torch.device(\"cpu\")\n",
        "print(device)"
      ]
    },
    {
      "cell_type": "markdown",
      "metadata": {
        "id": "syqWBFKbDk8B"
      },
      "source": [
        "##Get constants from files"
      ]
    },
    {
      "cell_type": "code",
      "execution_count": 131,
      "metadata": {
        "id": "AlhMMde4mIBy"
      },
      "outputs": [],
      "source": [
        "W0 = np.loadtxt(\"W0_T21.txt\")\n",
        "W1 = np.loadtxt(\"W1_T21.txt\")\n",
        "W0_tensor = torch.as_tensor(W0).to(device)\n",
        "W1_tensor = torch.as_tensor(W1).to(device)\n",
        "time_knots = np.loadtxt(\"tau_knots_T21.txt\")\n",
        "wavelength_knots = np.loadtxt(\"l_knots_T21.txt\")\n",
        "L_sigma_epsilon = np.loadtxt(\"L_Sigma_epsilon_T21.txt\")\n",
        "L_sigma_epsilon_tensor = torch.as_tensor(L_sigma_epsilon, dtype = torch.float).to(device)\n",
        "M0, sigma0, rv, tauA = np.loadtxt(\"M0_sigma0_RV_tauA_T21.txt\")\n",
        "cosmo = FlatLambdaCDM(H0 = 73.24, Om0 = 0.28)\n"
      ]
    },
    {
      "cell_type": "code",
      "source": [
        "xf = np.array([0.0, 1/2.65, 1/1.22, 1/0.60, 1/0.547, 1/0.467, 1/0.411, 1/0.27, 1/0.26])\n",
        "x0 = 4.596\n",
        "gamma_f = 0.99\n",
        "c3 = 3.23\n",
        "c4 = 0.41\n",
        "c5 = 5.9"
      ],
      "metadata": {
        "id": "koHbj1RgUnqM"
      },
      "execution_count": 7,
      "outputs": []
    },
    {
      "cell_type": "code",
      "execution_count": 8,
      "metadata": {
        "id": "vdSkGKgr4S5R"
      },
      "outputs": [],
      "source": [
        "g_wavelengths, _, g_norm_throughput = np.loadtxt(\"g_PS1.txt\", skiprows = 2, unpack = True)\n",
        "r_wavelengths, _, r_norm_throughput = np.loadtxt(\"r_PS1.txt\", skiprows = 2, unpack = True)\n",
        "i_wavelengths, _, i_norm_throughput = np.loadtxt(\"i_PS1.txt\", skiprows = 2, unpack = True)\n",
        "z_wavelengths, _, z_norm_throughput = np.loadtxt(\"z_PS1.txt\", skiprows = 2, unpack = True)"
      ]
    },
    {
      "cell_type": "markdown",
      "metadata": {
        "id": "JAD8DDVJEfti"
      },
      "source": [
        "Read in metadata for Foundation dataset"
      ]
    },
    {
      "cell_type": "code",
      "execution_count": 202,
      "metadata": {
        "id": "yvZvm6TUzyZ7"
      },
      "outputs": [],
      "source": [
        "meta = pd.read_csv(\"meta.txt\", sep='\\s+', index_col = False, names = ['SNID','PEAKMJD','MWEBV','REDSHIFT_HELIO','REDSHIFT_CMB','REDSHIFT_CMB_ERR'], skiprows = 2)"
      ]
    },
    {
      "cell_type": "code",
      "source": [
        "sample_size = 50\n",
        "meta = meta.sample(n = sample_size)"
      ],
      "metadata": {
        "id": "u0D26-7fKUUQ"
      },
      "execution_count": 203,
      "outputs": []
    },
    {
      "cell_type": "code",
      "execution_count": 204,
      "metadata": {
        "id": "5S2mGH9i8oR8"
      },
      "outputs": [],
      "source": [
        "tmax_dict = {}\n",
        "mwebv_dict = {}\n",
        "z_helio_dict = {}\n",
        "z_cmb_dict = {}\n",
        "for index, row in meta.iterrows():\n",
        "  name = row['SNID']\n",
        "  tmax = row['PEAKMJD']\n",
        "  mwebv = row['MWEBV']\n",
        "  z_helio = row['REDSHIFT_HELIO']\n",
        "  z_cmb = row['REDSHIFT_CMB']\n",
        "  tmax_dict[name] = tmax\n",
        "  mwebv_dict[name] = mwebv\n",
        "  z_helio_dict[name] = z_helio\n",
        "  z_cmb_dict[name] = z_cmb"
      ]
    },
    {
      "cell_type": "code",
      "execution_count": 205,
      "metadata": {
        "id": "2LoY4Y6-9tb8"
      },
      "outputs": [],
      "source": [
        "def get_fluxes_from_file(filename, tmax, z_helio):\n",
        "  df = pd.read_csv(filename, sep=\" \", header = 0, index_col = False, names = ['MJD', \"FLT\", 'FLUXCAL', 'FLUXCALERR', 'MAG', 'MAGERR'])\n",
        "  df = df.dropna()\n",
        "\n",
        "  # Remove time points outside of [-10., 40.]\n",
        "  df['adj_time'] = (df.MJD - tmax) / (1 + z_helio)\n",
        "  mask = (df['adj_time'] < 40.) & (df['adj_time'] > -10.0)\n",
        "  df = df[mask]\n",
        "\n",
        "  # Separate based on bands\n",
        "  g_time = df.adj_time[df.FLT=='g'].values\n",
        "  r_time = df.adj_time[df.FLT=='r'].values\n",
        "  i_time = df.adj_time[df.FLT=='i'].values\n",
        "  z_time = df.adj_time[df.FLT=='z'].values\n",
        "\n",
        "  g_flux = df.FLUXCAL[df.FLT=='g'].values\n",
        "  r_flux = df.FLUXCAL[df.FLT=='r'].values\n",
        "  i_flux = df.FLUXCAL[df.FLT=='i'].values\n",
        "  z_flux = df.FLUXCAL[df.FLT=='z'].values\n",
        "\n",
        "  g_fluxerr = df.FLUXCALERR[df.FLT=='g'].values\n",
        "  r_fluxerr = df.FLUXCALERR[df.FLT=='r'].values\n",
        "  i_fluxerr = df.FLUXCALERR[df.FLT=='i'].values\n",
        "  z_fluxerr = df.FLUXCALERR[df.FLT=='z'].values\n",
        "\n",
        "  times_dict = {'g':g_time, 'r':r_time, 'i':i_time, 'z':z_time}\n",
        "\n",
        "  observed_fluxes = [torch.as_tensor(g_flux).to(device), torch.as_tensor(r_flux).to(device), torch.as_tensor(i_flux).to(device), torch.as_tensor(z_flux).to(device)]\n",
        "\n",
        "  flux_errors = [torch.as_tensor(g_fluxerr).to(device), torch.as_tensor(r_fluxerr).to(device), torch.as_tensor(i_fluxerr).to(device), torch.as_tensor(z_fluxerr).to(device)]\n",
        "\n",
        "  # observed_fluxes = np.array([g_flux, r_flux, i_flux, z_flux])\n",
        "  # observed_fluxes = []\n",
        "  # for array in [g_flux, r_flux, i_flux, z_flux]:\n",
        "  #   for i in array:\n",
        "  #     observed_fluxes.append(i)\n",
        "\n",
        "  # flux_errors = []\n",
        "  # for array in [g_fluxerr, r_fluxerr, i_fluxerr, z_fluxerr]:\n",
        "  #   for i in array:\n",
        "  #     flux_errors.append(i)\n",
        "  # flux_errors = np.array([g_fluxerr, r_fluxerr, i_fluxerr, z_fluxerr])\n",
        "\n",
        "  return observed_fluxes, flux_errors, times_dict"
      ]
    },
    {
      "cell_type": "code",
      "execution_count": 206,
      "metadata": {
        "id": "8Ex7Js7QG110"
      },
      "outputs": [],
      "source": [
        "ZPT = torch.as_tensor(27.5).to(device)\n",
        "M0 = torch.as_tensor(-19.5).to(device)\n",
        "gamma = torch.as_tensor(np.log(10) / 2.5).to(device)\n",
        "gamma_numpy = np.log(10) / 2.5\n",
        "\n",
        "hsiao_phase, hsiao_wave, hsiao_flux = read_model_grid()\n",
        "\n",
        "bands = ['g', 'r', 'i', 'z']\n",
        "wavelengths_dict = {'g':g_wavelengths, 'r':r_wavelengths, 'i':i_wavelengths, 'z':z_wavelengths}\n",
        "norm_throughput_dict = {'g':g_norm_throughput, 'r':r_norm_throughput, 'i':i_norm_throughput, 'z':z_norm_throughput}\n",
        "eps_cov = torch.as_tensor(np.matmul(L_sigma_epsilon, L_sigma_epsilon.T), dtype = torch.float)"
      ]
    },
    {
      "cell_type": "markdown",
      "metadata": {
        "id": "TqpkG4FUH6jF"
      },
      "source": [
        "Things we can pre-calculate / helper functions\n",
        "---\n",
        "\n"
      ]
    },
    {
      "cell_type": "code",
      "execution_count": 207,
      "metadata": {
        "id": "d3FwBBvNNMUe"
      },
      "outputs": [],
      "source": [
        "def get_lambda_int_for_band(band_wavelengths, z):\n",
        "  source_wavelengths = band_wavelengths / (1 + z)\n",
        "  return np.linspace(np.min(source_wavelengths), np.max(source_wavelengths), 75)"
      ]
    },
    {
      "cell_type": "code",
      "execution_count": 208,
      "metadata": {
        "id": "C7xyhI47NfCc"
      },
      "outputs": [],
      "source": [
        "def calculate_band_dependent_stuff(times_dict, z_helio, Av_obs, rv):\n",
        "  band_Jl = {}\n",
        "  band_h = {}\n",
        "  band_Jt = {}\n",
        "  # band_xis_matrix = {}\n",
        "  band_S0 = {}  \n",
        "\n",
        "  for band in bands:\n",
        "    # Calculate Jt\n",
        "    times_to_interpolate = times_dict[band]\n",
        "    Jt = spline_coeffs_irr(times_to_interpolate, time_knots, invKD_irr(time_knots))\n",
        "    band_Jt[band] = torch.as_tensor(Jt.T).to(device)\n",
        "\n",
        "    # Calculate wavelengths to interpolate\n",
        "    band_wavelengths = wavelengths_dict[band]\n",
        "    wavelengths_to_interpolate = get_lambda_int_for_band(band_wavelengths, z = z_helio)\n",
        "\n",
        "    # Calculate Jl (J matrix for wavelengths)\n",
        "    Jl = spline_coeffs_irr(wavelengths_to_interpolate, wavelength_knots, invKD_irr(wavelength_knots))\n",
        "    band_Jl[band] = torch.as_tensor(Jl).to(device)\n",
        "\n",
        "    # Interpolate throughput wavelengths\n",
        "    band_norm_throughput = norm_throughput_dict[band]\n",
        "    throughput_interpolator = interp1d(band_wavelengths, band_norm_throughput)\n",
        "    b = throughput_interpolator([band_wavelengths[0]] + list(wavelengths_to_interpolate[1:-1] * (1 + z_helio)) + [band_wavelengths[-1]])\n",
        "\n",
        "    # Calculate S0 matrix\n",
        "    S0 = np.zeros((len(wavelengths_to_interpolate), len(times_to_interpolate)))\n",
        "    for i, wavelength in enumerate(wavelengths_to_interpolate):\n",
        "      for j, time_point in enumerate(times_to_interpolate):\n",
        "        S0[i][j] = interpolate_hsiao(time_point, wavelength, hsiao_phase, hsiao_wave, hsiao_flux)\n",
        "    band_S0[band] = torch.as_tensor(S0).to(device)\n",
        "\n",
        "    # Calculate h\n",
        "    xis_obs = extinction.fitzpatrick99(wavelengths_to_interpolate*(1 + z_helio), Av_obs, 3.1)\n",
        "    dLambda = wavelengths_to_interpolate[1] - wavelengths_to_interpolate[0]\n",
        "    h = (1 + z_helio) * dLambda * b * wavelengths_to_interpolate * np.exp(-gamma_numpy * xis_obs)\n",
        "    band_h[band] = torch.as_tensor(h).to(device)\n",
        "\n",
        "  return band_Jt, band_Jl, band_S0, band_h"
      ]
    },
    {
      "cell_type": "code",
      "source": [
        "def get_xis_matrix(times_dict, rv, z_helio):\n",
        "  band_xis_matrix = {}\n",
        "\n",
        "  for band in bands:\n",
        "    times_to_interpolate = times_dict[band]\n",
        "    band_wavelengths = wavelengths_dict[band]\n",
        "    wavelengths_to_interpolate = get_lambda_int_for_band(band_wavelengths, z = z_helio)\n",
        "\n",
        "    Jf = torch.as_tensor(spline_coeffs_irr(1e4/wavelengths_to_interpolate, xf, invKD_irr(xf)), dtype = torch.float)\n",
        "    xis = 1 + torch.matmul(Jf,rv_extinction(rv).float()) / rv.float()\n",
        "    xis_matrix = torch.tile(xis, (len(times_to_interpolate),1)).T\n",
        "    band_xis_matrix[band] = xis_matrix.to(device)\n",
        "\n",
        "  return band_xis_matrix"
      ],
      "metadata": {
        "id": "7wpNairoQCtc"
      },
      "execution_count": 209,
      "outputs": []
    },
    {
      "cell_type": "code",
      "source": [
        "def rv_extinction(rv):\n",
        "  ## rewrite this using matrices\n",
        "  c2 = -0.824 + 4.717 / rv\n",
        "  c1 = 2.03 - 3.007*c2\n",
        "  d1 = (xf[7]**2) / ((xf[7]**2 - x0**2)**2 + (gamma_f**2)*(xf[7]**2))\n",
        "  d2 = (xf[8]**2) / ((xf[8]**2 - x0**2)**2 + (gamma_f**2)*(xf[8]**2))\n",
        "\n",
        "\n",
        "  yf1 = -rv\n",
        "  yf2 = 0.26469*rv/3.1 - rv\n",
        "  yf3 = 0.82925*rv/3.1 - rv\n",
        "  yf4 = -0.422809 + 1.00270*rv + (2.13572e-4)*(rv**2) - rv\n",
        "  yf5 = -5.13540e-2 + 1.00216*rv - (7.35778e-5)*(rv**2) - rv\n",
        "  yf6 = 0.700127 + 1.00184*rv - (3.32598e-5)*(rv**2) -rv\n",
        "  yf7 = 1.19456 + 1.01707*rv - (5.46959e-3)*(rv**2) + (7.97809e-4)*(rv**3) - (4.45636e-5)*(rv**4) - rv\n",
        "  yf8 = c1 + c2*xf[7] + c3*d1\n",
        "  yf9 = c1 + c2*xf[8] + c3*d2\n",
        "\n",
        "  # const_matrix = []\n",
        "  return torch.as_tensor([yf1, yf2, yf3, yf4, yf5, yf6, yf7, yf8, yf9])"
      ],
      "metadata": {
        "id": "_n5K3OzeUvIb"
      },
      "execution_count": 210,
      "outputs": []
    },
    {
      "cell_type": "code",
      "source": [
        "sn_band_dependent_dict = {}\n",
        "sn_time_dicts = {}\n",
        "\n",
        "all_observed_fluxes = []\n",
        "all_flux_errors = []\n",
        "\n",
        "for sn in meta.SNID.values:\n",
        "  tmax = tmax_dict[sn]\n",
        "  z_helio = z_helio_dict[sn]\n",
        "  EBV_MW = mwebv_dict[sn]\n",
        "  z_cmb = z_cmb_dict[sn]\n",
        "\n",
        "  Av_obs = EBV_MW * 3.1\n",
        "  observed_fluxes, flux_errors, times_dict = get_fluxes_from_file(sn + \".dat\", tmax, z_helio)\n",
        "\n",
        "  sn_band_dependent_dict[sn] = calculate_band_dependent_stuff(times_dict, z_helio, Av_obs, rv)\n",
        "\n",
        "  all_observed_fluxes.append(observed_fluxes)\n",
        "\n",
        "  # for i in observed_fluxes:\n",
        "  #   all_observed_fluxes.append(i)\n",
        "\n",
        "  # for i in flux_errors:\n",
        "  #   all_flux_errors.append(i)\n",
        "  # all_observed_fluxes.append(observed_fluxes)\n",
        "  sn_time_dicts[sn] = times_dict\n",
        "  all_flux_errors.append(flux_errors)"
      ],
      "metadata": {
        "id": "Few4zhuRRDcE"
      },
      "execution_count": 211,
      "outputs": []
    },
    {
      "cell_type": "code",
      "source": [
        "len(all_flux_errors)"
      ],
      "metadata": {
        "colab": {
          "base_uri": "https://localhost:8080/"
        },
        "id": "PDvCXqhe1LRB",
        "outputId": "3a1b15bb-ed72-4ca4-8932-1361e0e84d3e"
      },
      "execution_count": 212,
      "outputs": [
        {
          "output_type": "execute_result",
          "data": {
            "text/plain": [
              "50"
            ]
          },
          "metadata": {},
          "execution_count": 212
        }
      ]
    },
    {
      "cell_type": "code",
      "source": [
        "max([len(i) for i in all_flux_errors])\n",
        "# for i in all_flux_errors:\n",
        "#   print(len(i))"
      ],
      "metadata": {
        "colab": {
          "base_uri": "https://localhost:8080/"
        },
        "id": "ZtxtNrAc06TR",
        "outputId": "ba8a664f-b4f5-4ec7-cdc5-af0ce658097a"
      },
      "execution_count": 213,
      "outputs": [
        {
          "output_type": "execute_result",
          "data": {
            "text/plain": [
              "4"
            ]
          },
          "metadata": {},
          "execution_count": 213
        }
      ]
    },
    {
      "cell_type": "code",
      "source": [
        "all_flux_errors_tensor = torch.zeros(sample_size, 4, 24) + 0.1\n",
        "all_observed_fluxes_tensor = torch.zeros(sample_size, 4, 24) + 0.1\n",
        "mask_tensor = torch.zeros(sample_size, 4, 24, dtype=torch.bool)"
      ],
      "metadata": {
        "id": "4Z8fLubL1Wzx"
      },
      "execution_count": 214,
      "outputs": []
    },
    {
      "cell_type": "code",
      "source": [
        "for i in range(len(all_observed_fluxes)):\n",
        "  for j in range(4):\n",
        "    for k in range(len(all_observed_fluxes[i][j])):\n",
        "      all_flux_errors_tensor[i][j][k] = all_flux_errors[i][j][k]\n",
        "      all_observed_fluxes_tensor[i][j][k] = all_observed_fluxes[i][j][k]\n",
        "      mask_tensor[i][j][k] = 1"
      ],
      "metadata": {
        "id": "7g-Zly2B1cx5"
      },
      "execution_count": 215,
      "outputs": []
    },
    {
      "cell_type": "code",
      "execution_count": 216,
      "metadata": {
        "id": "qsWemUqUpuPj"
      },
      "outputs": [],
      "source": [
        "nu_args = torch.zeros(len(L_sigma_epsilon)).to(device), torch.eye(len(L_sigma_epsilon)).to(device)\n",
        "theta_args = torch.as_tensor(0.).to(device), torch.as_tensor(1.0).to(device)\n",
        "mu_arg = torch.as_tensor(10.0).to(device)\n",
        "av_arg = torch.as_tensor(1 / 0.252).to(device)\n",
        "\n",
        "zeros = torch.zeros(6).to(device)"
      ]
    },
    {
      "cell_type": "code",
      "source": [
        "len(meta.SNID.values)"
      ],
      "metadata": {
        "colab": {
          "base_uri": "https://localhost:8080/"
        },
        "id": "u8CzdJhPXYVB",
        "outputId": "79b2d02c-53f9-41c7-ce2b-21e6f8816819"
      },
      "execution_count": 217,
      "outputs": [
        {
          "output_type": "execute_result",
          "data": {
            "text/plain": [
              "50"
            ]
          },
          "metadata": {},
          "execution_count": 217
        }
      ]
    },
    {
      "cell_type": "markdown",
      "source": [
        "The \"old\" (non-vectorized) model is below."
      ],
      "metadata": {
        "id": "-7uFZV7S9emH"
      }
    },
    {
      "cell_type": "code",
      "execution_count": 218,
      "metadata": {
        "id": "F56kQkT4on18"
      },
      "outputs": [],
      "source": [
        "def model_vi_with_params_faster():\n",
        "\n",
        "  rv_mean = pyro.sample(\"rv_mean\", dist.Uniform(1., 5.))\n",
        "  rv_std = pyro.sample(\"rv_std\", dist.HalfNormal(2.))\n",
        "\n",
        "  tau = pyro.sample(\"tau\", dist.HalfNormal(1.))\n",
        "\n",
        "  for sn_index in pyro.plate(\"SNe\", sample_size):\n",
        "\n",
        "    sn = meta.SNID.values[sn_index]\n",
        "    times_dict = sn_time_dicts[sn]\n",
        "    # tmax = tmax_dict[sn]\n",
        "    z_helio = z_helio_dict[sn]\n",
        "    # EBV_MW = mwebv_dict[sn]\n",
        "    z_cmb = z_cmb_dict[sn]\n",
        "\n",
        "    # Av_obs = EBV_MW * 3.1\n",
        "    # observed_fluxes, flux_errors, times_dict = get_fluxes_from_file(sn + \".dat\", tmax, z_helio)\n",
        "\n",
        "    # Calculate band-dependent quantities (Jl, Jt, xis, S0, etc.)\n",
        "    rv = pyro.sample(\"rv\"+ str(sn_index), dist.Normal(rv_mean, rv_std))\n",
        "\n",
        "    band_xis_matrix = get_xis_matrix(times_dict, rv, z_helio)\n",
        "    # band_Jt, band_Jl, band_xis_matrix, band_S0, band_h = calculate_band_dependent_stuff(times_dict, z_helio, Av_obs, rv)\n",
        "    mu_mean = torch.as_tensor(cosmo.distmod(z_cmb).value).to(device)\n",
        "\n",
        "    nu = pyro.sample(\"nu\" + str(sn_index), dist.MultivariateNormal(*nu_args))\n",
        "    epsilon_interior = torch.matmul(L_sigma_epsilon_tensor.float(), torch.squeeze(nu).float())\n",
        "\n",
        "    theta = pyro.sample(\"theta\" + str(sn_index), dist.Normal(*theta_args))\n",
        "\n",
        "    mu_s = pyro.sample(\"mu_s\" + str(sn_index), dist.Normal(mu_mean, mu_arg))\n",
        "\n",
        "    dMs = torch.tensor(0.).to(device)\n",
        "\n",
        "    Av = pyro.sample(\"Av\" + str(sn_index), dist.Exponential(1. / tau))\n",
        "\n",
        "    # epsilon = torch.zeros(W0.shape)   ## populate epsilon matrix\n",
        "    # epsilon[1:-1] = torch.transpose(torch.reshape(epsilon_interior, (6,9)), 0, 1)\n",
        "    epsilon = torch.vstack((zeros, torch.transpose(torch.reshape(epsilon_interior, (6,4)), 0, 1), zeros))\n",
        "\n",
        "    W = W0_tensor + theta*W1_tensor + epsilon\n",
        "\n",
        "    generated_fluxes = np.empty(4, object)\n",
        "\n",
        "    band_Jt, band_Jl, band_S0, band_h = sn_band_dependent_dict[sn]\n",
        "\n",
        "\n",
        "    for band_index, band in enumerate(bands):\n",
        "      Jl = band_Jl[band]\n",
        "      S0 = band_S0[band]\n",
        "      xis_matrix = band_xis_matrix[band]\n",
        "      h = band_h[band]\n",
        "      Jt = band_Jt[band]\n",
        "\n",
        "      JlWJt = torch.matmul(Jl, torch.matmul(W, Jt))\n",
        "\n",
        "      Stilde = S0 * torch.exp(-gamma * (JlWJt + Av * xis_matrix))\n",
        "\n",
        "      f = 10**(0.4 * (ZPT - mu_s - M0 - dMs)) * torch.matmul(h, Stilde)\n",
        "      generated_fluxes[band_index] = f\n",
        "\n",
        "    for i in pyro.plate(\"bands\" + str(sn_index), band_index + 1):\n",
        "      with pyro.plate(\"observations\" + str(bands[i]) + str(sn_index)):\n",
        "          pyro.sample(\"flux\" + str(bands[i]) + str(sn_index), dist.Normal(generated_fluxes[i], all_flux_errors[sn_index][i]), obs = all_observed_fluxes[sn_index][i])\n"
      ]
    },
    {
      "cell_type": "markdown",
      "source": [
        "I have to do a bunch of janky stuff to get the indexing to work with vectorization."
      ],
      "metadata": {
        "id": "vsZOzFJN9jKh"
      }
    },
    {
      "cell_type": "code",
      "source": [
        "all_mu_means = torch.as_tensor([torch.as_tensor(cosmo.distmod(z_cmb_dict[sn]).value).to(device) for sn in meta.SNID.values])"
      ],
      "metadata": {
        "id": "wqcFxwranvG_"
      },
      "execution_count": 219,
      "outputs": []
    },
    {
      "cell_type": "code",
      "source": [
        "all_z_helios = np.array([z_helio_dict[sn] for sn in meta.SNID.values])"
      ],
      "metadata": {
        "id": "-2d4xfzVqy1U"
      },
      "execution_count": 220,
      "outputs": []
    },
    {
      "cell_type": "code",
      "source": [
        "def get_xis_matrix_vectorized(rv, single_rv = True):\n",
        "  all_band_xis_matrices = torch.zeros((sample_size, 4, 75, 24))\n",
        "  if not single_rv:\n",
        "    for sn_index, sn in enumerate(meta.SNID.values):\n",
        "      times_dict = sn_time_dicts[sn]\n",
        "      z_helio = z_helio_dict[sn]\n",
        "      band_xis_matrix = get_xis_matrix(times_dict, rv[sn_index], z_helio)\n",
        "      # print(np.array(list(band_xis_matrix.values())).shape)\n",
        "      # print(np.array(list(band_xis_matrix.values()))[0].shape)\n",
        "      this_matrix = list(band_xis_matrix.values())\n",
        "      for i, band_value in enumerate(this_matrix):\n",
        "        # print(band_value.shape)\n",
        "        all_band_xis_matrices[sn_index][i][:75,:len(band_value[0])] = band_value\n",
        "      # all_band_xis_matrices.append(np.array(list(band_xis_matrix.values())))\n",
        "  else:\n",
        "    for sn_index, sn in enumerate(meta.SNID.values):\n",
        "      times_dict = sn_time_dicts[sn]\n",
        "      z_helio = z_helio_dict[sn]\n",
        "      band_xis_matrix = get_xis_matrix(times_dict, rv, z_helio)\n",
        "      # print(np.array(list(band_xis_matrix.values())).shape)\n",
        "      # print(np.array(list(band_xis_matrix.values()))[0].shape)\n",
        "      this_matrix = list(band_xis_matrix.values())\n",
        "      for i, band_value in enumerate(this_matrix):\n",
        "        # print(band_value.shape)\n",
        "        all_band_xis_matrices[sn_index][i][:75,:len(band_value[0])] = band_value\n",
        "\n",
        "  return all_band_xis_matrices"
      ],
      "metadata": {
        "id": "9Vwb43b8q-Xp"
      },
      "execution_count": 221,
      "outputs": []
    },
    {
      "cell_type": "code",
      "source": [
        "def get_all_band_dependent_arrays():\n",
        "  all_Jt = []\n",
        "  all_Jl = []\n",
        "  all_S0 = []\n",
        "  all_h = []\n",
        "  for sn in meta.SNID.values:\n",
        "    band_Jt, band_Jl, band_S0, band_h = sn_band_dependent_dict[sn]\n",
        "    all_Jt.append(np.array(list(band_Jt.values())))\n",
        "    all_Jl.append(np.array(list(band_Jl.values())))\n",
        "    all_S0.append(np.array(list(band_S0.values())))\n",
        "    all_h.append(np.array(list(band_h.values())))\n",
        "  return np.array(all_Jt), np.array(all_Jl), np.array(all_S0), np.array(all_h)"
      ],
      "metadata": {
        "id": "mUir3R_NuiI3"
      },
      "execution_count": 222,
      "outputs": []
    },
    {
      "cell_type": "code",
      "source": [
        "all_Jt, all_Jl, all_S0, all_h = get_all_band_dependent_arrays()"
      ],
      "metadata": {
        "colab": {
          "base_uri": "https://localhost:8080/"
        },
        "id": "jPrebH5NvKf8",
        "outputId": "e3d3e881-28ba-4537-9040-1c16d7244380"
      },
      "execution_count": 223,
      "outputs": [
        {
          "output_type": "stream",
          "name": "stderr",
          "text": [
            "/usr/local/lib/python3.7/dist-packages/ipykernel_launcher.py:8: FutureWarning: The input object of type 'Tensor' is an array-like implementing one of the corresponding protocols (`__array__`, `__array_interface__` or `__array_struct__`); but not a sequence (or 0-D). In the future, this object will be coerced as if it was first converted using `np.array(obj)`. To retain the old behaviour, you have to either modify the type 'Tensor', or assign to an empty array created with `np.empty(correct_shape, dtype=object)`.\n",
            "  \n",
            "/usr/local/lib/python3.7/dist-packages/ipykernel_launcher.py:8: VisibleDeprecationWarning: Creating an ndarray from ragged nested sequences (which is a list-or-tuple of lists-or-tuples-or ndarrays with different lengths or shapes) is deprecated. If you meant to do this, you must specify 'dtype=object' when creating the ndarray.\n",
            "  \n",
            "/usr/local/lib/python3.7/dist-packages/ipykernel_launcher.py:9: FutureWarning: The input object of type 'Tensor' is an array-like implementing one of the corresponding protocols (`__array__`, `__array_interface__` or `__array_struct__`); but not a sequence (or 0-D). In the future, this object will be coerced as if it was first converted using `np.array(obj)`. To retain the old behaviour, you have to either modify the type 'Tensor', or assign to an empty array created with `np.empty(correct_shape, dtype=object)`.\n",
            "  if __name__ == '__main__':\n",
            "/usr/local/lib/python3.7/dist-packages/ipykernel_launcher.py:9: VisibleDeprecationWarning: Creating an ndarray from ragged nested sequences (which is a list-or-tuple of lists-or-tuples-or ndarrays with different lengths or shapes) is deprecated. If you meant to do this, you must specify 'dtype=object' when creating the ndarray.\n",
            "  if __name__ == '__main__':\n",
            "/usr/local/lib/python3.7/dist-packages/ipykernel_launcher.py:10: FutureWarning: The input object of type 'Tensor' is an array-like implementing one of the corresponding protocols (`__array__`, `__array_interface__` or `__array_struct__`); but not a sequence (or 0-D). In the future, this object will be coerced as if it was first converted using `np.array(obj)`. To retain the old behaviour, you have to either modify the type 'Tensor', or assign to an empty array created with `np.empty(correct_shape, dtype=object)`.\n",
            "  # Remove the CWD from sys.path while we load stuff.\n",
            "/usr/local/lib/python3.7/dist-packages/ipykernel_launcher.py:10: VisibleDeprecationWarning: Creating an ndarray from ragged nested sequences (which is a list-or-tuple of lists-or-tuples-or ndarrays with different lengths or shapes) is deprecated. If you meant to do this, you must specify 'dtype=object' when creating the ndarray.\n",
            "  # Remove the CWD from sys.path while we load stuff.\n",
            "/usr/local/lib/python3.7/dist-packages/ipykernel_launcher.py:11: FutureWarning: The input object of type 'Tensor' is an array-like implementing one of the corresponding protocols (`__array__`, `__array_interface__` or `__array_struct__`); but not a sequence (or 0-D). In the future, this object will be coerced as if it was first converted using `np.array(obj)`. To retain the old behaviour, you have to either modify the type 'Tensor', or assign to an empty array created with `np.empty(correct_shape, dtype=object)`.\n",
            "  # This is added back by InteractiveShellApp.init_path()\n",
            "/usr/local/lib/python3.7/dist-packages/ipykernel_launcher.py:11: VisibleDeprecationWarning: Creating an ndarray from ragged nested sequences (which is a list-or-tuple of lists-or-tuples-or ndarrays with different lengths or shapes) is deprecated. If you meant to do this, you must specify 'dtype=object' when creating the ndarray.\n",
            "  # This is added back by InteractiveShellApp.init_path()\n"
          ]
        }
      ]
    },
    {
      "cell_type": "code",
      "source": [
        "torch.transpose(all_flux_errors_tensor, 0, 2).shape"
      ],
      "metadata": {
        "colab": {
          "base_uri": "https://localhost:8080/"
        },
        "id": "9selNc_uvTYj",
        "outputId": "24493f2a-36e1-4f4d-9f69-90e03c255648"
      },
      "execution_count": 224,
      "outputs": [
        {
          "output_type": "execute_result",
          "data": {
            "text/plain": [
              "torch.Size([24, 4, 50])"
            ]
          },
          "metadata": {},
          "execution_count": 224
        }
      ]
    },
    {
      "cell_type": "code",
      "source": [
        "tauA"
      ],
      "metadata": {
        "colab": {
          "base_uri": "https://localhost:8080/"
        },
        "id": "HPFxhBUNuxS8",
        "outputId": "599b0a5a-6aa7-4f5e-bb81-ea8ea09330dd"
      },
      "execution_count": 225,
      "outputs": [
        {
          "output_type": "execute_result",
          "data": {
            "text/plain": [
              "0.194"
            ]
          },
          "metadata": {},
          "execution_count": 225
        }
      ]
    },
    {
      "cell_type": "markdown",
      "source": [
        "## Vectorized Model Definition"
      ],
      "metadata": {
        "id": "VJClVYDo9nXk"
      }
    },
    {
      "cell_type": "code",
      "source": [
        "def training_model_vectorized():\n",
        "\n",
        "  # rv_mean = pyro.sample(\"rv_mean\", dist.Uniform(1., 5.))\n",
        "  # rv_std = pyro.sample(\"rv_std\", dist.HalfNormal(2.))\n",
        "\n",
        "  rv = pyro.sample(\"rv\", dist.Uniform(1., 5.))\n",
        "\n",
        "  # tau = pyro.sample(\"tau\", dist.HalfNormal(1.))\n",
        "\n",
        "  tau = torch.as_tensor(0.194)\n",
        "\n",
        "  with pyro.plate(\"SNe\", sample_size) as sn_index:\n",
        "\n",
        "    sn = meta.SNID.values[sn_index]\n",
        "\n",
        "    # Calculate band-dependent quantities (Jl, Jt, xis, S0, etc.)\n",
        "    # rv = pyro.sample(\"rv\", dist.Normal(rv_mean, rv_std))\n",
        "\n",
        "    all_band_xis_matrix = get_xis_matrix_vectorized(rv)\n",
        "\n",
        "    nu = pyro.sample(\"nu\", dist.MultivariateNormal(*nu_args))\n",
        "    epsilon_interior = torch.matmul(L_sigma_epsilon_tensor.float(), torch.t(torch.squeeze(nu).float()))\n",
        "\n",
        "    theta = pyro.sample(\"theta\", dist.Normal(*theta_args))\n",
        "\n",
        "    mu_s = pyro.sample(\"mu_s\", dist.Normal(all_mu_means[sn_index], mu_arg))\n",
        "\n",
        "    dMs = torch.tensor(0.).to(device)\n",
        "\n",
        "    Av = pyro.sample(\"Av\", dist.Exponential(1. / tau))\n",
        "\n",
        "\n",
        "    epsilon = torch.stack([torch.vstack((zeros, torch.transpose(torch.reshape(epsilon_interior[:,i], (6,4,)), 0, 1), zeros)) for i in range(torch.squeeze(nu).shape[0])])\n",
        "\n",
        "    W = torch.stack([W0_tensor + theta[i]*W1_tensor + epsilon[i] for i in range(sample_size)])\n",
        "\n",
        "\n",
        "    all_model_generated_fluxes = torch.zeros(sample_size, 4, 24)\n",
        "\n",
        "\n",
        "    for i in sn_index:\n",
        "      Jt = all_Jt[i]\n",
        "      Jl = all_Jl[i]\n",
        "      S0 = all_S0[i]\n",
        "      h = all_h[i]\n",
        "      xis_matrix = all_band_xis_matrix[i]\n",
        "      xis_matrix = xis_matrix[xis_matrix != 0]\n",
        "\n",
        "      # generated_fluxes = []\n",
        "\n",
        "      for band_index, band in enumerate(bands):\n",
        "        JlWJt = torch.matmul(Jl[band_index], torch.matmul(W[i], Jt[band_index]))\n",
        "\n",
        "        Stilde = S0[band_index] * torch.exp(-gamma * (JlWJt + Av[i] * xis_matrix[band_index]))\n",
        "\n",
        "        f = 10**(0.4 * (ZPT - mu_s[i] - M0 - dMs)) * torch.matmul(h[band_index], Stilde)\n",
        "        # print(f)\n",
        "        for k in range(len(f)):\n",
        "          all_model_generated_fluxes[i][band_index][k] = f[k]\n",
        "\n",
        "    with pyro.plate(\"bands\"):\n",
        "      with pyro.plate(\"observations\"):\n",
        "        with poutine.mask(mask = torch.transpose(mask_tensor, 0, 2)):\n",
        "          pyro.sample(\"flux\", dist.Normal(torch.transpose(all_model_generated_fluxes, 0, 2), torch.transpose(all_flux_errors_tensor, 0, 2)), obs = torch.transpose(all_observed_fluxes_tensor, 0, 2))"
      ],
      "metadata": {
        "id": "3drW5rfajFtB"
      },
      "execution_count": 226,
      "outputs": []
    },
    {
      "cell_type": "code",
      "execution_count": 227,
      "metadata": {
        "id": "d1RtnrXAslgP"
      },
      "outputs": [],
      "source": [
        "def train_with_params_faster(model, guide, lr=0.01, n_steps=5000, verbose= False):\n",
        "  pyro.get_param_store().clear()\n",
        "  # adam = pyro.optim.Adam({\"lr\": 0.05}, {\"clip_norm\": 10.0})\n",
        "  adam = pyro.optim.ClippedAdam({\"lr\": lr, \"betas\": (0.95, 0.999)})\n",
        "  svi = SVI(model, guide, adam, loss=Trace_ELBO())\n",
        "  # print('hi')\n",
        "  for step in range(n_steps):\n",
        "      loss = svi.step()\n",
        "      if verbose and step % 50 == 0:\n",
        "            print('[iter {}]  loss: {:.4f}'.format(step, loss))\n",
        "          ## if it hasn't decreased in 3 steps, end fitting\n",
        "          # if step > 2000:\n",
        "          #  if losses_every_500[-1] >= losses_every_500[-2] and losses_every_500[-2] >= losses_every_500[-3]:\n",
        "          #   break\n"
      ]
    },
    {
      "cell_type": "code",
      "source": [
        "pyro.render_model(training_model_vectorized, render_distributions=True, render_params = True)"
      ],
      "metadata": {
        "colab": {
          "base_uri": "https://localhost:8080/",
          "height": 278
        },
        "id": "kP5IMeqsdMtx",
        "outputId": "0bd387cd-383a-4b4c-8b3d-79c8d7870e45"
      },
      "execution_count": 228,
      "outputs": [
        {
          "output_type": "execute_result",
          "data": {
            "text/plain": [
              "<graphviz.dot.Digraph at 0x7f6961f93d50>"
            ],
            "image/svg+xml": "<?xml version=\"1.0\" encoding=\"UTF-8\" standalone=\"no\"?>\n<!DOCTYPE svg PUBLIC \"-//W3C//DTD SVG 1.1//EN\"\n \"http://www.w3.org/Graphics/SVG/1.1/DTD/svg11.dtd\">\n<!-- Generated by graphviz version 2.40.1 (20161225.0304)\n -->\n<!-- Title: %3 Pages: 1 -->\n<svg width=\"650pt\" height=\"177pt\"\n viewBox=\"0.00 0.00 649.50 177.00\" xmlns=\"http://www.w3.org/2000/svg\" xmlns:xlink=\"http://www.w3.org/1999/xlink\">\n<g id=\"graph0\" class=\"graph\" transform=\"scale(1 1) rotate(0) translate(4 173)\">\n<title>%3</title>\n<polygon fill=\"#ffffff\" stroke=\"transparent\" points=\"-4,4 -4,-173 645.5,-173 645.5,4 -4,4\"/>\n<g id=\"clust1\" class=\"cluster\">\n<title>cluster_SNe</title>\n<polygon fill=\"none\" stroke=\"#000000\" points=\"64,-8 64,-161 475,-161 475,-8 64,-8\"/>\n<text text-anchor=\"middle\" x=\"454.5\" y=\"-15.8\" font-family=\"Times,serif\" font-size=\"14.00\" fill=\"#000000\">SNe</text>\n</g>\n<g id=\"clust2\" class=\"cluster\">\n<title>cluster_bands</title>\n<polygon fill=\"none\" stroke=\"#000000\" points=\"362,-39 362,-153 467,-153 467,-39 362,-39\"/>\n<text text-anchor=\"middle\" x=\"442\" y=\"-46.8\" font-family=\"Times,serif\" font-size=\"14.00\" fill=\"#000000\">bands</text>\n</g>\n<g id=\"clust3\" class=\"cluster\">\n<title>cluster_observations</title>\n<polygon fill=\"none\" stroke=\"#000000\" points=\"370,-70 370,-145 459,-145 459,-70 370,-70\"/>\n<text text-anchor=\"middle\" x=\"414.5\" y=\"-77.8\" font-family=\"Times,serif\" font-size=\"14.00\" fill=\"#000000\">observations</text>\n</g>\n<!-- rv -->\n<g id=\"node1\" class=\"node\">\n<title>rv</title>\n<ellipse fill=\"#ffffff\" stroke=\"#000000\" cx=\"27\" cy=\"-119\" rx=\"27\" ry=\"18\"/>\n<text text-anchor=\"middle\" x=\"27\" y=\"-115.3\" font-family=\"Times,serif\" font-size=\"14.00\" fill=\"#000000\">rv</text>\n</g>\n<!-- nu -->\n<g id=\"node2\" class=\"node\">\n<title>nu</title>\n<ellipse fill=\"#ffffff\" stroke=\"#000000\" cx=\"327\" cy=\"-119\" rx=\"27\" ry=\"18\"/>\n<text text-anchor=\"middle\" x=\"327\" y=\"-115.3\" font-family=\"Times,serif\" font-size=\"14.00\" fill=\"#000000\">nu</text>\n</g>\n<!-- theta -->\n<g id=\"node3\" class=\"node\">\n<title>theta</title>\n<ellipse fill=\"#ffffff\" stroke=\"#000000\" cx=\"253\" cy=\"-119\" rx=\"28.6953\" ry=\"18\"/>\n<text text-anchor=\"middle\" x=\"253\" y=\"-115.3\" font-family=\"Times,serif\" font-size=\"14.00\" fill=\"#000000\">theta</text>\n</g>\n<!-- mu_s -->\n<g id=\"node4\" class=\"node\">\n<title>mu_s</title>\n<ellipse fill=\"#ffffff\" stroke=\"#000000\" cx=\"175\" cy=\"-119\" rx=\"31.3957\" ry=\"18\"/>\n<text text-anchor=\"middle\" x=\"175\" y=\"-115.3\" font-family=\"Times,serif\" font-size=\"14.00\" fill=\"#000000\">mu_s</text>\n</g>\n<!-- Av -->\n<g id=\"node5\" class=\"node\">\n<title>Av</title>\n<ellipse fill=\"#ffffff\" stroke=\"#000000\" cx=\"99\" cy=\"-119\" rx=\"27\" ry=\"18\"/>\n<text text-anchor=\"middle\" x=\"99\" y=\"-115.3\" font-family=\"Times,serif\" font-size=\"14.00\" fill=\"#000000\">Av</text>\n</g>\n<!-- flux -->\n<g id=\"node6\" class=\"node\">\n<title>flux</title>\n<ellipse fill=\"#c0c0c0\" stroke=\"#000000\" cx=\"414\" cy=\"-119\" rx=\"27\" ry=\"18\"/>\n<text text-anchor=\"middle\" x=\"414\" y=\"-115.3\" font-family=\"Times,serif\" font-size=\"14.00\" fill=\"#000000\">flux</text>\n</g>\n<!-- distribution_description_node -->\n<g id=\"node7\" class=\"node\">\n<title>distribution_description_node</title>\n<text text-anchor=\"start\" x=\"490.5\" y=\"-152.8\" font-family=\"Times,serif\" font-size=\"14.00\" fill=\"#000000\">rv ~ Uniform</text>\n<text text-anchor=\"start\" x=\"490.5\" y=\"-137.8\" font-family=\"Times,serif\" font-size=\"14.00\" fill=\"#000000\">nu ~ MultivariateNormal</text>\n<text text-anchor=\"start\" x=\"490.5\" y=\"-122.8\" font-family=\"Times,serif\" font-size=\"14.00\" fill=\"#000000\">theta ~ Normal</text>\n<text text-anchor=\"start\" x=\"490.5\" y=\"-107.8\" font-family=\"Times,serif\" font-size=\"14.00\" fill=\"#000000\">mu_s ~ Normal</text>\n<text text-anchor=\"start\" x=\"490.5\" y=\"-92.8\" font-family=\"Times,serif\" font-size=\"14.00\" fill=\"#000000\">Av ~ Exponential</text>\n<text text-anchor=\"start\" x=\"490.5\" y=\"-77.8\" font-family=\"Times,serif\" font-size=\"14.00\" fill=\"#000000\">flux ~ Normal</text>\n</g>\n</g>\n</svg>\n"
          },
          "metadata": {},
          "execution_count": 228
        }
      ]
    },
    {
      "cell_type": "code",
      "source": [
        "meta.SNID.values"
      ],
      "metadata": {
        "colab": {
          "base_uri": "https://localhost:8080/"
        },
        "id": "zjK0sT_vKd8q",
        "outputId": "16cf28fd-39a5-408c-d486-4f974e42431c"
      },
      "execution_count": 114,
      "outputs": [
        {
          "output_type": "execute_result",
          "data": {
            "text/plain": [
              "array(['PS15atx', 'SN2017cii', 'PSNJ1602512', 'AT2017yk', 'PS15bbn',\n",
              "       'ASASSN-17co', 'PS15mt', 'AT2016cvv', 'AT2017cfc', 'AT2016hns'],\n",
              "      dtype=object)"
            ]
          },
          "metadata": {},
          "execution_count": 114
        }
      ]
    },
    {
      "cell_type": "code",
      "source": [
        "digraph = pyro.render_model(training_model_vectorized,render_params = True)\n",
        "digraph.edge(\"rv\", \"flux\")\n",
        "digraph.edge(\"mu_s\", \"flux\")\n",
        "digraph.edge(\"theta\", \"flux\")\n",
        "digraph.edge(\"nu\", \"flux\")\n",
        "digraph.edge(\"Av\", \"flux\")"
      ],
      "metadata": {
        "id": "K18nsVeVIGtg"
      },
      "execution_count": 115,
      "outputs": []
    },
    {
      "cell_type": "code",
      "source": [
        "digraph"
      ],
      "metadata": {
        "colab": {
          "base_uri": "https://localhost:8080/",
          "height": 333
        },
        "id": "UyIfVTfQIQo0",
        "outputId": "de7b6645-a76b-434d-8e41-a0ca0323fa1a"
      },
      "execution_count": 116,
      "outputs": [
        {
          "output_type": "execute_result",
          "data": {
            "text/plain": [
              "<graphviz.dot.Digraph at 0x7f6961e636d0>"
            ],
            "image/svg+xml": "<?xml version=\"1.0\" encoding=\"UTF-8\" standalone=\"no\"?>\n<!DOCTYPE svg PUBLIC \"-//W3C//DTD SVG 1.1//EN\"\n \"http://www.w3.org/Graphics/SVG/1.1/DTD/svg11.dtd\">\n<!-- Generated by graphviz version 2.40.1 (20161225.0304)\n -->\n<!-- Title: %3 Pages: 1 -->\n<svg width=\"378pt\" height=\"233pt\"\n viewBox=\"0.00 0.00 378.00 233.00\" xmlns=\"http://www.w3.org/2000/svg\" xmlns:xlink=\"http://www.w3.org/1999/xlink\">\n<g id=\"graph0\" class=\"graph\" transform=\"scale(1 1) rotate(0) translate(4 229)\">\n<title>%3</title>\n<polygon fill=\"#ffffff\" stroke=\"transparent\" points=\"-4,4 -4,-229 374,-229 374,4 -4,4\"/>\n<g id=\"clust1\" class=\"cluster\">\n<title>cluster_SNe</title>\n<polygon fill=\"none\" stroke=\"#000000\" points=\"64,-8 64,-217 362,-217 362,-8 64,-8\"/>\n<text text-anchor=\"middle\" x=\"341.5\" y=\"-15.8\" font-family=\"Times,serif\" font-size=\"14.00\" fill=\"#000000\">SNe</text>\n</g>\n<g id=\"clust2\" class=\"cluster\">\n<title>cluster_bands</title>\n<polygon fill=\"none\" stroke=\"#000000\" points=\"123,-39 123,-153 228,-153 228,-39 123,-39\"/>\n<text text-anchor=\"middle\" x=\"203\" y=\"-46.8\" font-family=\"Times,serif\" font-size=\"14.00\" fill=\"#000000\">bands</text>\n</g>\n<g id=\"clust3\" class=\"cluster\">\n<title>cluster_observations</title>\n<polygon fill=\"none\" stroke=\"#000000\" points=\"131,-70 131,-145 220,-145 220,-70 131,-70\"/>\n<text text-anchor=\"middle\" x=\"175.5\" y=\"-77.8\" font-family=\"Times,serif\" font-size=\"14.00\" fill=\"#000000\">observations</text>\n</g>\n<!-- rv -->\n<g id=\"node1\" class=\"node\">\n<title>rv</title>\n<ellipse fill=\"#ffffff\" stroke=\"#000000\" cx=\"27\" cy=\"-191\" rx=\"27\" ry=\"18\"/>\n<text text-anchor=\"middle\" x=\"27\" y=\"-187.3\" font-family=\"Times,serif\" font-size=\"14.00\" fill=\"#000000\">rv</text>\n</g>\n<!-- flux -->\n<g id=\"node6\" class=\"node\">\n<title>flux</title>\n<ellipse fill=\"#c0c0c0\" stroke=\"#000000\" cx=\"175\" cy=\"-119\" rx=\"27\" ry=\"18\"/>\n<text text-anchor=\"middle\" x=\"175\" y=\"-115.3\" font-family=\"Times,serif\" font-size=\"14.00\" fill=\"#000000\">flux</text>\n</g>\n<!-- rv&#45;&gt;flux -->\n<g id=\"edge1\" class=\"edge\">\n<title>rv&#45;&gt;flux</title>\n<path fill=\"none\" stroke=\"#000000\" d=\"M47.8478,-179.3817C51.8581,-177.2171 56.0418,-175.0065 60,-173 87.7149,-158.9505 119.7517,-144.0113 142.9611,-133.4161\"/>\n<polygon fill=\"#000000\" stroke=\"#000000\" points=\"144.6748,-136.4818 152.3293,-129.1565 141.7774,-130.1095 144.6748,-136.4818\"/>\n</g>\n<!-- nu -->\n<g id=\"node2\" class=\"node\">\n<title>nu</title>\n<ellipse fill=\"#ffffff\" stroke=\"#000000\" cx=\"327\" cy=\"-191\" rx=\"27\" ry=\"18\"/>\n<text text-anchor=\"middle\" x=\"327\" y=\"-187.3\" font-family=\"Times,serif\" font-size=\"14.00\" fill=\"#000000\">nu</text>\n</g>\n<!-- nu&#45;&gt;flux -->\n<g id=\"edge4\" class=\"edge\">\n<title>nu&#45;&gt;flux</title>\n<path fill=\"none\" stroke=\"#000000\" d=\"M305.3463,-180.0506C300.6296,-177.6998 295.6569,-175.2476 291,-173 262.5151,-159.252 229.8325,-144.0925 206.433,-133.3444\"/>\n<polygon fill=\"#000000\" stroke=\"#000000\" points=\"207.874,-130.1547 197.3252,-129.1683 204.9564,-136.5177 207.874,-130.1547\"/>\n</g>\n<!-- theta -->\n<g id=\"node3\" class=\"node\">\n<title>theta</title>\n<ellipse fill=\"#ffffff\" stroke=\"#000000\" cx=\"253\" cy=\"-191\" rx=\"28.6953\" ry=\"18\"/>\n<text text-anchor=\"middle\" x=\"253\" y=\"-187.3\" font-family=\"Times,serif\" font-size=\"14.00\" fill=\"#000000\">theta</text>\n</g>\n<!-- theta&#45;&gt;flux -->\n<g id=\"edge3\" class=\"edge\">\n<title>theta&#45;&gt;flux</title>\n<path fill=\"none\" stroke=\"#000000\" d=\"M236.8383,-176.0816C225.6786,-165.7802 210.6666,-151.923 198.2285,-140.4417\"/>\n<polygon fill=\"#000000\" stroke=\"#000000\" points=\"200.5961,-137.864 190.8741,-133.653 195.8481,-143.0076 200.5961,-137.864\"/>\n</g>\n<!-- mu_s -->\n<g id=\"node4\" class=\"node\">\n<title>mu_s</title>\n<ellipse fill=\"#ffffff\" stroke=\"#000000\" cx=\"175\" cy=\"-191\" rx=\"31.3957\" ry=\"18\"/>\n<text text-anchor=\"middle\" x=\"175\" y=\"-187.3\" font-family=\"Times,serif\" font-size=\"14.00\" fill=\"#000000\">mu_s</text>\n</g>\n<!-- mu_s&#45;&gt;flux -->\n<g id=\"edge2\" class=\"edge\">\n<title>mu_s&#45;&gt;flux</title>\n<path fill=\"none\" stroke=\"#000000\" d=\"M175,-172.8314C175,-165.131 175,-155.9743 175,-147.4166\"/>\n<polygon fill=\"#000000\" stroke=\"#000000\" points=\"178.5001,-147.4132 175,-137.4133 171.5001,-147.4133 178.5001,-147.4132\"/>\n</g>\n<!-- Av -->\n<g id=\"node5\" class=\"node\">\n<title>Av</title>\n<ellipse fill=\"#ffffff\" stroke=\"#000000\" cx=\"99\" cy=\"-191\" rx=\"27\" ry=\"18\"/>\n<text text-anchor=\"middle\" x=\"99\" y=\"-187.3\" font-family=\"Times,serif\" font-size=\"14.00\" fill=\"#000000\">Av</text>\n</g>\n<!-- Av&#45;&gt;flux -->\n<g id=\"edge5\" class=\"edge\">\n<title>Av&#45;&gt;flux</title>\n<path fill=\"none\" stroke=\"#000000\" d=\"M114.7472,-176.0816C125.447,-165.945 139.781,-152.3654 151.7837,-140.9944\"/>\n<polygon fill=\"#000000\" stroke=\"#000000\" points=\"154.4205,-143.3177 159.2729,-133.8993 149.6063,-138.236 154.4205,-143.3177\"/>\n</g>\n</g>\n</svg>\n"
          },
          "metadata": {},
          "execution_count": 116
        }
      ]
    },
    {
      "cell_type": "code",
      "source": [
        "digraph.save()\n",
        "digraph.render(filename = \"Fitting_PGM_080822\", format='eps', view = 1, cleanup = 1)"
      ],
      "metadata": {
        "colab": {
          "base_uri": "https://localhost:8080/",
          "height": 36
        },
        "id": "qwOQqHmmoio8",
        "outputId": "dbd07beb-7644-48cd-b417-da4b075bdb54"
      },
      "execution_count": 117,
      "outputs": [
        {
          "output_type": "execute_result",
          "data": {
            "text/plain": [
              "'Fitting_PGM_080822.eps'"
            ],
            "application/vnd.google.colaboratory.intrinsic+json": {
              "type": "string"
            }
          },
          "metadata": {},
          "execution_count": 117
        }
      ]
    },
    {
      "cell_type": "code",
      "source": [
        "training_model_vectorized()"
      ],
      "metadata": {
        "id": "1Qy0g5oStTLl"
      },
      "execution_count": 118,
      "outputs": []
    },
    {
      "cell_type": "code",
      "source": [
        "# nuts_kernel = pyro.infer.NUTS(model_vi_with_params_faster, adapt_step_size=True)\n",
        "\n",
        "# mcmc = pyro.infer.MCMC(nuts_kernel, num_samples=200, warmup_steps=250, num_chains = 1)\n",
        "\n",
        "# mcmc.run()\n"
      ],
      "metadata": {
        "id": "9B_q0jHRov61"
      },
      "execution_count": 119,
      "outputs": []
    },
    {
      "cell_type": "markdown",
      "source": [
        "## Training attempts"
      ],
      "metadata": {
        "id": "peiETgxq9qtb"
      }
    },
    {
      "cell_type": "code",
      "source": [
        "## This takes approximately 6 hours to run\n",
        "autoguide_laplace = pyro.infer.autoguide.AutoLaplaceApproximation(training_model_vectorized)\n",
        "train_with_params_faster(training_model_vectorized, autoguide_laplace, lr = 0.01, n_steps=2000, verbose = True)"
      ],
      "metadata": {
        "colab": {
          "base_uri": "https://localhost:8080/"
        },
        "id": "zUXDwFEem3bv",
        "outputId": "23c74ab3-b64b-48cf-c988-0f8cf6766828"
      },
      "execution_count": 164,
      "outputs": [
        {
          "output_type": "stream",
          "name": "stdout",
          "text": [
            "[iter 0]  loss: 134795747.4527\n",
            "[iter 50]  loss: 27987096.1569\n",
            "[iter 100]  loss: 4043703.4765\n",
            "[iter 150]  loss: 249777.2400\n",
            "[iter 200]  loss: 16435.0249\n",
            "[iter 250]  loss: 7027.2241\n",
            "[iter 300]  loss: 4237.1017\n",
            "[iter 350]  loss: 3334.8078\n",
            "[iter 400]  loss: 2856.5363\n",
            "[iter 450]  loss: 2600.0533\n",
            "[iter 500]  loss: 2476.3447\n",
            "[iter 550]  loss: 2410.1128\n",
            "[iter 600]  loss: 2371.1524\n",
            "[iter 650]  loss: 2344.9097\n",
            "[iter 700]  loss: 2324.8694\n",
            "[iter 750]  loss: 2311.1116\n",
            "[iter 800]  loss: 2297.9192\n",
            "[iter 850]  loss: 2288.0719\n",
            "[iter 900]  loss: 2279.0250\n",
            "[iter 950]  loss: 2273.7658\n",
            "[iter 1000]  loss: 2267.5530\n",
            "[iter 1050]  loss: 2263.3252\n",
            "[iter 1100]  loss: 2259.7346\n",
            "[iter 1150]  loss: 2257.0700\n",
            "[iter 1200]  loss: 2254.8777\n",
            "[iter 1250]  loss: 2253.1273\n",
            "[iter 1300]  loss: 2251.6586\n",
            "[iter 1350]  loss: 2250.4768\n",
            "[iter 1400]  loss: 2249.4240\n",
            "[iter 1450]  loss: 2248.5391\n",
            "[iter 1500]  loss: 2247.9949\n",
            "[iter 1550]  loss: 2247.3637\n",
            "[iter 1600]  loss: 2246.8985\n",
            "[iter 1650]  loss: 2246.5796\n",
            "[iter 1700]  loss: 2246.2599\n",
            "[iter 1750]  loss: 2245.9510\n",
            "[iter 1800]  loss: 2245.8207\n",
            "[iter 1850]  loss: 2245.6127\n",
            "[iter 1900]  loss: 2245.4421\n",
            "[iter 1950]  loss: 2245.3715\n"
          ]
        }
      ]
    },
    {
      "cell_type": "code",
      "source": [
        "autoguide_laplace.loc"
      ],
      "metadata": {
        "colab": {
          "base_uri": "https://localhost:8080/"
        },
        "id": "N098bIQ9zMoZ",
        "outputId": "6abaf9de-f30b-402c-caff-fd77e7665fcc"
      },
      "execution_count": 165,
      "outputs": [
        {
          "output_type": "execute_result",
          "data": {
            "text/plain": [
              "Parameter containing:\n",
              "tensor([-1.4129e+00, -1.1488e-01, -5.6215e-02, -2.3492e-01, -2.0220e-01,\n",
              "        -5.4057e-01,  5.8480e-01,  2.0231e-01,  7.8844e-01, -3.4642e-01,\n",
              "         5.1330e-01, -2.3167e-01, -3.9430e-01,  2.9628e-01, -7.3592e-01,\n",
              "         3.4381e-01,  5.8587e-02, -6.7636e-01,  2.2437e-01,  2.7970e-01,\n",
              "        -7.3203e-02,  2.0361e-02, -1.8859e-01,  2.8543e-02,  2.3528e-02,\n",
              "        -4.7338e-01,  1.1474e+00,  8.9376e-01,  4.6069e-01,  9.8306e-01,\n",
              "        -4.9962e-01, -1.3972e+00, -1.4803e+00, -7.6065e-01,  8.4203e-01,\n",
              "        -1.1228e+00, -1.3922e-01,  2.6167e-01,  8.6603e-01,  9.5778e-01,\n",
              "         2.2857e-01, -7.5276e-01,  6.7727e-01,  1.7117e-01, -2.3229e-01,\n",
              "        -2.3083e-01, -6.9818e-01, -3.1665e-01, -4.4510e-01,  2.6693e+00,\n",
              "        -4.6168e-01, -1.3331e+00, -1.8705e+00,  3.9741e+00, -2.0984e+00,\n",
              "        -1.8492e+00, -1.9435e+00,  1.8187e+00,  2.3073e-01, -9.8110e-01,\n",
              "         3.4903e-01,  1.2304e+00,  6.1392e-01,  6.3380e-01, -1.1156e+00,\n",
              "         3.3715e-01, -2.5155e+00, -1.4452e-01,  2.5014e-01, -4.6190e-02,\n",
              "        -2.4804e-01, -5.2120e-01,  1.9531e-02,  2.2231e+00,  2.9733e-01,\n",
              "         5.0351e-01,  1.1824e+00,  4.6061e+00, -8.6970e-01, -3.5838e+00,\n",
              "        -2.1459e+00,  2.0386e+00,  6.4662e-01, -1.4103e+00,  9.9398e-01,\n",
              "        -5.2795e-01, -1.0539e-01,  4.0960e-01, -4.4173e-01,  1.2811e+00,\n",
              "        -1.1825e+00, -1.5068e+00,  5.3336e-01,  5.5047e-02, -5.6687e-01,\n",
              "        -3.7668e-01,  7.9126e-02, -8.3587e-01,  6.8712e-01, -6.6545e-01,\n",
              "         6.7579e-01,  7.5861e-01,  2.6500e-01,  1.5595e+00, -1.9469e+00,\n",
              "         2.4595e-01, -7.4194e-01, -2.6059e-01,  6.9391e-01, -2.0191e+00,\n",
              "         7.5961e-02,  4.8001e-01, -4.2244e-01, -8.3045e-01,  3.9129e-01,\n",
              "         1.0951e+00,  1.5846e+00, -5.9964e-01, -1.5119e+00, -3.2961e-03,\n",
              "         4.4547e-01,  8.7337e-01, -1.9828e-01,  4.8408e-01,  5.4223e-01,\n",
              "         3.3767e+00, -1.4181e+00, -1.9675e+00, -7.5377e-01,  1.4293e+00,\n",
              "        -1.5917e-02, -4.6753e-01,  1.5248e+00,  9.5618e-01, -5.9633e-01,\n",
              "        -7.5744e-01, -1.0850e+00,  9.7007e-01, -1.2950e+00,  9.2567e-01,\n",
              "         8.5958e-02,  3.3183e-01,  6.3282e-01, -2.7525e-01, -1.2601e+00,\n",
              "         1.0520e+00, -6.8763e-02,  7.2029e-01,  1.1281e+00,  1.6392e-01,\n",
              "        -8.7000e-02, -2.8175e-01, -1.7784e+00, -8.8337e-01,  3.8267e-01,\n",
              "        -7.2640e-01, -1.7190e-01, -1.1076e+00,  1.1747e-01,  6.2883e-01,\n",
              "        -2.0092e-01, -7.6692e-01,  3.3714e-01,  4.4669e-01, -2.7969e-01,\n",
              "         1.6273e-01,  5.2145e-01, -1.9181e-01, -1.3751e-01,  1.2593e+00,\n",
              "         7.0813e-01,  3.0888e-01,  1.2571e+00,  2.7384e+00, -1.3890e+00,\n",
              "        -1.1416e+00, -5.6682e-01,  2.0262e+00,  2.8731e-01, -3.2249e-01,\n",
              "        -1.0687e+00, -4.1666e-01, -8.4015e-01,  8.6178e-01, -1.0001e-01,\n",
              "        -9.1819e-01, -1.4591e+00, -2.4101e-01, -5.0093e-01,  3.0961e-01,\n",
              "         9.4269e-01, -6.4901e-01,  1.7417e-01,  1.0092e-01, -9.7449e-01,\n",
              "        -5.3525e-01, -6.2976e-01,  2.8463e+00,  5.2224e-02, -1.7766e+00,\n",
              "        -1.2699e+00,  4.6851e-01, -3.4539e-01,  1.1694e+00,  4.8966e-01,\n",
              "         1.2369e+00,  3.6770e-01,  1.1386e-01, -1.3600e-01,  1.9716e-01,\n",
              "        -1.5573e+00,  8.3653e-02, -3.2520e-01, -6.3696e-02, -4.9795e-01,\n",
              "         2.7381e-02, -4.0861e-02,  6.0549e-02,  1.3125e+00, -2.9349e-01,\n",
              "        -2.1704e-01, -5.1369e-01, -1.7212e-01,  3.2510e-01, -1.1064e+00,\n",
              "         2.5635e-01, -1.9050e-01,  3.6773e-01,  9.8429e-02, -6.3524e-01,\n",
              "        -8.5329e-01, -4.2114e-01,  4.2784e-01,  5.3643e-01, -9.3753e-02,\n",
              "        -3.0383e-01, -1.5302e-01, -2.2257e-01,  2.1504e+00,  1.5966e+00,\n",
              "        -3.4036e-02,  5.8838e-01, -5.5695e-01, -6.1463e-01,  1.4680e+00,\n",
              "        -9.7389e-01,  4.7629e-01, -1.3099e+00, -5.0179e-01,  9.2268e-01,\n",
              "         7.6115e-01,  3.7306e+01,  3.4103e+01,  3.4936e+01,  3.6523e+01,\n",
              "         3.5993e+01,  3.4350e+01,  3.7358e+01,  3.6310e+01,  3.2577e+01,\n",
              "         3.5796e+01, -1.6397e+00, -7.8954e-02, -3.2768e+00, -1.8364e+00,\n",
              "        -2.3039e+00, -2.5298e+00, -2.1760e+00, -1.9278e+00,  3.0912e-01,\n",
              "        -2.0364e+00], dtype=torch.float64, requires_grad=True)"
            ]
          },
          "metadata": {},
          "execution_count": 165
        }
      ]
    },
    {
      "cell_type": "code",
      "source": [
        "from pyro.ops.hessian import hessian\n",
        "guide_trace = poutine.trace(autoguide_laplace).get_trace()\n",
        "model_trace = poutine.trace(\n",
        "    poutine.replay(autoguide_laplace.model, trace=guide_trace)\n",
        ").get_trace()\n",
        "loss = guide_trace.log_prob_sum() - model_trace.log_prob_sum()\n",
        "\n",
        "H = hessian(loss, autoguide_laplace.loc)"
      ],
      "metadata": {
        "id": "Dmm8eA0XzRj0"
      },
      "execution_count": 166,
      "outputs": []
    },
    {
      "cell_type": "code",
      "source": [
        "H"
      ],
      "metadata": {
        "colab": {
          "base_uri": "https://localhost:8080/"
        },
        "id": "Wu2_Fmyh2j-a",
        "outputId": "60431f4d-5211-41ea-de16-b42d152000c2"
      },
      "execution_count": 167,
      "outputs": [
        {
          "output_type": "execute_result",
          "data": {
            "text/plain": [
              "tensor([[ 1.4865e+04, -2.6467e-01,  3.9055e-01,  ..., -3.9908e+02,\n",
              "         -7.3066e+04, -2.8722e+02],\n",
              "        [-2.6467e-01,  1.0887e+00,  2.7358e-02,  ...,  0.0000e+00,\n",
              "          0.0000e+00,  0.0000e+00],\n",
              "        [ 3.9055e-01,  2.7358e-02,  1.3463e+00,  ...,  0.0000e+00,\n",
              "          0.0000e+00,  0.0000e+00],\n",
              "        ...,\n",
              "        [-3.9908e+02,  0.0000e+00,  0.0000e+00,  ...,  2.3900e+03,\n",
              "          0.0000e+00,  0.0000e+00],\n",
              "        [-7.3066e+04,  0.0000e+00,  0.0000e+00,  ...,  0.0000e+00,\n",
              "          4.5052e+05,  0.0000e+00],\n",
              "        [-2.8722e+02,  0.0000e+00,  0.0000e+00,  ...,  0.0000e+00,\n",
              "          0.0000e+00,  1.7358e+03]], dtype=torch.float64)"
            ]
          },
          "metadata": {},
          "execution_count": 167
        }
      ]
    },
    {
      "cell_type": "code",
      "source": [
        "with torch.no_grad():\n",
        "  loc = autoguide_laplace.loc.detach()\n",
        "  cov = H.inverse()\n",
        "  scale = cov.diagonal().sqrt()\n",
        "  cov /= scale[:, None]\n",
        "  cov /= scale[None, :]\n",
        "  scale_tril = torch.linalg.cholesky(cov)"
      ],
      "metadata": {
        "colab": {
          "base_uri": "https://localhost:8080/",
          "height": 226
        },
        "id": "BQhgIw1O0XcG",
        "outputId": "84fb3ee1-ed7c-4e7f-df81-e4b535352318"
      },
      "execution_count": 168,
      "outputs": [
        {
          "output_type": "error",
          "ename": "_LinAlgError",
          "evalue": "ignored",
          "traceback": [
            "\u001b[0;31m---------------------------------------------------------------------------\u001b[0m",
            "\u001b[0;31m_LinAlgError\u001b[0m                              Traceback (most recent call last)",
            "\u001b[0;32m<ipython-input-168-20d7cc28d18b>\u001b[0m in \u001b[0;36m<module>\u001b[0;34m()\u001b[0m\n\u001b[1;32m      5\u001b[0m   \u001b[0mcov\u001b[0m \u001b[0;34m/=\u001b[0m \u001b[0mscale\u001b[0m\u001b[0;34m[\u001b[0m\u001b[0;34m:\u001b[0m\u001b[0;34m,\u001b[0m \u001b[0;32mNone\u001b[0m\u001b[0;34m]\u001b[0m\u001b[0;34m\u001b[0m\u001b[0;34m\u001b[0m\u001b[0m\n\u001b[1;32m      6\u001b[0m   \u001b[0mcov\u001b[0m \u001b[0;34m/=\u001b[0m \u001b[0mscale\u001b[0m\u001b[0;34m[\u001b[0m\u001b[0;32mNone\u001b[0m\u001b[0;34m,\u001b[0m \u001b[0;34m:\u001b[0m\u001b[0;34m]\u001b[0m\u001b[0;34m\u001b[0m\u001b[0;34m\u001b[0m\u001b[0m\n\u001b[0;32m----> 7\u001b[0;31m   \u001b[0mscale_tril\u001b[0m \u001b[0;34m=\u001b[0m \u001b[0mtorch\u001b[0m\u001b[0;34m.\u001b[0m\u001b[0mlinalg\u001b[0m\u001b[0;34m.\u001b[0m\u001b[0mcholesky\u001b[0m\u001b[0;34m(\u001b[0m\u001b[0mcov\u001b[0m\u001b[0;34m)\u001b[0m\u001b[0;34m\u001b[0m\u001b[0;34m\u001b[0m\u001b[0m\n\u001b[0m",
            "\u001b[0;31m_LinAlgError\u001b[0m: torch.linalg_cholesky: The factorization could not be completed because the input is not positive-definite (the leading minor of order 252 is not positive-definite)."
          ]
        }
      ]
    },
    {
      "cell_type": "code",
      "source": [
        "gaussian_guide = pyro.infer.autoguide.AutoMultivariateNormal(autoguide_laplace.model)\n",
        "gaussian_guide._setup_prototype()\n",
        "# Set detached loc, scale, scale_tril parameters as computed above.\n",
        "del gaussian_guide.loc\n",
        "del gaussian_guide.scale\n",
        "gaussian_guide.register_buffer(\"loc\", loc)\n",
        "gaussian_guide.register_buffer(\"scale\", scale)"
      ],
      "metadata": {
        "id": "qOivwyxZ0jYS"
      },
      "execution_count": 162,
      "outputs": []
    },
    {
      "cell_type": "code",
      "source": [
        "gaussian_guide.get_posterior()"
      ],
      "metadata": {
        "colab": {
          "base_uri": "https://localhost:8080/",
          "height": 527
        },
        "id": "5nAub57lzo4O",
        "outputId": "2a1eacea-6d1d-475a-9421-b3e9b25e2edf"
      },
      "execution_count": 163,
      "outputs": [
        {
          "output_type": "error",
          "ename": "ValueError",
          "evalue": "ignored",
          "traceback": [
            "\u001b[0;31m---------------------------------------------------------------------------\u001b[0m",
            "\u001b[0;31mValueError\u001b[0m                                Traceback (most recent call last)",
            "\u001b[0;32m<ipython-input-163-72f6f1aa4a6c>\u001b[0m in \u001b[0;36m<module>\u001b[0;34m()\u001b[0m\n\u001b[0;32m----> 1\u001b[0;31m \u001b[0mgaussian_guide\u001b[0m\u001b[0;34m.\u001b[0m\u001b[0mget_posterior\u001b[0m\u001b[0;34m(\u001b[0m\u001b[0;34m)\u001b[0m\u001b[0;34m\u001b[0m\u001b[0;34m\u001b[0m\u001b[0m\n\u001b[0m",
            "\u001b[0;32m/usr/local/lib/python3.7/dist-packages/pyro/infer/autoguide/guides.py\u001b[0m in \u001b[0;36mget_posterior\u001b[0;34m(self, *args, **kwargs)\u001b[0m\n\u001b[1;32m    897\u001b[0m         \"\"\"\n\u001b[1;32m    898\u001b[0m         \u001b[0mscale_tril\u001b[0m \u001b[0;34m=\u001b[0m \u001b[0mself\u001b[0m\u001b[0;34m.\u001b[0m\u001b[0mscale\u001b[0m\u001b[0;34m[\u001b[0m\u001b[0;34m...\u001b[0m\u001b[0;34m,\u001b[0m \u001b[0;32mNone\u001b[0m\u001b[0;34m]\u001b[0m \u001b[0;34m*\u001b[0m \u001b[0mself\u001b[0m\u001b[0;34m.\u001b[0m\u001b[0mscale_tril\u001b[0m\u001b[0;34m\u001b[0m\u001b[0;34m\u001b[0m\u001b[0m\n\u001b[0;32m--> 899\u001b[0;31m         \u001b[0;32mreturn\u001b[0m \u001b[0mdist\u001b[0m\u001b[0;34m.\u001b[0m\u001b[0mMultivariateNormal\u001b[0m\u001b[0;34m(\u001b[0m\u001b[0mself\u001b[0m\u001b[0;34m.\u001b[0m\u001b[0mloc\u001b[0m\u001b[0;34m,\u001b[0m \u001b[0mscale_tril\u001b[0m\u001b[0;34m=\u001b[0m\u001b[0mscale_tril\u001b[0m\u001b[0;34m)\u001b[0m\u001b[0;34m\u001b[0m\u001b[0;34m\u001b[0m\u001b[0m\n\u001b[0m\u001b[1;32m    900\u001b[0m \u001b[0;34m\u001b[0m\u001b[0m\n\u001b[1;32m    901\u001b[0m     \u001b[0;32mdef\u001b[0m \u001b[0m_loc_scale\u001b[0m\u001b[0;34m(\u001b[0m\u001b[0mself\u001b[0m\u001b[0;34m,\u001b[0m \u001b[0;34m*\u001b[0m\u001b[0margs\u001b[0m\u001b[0;34m,\u001b[0m \u001b[0;34m**\u001b[0m\u001b[0mkwargs\u001b[0m\u001b[0;34m)\u001b[0m\u001b[0;34m:\u001b[0m\u001b[0;34m\u001b[0m\u001b[0;34m\u001b[0m\u001b[0m\n",
            "\u001b[0;32m/usr/local/lib/python3.7/dist-packages/pyro/distributions/distribution.py\u001b[0m in \u001b[0;36m__call__\u001b[0;34m(cls, *args, **kwargs)\u001b[0m\n\u001b[1;32m     16\u001b[0m             \u001b[0;32mif\u001b[0m \u001b[0mresult\u001b[0m \u001b[0;32mis\u001b[0m \u001b[0;32mnot\u001b[0m \u001b[0;32mNone\u001b[0m\u001b[0;34m:\u001b[0m\u001b[0;34m\u001b[0m\u001b[0;34m\u001b[0m\u001b[0m\n\u001b[1;32m     17\u001b[0m                 \u001b[0;32mreturn\u001b[0m \u001b[0mresult\u001b[0m\u001b[0;34m\u001b[0m\u001b[0;34m\u001b[0m\u001b[0m\n\u001b[0;32m---> 18\u001b[0;31m         \u001b[0;32mreturn\u001b[0m \u001b[0msuper\u001b[0m\u001b[0;34m(\u001b[0m\u001b[0;34m)\u001b[0m\u001b[0;34m.\u001b[0m\u001b[0m__call__\u001b[0m\u001b[0;34m(\u001b[0m\u001b[0;34m*\u001b[0m\u001b[0margs\u001b[0m\u001b[0;34m,\u001b[0m \u001b[0;34m**\u001b[0m\u001b[0mkwargs\u001b[0m\u001b[0;34m)\u001b[0m\u001b[0;34m\u001b[0m\u001b[0;34m\u001b[0m\u001b[0m\n\u001b[0m\u001b[1;32m     19\u001b[0m \u001b[0;34m\u001b[0m\u001b[0m\n\u001b[1;32m     20\u001b[0m     \u001b[0;34m@\u001b[0m\u001b[0mproperty\u001b[0m\u001b[0;34m\u001b[0m\u001b[0;34m\u001b[0m\u001b[0m\n",
            "\u001b[0;32m/usr/local/lib/python3.7/dist-packages/torch/distributions/multivariate_normal.py\u001b[0m in \u001b[0;36m__init__\u001b[0;34m(self, loc, covariance_matrix, precision_matrix, scale_tril, validate_args)\u001b[0m\n\u001b[1;32m    144\u001b[0m \u001b[0;34m\u001b[0m\u001b[0m\n\u001b[1;32m    145\u001b[0m         \u001b[0mevent_shape\u001b[0m \u001b[0;34m=\u001b[0m \u001b[0mself\u001b[0m\u001b[0;34m.\u001b[0m\u001b[0mloc\u001b[0m\u001b[0;34m.\u001b[0m\u001b[0mshape\u001b[0m\u001b[0;34m[\u001b[0m\u001b[0;34m-\u001b[0m\u001b[0;36m1\u001b[0m\u001b[0;34m:\u001b[0m\u001b[0;34m]\u001b[0m\u001b[0;34m\u001b[0m\u001b[0;34m\u001b[0m\u001b[0m\n\u001b[0;32m--> 146\u001b[0;31m         \u001b[0msuper\u001b[0m\u001b[0;34m(\u001b[0m\u001b[0mMultivariateNormal\u001b[0m\u001b[0;34m,\u001b[0m \u001b[0mself\u001b[0m\u001b[0;34m)\u001b[0m\u001b[0;34m.\u001b[0m\u001b[0m__init__\u001b[0m\u001b[0;34m(\u001b[0m\u001b[0mbatch_shape\u001b[0m\u001b[0;34m,\u001b[0m \u001b[0mevent_shape\u001b[0m\u001b[0;34m,\u001b[0m \u001b[0mvalidate_args\u001b[0m\u001b[0;34m=\u001b[0m\u001b[0mvalidate_args\u001b[0m\u001b[0;34m)\u001b[0m\u001b[0;34m\u001b[0m\u001b[0;34m\u001b[0m\u001b[0m\n\u001b[0m\u001b[1;32m    147\u001b[0m \u001b[0;34m\u001b[0m\u001b[0m\n\u001b[1;32m    148\u001b[0m         \u001b[0;32mif\u001b[0m \u001b[0mscale_tril\u001b[0m \u001b[0;32mis\u001b[0m \u001b[0;32mnot\u001b[0m \u001b[0;32mNone\u001b[0m\u001b[0;34m:\u001b[0m\u001b[0;34m\u001b[0m\u001b[0;34m\u001b[0m\u001b[0m\n",
            "\u001b[0;32m/usr/local/lib/python3.7/dist-packages/torch/distributions/distribution.py\u001b[0m in \u001b[0;36m__init__\u001b[0;34m(self, batch_shape, event_shape, validate_args)\u001b[0m\n\u001b[1;32m     54\u001b[0m                 \u001b[0;32mif\u001b[0m \u001b[0;32mnot\u001b[0m \u001b[0mvalid\u001b[0m\u001b[0;34m.\u001b[0m\u001b[0mall\u001b[0m\u001b[0;34m(\u001b[0m\u001b[0;34m)\u001b[0m\u001b[0;34m:\u001b[0m\u001b[0;34m\u001b[0m\u001b[0;34m\u001b[0m\u001b[0m\n\u001b[1;32m     55\u001b[0m                     raise ValueError(\n\u001b[0;32m---> 56\u001b[0;31m                         \u001b[0;34mf\"Expected parameter {param} \"\u001b[0m\u001b[0;34m\u001b[0m\u001b[0;34m\u001b[0m\u001b[0m\n\u001b[0m\u001b[1;32m     57\u001b[0m                         \u001b[0;34mf\"({type(value).__name__} of shape {tuple(value.shape)}) \"\u001b[0m\u001b[0;34m\u001b[0m\u001b[0;34m\u001b[0m\u001b[0m\n\u001b[1;32m     58\u001b[0m                         \u001b[0;34mf\"of distribution {repr(self)} \"\u001b[0m\u001b[0;34m\u001b[0m\u001b[0;34m\u001b[0m\u001b[0m\n",
            "\u001b[0;31mValueError\u001b[0m: Expected parameter scale_tril (Tensor of shape (271, 271)) of distribution MultivariateNormal(loc: torch.Size([271]), scale_tril: torch.Size([271, 271])) to satisfy the constraint LowerCholesky(), but found invalid values:\ntensor([[0.1788, 0.0000, 0.0000,  ..., 0.0000, 0.0000, 0.0000],\n        [0.0000, 0.9725, 0.0000,  ..., 0.0000, 0.0000, 0.0000],\n        [0.0000, 0.0000, 0.9271,  ..., 0.0000, 0.0000, 0.0000],\n        ...,\n        [   nan,    nan,    nan,  ...,    nan,    nan,    nan],\n        [0.0000, 0.0000, 0.0000,  ..., 0.0000, 0.0818, 0.0000],\n        [   nan,    nan,    nan,  ...,    nan,    nan,    nan]],\n       dtype=torch.float64, grad_fn=<ExpandBackward0>)"
          ]
        }
      ]
    },
    {
      "cell_type": "code",
      "source": [
        "map_estimate = autoguide_laplace.loc"
      ],
      "metadata": {
        "id": "8U5Z6sb8PLsI"
      },
      "execution_count": 170,
      "outputs": []
    },
    {
      "cell_type": "code",
      "source": [
        "map_estimate.shape"
      ],
      "metadata": {
        "colab": {
          "base_uri": "https://localhost:8080/"
        },
        "id": "nGNCE5Ap26v9",
        "outputId": "b45566c7-6519-42f2-e086-7e0ce371e5f4"
      },
      "execution_count": 174,
      "outputs": [
        {
          "output_type": "execute_result",
          "data": {
            "text/plain": [
              "torch.Size([271])"
            ]
          },
          "metadata": {},
          "execution_count": 174
        }
      ]
    },
    {
      "cell_type": "code",
      "source": [
        "270/10"
      ],
      "metadata": {
        "colab": {
          "base_uri": "https://localhost:8080/"
        },
        "id": "hHkoUB_h3FcU",
        "outputId": "8e1310e5-8e48-41a7-b60f-5d0d47c2978c"
      },
      "execution_count": 175,
      "outputs": [
        {
          "output_type": "execute_result",
          "data": {
            "text/plain": [
              "27.0"
            ]
          },
          "metadata": {},
          "execution_count": 175
        }
      ]
    },
    {
      "cell_type": "code",
      "source": [
        "from scipy.special import expit\n",
        "mu_R = 1 + (5-1)*expit(-1.4129)\n",
        "mu_R"
      ],
      "metadata": {
        "colab": {
          "base_uri": "https://localhost:8080/"
        },
        "id": "VV-7IVGSylJ2",
        "outputId": "7ad5b01c-0d39-4fe3-b07c-3b06dc00254f"
      },
      "execution_count": 173,
      "outputs": [
        {
          "output_type": "execute_result",
          "data": {
            "text/plain": [
              "1.7831082125623725"
            ]
          },
          "metadata": {},
          "execution_count": 173
        }
      ]
    },
    {
      "cell_type": "code",
      "source": [
        "np.save(\"training_laplace_approx_072422.npy\", laplace_approx)"
      ],
      "metadata": {
        "id": "1JykowkEP23C"
      },
      "execution_count": null,
      "outputs": []
    },
    {
      "cell_type": "code",
      "source": [
        "np.save(\"training_laplace_approx_mean_072422.npy\", laplace_approx.get_posterior().loc.detach().numpy())\n",
        "np.save(\"training_laplace_approx_scale_tril_072422.npy\", laplace_approx.get_posterior().scale_tril.detach().numpy())"
      ],
      "metadata": {
        "id": "u5qgInIGXOqH"
      },
      "execution_count": null,
      "outputs": []
    },
    {
      "cell_type": "code",
      "source": [
        "from google.colab import files\n",
        "files.download('training_laplace_approx_072422.npy')\n",
        "files.download('training_laplace_approx_mean_072422.npy')\n",
        "files.download('training_laplace_approx_scale_tril_072422.npy')"
      ],
      "metadata": {
        "id": "sK_8zPOMXOP0"
      },
      "execution_count": null,
      "outputs": []
    },
    {
      "cell_type": "code",
      "source": [
        "autoguide_normal = pyro.infer.autoguide.AutoMultivariateNormal(training_model_vectorized, init_loc_fn = pyro.infer.autoguide.initialization.init_to_sample())\n",
        "train_with_params_faster(training_model_vectorized, autoguide_normal, lr = 0.005, n_steps=2000, verbose = True)"
      ],
      "metadata": {
        "colab": {
          "base_uri": "https://localhost:8080/",
          "height": 970
        },
        "id": "vnoMMIF6rgNQ",
        "outputId": "6df5c44f-7565-4702-b312-1159535a559b"
      },
      "execution_count": 235,
      "outputs": [
        {
          "output_type": "stream",
          "name": "stdout",
          "text": [
            "[iter 0]  loss: 89334800787311689728.0000\n",
            "[iter 50]  loss: 46063459103536054272.0000\n",
            "[iter 100]  loss: 22133982705735434240.0000\n",
            "[iter 150]  loss: 6462423022962740224.0000\n",
            "[iter 200]  loss: 3023955218913036800.0000\n",
            "[iter 250]  loss: 5663954380336925696.0000\n",
            "[iter 300]  loss: 1236465009425386752.0000\n",
            "[iter 350]  loss: 1278930484952304896.0000\n",
            "[iter 400]  loss: 242844735180378144.0000\n",
            "[iter 450]  loss: 147535493871964384.0000\n",
            "[iter 500]  loss: 41532531320820176.0000\n",
            "[iter 550]  loss: 206557948065878304.0000\n",
            "[iter 600]  loss: 251367272749105.0938\n",
            "[iter 650]  loss: 854635912718.0452\n",
            "[iter 700]  loss: 4479907955141953749778432.0000\n",
            "[iter 750]  loss: 19530527020509.7773\n",
            "[iter 800]  loss: 125084907630.5600\n",
            "[iter 850]  loss: 185970039648.6354\n",
            "[iter 900]  loss: 7726244586068495.0000\n",
            "[iter 950]  loss: 23660792297562528.0000\n",
            "[iter 1000]  loss: 311397718310.2705\n",
            "[iter 1050]  loss: 28109212.4358\n",
            "[iter 1100]  loss: 55142576.1510\n",
            "[iter 1150]  loss: 3044068824858.2417\n",
            "[iter 1200]  loss: 310005350718792269824.0000\n",
            "[iter 1250]  loss: 42738558137539504.0000\n",
            "[iter 1300]  loss: 506399.3505\n",
            "[iter 1350]  loss: 14151966200939466167681024.0000\n",
            "[iter 1400]  loss: 475395.0493\n",
            "[iter 1450]  loss: 77285671574555.9062\n",
            "[iter 1500]  loss: 2416990301.4986\n",
            "[iter 1550]  loss: 2974420669770330275840.0000\n"
          ]
        },
        {
          "output_type": "error",
          "ename": "KeyboardInterrupt",
          "evalue": "ignored",
          "traceback": [
            "\u001b[0;31m---------------------------------------------------------------------------\u001b[0m",
            "\u001b[0;31mKeyboardInterrupt\u001b[0m                         Traceback (most recent call last)",
            "\u001b[0;32m<ipython-input-235-e5a824cdb9c0>\u001b[0m in \u001b[0;36m<module>\u001b[0;34m()\u001b[0m\n\u001b[1;32m      1\u001b[0m \u001b[0mautoguide_normal\u001b[0m \u001b[0;34m=\u001b[0m \u001b[0mpyro\u001b[0m\u001b[0;34m.\u001b[0m\u001b[0minfer\u001b[0m\u001b[0;34m.\u001b[0m\u001b[0mautoguide\u001b[0m\u001b[0;34m.\u001b[0m\u001b[0mAutoMultivariateNormal\u001b[0m\u001b[0;34m(\u001b[0m\u001b[0mtraining_model_vectorized\u001b[0m\u001b[0;34m,\u001b[0m \u001b[0minit_loc_fn\u001b[0m \u001b[0;34m=\u001b[0m \u001b[0mpyro\u001b[0m\u001b[0;34m.\u001b[0m\u001b[0minfer\u001b[0m\u001b[0;34m.\u001b[0m\u001b[0mautoguide\u001b[0m\u001b[0;34m.\u001b[0m\u001b[0minitialization\u001b[0m\u001b[0;34m.\u001b[0m\u001b[0minit_to_sample\u001b[0m\u001b[0;34m(\u001b[0m\u001b[0;34m)\u001b[0m\u001b[0;34m)\u001b[0m\u001b[0;34m\u001b[0m\u001b[0;34m\u001b[0m\u001b[0m\n\u001b[0;32m----> 2\u001b[0;31m \u001b[0mtrain_with_params_faster\u001b[0m\u001b[0;34m(\u001b[0m\u001b[0mtraining_model_vectorized\u001b[0m\u001b[0;34m,\u001b[0m \u001b[0mautoguide_normal\u001b[0m\u001b[0;34m,\u001b[0m \u001b[0mlr\u001b[0m \u001b[0;34m=\u001b[0m \u001b[0;36m0.005\u001b[0m\u001b[0;34m,\u001b[0m \u001b[0mn_steps\u001b[0m\u001b[0;34m=\u001b[0m\u001b[0;36m2000\u001b[0m\u001b[0;34m,\u001b[0m \u001b[0mverbose\u001b[0m \u001b[0;34m=\u001b[0m \u001b[0;32mTrue\u001b[0m\u001b[0;34m)\u001b[0m\u001b[0;34m\u001b[0m\u001b[0;34m\u001b[0m\u001b[0m\n\u001b[0m",
            "\u001b[0;32m<ipython-input-227-bc47630692bd>\u001b[0m in \u001b[0;36mtrain_with_params_faster\u001b[0;34m(model, guide, lr, n_steps, verbose)\u001b[0m\n\u001b[1;32m      6\u001b[0m   \u001b[0;31m# print('hi')\u001b[0m\u001b[0;34m\u001b[0m\u001b[0;34m\u001b[0m\u001b[0;34m\u001b[0m\u001b[0m\n\u001b[1;32m      7\u001b[0m   \u001b[0;32mfor\u001b[0m \u001b[0mstep\u001b[0m \u001b[0;32min\u001b[0m \u001b[0mrange\u001b[0m\u001b[0;34m(\u001b[0m\u001b[0mn_steps\u001b[0m\u001b[0;34m)\u001b[0m\u001b[0;34m:\u001b[0m\u001b[0;34m\u001b[0m\u001b[0;34m\u001b[0m\u001b[0m\n\u001b[0;32m----> 8\u001b[0;31m       \u001b[0mloss\u001b[0m \u001b[0;34m=\u001b[0m \u001b[0msvi\u001b[0m\u001b[0;34m.\u001b[0m\u001b[0mstep\u001b[0m\u001b[0;34m(\u001b[0m\u001b[0;34m)\u001b[0m\u001b[0;34m\u001b[0m\u001b[0;34m\u001b[0m\u001b[0m\n\u001b[0m\u001b[1;32m      9\u001b[0m       \u001b[0;32mif\u001b[0m \u001b[0mverbose\u001b[0m \u001b[0;32mand\u001b[0m \u001b[0mstep\u001b[0m \u001b[0;34m%\u001b[0m \u001b[0;36m50\u001b[0m \u001b[0;34m==\u001b[0m \u001b[0;36m0\u001b[0m\u001b[0;34m:\u001b[0m\u001b[0;34m\u001b[0m\u001b[0;34m\u001b[0m\u001b[0m\n\u001b[1;32m     10\u001b[0m             \u001b[0mprint\u001b[0m\u001b[0;34m(\u001b[0m\u001b[0;34m'[iter {}]  loss: {:.4f}'\u001b[0m\u001b[0;34m.\u001b[0m\u001b[0mformat\u001b[0m\u001b[0;34m(\u001b[0m\u001b[0mstep\u001b[0m\u001b[0;34m,\u001b[0m \u001b[0mloss\u001b[0m\u001b[0;34m)\u001b[0m\u001b[0;34m)\u001b[0m\u001b[0;34m\u001b[0m\u001b[0;34m\u001b[0m\u001b[0m\n",
            "\u001b[0;32m/usr/local/lib/python3.7/dist-packages/pyro/infer/svi.py\u001b[0m in \u001b[0;36mstep\u001b[0;34m(self, *args, **kwargs)\u001b[0m\n\u001b[1;32m    143\u001b[0m         \u001b[0;31m# get loss and compute gradients\u001b[0m\u001b[0;34m\u001b[0m\u001b[0;34m\u001b[0m\u001b[0;34m\u001b[0m\u001b[0m\n\u001b[1;32m    144\u001b[0m         \u001b[0;32mwith\u001b[0m \u001b[0mpoutine\u001b[0m\u001b[0;34m.\u001b[0m\u001b[0mtrace\u001b[0m\u001b[0;34m(\u001b[0m\u001b[0mparam_only\u001b[0m\u001b[0;34m=\u001b[0m\u001b[0;32mTrue\u001b[0m\u001b[0;34m)\u001b[0m \u001b[0;32mas\u001b[0m \u001b[0mparam_capture\u001b[0m\u001b[0;34m:\u001b[0m\u001b[0;34m\u001b[0m\u001b[0;34m\u001b[0m\u001b[0m\n\u001b[0;32m--> 145\u001b[0;31m             \u001b[0mloss\u001b[0m \u001b[0;34m=\u001b[0m \u001b[0mself\u001b[0m\u001b[0;34m.\u001b[0m\u001b[0mloss_and_grads\u001b[0m\u001b[0;34m(\u001b[0m\u001b[0mself\u001b[0m\u001b[0;34m.\u001b[0m\u001b[0mmodel\u001b[0m\u001b[0;34m,\u001b[0m \u001b[0mself\u001b[0m\u001b[0;34m.\u001b[0m\u001b[0mguide\u001b[0m\u001b[0;34m,\u001b[0m \u001b[0;34m*\u001b[0m\u001b[0margs\u001b[0m\u001b[0;34m,\u001b[0m \u001b[0;34m**\u001b[0m\u001b[0mkwargs\u001b[0m\u001b[0;34m)\u001b[0m\u001b[0;34m\u001b[0m\u001b[0;34m\u001b[0m\u001b[0m\n\u001b[0m\u001b[1;32m    146\u001b[0m \u001b[0;34m\u001b[0m\u001b[0m\n\u001b[1;32m    147\u001b[0m         params = set(\n",
            "\u001b[0;32m/usr/local/lib/python3.7/dist-packages/pyro/infer/trace_elbo.py\u001b[0m in \u001b[0;36mloss_and_grads\u001b[0;34m(self, model, guide, *args, **kwargs)\u001b[0m\n\u001b[1;32m    155\u001b[0m             ):\n\u001b[1;32m    156\u001b[0m                 \u001b[0msurrogate_loss_particle\u001b[0m \u001b[0;34m=\u001b[0m \u001b[0msurrogate_loss_particle\u001b[0m \u001b[0;34m/\u001b[0m \u001b[0mself\u001b[0m\u001b[0;34m.\u001b[0m\u001b[0mnum_particles\u001b[0m\u001b[0;34m\u001b[0m\u001b[0;34m\u001b[0m\u001b[0m\n\u001b[0;32m--> 157\u001b[0;31m                 \u001b[0msurrogate_loss_particle\u001b[0m\u001b[0;34m.\u001b[0m\u001b[0mbackward\u001b[0m\u001b[0;34m(\u001b[0m\u001b[0mretain_graph\u001b[0m\u001b[0;34m=\u001b[0m\u001b[0mself\u001b[0m\u001b[0;34m.\u001b[0m\u001b[0mretain_graph\u001b[0m\u001b[0;34m)\u001b[0m\u001b[0;34m\u001b[0m\u001b[0;34m\u001b[0m\u001b[0m\n\u001b[0m\u001b[1;32m    158\u001b[0m         \u001b[0mwarn_if_nan\u001b[0m\u001b[0;34m(\u001b[0m\u001b[0mloss\u001b[0m\u001b[0;34m,\u001b[0m \u001b[0;34m\"loss\"\u001b[0m\u001b[0;34m)\u001b[0m\u001b[0;34m\u001b[0m\u001b[0;34m\u001b[0m\u001b[0m\n\u001b[1;32m    159\u001b[0m         \u001b[0;32mreturn\u001b[0m \u001b[0mloss\u001b[0m\u001b[0;34m\u001b[0m\u001b[0;34m\u001b[0m\u001b[0m\n",
            "\u001b[0;32m/usr/local/lib/python3.7/dist-packages/torch/_tensor.py\u001b[0m in \u001b[0;36mbackward\u001b[0;34m(self, gradient, retain_graph, create_graph, inputs)\u001b[0m\n\u001b[1;32m    394\u001b[0m                 \u001b[0mcreate_graph\u001b[0m\u001b[0;34m=\u001b[0m\u001b[0mcreate_graph\u001b[0m\u001b[0;34m,\u001b[0m\u001b[0;34m\u001b[0m\u001b[0;34m\u001b[0m\u001b[0m\n\u001b[1;32m    395\u001b[0m                 inputs=inputs)\n\u001b[0;32m--> 396\u001b[0;31m         \u001b[0mtorch\u001b[0m\u001b[0;34m.\u001b[0m\u001b[0mautograd\u001b[0m\u001b[0;34m.\u001b[0m\u001b[0mbackward\u001b[0m\u001b[0;34m(\u001b[0m\u001b[0mself\u001b[0m\u001b[0;34m,\u001b[0m \u001b[0mgradient\u001b[0m\u001b[0;34m,\u001b[0m \u001b[0mretain_graph\u001b[0m\u001b[0;34m,\u001b[0m \u001b[0mcreate_graph\u001b[0m\u001b[0;34m,\u001b[0m \u001b[0minputs\u001b[0m\u001b[0;34m=\u001b[0m\u001b[0minputs\u001b[0m\u001b[0;34m)\u001b[0m\u001b[0;34m\u001b[0m\u001b[0;34m\u001b[0m\u001b[0m\n\u001b[0m\u001b[1;32m    397\u001b[0m \u001b[0;34m\u001b[0m\u001b[0m\n\u001b[1;32m    398\u001b[0m     \u001b[0;32mdef\u001b[0m \u001b[0mregister_hook\u001b[0m\u001b[0;34m(\u001b[0m\u001b[0mself\u001b[0m\u001b[0;34m,\u001b[0m \u001b[0mhook\u001b[0m\u001b[0;34m)\u001b[0m\u001b[0;34m:\u001b[0m\u001b[0;34m\u001b[0m\u001b[0;34m\u001b[0m\u001b[0m\n",
            "\u001b[0;32m/usr/local/lib/python3.7/dist-packages/torch/autograd/__init__.py\u001b[0m in \u001b[0;36mbackward\u001b[0;34m(tensors, grad_tensors, retain_graph, create_graph, grad_variables, inputs)\u001b[0m\n\u001b[1;32m    173\u001b[0m     Variable._execution_engine.run_backward(  # Calls into the C++ engine to run the backward pass\n\u001b[1;32m    174\u001b[0m         \u001b[0mtensors\u001b[0m\u001b[0;34m,\u001b[0m \u001b[0mgrad_tensors_\u001b[0m\u001b[0;34m,\u001b[0m \u001b[0mretain_graph\u001b[0m\u001b[0;34m,\u001b[0m \u001b[0mcreate_graph\u001b[0m\u001b[0;34m,\u001b[0m \u001b[0minputs\u001b[0m\u001b[0;34m,\u001b[0m\u001b[0;34m\u001b[0m\u001b[0;34m\u001b[0m\u001b[0m\n\u001b[0;32m--> 175\u001b[0;31m         allow_unreachable=True, accumulate_grad=True)  # Calls into the C++ engine to run the backward pass\n\u001b[0m\u001b[1;32m    176\u001b[0m \u001b[0;34m\u001b[0m\u001b[0m\n\u001b[1;32m    177\u001b[0m def grad(\n",
            "\u001b[0;32m/usr/local/lib/python3.7/dist-packages/pyro/util.py\u001b[0m in \u001b[0;36m<lambda>\u001b[0;34m(x)\u001b[0m\n\u001b[1;32m     82\u001b[0m     \u001b[0;32mif\u001b[0m \u001b[0mtorch\u001b[0m\u001b[0;34m.\u001b[0m\u001b[0mis_tensor\u001b[0m\u001b[0;34m(\u001b[0m\u001b[0mvalue\u001b[0m\u001b[0;34m)\u001b[0m \u001b[0;32mand\u001b[0m \u001b[0mvalue\u001b[0m\u001b[0;34m.\u001b[0m\u001b[0mrequires_grad\u001b[0m\u001b[0;34m:\u001b[0m\u001b[0;34m\u001b[0m\u001b[0;34m\u001b[0m\u001b[0m\n\u001b[1;32m     83\u001b[0m         value.register_hook(\n\u001b[0;32m---> 84\u001b[0;31m             lambda x: warn_if_nan(\n\u001b[0m\u001b[1;32m     85\u001b[0m                 \u001b[0mx\u001b[0m\u001b[0;34m,\u001b[0m \u001b[0;34m\"backward \"\u001b[0m \u001b[0;34m+\u001b[0m \u001b[0mmsg\u001b[0m\u001b[0;34m,\u001b[0m \u001b[0mfilename\u001b[0m\u001b[0;34m=\u001b[0m\u001b[0mfilename\u001b[0m\u001b[0;34m,\u001b[0m \u001b[0mlineno\u001b[0m\u001b[0;34m=\u001b[0m\u001b[0mlineno\u001b[0m\u001b[0;34m\u001b[0m\u001b[0;34m\u001b[0m\u001b[0m\n\u001b[1;32m     86\u001b[0m             )\n",
            "\u001b[0;31mKeyboardInterrupt\u001b[0m: "
          ]
        }
      ]
    },
    {
      "cell_type": "code",
      "source": [
        "autoguide_normal.median()"
      ],
      "metadata": {
        "colab": {
          "base_uri": "https://localhost:8080/"
        },
        "id": "uLdaDuVje3bJ",
        "outputId": "26578414-a8fd-444a-f222-3be5d3658842"
      },
      "execution_count": null,
      "outputs": [
        {
          "output_type": "execute_result",
          "data": {
            "text/plain": [
              "{'Av': tensor([1.7572e+00, 2.7622e-01, 1.0114e-02, 1.1605e-02, 1.8146e-01, 1.9905e-01,\n",
              "         1.9342e-01, 7.9597e-02, 1.0225e-01, 1.5985e-01, 5.8366e-01, 2.6562e+00,\n",
              "         4.8551e-01, 9.0698e-01, 2.0707e-01, 1.2928e+00, 6.9219e-01, 4.4873e-01,\n",
              "         6.2540e-02, 1.1441e+00, 5.0971e-03, 8.9717e-02, 3.1326e-01, 6.2781e-01,\n",
              "         1.5978e-01, 4.8040e-01, 3.7106e-02, 5.0137e-02, 1.1516e-01, 1.0580e+00,\n",
              "         2.1268e+00, 3.3878e-01, 3.5905e-01, 7.5978e-01, 3.3986e-02, 1.9789e-01,\n",
              "         6.8944e-01, 2.4567e-02, 1.5065e-01, 1.6624e-01, 4.5159e-01, 6.0664e-02,\n",
              "         6.5661e-01, 4.2061e-03, 1.0946e-01, 1.0909e-01, 6.8906e-01, 5.2694e-01,\n",
              "         1.0668e-01, 1.1562e-01, 8.7500e-01, 1.5457e-01, 1.9784e-02, 1.1846e+00,\n",
              "         1.0257e+00, 1.0814e-01, 5.4490e-02, 1.8342e-02, 1.9050e-02, 7.4178e-01,\n",
              "         3.3826e-02, 1.8945e-01, 3.1703e-01, 1.1161e+00, 1.0501e-02, 1.9443e+00,\n",
              "         6.9718e-01, 3.3885e-01, 2.1463e-01, 7.4823e-03, 8.8470e-01, 1.6357e-02,\n",
              "         4.3796e-02, 1.8577e-01, 1.6210e+00, 4.3279e-02, 1.1811e-01, 2.4603e-02,\n",
              "         1.1882e-03, 2.8453e-02, 7.9785e-01, 2.8395e-01, 2.1356e-01, 1.0977e+00,\n",
              "         1.3086e+00, 2.4811e-03, 4.1491e-02, 5.1611e-01, 1.4078e+00, 4.8366e-01,\n",
              "         2.8275e-01, 8.8459e-01, 2.1939e-01, 1.3016e-01, 2.1148e+00, 9.2207e-02,\n",
              "         2.7706e-01, 3.9192e-02, 1.7510e-01, 8.2521e-03], dtype=torch.float64),\n",
              " 'mu_s': tensor([32.6695, 35.2249, 36.1665, 35.9219, 37.5620, 36.0906, 34.6361, 36.4761,\n",
              "         36.9289, 35.2764, 35.1252, 29.7673, 34.3333, 32.7678, 35.3079, 33.3415,\n",
              "         33.1204, 36.3075, 37.1850, 34.7206, 35.6568, 34.6709, 34.3104, 35.1239,\n",
              "         37.4610, 33.8909, 36.0834, 36.4008, 36.5545, 33.7707, 31.1168, 34.8931,\n",
              "         35.8156, 36.4434, 37.5453, 35.2898, 35.1451, 35.9038, 34.6099, 35.6582,\n",
              "         33.2925, 36.7751, 36.1635, 38.6108, 37.4474, 35.2770, 35.2636, 36.8455,\n",
              "         36.5781, 36.4532, 34.3657, 37.2978, 37.2082, 32.1289, 34.0166, 34.9431,\n",
              "         36.5647, 34.6786, 35.1848, 33.7018, 36.6816, 37.0549, 35.1085, 29.5031,\n",
              "         37.5602, 32.7134, 35.3327, 34.9408, 36.5643, 38.4620, 33.8924, 36.8011,\n",
              "         35.9301, 34.2651, 33.3915, 37.1145, 34.8450, 36.4529, 36.7875, 35.7188,\n",
              "         35.0491, 35.4434, 35.7190, 34.3222, 33.1807, 38.1553, 35.3395, 35.2380,\n",
              "         34.8817, 35.0099, 37.1120, 35.3323, 33.8010, 35.5710, 31.9117, 35.0126,\n",
              "         37.1402, 36.0169, 35.4578, 37.2499], dtype=torch.float64),\n",
              " 'nu': tensor([[-0.2380, -0.8182, -1.2840,  ..., -1.8702, -0.4382, -0.0828],\n",
              "         [-0.0129, -0.2901, -0.3252,  ...,  0.5330,  0.1721,  0.6555],\n",
              "         [ 1.0755,  1.8125,  2.9278,  ..., -1.4030, -0.3037, -0.0148],\n",
              "         ...,\n",
              "         [-2.3016,  1.0199,  0.2626,  ...,  0.1688,  0.6341,  0.1152],\n",
              "         [-1.3522,  0.9297, -1.4540,  ...,  0.4457,  0.3823,  0.0194],\n",
              "         [-1.6227, -0.0636, -0.7133,  ..., -0.3318,  0.2164, -0.0316]],\n",
              "        dtype=torch.float64),\n",
              " 'rv': tensor([1.4520, 2.2959, 5.8529, 4.8720, 3.6401, 3.9057, 4.6383, 3.9095, 4.0311,\n",
              "         3.0053, 2.3800, 2.4952, 1.4682, 1.4625, 3.1933, 2.4072, 0.8994, 3.4390,\n",
              "         4.5742, 1.5793, 5.1107, 4.3179, 3.0369, 2.8915, 4.0418, 2.3934, 4.3487,\n",
              "         5.3183, 3.8150, 2.4005, 1.1039, 3.0670, 3.8120, 3.1849, 4.0747, 4.0257,\n",
              "         2.2660, 4.3099, 4.4636, 3.3663, 3.0566, 5.0841, 2.6321, 3.7701, 4.3079,\n",
              "         4.3853, 2.8225, 2.5141, 4.4758, 3.8536, 1.6952, 4.2266, 5.3173, 1.7924,\n",
              "         2.6945, 3.8693, 4.4707, 4.6218, 4.8996, 1.5102, 5.3592, 4.0909, 3.7204,\n",
              "         0.3646, 4.4131, 1.4139, 2.5823, 2.6053, 3.4102, 3.9604, 1.5127, 4.4746,\n",
              "         5.3555, 3.7785, 2.2427, 4.5493, 3.6603, 4.0392, 4.4338, 4.6328, 2.6410,\n",
              "         3.8288, 3.5888, 2.6274, 0.9816, 3.8355, 4.9493, 2.7203, 2.3211, 2.9309,\n",
              "         3.1515, 2.0014, 3.3012, 3.4653, 2.3390, 4.1749, 4.0115, 4.9061, 3.5148,\n",
              "         4.8034], dtype=torch.float64),\n",
              " 'rv_mean': tensor(3.3828, dtype=torch.float64),\n",
              " 'rv_std': tensor(1.2754, dtype=torch.float64),\n",
              " 'tau': tensor(0.4557, dtype=torch.float64),\n",
              " 'theta': tensor([-0.0120,  1.6199, -2.2919, -1.6338, -0.8085, -0.4772, -1.1117, -0.5569,\n",
              "         -0.7268, -0.8622,  0.5622,  1.2123,  0.0707,  1.2276, -0.3806, -0.2010,\n",
              "          0.3948,  0.7605, -0.9134,  0.4840, -1.8313,  0.7031,  0.7652, -0.4978,\n",
              "          0.9818, -0.2392, -1.2372, -1.1775, -0.2013,  0.2972,  0.6387,  0.5446,\n",
              "          0.5791,  0.1019,  0.0593,  0.7909, -0.1405,  0.0881, -0.6831, -0.7411,\n",
              "         -0.5465, -0.3963,  0.3590, -4.6151, -1.2436, -0.8723,  0.0982,  0.3615,\n",
              "         -0.7216, -0.6282,  0.0311, -0.7503, -2.2913, -0.1398, -0.3373, -0.8587,\n",
              "         -1.3707, -1.3837, -0.5522,  0.2368, -1.0496, -0.7554,  0.7789,  1.7868,\n",
              "         -1.8243,  0.8255, -0.5736, -0.4241,  1.0149, -2.7940,  0.5230, -1.5077,\n",
              "         -0.5887,  0.3003,  0.6101, -1.5808, -0.7923,  0.5625, -4.8006, -0.2481,\n",
              "         -0.3909, -0.5377, -0.0922,  0.3873,  0.4420, -4.9383, -0.1637,  0.2221,\n",
              "          0.8206,  0.6347, -0.1125,  2.1945,  1.2113, -0.8776,  1.4645, -1.0357,\n",
              "          0.3253, -1.6716, -1.6392, -2.9991], dtype=torch.float64)}"
            ]
          },
          "metadata": {},
          "execution_count": 202
        }
      ]
    },
    {
      "cell_type": "code",
      "source": [
        "np.save(\"training_normal_mean_072822.npy\", autoguide_normal.get_posterior().loc.detach().numpy())\n",
        "np.save(\"training_normal_scale_tril_072822.npy\", autoguide_normal.get_posterior().scale_tril.detach().numpy())"
      ],
      "metadata": {
        "id": "EkqkiIKt7b7-"
      },
      "execution_count": null,
      "outputs": []
    },
    {
      "cell_type": "code",
      "source": [
        "np.save(\"training_multivariate_guide_072822.npy\", autoguide_normal)"
      ],
      "metadata": {
        "id": "gBxpz6J3zdyt"
      },
      "execution_count": null,
      "outputs": []
    },
    {
      "cell_type": "code",
      "source": [
        "normal_guide = np.load(\"training_multivariate_guide_072822.npy\", allow_pickle = True).item()"
      ],
      "metadata": {
        "id": "aC2of7Appy-w"
      },
      "execution_count": null,
      "outputs": []
    },
    {
      "cell_type": "code",
      "source": [
        "normal_guide"
      ],
      "metadata": {
        "colab": {
          "base_uri": "https://localhost:8080/"
        },
        "id": "Gt13d5XHp9jj",
        "outputId": "8a77b275-b247-42f7-8807-cf3fa1180c76"
      },
      "execution_count": null,
      "outputs": [
        {
          "output_type": "execute_result",
          "data": {
            "text/plain": [
              "AutoMultivariateNormal()"
            ]
          },
          "metadata": {},
          "execution_count": 50
        }
      ]
    },
    {
      "cell_type": "code",
      "source": [
        "normal_guide.get_posterior().sample((10,)).shape"
      ],
      "metadata": {
        "colab": {
          "base_uri": "https://localhost:8080/"
        },
        "id": "Z3x1jgf1zp33",
        "outputId": "782c1c97-bf9b-4c59-f488-7263bf4f3776"
      },
      "execution_count": null,
      "outputs": [
        {
          "output_type": "execute_result",
          "data": {
            "text/plain": [
              "torch.Size([10, 2803])"
            ]
          },
          "metadata": {},
          "execution_count": 51
        }
      ]
    },
    {
      "cell_type": "code",
      "source": [
        "normal_samples = Predictive(training_model_vectorized, guide = normal_guide, num_samples = 500)()"
      ],
      "metadata": {
        "id": "uRmvXqkKznB2"
      },
      "execution_count": null,
      "outputs": []
    },
    {
      "cell_type": "code",
      "source": [
        "rv_mean_samples = torch.squeeze(normal_samples['rv_mean']).numpy()\n",
        "rv_std_samples = torch.squeeze(normal_samples['rv_std']).numpy()\n",
        "tau_samples = torch.squeeze(normal_samples['tau']).numpy()"
      ],
      "metadata": {
        "id": "apuOXTnApp5a"
      },
      "execution_count": null,
      "outputs": []
    },
    {
      "cell_type": "code",
      "source": [
        "## RV Mean\n",
        "print(np.median(rv_mean_samples))\n",
        "print(np.std(rv_mean_samples))"
      ],
      "metadata": {
        "colab": {
          "base_uri": "https://localhost:8080/"
        },
        "id": "EtAm8K0Lxp2R",
        "outputId": "deda0851-cf4a-4cd3-aa75-791ee0665fae"
      },
      "execution_count": null,
      "outputs": [
        {
          "output_type": "stream",
          "name": "stdout",
          "text": [
            "3.387191189130193\n",
            "0.12985444418066283\n"
          ]
        }
      ]
    },
    {
      "cell_type": "code",
      "source": [
        "## RV stdev\n",
        "print(np.median(rv_std_samples))\n",
        "print(np.std(rv_std_samples))"
      ],
      "metadata": {
        "colab": {
          "base_uri": "https://localhost:8080/"
        },
        "id": "xLvhbAndxtUL",
        "outputId": "e92baa7f-0f43-418a-8ae0-1e9551108934"
      },
      "execution_count": null,
      "outputs": [
        {
          "output_type": "stream",
          "name": "stdout",
          "text": [
            "1.2676323048867113\n",
            "0.11923836373255647\n"
          ]
        }
      ]
    },
    {
      "cell_type": "code",
      "source": [
        "## Tau\n",
        "print(np.median(tau_samples))\n",
        "print(np.std(tau_samples))"
      ],
      "metadata": {
        "colab": {
          "base_uri": "https://localhost:8080/"
        },
        "id": "w3PHX1Gex4ey",
        "outputId": "bcbd76e6-6cf9-4463-9ea6-fc0d143c83c5"
      },
      "execution_count": null,
      "outputs": [
        {
          "output_type": "stream",
          "name": "stdout",
          "text": [
            "0.45518561106003147\n",
            "0.046385721549724236\n"
          ]
        }
      ]
    },
    {
      "cell_type": "code",
      "source": [
        "corner.corner(np.vstack((rv_mean_samples, rv_std_samples,tau_samples)).T, labels = ['RV Mean', 'RV Stdev', 'Tau'])"
      ],
      "metadata": {
        "colab": {
          "base_uri": "https://localhost:8080/",
          "height": 1000
        },
        "id": "pEFEmzrmzSp0",
        "outputId": "92ae6dc1-f9c8-4423-bc3b-9b66ddb58168"
      },
      "execution_count": null,
      "outputs": [
        {
          "output_type": "execute_result",
          "data": {
            "text/plain": [
              "<Figure size 547.2x547.2 with 9 Axes>"
            ],
            "image/png": "[encoded data removed]"
          },
          "metadata": {},
          "execution_count": 71
        },
        {
          "output_type": "display_data",
          "data": {
            "text/plain": [
              "<Figure size 547.2x547.2 with 9 Axes>"
            ],
            "image/png": "[encoded data removed]"
          },
          "metadata": {
            "needs_background": "light"
          }
        }
      ]
    },
    {
      "cell_type": "code",
      "source": [
        "np.exp(-0.08058631) ## rv mean (maybe)"
      ],
      "metadata": {
        "colab": {
          "base_uri": "https://localhost:8080/"
        },
        "id": "Flqgd0_SEQhB",
        "outputId": "db75d2a7-9eef-4eb4-bf1c-a40692402fde"
      },
      "execution_count": null,
      "outputs": [
        {
          "output_type": "execute_result",
          "data": {
            "text/plain": [
              "0.9225752726755495"
            ]
          },
          "metadata": {},
          "execution_count": 71
        }
      ]
    },
    {
      "cell_type": "code",
      "source": [
        "np.exp(-0.9666319) ## rv std"
      ],
      "metadata": {
        "colab": {
          "base_uri": "https://localhost:8080/"
        },
        "id": "FhvNbrluEXOu",
        "outputId": "43361e25-bf24-49d7-a5dc-ca38d1e6e2f7"
      },
      "execution_count": null,
      "outputs": [
        {
          "output_type": "execute_result",
          "data": {
            "text/plain": [
              "0.38036198027756646"
            ]
          },
          "metadata": {},
          "execution_count": 72
        }
      ]
    },
    {
      "cell_type": "code",
      "source": [
        "np.exp(-0.12967519)  ## rv tau"
      ],
      "metadata": {
        "colab": {
          "base_uri": "https://localhost:8080/"
        },
        "id": "klql03oOEZj2",
        "outputId": "7b06be9e-a14e-4af7-8347-cdcd613827a0"
      },
      "execution_count": null,
      "outputs": [
        {
          "output_type": "execute_result",
          "data": {
            "text/plain": [
              "0.8783806914227026"
            ]
          },
          "metadata": {},
          "execution_count": 73
        }
      ]
    },
    {
      "cell_type": "code",
      "source": [
        "trained_guide.get_posterior().mean.detach().numpy()[:200]"
      ],
      "metadata": {
        "colab": {
          "base_uri": "https://localhost:8080/"
        },
        "id": "7LNQSdWm4bvK",
        "outputId": "6e6a9843-261a-4d79-d10b-7079f216384c"
      },
      "execution_count": null,
      "outputs": [
        {
          "output_type": "execute_result",
          "data": {
            "text/plain": [
              "array([-0.08058631, -0.9666319 , -0.12967519,  3.05821652,  2.97798113,\n",
              "        2.93484039,  3.30535408,  2.74831781,  2.94354369,  3.00383134,\n",
              "        3.23683016,  3.41978453,  2.93465272,  2.93532166,  2.9328238 ,\n",
              "        2.93485712,  2.9281466 ,  2.53859547,  2.92961942,  1.98254563,\n",
              "        2.92160296,  2.93354721,  3.35565871,  1.09354709,  2.9323892 ,\n",
              "        3.05691125,  2.92670307,  2.58252653,  2.93508601,  2.97503705,\n",
              "        2.66894817,  2.93457711,  3.10357243,  3.13997436,  3.06841706,\n",
              "        2.85162249,  1.3486858 ,  3.41027294,  2.96760607,  2.59790718,\n",
              "        2.93413548,  2.93476637,  2.93541354,  2.93364274,  2.01982368,\n",
              "        2.93166137,  2.95041788,  3.84142034,  3.51895995,  3.3612377 ,\n",
              "        2.93103939,  2.61243598,  2.65683992,  3.07871989,  2.93482986,\n",
              "        2.93575384,  1.96573241,  3.28515962,  3.14101384,  3.02023823,\n",
              "        3.13557126,  2.92032984,  2.92006701,  3.67076871,  2.95514191,\n",
              "        2.92335959,  2.93067224,  3.53355782,  2.93195739,  2.92002526,\n",
              "        2.92000423,  3.1393182 ,  2.92000703,  2.96096626,  2.93330892,\n",
              "        2.92145635,  1.92945943,  3.85921833,  2.94703045,  2.92292441,\n",
              "        2.91981491,  2.92328378,  2.97676726,  2.92107953,  2.97734157,\n",
              "        2.71387761,  2.89374669,  3.41827815,  3.15027149,  2.92492731,\n",
              "        3.03171297,  2.97763555,  3.04935292,  3.3972512 ,  2.95022439,\n",
              "        2.92023632,  2.85495383,  2.93305745,  3.15932153,  3.03125151,\n",
              "        2.92011953,  2.9343552 ,  2.92187494,  2.92028567,  2.92059921,\n",
              "        2.66634222,  2.86296489,  2.92210446,  1.90724189,  2.11713295,\n",
              "        3.57849727,  3.3128671 ,  2.98675795,  2.68887876,  2.99930026,\n",
              "        3.02968262,  2.60371416,  2.92094226,  2.9140577 ,  3.66898126,\n",
              "        2.92031345,  2.96526729,  2.9506901 ,  3.03221441,  2.92088737,\n",
              "        2.92038015,  2.93640429,  2.92070612,  2.92368111,  2.93451772,\n",
              "        2.92081046,  2.93932708,  2.93446511,  2.59788173,  2.99594068,\n",
              "        2.93559579,  2.92727708,  2.96212646,  2.94809518,  3.38165012,\n",
              "        2.95338368,  3.0801684 ,  2.49662904,  2.91979631,  2.93509324,\n",
              "        2.92037017,  2.92017315,  2.58338597,  2.08177241,  1.44214915,\n",
              "        2.92856844,  2.92040969,  2.73816735,  2.92127307,  2.92423445,\n",
              "        3.52052933,  2.93531409,  3.19229983,  2.93263833,  3.35517069,\n",
              "        0.42490965, -0.72745721, -1.11776006,  0.14854939,  2.84363784,\n",
              "       -0.25481832, -2.05582984, -0.77037254,  2.07152484,  0.37498853,\n",
              "        0.45964897,  2.14513202,  2.22373043, -0.11589397,  0.19462264,\n",
              "       -0.73595832,  0.17641205, -0.57156774, -0.58706355, -1.19438201,\n",
              "        0.51776098, -1.7378472 ,  0.11321184,  0.18468481,  1.57334743,\n",
              "       -0.11748498,  0.23774793,  0.47976385,  2.73120741, -0.7600927 ,\n",
              "       -1.47917289,  0.54499305, -0.48021581, -0.3674651 ,  0.78407682,\n",
              "        0.25443609,  1.2193581 , -1.34767595,  1.34426381, -0.88779129])"
            ]
          },
          "metadata": {},
          "execution_count": 69
        }
      ]
    },
    {
      "cell_type": "code",
      "source": [
        "autoguide_laplace = pyro.infer.autoguide.AutoMultivariateNormal(training_model_vectorized)"
      ],
      "metadata": {
        "id": "pCIbfJg59DcM"
      },
      "execution_count": null,
      "outputs": []
    },
    {
      "cell_type": "code",
      "source": [
        "autoguide_laplace = pyro.infer.autoguide.AutoLaplaceApproximation(model_vi_with_params_faster)\n",
        "train_with_params_faster(model_vi_with_params_faster, autoguide_laplace, n_steps=3000, verbose = True)"
      ],
      "metadata": {
        "colab": {
          "base_uri": "https://localhost:8080/",
          "height": 1000
        },
        "id": "BT7_dfBDYy5s",
        "outputId": "8c3434f0-c399-465f-b6ab-90739d24ecb0"
      },
      "execution_count": null,
      "outputs": [
        {
          "output_type": "error",
          "ename": "ValueError",
          "evalue": "ignored",
          "traceback": [
            "\u001b[0;31m---------------------------------------------------------------------------\u001b[0m",
            "\u001b[0;31mValueError\u001b[0m                                Traceback (most recent call last)",
            "\u001b[0;32m/usr/local/lib/python3.7/dist-packages/pyro/poutine/trace_messenger.py\u001b[0m in \u001b[0;36m__call__\u001b[0;34m(self, *args, **kwargs)\u001b[0m\n\u001b[1;32m    173\u001b[0m             \u001b[0;32mtry\u001b[0m\u001b[0;34m:\u001b[0m\u001b[0;34m\u001b[0m\u001b[0;34m\u001b[0m\u001b[0m\n\u001b[0;32m--> 174\u001b[0;31m                 \u001b[0mret\u001b[0m \u001b[0;34m=\u001b[0m \u001b[0mself\u001b[0m\u001b[0;34m.\u001b[0m\u001b[0mfn\u001b[0m\u001b[0;34m(\u001b[0m\u001b[0;34m*\u001b[0m\u001b[0margs\u001b[0m\u001b[0;34m,\u001b[0m \u001b[0;34m**\u001b[0m\u001b[0mkwargs\u001b[0m\u001b[0;34m)\u001b[0m\u001b[0;34m\u001b[0m\u001b[0;34m\u001b[0m\u001b[0m\n\u001b[0m\u001b[1;32m    175\u001b[0m             \u001b[0;32mexcept\u001b[0m \u001b[0;34m(\u001b[0m\u001b[0mValueError\u001b[0m\u001b[0;34m,\u001b[0m \u001b[0mRuntimeError\u001b[0m\u001b[0;34m)\u001b[0m \u001b[0;32mas\u001b[0m \u001b[0me\u001b[0m\u001b[0;34m:\u001b[0m\u001b[0;34m\u001b[0m\u001b[0;34m\u001b[0m\u001b[0m\n",
            "\u001b[0;32m/usr/local/lib/python3.7/dist-packages/pyro/poutine/messenger.py\u001b[0m in \u001b[0;36m_context_wrap\u001b[0;34m(context, fn, *args, **kwargs)\u001b[0m\n\u001b[1;32m     11\u001b[0m     \u001b[0;32mwith\u001b[0m \u001b[0mcontext\u001b[0m\u001b[0;34m:\u001b[0m\u001b[0;34m\u001b[0m\u001b[0;34m\u001b[0m\u001b[0m\n\u001b[0;32m---> 12\u001b[0;31m         \u001b[0;32mreturn\u001b[0m \u001b[0mfn\u001b[0m\u001b[0;34m(\u001b[0m\u001b[0;34m*\u001b[0m\u001b[0margs\u001b[0m\u001b[0;34m,\u001b[0m \u001b[0;34m**\u001b[0m\u001b[0mkwargs\u001b[0m\u001b[0;34m)\u001b[0m\u001b[0;34m\u001b[0m\u001b[0;34m\u001b[0m\u001b[0m\n\u001b[0m\u001b[1;32m     13\u001b[0m \u001b[0;34m\u001b[0m\u001b[0m\n",
            "\u001b[0;32m/usr/local/lib/python3.7/dist-packages/pyro/poutine/messenger.py\u001b[0m in \u001b[0;36m_context_wrap\u001b[0;34m(context, fn, *args, **kwargs)\u001b[0m\n\u001b[1;32m     11\u001b[0m     \u001b[0;32mwith\u001b[0m \u001b[0mcontext\u001b[0m\u001b[0;34m:\u001b[0m\u001b[0;34m\u001b[0m\u001b[0;34m\u001b[0m\u001b[0m\n\u001b[0;32m---> 12\u001b[0;31m         \u001b[0;32mreturn\u001b[0m \u001b[0mfn\u001b[0m\u001b[0;34m(\u001b[0m\u001b[0;34m*\u001b[0m\u001b[0margs\u001b[0m\u001b[0;34m,\u001b[0m \u001b[0;34m**\u001b[0m\u001b[0mkwargs\u001b[0m\u001b[0;34m)\u001b[0m\u001b[0;34m\u001b[0m\u001b[0;34m\u001b[0m\u001b[0m\n\u001b[0m\u001b[1;32m     13\u001b[0m \u001b[0;34m\u001b[0m\u001b[0m\n",
            "\u001b[0;32m<ipython-input-144-6b71d509528b>\u001b[0m in \u001b[0;36mmodel_vi_with_params_faster\u001b[0;34m()\u001b[0m\n\u001b[1;32m     64\u001b[0m       \u001b[0;32mwith\u001b[0m \u001b[0mpyro\u001b[0m\u001b[0;34m.\u001b[0m\u001b[0mplate\u001b[0m\u001b[0;34m(\u001b[0m\u001b[0;34m\"observations\"\u001b[0m \u001b[0;34m+\u001b[0m \u001b[0mstr\u001b[0m\u001b[0;34m(\u001b[0m\u001b[0mbands\u001b[0m\u001b[0;34m[\u001b[0m\u001b[0mi\u001b[0m\u001b[0;34m]\u001b[0m\u001b[0;34m)\u001b[0m \u001b[0;34m+\u001b[0m \u001b[0mstr\u001b[0m\u001b[0;34m(\u001b[0m\u001b[0msn_index\u001b[0m\u001b[0;34m)\u001b[0m\u001b[0;34m)\u001b[0m\u001b[0;34m:\u001b[0m\u001b[0;34m\u001b[0m\u001b[0;34m\u001b[0m\u001b[0m\n\u001b[0;32m---> 65\u001b[0;31m           \u001b[0mpyro\u001b[0m\u001b[0;34m.\u001b[0m\u001b[0msample\u001b[0m\u001b[0;34m(\u001b[0m\u001b[0;34m\"flux\"\u001b[0m \u001b[0;34m+\u001b[0m \u001b[0mstr\u001b[0m\u001b[0;34m(\u001b[0m\u001b[0mbands\u001b[0m\u001b[0;34m[\u001b[0m\u001b[0mi\u001b[0m\u001b[0;34m]\u001b[0m\u001b[0;34m)\u001b[0m \u001b[0;34m+\u001b[0m \u001b[0mstr\u001b[0m\u001b[0;34m(\u001b[0m\u001b[0msn_index\u001b[0m\u001b[0;34m)\u001b[0m\u001b[0;34m,\u001b[0m \u001b[0mdist\u001b[0m\u001b[0;34m.\u001b[0m\u001b[0mNormal\u001b[0m\u001b[0;34m(\u001b[0m\u001b[0mgenerated_fluxes\u001b[0m\u001b[0;34m[\u001b[0m\u001b[0mi\u001b[0m\u001b[0;34m]\u001b[0m\u001b[0;34m,\u001b[0m \u001b[0mall_flux_errors\u001b[0m\u001b[0;34m[\u001b[0m\u001b[0msn_index\u001b[0m\u001b[0;34m]\u001b[0m\u001b[0;34m[\u001b[0m\u001b[0mi\u001b[0m\u001b[0;34m]\u001b[0m\u001b[0;34m)\u001b[0m\u001b[0;34m,\u001b[0m \u001b[0mobs\u001b[0m \u001b[0;34m=\u001b[0m \u001b[0mall_observed_fluxes\u001b[0m\u001b[0;34m[\u001b[0m\u001b[0msn_index\u001b[0m\u001b[0;34m]\u001b[0m\u001b[0;34m[\u001b[0m\u001b[0mi\u001b[0m\u001b[0;34m]\u001b[0m\u001b[0;34m)\u001b[0m\u001b[0;34m\u001b[0m\u001b[0;34m\u001b[0m\u001b[0m\n\u001b[0m",
            "\u001b[0;32m/usr/local/lib/python3.7/dist-packages/pyro/distributions/distribution.py\u001b[0m in \u001b[0;36m__call__\u001b[0;34m(cls, *args, **kwargs)\u001b[0m\n\u001b[1;32m     17\u001b[0m                 \u001b[0;32mreturn\u001b[0m \u001b[0mresult\u001b[0m\u001b[0;34m\u001b[0m\u001b[0;34m\u001b[0m\u001b[0m\n\u001b[0;32m---> 18\u001b[0;31m         \u001b[0;32mreturn\u001b[0m \u001b[0msuper\u001b[0m\u001b[0;34m(\u001b[0m\u001b[0;34m)\u001b[0m\u001b[0;34m.\u001b[0m\u001b[0m__call__\u001b[0m\u001b[0;34m(\u001b[0m\u001b[0;34m*\u001b[0m\u001b[0margs\u001b[0m\u001b[0;34m,\u001b[0m \u001b[0;34m**\u001b[0m\u001b[0mkwargs\u001b[0m\u001b[0;34m)\u001b[0m\u001b[0;34m\u001b[0m\u001b[0;34m\u001b[0m\u001b[0m\n\u001b[0m\u001b[1;32m     19\u001b[0m \u001b[0;34m\u001b[0m\u001b[0m\n",
            "\u001b[0;32m/usr/local/lib/python3.7/dist-packages/torch/distributions/normal.py\u001b[0m in \u001b[0;36m__init__\u001b[0;34m(self, loc, scale, validate_args)\u001b[0m\n\u001b[1;32m     48\u001b[0m     \u001b[0;32mdef\u001b[0m \u001b[0m__init__\u001b[0m\u001b[0;34m(\u001b[0m\u001b[0mself\u001b[0m\u001b[0;34m,\u001b[0m \u001b[0mloc\u001b[0m\u001b[0;34m,\u001b[0m \u001b[0mscale\u001b[0m\u001b[0;34m,\u001b[0m \u001b[0mvalidate_args\u001b[0m\u001b[0;34m=\u001b[0m\u001b[0;32mNone\u001b[0m\u001b[0;34m)\u001b[0m\u001b[0;34m:\u001b[0m\u001b[0;34m\u001b[0m\u001b[0;34m\u001b[0m\u001b[0m\n\u001b[0;32m---> 49\u001b[0;31m         \u001b[0mself\u001b[0m\u001b[0;34m.\u001b[0m\u001b[0mloc\u001b[0m\u001b[0;34m,\u001b[0m \u001b[0mself\u001b[0m\u001b[0;34m.\u001b[0m\u001b[0mscale\u001b[0m \u001b[0;34m=\u001b[0m \u001b[0mbroadcast_all\u001b[0m\u001b[0;34m(\u001b[0m\u001b[0mloc\u001b[0m\u001b[0;34m,\u001b[0m \u001b[0mscale\u001b[0m\u001b[0;34m)\u001b[0m\u001b[0;34m\u001b[0m\u001b[0;34m\u001b[0m\u001b[0m\n\u001b[0m\u001b[1;32m     50\u001b[0m         \u001b[0;32mif\u001b[0m \u001b[0misinstance\u001b[0m\u001b[0;34m(\u001b[0m\u001b[0mloc\u001b[0m\u001b[0;34m,\u001b[0m \u001b[0mNumber\u001b[0m\u001b[0;34m)\u001b[0m \u001b[0;32mand\u001b[0m \u001b[0misinstance\u001b[0m\u001b[0;34m(\u001b[0m\u001b[0mscale\u001b[0m\u001b[0;34m,\u001b[0m \u001b[0mNumber\u001b[0m\u001b[0;34m)\u001b[0m\u001b[0;34m:\u001b[0m\u001b[0;34m\u001b[0m\u001b[0;34m\u001b[0m\u001b[0m\n",
            "\u001b[0;32m/usr/local/lib/python3.7/dist-packages/torch/distributions/utils.py\u001b[0m in \u001b[0;36mbroadcast_all\u001b[0;34m(*values)\u001b[0m\n\u001b[1;32m     28\u001b[0m                for v in values):\n\u001b[0;32m---> 29\u001b[0;31m         raise ValueError('Input arguments must all be instances of numbers.Number, '\n\u001b[0m\u001b[1;32m     30\u001b[0m                          'torch.Tensor or objects implementing __torch_function__.')\n",
            "\u001b[0;31mValueError\u001b[0m: Input arguments must all be instances of numbers.Number, torch.Tensor or objects implementing __torch_function__.",
            "\nThe above exception was the direct cause of the following exception:\n",
            "\u001b[0;31mValueError\u001b[0m                                Traceback (most recent call last)",
            "\u001b[0;32m/usr/local/lib/python3.7/dist-packages/pyro/poutine/trace_messenger.py\u001b[0m in \u001b[0;36m__call__\u001b[0;34m(self, *args, **kwargs)\u001b[0m\n\u001b[1;32m    173\u001b[0m             \u001b[0;32mtry\u001b[0m\u001b[0;34m:\u001b[0m\u001b[0;34m\u001b[0m\u001b[0;34m\u001b[0m\u001b[0m\n\u001b[0;32m--> 174\u001b[0;31m                 \u001b[0mret\u001b[0m \u001b[0;34m=\u001b[0m \u001b[0mself\u001b[0m\u001b[0;34m.\u001b[0m\u001b[0mfn\u001b[0m\u001b[0;34m(\u001b[0m\u001b[0;34m*\u001b[0m\u001b[0margs\u001b[0m\u001b[0;34m,\u001b[0m \u001b[0;34m**\u001b[0m\u001b[0mkwargs\u001b[0m\u001b[0;34m)\u001b[0m\u001b[0;34m\u001b[0m\u001b[0;34m\u001b[0m\u001b[0m\n\u001b[0m\u001b[1;32m    175\u001b[0m             \u001b[0;32mexcept\u001b[0m \u001b[0;34m(\u001b[0m\u001b[0mValueError\u001b[0m\u001b[0;34m,\u001b[0m \u001b[0mRuntimeError\u001b[0m\u001b[0;34m)\u001b[0m \u001b[0;32mas\u001b[0m \u001b[0me\u001b[0m\u001b[0;34m:\u001b[0m\u001b[0;34m\u001b[0m\u001b[0;34m\u001b[0m\u001b[0m\n",
            "\u001b[0;32m/usr/local/lib/python3.7/dist-packages/pyro/nn/module.py\u001b[0m in \u001b[0;36m__call__\u001b[0;34m(self, *args, **kwargs)\u001b[0m\n\u001b[1;32m    426\u001b[0m         \u001b[0;32mwith\u001b[0m \u001b[0mself\u001b[0m\u001b[0;34m.\u001b[0m\u001b[0m_pyro_context\u001b[0m\u001b[0;34m:\u001b[0m\u001b[0;34m\u001b[0m\u001b[0;34m\u001b[0m\u001b[0m\n\u001b[0;32m--> 427\u001b[0;31m             \u001b[0;32mreturn\u001b[0m \u001b[0msuper\u001b[0m\u001b[0;34m(\u001b[0m\u001b[0;34m)\u001b[0m\u001b[0;34m.\u001b[0m\u001b[0m__call__\u001b[0m\u001b[0;34m(\u001b[0m\u001b[0;34m*\u001b[0m\u001b[0margs\u001b[0m\u001b[0;34m,\u001b[0m \u001b[0;34m**\u001b[0m\u001b[0mkwargs\u001b[0m\u001b[0;34m)\u001b[0m\u001b[0;34m\u001b[0m\u001b[0;34m\u001b[0m\u001b[0m\n\u001b[0m\u001b[1;32m    428\u001b[0m \u001b[0;34m\u001b[0m\u001b[0m\n",
            "\u001b[0;32m/usr/local/lib/python3.7/dist-packages/torch/nn/modules/module.py\u001b[0m in \u001b[0;36m_call_impl\u001b[0;34m(self, *input, **kwargs)\u001b[0m\n\u001b[1;32m   1129\u001b[0m                 or _global_forward_hooks or _global_forward_pre_hooks):\n\u001b[0;32m-> 1130\u001b[0;31m             \u001b[0;32mreturn\u001b[0m \u001b[0mforward_call\u001b[0m\u001b[0;34m(\u001b[0m\u001b[0;34m*\u001b[0m\u001b[0minput\u001b[0m\u001b[0;34m,\u001b[0m \u001b[0;34m**\u001b[0m\u001b[0mkwargs\u001b[0m\u001b[0;34m)\u001b[0m\u001b[0;34m\u001b[0m\u001b[0;34m\u001b[0m\u001b[0m\n\u001b[0m\u001b[1;32m   1131\u001b[0m         \u001b[0;31m# Do not call functions when jit is used\u001b[0m\u001b[0;34m\u001b[0m\u001b[0;34m\u001b[0m\u001b[0;34m\u001b[0m\u001b[0m\n",
            "\u001b[0;32m/usr/local/lib/python3.7/dist-packages/pyro/infer/autoguide/guides.py\u001b[0m in \u001b[0;36mforward\u001b[0;34m(self, *args, **kwargs)\u001b[0m\n\u001b[1;32m    758\u001b[0m         \u001b[0;32mif\u001b[0m \u001b[0mself\u001b[0m\u001b[0;34m.\u001b[0m\u001b[0mprototype_trace\u001b[0m \u001b[0;32mis\u001b[0m \u001b[0;32mNone\u001b[0m\u001b[0;34m:\u001b[0m\u001b[0;34m\u001b[0m\u001b[0;34m\u001b[0m\u001b[0m\n\u001b[0;32m--> 759\u001b[0;31m             \u001b[0mself\u001b[0m\u001b[0;34m.\u001b[0m\u001b[0m_setup_prototype\u001b[0m\u001b[0;34m(\u001b[0m\u001b[0;34m*\u001b[0m\u001b[0margs\u001b[0m\u001b[0;34m,\u001b[0m \u001b[0;34m**\u001b[0m\u001b[0mkwargs\u001b[0m\u001b[0;34m)\u001b[0m\u001b[0;34m\u001b[0m\u001b[0;34m\u001b[0m\u001b[0m\n\u001b[0m\u001b[1;32m    760\u001b[0m \u001b[0;34m\u001b[0m\u001b[0m\n",
            "\u001b[0;32m/usr/local/lib/python3.7/dist-packages/pyro/infer/autoguide/guides.py\u001b[0m in \u001b[0;36m_setup_prototype\u001b[0;34m(self, *args, **kwargs)\u001b[0m\n\u001b[1;32m   1152\u001b[0m     \u001b[0;32mdef\u001b[0m \u001b[0m_setup_prototype\u001b[0m\u001b[0;34m(\u001b[0m\u001b[0mself\u001b[0m\u001b[0;34m,\u001b[0m \u001b[0;34m*\u001b[0m\u001b[0margs\u001b[0m\u001b[0;34m,\u001b[0m \u001b[0;34m**\u001b[0m\u001b[0mkwargs\u001b[0m\u001b[0;34m)\u001b[0m\u001b[0;34m:\u001b[0m\u001b[0;34m\u001b[0m\u001b[0;34m\u001b[0m\u001b[0m\n\u001b[0;32m-> 1153\u001b[0;31m         \u001b[0msuper\u001b[0m\u001b[0;34m(\u001b[0m\u001b[0;34m)\u001b[0m\u001b[0;34m.\u001b[0m\u001b[0m_setup_prototype\u001b[0m\u001b[0;34m(\u001b[0m\u001b[0;34m*\u001b[0m\u001b[0margs\u001b[0m\u001b[0;34m,\u001b[0m \u001b[0;34m**\u001b[0m\u001b[0mkwargs\u001b[0m\u001b[0;34m)\u001b[0m\u001b[0;34m\u001b[0m\u001b[0;34m\u001b[0m\u001b[0m\n\u001b[0m\u001b[1;32m   1154\u001b[0m         \u001b[0;31m# Initialize guide params\u001b[0m\u001b[0;34m\u001b[0m\u001b[0;34m\u001b[0m\u001b[0;34m\u001b[0m\u001b[0m\n",
            "\u001b[0;32m/usr/local/lib/python3.7/dist-packages/pyro/infer/autoguide/guides.py\u001b[0m in \u001b[0;36m_setup_prototype\u001b[0;34m(self, *args, **kwargs)\u001b[0m\n\u001b[1;32m    635\u001b[0m     \u001b[0;32mdef\u001b[0m \u001b[0m_setup_prototype\u001b[0m\u001b[0;34m(\u001b[0m\u001b[0mself\u001b[0m\u001b[0;34m,\u001b[0m \u001b[0;34m*\u001b[0m\u001b[0margs\u001b[0m\u001b[0;34m,\u001b[0m \u001b[0;34m**\u001b[0m\u001b[0mkwargs\u001b[0m\u001b[0;34m)\u001b[0m\u001b[0;34m:\u001b[0m\u001b[0;34m\u001b[0m\u001b[0;34m\u001b[0m\u001b[0m\n\u001b[0;32m--> 636\u001b[0;31m         \u001b[0msuper\u001b[0m\u001b[0;34m(\u001b[0m\u001b[0;34m)\u001b[0m\u001b[0;34m.\u001b[0m\u001b[0m_setup_prototype\u001b[0m\u001b[0;34m(\u001b[0m\u001b[0;34m*\u001b[0m\u001b[0margs\u001b[0m\u001b[0;34m,\u001b[0m \u001b[0;34m**\u001b[0m\u001b[0mkwargs\u001b[0m\u001b[0;34m)\u001b[0m\u001b[0;34m\u001b[0m\u001b[0;34m\u001b[0m\u001b[0m\n\u001b[0m\u001b[1;32m    637\u001b[0m         \u001b[0mself\u001b[0m\u001b[0;34m.\u001b[0m\u001b[0m_unconstrained_shapes\u001b[0m \u001b[0;34m=\u001b[0m \u001b[0;34m{\u001b[0m\u001b[0;34m}\u001b[0m\u001b[0;34m\u001b[0m\u001b[0;34m\u001b[0m\u001b[0m\n",
            "\u001b[0;32m/usr/local/lib/python3.7/dist-packages/pyro/infer/autoguide/guides.py\u001b[0m in \u001b[0;36m_setup_prototype\u001b[0;34m(self, *args, **kwargs)\u001b[0m\n\u001b[1;32m    157\u001b[0m         self.prototype_trace = poutine.block(poutine.trace(model).get_trace)(\n\u001b[0;32m--> 158\u001b[0;31m             \u001b[0;34m*\u001b[0m\u001b[0margs\u001b[0m\u001b[0;34m,\u001b[0m \u001b[0;34m**\u001b[0m\u001b[0mkwargs\u001b[0m\u001b[0;34m\u001b[0m\u001b[0;34m\u001b[0m\u001b[0m\n\u001b[0m\u001b[1;32m    159\u001b[0m         )\n",
            "\u001b[0;32m/usr/local/lib/python3.7/dist-packages/pyro/poutine/messenger.py\u001b[0m in \u001b[0;36m_context_wrap\u001b[0;34m(context, fn, *args, **kwargs)\u001b[0m\n\u001b[1;32m     11\u001b[0m     \u001b[0;32mwith\u001b[0m \u001b[0mcontext\u001b[0m\u001b[0;34m:\u001b[0m\u001b[0;34m\u001b[0m\u001b[0;34m\u001b[0m\u001b[0m\n\u001b[0;32m---> 12\u001b[0;31m         \u001b[0;32mreturn\u001b[0m \u001b[0mfn\u001b[0m\u001b[0;34m(\u001b[0m\u001b[0;34m*\u001b[0m\u001b[0margs\u001b[0m\u001b[0;34m,\u001b[0m \u001b[0;34m**\u001b[0m\u001b[0mkwargs\u001b[0m\u001b[0;34m)\u001b[0m\u001b[0;34m\u001b[0m\u001b[0;34m\u001b[0m\u001b[0m\n\u001b[0m\u001b[1;32m     13\u001b[0m \u001b[0;34m\u001b[0m\u001b[0m\n",
            "\u001b[0;32m/usr/local/lib/python3.7/dist-packages/pyro/poutine/trace_messenger.py\u001b[0m in \u001b[0;36mget_trace\u001b[0;34m(self, *args, **kwargs)\u001b[0m\n\u001b[1;32m    197\u001b[0m         \"\"\"\n\u001b[0;32m--> 198\u001b[0;31m         \u001b[0mself\u001b[0m\u001b[0;34m(\u001b[0m\u001b[0;34m*\u001b[0m\u001b[0margs\u001b[0m\u001b[0;34m,\u001b[0m \u001b[0;34m**\u001b[0m\u001b[0mkwargs\u001b[0m\u001b[0;34m)\u001b[0m\u001b[0;34m\u001b[0m\u001b[0;34m\u001b[0m\u001b[0m\n\u001b[0m\u001b[1;32m    199\u001b[0m         \u001b[0;32mreturn\u001b[0m \u001b[0mself\u001b[0m\u001b[0;34m.\u001b[0m\u001b[0mmsngr\u001b[0m\u001b[0;34m.\u001b[0m\u001b[0mget_trace\u001b[0m\u001b[0;34m(\u001b[0m\u001b[0;34m)\u001b[0m\u001b[0;34m\u001b[0m\u001b[0;34m\u001b[0m\u001b[0m\n",
            "\u001b[0;32m/usr/local/lib/python3.7/dist-packages/pyro/poutine/trace_messenger.py\u001b[0m in \u001b[0;36m__call__\u001b[0;34m(self, *args, **kwargs)\u001b[0m\n\u001b[1;32m    179\u001b[0m                 \u001b[0mexc\u001b[0m \u001b[0;34m=\u001b[0m \u001b[0mexc\u001b[0m\u001b[0;34m.\u001b[0m\u001b[0mwith_traceback\u001b[0m\u001b[0;34m(\u001b[0m\u001b[0mtraceback\u001b[0m\u001b[0;34m)\u001b[0m\u001b[0;34m\u001b[0m\u001b[0;34m\u001b[0m\u001b[0m\n\u001b[0;32m--> 180\u001b[0;31m                 \u001b[0;32mraise\u001b[0m \u001b[0mexc\u001b[0m \u001b[0;32mfrom\u001b[0m \u001b[0me\u001b[0m\u001b[0;34m\u001b[0m\u001b[0;34m\u001b[0m\u001b[0m\n\u001b[0m\u001b[1;32m    181\u001b[0m             self.msngr.trace.add_node(\n",
            "\u001b[0;32m/usr/local/lib/python3.7/dist-packages/pyro/poutine/trace_messenger.py\u001b[0m in \u001b[0;36m__call__\u001b[0;34m(self, *args, **kwargs)\u001b[0m\n\u001b[1;32m    173\u001b[0m             \u001b[0;32mtry\u001b[0m\u001b[0;34m:\u001b[0m\u001b[0;34m\u001b[0m\u001b[0;34m\u001b[0m\u001b[0m\n\u001b[0;32m--> 174\u001b[0;31m                 \u001b[0mret\u001b[0m \u001b[0;34m=\u001b[0m \u001b[0mself\u001b[0m\u001b[0;34m.\u001b[0m\u001b[0mfn\u001b[0m\u001b[0;34m(\u001b[0m\u001b[0;34m*\u001b[0m\u001b[0margs\u001b[0m\u001b[0;34m,\u001b[0m \u001b[0;34m**\u001b[0m\u001b[0mkwargs\u001b[0m\u001b[0;34m)\u001b[0m\u001b[0;34m\u001b[0m\u001b[0;34m\u001b[0m\u001b[0m\n\u001b[0m\u001b[1;32m    175\u001b[0m             \u001b[0;32mexcept\u001b[0m \u001b[0;34m(\u001b[0m\u001b[0mValueError\u001b[0m\u001b[0;34m,\u001b[0m \u001b[0mRuntimeError\u001b[0m\u001b[0;34m)\u001b[0m \u001b[0;32mas\u001b[0m \u001b[0me\u001b[0m\u001b[0;34m:\u001b[0m\u001b[0;34m\u001b[0m\u001b[0;34m\u001b[0m\u001b[0m\n",
            "\u001b[0;32m/usr/local/lib/python3.7/dist-packages/pyro/poutine/messenger.py\u001b[0m in \u001b[0;36m_context_wrap\u001b[0;34m(context, fn, *args, **kwargs)\u001b[0m\n\u001b[1;32m     11\u001b[0m     \u001b[0;32mwith\u001b[0m \u001b[0mcontext\u001b[0m\u001b[0;34m:\u001b[0m\u001b[0;34m\u001b[0m\u001b[0;34m\u001b[0m\u001b[0m\n\u001b[0;32m---> 12\u001b[0;31m         \u001b[0;32mreturn\u001b[0m \u001b[0mfn\u001b[0m\u001b[0;34m(\u001b[0m\u001b[0;34m*\u001b[0m\u001b[0margs\u001b[0m\u001b[0;34m,\u001b[0m \u001b[0;34m**\u001b[0m\u001b[0mkwargs\u001b[0m\u001b[0;34m)\u001b[0m\u001b[0;34m\u001b[0m\u001b[0;34m\u001b[0m\u001b[0m\n\u001b[0m\u001b[1;32m     13\u001b[0m \u001b[0;34m\u001b[0m\u001b[0m\n",
            "\u001b[0;32m/usr/local/lib/python3.7/dist-packages/pyro/poutine/messenger.py\u001b[0m in \u001b[0;36m_context_wrap\u001b[0;34m(context, fn, *args, **kwargs)\u001b[0m\n\u001b[1;32m     11\u001b[0m     \u001b[0;32mwith\u001b[0m \u001b[0mcontext\u001b[0m\u001b[0;34m:\u001b[0m\u001b[0;34m\u001b[0m\u001b[0;34m\u001b[0m\u001b[0m\n\u001b[0;32m---> 12\u001b[0;31m         \u001b[0;32mreturn\u001b[0m \u001b[0mfn\u001b[0m\u001b[0;34m(\u001b[0m\u001b[0;34m*\u001b[0m\u001b[0margs\u001b[0m\u001b[0;34m,\u001b[0m \u001b[0;34m**\u001b[0m\u001b[0mkwargs\u001b[0m\u001b[0;34m)\u001b[0m\u001b[0;34m\u001b[0m\u001b[0;34m\u001b[0m\u001b[0m\n\u001b[0m\u001b[1;32m     13\u001b[0m \u001b[0;34m\u001b[0m\u001b[0m\n",
            "\u001b[0;32m<ipython-input-144-6b71d509528b>\u001b[0m in \u001b[0;36mmodel_vi_with_params_faster\u001b[0;34m()\u001b[0m\n\u001b[1;32m     64\u001b[0m       \u001b[0;32mwith\u001b[0m \u001b[0mpyro\u001b[0m\u001b[0;34m.\u001b[0m\u001b[0mplate\u001b[0m\u001b[0;34m(\u001b[0m\u001b[0;34m\"observations\"\u001b[0m \u001b[0;34m+\u001b[0m \u001b[0mstr\u001b[0m\u001b[0;34m(\u001b[0m\u001b[0mbands\u001b[0m\u001b[0;34m[\u001b[0m\u001b[0mi\u001b[0m\u001b[0;34m]\u001b[0m\u001b[0;34m)\u001b[0m \u001b[0;34m+\u001b[0m \u001b[0mstr\u001b[0m\u001b[0;34m(\u001b[0m\u001b[0msn_index\u001b[0m\u001b[0;34m)\u001b[0m\u001b[0;34m)\u001b[0m\u001b[0;34m:\u001b[0m\u001b[0;34m\u001b[0m\u001b[0;34m\u001b[0m\u001b[0m\n\u001b[0;32m---> 65\u001b[0;31m           \u001b[0mpyro\u001b[0m\u001b[0;34m.\u001b[0m\u001b[0msample\u001b[0m\u001b[0;34m(\u001b[0m\u001b[0;34m\"flux\"\u001b[0m \u001b[0;34m+\u001b[0m \u001b[0mstr\u001b[0m\u001b[0;34m(\u001b[0m\u001b[0mbands\u001b[0m\u001b[0;34m[\u001b[0m\u001b[0mi\u001b[0m\u001b[0;34m]\u001b[0m\u001b[0;34m)\u001b[0m \u001b[0;34m+\u001b[0m \u001b[0mstr\u001b[0m\u001b[0;34m(\u001b[0m\u001b[0msn_index\u001b[0m\u001b[0;34m)\u001b[0m\u001b[0;34m,\u001b[0m \u001b[0mdist\u001b[0m\u001b[0;34m.\u001b[0m\u001b[0mNormal\u001b[0m\u001b[0;34m(\u001b[0m\u001b[0mgenerated_fluxes\u001b[0m\u001b[0;34m[\u001b[0m\u001b[0mi\u001b[0m\u001b[0;34m]\u001b[0m\u001b[0;34m,\u001b[0m \u001b[0mall_flux_errors\u001b[0m\u001b[0;34m[\u001b[0m\u001b[0msn_index\u001b[0m\u001b[0;34m]\u001b[0m\u001b[0;34m[\u001b[0m\u001b[0mi\u001b[0m\u001b[0;34m]\u001b[0m\u001b[0;34m)\u001b[0m\u001b[0;34m,\u001b[0m \u001b[0mobs\u001b[0m \u001b[0;34m=\u001b[0m \u001b[0mall_observed_fluxes\u001b[0m\u001b[0;34m[\u001b[0m\u001b[0msn_index\u001b[0m\u001b[0;34m]\u001b[0m\u001b[0;34m[\u001b[0m\u001b[0mi\u001b[0m\u001b[0;34m]\u001b[0m\u001b[0;34m)\u001b[0m\u001b[0;34m\u001b[0m\u001b[0;34m\u001b[0m\u001b[0m\n\u001b[0m",
            "\u001b[0;32m/usr/local/lib/python3.7/dist-packages/pyro/distributions/distribution.py\u001b[0m in \u001b[0;36m__call__\u001b[0;34m(cls, *args, **kwargs)\u001b[0m\n\u001b[1;32m     17\u001b[0m                 \u001b[0;32mreturn\u001b[0m \u001b[0mresult\u001b[0m\u001b[0;34m\u001b[0m\u001b[0;34m\u001b[0m\u001b[0m\n\u001b[0;32m---> 18\u001b[0;31m         \u001b[0;32mreturn\u001b[0m \u001b[0msuper\u001b[0m\u001b[0;34m(\u001b[0m\u001b[0;34m)\u001b[0m\u001b[0;34m.\u001b[0m\u001b[0m__call__\u001b[0m\u001b[0;34m(\u001b[0m\u001b[0;34m*\u001b[0m\u001b[0margs\u001b[0m\u001b[0;34m,\u001b[0m \u001b[0;34m**\u001b[0m\u001b[0mkwargs\u001b[0m\u001b[0;34m)\u001b[0m\u001b[0;34m\u001b[0m\u001b[0;34m\u001b[0m\u001b[0m\n\u001b[0m\u001b[1;32m     19\u001b[0m \u001b[0;34m\u001b[0m\u001b[0m\n",
            "\u001b[0;32m/usr/local/lib/python3.7/dist-packages/torch/distributions/normal.py\u001b[0m in \u001b[0;36m__init__\u001b[0;34m(self, loc, scale, validate_args)\u001b[0m\n\u001b[1;32m     48\u001b[0m     \u001b[0;32mdef\u001b[0m \u001b[0m__init__\u001b[0m\u001b[0;34m(\u001b[0m\u001b[0mself\u001b[0m\u001b[0;34m,\u001b[0m \u001b[0mloc\u001b[0m\u001b[0;34m,\u001b[0m \u001b[0mscale\u001b[0m\u001b[0;34m,\u001b[0m \u001b[0mvalidate_args\u001b[0m\u001b[0;34m=\u001b[0m\u001b[0;32mNone\u001b[0m\u001b[0;34m)\u001b[0m\u001b[0;34m:\u001b[0m\u001b[0;34m\u001b[0m\u001b[0;34m\u001b[0m\u001b[0m\n\u001b[0;32m---> 49\u001b[0;31m         \u001b[0mself\u001b[0m\u001b[0;34m.\u001b[0m\u001b[0mloc\u001b[0m\u001b[0;34m,\u001b[0m \u001b[0mself\u001b[0m\u001b[0;34m.\u001b[0m\u001b[0mscale\u001b[0m \u001b[0;34m=\u001b[0m \u001b[0mbroadcast_all\u001b[0m\u001b[0;34m(\u001b[0m\u001b[0mloc\u001b[0m\u001b[0;34m,\u001b[0m \u001b[0mscale\u001b[0m\u001b[0;34m)\u001b[0m\u001b[0;34m\u001b[0m\u001b[0;34m\u001b[0m\u001b[0m\n\u001b[0m\u001b[1;32m     50\u001b[0m         \u001b[0;32mif\u001b[0m \u001b[0misinstance\u001b[0m\u001b[0;34m(\u001b[0m\u001b[0mloc\u001b[0m\u001b[0;34m,\u001b[0m \u001b[0mNumber\u001b[0m\u001b[0;34m)\u001b[0m \u001b[0;32mand\u001b[0m \u001b[0misinstance\u001b[0m\u001b[0;34m(\u001b[0m\u001b[0mscale\u001b[0m\u001b[0;34m,\u001b[0m \u001b[0mNumber\u001b[0m\u001b[0;34m)\u001b[0m\u001b[0;34m:\u001b[0m\u001b[0;34m\u001b[0m\u001b[0;34m\u001b[0m\u001b[0m\n",
            "\u001b[0;32m/usr/local/lib/python3.7/dist-packages/torch/distributions/utils.py\u001b[0m in \u001b[0;36mbroadcast_all\u001b[0;34m(*values)\u001b[0m\n\u001b[1;32m     28\u001b[0m                for v in values):\n\u001b[0;32m---> 29\u001b[0;31m         raise ValueError('Input arguments must all be instances of numbers.Number, '\n\u001b[0m\u001b[1;32m     30\u001b[0m                          'torch.Tensor or objects implementing __torch_function__.')\n",
            "\u001b[0;31mValueError\u001b[0m: Input arguments must all be instances of numbers.Number, torch.Tensor or objects implementing __torch_function__.\nTrace Shapes:     \n Param Sites:     \nSample Sites:     \n rv_mean dist |   \n        value |   \n  rv_std dist |   \n        value |   \n     tau dist |   \n        value |   \n     rv0 dist |   \n        value |   \n     nu0 dist | 24\n        value | 24\n  theta0 dist |   \n        value |   \n   mu_s0 dist |   \n        value |   \n     Av0 dist |   \n        value |   ",
            "\nThe above exception was the direct cause of the following exception:\n",
            "\u001b[0;31mValueError\u001b[0m                                Traceback (most recent call last)",
            "\u001b[0;32m<ipython-input-189-2bc581deaa0e>\u001b[0m in \u001b[0;36m<module>\u001b[0;34m()\u001b[0m\n\u001b[1;32m      1\u001b[0m \u001b[0mautoguide_laplace\u001b[0m \u001b[0;34m=\u001b[0m \u001b[0mpyro\u001b[0m\u001b[0;34m.\u001b[0m\u001b[0minfer\u001b[0m\u001b[0;34m.\u001b[0m\u001b[0mautoguide\u001b[0m\u001b[0;34m.\u001b[0m\u001b[0mAutoLaplaceApproximation\u001b[0m\u001b[0;34m(\u001b[0m\u001b[0mmodel_vi_with_params_faster\u001b[0m\u001b[0;34m)\u001b[0m\u001b[0;34m\u001b[0m\u001b[0;34m\u001b[0m\u001b[0m\n\u001b[0;32m----> 2\u001b[0;31m \u001b[0mtrain_with_params_faster\u001b[0m\u001b[0;34m(\u001b[0m\u001b[0mmodel_vi_with_params_faster\u001b[0m\u001b[0;34m,\u001b[0m \u001b[0mautoguide_laplace\u001b[0m\u001b[0;34m,\u001b[0m \u001b[0mn_steps\u001b[0m\u001b[0;34m=\u001b[0m\u001b[0;36m3000\u001b[0m\u001b[0;34m,\u001b[0m \u001b[0mverbose\u001b[0m \u001b[0;34m=\u001b[0m \u001b[0;32mTrue\u001b[0m\u001b[0;34m)\u001b[0m\u001b[0;34m\u001b[0m\u001b[0;34m\u001b[0m\u001b[0m\n\u001b[0m",
            "\u001b[0;32m<ipython-input-187-bc47630692bd>\u001b[0m in \u001b[0;36mtrain_with_params_faster\u001b[0;34m(model, guide, lr, n_steps, verbose)\u001b[0m\n\u001b[1;32m      6\u001b[0m   \u001b[0;31m# print('hi')\u001b[0m\u001b[0;34m\u001b[0m\u001b[0;34m\u001b[0m\u001b[0;34m\u001b[0m\u001b[0m\n\u001b[1;32m      7\u001b[0m   \u001b[0;32mfor\u001b[0m \u001b[0mstep\u001b[0m \u001b[0;32min\u001b[0m \u001b[0mrange\u001b[0m\u001b[0;34m(\u001b[0m\u001b[0mn_steps\u001b[0m\u001b[0;34m)\u001b[0m\u001b[0;34m:\u001b[0m\u001b[0;34m\u001b[0m\u001b[0;34m\u001b[0m\u001b[0m\n\u001b[0;32m----> 8\u001b[0;31m       \u001b[0mloss\u001b[0m \u001b[0;34m=\u001b[0m \u001b[0msvi\u001b[0m\u001b[0;34m.\u001b[0m\u001b[0mstep\u001b[0m\u001b[0;34m(\u001b[0m\u001b[0;34m)\u001b[0m\u001b[0;34m\u001b[0m\u001b[0;34m\u001b[0m\u001b[0m\n\u001b[0m\u001b[1;32m      9\u001b[0m       \u001b[0;32mif\u001b[0m \u001b[0mverbose\u001b[0m \u001b[0;32mand\u001b[0m \u001b[0mstep\u001b[0m \u001b[0;34m%\u001b[0m \u001b[0;36m50\u001b[0m \u001b[0;34m==\u001b[0m \u001b[0;36m0\u001b[0m\u001b[0;34m:\u001b[0m\u001b[0;34m\u001b[0m\u001b[0;34m\u001b[0m\u001b[0m\n\u001b[1;32m     10\u001b[0m             \u001b[0mprint\u001b[0m\u001b[0;34m(\u001b[0m\u001b[0;34m'[iter {}]  loss: {:.4f}'\u001b[0m\u001b[0;34m.\u001b[0m\u001b[0mformat\u001b[0m\u001b[0;34m(\u001b[0m\u001b[0mstep\u001b[0m\u001b[0;34m,\u001b[0m \u001b[0mloss\u001b[0m\u001b[0;34m)\u001b[0m\u001b[0;34m)\u001b[0m\u001b[0;34m\u001b[0m\u001b[0;34m\u001b[0m\u001b[0m\n",
            "\u001b[0;32m/usr/local/lib/python3.7/dist-packages/pyro/infer/svi.py\u001b[0m in \u001b[0;36mstep\u001b[0;34m(self, *args, **kwargs)\u001b[0m\n\u001b[1;32m    143\u001b[0m         \u001b[0;31m# get loss and compute gradients\u001b[0m\u001b[0;34m\u001b[0m\u001b[0;34m\u001b[0m\u001b[0;34m\u001b[0m\u001b[0m\n\u001b[1;32m    144\u001b[0m         \u001b[0;32mwith\u001b[0m \u001b[0mpoutine\u001b[0m\u001b[0;34m.\u001b[0m\u001b[0mtrace\u001b[0m\u001b[0;34m(\u001b[0m\u001b[0mparam_only\u001b[0m\u001b[0;34m=\u001b[0m\u001b[0;32mTrue\u001b[0m\u001b[0;34m)\u001b[0m \u001b[0;32mas\u001b[0m \u001b[0mparam_capture\u001b[0m\u001b[0;34m:\u001b[0m\u001b[0;34m\u001b[0m\u001b[0;34m\u001b[0m\u001b[0m\n\u001b[0;32m--> 145\u001b[0;31m             \u001b[0mloss\u001b[0m \u001b[0;34m=\u001b[0m \u001b[0mself\u001b[0m\u001b[0;34m.\u001b[0m\u001b[0mloss_and_grads\u001b[0m\u001b[0;34m(\u001b[0m\u001b[0mself\u001b[0m\u001b[0;34m.\u001b[0m\u001b[0mmodel\u001b[0m\u001b[0;34m,\u001b[0m \u001b[0mself\u001b[0m\u001b[0;34m.\u001b[0m\u001b[0mguide\u001b[0m\u001b[0;34m,\u001b[0m \u001b[0;34m*\u001b[0m\u001b[0margs\u001b[0m\u001b[0;34m,\u001b[0m \u001b[0;34m**\u001b[0m\u001b[0mkwargs\u001b[0m\u001b[0;34m)\u001b[0m\u001b[0;34m\u001b[0m\u001b[0;34m\u001b[0m\u001b[0m\n\u001b[0m\u001b[1;32m    146\u001b[0m \u001b[0;34m\u001b[0m\u001b[0m\n\u001b[1;32m    147\u001b[0m         params = set(\n",
            "\u001b[0;32m/usr/local/lib/python3.7/dist-packages/pyro/infer/trace_elbo.py\u001b[0m in \u001b[0;36mloss_and_grads\u001b[0;34m(self, model, guide, *args, **kwargs)\u001b[0m\n\u001b[1;32m    138\u001b[0m         \u001b[0mloss\u001b[0m \u001b[0;34m=\u001b[0m \u001b[0;36m0.0\u001b[0m\u001b[0;34m\u001b[0m\u001b[0;34m\u001b[0m\u001b[0m\n\u001b[1;32m    139\u001b[0m         \u001b[0;31m# grab a trace from the generator\u001b[0m\u001b[0;34m\u001b[0m\u001b[0;34m\u001b[0m\u001b[0;34m\u001b[0m\u001b[0m\n\u001b[0;32m--> 140\u001b[0;31m         \u001b[0;32mfor\u001b[0m \u001b[0mmodel_trace\u001b[0m\u001b[0;34m,\u001b[0m \u001b[0mguide_trace\u001b[0m \u001b[0;32min\u001b[0m \u001b[0mself\u001b[0m\u001b[0;34m.\u001b[0m\u001b[0m_get_traces\u001b[0m\u001b[0;34m(\u001b[0m\u001b[0mmodel\u001b[0m\u001b[0;34m,\u001b[0m \u001b[0mguide\u001b[0m\u001b[0;34m,\u001b[0m \u001b[0margs\u001b[0m\u001b[0;34m,\u001b[0m \u001b[0mkwargs\u001b[0m\u001b[0;34m)\u001b[0m\u001b[0;34m:\u001b[0m\u001b[0;34m\u001b[0m\u001b[0;34m\u001b[0m\u001b[0m\n\u001b[0m\u001b[1;32m    141\u001b[0m             loss_particle, surrogate_loss_particle = self._differentiable_loss_particle(\n\u001b[1;32m    142\u001b[0m                 \u001b[0mmodel_trace\u001b[0m\u001b[0;34m,\u001b[0m \u001b[0mguide_trace\u001b[0m\u001b[0;34m\u001b[0m\u001b[0;34m\u001b[0m\u001b[0m\n",
            "\u001b[0;32m/usr/local/lib/python3.7/dist-packages/pyro/infer/elbo.py\u001b[0m in \u001b[0;36m_get_traces\u001b[0;34m(self, model, guide, args, kwargs)\u001b[0m\n\u001b[1;32m    180\u001b[0m         \u001b[0;32melse\u001b[0m\u001b[0;34m:\u001b[0m\u001b[0;34m\u001b[0m\u001b[0;34m\u001b[0m\u001b[0m\n\u001b[1;32m    181\u001b[0m             \u001b[0;32mfor\u001b[0m \u001b[0mi\u001b[0m \u001b[0;32min\u001b[0m \u001b[0mrange\u001b[0m\u001b[0;34m(\u001b[0m\u001b[0mself\u001b[0m\u001b[0;34m.\u001b[0m\u001b[0mnum_particles\u001b[0m\u001b[0;34m)\u001b[0m\u001b[0;34m:\u001b[0m\u001b[0;34m\u001b[0m\u001b[0;34m\u001b[0m\u001b[0m\n\u001b[0;32m--> 182\u001b[0;31m                 \u001b[0;32myield\u001b[0m \u001b[0mself\u001b[0m\u001b[0;34m.\u001b[0m\u001b[0m_get_trace\u001b[0m\u001b[0;34m(\u001b[0m\u001b[0mmodel\u001b[0m\u001b[0;34m,\u001b[0m \u001b[0mguide\u001b[0m\u001b[0;34m,\u001b[0m \u001b[0margs\u001b[0m\u001b[0;34m,\u001b[0m \u001b[0mkwargs\u001b[0m\u001b[0;34m)\u001b[0m\u001b[0;34m\u001b[0m\u001b[0;34m\u001b[0m\u001b[0m\n\u001b[0m",
            "\u001b[0;32m/usr/local/lib/python3.7/dist-packages/pyro/infer/trace_elbo.py\u001b[0m in \u001b[0;36m_get_trace\u001b[0;34m(self, model, guide, args, kwargs)\u001b[0m\n\u001b[1;32m     56\u001b[0m         \"\"\"\n\u001b[1;32m     57\u001b[0m         model_trace, guide_trace = get_importance_trace(\n\u001b[0;32m---> 58\u001b[0;31m             \u001b[0;34m\"flat\"\u001b[0m\u001b[0;34m,\u001b[0m \u001b[0mself\u001b[0m\u001b[0;34m.\u001b[0m\u001b[0mmax_plate_nesting\u001b[0m\u001b[0;34m,\u001b[0m \u001b[0mmodel\u001b[0m\u001b[0;34m,\u001b[0m \u001b[0mguide\u001b[0m\u001b[0;34m,\u001b[0m \u001b[0margs\u001b[0m\u001b[0;34m,\u001b[0m \u001b[0mkwargs\u001b[0m\u001b[0;34m\u001b[0m\u001b[0;34m\u001b[0m\u001b[0m\n\u001b[0m\u001b[1;32m     59\u001b[0m         )\n\u001b[1;32m     60\u001b[0m         \u001b[0;32mif\u001b[0m \u001b[0mis_validation_enabled\u001b[0m\u001b[0;34m(\u001b[0m\u001b[0;34m)\u001b[0m\u001b[0;34m:\u001b[0m\u001b[0;34m\u001b[0m\u001b[0;34m\u001b[0m\u001b[0m\n",
            "\u001b[0;32m/usr/local/lib/python3.7/dist-packages/pyro/infer/enum.py\u001b[0m in \u001b[0;36mget_importance_trace\u001b[0;34m(graph_type, max_plate_nesting, model, guide, args, kwargs, detach)\u001b[0m\n\u001b[1;32m     59\u001b[0m     \u001b[0;32melse\u001b[0m\u001b[0;34m:\u001b[0m\u001b[0;34m\u001b[0m\u001b[0;34m\u001b[0m\u001b[0m\n\u001b[1;32m     60\u001b[0m         guide_trace = poutine.trace(guide, graph_type=graph_type).get_trace(\n\u001b[0;32m---> 61\u001b[0;31m             \u001b[0;34m*\u001b[0m\u001b[0margs\u001b[0m\u001b[0;34m,\u001b[0m \u001b[0;34m**\u001b[0m\u001b[0mkwargs\u001b[0m\u001b[0;34m\u001b[0m\u001b[0;34m\u001b[0m\u001b[0m\n\u001b[0m\u001b[1;32m     62\u001b[0m         )\n\u001b[1;32m     63\u001b[0m         \u001b[0;32mif\u001b[0m \u001b[0mdetach\u001b[0m\u001b[0;34m:\u001b[0m\u001b[0;34m\u001b[0m\u001b[0;34m\u001b[0m\u001b[0m\n",
            "\u001b[0;32m/usr/local/lib/python3.7/dist-packages/pyro/poutine/trace_messenger.py\u001b[0m in \u001b[0;36mget_trace\u001b[0;34m(self, *args, **kwargs)\u001b[0m\n\u001b[1;32m    196\u001b[0m         \u001b[0mCalls\u001b[0m \u001b[0mthis\u001b[0m \u001b[0mpoutine\u001b[0m \u001b[0;32mand\u001b[0m \u001b[0mreturns\u001b[0m \u001b[0mits\u001b[0m \u001b[0mtrace\u001b[0m \u001b[0minstead\u001b[0m \u001b[0mof\u001b[0m \u001b[0mthe\u001b[0m \u001b[0mfunction\u001b[0m\u001b[0;31m'\u001b[0m\u001b[0ms\u001b[0m \u001b[0;32mreturn\u001b[0m \u001b[0mvalue\u001b[0m\u001b[0;34m.\u001b[0m\u001b[0;34m\u001b[0m\u001b[0;34m\u001b[0m\u001b[0m\n\u001b[1;32m    197\u001b[0m         \"\"\"\n\u001b[0;32m--> 198\u001b[0;31m         \u001b[0mself\u001b[0m\u001b[0;34m(\u001b[0m\u001b[0;34m*\u001b[0m\u001b[0margs\u001b[0m\u001b[0;34m,\u001b[0m \u001b[0;34m**\u001b[0m\u001b[0mkwargs\u001b[0m\u001b[0;34m)\u001b[0m\u001b[0;34m\u001b[0m\u001b[0;34m\u001b[0m\u001b[0m\n\u001b[0m\u001b[1;32m    199\u001b[0m         \u001b[0;32mreturn\u001b[0m \u001b[0mself\u001b[0m\u001b[0;34m.\u001b[0m\u001b[0mmsngr\u001b[0m\u001b[0;34m.\u001b[0m\u001b[0mget_trace\u001b[0m\u001b[0;34m(\u001b[0m\u001b[0;34m)\u001b[0m\u001b[0;34m\u001b[0m\u001b[0;34m\u001b[0m\u001b[0m\n",
            "\u001b[0;32m/usr/local/lib/python3.7/dist-packages/pyro/poutine/trace_messenger.py\u001b[0m in \u001b[0;36m__call__\u001b[0;34m(self, *args, **kwargs)\u001b[0m\n\u001b[1;32m    178\u001b[0m                 \u001b[0mexc\u001b[0m \u001b[0;34m=\u001b[0m \u001b[0mexc_type\u001b[0m\u001b[0;34m(\u001b[0m\u001b[0;34m\"{}\\n{}\"\u001b[0m\u001b[0;34m.\u001b[0m\u001b[0mformat\u001b[0m\u001b[0;34m(\u001b[0m\u001b[0mexc_value\u001b[0m\u001b[0;34m,\u001b[0m \u001b[0mshapes\u001b[0m\u001b[0;34m)\u001b[0m\u001b[0;34m)\u001b[0m\u001b[0;34m\u001b[0m\u001b[0;34m\u001b[0m\u001b[0m\n\u001b[1;32m    179\u001b[0m                 \u001b[0mexc\u001b[0m \u001b[0;34m=\u001b[0m \u001b[0mexc\u001b[0m\u001b[0;34m.\u001b[0m\u001b[0mwith_traceback\u001b[0m\u001b[0;34m(\u001b[0m\u001b[0mtraceback\u001b[0m\u001b[0;34m)\u001b[0m\u001b[0;34m\u001b[0m\u001b[0;34m\u001b[0m\u001b[0m\n\u001b[0;32m--> 180\u001b[0;31m                 \u001b[0;32mraise\u001b[0m \u001b[0mexc\u001b[0m \u001b[0;32mfrom\u001b[0m \u001b[0me\u001b[0m\u001b[0;34m\u001b[0m\u001b[0;34m\u001b[0m\u001b[0m\n\u001b[0m\u001b[1;32m    181\u001b[0m             self.msngr.trace.add_node(\n\u001b[1;32m    182\u001b[0m                 \u001b[0;34m\"_RETURN\"\u001b[0m\u001b[0;34m,\u001b[0m \u001b[0mname\u001b[0m\u001b[0;34m=\u001b[0m\u001b[0;34m\"_RETURN\"\u001b[0m\u001b[0;34m,\u001b[0m \u001b[0mtype\u001b[0m\u001b[0;34m=\u001b[0m\u001b[0;34m\"return\"\u001b[0m\u001b[0;34m,\u001b[0m \u001b[0mvalue\u001b[0m\u001b[0;34m=\u001b[0m\u001b[0mret\u001b[0m\u001b[0;34m\u001b[0m\u001b[0;34m\u001b[0m\u001b[0m\n",
            "\u001b[0;32m/usr/local/lib/python3.7/dist-packages/pyro/poutine/trace_messenger.py\u001b[0m in \u001b[0;36m__call__\u001b[0;34m(self, *args, **kwargs)\u001b[0m\n\u001b[1;32m    172\u001b[0m             )\n\u001b[1;32m    173\u001b[0m             \u001b[0;32mtry\u001b[0m\u001b[0;34m:\u001b[0m\u001b[0;34m\u001b[0m\u001b[0;34m\u001b[0m\u001b[0m\n\u001b[0;32m--> 174\u001b[0;31m                 \u001b[0mret\u001b[0m \u001b[0;34m=\u001b[0m \u001b[0mself\u001b[0m\u001b[0;34m.\u001b[0m\u001b[0mfn\u001b[0m\u001b[0;34m(\u001b[0m\u001b[0;34m*\u001b[0m\u001b[0margs\u001b[0m\u001b[0;34m,\u001b[0m \u001b[0;34m**\u001b[0m\u001b[0mkwargs\u001b[0m\u001b[0;34m)\u001b[0m\u001b[0;34m\u001b[0m\u001b[0;34m\u001b[0m\u001b[0m\n\u001b[0m\u001b[1;32m    175\u001b[0m             \u001b[0;32mexcept\u001b[0m \u001b[0;34m(\u001b[0m\u001b[0mValueError\u001b[0m\u001b[0;34m,\u001b[0m \u001b[0mRuntimeError\u001b[0m\u001b[0;34m)\u001b[0m \u001b[0;32mas\u001b[0m \u001b[0me\u001b[0m\u001b[0;34m:\u001b[0m\u001b[0;34m\u001b[0m\u001b[0;34m\u001b[0m\u001b[0m\n\u001b[1;32m    176\u001b[0m                 \u001b[0mexc_type\u001b[0m\u001b[0;34m,\u001b[0m \u001b[0mexc_value\u001b[0m\u001b[0;34m,\u001b[0m \u001b[0mtraceback\u001b[0m \u001b[0;34m=\u001b[0m \u001b[0msys\u001b[0m\u001b[0;34m.\u001b[0m\u001b[0mexc_info\u001b[0m\u001b[0;34m(\u001b[0m\u001b[0;34m)\u001b[0m\u001b[0;34m\u001b[0m\u001b[0;34m\u001b[0m\u001b[0m\n",
            "\u001b[0;32m/usr/local/lib/python3.7/dist-packages/pyro/nn/module.py\u001b[0m in \u001b[0;36m__call__\u001b[0;34m(self, *args, **kwargs)\u001b[0m\n\u001b[1;32m    425\u001b[0m     \u001b[0;32mdef\u001b[0m \u001b[0m__call__\u001b[0m\u001b[0;34m(\u001b[0m\u001b[0mself\u001b[0m\u001b[0;34m,\u001b[0m \u001b[0;34m*\u001b[0m\u001b[0margs\u001b[0m\u001b[0;34m,\u001b[0m \u001b[0;34m**\u001b[0m\u001b[0mkwargs\u001b[0m\u001b[0;34m)\u001b[0m\u001b[0;34m:\u001b[0m\u001b[0;34m\u001b[0m\u001b[0;34m\u001b[0m\u001b[0m\n\u001b[1;32m    426\u001b[0m         \u001b[0;32mwith\u001b[0m \u001b[0mself\u001b[0m\u001b[0;34m.\u001b[0m\u001b[0m_pyro_context\u001b[0m\u001b[0;34m:\u001b[0m\u001b[0;34m\u001b[0m\u001b[0;34m\u001b[0m\u001b[0m\n\u001b[0;32m--> 427\u001b[0;31m             \u001b[0;32mreturn\u001b[0m \u001b[0msuper\u001b[0m\u001b[0;34m(\u001b[0m\u001b[0;34m)\u001b[0m\u001b[0;34m.\u001b[0m\u001b[0m__call__\u001b[0m\u001b[0;34m(\u001b[0m\u001b[0;34m*\u001b[0m\u001b[0margs\u001b[0m\u001b[0;34m,\u001b[0m \u001b[0;34m**\u001b[0m\u001b[0mkwargs\u001b[0m\u001b[0;34m)\u001b[0m\u001b[0;34m\u001b[0m\u001b[0;34m\u001b[0m\u001b[0m\n\u001b[0m\u001b[1;32m    428\u001b[0m \u001b[0;34m\u001b[0m\u001b[0m\n\u001b[1;32m    429\u001b[0m     \u001b[0;32mdef\u001b[0m \u001b[0m__getattr__\u001b[0m\u001b[0;34m(\u001b[0m\u001b[0mself\u001b[0m\u001b[0;34m,\u001b[0m \u001b[0mname\u001b[0m\u001b[0;34m)\u001b[0m\u001b[0;34m:\u001b[0m\u001b[0;34m\u001b[0m\u001b[0;34m\u001b[0m\u001b[0m\n",
            "\u001b[0;32m/usr/local/lib/python3.7/dist-packages/torch/nn/modules/module.py\u001b[0m in \u001b[0;36m_call_impl\u001b[0;34m(self, *input, **kwargs)\u001b[0m\n\u001b[1;32m   1128\u001b[0m         if not (self._backward_hooks or self._forward_hooks or self._forward_pre_hooks or _global_backward_hooks\n\u001b[1;32m   1129\u001b[0m                 or _global_forward_hooks or _global_forward_pre_hooks):\n\u001b[0;32m-> 1130\u001b[0;31m             \u001b[0;32mreturn\u001b[0m \u001b[0mforward_call\u001b[0m\u001b[0;34m(\u001b[0m\u001b[0;34m*\u001b[0m\u001b[0minput\u001b[0m\u001b[0;34m,\u001b[0m \u001b[0;34m**\u001b[0m\u001b[0mkwargs\u001b[0m\u001b[0;34m)\u001b[0m\u001b[0;34m\u001b[0m\u001b[0;34m\u001b[0m\u001b[0m\n\u001b[0m\u001b[1;32m   1131\u001b[0m         \u001b[0;31m# Do not call functions when jit is used\u001b[0m\u001b[0;34m\u001b[0m\u001b[0;34m\u001b[0m\u001b[0;34m\u001b[0m\u001b[0m\n\u001b[1;32m   1132\u001b[0m         \u001b[0mfull_backward_hooks\u001b[0m\u001b[0;34m,\u001b[0m \u001b[0mnon_full_backward_hooks\u001b[0m \u001b[0;34m=\u001b[0m \u001b[0;34m[\u001b[0m\u001b[0;34m]\u001b[0m\u001b[0;34m,\u001b[0m \u001b[0;34m[\u001b[0m\u001b[0;34m]\u001b[0m\u001b[0;34m\u001b[0m\u001b[0;34m\u001b[0m\u001b[0m\n",
            "\u001b[0;32m/usr/local/lib/python3.7/dist-packages/pyro/infer/autoguide/guides.py\u001b[0m in \u001b[0;36mforward\u001b[0;34m(self, *args, **kwargs)\u001b[0m\n\u001b[1;32m    757\u001b[0m         \u001b[0;31m# if we've never run the model before, do so now so we can inspect the model structure\u001b[0m\u001b[0;34m\u001b[0m\u001b[0;34m\u001b[0m\u001b[0;34m\u001b[0m\u001b[0m\n\u001b[1;32m    758\u001b[0m         \u001b[0;32mif\u001b[0m \u001b[0mself\u001b[0m\u001b[0;34m.\u001b[0m\u001b[0mprototype_trace\u001b[0m \u001b[0;32mis\u001b[0m \u001b[0;32mNone\u001b[0m\u001b[0;34m:\u001b[0m\u001b[0;34m\u001b[0m\u001b[0;34m\u001b[0m\u001b[0m\n\u001b[0;32m--> 759\u001b[0;31m             \u001b[0mself\u001b[0m\u001b[0;34m.\u001b[0m\u001b[0m_setup_prototype\u001b[0m\u001b[0;34m(\u001b[0m\u001b[0;34m*\u001b[0m\u001b[0margs\u001b[0m\u001b[0;34m,\u001b[0m \u001b[0;34m**\u001b[0m\u001b[0mkwargs\u001b[0m\u001b[0;34m)\u001b[0m\u001b[0;34m\u001b[0m\u001b[0;34m\u001b[0m\u001b[0m\n\u001b[0m\u001b[1;32m    760\u001b[0m \u001b[0;34m\u001b[0m\u001b[0m\n\u001b[1;32m    761\u001b[0m         \u001b[0mlatent\u001b[0m \u001b[0;34m=\u001b[0m \u001b[0mself\u001b[0m\u001b[0;34m.\u001b[0m\u001b[0msample_latent\u001b[0m\u001b[0;34m(\u001b[0m\u001b[0;34m*\u001b[0m\u001b[0margs\u001b[0m\u001b[0;34m,\u001b[0m \u001b[0;34m**\u001b[0m\u001b[0mkwargs\u001b[0m\u001b[0;34m)\u001b[0m\u001b[0;34m\u001b[0m\u001b[0;34m\u001b[0m\u001b[0m\n",
            "\u001b[0;32m/usr/local/lib/python3.7/dist-packages/pyro/infer/autoguide/guides.py\u001b[0m in \u001b[0;36m_setup_prototype\u001b[0;34m(self, *args, **kwargs)\u001b[0m\n\u001b[1;32m   1151\u001b[0m \u001b[0;34m\u001b[0m\u001b[0m\n\u001b[1;32m   1152\u001b[0m     \u001b[0;32mdef\u001b[0m \u001b[0m_setup_prototype\u001b[0m\u001b[0;34m(\u001b[0m\u001b[0mself\u001b[0m\u001b[0;34m,\u001b[0m \u001b[0;34m*\u001b[0m\u001b[0margs\u001b[0m\u001b[0;34m,\u001b[0m \u001b[0;34m**\u001b[0m\u001b[0mkwargs\u001b[0m\u001b[0;34m)\u001b[0m\u001b[0;34m:\u001b[0m\u001b[0;34m\u001b[0m\u001b[0;34m\u001b[0m\u001b[0m\n\u001b[0;32m-> 1153\u001b[0;31m         \u001b[0msuper\u001b[0m\u001b[0;34m(\u001b[0m\u001b[0;34m)\u001b[0m\u001b[0;34m.\u001b[0m\u001b[0m_setup_prototype\u001b[0m\u001b[0;34m(\u001b[0m\u001b[0;34m*\u001b[0m\u001b[0margs\u001b[0m\u001b[0;34m,\u001b[0m \u001b[0;34m**\u001b[0m\u001b[0mkwargs\u001b[0m\u001b[0;34m)\u001b[0m\u001b[0;34m\u001b[0m\u001b[0;34m\u001b[0m\u001b[0m\n\u001b[0m\u001b[1;32m   1154\u001b[0m         \u001b[0;31m# Initialize guide params\u001b[0m\u001b[0;34m\u001b[0m\u001b[0;34m\u001b[0m\u001b[0;34m\u001b[0m\u001b[0m\n\u001b[1;32m   1155\u001b[0m         \u001b[0mself\u001b[0m\u001b[0;34m.\u001b[0m\u001b[0mloc\u001b[0m \u001b[0;34m=\u001b[0m \u001b[0mnn\u001b[0m\u001b[0;34m.\u001b[0m\u001b[0mParameter\u001b[0m\u001b[0;34m(\u001b[0m\u001b[0mself\u001b[0m\u001b[0;34m.\u001b[0m\u001b[0m_init_loc\u001b[0m\u001b[0;34m(\u001b[0m\u001b[0;34m)\u001b[0m\u001b[0;34m)\u001b[0m\u001b[0;34m\u001b[0m\u001b[0;34m\u001b[0m\u001b[0m\n",
            "\u001b[0;32m/usr/local/lib/python3.7/dist-packages/pyro/infer/autoguide/guides.py\u001b[0m in \u001b[0;36m_setup_prototype\u001b[0;34m(self, *args, **kwargs)\u001b[0m\n\u001b[1;32m    634\u001b[0m \u001b[0;34m\u001b[0m\u001b[0m\n\u001b[1;32m    635\u001b[0m     \u001b[0;32mdef\u001b[0m \u001b[0m_setup_prototype\u001b[0m\u001b[0;34m(\u001b[0m\u001b[0mself\u001b[0m\u001b[0;34m,\u001b[0m \u001b[0;34m*\u001b[0m\u001b[0margs\u001b[0m\u001b[0;34m,\u001b[0m \u001b[0;34m**\u001b[0m\u001b[0mkwargs\u001b[0m\u001b[0;34m)\u001b[0m\u001b[0;34m:\u001b[0m\u001b[0;34m\u001b[0m\u001b[0;34m\u001b[0m\u001b[0m\n\u001b[0;32m--> 636\u001b[0;31m         \u001b[0msuper\u001b[0m\u001b[0;34m(\u001b[0m\u001b[0;34m)\u001b[0m\u001b[0;34m.\u001b[0m\u001b[0m_setup_prototype\u001b[0m\u001b[0;34m(\u001b[0m\u001b[0;34m*\u001b[0m\u001b[0margs\u001b[0m\u001b[0;34m,\u001b[0m \u001b[0;34m**\u001b[0m\u001b[0mkwargs\u001b[0m\u001b[0;34m)\u001b[0m\u001b[0;34m\u001b[0m\u001b[0;34m\u001b[0m\u001b[0m\n\u001b[0m\u001b[1;32m    637\u001b[0m         \u001b[0mself\u001b[0m\u001b[0;34m.\u001b[0m\u001b[0m_unconstrained_shapes\u001b[0m \u001b[0;34m=\u001b[0m \u001b[0;34m{\u001b[0m\u001b[0;34m}\u001b[0m\u001b[0;34m\u001b[0m\u001b[0;34m\u001b[0m\u001b[0m\n\u001b[1;32m    638\u001b[0m         \u001b[0mself\u001b[0m\u001b[0;34m.\u001b[0m\u001b[0m_cond_indep_stacks\u001b[0m \u001b[0;34m=\u001b[0m \u001b[0;34m{\u001b[0m\u001b[0;34m}\u001b[0m\u001b[0;34m\u001b[0m\u001b[0;34m\u001b[0m\u001b[0m\n",
            "\u001b[0;32m/usr/local/lib/python3.7/dist-packages/pyro/infer/autoguide/guides.py\u001b[0m in \u001b[0;36m_setup_prototype\u001b[0;34m(self, *args, **kwargs)\u001b[0m\n\u001b[1;32m    156\u001b[0m         \u001b[0mmodel\u001b[0m \u001b[0;34m=\u001b[0m \u001b[0mpoutine\u001b[0m\u001b[0;34m.\u001b[0m\u001b[0mblock\u001b[0m\u001b[0;34m(\u001b[0m\u001b[0mself\u001b[0m\u001b[0;34m.\u001b[0m\u001b[0mmodel\u001b[0m\u001b[0;34m,\u001b[0m \u001b[0mself\u001b[0m\u001b[0;34m.\u001b[0m\u001b[0m_prototype_hide_fn\u001b[0m\u001b[0;34m)\u001b[0m\u001b[0;34m\u001b[0m\u001b[0;34m\u001b[0m\u001b[0m\n\u001b[1;32m    157\u001b[0m         self.prototype_trace = poutine.block(poutine.trace(model).get_trace)(\n\u001b[0;32m--> 158\u001b[0;31m             \u001b[0;34m*\u001b[0m\u001b[0margs\u001b[0m\u001b[0;34m,\u001b[0m \u001b[0;34m**\u001b[0m\u001b[0mkwargs\u001b[0m\u001b[0;34m\u001b[0m\u001b[0;34m\u001b[0m\u001b[0m\n\u001b[0m\u001b[1;32m    159\u001b[0m         )\n\u001b[1;32m    160\u001b[0m         \u001b[0;32mif\u001b[0m \u001b[0mself\u001b[0m\u001b[0;34m.\u001b[0m\u001b[0mmaster\u001b[0m \u001b[0;32mis\u001b[0m \u001b[0;32mnot\u001b[0m \u001b[0;32mNone\u001b[0m\u001b[0;34m:\u001b[0m\u001b[0;34m\u001b[0m\u001b[0;34m\u001b[0m\u001b[0m\n",
            "\u001b[0;32m/usr/local/lib/python3.7/dist-packages/pyro/poutine/messenger.py\u001b[0m in \u001b[0;36m_context_wrap\u001b[0;34m(context, fn, *args, **kwargs)\u001b[0m\n\u001b[1;32m     10\u001b[0m \u001b[0;32mdef\u001b[0m \u001b[0m_context_wrap\u001b[0m\u001b[0;34m(\u001b[0m\u001b[0mcontext\u001b[0m\u001b[0;34m,\u001b[0m \u001b[0mfn\u001b[0m\u001b[0;34m,\u001b[0m \u001b[0;34m*\u001b[0m\u001b[0margs\u001b[0m\u001b[0;34m,\u001b[0m \u001b[0;34m**\u001b[0m\u001b[0mkwargs\u001b[0m\u001b[0;34m)\u001b[0m\u001b[0;34m:\u001b[0m\u001b[0;34m\u001b[0m\u001b[0;34m\u001b[0m\u001b[0m\n\u001b[1;32m     11\u001b[0m     \u001b[0;32mwith\u001b[0m \u001b[0mcontext\u001b[0m\u001b[0;34m:\u001b[0m\u001b[0;34m\u001b[0m\u001b[0;34m\u001b[0m\u001b[0m\n\u001b[0;32m---> 12\u001b[0;31m         \u001b[0;32mreturn\u001b[0m \u001b[0mfn\u001b[0m\u001b[0;34m(\u001b[0m\u001b[0;34m*\u001b[0m\u001b[0margs\u001b[0m\u001b[0;34m,\u001b[0m \u001b[0;34m**\u001b[0m\u001b[0mkwargs\u001b[0m\u001b[0;34m)\u001b[0m\u001b[0;34m\u001b[0m\u001b[0;34m\u001b[0m\u001b[0m\n\u001b[0m\u001b[1;32m     13\u001b[0m \u001b[0;34m\u001b[0m\u001b[0m\n\u001b[1;32m     14\u001b[0m \u001b[0;34m\u001b[0m\u001b[0m\n",
            "\u001b[0;32m/usr/local/lib/python3.7/dist-packages/pyro/poutine/trace_messenger.py\u001b[0m in \u001b[0;36mget_trace\u001b[0;34m(self, *args, **kwargs)\u001b[0m\n\u001b[1;32m    196\u001b[0m         \u001b[0mCalls\u001b[0m \u001b[0mthis\u001b[0m \u001b[0mpoutine\u001b[0m \u001b[0;32mand\u001b[0m \u001b[0mreturns\u001b[0m \u001b[0mits\u001b[0m \u001b[0mtrace\u001b[0m \u001b[0minstead\u001b[0m \u001b[0mof\u001b[0m \u001b[0mthe\u001b[0m \u001b[0mfunction\u001b[0m\u001b[0;31m'\u001b[0m\u001b[0ms\u001b[0m \u001b[0;32mreturn\u001b[0m \u001b[0mvalue\u001b[0m\u001b[0;34m.\u001b[0m\u001b[0;34m\u001b[0m\u001b[0;34m\u001b[0m\u001b[0m\n\u001b[1;32m    197\u001b[0m         \"\"\"\n\u001b[0;32m--> 198\u001b[0;31m         \u001b[0mself\u001b[0m\u001b[0;34m(\u001b[0m\u001b[0;34m*\u001b[0m\u001b[0margs\u001b[0m\u001b[0;34m,\u001b[0m \u001b[0;34m**\u001b[0m\u001b[0mkwargs\u001b[0m\u001b[0;34m)\u001b[0m\u001b[0;34m\u001b[0m\u001b[0;34m\u001b[0m\u001b[0m\n\u001b[0m\u001b[1;32m    199\u001b[0m         \u001b[0;32mreturn\u001b[0m \u001b[0mself\u001b[0m\u001b[0;34m.\u001b[0m\u001b[0mmsngr\u001b[0m\u001b[0;34m.\u001b[0m\u001b[0mget_trace\u001b[0m\u001b[0;34m(\u001b[0m\u001b[0;34m)\u001b[0m\u001b[0;34m\u001b[0m\u001b[0;34m\u001b[0m\u001b[0m\n",
            "\u001b[0;32m/usr/local/lib/python3.7/dist-packages/pyro/poutine/trace_messenger.py\u001b[0m in \u001b[0;36m__call__\u001b[0;34m(self, *args, **kwargs)\u001b[0m\n\u001b[1;32m    178\u001b[0m                 \u001b[0mexc\u001b[0m \u001b[0;34m=\u001b[0m \u001b[0mexc_type\u001b[0m\u001b[0;34m(\u001b[0m\u001b[0;34m\"{}\\n{}\"\u001b[0m\u001b[0;34m.\u001b[0m\u001b[0mformat\u001b[0m\u001b[0;34m(\u001b[0m\u001b[0mexc_value\u001b[0m\u001b[0;34m,\u001b[0m \u001b[0mshapes\u001b[0m\u001b[0;34m)\u001b[0m\u001b[0;34m)\u001b[0m\u001b[0;34m\u001b[0m\u001b[0;34m\u001b[0m\u001b[0m\n\u001b[1;32m    179\u001b[0m                 \u001b[0mexc\u001b[0m \u001b[0;34m=\u001b[0m \u001b[0mexc\u001b[0m\u001b[0;34m.\u001b[0m\u001b[0mwith_traceback\u001b[0m\u001b[0;34m(\u001b[0m\u001b[0mtraceback\u001b[0m\u001b[0;34m)\u001b[0m\u001b[0;34m\u001b[0m\u001b[0;34m\u001b[0m\u001b[0m\n\u001b[0;32m--> 180\u001b[0;31m                 \u001b[0;32mraise\u001b[0m \u001b[0mexc\u001b[0m \u001b[0;32mfrom\u001b[0m \u001b[0me\u001b[0m\u001b[0;34m\u001b[0m\u001b[0;34m\u001b[0m\u001b[0m\n\u001b[0m\u001b[1;32m    181\u001b[0m             self.msngr.trace.add_node(\n\u001b[1;32m    182\u001b[0m                 \u001b[0;34m\"_RETURN\"\u001b[0m\u001b[0;34m,\u001b[0m \u001b[0mname\u001b[0m\u001b[0;34m=\u001b[0m\u001b[0;34m\"_RETURN\"\u001b[0m\u001b[0;34m,\u001b[0m \u001b[0mtype\u001b[0m\u001b[0;34m=\u001b[0m\u001b[0;34m\"return\"\u001b[0m\u001b[0;34m,\u001b[0m \u001b[0mvalue\u001b[0m\u001b[0;34m=\u001b[0m\u001b[0mret\u001b[0m\u001b[0;34m\u001b[0m\u001b[0;34m\u001b[0m\u001b[0m\n",
            "\u001b[0;32m/usr/local/lib/python3.7/dist-packages/pyro/poutine/trace_messenger.py\u001b[0m in \u001b[0;36m__call__\u001b[0;34m(self, *args, **kwargs)\u001b[0m\n\u001b[1;32m    172\u001b[0m             )\n\u001b[1;32m    173\u001b[0m             \u001b[0;32mtry\u001b[0m\u001b[0;34m:\u001b[0m\u001b[0;34m\u001b[0m\u001b[0;34m\u001b[0m\u001b[0m\n\u001b[0;32m--> 174\u001b[0;31m                 \u001b[0mret\u001b[0m \u001b[0;34m=\u001b[0m \u001b[0mself\u001b[0m\u001b[0;34m.\u001b[0m\u001b[0mfn\u001b[0m\u001b[0;34m(\u001b[0m\u001b[0;34m*\u001b[0m\u001b[0margs\u001b[0m\u001b[0;34m,\u001b[0m \u001b[0;34m**\u001b[0m\u001b[0mkwargs\u001b[0m\u001b[0;34m)\u001b[0m\u001b[0;34m\u001b[0m\u001b[0;34m\u001b[0m\u001b[0m\n\u001b[0m\u001b[1;32m    175\u001b[0m             \u001b[0;32mexcept\u001b[0m \u001b[0;34m(\u001b[0m\u001b[0mValueError\u001b[0m\u001b[0;34m,\u001b[0m \u001b[0mRuntimeError\u001b[0m\u001b[0;34m)\u001b[0m \u001b[0;32mas\u001b[0m \u001b[0me\u001b[0m\u001b[0;34m:\u001b[0m\u001b[0;34m\u001b[0m\u001b[0;34m\u001b[0m\u001b[0m\n\u001b[1;32m    176\u001b[0m                 \u001b[0mexc_type\u001b[0m\u001b[0;34m,\u001b[0m \u001b[0mexc_value\u001b[0m\u001b[0;34m,\u001b[0m \u001b[0mtraceback\u001b[0m \u001b[0;34m=\u001b[0m \u001b[0msys\u001b[0m\u001b[0;34m.\u001b[0m\u001b[0mexc_info\u001b[0m\u001b[0;34m(\u001b[0m\u001b[0;34m)\u001b[0m\u001b[0;34m\u001b[0m\u001b[0;34m\u001b[0m\u001b[0m\n",
            "\u001b[0;32m/usr/local/lib/python3.7/dist-packages/pyro/poutine/messenger.py\u001b[0m in \u001b[0;36m_context_wrap\u001b[0;34m(context, fn, *args, **kwargs)\u001b[0m\n\u001b[1;32m     10\u001b[0m \u001b[0;32mdef\u001b[0m \u001b[0m_context_wrap\u001b[0m\u001b[0;34m(\u001b[0m\u001b[0mcontext\u001b[0m\u001b[0;34m,\u001b[0m \u001b[0mfn\u001b[0m\u001b[0;34m,\u001b[0m \u001b[0;34m*\u001b[0m\u001b[0margs\u001b[0m\u001b[0;34m,\u001b[0m \u001b[0;34m**\u001b[0m\u001b[0mkwargs\u001b[0m\u001b[0;34m)\u001b[0m\u001b[0;34m:\u001b[0m\u001b[0;34m\u001b[0m\u001b[0;34m\u001b[0m\u001b[0m\n\u001b[1;32m     11\u001b[0m     \u001b[0;32mwith\u001b[0m \u001b[0mcontext\u001b[0m\u001b[0;34m:\u001b[0m\u001b[0;34m\u001b[0m\u001b[0;34m\u001b[0m\u001b[0m\n\u001b[0;32m---> 12\u001b[0;31m         \u001b[0;32mreturn\u001b[0m \u001b[0mfn\u001b[0m\u001b[0;34m(\u001b[0m\u001b[0;34m*\u001b[0m\u001b[0margs\u001b[0m\u001b[0;34m,\u001b[0m \u001b[0;34m**\u001b[0m\u001b[0mkwargs\u001b[0m\u001b[0;34m)\u001b[0m\u001b[0;34m\u001b[0m\u001b[0;34m\u001b[0m\u001b[0m\n\u001b[0m\u001b[1;32m     13\u001b[0m \u001b[0;34m\u001b[0m\u001b[0m\n\u001b[1;32m     14\u001b[0m \u001b[0;34m\u001b[0m\u001b[0m\n",
            "\u001b[0;32m/usr/local/lib/python3.7/dist-packages/pyro/poutine/messenger.py\u001b[0m in \u001b[0;36m_context_wrap\u001b[0;34m(context, fn, *args, **kwargs)\u001b[0m\n\u001b[1;32m     10\u001b[0m \u001b[0;32mdef\u001b[0m \u001b[0m_context_wrap\u001b[0m\u001b[0;34m(\u001b[0m\u001b[0mcontext\u001b[0m\u001b[0;34m,\u001b[0m \u001b[0mfn\u001b[0m\u001b[0;34m,\u001b[0m \u001b[0;34m*\u001b[0m\u001b[0margs\u001b[0m\u001b[0;34m,\u001b[0m \u001b[0;34m**\u001b[0m\u001b[0mkwargs\u001b[0m\u001b[0;34m)\u001b[0m\u001b[0;34m:\u001b[0m\u001b[0;34m\u001b[0m\u001b[0;34m\u001b[0m\u001b[0m\n\u001b[1;32m     11\u001b[0m     \u001b[0;32mwith\u001b[0m \u001b[0mcontext\u001b[0m\u001b[0;34m:\u001b[0m\u001b[0;34m\u001b[0m\u001b[0;34m\u001b[0m\u001b[0m\n\u001b[0;32m---> 12\u001b[0;31m         \u001b[0;32mreturn\u001b[0m \u001b[0mfn\u001b[0m\u001b[0;34m(\u001b[0m\u001b[0;34m*\u001b[0m\u001b[0margs\u001b[0m\u001b[0;34m,\u001b[0m \u001b[0;34m**\u001b[0m\u001b[0mkwargs\u001b[0m\u001b[0;34m)\u001b[0m\u001b[0;34m\u001b[0m\u001b[0;34m\u001b[0m\u001b[0m\n\u001b[0m\u001b[1;32m     13\u001b[0m \u001b[0;34m\u001b[0m\u001b[0m\n\u001b[1;32m     14\u001b[0m \u001b[0;34m\u001b[0m\u001b[0m\n",
            "\u001b[0;32m<ipython-input-144-6b71d509528b>\u001b[0m in \u001b[0;36mmodel_vi_with_params_faster\u001b[0;34m()\u001b[0m\n\u001b[1;32m     63\u001b[0m     \u001b[0;32mfor\u001b[0m \u001b[0mi\u001b[0m \u001b[0;32min\u001b[0m \u001b[0mpyro\u001b[0m\u001b[0;34m.\u001b[0m\u001b[0mplate\u001b[0m\u001b[0;34m(\u001b[0m\u001b[0;34m\"bands\"\u001b[0m \u001b[0;34m+\u001b[0m \u001b[0mstr\u001b[0m\u001b[0;34m(\u001b[0m\u001b[0msn_index\u001b[0m\u001b[0;34m)\u001b[0m\u001b[0;34m,\u001b[0m \u001b[0mband_index\u001b[0m \u001b[0;34m+\u001b[0m \u001b[0;36m1\u001b[0m\u001b[0;34m)\u001b[0m\u001b[0;34m:\u001b[0m\u001b[0;34m\u001b[0m\u001b[0;34m\u001b[0m\u001b[0m\n\u001b[1;32m     64\u001b[0m       \u001b[0;32mwith\u001b[0m \u001b[0mpyro\u001b[0m\u001b[0;34m.\u001b[0m\u001b[0mplate\u001b[0m\u001b[0;34m(\u001b[0m\u001b[0;34m\"observations\"\u001b[0m \u001b[0;34m+\u001b[0m \u001b[0mstr\u001b[0m\u001b[0;34m(\u001b[0m\u001b[0mbands\u001b[0m\u001b[0;34m[\u001b[0m\u001b[0mi\u001b[0m\u001b[0;34m]\u001b[0m\u001b[0;34m)\u001b[0m \u001b[0;34m+\u001b[0m \u001b[0mstr\u001b[0m\u001b[0;34m(\u001b[0m\u001b[0msn_index\u001b[0m\u001b[0;34m)\u001b[0m\u001b[0;34m)\u001b[0m\u001b[0;34m:\u001b[0m\u001b[0;34m\u001b[0m\u001b[0;34m\u001b[0m\u001b[0m\n\u001b[0;32m---> 65\u001b[0;31m           \u001b[0mpyro\u001b[0m\u001b[0;34m.\u001b[0m\u001b[0msample\u001b[0m\u001b[0;34m(\u001b[0m\u001b[0;34m\"flux\"\u001b[0m \u001b[0;34m+\u001b[0m \u001b[0mstr\u001b[0m\u001b[0;34m(\u001b[0m\u001b[0mbands\u001b[0m\u001b[0;34m[\u001b[0m\u001b[0mi\u001b[0m\u001b[0;34m]\u001b[0m\u001b[0;34m)\u001b[0m \u001b[0;34m+\u001b[0m \u001b[0mstr\u001b[0m\u001b[0;34m(\u001b[0m\u001b[0msn_index\u001b[0m\u001b[0;34m)\u001b[0m\u001b[0;34m,\u001b[0m \u001b[0mdist\u001b[0m\u001b[0;34m.\u001b[0m\u001b[0mNormal\u001b[0m\u001b[0;34m(\u001b[0m\u001b[0mgenerated_fluxes\u001b[0m\u001b[0;34m[\u001b[0m\u001b[0mi\u001b[0m\u001b[0;34m]\u001b[0m\u001b[0;34m,\u001b[0m \u001b[0mall_flux_errors\u001b[0m\u001b[0;34m[\u001b[0m\u001b[0msn_index\u001b[0m\u001b[0;34m]\u001b[0m\u001b[0;34m[\u001b[0m\u001b[0mi\u001b[0m\u001b[0;34m]\u001b[0m\u001b[0;34m)\u001b[0m\u001b[0;34m,\u001b[0m \u001b[0mobs\u001b[0m \u001b[0;34m=\u001b[0m \u001b[0mall_observed_fluxes\u001b[0m\u001b[0;34m[\u001b[0m\u001b[0msn_index\u001b[0m\u001b[0;34m]\u001b[0m\u001b[0;34m[\u001b[0m\u001b[0mi\u001b[0m\u001b[0;34m]\u001b[0m\u001b[0;34m)\u001b[0m\u001b[0;34m\u001b[0m\u001b[0;34m\u001b[0m\u001b[0m\n\u001b[0m",
            "\u001b[0;32m/usr/local/lib/python3.7/dist-packages/pyro/distributions/distribution.py\u001b[0m in \u001b[0;36m__call__\u001b[0;34m(cls, *args, **kwargs)\u001b[0m\n\u001b[1;32m     16\u001b[0m             \u001b[0;32mif\u001b[0m \u001b[0mresult\u001b[0m \u001b[0;32mis\u001b[0m \u001b[0;32mnot\u001b[0m \u001b[0;32mNone\u001b[0m\u001b[0;34m:\u001b[0m\u001b[0;34m\u001b[0m\u001b[0;34m\u001b[0m\u001b[0m\n\u001b[1;32m     17\u001b[0m                 \u001b[0;32mreturn\u001b[0m \u001b[0mresult\u001b[0m\u001b[0;34m\u001b[0m\u001b[0;34m\u001b[0m\u001b[0m\n\u001b[0;32m---> 18\u001b[0;31m         \u001b[0;32mreturn\u001b[0m \u001b[0msuper\u001b[0m\u001b[0;34m(\u001b[0m\u001b[0;34m)\u001b[0m\u001b[0;34m.\u001b[0m\u001b[0m__call__\u001b[0m\u001b[0;34m(\u001b[0m\u001b[0;34m*\u001b[0m\u001b[0margs\u001b[0m\u001b[0;34m,\u001b[0m \u001b[0;34m**\u001b[0m\u001b[0mkwargs\u001b[0m\u001b[0;34m)\u001b[0m\u001b[0;34m\u001b[0m\u001b[0;34m\u001b[0m\u001b[0m\n\u001b[0m\u001b[1;32m     19\u001b[0m \u001b[0;34m\u001b[0m\u001b[0m\n\u001b[1;32m     20\u001b[0m     \u001b[0;34m@\u001b[0m\u001b[0mproperty\u001b[0m\u001b[0;34m\u001b[0m\u001b[0;34m\u001b[0m\u001b[0m\n",
            "\u001b[0;32m/usr/local/lib/python3.7/dist-packages/torch/distributions/normal.py\u001b[0m in \u001b[0;36m__init__\u001b[0;34m(self, loc, scale, validate_args)\u001b[0m\n\u001b[1;32m     47\u001b[0m \u001b[0;34m\u001b[0m\u001b[0m\n\u001b[1;32m     48\u001b[0m     \u001b[0;32mdef\u001b[0m \u001b[0m__init__\u001b[0m\u001b[0;34m(\u001b[0m\u001b[0mself\u001b[0m\u001b[0;34m,\u001b[0m \u001b[0mloc\u001b[0m\u001b[0;34m,\u001b[0m \u001b[0mscale\u001b[0m\u001b[0;34m,\u001b[0m \u001b[0mvalidate_args\u001b[0m\u001b[0;34m=\u001b[0m\u001b[0;32mNone\u001b[0m\u001b[0;34m)\u001b[0m\u001b[0;34m:\u001b[0m\u001b[0;34m\u001b[0m\u001b[0;34m\u001b[0m\u001b[0m\n\u001b[0;32m---> 49\u001b[0;31m         \u001b[0mself\u001b[0m\u001b[0;34m.\u001b[0m\u001b[0mloc\u001b[0m\u001b[0;34m,\u001b[0m \u001b[0mself\u001b[0m\u001b[0;34m.\u001b[0m\u001b[0mscale\u001b[0m \u001b[0;34m=\u001b[0m \u001b[0mbroadcast_all\u001b[0m\u001b[0;34m(\u001b[0m\u001b[0mloc\u001b[0m\u001b[0;34m,\u001b[0m \u001b[0mscale\u001b[0m\u001b[0;34m)\u001b[0m\u001b[0;34m\u001b[0m\u001b[0;34m\u001b[0m\u001b[0m\n\u001b[0m\u001b[1;32m     50\u001b[0m         \u001b[0;32mif\u001b[0m \u001b[0misinstance\u001b[0m\u001b[0;34m(\u001b[0m\u001b[0mloc\u001b[0m\u001b[0;34m,\u001b[0m \u001b[0mNumber\u001b[0m\u001b[0;34m)\u001b[0m \u001b[0;32mand\u001b[0m \u001b[0misinstance\u001b[0m\u001b[0;34m(\u001b[0m\u001b[0mscale\u001b[0m\u001b[0;34m,\u001b[0m \u001b[0mNumber\u001b[0m\u001b[0;34m)\u001b[0m\u001b[0;34m:\u001b[0m\u001b[0;34m\u001b[0m\u001b[0;34m\u001b[0m\u001b[0m\n\u001b[1;32m     51\u001b[0m             \u001b[0mbatch_shape\u001b[0m \u001b[0;34m=\u001b[0m \u001b[0mtorch\u001b[0m\u001b[0;34m.\u001b[0m\u001b[0mSize\u001b[0m\u001b[0;34m(\u001b[0m\u001b[0;34m)\u001b[0m\u001b[0;34m\u001b[0m\u001b[0;34m\u001b[0m\u001b[0m\n",
            "\u001b[0;32m/usr/local/lib/python3.7/dist-packages/torch/distributions/utils.py\u001b[0m in \u001b[0;36mbroadcast_all\u001b[0;34m(*values)\u001b[0m\n\u001b[1;32m     27\u001b[0m     if not all(is_tensor_like(v) or isinstance(v, Number)\n\u001b[1;32m     28\u001b[0m                for v in values):\n\u001b[0;32m---> 29\u001b[0;31m         raise ValueError('Input arguments must all be instances of numbers.Number, '\n\u001b[0m\u001b[1;32m     30\u001b[0m                          'torch.Tensor or objects implementing __torch_function__.')\n\u001b[1;32m     31\u001b[0m     \u001b[0;32mif\u001b[0m \u001b[0;32mnot\u001b[0m \u001b[0mall\u001b[0m\u001b[0;34m(\u001b[0m\u001b[0mis_tensor_like\u001b[0m\u001b[0;34m(\u001b[0m\u001b[0mv\u001b[0m\u001b[0;34m)\u001b[0m \u001b[0;32mfor\u001b[0m \u001b[0mv\u001b[0m \u001b[0;32min\u001b[0m \u001b[0mvalues\u001b[0m\u001b[0;34m)\u001b[0m\u001b[0;34m:\u001b[0m\u001b[0;34m\u001b[0m\u001b[0;34m\u001b[0m\u001b[0m\n",
            "\u001b[0;31mValueError\u001b[0m: Input arguments must all be instances of numbers.Number, torch.Tensor or objects implementing __torch_function__.\nTrace Shapes:     \n Param Sites:     \nSample Sites:     \n rv_mean dist |   \n        value |   \n  rv_std dist |   \n        value |   \n     tau dist |   \n        value |   \n     rv0 dist |   \n        value |   \n     nu0 dist | 24\n        value | 24\n  theta0 dist |   \n        value |   \n   mu_s0 dist |   \n        value |   \n     Av0 dist |   \n        value |   \nTrace Shapes:\n Param Sites:\nSample Sites:"
          ]
        }
      ]
    },
    {
      "cell_type": "code",
      "execution_count": null,
      "metadata": {
        "colab": {
          "base_uri": "https://localhost:8080/"
        },
        "id": "xa7rJs27n3CX",
        "outputId": "137af1dc-e38b-46fe-b44a-8da707835da9"
      },
      "outputs": [
        {
          "output_type": "stream",
          "name": "stdout",
          "text": [
            "2016W\n"
          ]
        }
      ],
      "source": [
        " # laplace_samples = {}\n",
        "laplace_vi_loc = {}\n",
        "laplace_vi_scale_tril = {}\n",
        "\n",
        "# laplace_approxes = {}\n",
        "\n",
        "# laplace_no_vi_loc = {}\n",
        "# laplace_no_vi_scale_tril = {}\n",
        "\n",
        "for sn in meta.SNID.values[:1]:\n",
        "  print(sn)\n",
        "\n",
        "  tmax = tmax_dict[sn]\n",
        "  z_helio = z_helio_dict[sn]\n",
        "  EBV_MW = mwebv_dict[sn]\n",
        "  z_cmb = z_cmb_dict[sn]\n",
        "\n",
        "  Av_obs = EBV_MW * 3.1\n",
        "  observed_fluxes, flux_errors, times_dict = get_fluxes_from_file(sn + \".dat\", tmax, z_helio)\n",
        "\n",
        "  # Calculate band-dependent quantities (Jl, Jt, xis, S0, etc.)\n",
        "  band_Jt, band_Jl, band_xis_matrix, band_S0, band_h = calculate_band_dependent_stuff(times_dict, z_helio, Av_obs)\n",
        "  mu_mean = torch.as_tensor(cosmo.distmod(z_cmb).value).to(device)\n",
        "\n",
        "\n",
        "\n",
        "  # start_time = measure_time.time()\n",
        "\n",
        "  # autoguide_laplace = pyro.infer.autoguide.AutoLaplaceApproximation(model_vi_with_params_faster)\n",
        "  # train_with_params_faster(model_vi_with_params_faster, autoguide_laplace, observed_fluxes, mu_mean, \n",
        "  #               band_Jl, band_Jt, band_xis_matrix, band_S0, band_h, flux_errors, n_steps=3000, verbose = True)\n",
        "  \n",
        "\n",
        "  # # Fit VI based on Laplace Approximation\n",
        "  # new_laplace_approx_guide = autoguide_laplace.laplace_approximation(observed_fluxes, mu_mean, \n",
        "  #               band_Jl, band_Jt, band_xis_matrix, band_S0, band_h, flux_errors,)\n",
        "  \n",
        "\n",
        "  # train_with_params_faster(model_vi_with_params_faster, new_laplace_approx_guide, observed_fluxes, mu_mean, \n",
        "  #               band_Jl, band_Jt, band_xis_matrix, band_S0, band_h, flux_errors, n_steps=6000, verbose = True)\n",
        "\n",
        "  # end_time = measure_time.time()\n",
        "  # print(\"Time:\", end_time - start_time, \"seconds\")"
      ]
    },
    {
      "cell_type": "code",
      "source": [
        ""
      ],
      "metadata": {
        "id": "soBiaznHXT65"
      },
      "execution_count": null,
      "outputs": []
    },
    {
      "cell_type": "code",
      "source": [
        "len(xf)"
      ],
      "metadata": {
        "colab": {
          "base_uri": "https://localhost:8080/"
        },
        "id": "z3WTzNY-X_2m",
        "outputId": "bb8047dc-f5e3-4c9b-ba2b-28cff8562725"
      },
      "execution_count": null,
      "outputs": [
        {
          "output_type": "execute_result",
          "data": {
            "text/plain": [
              "9"
            ]
          },
          "metadata": {},
          "execution_count": 20
        }
      ]
    },
    {
      "cell_type": "code",
      "source": [
        "def rv_extinction(rv):\n",
        "  c2 = -0.824 + 4.717 / rv\n",
        "  c1 = 2.03 - 3.007*c2\n",
        "  d1 = (xf[7]**2) / ((xf[7]**2 - x0**2)**2 + (gamma_f**2)*(xf[7]**2))\n",
        "  d2 = (xf[8]**2) / ((xf[8]**2 - x0**2)**2 + (gamma_f**2)*(xf[8]**2))\n",
        "\n",
        "\n",
        "  yf1 = -rv\n",
        "  yf2 = 0.26469*rv/3.1 - rv\n",
        "  yf3 = 0.82925*rv/3.1 - rv\n",
        "  yf4 = -0.422809 + 1.00270*rv + (2.13572e-4)*(rv**2) - rv\n",
        "  yf5 = -5.13540e-2 + 1.00216*rv - (7.35778e-5)*(rv**2) - rv\n",
        "  yf6 = 0.700127 + 1.00184*rv - (3.32598e-5)*(rv**2) -rv\n",
        "  yf7 = 1.19456 + 1.01707*rv - (5.46959e-3)*(rv**2) + (7.97809e-4)*(rv**3) - (4.45636e-5)*(rv**4) - rv\n",
        "  yf8 = c1 + c2*xf[7] + c3*d1\n",
        "  yf9 = c1 + c2*xf[8] + c3*d2\n",
        "\n",
        "  # const_matrix = []\n",
        "  return np.array([yf1, yf2, yf3, yf4, yf5, yf6, yf7, yf8, yf9])"
      ],
      "metadata": {
        "id": "CeRPbOOYXvEw"
      },
      "execution_count": null,
      "outputs": []
    },
    {
      "cell_type": "code",
      "source": [
        "1 + rv_extinction(1.5) / 1.5"
      ],
      "metadata": {
        "colab": {
          "base_uri": "https://localhost:8080/"
        },
        "id": "gDWFolSRa35J",
        "outputId": "61d28c8c-d028-4840-ec60-f988422093f8"
      },
      "execution_count": null,
      "outputs": [
        {
          "output_type": "execute_result",
          "data": {
            "text/plain": [
              "array([0.        , 0.08538387, 0.2675    , 0.72114769, 0.96781363,\n",
              "       1.46854144, 1.80688362, 7.65208106, 8.02364129])"
            ]
          },
          "metadata": {},
          "execution_count": 30
        }
      ]
    },
    {
      "cell_type": "code",
      "source": [
        "1 + rv_extinction(1.5) / 1.5"
      ],
      "metadata": {
        "colab": {
          "base_uri": "https://localhost:8080/"
        },
        "id": "JOwEZH7XTV92",
        "outputId": "5362d91f-6ed6-476f-c0a7-f6a1f0389616"
      },
      "execution_count": null,
      "outputs": [
        {
          "output_type": "execute_result",
          "data": {
            "text/plain": [
              "array([0.        , 0.08538387, 0.2675    , 0.72114769, 0.96781363,\n",
              "       1.46854144, 1.80688362, 3.86375019, 4.23531041])"
            ]
          },
          "metadata": {},
          "execution_count": 32
        }
      ]
    },
    {
      "cell_type": "code",
      "source": [
        "(1 / xf)*1e4"
      ],
      "metadata": {
        "colab": {
          "base_uri": "https://localhost:8080/"
        },
        "id": "v2ZXNuBhTwed",
        "outputId": "a4130f77-f369-43f6-f56f-897a7f2351e0"
      },
      "execution_count": null,
      "outputs": [
        {
          "output_type": "stream",
          "name": "stderr",
          "text": [
            "/usr/local/lib/python3.7/dist-packages/ipykernel_launcher.py:1: RuntimeWarning: divide by zero encountered in true_divide\n",
            "  \"\"\"Entry point for launching an IPython kernel.\n"
          ]
        },
        {
          "output_type": "execute_result",
          "data": {
            "text/plain": [
              "array([   inf, 26500., 12200.,  6000.,  5470.,  4670.,  4110.,  2700.,\n",
              "        2600.])"
            ]
          },
          "metadata": {},
          "execution_count": 39
        }
      ]
    },
    {
      "cell_type": "code",
      "source": [
        "plt.plot(1/xf * 1e4, [0.        , 0.08538387, 0.2675    , 0.72114769, 0.96781363, 1.46854144, 1.80688362, 7.65208106, 8.02364129])\n",
        "plt.plot(1/xf * 1e4, 1 + rv_extinction(1.5) / 1.5)\n",
        "plt.xlim(3000, 18000)"
      ],
      "metadata": {
        "colab": {
          "base_uri": "https://localhost:8080/",
          "height": 357
        },
        "id": "1OjhmU6OTX47",
        "outputId": "0fa8c06b-2aeb-42cb-9860-42edd8bdfc91"
      },
      "execution_count": null,
      "outputs": [
        {
          "output_type": "stream",
          "name": "stderr",
          "text": [
            "/usr/local/lib/python3.7/dist-packages/ipykernel_launcher.py:1: RuntimeWarning: divide by zero encountered in true_divide\n",
            "  \"\"\"Entry point for launching an IPython kernel.\n",
            "/usr/local/lib/python3.7/dist-packages/ipykernel_launcher.py:2: RuntimeWarning: divide by zero encountered in true_divide\n",
            "  \n"
          ]
        },
        {
          "output_type": "execute_result",
          "data": {
            "text/plain": [
              "(3000.0, 18000.0)"
            ]
          },
          "metadata": {},
          "execution_count": 41
        },
        {
          "output_type": "display_data",
          "data": {
            "text/plain": [
              "<Figure size 432x288 with 1 Axes>"
            ],
            "image/png": "[encoded data removed]"
          },
          "metadata": {
            "needs_background": "light"
          }
        }
      ]
    },
    {
      "cell_type": "code",
      "execution_count": null,
      "metadata": {
        "id": "w6UpMi3gOi9b",
        "colab": {
          "base_uri": "https://localhost:8080/"
        },
        "outputId": "49f24da2-1b66-4220-987a-6932d3634812"
      },
      "outputs": [
        {
          "output_type": "execute_result",
          "data": {
            "text/plain": [
              "array([-1.48029737e-16,  8.53838710e-02,  2.67500000e-01,  7.21147691e-01,\n",
              "        9.67813633e-01,  1.46854144e+00,  1.80688362e+00,  3.86375019e+00,\n",
              "        4.23531041e+00])"
            ]
          },
          "metadata": {},
          "execution_count": 23
        }
      ],
      "source": [
        "extinction.fitzpatrick99(xf, 1., 1.5, unit = 'invum')"
      ]
    },
    {
      "cell_type": "code",
      "source": [
        ""
      ],
      "metadata": {
        "id": "NTJAII5nbMb0"
      },
      "execution_count": null,
      "outputs": []
    }
  ],
  "metadata": {
    "colab": {
      "collapsed_sections": [],
      "name": "BayeSN_Partial_Training.ipynb",
      "provenance": [],
      "machine_shape": "hm"
    },
    "gpuClass": "standard",
    "kernelspec": {
      "display_name": "Python 3",
      "name": "python3"
    },
    "language_info": {
      "name": "python"
    },
    "accelerator": "GPU"
  },
  "nbformat": 4,
  "nbformat_minor": 0
}