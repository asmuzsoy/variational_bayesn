{
  "cells": [
    {
      "cell_type": "code",
      "execution_count": 1,
      "metadata": {
        "colab": {
          "base_uri": "https://localhost:8080/"
        },
        "id": "uX96bEWTmND0",
        "outputId": "38bc03dc-05ef-4d2d-b7a1-4c0429d820f3"
      },
      "outputs": [
        {
          "output_type": "stream",
          "name": "stdout",
          "text": [
            "Looking in indexes: https://pypi.org/simple, https://us-python.pkg.dev/colab-wheels/public/simple/\n",
            "Collecting pyro-ppl\n",
            "  Downloading pyro_ppl-1.8.1-py3-none-any.whl (718 kB)\n",
            "\u001b[K     |████████████████████████████████| 718 kB 24.1 MB/s \n",
            "\u001b[?25hRequirement already satisfied: opt-einsum>=2.3.2 in /usr/local/lib/python3.7/dist-packages (from pyro-ppl) (3.3.0)\n",
            "Requirement already satisfied: numpy>=1.7 in /usr/local/lib/python3.7/dist-packages (from pyro-ppl) (1.21.6)\n",
            "Requirement already satisfied: tqdm>=4.36 in /usr/local/lib/python3.7/dist-packages (from pyro-ppl) (4.64.0)\n",
            "Requirement already satisfied: torch>=1.11.0 in /usr/local/lib/python3.7/dist-packages (from pyro-ppl) (1.11.0+cu113)\n",
            "Collecting pyro-api>=0.1.1\n",
            "  Downloading pyro_api-0.1.2-py3-none-any.whl (11 kB)\n",
            "Requirement already satisfied: typing-extensions in /usr/local/lib/python3.7/dist-packages (from torch>=1.11.0->pyro-ppl) (4.2.0)\n",
            "Installing collected packages: pyro-api, pyro-ppl\n",
            "Successfully installed pyro-api-0.1.2 pyro-ppl-1.8.1\n"
          ]
        }
      ],
      "source": [
        "!pip3 install pyro-ppl "
      ]
    },
    {
      "cell_type": "code",
      "execution_count": 2,
      "metadata": {
        "colab": {
          "base_uri": "https://localhost:8080/"
        },
        "id": "TLPeho_PRgNP",
        "outputId": "a23b33a0-ab5e-431e-c646-62f8680af969"
      },
      "outputs": [
        {
          "output_type": "stream",
          "name": "stdout",
          "text": [
            "Looking in indexes: https://pypi.org/simple, https://us-python.pkg.dev/colab-wheels/public/simple/\n",
            "Collecting extinction\n",
            "  Downloading extinction-0.4.6-cp37-cp37m-manylinux_2_5_x86_64.manylinux1_x86_64.manylinux_2_12_x86_64.manylinux2010_x86_64.whl (418 kB)\n",
            "\u001b[K     |████████████████████████████████| 418 kB 16.8 MB/s \n",
            "\u001b[?25hRequirement already satisfied: numpy>=1.13.3 in /usr/local/lib/python3.7/dist-packages (from extinction) (1.21.6)\n",
            "Installing collected packages: extinction\n",
            "Successfully installed extinction-0.4.6\n"
          ]
        }
      ],
      "source": [
        "!pip install extinction"
      ]
    },
    {
      "cell_type": "code",
      "source": [
        "!pip install corner"
      ],
      "metadata": {
        "colab": {
          "base_uri": "https://localhost:8080/"
        },
        "id": "u-aOtXYMeTcO",
        "outputId": "a5fffcee-ffaf-4f26-8935-f46cb0dae61f"
      },
      "execution_count": 3,
      "outputs": [
        {
          "output_type": "stream",
          "name": "stdout",
          "text": [
            "Looking in indexes: https://pypi.org/simple, https://us-python.pkg.dev/colab-wheels/public/simple/\n",
            "Collecting corner\n",
            "  Downloading corner-2.2.1-py3-none-any.whl (15 kB)\n",
            "Requirement already satisfied: matplotlib>=2.1 in /usr/local/lib/python3.7/dist-packages (from corner) (3.2.2)\n",
            "Requirement already satisfied: python-dateutil>=2.1 in /usr/local/lib/python3.7/dist-packages (from matplotlib>=2.1->corner) (2.8.2)\n",
            "Requirement already satisfied: pyparsing!=2.0.4,!=2.1.2,!=2.1.6,>=2.0.1 in /usr/local/lib/python3.7/dist-packages (from matplotlib>=2.1->corner) (3.0.9)\n",
            "Requirement already satisfied: numpy>=1.11 in /usr/local/lib/python3.7/dist-packages (from matplotlib>=2.1->corner) (1.21.6)\n",
            "Requirement already satisfied: cycler>=0.10 in /usr/local/lib/python3.7/dist-packages (from matplotlib>=2.1->corner) (0.11.0)\n",
            "Requirement already satisfied: kiwisolver>=1.0.1 in /usr/local/lib/python3.7/dist-packages (from matplotlib>=2.1->corner) (1.4.2)\n",
            "Requirement already satisfied: typing-extensions in /usr/local/lib/python3.7/dist-packages (from kiwisolver>=1.0.1->matplotlib>=2.1->corner) (4.2.0)\n",
            "Requirement already satisfied: six>=1.5 in /usr/local/lib/python3.7/dist-packages (from python-dateutil>=2.1->matplotlib>=2.1->corner) (1.15.0)\n",
            "Installing collected packages: corner\n",
            "Successfully installed corner-2.2.1\n"
          ]
        }
      ]
    },
    {
      "cell_type": "code",
      "execution_count": 4,
      "metadata": {
        "id": "9xkM4Rl_RQdX"
      },
      "outputs": [],
      "source": [
        "import logging\n",
        "import os\n",
        "\n",
        "import torch\n",
        "import numpy as np\n",
        "import pandas as pd\n",
        "import seaborn as sns\n",
        "import matplotlib.pyplot as plt\n",
        "import matplotlib.lines as mlines\n",
        "import matplotlib.colors as colors\n",
        "\n",
        "import corner\n",
        "import time as measure_time\n",
        "import os\n",
        "\n",
        "import pyro\n",
        "\n",
        "import pyro.distributions as dist\n",
        "import pyro.distributions.constraints as constraints\n",
        "from pyro.infer import SVI, Trace_ELBO,Predictive\n",
        "from pyro.optim import Adam\n",
        "\n",
        "from scipy.interpolate import interp1d\n",
        "import h5py\n",
        "import extinction\n",
        "\n",
        "from astropy.cosmology import FlatLambdaCDM\n",
        "\n",
        "from spline_hsiao_fns import *"
      ]
    },
    {
      "cell_type": "markdown",
      "metadata": {
        "id": "syqWBFKbDk8B"
      },
      "source": [
        "##Get constants from files"
      ]
    },
    {
      "cell_type": "code",
      "execution_count": 5,
      "metadata": {
        "id": "AlhMMde4mIBy"
      },
      "outputs": [],
      "source": [
        "W0 = np.loadtxt(\"W0.txt\")\n",
        "W1 = np.loadtxt(\"W1.txt\")\n",
        "time_knots = np.loadtxt(\"tau_knots.txt\")\n",
        "wavelength_knots = np.loadtxt(\"l_knots.txt\")\n",
        "L_sigma_epsilon = np.loadtxt(\"L_Sigma_epsilon.txt\")\n",
        "M0, sigma0, rv, tauA = np.loadtxt(\"M0_sigma0_RV_tauA.txt\")"
      ]
    },
    {
      "cell_type": "code",
      "execution_count": 6,
      "metadata": {
        "id": "vdSkGKgr4S5R"
      },
      "outputs": [],
      "source": [
        "g_wavelengths, _, g_norm_throughput = np.loadtxt(\"g_PS1.txt\", skiprows = 2, unpack = True)\n",
        "r_wavelengths, _, r_norm_throughput = np.loadtxt(\"r_PS1.txt\", skiprows = 2, unpack = True)\n",
        "i_wavelengths, _, i_norm_throughput = np.loadtxt(\"i_PS1.txt\", skiprows = 2, unpack = True)\n",
        "z_wavelengths, _, z_norm_throughput = np.loadtxt(\"z_PS1.txt\", skiprows = 2, unpack = True)"
      ]
    },
    {
      "cell_type": "markdown",
      "source": [
        "Read in metadata for Foundation dataset"
      ],
      "metadata": {
        "id": "JAD8DDVJEfti"
      }
    },
    {
      "cell_type": "code",
      "source": [
        "meta = pd.read_csv(\"meta.txt\", sep='\\s+', index_col = False, names = ['SNID','PEAKMJD','MWEBV','REDSHIFT_HELIO','REDSHIFT_CMB','REDSHIFT_CMB_ERR'], skiprows = 2)"
      ],
      "metadata": {
        "id": "yvZvm6TUzyZ7"
      },
      "execution_count": 10,
      "outputs": []
    },
    {
      "cell_type": "code",
      "source": [
        "tmax_dict = {}\n",
        "mwebv_dict = {}\n",
        "z_helio_dict = {}\n",
        "z_cmb_dict = {}\n",
        "for index, row in meta.iterrows():\n",
        "  name = row['SNID']\n",
        "  tmax = row['PEAKMJD']\n",
        "  mwebv = row['MWEBV']\n",
        "  z_helio = row['REDSHIFT_HELIO']\n",
        "  z_cmb = row['REDSHIFT_CMB']\n",
        "  tmax_dict[name] = tmax\n",
        "  mwebv_dict[name] = mwebv\n",
        "  z_helio_dict[name] = z_helio\n",
        "  z_cmb_dict[name] = z_cmb"
      ],
      "metadata": {
        "id": "5S2mGH9i8oR8"
      },
      "execution_count": 11,
      "outputs": []
    },
    {
      "cell_type": "code",
      "source": [
        "def get_fluxes_from_file(filename, tmax, z_helio):\n",
        "  df = pd.read_csv(filename, sep=\" \", header = 0, index_col = False, names = ['MJD', \"FLT\", 'FLUXCAL', 'FLUXCALERR', 'MAG', 'MAGERR'])\n",
        "  df = df.dropna()\n",
        "\n",
        "  # Remove time points outside of [-10., 40.]\n",
        "  df['adj_time'] = (df.MJD - tmax) / (1 + z_helio)\n",
        "  mask = (df['adj_time'] < 40.) & (df['adj_time'] > -10.0)\n",
        "  df = df[mask]\n",
        "\n",
        "  # Separate based on bands\n",
        "  g_time = df.adj_time[df.FLT=='g'].values\n",
        "  r_time = df.adj_time[df.FLT=='r'].values\n",
        "  i_time = df.adj_time[df.FLT=='i'].values\n",
        "  z_time = df.adj_time[df.FLT=='z'].values\n",
        "\n",
        "  g_flux = df.FLUXCAL[df.FLT=='g'].values\n",
        "  r_flux = df.FLUXCAL[df.FLT=='r'].values\n",
        "  i_flux = df.FLUXCAL[df.FLT=='i'].values\n",
        "  z_flux = df.FLUXCAL[df.FLT=='z'].values\n",
        "\n",
        "  g_fluxerr = df.FLUXCALERR[df.FLT=='g'].values\n",
        "  r_fluxerr = df.FLUXCALERR[df.FLT=='r'].values\n",
        "  i_fluxerr = df.FLUXCALERR[df.FLT=='i'].values\n",
        "  z_fluxerr = df.FLUXCALERR[df.FLT=='z'].values\n",
        "\n",
        "  times_dict = {'g':g_time, 'r':r_time, 'i':i_time, 'z':z_time}\n",
        "\n",
        "  observed_fluxes = [(torch.as_tensor(g_flux), torch.as_tensor(r_flux), torch.as_tensor(i_flux), torch.as_tensor(z_flux))]\n",
        "\n",
        "  flux_errors = [(torch.as_tensor(g_fluxerr), torch.as_tensor(r_fluxerr), torch.as_tensor(i_fluxerr), torch.as_tensor(z_fluxerr))]\n",
        "\n",
        "  return observed_fluxes, flux_errors, times_dict"
      ],
      "metadata": {
        "id": "2LoY4Y6-9tb8"
      },
      "execution_count": 12,
      "outputs": []
    },
    {
      "cell_type": "code",
      "source": [
        "ZPT = 27.5\n",
        "M0 = -19.5\n",
        "gamma = np.log(10) / 2.5\n",
        "\n",
        "hsiao_phase, hsiao_wave, hsiao_flux = read_model_grid()\n",
        "\n",
        "bands = ['g', 'r', 'i', 'z']\n",
        "wavelengths_dict = {'g':g_wavelengths, 'r':r_wavelengths, 'i':i_wavelengths, 'z':z_wavelengths}\n",
        "norm_throughput_dict = {'g':g_norm_throughput, 'r':r_norm_throughput, 'i':i_norm_throughput, 'z':z_norm_throughput}\n",
        "eps_cov = torch.as_tensor(np.matmul(L_sigma_epsilon, L_sigma_epsilon.T), dtype = torch.float)"
      ],
      "metadata": {
        "id": "8Ex7Js7QG110"
      },
      "execution_count": 13,
      "outputs": []
    },
    {
      "cell_type": "markdown",
      "metadata": {
        "id": "TqpkG4FUH6jF"
      },
      "source": [
        "Things we can pre-calculate / helper functions\n",
        "---\n",
        "\n"
      ]
    },
    {
      "cell_type": "code",
      "execution_count": 14,
      "metadata": {
        "id": "d3FwBBvNNMUe"
      },
      "outputs": [],
      "source": [
        "def get_lambda_int_for_band(band_wavelengths, z):\n",
        "  source_wavelengths = band_wavelengths / (1 + z)\n",
        "  return np.linspace(np.min(source_wavelengths), np.max(source_wavelengths), 150)"
      ]
    },
    {
      "cell_type": "code",
      "source": [
        "def calculate_band_dependent_stuff(times_dict, z_helio):\n",
        "  band_Jl = {}\n",
        "  band_h = {}\n",
        "  band_Jt = {}\n",
        "  band_xis_matrix = {}\n",
        "  band_S0 = {}  \n",
        "\n",
        "  for band in bands:\n",
        "    # Calculate Jt\n",
        "    times_to_interpolate = times_dict[band]\n",
        "    Jt = spline_coeffs_irr(times_to_interpolate, time_knots, invKD_irr(time_knots))\n",
        "    band_Jt[band] = Jt\n",
        "\n",
        "    # Calculate wavelengths to interpolate\n",
        "    band_wavelengths = wavelengths_dict[band]\n",
        "    wavelengths_to_interpolate = get_lambda_int_for_band(band_wavelengths, z = z_helio)\n",
        "\n",
        "    # Calculate Jl (J matrix for wavelengths)\n",
        "    Jl = spline_coeffs_irr(wavelengths_to_interpolate, wavelength_knots, invKD_irr(wavelength_knots))\n",
        "    band_Jl[band] = Jl\n",
        "\n",
        "    # Calculate xis matrix\n",
        "    xis = extinction.fitzpatrick99(wavelengths_to_interpolate, 1, rv)\n",
        "    xis_matrix = np.tile(xis, (len(times_to_interpolate),1)).T\n",
        "    band_xis_matrix[band] = xis_matrix\n",
        "\n",
        "    # Interpolate throughput wavelengths\n",
        "    band_norm_throughput = norm_throughput_dict[band]\n",
        "    throughput_interpolator = interp1d(band_wavelengths, band_norm_throughput)\n",
        "    b = throughput_interpolator([band_wavelengths[0]] + list(wavelengths_to_interpolate[1:-1] * (1 + z_helio)) + [band_wavelengths[-1]])\n",
        "\n",
        "    # Calculate S0 matrix\n",
        "    S0 = np.zeros((len(wavelengths_to_interpolate), len(times_to_interpolate)))\n",
        "    for i, wavelength in enumerate(wavelengths_to_interpolate):\n",
        "      for j, time_point in enumerate(times_to_interpolate):\n",
        "        S0[i][j] = interpolate_hsiao(time_point, wavelength, hsiao_phase, hsiao_wave, hsiao_flux)\n",
        "    band_S0[band] = S0\n",
        "\n",
        "    # Calculate h\n",
        "    xis_obs = extinction.fitzpatrick99(wavelengths_to_interpolate*(1 + z_helio), Av_obs, 3.1)\n",
        "    dLambda = wavelengths_to_interpolate[1] - wavelengths_to_interpolate[0]\n",
        "    h = (1 + z_helio) * dLambda * b * wavelengths_to_interpolate * np.exp(-gamma * xis_obs)\n",
        "    band_h[band] = h\n",
        "\n",
        "  return band_Jt, band_Jl, band_xis_matrix, band_S0, band_h"
      ],
      "metadata": {
        "id": "C7xyhI47NfCc"
      },
      "execution_count": 15,
      "outputs": []
    },
    {
      "cell_type": "markdown",
      "source": [
        "## Define model"
      ],
      "metadata": {
        "id": "VoXukiwhO1bd"
      }
    },
    {
      "cell_type": "code",
      "source": [
        "def model_vi_with_params(obs, z_cmb, band_Jl, band_Jt, band_xis_matrix, band_S0, band_h, flux_errors):\n",
        "  # epsilon_interior = pyro.sample(\"eps_int\", dist.MultivariateNormal(torch.zeros(len(eps_cov)), covariance_matrix = eps_cov))\n",
        "\n",
        "  nu = pyro.sample(\"nu\", dist.MultivariateNormal(torch.zeros(len(eps_cov)), covariance_matrix = torch.eye(len(eps_cov))))\n",
        "  # nu = torch.zeros(54)\n",
        "  epsilon_interior = torch.matmul(torch.as_tensor(L_sigma_epsilon, dtype = torch.float), nu)\n",
        "  # print(epsilon_interior)\n",
        "\n",
        "  # theta = pyro.sample(\"theta\", dist.Uniform(low=-1.49, high=2.77))\n",
        "  theta = pyro.sample(\"theta\", dist.Normal(0., 1.0))\n",
        "  # theta = torch.as_tensor(0.03430605)\n",
        "\n",
        "  # theta = torch.as_tensor(-0.9835187)\n",
        "  cosmo = FlatLambdaCDM(H0 = 73.24, Om0 = 0.28)\n",
        "  # mu_s = pyro.sample(\"mu_s\", dist.Normal(cosmo.distmod(z_helio).value, 10.)) ## fix this later\n",
        "  mu_s = pyro.sample(\"mu_s\", dist.Normal(cosmo.distmod(z_cmb).value, 10.)) ## fix this later\n",
        "  # mu_s = torch.as_tensor(37.248927127193724)\n",
        "\n",
        "  # dMs = pyro.sample(\"Ms\", dist.Normal(torch.tensor(0.), torch.tensor(sigma0)))\n",
        "  dMs = torch.tensor(0.)\n",
        "  Av = pyro.sample(\"Av\", dist.Exponential(1 / 0.252))\n",
        "  # Av = torch.tensor(7.2387767)\n",
        "  # Av = pyro.sample(\"Av\", dist.Normal(0.27, 1.))\n",
        "\n",
        "  epsilon = torch.zeros(W0.shape)   ## populate epsilon matrix\n",
        "  epsilon[1:-1] = torch.transpose(torch.reshape(epsilon_interior, (6,9)), 0, 1)\n",
        "\n",
        "  W = torch.as_tensor(W0) + theta*torch.as_tensor(W1) + epsilon\n",
        "\n",
        "  generated_fluxes = []\n",
        "\n",
        "  for band in bands:\n",
        "    Jl = band_Jl[band]\n",
        "    S0 = band_S0[band]\n",
        "    xis_matrix = band_xis_matrix[band]\n",
        "    h = band_h[band]\n",
        "    Jt = band_Jt[band]\n",
        "\n",
        "    JlWJt = torch.matmul(torch.as_tensor(Jl), torch.matmul(W, torch.as_tensor(Jt.T)))\n",
        "\n",
        "    Stilde = torch.as_tensor(S0) * torch.exp(-gamma * (JlWJt + Av * torch.as_tensor(xis_matrix)))\n",
        "\n",
        "    f = 10**(0.4 * (torch.as_tensor(ZPT) - mu_s - torch.as_tensor(M0) - dMs)) * torch.matmul(torch.as_tensor(h), torch.as_tensor(Stilde))\n",
        "    generated_fluxes.append(f)\n",
        "\n",
        "  # generated_fluxes = torch.stack(generated_fluxes)\n",
        "  # print(generated_fluxes)\n",
        "  \n",
        "  if obs is not None:\n",
        "    # for i in range(len(bands)):\n",
        "    for i in pyro.plate(\"bands\", len(bands)):\n",
        "      # print(i)\n",
        "      with pyro.plate(\"observations\" + str(bands[i])):\n",
        "        # print(len(generated_fluxes[i]))\n",
        "        # for j in range(len(generated_fluxes[i])):\n",
        "          pyro.sample(\"flux\" + str(bands[i]), dist.Normal(generated_fluxes[i], flux_errors[0][i]), obs = obs[0][i])\n",
        "          # print(obs[0][i][j])\n",
        "        # print(generated_fluxes[i])"
      ],
      "metadata": {
        "id": "IB48Hgc2O0wh"
      },
      "execution_count": 16,
      "outputs": []
    },
    {
      "cell_type": "code",
      "source": [
        "def train_with_params(model, guide, obs, z_cmb, band_Jl, band_Jt, band_xis_matrix, band_S0, band_h, flux_errors, lr=0.01, n_steps=5000, verbose= False):\n",
        "  pyro.get_param_store().clear()\n",
        "  adam_params = {\"lr\": lr, \"betas\": (0.95, 0.999)}\n",
        "  # adam = pyro.optim.Adam({\"lr\": 0.05}, {\"clip_norm\": 10.0})\n",
        "  adam = pyro.optim.ClippedAdam(adam_params)\n",
        "  svi = SVI(model, guide, adam, loss=Trace_ELBO())\n",
        "  losses = []\n",
        "\n",
        "  for step in range(n_steps):\n",
        "      loss = svi.step(obs, z_cmb, band_Jl, band_Jt, band_xis_matrix, band_S0, band_h, flux_errors)\n",
        "      losses.append(loss)\n",
        "      if verbose and step % 500 == 0:\n",
        "          print('[iter {}]  loss: {:.4f}'.format(step, loss))\n",
        "          ## if it hasn't decreased in 3 steps, end fitting\n",
        "          # if step > 2000:\n",
        "          #  if losses_every_500[-1] >= losses_every_500[-2] and losses_every_500[-2] >= losses_every_500[-3]:\n",
        "          #   break\n",
        "  return losses"
      ],
      "metadata": {
        "id": "mrugVxrLPsHa"
      },
      "execution_count": 17,
      "outputs": []
    },
    {
      "cell_type": "markdown",
      "source": [
        "## Iterate over all supernovae"
      ],
      "metadata": {
        "id": "aAwoI44nJ6KJ"
      }
    },
    {
      "cell_type": "code",
      "source": [
        "vi_loc = {}\n",
        "vi_scale_tril = {}\n",
        "laplace_vi_loc = {}\n",
        "laplace_vi_scale_tril = {}\n",
        "\n",
        "# Iterate through all supernovas in dataset\n",
        "start_time = measure_time.time()\n",
        "\n",
        "for sn in meta.SNID.values:\n",
        "  print(sn)\n",
        "\n",
        "  tmax = tmax_dict[sn]\n",
        "  z_helio = z_helio_dict[sn]\n",
        "  EBV_MW = mwebv_dict[sn]\n",
        "  z_cmb = z_cmb_dict[sn]\n",
        "\n",
        "  Av_obs = EBV_MW * 3.1\n",
        "  observed_fluxes, flux_errors, times_dict = get_fluxes_from_file(sn + \".dat\", tmax, z_helio)\n",
        "\n",
        "  # Calculate band-dependent quantities (Jl, Jt, xis, S0, etc.)\n",
        "  band_Jt, band_Jl, band_xis_matrix, band_S0, band_h = calculate_band_dependent_stuff(times_dict, z_helio)\n",
        "\n",
        "  try:\n",
        "    # autoguide_vi = pyro.infer.autoguide.AutoMultivariateNormal(model_vi_with_params, \n",
        "    #                                                           init_loc_fn = pyro.infer.autoguide.initialization.init_to_sample(), \n",
        "    #                                                           init_scale = 1.)\n",
        "    \n",
        "    # # Fit VI Model\n",
        "    # losses = train_with_params(model_vi_with_params, autoguide_vi, observed_fluxes, z_cmb, \n",
        "    #               band_Jl, band_Jt, band_xis_matrix, band_S0, band_h, flux_errors, lr=0.01, n_steps=5000)\n",
        "    # vi_loc[sn] = autoguide_vi.get_posterior().loc.detach().numpy()\n",
        "    # vi_scale_tril[sn] = autoguide_vi.get_posterior().scale_tril.detach().numpy()\n",
        "\n",
        "    # np.save(\"vi_loc.npy\", vi_loc)\n",
        "    # np.save(\"vi_scale_tril.npy\", vi_scale_tril)\n",
        "\n",
        "\n",
        "    # Fit Laplace Approximation\n",
        "    autoguide_laplace = pyro.infer.autoguide.AutoLaplaceApproximation(model_vi_with_params)\n",
        "    start_time = measure_time.time()\n",
        "    losses = train_with_params(model_vi_with_params, autoguide_laplace, observed_fluxes, z_cmb, \n",
        "                  band_Jl, band_Jt, band_xis_matrix, band_S0, band_h, flux_errors, n_steps=3000)\n",
        "\n",
        "    # Fit VI based on Laplace Approximation\n",
        "    new_laplace_approx_guide = autoguide_laplace.laplace_approximation(observed_fluxes, z_cmb, \n",
        "                  band_Jl, band_Jt, band_xis_matrix, band_S0, band_h, flux_errors,)\n",
        "    losses = train_with_params(model_vi_with_params, new_laplace_approx_guide, observed_fluxes, z_cmb, \n",
        "                  band_Jl, band_Jt, band_xis_matrix, band_S0, band_h, flux_errors, n_steps=5000)\n",
        "    laplace_vi_loc[sn] = new_laplace_approx_guide.get_posterior().loc.detach().numpy()\n",
        "    laplace_vi_scale_tril[sn] = new_laplace_approx_guide.get_posterior().scale_tril.detach().numpy()\n",
        "\n",
        "\n",
        "    np.save(\"laplace_vi_loc_redo.npy\", laplace_vi_loc)\n",
        "    np.save(\"laplace_vi_scale_tril_redo.npy\", laplace_vi_scale_tril)\n",
        "\n",
        "  except:\n",
        "    print(\"trying again for\", sn)\n",
        "    try:\n",
        "      # Fit Laplace Approximation\n",
        "      autoguide_laplace = pyro.infer.autoguide.AutoLaplaceApproximation(model_vi_with_params)\n",
        "      start_time = measure_time.time()\n",
        "      losses = train_with_params(model_vi_with_params, autoguide_laplace, observed_fluxes, z_cmb, \n",
        "                    band_Jl, band_Jt, band_xis_matrix, band_S0, band_h, flux_errors, n_steps=3000)\n",
        "\n",
        "      # Fit VI based on Laplace Approximation\n",
        "      new_laplace_approx_guide = autoguide_laplace.laplace_approximation(observed_fluxes, z_cmb, \n",
        "                    band_Jl, band_Jt, band_xis_matrix, band_S0, band_h, flux_errors,)\n",
        "      losses = train_with_params(model_vi_with_params, new_laplace_approx_guide, observed_fluxes, z_cmb, \n",
        "                    band_Jl, band_Jt, band_xis_matrix, band_S0, band_h, flux_errors, n_steps=5000)\n",
        "      laplace_vi_loc[sn] = new_laplace_approx_guide.get_posterior().loc.detach().numpy()\n",
        "      laplace_vi_scale_tril[sn] = new_laplace_approx_guide.get_posterior().scale_tril.detach().numpy()\n",
        "\n",
        "\n",
        "      np.save(\"laplace_vi_loc_redo.npy\", laplace_vi_loc)\n",
        "      np.save(\"laplace_vi_scale_tril_redo.npy\", laplace_vi_scale_tril)\n",
        "    except:\n",
        "      print(\"Fitting did not work for\", sn)\n",
        "\n",
        "end_time = measure_time.time()\n",
        "print(\"Time:\", end_time - start_time, \"seconds\")\n",
        "\n"
      ],
      "metadata": {
        "colab": {
          "base_uri": "https://localhost:8080/"
        },
        "id": "KMmLoGPgJ5r_",
        "outputId": "b4bbec4f-7f65-4ffb-a026-5937d043d385"
      },
      "execution_count": 15,
      "outputs": [
        {
          "output_type": "stream",
          "name": "stdout",
          "text": [
            "2016W\n",
            "2016afk\n",
            "ASASSN-15bc\n",
            "ASASSN-15fa\n",
            "ASASSN-15fs\n",
            "ASASSN-15go\n",
            "ASASSN-15hg\n",
            "ASASSN-15il\n",
            "ASASSN-15jl\n",
            "ASASSN-15jt\n",
            "ASASSN-15kx\n",
            "ASASSN-15la\n",
            "ASASSN-15lg\n",
            "ASASSN-15lu\n",
            "ASASSN-15mf\n",
            "ASASSN-15mg\n",
            "ASASSN-15mi\n",
            "ASASSN-15np\n",
            "ASASSN-15nq\n",
            "ASASSN-15nr\n",
            "ASASSN-15od\n",
            "trying again for ASASSN-15od\n",
            "ASASSN-15oh\n",
            "ASASSN-15pm\n",
            "ASASSN-15pn\n",
            "ASASSN-15pr\n",
            "ASASSN-15sf\n",
            "ASASSN-15ss\n",
            "ASASSN-15tg\n",
            "ASASSN-15ti\n",
            "ASASSN-15tz\n",
            "ASASSN-15uu\n",
            "ASASSN-15uv\n",
            "ASASSN-15uw\n",
            "ASASSN-16ad\n",
            "ASASSN-16aj\n",
            "ASASSN-16av\n",
            "ASASSN-16ay\n",
            "ASASSN-16bc\n",
            "ASASSN-16bq\n",
            "ASASSN-16br\n",
            "ASASSN-16ch\n",
            "ASASSN-16cs\n",
            "ASASSN-16ct\n",
            "ASASSN-16db\n",
            "ASASSN-16dw\n",
            "ASASSN-16em\n",
            "ASASSN-16fo\n",
            "ASASSN-16fs\n",
            "ASASSN-16hc\n",
            "ASASSN-16hr\n",
            "ASASSN-16hz\n",
            "ASASSN-16ip\n",
            "ASASSN-16lg\n",
            "ASASSN-16oz\n",
            "trying again for ASASSN-16oz\n",
            "ASASSN-17aj\n",
            "ASASSN-17at\n",
            "ASASSN-17bs\n",
            "ASASSN-17co\n",
            "ASASSN-17eb\n",
            "AT2016aj\n",
            "AT2016bln\n",
            "trying again for AT2016bln\n",
            "Fitting did not work for AT2016bln\n",
            "AT2016cor\n",
            "AT2016cvv\n",
            "AT2016cvw\n",
            "AT2016cyt\n",
            "trying again for AT2016cyt\n",
            "Fitting did not work for AT2016cyt\n",
            "AT2016eoa\n",
            "AT2016ews\n",
            "AT2016fbk\n",
            "AT2016gmg\n",
            "AT2016gsu\n",
            "AT2016hns\n",
            "AT2016htm\n",
            "AT2016htn\n",
            "AT2017cfb\n",
            "trying again for AT2017cfb\n",
            "AT2017cfc\n",
            "AT2017lm\n",
            "AT2017ns\n",
            "AT2017oz\n",
            "AT2017po\n",
            "AT2017wb\n",
            "AT2017yk\n",
            "AT2017zd\n",
            "ATLAS16bwu\n",
            "ATLAS16cpu\n",
            "ATLAS16cxr\n",
            "ATLAS16dpb\n",
            "ATLAS16dqf\n",
            "ATLAS17ajn\n",
            "ATLAS17ajs\n",
            "ATLAS17axb\n",
            "ATLAS17bas\n",
            "Gaia16acv\n",
            "Gaia16aki\n",
            "Gaia16bba\n",
            "MASTERJ0134\n",
            "PS15ahs\n",
            "PS15aii\n",
            "PS15atx\n",
            "PS15bbn\n",
            "trying again for PS15bbn\n",
            "PS15bdr\n",
            "PS15bif\n",
            "PS15bjg\n",
            "PS15brr\n",
            "PS15bsq\n",
            "PS15bzz\n",
            "PS15cku\n",
            "trying again for PS15cku\n",
            "PS15cms\n",
            "PS15coh\n",
            "PS15cwx\n",
            "trying again for PS15cwx\n",
            "PS15cze\n",
            "PS15mt\n",
            "PS16aer\n",
            "PS16axi\n",
            "PS16ayd\n",
            "PS16bby\n",
            "PS16bnz\n",
            "PS16ccn\n",
            "PS16cqa\n",
            "PS16cvc\n",
            "PS16dnp\n",
            "PS16el\n",
            "PS16em\n",
            "PS16evk\n",
            "PS16fa\n",
            "PS16fbb\n",
            "PS16n\n",
            "PS17akj\n",
            "PS17bii\n",
            "PS17tn\n",
            "PSNJ0107203\n",
            "PSNJ0153424\n",
            "PSNJ0252467\n",
            "PSNJ0859349\n",
            "PSNJ1204051\n",
            "PSNJ1602512\n",
            "PSNJ2352371\n",
            "PTSS-16efw\n",
            "PTSS17-niq\n",
            "SN2016aqb\n",
            "SN2016ayg\n",
            "SN2016esh\n",
            "SN2016gfr\n",
            "SN2016gmb\n",
            "SN2016hhv\n",
            "SN2016hpx\n",
            "SN2016ixf\n",
            "SN2017cii\n",
            "SN2017ciy\n",
            "SN2017cjv\n",
            "SN2017ckx\n",
            "SN2017coa\n",
            "SN2017cpu\n",
            "SN2017hn\n",
            "SN2017jl\n",
            "SN2017mf\n",
            "SN2017ms\n",
            "iPTF16auf\n",
            "Time: 44.496010303497314 seconds\n"
          ]
        }
      ]
    },
    {
      "cell_type": "code",
      "source": [
        "laplace_loc_dict1 = np.load(\"laplace_vi_loc(3).npy\", allow_pickle = True).item()\n",
        "laplace_loc_dict2 = np.load(\"laplace_vi_loc.npy\", allow_pickle = True).item()\n",
        "laplace_loc_dict1.update(laplace_loc_dict2)\n",
        "print(len(list(laplace_loc_dict1.keys())))\n",
        "np.save(\"foundation_laplace_vi_loc.npy\", laplace_loc_dict1)"
      ],
      "metadata": {
        "colab": {
          "base_uri": "https://localhost:8080/"
        },
        "id": "b5Uvi4jPL4rX",
        "outputId": "fda27b02-c9eb-4cb8-f4db-ce2eb3aca0e8"
      },
      "execution_count": 34,
      "outputs": [
        {
          "output_type": "stream",
          "name": "stdout",
          "text": [
            "146\n"
          ]
        }
      ]
    },
    {
      "cell_type": "code",
      "source": [
        "laplace_scale_tril_dict1 = np.load(\"laplace_vi_scale_tril(4).npy\", allow_pickle = True).item()\n",
        "laplace_scale_tril_dict2 = np.load(\"laplace_vi_scale_tril.npy\", allow_pickle = True).item()\n",
        "laplace_scale_tril_dict1.update(laplace_scale_tril_dict2)\n",
        "print(len(list(laplace_scale_tril_dict1.keys())))\n",
        "np.save(\"foundation_laplace_vi_scale_tril.npy\", laplace_scale_tril_dict1)"
      ],
      "metadata": {
        "colab": {
          "base_uri": "https://localhost:8080/"
        },
        "id": "cJtZnd9qt7hH",
        "outputId": "59c36e57-6e5a-4199-db6e-4c8349748792"
      },
      "execution_count": 35,
      "outputs": [
        {
          "output_type": "stream",
          "name": "stdout",
          "text": [
            "146\n"
          ]
        }
      ]
    },
    {
      "cell_type": "code",
      "source": [
        "vi_scale_tril_dict1 = np.load(\"vi_scale_tril(4).npy\", allow_pickle = True).item()\n",
        "vi_scale_tril_dict2 = np.load(\"vi_scale_tril.npy\", allow_pickle = True).item()\n",
        "vi_scale_tril_dict1.update(vi_scale_tril_dict2)\n",
        "print(len(list(vi_scale_tril_dict1.keys())))\n",
        "np.save(\"foundation_vi_scale_tril.npy\", vi_scale_tril_dict1)"
      ],
      "metadata": {
        "colab": {
          "base_uri": "https://localhost:8080/"
        },
        "id": "u89fFiO0uHIH",
        "outputId": "cb07aabb-e630-4bf7-8622-bdc3df2f6454"
      },
      "execution_count": 36,
      "outputs": [
        {
          "output_type": "stream",
          "name": "stdout",
          "text": [
            "150\n"
          ]
        }
      ]
    },
    {
      "cell_type": "code",
      "source": [
        "vi_loc_dict1 = np.load(\"vi_loc(4).npy\", allow_pickle = True).item()\n",
        "vi_loc_dict2 = np.load(\"vi_loc.npy\", allow_pickle = True).item()\n",
        "vi_loc_dict1.update(vi_loc_dict2)\n",
        "print(len(list(vi_loc_dict1.keys())))\n",
        "np.save(\"foundation_vi_loc.npy\", vi_loc_dict1)"
      ],
      "metadata": {
        "colab": {
          "base_uri": "https://localhost:8080/"
        },
        "id": "KsWbNr8AuQYa",
        "outputId": "bbdd117c-c97c-4b52-ebed-344258487d79"
      },
      "execution_count": 37,
      "outputs": [
        {
          "output_type": "stream",
          "name": "stdout",
          "text": [
            "150\n"
          ]
        }
      ]
    },
    {
      "cell_type": "code",
      "source": [
        "np.load(\"foundation_vi_loc.npy\", allow_pickle = True).item()"
      ],
      "metadata": {
        "colab": {
          "base_uri": "https://localhost:8080/"
        },
        "id": "C4bs-KnAvCmK",
        "outputId": "0a916dee-09f3-4dee-96dd-8b9c790fad18"
      },
      "execution_count": 42,
      "outputs": [
        {
          "output_type": "execute_result",
          "data": {
            "text/plain": [
              "150"
            ]
          },
          "metadata": {},
          "execution_count": 42
        }
      ]
    },
    {
      "cell_type": "markdown",
      "source": [
        "## Make Hubble Diagram"
      ],
      "metadata": {
        "id": "sZYgCHXKwmq2"
      }
    },
    {
      "cell_type": "code",
      "source": [
        "vi_loc_dict = np.load(\"foundation_vi_loc.npy\", allow_pickle = True).item()\n",
        "laplace_vi_loc_dict = np.load(\"laplace_vi_loc_redo.npy\", allow_pickle = True).item()\n",
        "laplace_vi_scale_tril_dict = np.load(\"laplace_vi_scale_tril_redo.npy\", allow_pickle = True).item()\n",
        "vi_scale_tril_dict = np.load(\"foundation_vi_scale_tril.npy\", allow_pickle = True).item()"
      ],
      "metadata": {
        "id": "6qqGfPsIEcfA"
      },
      "execution_count": 21,
      "outputs": []
    },
    {
      "cell_type": "code",
      "source": [
        ""
      ],
      "metadata": {
        "id": "1zP1QyelBqo9"
      },
      "execution_count": 21,
      "outputs": []
    },
    {
      "cell_type": "code",
      "source": [
        "for sn in np.setdiff1d(meta.SNID.values, list(laplace_vi_loc_dict.keys())):\n",
        "  print(sn)\n",
        "\n",
        "  tmax = tmax_dict[sn]\n",
        "  z_helio = z_helio_dict[sn]\n",
        "  EBV_MW = mwebv_dict[sn]\n",
        "  z_cmb = z_cmb_dict[sn]\n",
        "\n",
        "  Av_obs = EBV_MW * 3.1\n",
        "  observed_fluxes, flux_errors, times_dict = get_fluxes_from_file(sn + \".dat\", tmax, z_helio)\n",
        "\n",
        "  # Calculate band-dependent quantities (Jl, Jt, xis, S0, etc.)\n",
        "  band_Jt, band_Jl, band_xis_matrix, band_S0, band_h = calculate_band_dependent_stuff(times_dict, z_helio)\n",
        "\n",
        "  # Fit Laplace Approximation\n",
        "  autoguide_laplace = pyro.infer.autoguide.AutoLaplaceApproximation(model_vi_with_params)\n",
        "  start_time = measure_time.time()\n",
        "  losses = train_with_params(model_vi_with_params, autoguide_laplace, observed_fluxes, z_cmb, \n",
        "                band_Jl, band_Jt, band_xis_matrix, band_S0, band_h, flux_errors, n_steps=3000)\n",
        "\n",
        "  # Fit VI based on Laplace Approximation\n",
        "  new_laplace_approx_guide = autoguide_laplace.laplace_approximation(observed_fluxes, z_cmb, \n",
        "                band_Jl, band_Jt, band_xis_matrix, band_S0, band_h, flux_errors,)\n",
        "  losses = train_with_params(model_vi_with_params, new_laplace_approx_guide, observed_fluxes, z_cmb, \n",
        "                band_Jl, band_Jt, band_xis_matrix, band_S0, band_h, flux_errors, n_steps=5000)\n",
        "  loc = new_laplace_approx_guide.get_posterior().loc.detach().numpy()\n",
        "  scale_tril = new_laplace_approx_guide.get_posterior().scale_tril.detach().numpy()\n"
      ],
      "metadata": {
        "colab": {
          "base_uri": "https://localhost:8080/",
          "height": 428
        },
        "id": "_U3wUERoWD74",
        "outputId": "6b2182b5-9e7e-466e-8a5e-cc55f2851584"
      },
      "execution_count": 43,
      "outputs": [
        {
          "output_type": "stream",
          "name": "stdout",
          "text": [
            "AT2016bln\n",
            "AT2016cyt\n"
          ]
        },
        {
          "output_type": "error",
          "ename": "_LinAlgError",
          "evalue": "ignored",
          "traceback": [
            "\u001b[0;31m---------------------------------------------------------------------------\u001b[0m",
            "\u001b[0;31m_LinAlgError\u001b[0m                              Traceback (most recent call last)",
            "\u001b[0;32m<ipython-input-43-80b3bd5ef585>\u001b[0m in \u001b[0;36m<module>\u001b[0;34m()\u001b[0m\n\u001b[1;32m     21\u001b[0m   \u001b[0;31m# Fit VI based on Laplace Approximation\u001b[0m\u001b[0;34m\u001b[0m\u001b[0;34m\u001b[0m\u001b[0;34m\u001b[0m\u001b[0m\n\u001b[1;32m     22\u001b[0m   new_laplace_approx_guide = autoguide_laplace.laplace_approximation(observed_fluxes, z_cmb, \n\u001b[0;32m---> 23\u001b[0;31m                 band_Jl, band_Jt, band_xis_matrix, band_S0, band_h, flux_errors,)\n\u001b[0m\u001b[1;32m     24\u001b[0m   losses = train_with_params(model_vi_with_params, new_laplace_approx_guide, observed_fluxes, z_cmb, \n\u001b[1;32m     25\u001b[0m                 band_Jl, band_Jt, band_xis_matrix, band_S0, band_h, flux_errors, n_steps=5000)\n",
            "\u001b[0;32m/usr/local/lib/python3.7/dist-packages/pyro/infer/autoguide/guides.py\u001b[0m in \u001b[0;36mlaplace_approximation\u001b[0;34m(self, *args, **kwargs)\u001b[0m\n\u001b[1;32m   1179\u001b[0m             \u001b[0mcov\u001b[0m \u001b[0;34m/=\u001b[0m \u001b[0mscale\u001b[0m\u001b[0;34m[\u001b[0m\u001b[0;34m:\u001b[0m\u001b[0;34m,\u001b[0m \u001b[0;32mNone\u001b[0m\u001b[0;34m]\u001b[0m\u001b[0;34m\u001b[0m\u001b[0;34m\u001b[0m\u001b[0m\n\u001b[1;32m   1180\u001b[0m             \u001b[0mcov\u001b[0m \u001b[0;34m/=\u001b[0m \u001b[0mscale\u001b[0m\u001b[0;34m[\u001b[0m\u001b[0;32mNone\u001b[0m\u001b[0;34m,\u001b[0m \u001b[0;34m:\u001b[0m\u001b[0;34m]\u001b[0m\u001b[0;34m\u001b[0m\u001b[0;34m\u001b[0m\u001b[0m\n\u001b[0;32m-> 1181\u001b[0;31m             \u001b[0mscale_tril\u001b[0m \u001b[0;34m=\u001b[0m \u001b[0mtorch\u001b[0m\u001b[0;34m.\u001b[0m\u001b[0mlinalg\u001b[0m\u001b[0;34m.\u001b[0m\u001b[0mcholesky\u001b[0m\u001b[0;34m(\u001b[0m\u001b[0mcov\u001b[0m\u001b[0;34m)\u001b[0m\u001b[0;34m\u001b[0m\u001b[0;34m\u001b[0m\u001b[0m\n\u001b[0m\u001b[1;32m   1182\u001b[0m \u001b[0;34m\u001b[0m\u001b[0m\n\u001b[1;32m   1183\u001b[0m         \u001b[0mgaussian_guide\u001b[0m \u001b[0;34m=\u001b[0m \u001b[0mAutoMultivariateNormal\u001b[0m\u001b[0;34m(\u001b[0m\u001b[0mself\u001b[0m\u001b[0;34m.\u001b[0m\u001b[0mmodel\u001b[0m\u001b[0;34m)\u001b[0m\u001b[0;34m\u001b[0m\u001b[0;34m\u001b[0m\u001b[0m\n",
            "\u001b[0;31m_LinAlgError\u001b[0m: torch.linalg_cholesky: The factorization could not be completed because the input is not positive-definite (the leading minor of order 10 is not positive-definite)."
          ]
        }
      ]
    },
    {
      "cell_type": "code",
      "source": [
        "vi_mus = []\n",
        "vi_vars = []\n",
        "laplace_vi_mus = []\n",
        "laplace_vi_vars = []\n",
        "\n",
        "vi_z_cmbs = []\n",
        "\n",
        "laplace_vi_z_cmbs = []\n",
        "\n",
        "\n",
        "for sn in list(laplace_vi_loc_dict.keys()):\n",
        "  try:\n",
        "    vi_mus.append(vi_loc_dict[sn][-2])\n",
        "    vi_scale_tril = vi_scale_tril_dict[sn]\n",
        "    # Calculate covariance matrix from scale_tril (sigma = LL^T)\n",
        "    vi_vars.append(np.matmul(vi_scale_tril, vi_scale_tril.T)[-2][-2])\n",
        "    vi_z_cmbs.append(z_cmb_dict[sn])\n",
        "  except:\n",
        "    pass\n",
        "\n",
        "  try:\n",
        "    laplace_vi_mus.append(laplace_vi_loc_dict[sn][-2])\n",
        "    laplace_vi_scale_tril = laplace_vi_scale_tril_dict[sn]\n",
        "    laplace_vi_vars.append(np.matmul(laplace_vi_scale_tril, laplace_vi_scale_tril.T)[-2][-2])\n",
        "    laplace_vi_z_cmbs.append(z_cmb_dict[sn])\n",
        "  except:\n",
        "    pass"
      ],
      "metadata": {
        "id": "eWh32nh8w-RS"
      },
      "execution_count": 23,
      "outputs": []
    },
    {
      "cell_type": "markdown",
      "source": [
        "VI Hubble diagram (I think some of them needed more training)"
      ],
      "metadata": {
        "id": "-DkQaPe7BECN"
      }
    },
    {
      "cell_type": "code",
      "source": [
        "linspace_z = np.linspace(0.01, 0.085)\n",
        "\n",
        "cosmo = FlatLambdaCDM(H0 = 73.24, Om0 = 0.28)\n",
        "cosmo_distmod_values = np.array([cosmo.distmod(z).value for z in linspace_z])\n",
        "\n",
        "plt.plot(vi_z_cmbs, vi_mus, 'o')\n",
        "plt.plot(linspace_z, cosmo_distmod_values)\n",
        "plt.errorbar(vi_z_cmbs, vi_mus, np.sqrt(vi_vars), linestyle = 'None', color = 'k')\n",
        "plt.xlabel(\"z\")\n",
        "plt.ylabel(\"d\")\n",
        "# plt.ylim(32, 39)"
      ],
      "metadata": {
        "colab": {
          "base_uri": "https://localhost:8080/",
          "height": 297
        },
        "id": "xlGdwmDayoQd",
        "outputId": "30167e30-9a4c-4793-d946-6afc54c78b83"
      },
      "execution_count": 24,
      "outputs": [
        {
          "output_type": "execute_result",
          "data": {
            "text/plain": [
              "Text(0, 0.5, 'd')"
            ]
          },
          "metadata": {},
          "execution_count": 24
        },
        {
          "output_type": "display_data",
          "data": {
            "text/plain": [
              "<Figure size 432x288 with 1 Axes>"
            ],
            "image/png": "[encoded data removed]"
          },
          "metadata": {
            "needs_background": "light"
          }
        }
      ]
    },
    {
      "cell_type": "markdown",
      "source": [
        "VI from Laplace Hubble Diagram"
      ],
      "metadata": {
        "id": "DYS4F0cmBH3D"
      }
    },
    {
      "cell_type": "code",
      "source": [
        "predictions = laplace_vi_mus\n",
        "targets = np.array([cosmo.distmod(z).value for z in laplace_vi_z_cmbs])\n",
        "\n",
        "rmse = np.sqrt(np.mean((predictions-targets)**2))\n",
        "print(rmse)"
      ],
      "metadata": {
        "colab": {
          "base_uri": "https://localhost:8080/"
        },
        "id": "ZbFCez_CTnMh",
        "outputId": "e92023b4-4515-4d9e-9b4c-04dcb5fda725"
      },
      "execution_count": 29,
      "outputs": [
        {
          "output_type": "stream",
          "name": "stdout",
          "text": [
            "0.13016658733873537\n"
          ]
        }
      ]
    },
    {
      "cell_type": "code",
      "source": [
        "f = plt.figure()\n",
        "plt.plot(laplace_vi_z_cmbs, laplace_vi_mus, 'o', color = (0.104,0.382,0.664))\n",
        "plt.plot(linspace_z, cosmo_distmod_values, color = 'k')\n",
        "plt.errorbar(laplace_vi_z_cmbs, laplace_vi_mus, np.sqrt(laplace_vi_vars), linestyle = 'None', color = 'k')\n",
        "plt.xlabel(\"Recession velocity\", fontsize =14)\n",
        "plt.ylabel(\"log(distance)\", fontsize = 14)\n",
        "plt.xticks(fontsize = 14)\n",
        "plt.yticks(fontsize = 14)\n",
        "plt.text(0.07, 34.3, \"Foundation DR1\", fontsize = 16, horizontalalignment = 'center')\n",
        "plt.text(0.07, 33.8, \"N = \" + str(len(laplace_vi_z_cmbs)), fontsize = 16, horizontalalignment = 'center')\n",
        "plt.text(0.07, 33.3, \"RMSE = \" + str(round(rmse,2)), fontsize = 16, horizontalalignment = 'center')\n",
        "f.savefig(\"HubbleDiagram.pdf\", bbox_inches = 'tight')\n",
        "# plt.title(\"Foundation dataset distances- VI initialized with Laplace\", fontsize = 12)"
      ],
      "metadata": {
        "colab": {
          "base_uri": "https://localhost:8080/",
          "height": 289
        },
        "id": "B5AHS8zzywIL",
        "outputId": "47fb2034-5714-42d7-991e-fc9fd860ff6d"
      },
      "execution_count": 30,
      "outputs": [
        {
          "output_type": "display_data",
          "data": {
            "text/plain": [
              "<Figure size 432x288 with 1 Axes>"
            ],
            "image/png": "[encoded data removed]"
          },
          "metadata": {
            "needs_background": "light"
          }
        }
      ]
    },
    {
      "cell_type": "code",
      "source": [
        "g = plt.figure()\n",
        "plt.plot(laplace_vi_z_cmbs, laplace_vi_mus - np.array([cosmo.distmod(z).value for z in laplace_vi_z_cmbs]), 'o',color = (0.104,0.382,0.664))\n",
        "\n",
        "plt.errorbar(laplace_vi_z_cmbs, laplace_vi_mus - np.array([cosmo.distmod(z).value for z in laplace_vi_z_cmbs]), np.sqrt(laplace_vi_vars), linestyle = 'None', color = 'k')\n",
        "\n",
        "\n",
        "sigma_pec = 150\n",
        "c = 300000\n",
        "\n",
        "sigma_envelope = np.array([(5 / (z * np.log(10))) * (sigma_pec / c) for z in linspace_z])\n",
        "\n",
        "plt.plot(linspace_z, sigma_envelope, marker = 'None', linestyle = 'dashed', color = 'k')\n",
        "plt.plot(linspace_z, -sigma_envelope, marker = 'None', linestyle = 'dashed', color = 'k')\n",
        "\n",
        "plt.axhline(0., color = 'k')\n",
        "\n",
        "plt.xlabel(\"z\", fontsize = 14)\n",
        "plt.ylabel(\"Hubble Residual\", fontsize = 14)\n",
        "# plt.ylim(-1, 1)\n",
        "# plt.title(\"Foundation dataset residuals- VI initialized with Laplace\", fontsize = 12)\n",
        "plt.xticks(fontsize = 14)\n",
        "plt.yticks(fontsize = 14)\n",
        "plt.show()\n",
        "g.savefig(\"HubbleResiduals.pdf\", bbox_inches = 'tight')"
      ],
      "metadata": {
        "colab": {
          "base_uri": "https://localhost:8080/",
          "height": 287
        },
        "id": "kJlu2rOCzPoV",
        "outputId": "597dcb4c-e27d-42c6-81d8-eb90dcea94ee"
      },
      "execution_count": 31,
      "outputs": [
        {
          "output_type": "display_data",
          "data": {
            "text/plain": [
              "<Figure size 432x288 with 1 Axes>"
            ],
            "image/png": "[encoded data removed]"
          },
          "metadata": {
            "needs_background": "light"
          }
        }
      ]
    },
    {
      "cell_type": "markdown",
      "source": [
        "Calculate RMSE"
      ],
      "metadata": {
        "id": "2r1-PuH1U4yg"
      }
    },
    {
      "cell_type": "code",
      "source": [
        "mu_residuals = []\n",
        "av_residuals = []\n",
        "theta_residuals = []\n",
        "\n",
        "mcmc_mus = []\n",
        "mcmc_av = []\n",
        "mcmc_theta = []\n",
        "for sn in list(laplace_vi_loc_dict.keys()):\n",
        "  #   vi_mus.append(vi_loc_dict[sn][-2])\n",
        "  # vi_scale_tril = vi_scale_tril_dict[sn]\n",
        "  # # Calculate covariance matrix from scale_tril (sigma = LL^T)\n",
        "  # vi_vars.append(np.matmul(vi_scale_tril, vi_scale_tril.T)[-2][-2])\n",
        "  # vi_z_cmbs.append(z_cmb_dict[sn])\n",
        "\n",
        "  estimated_dist = np.mean(np.load(sn + \"_chains_210610_135216.npy\", allow_pickle = True).item()['mu'])\n",
        "  estimated_av = np.mean(np.load(sn + \"_chains_210610_135216.npy\", allow_pickle = True).item()['AV'])\n",
        "  estimated_theta = np.mean(np.load(sn + \"_chains_210610_135216.npy\", allow_pickle = True).item()['theta'])\n",
        "\n",
        "  mcmc_mus.append(estimated_dist)\n",
        "  mcmc_av.append(estimated_av)\n",
        "  mcmc_theta.append(estimated_theta)\n",
        "\n",
        "  # print(estimated_dist)\n",
        "  # print(vi_loc_dict[sn][-2])\n",
        "  # plt.plot(laplace_vi_loc_dict[sn][-2], estimated_dist, 'bo')\n",
        "  plt.plot(laplace_vi_loc_dict[sn][-2], estimated_dist - laplace_vi_loc_dict[sn][-2], 'ro')\n",
        "  mu_residuals.append(estimated_dist - laplace_vi_loc_dict[sn][-2])\n",
        "  av_residuals.append(estimated_av - np.exp(laplace_vi_loc_dict[sn][-1]))\n",
        "  # print(laplace_vi_loc_dict[sn][-1])\n",
        "  theta_residuals.append(estimated_av - laplace_vi_loc_dict[sn][-3])\n",
        "\n",
        "\n",
        "\n",
        "# plt.plot(np.linspace(33,38), np.linspace(33, 38), color = 'tab:orange')\n",
        "plt.xlabel(\"VI distances\")\n",
        "# plt.ylabel(\"MCMC distances\")\n",
        "plt.ylabel(\"Residual\")\n",
        "plt.axhline(0)\n",
        "\n",
        "plt.show()"
      ],
      "metadata": {
        "colab": {
          "base_uri": "https://localhost:8080/",
          "height": 282
        },
        "id": "7t_vif-tF7q9",
        "outputId": "36a238d2-0dec-4185-d2ea-8de1d8297d2a"
      },
      "execution_count": 33,
      "outputs": [
        {
          "output_type": "display_data",
          "data": {
            "text/plain": [
              "<Figure size 432x288 with 1 Axes>"
            ],
            "image/png": "[encoded data removed]"
          },
          "metadata": {
            "needs_background": "light"
          }
        }
      ]
    },
    {
      "cell_type": "code",
      "source": [
        "np.mean(mu_residuals) / (np.std(mu_residuals) / np.sqrt(len(mu_residuals)))"
      ],
      "metadata": {
        "colab": {
          "base_uri": "https://localhost:8080/"
        },
        "id": "gGOHw89lJJ78",
        "outputId": "96ea9928-d775-4c38-e8a2-334539bf0a50"
      },
      "execution_count": 44,
      "outputs": [
        {
          "output_type": "execute_result",
          "data": {
            "text/plain": [
              "3.5257235708153103"
            ]
          },
          "metadata": {},
          "execution_count": 44
        }
      ]
    },
    {
      "cell_type": "code",
      "source": [
        "plt.plot(mcmc_av, av_residuals, 'o')\n",
        "plt.axhline(0, color = 'k')"
      ],
      "metadata": {
        "colab": {
          "base_uri": "https://localhost:8080/",
          "height": 283
        },
        "id": "dlG-5-0PPzxQ",
        "outputId": "a306b2fb-9f93-4ec2-c2d2-a7c9bd1103db"
      },
      "execution_count": 36,
      "outputs": [
        {
          "output_type": "execute_result",
          "data": {
            "text/plain": [
              "<matplotlib.lines.Line2D at 0x7f8be5358e90>"
            ]
          },
          "metadata": {},
          "execution_count": 36
        },
        {
          "output_type": "display_data",
          "data": {
            "text/plain": [
              "<Figure size 432x288 with 1 Axes>"
            ],
            "image/png": "[encoded data removed]"
          },
          "metadata": {
            "needs_background": "light"
          }
        }
      ]
    },
    {
      "cell_type": "code",
      "source": [
        "figure = corner.corner(np.vstack((np.array(mu_residuals), av_residuals, theta_residuals)).T, \n",
        "              plot_contours = False, plot_datapoints =  True, plot_density = False, \n",
        "              data_kwargs = {'color':'b', 'alpha':1, 'marker':'o'}, \n",
        "              labels = ['${\\\\mu}$ residuals', '${A_v}$ residuals', '${\\\\theta}$ residuals'],\n",
        "              label_kwargs = {'fontsize':16})\n",
        "plt.text(-6,65,\"All residuals are MCMC - VI\", fontsize = 16)\n",
        "figure.suptitle(\"Parameter residuals for Foundation dataset\", fontsize = 20)\n"
      ],
      "metadata": {
        "colab": {
          "base_uri": "https://localhost:8080/",
          "height": 575
        },
        "id": "m0Ns_B4HL_7C",
        "outputId": "ce395039-9e1e-47fb-b5b5-ff391ff58bb1"
      },
      "execution_count": 67,
      "outputs": [
        {
          "output_type": "execute_result",
          "data": {
            "text/plain": [
              "Text(0.5, 0.98, 'Parameter residuals for Foundation dataset')"
            ]
          },
          "metadata": {},
          "execution_count": 67
        },
        {
          "output_type": "display_data",
          "data": {
            "text/plain": [
              "<Figure size 547.2x547.2 with 9 Axes>"
            ],
            "image/png": "[encoded data removed]"
          },
          "metadata": {
            "needs_background": "light"
          }
        }
      ]
    },
    {
      "cell_type": "code",
      "source": [
        ""
      ],
      "metadata": {
        "id": "w6UpMi3gOi9b"
      },
      "execution_count": null,
      "outputs": []
    }
  ],
  "metadata": {
    "colab": {
      "name": "Foundation_Tensor_Fitting_BayeSN_Pyro.ipynb",
      "provenance": [],
      "collapsed_sections": []
    },
    "kernelspec": {
      "display_name": "Python 3",
      "name": "python3"
    },
    "language_info": {
      "name": "python"
    },
    "gpuClass": "standard"
  },
  "nbformat": 4,
  "nbformat_minor": 0
}